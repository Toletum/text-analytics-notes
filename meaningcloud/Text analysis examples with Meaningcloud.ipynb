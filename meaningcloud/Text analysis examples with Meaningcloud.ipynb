{
 "cells": [
  {
   "cell_type": "markdown",
   "metadata": {},
   "source": [
    "# Text analysis with MeaningCloud"
   ]
  },
  {
   "cell_type": "markdown",
   "metadata": {},
   "source": [
    "About MeaningCloud...."
   ]
  },
  {
   "cell_type": "markdown",
   "metadata": {},
   "source": [
    "A brief tour..."
   ]
  },
  {
   "cell_type": "markdown",
   "metadata": {},
   "source": [
    "How to get a license key?"
   ]
  },
  {
   "cell_type": "markdown",
   "metadata": {},
   "source": [
    "## Preparation\n",
    "\n",
    "We will use requests library to build API calls to different services \n",
    "\n",
    "[Requests homepage](http://docs.python-requests.org/en/latest/)\n"
   ]
  },
  {
   "cell_type": "code",
   "execution_count": 1,
   "metadata": {
    "collapsed": true
   },
   "outputs": [],
   "source": [
    "import requests"
   ]
  },
  {
   "cell_type": "code",
   "execution_count": 2,
   "metadata": {
    "collapsed": true
   },
   "outputs": [],
   "source": [
    "langid_api_endpoint = \"https://api.meaningcloud.com/lang-1.1\""
   ]
  },
  {
   "cell_type": "code",
   "execution_count": 3,
   "metadata": {
    "collapsed": false
   },
   "outputs": [],
   "source": [
    "r = requests.post(langid_api_endpoint) "
   ]
  },
  {
   "cell_type": "code",
   "execution_count": 4,
   "metadata": {
    "collapsed": false
   },
   "outputs": [
    {
     "data": {
      "text/plain": [
       "{u'status': {u'code': u'100', u'credits': u'0', u'msg': u'Operation denied'}}"
      ]
     },
     "execution_count": 4,
     "metadata": {},
     "output_type": "execute_result"
    }
   ],
   "source": [
    "r.json()"
   ]
  },
  {
   "cell_type": "markdown",
   "metadata": {},
   "source": [
    "## Language Identification"
   ]
  },
  {
   "cell_type": "code",
   "execution_count": 5,
   "metadata": {
    "collapsed": false
   },
   "outputs": [],
   "source": [
    "import requests\n",
    "\n",
    "\n",
    "document = \"\"\"Profits rise at Spanish bank BBVA\n",
    "Spain's second-largest bank, BBVA, has reported a 35% rise in quarterly profit thanks to higher income from its loans.\n",
    "BBVA said net profit for the April to June period was 1.56bn euros ($2.23bn; £1.35bn), compared with 1.16bn euros in the same period last year.\n",
    "The results were above analysts' forecasts of 1.3bn euros.\n",
    "A number of US and European banks have reported improved profits as financial markets have begun to recover from last year's turmoil.\n",
    "Earlier on Tuesday, German bank Deutsche Bank reported a 67% rise in quarterly profits, boosted by its investment banking arm\n",
    "BBVA, based in Bilbao, said net interest income rose 27% to 3.59 bn euros although lending remained steady at 335.6bn euros.\n",
    "The upbeat results boosted BBVA shares, which rose 3.5% to 10.60 euros in early trading in Madrid.\"\"\"\n",
    "\n",
    "\n",
    "key = \"ecab7affa43c4f26f1b16f8186732c91\"\n",
    "\n",
    "langid_api_endpoint = \"https://api.meaningcloud.com/lang-1.1\"\n",
    "\n",
    "payload = {'key': key , 'txt' : document }\n",
    "\n",
    "r = requests.post(langid_api_endpoint, params = payload) "
   ]
  },
  {
   "cell_type": "code",
   "execution_count": 6,
   "metadata": {
    "collapsed": false
   },
   "outputs": [
    {
     "data": {
      "text/plain": [
       "{u'lang_list': [u'en'],\n",
       " u'status': {u'code': u'0',\n",
       "  u'credits': u'1',\n",
       "  u'msg': u'OK',\n",
       "  u'remaining_credits': u'39991'}}"
      ]
     },
     "execution_count": 6,
     "metadata": {},
     "output_type": "execute_result"
    }
   ],
   "source": [
    "r.json()"
   ]
  },
  {
   "cell_type": "code",
   "execution_count": 7,
   "metadata": {
    "collapsed": false
   },
   "outputs": [
    {
     "data": {
      "text/plain": [
       "[u'en']"
      ]
     },
     "execution_count": 7,
     "metadata": {},
     "output_type": "execute_result"
    }
   ],
   "source": [
    "r.json()['lang_list']"
   ]
  },
  {
   "cell_type": "code",
   "execution_count": 8,
   "metadata": {
    "collapsed": false
   },
   "outputs": [
    {
     "data": {
      "text/plain": [
       "(True, True, 1)"
      ]
     },
     "execution_count": 8,
     "metadata": {},
     "output_type": "execute_result"
    }
   ],
   "source": [
    "response = r.json()\n",
    "\n",
    "r.status_code == 200, response['status']['code'] == '0', len(response['lang_list'])"
   ]
  },
  {
   "cell_type": "code",
   "execution_count": 9,
   "metadata": {
    "collapsed": false
   },
   "outputs": [
    {
     "name": "stdout",
     "output_type": "stream",
     "text": [
      "en\n"
     ]
    }
   ],
   "source": [
    "r = requests.post(langid_api_endpoint, params = payload) \n",
    "\n",
    "if r.status_code == 200 :\n",
    "    response = r.json()\n",
    "    if response['status']['code'] == '0':\n",
    "        language =  response['lang_list'][0]\n",
    "    else :\n",
    "        language = 'Unk'\n",
    "else : \n",
    "    language =  'Unk'\n",
    "    \n",
    "print language "
   ]
  },
  {
   "cell_type": "markdown",
   "metadata": {},
   "source": [
    "## Language analysis"
   ]
  },
  {
   "cell_type": "code",
   "execution_count": null,
   "metadata": {
    "collapsed": false
   },
   "outputs": [],
   "source": [
    "parsing_api_endpoint = \"https://api.meaningcloud.com/parser-1.2\"\n",
    "\n",
    "sentence = \"Spain's second-largest bank, BBVA, has reported a 35% rise in quarterly profit thanks to higher income from its loans.\"\n",
    "\n",
    "payload = {'key'  : key ,  \n",
    "           'txt'  : sentence , \n",
    "           'lang' : 'en',\n",
    "           'txtf' : 'plain',\n",
    "           'mode' : 'l',\n",
    "           'sit'  : 'y'\n",
    "          }\n",
    "\n",
    "r = requests.post(parsing_api_endpoint, params = payload) "
   ]
  },
  {
   "cell_type": "code",
   "execution_count": null,
   "metadata": {
    "collapsed": false
   },
   "outputs": [],
   "source": [
    "r.json()\n"
   ]
  },
  {
   "cell_type": "code",
   "execution_count": null,
   "metadata": {
    "collapsed": true
   },
   "outputs": [],
   "source": [
    "import pandas as pd"
   ]
  },
  {
   "cell_type": "code",
   "execution_count": null,
   "metadata": {
    "collapsed": false
   },
   "outputs": [],
   "source": [
    "response = r.json()\n",
    "pd_tokens = pd.DataFrame(columns = ['inip','endp','token','lemma'])\n",
    "\n"
   ]
  },
  {
   "cell_type": "code",
   "execution_count": null,
   "metadata": {
    "collapsed": false
   },
   "outputs": [],
   "source": [
    "\n",
    "token_list = response['token_list']\n",
    "for t in token_list:\n",
    "    (token, lemma) = t['token']['form_list'].split('|')\n",
    "    inip = t['token']['inip']\n",
    "    endp = t['token']['endp'] \n",
    "    pd_tokens = pd_tokens.append({'token': token , 'lemma': lemma, 'inip': inip, 'endp' : endp}, ignore_index = True)\n",
    "    \n",
    "pd_tokens"
   ]
  },
  {
   "cell_type": "markdown",
   "metadata": {
    "collapsed": true
   },
   "source": [
    "## Extracción de entidades con MeaningCloud"
   ]
  },
  {
   "cell_type": "code",
   "execution_count": 10,
   "metadata": {
    "collapsed": false
   },
   "outputs": [],
   "source": [
    "import requests\n",
    "\n",
    "topics_api_endpoint = \"https://api.meaningcloud.com/topics-2.0\"\n",
    "\n",
    "key = \"ecab7affa43c4f26f1b16f8186732c91\"\n",
    "\n",
    "document = \"\"\"\n",
    "Tras los resultados del 27-S, las principales patronales catalanas temieron por el riesgo de ingobernabilidad de Cataluña. La coalición JxS —con CDC, ERC y 11 independientes— no alcanzó los escaños suficientes para investir a Artur Mas, lo que convirtió en cruciales para gobernar a los diez diputados de la CUP. Fomento del Trabajo, presidida por Joaquim Gay de Montellà, y Pimec, liderada por Josep González, reclamaron un “gobierno fuerte y estable” que dé prioridad a “la recuperación económica” y pidieron “responsabilidad” a los grupos parlamentarios. “Queremos gobiernos estables con amplias mayorías, que agoten los mandatos. Ahora estamos expectantes ante la negociación entre partidos y creemos que el proceso será lento”, aseguró ayer el director general de la patronal Cecot, David Garrofé. A pesar de evitar pronunciarse sobre un eventual pacto entre ambas formaciones políticas hasta no conocer los detalles del acuerdo, Garrofé recordó que la voluntad de los empresarios es que el Ejecutivo catalán siga con las reformas puestas en marcha.\n",
    "\"\"\"\n",
    "\n",
    "payload = {'key'  : key ,  \n",
    "           'txt'  : document , \n",
    "           'lang' : 'es',\n",
    "           'tt'   : 'e'\n",
    "          }\n",
    "\n",
    "r = requests.post(topics_api_endpoint, params = payload) "
   ]
  },
  {
   "cell_type": "code",
   "execution_count": 11,
   "metadata": {
    "collapsed": false
   },
   "outputs": [
    {
     "data": {
      "text/plain": [
       "{u'entity_list': [{u'form': u'David Garrof\\xe9',\n",
       "   u'id': u'__6356998844215153997',\n",
       "   u'relevance': u'100',\n",
       "   u'sementity': {u'class': u'instance',\n",
       "    u'confidence': u'unknown',\n",
       "    u'type': u'Top>Person>FullName'},\n",
       "   u'variant_list': [{u'endp': u'801',\n",
       "     u'form': u'David Garrof\\xe9',\n",
       "     u'inip': u'789'},\n",
       "    {u'endp': u'942', u'form': u'Garrof\\xe9', u'inip': u'936'}]},\n",
       "  {u'form': u'Catalu\\xf1a',\n",
       "   u'id': u'e370432cd0',\n",
       "   u'official_form': u'Comunidad Aut\\xf3noma de Catalu\\xf1a',\n",
       "   u'relevance': u'50',\n",
       "   u'sementity': {u'class': u'instance',\n",
       "    u'fiction': u'nonfiction',\n",
       "    u'id': u'ODENTITY_ADM1',\n",
       "    u'type': u'Top>Location>GeoPoliticalEntity>Adm1'},\n",
       "   u'semgeo_list': [{u'continent': {u'form': u'Europa', u'id': u'0404ea4d6c'},\n",
       "     u'country': {u'form': u'Espa\\xf1a',\n",
       "      u'id': u'2175fdcac2',\n",
       "      u'standard_list': [{u'id': u'ISO3166-1-a2', u'value': u'ES'},\n",
       "       {u'id': u'ISO3166-1-a3', u'value': u'ESP'}]}}],\n",
       "   u'semld_list': [u'od:ZW4ud2lraTpDYXRhbG9uaWE',\n",
       "    u'http://en.wikipedia.org/wiki/Catalonia',\n",
       "    u'http://es.wikipedia.org/wiki/Catalu\\xf1a',\n",
       "    u'http://fr.wikipedia.org/wiki/Catalogne',\n",
       "    u'http://it.wikipedia.org/wiki/Catalogna',\n",
       "    u'http://ca.wikipedia.org/wiki/Catalunya',\n",
       "    u'http://pt.wikipedia.org/wiki/Catalunha',\n",
       "    u'http://zh.wikipedia.org/wiki/\\u52a0\\u6cf0\\u7f57\\u5c3c\\u4e9a',\n",
       "    u'http://ar.wikipedia.org/wiki/\\u0645\\u0646\\u0637\\u0642\\u0629_\\u0643\\u062a\\u0627\\u0644\\u0648\\u0646\\u064a\\u0627',\n",
       "    u'http://gl.wikipedia.org/wiki/Catalu\\xf1a',\n",
       "    u'http://eu.wikipedia.org/wiki/Katalunia',\n",
       "    u'http://rdf.freebase.com/ns/m.01zv_',\n",
       "    u'http://sws.geonames.org/3336901/',\n",
       "    u'http://data.nytimes.com/N23452151093583445981',\n",
       "    u'http://sw.cyc.com/concept/Mx4rZ6yErFwhTTaXiZQkjWwbkA',\n",
       "    u'http://yago-knowledge.org/resource/Catalonia',\n",
       "    u'http://umbel.org/umbel/rc/Location_Underspecified',\n",
       "    u'http://umbel.org/umbel/rc/PopulatedPlace',\n",
       "    u'http://umbel.org/umbel/rc/Village',\n",
       "    u'@artcatalogne',\n",
       "    u'@CatalanNation',\n",
       "    u'@catalonia',\n",
       "    u'@_Catalunya',\n",
       "    u'@catexperience',\n",
       "    u'@Catinformacio',\n",
       "    u'@cdccat',\n",
       "    u'@EnvieCatalogne',\n",
       "    u'@parlament_cat',\n",
       "    u'@PTCatalunha',\n",
       "    u'https://www.facebook.com/AmiciDellaCatalogna',\n",
       "    u'sumo:GeopoliticalArea'],\n",
       "   u'variant_list': [{u'endp': u'121',\n",
       "     u'form': u'Catalu\\xf1a',\n",
       "     u'inip': u'114'}]},\n",
       "  {u'form': u'JxS',\n",
       "   u'id': u'__3611146827714937925',\n",
       "   u'relevance': u'50',\n",
       "   u'sementity': {u'class': u'instance',\n",
       "    u'confidence': u'unknown',\n",
       "    u'type': u'Top'},\n",
       "   u'variant_list': [{u'endp': u'139', u'form': u'JxS', u'inip': u'137'}]},\n",
       "  {u'form': u'Convergencia Democr\\xe1tica de Catalu\\xf1a',\n",
       "   u'id': u'6d0bafee1f',\n",
       "   u'relevance': u'50',\n",
       "   u'sementity': {u'class': u'instance',\n",
       "    u'fiction': u'nonfiction',\n",
       "    u'id': u'ODENTITY_POLITICAL_PARTY',\n",
       "    u'type': u'Top>Organization>PoliticalParty'},\n",
       "   u'semgeo_list': [{u'adm1': {u'form': u'Catalu\\xf1a', u'id': u'e370432cd0'},\n",
       "     u'continent': {u'form': u'Europa', u'id': u'0404ea4d6c'},\n",
       "     u'country': {u'form': u'Espa\\xf1a',\n",
       "      u'id': u'2175fdcac2',\n",
       "      u'standard_list': [{u'id': u'ISO3166-1-a2', u'value': u'ES'},\n",
       "       {u'id': u'ISO3166-1-a3', u'value': u'ESP'}]}}],\n",
       "   u'semld_list': [u'sumo:PoliticalParty'],\n",
       "   u'semtheme_list': [{u'id': u'ODTHEME_POLITICS',\n",
       "     u'type': u'Top>Society>Politics'}],\n",
       "   u'variant_list': [{u'endp': u'148', u'form': u'CDC', u'inip': u'146'}]},\n",
       "  {u'form': u'Izquierda Republicana de Catalu\\xf1a',\n",
       "   u'id': u'd758332ed7',\n",
       "   u'relevance': u'50',\n",
       "   u'sementity': {u'class': u'instance',\n",
       "    u'fiction': u'nonfiction',\n",
       "    u'id': u'ODENTITY_POLITICAL_PARTY',\n",
       "    u'type': u'Top>Organization>PoliticalParty'},\n",
       "   u'semgeo_list': [{u'adm1': {u'form': u'Catalu\\xf1a', u'id': u'e370432cd0'},\n",
       "     u'continent': {u'form': u'Europa', u'id': u'0404ea4d6c'},\n",
       "     u'country': {u'form': u'Espa\\xf1a',\n",
       "      u'id': u'2175fdcac2',\n",
       "      u'standard_list': [{u'id': u'ISO3166-1-a2', u'value': u'ES'},\n",
       "       {u'id': u'ISO3166-1-a3', u'value': u'ESP'}]}}],\n",
       "   u'semld_list': [u'sumo:PoliticalParty'],\n",
       "   u'semtheme_list': [{u'id': u'ODTHEME_POLITICS',\n",
       "     u'type': u'Top>Society>Politics'}],\n",
       "   u'variant_list': [{u'endp': u'153', u'form': u'ERC', u'inip': u'151'}]},\n",
       "  {u'form': u'Artur Mas',\n",
       "   u'id': u'4a0cdec271',\n",
       "   u'relevance': u'50',\n",
       "   u'sementity': {u'class': u'instance',\n",
       "    u'fiction': u'nonfiction',\n",
       "    u'id': u'ODENTITY_FULL_NAME',\n",
       "    u'type': u'Top>Person>FullName'},\n",
       "   u'semld_list': [u'od:ZW4ud2lraTpBcnR1cl9NYXNfaV9HYXZhcnLDsw',\n",
       "    u'http://en.wikipedia.org/wiki/Artur_Mas_i_Gavarr\\xf3',\n",
       "    u'http://es.wikipedia.org/wiki/Artur_Mas',\n",
       "    u'http://fr.wikipedia.org/wiki/Artur_Mas',\n",
       "    u'http://it.wikipedia.org/wiki/Artur_Mas',\n",
       "    u'http://ca.wikipedia.org/wiki/Artur_Mas_i_Gavarr\\xf3',\n",
       "    u'http://pt.wikipedia.org/wiki/Artur_Mas',\n",
       "    u'http://gl.wikipedia.org/wiki/Artur_Mas',\n",
       "    u'http://eu.wikipedia.org/wiki/Artur_Mas',\n",
       "    u'@arturmas',\n",
       "    u'@AturMas',\n",
       "    u'https://www.facebook.com/arturmas',\n",
       "    u'sumo:Human'],\n",
       "   u'semtheme_list': [{u'id': u'ODTHEME_POLITICS',\n",
       "     u'type': u'Top>Society>Politics'}],\n",
       "   u'variant_list': [{u'endp': u'235',\n",
       "     u'form': u'Artur Mas',\n",
       "     u'inip': u'227'}]},\n",
       "  {u'form': u\"Candidatura d'Unitat Popular\",\n",
       "   u'id': u'a88cb0b494',\n",
       "   u'relevance': u'50',\n",
       "   u'sementity': {u'class': u'instance',\n",
       "    u'fiction': u'nonfiction',\n",
       "    u'id': u'ODENTITY_POLITICAL_PARTY',\n",
       "    u'type': u'Top>Organization>PoliticalParty'},\n",
       "   u'semgeo_list': [{u'adm1': {u'form': u'Catalu\\xf1a', u'id': u'e370432cd0'},\n",
       "     u'continent': {u'form': u'Europa', u'id': u'0404ea4d6c'},\n",
       "     u'country': {u'form': u'Espa\\xf1a',\n",
       "      u'id': u'2175fdcac2',\n",
       "      u'standard_list': [{u'id': u'ISO3166-1-a2', u'value': u'ES'},\n",
       "       {u'id': u'ISO3166-1-a3', u'value': u'ESP'}]}}],\n",
       "   u'semld_list': [u'sumo:PoliticalParty'],\n",
       "   u'semtheme_list': [{u'id': u'ODTHEME_POLITICS',\n",
       "     u'type': u'Top>Society>Politics'}],\n",
       "   u'variant_list': [{u'endp': u'311', u'form': u'CUP', u'inip': u'309'}]},\n",
       "  {u'form': u'Fomento del Trabajo',\n",
       "   u'id': u'__4650918985898826134',\n",
       "   u'relevance': u'50',\n",
       "   u'sementity': {u'class': u'instance',\n",
       "    u'confidence': u'unknown',\n",
       "    u'type': u'Top'},\n",
       "   u'variant_list': [{u'endp': u'332',\n",
       "     u'form': u'Fomento del Trabajo',\n",
       "     u'inip': u'314'}]},\n",
       "  {u'form': u'Joaquim Gay de Montell\\xe0',\n",
       "   u'id': u'__15163415328934940723',\n",
       "   u'relevance': u'50',\n",
       "   u'sementity': {u'class': u'instance',\n",
       "    u'confidence': u'unknown',\n",
       "    u'type': u'Top'},\n",
       "   u'variant_list': [{u'endp': u'371',\n",
       "     u'form': u'Joaquim Gay de Montell\\xe0',\n",
       "     u'inip': u'349'}]},\n",
       "  {u'form': u'Pimec',\n",
       "   u'id': u'__1552415423097688217',\n",
       "   u'relevance': u'50',\n",
       "   u'sementity': {u'class': u'instance',\n",
       "    u'confidence': u'unknown',\n",
       "    u'type': u'Top'},\n",
       "   u'variant_list': [{u'endp': u'380', u'form': u'Pimec', u'inip': u'376'}]},\n",
       "  {u'form': u'Josep Gonz\\xe1lez',\n",
       "   u'id': u'__5889582854365288322',\n",
       "   u'relevance': u'50',\n",
       "   u'sementity': {u'class': u'instance',\n",
       "    u'confidence': u'unknown',\n",
       "    u'type': u'Top>Person>FullName'},\n",
       "   u'variant_list': [{u'endp': u'409',\n",
       "     u'form': u'Josep Gonz\\xe1lez',\n",
       "     u'inip': u'396'}]},\n",
       "  {u'form': u'Cecot',\n",
       "   u'id': u'28f3ae57a2',\n",
       "   u'relevance': u'50',\n",
       "   u'sementity': {u'class': u'instance',\n",
       "    u'fiction': u'nonfiction',\n",
       "    u'id': u'ODENTITY_LAST_NAME',\n",
       "    u'type': u'Top>Person>LastName'},\n",
       "   u'semld_list': [u'sumo:LastName'],\n",
       "   u'variant_list': [{u'endp': u'786', u'form': u'Cecot', u'inip': u'782'}]},\n",
       "  {u'form': u'Gobierno',\n",
       "   u'id': u'786614403d',\n",
       "   u'relevance': u'50',\n",
       "   u'sementity': {u'class': u'instance',\n",
       "    u'fiction': u'nonfiction',\n",
       "    u'id': u'ODENTITY_GOVERNMENT',\n",
       "    u'type': u'Top>Organization>Government'},\n",
       "   u'semld_list': [u'sumo:Government'],\n",
       "   u'variant_list': [{u'endp': u'1005',\n",
       "     u'form': u'Ejecutivo',\n",
       "     u'inip': u'997'}]}],\n",
       " u'status': {u'code': u'0',\n",
       "  u'credits': u'1',\n",
       "  u'msg': u'OK',\n",
       "  u'remaining_credits': u'39987'}}"
      ]
     },
     "execution_count": 11,
     "metadata": {},
     "output_type": "execute_result"
    }
   ],
   "source": [
    "r.json()"
   ]
  },
  {
   "cell_type": "code",
   "execution_count": 12,
   "metadata": {
    "collapsed": true
   },
   "outputs": [],
   "source": [
    "import pandas as pd\n",
    "\n",
    "response = r.json()\n",
    "pd_tokens = pd.DataFrame(columns = ['entidad','tipo'])"
   ]
  },
  {
   "cell_type": "code",
   "execution_count": 13,
   "metadata": {
    "collapsed": false
   },
   "outputs": [
    {
     "data": {
      "text/html": [
       "<div style=\"max-height:1000px;max-width:1500px;overflow:auto;\">\n",
       "<table border=\"1\" class=\"dataframe\">\n",
       "  <thead>\n",
       "    <tr style=\"text-align: right;\">\n",
       "      <th></th>\n",
       "      <th>entidad</th>\n",
       "      <th>tipo</th>\n",
       "    </tr>\n",
       "  </thead>\n",
       "  <tbody>\n",
       "    <tr>\n",
       "      <th>0 </th>\n",
       "      <td>                        David Garrofé</td>\n",
       "      <td>                  Top&gt;Person&gt;FullName</td>\n",
       "    </tr>\n",
       "    <tr>\n",
       "      <th>1 </th>\n",
       "      <td>                             Cataluña</td>\n",
       "      <td> Top&gt;Location&gt;GeoPoliticalEntity&gt;Adm1</td>\n",
       "    </tr>\n",
       "    <tr>\n",
       "      <th>2 </th>\n",
       "      <td>                                  JxS</td>\n",
       "      <td>                                  Top</td>\n",
       "    </tr>\n",
       "    <tr>\n",
       "      <th>3 </th>\n",
       "      <td> Convergencia Democrática de Cataluña</td>\n",
       "      <td>      Top&gt;Organization&gt;PoliticalParty</td>\n",
       "    </tr>\n",
       "    <tr>\n",
       "      <th>4 </th>\n",
       "      <td>    Izquierda Republicana de Cataluña</td>\n",
       "      <td>      Top&gt;Organization&gt;PoliticalParty</td>\n",
       "    </tr>\n",
       "    <tr>\n",
       "      <th>5 </th>\n",
       "      <td>                            Artur Mas</td>\n",
       "      <td>                  Top&gt;Person&gt;FullName</td>\n",
       "    </tr>\n",
       "    <tr>\n",
       "      <th>6 </th>\n",
       "      <td>         Candidatura d'Unitat Popular</td>\n",
       "      <td>      Top&gt;Organization&gt;PoliticalParty</td>\n",
       "    </tr>\n",
       "    <tr>\n",
       "      <th>7 </th>\n",
       "      <td>                  Fomento del Trabajo</td>\n",
       "      <td>                                  Top</td>\n",
       "    </tr>\n",
       "    <tr>\n",
       "      <th>8 </th>\n",
       "      <td>              Joaquim Gay de Montellà</td>\n",
       "      <td>                                  Top</td>\n",
       "    </tr>\n",
       "    <tr>\n",
       "      <th>9 </th>\n",
       "      <td>                                Pimec</td>\n",
       "      <td>                                  Top</td>\n",
       "    </tr>\n",
       "    <tr>\n",
       "      <th>10</th>\n",
       "      <td>                       Josep González</td>\n",
       "      <td>                  Top&gt;Person&gt;FullName</td>\n",
       "    </tr>\n",
       "    <tr>\n",
       "      <th>11</th>\n",
       "      <td>                                Cecot</td>\n",
       "      <td>                  Top&gt;Person&gt;LastName</td>\n",
       "    </tr>\n",
       "    <tr>\n",
       "      <th>12</th>\n",
       "      <td>                             Gobierno</td>\n",
       "      <td>          Top&gt;Organization&gt;Government</td>\n",
       "    </tr>\n",
       "  </tbody>\n",
       "</table>\n",
       "</div>"
      ],
      "text/plain": [
       "                                 entidad                                  tipo\n",
       "0                          David Garrofé                   Top>Person>FullName\n",
       "1                               Cataluña  Top>Location>GeoPoliticalEntity>Adm1\n",
       "2                                    JxS                                   Top\n",
       "3   Convergencia Democrática de Cataluña       Top>Organization>PoliticalParty\n",
       "4      Izquierda Republicana de Cataluña       Top>Organization>PoliticalParty\n",
       "5                              Artur Mas                   Top>Person>FullName\n",
       "6           Candidatura d'Unitat Popular       Top>Organization>PoliticalParty\n",
       "7                    Fomento del Trabajo                                   Top\n",
       "8                Joaquim Gay de Montellà                                   Top\n",
       "9                                  Pimec                                   Top\n",
       "10                        Josep González                   Top>Person>FullName\n",
       "11                                 Cecot                   Top>Person>LastName\n",
       "12                              Gobierno           Top>Organization>Government"
      ]
     },
     "execution_count": 13,
     "metadata": {},
     "output_type": "execute_result"
    }
   ],
   "source": [
    "entity_list = response['entity_list']\n",
    "\n",
    "for e in entity_list:\n",
    "    entity= e['form']\n",
    "    tipo = e['sementity']['type']\n",
    "    pd_tokens = pd_tokens.append({'entidad': entity, 'tipo': tipo}, ignore_index = True)\n",
    "\n",
    "pd_tokens"
   ]
  }
 ],
 "metadata": {
  "kernelspec": {
   "display_name": "Python 2",
   "language": "python",
   "name": "python2"
  },
  "language_info": {
   "codemirror_mode": {
    "name": "ipython",
    "version": 2
   },
   "file_extension": ".py",
   "mimetype": "text/x-python",
   "name": "python",
   "nbconvert_exporter": "python",
   "pygments_lexer": "ipython2",
   "version": "2.7.10"
  }
 },
 "nbformat": 4,
 "nbformat_minor": 0
}
