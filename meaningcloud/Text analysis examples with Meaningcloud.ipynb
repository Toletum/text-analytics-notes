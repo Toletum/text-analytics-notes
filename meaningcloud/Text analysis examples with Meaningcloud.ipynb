{
 "cells": [
  {
   "cell_type": "markdown",
   "metadata": {},
   "source": [
    "# Text analysis with MeaningCloud"
   ]
  },
  {
   "cell_type": "markdown",
   "metadata": {},
   "source": [
    "About MeaningCloud...."
   ]
  },
  {
   "cell_type": "markdown",
   "metadata": {},
   "source": [
    "A brief tour..."
   ]
  },
  {
   "cell_type": "markdown",
   "metadata": {},
   "source": [
    "How to get a license key?"
   ]
  },
  {
   "cell_type": "markdown",
   "metadata": {},
   "source": [
    "## Preparation\n",
    "\n",
    "We will use requests library to build API calls to different services \n",
    "\n",
    "[Requests homepage](http://docs.python-requests.org/en/latest/)\n"
   ]
  },
  {
   "cell_type": "code",
   "execution_count": null,
   "metadata": {
    "collapsed": true
   },
   "outputs": [],
   "source": [
    "import requests"
   ]
  },
  {
   "cell_type": "code",
   "execution_count": null,
   "metadata": {
    "collapsed": true
   },
   "outputs": [],
   "source": [
    "langid_api_endpoint = \"https://api.meaningcloud.com/lang-1.1\""
   ]
  },
  {
   "cell_type": "code",
   "execution_count": null,
   "metadata": {
    "collapsed": false
   },
   "outputs": [],
   "source": [
    "r = requests.post(langid_api_endpoint) "
   ]
  },
  {
   "cell_type": "code",
   "execution_count": null,
   "metadata": {
    "collapsed": false
   },
   "outputs": [],
   "source": [
    "r.json()"
   ]
  },
  {
   "cell_type": "markdown",
   "metadata": {},
   "source": [
    "## Language Identification"
   ]
  },
  {
   "cell_type": "code",
   "execution_count": null,
   "metadata": {
    "collapsed": false
   },
   "outputs": [],
   "source": [
    "import requests\n",
    "\n",
    "\n",
    "document = \"\"\"Profits rise at Spanish bank BBVA\n",
    "Spain's second-largest bank, BBVA, has reported a 35% rise in quarterly profit thanks to higher income from its loans.\n",
    "BBVA said net profit for the April to June period was 1.56bn euros ($2.23bn; £1.35bn), compared with 1.16bn euros in the same period last year.\n",
    "The results were above analysts' forecasts of 1.3bn euros.\n",
    "A number of US and European banks have reported improved profits as financial markets have begun to recover from last year's turmoil.\n",
    "Earlier on Tuesday, German bank Deutsche Bank reported a 67% rise in quarterly profits, boosted by its investment banking arm\n",
    "BBVA, based in Bilbao, said net interest income rose 27% to 3.59 bn euros although lending remained steady at 335.6bn euros.\n",
    "The upbeat results boosted BBVA shares, which rose 3.5% to 10.60 euros in early trading in Madrid.\"\"\"\n",
    "\n",
    "\n",
    "key = \"<license key>\"\n",
    "\n",
    "langid_api_endpoint = \"https://api.meaningcloud.com/lang-1.1\"\n",
    "\n",
    "payload = {'key': key , 'txt' : document }\n",
    "\n",
    "r = requests.post(langid_api_endpoint, params = payload) "
   ]
  },
  {
   "cell_type": "code",
   "execution_count": null,
   "metadata": {
    "collapsed": false
   },
   "outputs": [],
   "source": [
    "r.json()"
   ]
  },
  {
   "cell_type": "code",
   "execution_count": null,
   "metadata": {
    "collapsed": false
   },
   "outputs": [],
   "source": [
    "r.json()['lang_list']"
   ]
  },
  {
   "cell_type": "code",
   "execution_count": null,
   "metadata": {
    "collapsed": false
   },
   "outputs": [],
   "source": [
    "response = r.json()\n",
    "\n",
    "r.status_code == 200, response['status']['code'] == '0', len(response['lang_list'])"
   ]
  },
  {
   "cell_type": "code",
   "execution_count": null,
   "metadata": {
    "collapsed": false
   },
   "outputs": [],
   "source": [
    "r = requests.post(langid_api_endpoint, params = payload) \n",
    "\n",
    "if r.status_code == 200 :\n",
    "    response = r.json()\n",
    "    if response['status']['code'] == '0':\n",
    "        language =  response['lang_list'][0]\n",
    "    else :\n",
    "        language = 'Unk'\n",
    "else : \n",
    "    language =  'Unk'\n",
    "    \n",
    "print language "
   ]
  },
  {
   "cell_type": "markdown",
   "metadata": {},
   "source": [
    "## Language analysis"
   ]
  },
  {
   "cell_type": "code",
   "execution_count": null,
   "metadata": {
    "collapsed": false
   },
   "outputs": [],
   "source": [
    "parsing_api_endpoint = \"https://api.meaningcloud.com/parser-1.2\"\n",
    "\n",
    "sentence = \"Spain's second-largest bank, BBVA, has reported a 35% rise in quarterly profit thanks to higher income from its loans.\"\n",
    "\n",
    "payload = {'key'  : key ,  \n",
    "           'txt'  : sentence , \n",
    "           'lang' : 'en',\n",
    "           'txtf' : 'plain',\n",
    "           'mode' : 'l',\n",
    "           'sit'  : 'y'\n",
    "          }\n",
    "\n",
    "r = requests.post(parsing_api_endpoint, params = payload) "
   ]
  },
  {
   "cell_type": "code",
   "execution_count": null,
   "metadata": {
    "collapsed": false
   },
   "outputs": [],
   "source": [
    "r.json()\n"
   ]
  },
  {
   "cell_type": "code",
   "execution_count": null,
   "metadata": {
    "collapsed": true
   },
   "outputs": [],
   "source": [
    "import pandas as pd"
   ]
  },
  {
   "cell_type": "code",
   "execution_count": null,
   "metadata": {
    "collapsed": false
   },
   "outputs": [],
   "source": [
    "response = r.json()\n",
    "pd_tokens = pd.DataFrame(columns = ['inip','endp','token','lemma'])\n",
    "\n"
   ]
  },
  {
   "cell_type": "code",
   "execution_count": null,
   "metadata": {
    "collapsed": false
   },
   "outputs": [],
   "source": [
    "\n",
    "token_list = response['token_list']\n",
    "for t in token_list:\n",
    "    (token, lemma) = t['token']['form_list'].split('|')\n",
    "    inip = t['token']['inip']\n",
    "    endp = t['token']['endp'] \n",
    "    pd_tokens = pd_tokens.append({'token': token , 'lemma': lemma, 'inip': inip, 'endp' : endp}, ignore_index = True)\n",
    "    \n",
    "pd_tokens"
   ]
  },
  {
   "cell_type": "markdown",
   "metadata": {
    "collapsed": true
   },
   "source": [
    "## Extracción de entidades con MeaningCloud"
   ]
  },
  {
   "cell_type": "code",
   "execution_count": null,
   "metadata": {
    "collapsed": false
   },
   "outputs": [],
   "source": [
    "import requests\n",
    "\n",
    "topics_api_endpoint = \"https://api.meaningcloud.com/topics-1.2\"\n",
    "\n",
    "key = \"ecab7affa43c4f26f1b16f8186732c91\"\n",
    "\n",
    "document = \"\"\"\n",
    "Tras los resultados del 27-S, las principales patronales catalanas temieron por el riesgo de ingobernabilidad de Cataluña. La coalición JxS —con CDC, ERC y 11 independientes— no alcanzó los escaños suficientes para investir a Artur Mas, lo que convirtió en cruciales para gobernar a los diez diputados de la CUP. Fomento del Trabajo, presidida por Joaquim Gay de Montellà, y Pimec, liderada por Josep González, reclamaron un “gobierno fuerte y estable” que dé prioridad a “la recuperación económica” y pidieron “responsabilidad” a los grupos parlamentarios. “Queremos gobiernos estables con amplias mayorías, que agoten los mandatos. Ahora estamos expectantes ante la negociación entre partidos y creemos que el proceso será lento”, aseguró ayer el director general de la patronal Cecot, David Garrofé. A pesar de evitar pronunciarse sobre un eventual pacto entre ambas formaciones políticas hasta no conocer los detalles del acuerdo, Garrofé recordó que la voluntad de los empresarios es que el Ejecutivo catalán siga con las reformas puestas en marcha.\n",
    "\"\"\"\n",
    "\n",
    "payload = {'key'  : key ,  \n",
    "           'txt'  : document , \n",
    "           'lang' : 'es',\n",
    "           'tt'   : 'e'\n",
    "          }\n",
    "\n",
    "r = requests.post(topics_api_endpoint, params = payload) "
   ]
  },
  {
   "cell_type": "code",
   "execution_count": null,
   "metadata": {
    "collapsed": false
   },
   "outputs": [],
   "source": [
    "r.json()"
   ]
  },
  {
   "cell_type": "code",
   "execution_count": null,
   "metadata": {
    "collapsed": true
   },
   "outputs": [],
   "source": [
    "import pandas as pd\n",
    "\n",
    "response = r.json()\n",
    "pd_tokens = pd.DataFrame(columns = ['entidad','tipo'])"
   ]
  },
  {
   "cell_type": "code",
   "execution_count": null,
   "metadata": {
    "collapsed": false
   },
   "outputs": [],
   "source": [
    "entity_list = response['entity_list']\n",
    "\n",
    "for e in entity_list:\n",
    "    entity= e['form']\n",
    "    tipo = e['sementity']['type']\n",
    "    pd_tokens = pd_tokens.append({'entidad': entity, 'tipo': tipo}, ignore_index = True)\n",
    "\n",
    "pd_tokens"
   ]
  }
 ],
 "metadata": {
  "kernelspec": {
   "display_name": "Python 2",
   "language": "python",
   "name": "python2"
  },
  "language_info": {
   "codemirror_mode": {
    "name": "ipython",
    "version": 2
   },
   "file_extension": ".py",
   "mimetype": "text/x-python",
   "name": "python",
   "nbconvert_exporter": "python",
   "pygments_lexer": "ipython2",
   "version": "2.7.10"
  }
 },
 "nbformat": 4,
 "nbformat_minor": 0
}
