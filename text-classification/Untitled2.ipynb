{
 "cells": [
  {
   "cell_type": "code",
   "execution_count": 66,
   "metadata": {
    "collapsed": false
   },
   "outputs": [],
   "source": [
    "import nltk \n",
    "\n",
    "class NamedEntityTagger(nltk.TaggerI):\n",
    "    def __init__(self,train_sents):\n",
    "        train_set=[]\n",
    "        for sentence in train_sents:\n",
    "            untagged_sent = [(word, tag) for (word, tag, ne_tag) in sentence]\n",
    "            history = []\n",
    "            for i, (word, tag, ne_tag) in enumerate(sentence):\n",
    "                featureset = ne_features(untagged_sent, i, history)\n",
    "                train_set.append( (featureset, ne_tag) ) \n",
    "                history.append(ne_tag)\n",
    "        self.classifier = nltk.NaiveBayesClassifier.train(train_set)\n",
    "        \n",
    "        \n",
    "    def tag(self, sentence):\n",
    "        history = []\n",
    "        for i, (word, tag) in enumerate(sentence):\n",
    "            featureset = ne_features(sentence, i, history)\n",
    "            tag = self.classifier.classify(featureset)\n",
    "            history.append(tag)\n",
    "        return zip(sentence, history)"
   ]
  },
  {
   "cell_type": "code",
   "execution_count": 41,
   "metadata": {
    "collapsed": false
   },
   "outputs": [
    {
     "data": {
      "text/plain": [
       "[(u'El', u'DA'),\n",
       " (u'Abogado', u'NC'),\n",
       " (u'General', u'AQ'),\n",
       " (u'del', u'SP'),\n",
       " (u'Estado', u'NC'),\n",
       " (u',', u'Fc'),\n",
       " (u'Daryl', u'VMI'),\n",
       " (u'Williams', u'NC'),\n",
       " (u',', u'Fc'),\n",
       " (u'subray\\xf3', u'VMI'),\n",
       " (u'hoy', u'RG'),\n",
       " (u'la', u'DA'),\n",
       " (u'necesidad', u'NC'),\n",
       " (u'de', u'SP'),\n",
       " (u'tomar', u'VMN'),\n",
       " (u'medidas', u'NC'),\n",
       " (u'para', u'SP'),\n",
       " (u'proteger', u'VMN'),\n",
       " (u'al', u'SP'),\n",
       " (u'sistema', u'NC'),\n",
       " (u'judicial', u'AQ'),\n",
       " (u'australiano', u'AQ'),\n",
       " (u'frente', u'RG'),\n",
       " (u'a', u'SP'),\n",
       " (u'una', u'DI'),\n",
       " (u'p\\xe1gina', u'NC'),\n",
       " (u'de', u'SP'),\n",
       " (u'internet', u'NC'),\n",
       " (u'que', u'PR'),\n",
       " (u'imposibilita', u'VMI'),\n",
       " (u'el', u'DA'),\n",
       " (u'cumplimiento', u'NC'),\n",
       " (u'de', u'SP'),\n",
       " (u'los', u'DA'),\n",
       " (u'principios', u'NC'),\n",
       " (u'b\\xe1sicos', u'AQ'),\n",
       " (u'de', u'SP'),\n",
       " (u'la', u'DA'),\n",
       " (u'Ley', u'NC'),\n",
       " (u'.', u'Fp')]"
      ]
     },
     "execution_count": 41,
     "metadata": {},
     "output_type": "execute_result"
    }
   ],
   "source": [
    "from nltk.corpus import conll2002\n",
    "\n",
    "\n",
    "sentence = conll2002.iob_sents('esp.train')[2]\n",
    "\n",
    "[(word, tag) for (word, tag, ne_tag) in sentence]"
   ]
  },
  {
   "cell_type": "code",
   "execution_count": 94,
   "metadata": {
    "collapsed": false
   },
   "outputs": [],
   "source": [
    "def ne_features(sentence, i, history):\n",
    "    if i == 0:\n",
    "        prevword, prevpos = \"<START>\", \"<START>\"\n",
    "    else:\n",
    "        prevword, prevpos = sentence[i-1]\n",
    "    return {\"pos\": pos, \"word\": word, \"prevpos\": prevpos}\n",
    "\n",
    "trainSentences = conll2002.iob_sents('esp.train')"
   ]
  },
  {
   "cell_type": "code",
   "execution_count": 98,
   "metadata": {
    "collapsed": false
   },
   "outputs": [],
   "source": [
    "nerctagger = NamedEntityTagger(trainSentences)"
   ]
  },
  {
   "cell_type": "code",
   "execution_count": 108,
   "metadata": {
    "collapsed": false
   },
   "outputs": [
    {
     "data": {
      "text/plain": [
       "[((u'El', u'DA'), u'O'),\n",
       " ((u'miembro', u'NC'), u'O'),\n",
       " ((u'de', u'SP'), u'O'),\n",
       " ((u'la', u'DA'), u'O'),\n",
       " ((u'Comisi\\xf3n', u'NC'), u'B-ORG'),\n",
       " ((u'Regional', u'AQ'), u'I-ORG'),\n",
       " ((u'de', u'SP'), u'O'),\n",
       " ((u'UCE', u'VMI'), u'O'),\n",
       " ((u'Emilio', u'NC'), u'B-PER'),\n",
       " ((u'Guerrero', u'NC'), u'I-PER'),\n",
       " ((u'expondr\\xe1', u'VMI'), u'O'),\n",
       " ((u'la', u'DA'), u'O'),\n",
       " ((u'posici\\xf3n', u'NC'), u'O'),\n",
       " ((u'de', u'SP'), u'O'),\n",
       " ((u'esta', u'DD'), u'O'),\n",
       " ((u'organizaci\\xf3n', u'NC'), u'O'),\n",
       " ((u'agraria', u'AQ'), u'O'),\n",
       " ((u'respecto', u'NC'), u'O'),\n",
       " ((u'a', u'SP'), u'O'),\n",
       " ((u'la', u'DA'), u'O'),\n",
       " ((u'pr\\xf3xima', u'AQ'), u'O'),\n",
       " ((u'campa\\xf1a', u'NC'), u'O'),\n",
       " ((u'de', u'SP'), u'O'),\n",
       " ((u'tomate', u'NC'), u'O'),\n",
       " ((u'.', u'Fp'), u'O')]"
      ]
     },
     "execution_count": 108,
     "metadata": {},
     "output_type": "execute_result"
    }
   ],
   "source": [
    "tests_sentences = conll2002.iob_sents('esp.testa')\n",
    "\n",
    "nerctagger.tag([(word,tag) for (word,tag, ne_tag) in tests_sentences[107]])\n",
    "\n"
   ]
  },
  {
   "cell_type": "code",
   "execution_count": null,
   "metadata": {
    "collapsed": true
   },
   "outputs": [],
   "source": []
  }
 ],
 "metadata": {
  "kernelspec": {
   "display_name": "Python 2",
   "language": "python",
   "name": "python2"
  },
  "language_info": {
   "codemirror_mode": {
    "name": "ipython",
    "version": 2
   },
   "file_extension": ".py",
   "mimetype": "text/x-python",
   "name": "python",
   "nbconvert_exporter": "python",
   "pygments_lexer": "ipython2",
   "version": "2.7.3"
  }
 },
 "nbformat": 4,
 "nbformat_minor": 0
}
