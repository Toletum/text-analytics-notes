{
 "cells": [
  {
   "cell_type": "markdown",
   "metadata": {},
   "source": [
    "# Selección de características para análisis de sentimiento\n",
    "\n",
    "Vamos a explorar ideas de la sesión 2 para la selección de características en el problema de análisis de sentimiento"
   ]
  },
  {
   "cell_type": "markdown",
   "metadata": {},
   "source": [
    "## Entrenamiento y evaluación\n",
    "\n",
    "Usamos una función para encapsular el entrenamiento y evaluación. \n",
    " * Por simplificar, asumimos alguna de las cosas que serían mejorables - no usar las características de tests en la selección y entrenamiento\n",
    " * Experimentamos con diferentes procedimientos para seleccionar características. El clasificador recibe la función `featx` como parámetro "
   ]
  },
  {
   "cell_type": "code",
   "execution_count": 3,
   "metadata": {
    "collapsed": false
   },
   "outputs": [
    {
     "name": "stderr",
     "output_type": "stream",
     "text": [
      "/usr/local/lib/python2.7/dist-packages/numpy/core/fromnumeric.py:2499: VisibleDeprecationWarning: `rank` is deprecated; use the `ndim` attribute or function instead. To find the rank of a matrix see `numpy.linalg.matrix_rank`.\n",
      "  VisibleDeprecationWarning)\n"
     ]
    }
   ],
   "source": [
    "import collections\n",
    "import nltk.metrics\n",
    "from nltk.classify import NaiveBayesClassifier\n",
    "from nltk.corpus import movie_reviews\n",
    " \n",
    "\n",
    "def evaluate_classifier(featx):\n",
    "    negids = movie_reviews.fileids('neg')\n",
    "    posids = movie_reviews.fileids('pos')\n",
    " \n",
    "    negfeats = [(featx(movie_reviews.words(fileids=[f])), 'neg') for f in negids]\n",
    "    posfeats = [(featx(movie_reviews.words(fileids=[f])), 'pos') for f in posids]\n",
    " \n",
    "    negcutoff = len(negfeats)*3/4\n",
    "    poscutoff = len(posfeats)*3/4\n",
    " \n",
    "    trainfeats = negfeats[:negcutoff] + posfeats[:poscutoff]\n",
    "    testfeats = negfeats[negcutoff:] + posfeats[poscutoff:]\n",
    "    print 'train on %d instances, test on %d instances' % (len(trainfeats), len(testfeats))\n",
    " \n",
    "    classifier = NaiveBayesClassifier.train(trainfeats)\n",
    "    refsets = collections.defaultdict(set)\n",
    "    testsets = collections.defaultdict(set)\n",
    " \n",
    "    for i, (feats, label) in enumerate(testfeats):\n",
    "        refsets[label].add(i)\n",
    "        observed = classifier.classify(feats)\n",
    "        testsets[observed].add(i)\n",
    " \n",
    "    print 'accuracy:', nltk.classify.util.accuracy(classifier, testfeats)\n",
    "    print 'pos precision:', nltk.metrics.precision(refsets['pos'], testsets['pos'])\n",
    "    print 'pos recall:', nltk.metrics.recall(refsets['pos'], testsets['pos'])\n",
    "    print 'pos F-measure:', nltk.metrics.f_measure(refsets['pos'], testsets['pos'])\n",
    "    print 'neg precision:', nltk.metrics.precision(refsets['neg'], testsets['neg'])\n",
    "    print 'neg recall:', nltk.metrics.recall(refsets['neg'], testsets['neg'])\n",
    "    print 'neg F-measure:', nltk.metrics.f_measure(refsets['neg'], testsets['neg'])\n",
    "    classifier.show_most_informative_features()\n"
   ]
  },
  {
   "cell_type": "markdown",
   "metadata": {},
   "source": [
    "## Bag of words - all words"
   ]
  },
  {
   "cell_type": "code",
   "execution_count": 4,
   "metadata": {
    "collapsed": false
   },
   "outputs": [
    {
     "name": "stdout",
     "output_type": "stream",
     "text": [
      "train on 1500 instances, test on 500 instances\n",
      "accuracy: 0.728\n",
      "pos precision: 0.651595744681\n",
      "pos recall: 0.98\n",
      "pos F-measure: 0.782747603834\n",
      "neg precision: 0.959677419355\n",
      "neg recall: 0.476\n",
      "neg F-measure: 0.636363636364\n",
      "Most Informative Features\n",
      "             magnificent = True              pos : neg    =     15.0 : 1.0\n",
      "             outstanding = True              pos : neg    =     13.6 : 1.0\n",
      "               insulting = True              neg : pos    =     13.0 : 1.0\n",
      "              vulnerable = True              pos : neg    =     12.3 : 1.0\n",
      "               ludicrous = True              neg : pos    =     11.8 : 1.0\n",
      "                  avoids = True              pos : neg    =     11.7 : 1.0\n",
      "             uninvolving = True              neg : pos    =     11.7 : 1.0\n",
      "              astounding = True              pos : neg    =     10.3 : 1.0\n",
      "             fascination = True              pos : neg    =     10.3 : 1.0\n",
      "                 idiotic = True              neg : pos    =      9.8 : 1.0\n"
     ]
    }
   ],
   "source": [
    "def word_feats(words):\n",
    "    return dict([(word, True) for word in words])\n",
    " \n",
    "evaluate_classifier(word_feats)"
   ]
  },
  {
   "cell_type": "markdown",
   "metadata": {},
   "source": [
    "## Filtrado de stopwords"
   ]
  },
  {
   "cell_type": "code",
   "execution_count": 7,
   "metadata": {
    "collapsed": false
   },
   "outputs": [
    {
     "name": "stdout",
     "output_type": "stream",
     "text": [
      "train on 1500 instances, test on 500 instances\n",
      "accuracy: 0.726\n",
      "pos precision: 0.649867374005\n",
      "pos recall: 0.98\n",
      "pos F-measure: 0.781499202552\n",
      "neg precision: 0.959349593496\n",
      "neg recall: 0.472\n",
      "neg F-measure: 0.632707774799\n",
      "Most Informative Features\n",
      "             magnificent = True              pos : neg    =     15.0 : 1.0\n",
      "             outstanding = True              pos : neg    =     13.6 : 1.0\n",
      "               insulting = True              neg : pos    =     13.0 : 1.0\n",
      "              vulnerable = True              pos : neg    =     12.3 : 1.0\n",
      "               ludicrous = True              neg : pos    =     11.8 : 1.0\n",
      "                  avoids = True              pos : neg    =     11.7 : 1.0\n",
      "             uninvolving = True              neg : pos    =     11.7 : 1.0\n",
      "              astounding = True              pos : neg    =     10.3 : 1.0\n",
      "             fascination = True              pos : neg    =     10.3 : 1.0\n",
      "                 idiotic = True              neg : pos    =      9.8 : 1.0\n"
     ]
    }
   ],
   "source": [
    "from nltk.corpus import stopwords\n",
    "stopset = set(stopwords.words('english'))\n",
    " \n",
    "def stopword_filtered_word_feats(words):\n",
    "    return dict([(word, True) for word in words if word not in stopset])\n",
    " \n",
    "evaluate_classifier(stopword_filtered_word_feats)"
   ]
  },
  {
   "cell_type": "markdown",
   "metadata": {},
   "source": [
    "## Filtrando a N palabras más frecuentes"
   ]
  },
  {
   "cell_type": "code",
   "execution_count": 36,
   "metadata": {
    "collapsed": false
   },
   "outputs": [
    {
     "name": "stdout",
     "output_type": "stream",
     "text": [
      "train on 1500 instances, test on 500 instances\n",
      "accuracy: 0.726\n",
      "pos precision: 0.649867374005\n",
      "pos recall: 0.98\n",
      "pos F-measure: 0.781499202552\n",
      "neg precision: 0.959349593496\n",
      "neg recall: 0.472\n",
      "neg F-measure: 0.632707774799\n",
      "Most Informative Features\n",
      "             magnificent = True              pos : neg    =     15.0 : 1.0\n",
      "             outstanding = True              pos : neg    =     13.6 : 1.0\n",
      "               insulting = True              neg : pos    =     13.0 : 1.0\n",
      "              vulnerable = True              pos : neg    =     12.3 : 1.0\n",
      "               ludicrous = True              neg : pos    =     11.8 : 1.0\n",
      "                  avoids = True              pos : neg    =     11.7 : 1.0\n",
      "             uninvolving = True              neg : pos    =     11.7 : 1.0\n",
      "              astounding = True              pos : neg    =     10.3 : 1.0\n",
      "             fascination = True              pos : neg    =     10.3 : 1.0\n",
      "                 idiotic = True              neg : pos    =      9.8 : 1.0\n"
     ]
    }
   ],
   "source": [
    "max_types = 100000\n",
    "\n",
    "all_words = nltk.FreqDist(w.lower() for w in movie_reviews.words())\n",
    "most_common = set([w for (w,f) in all_words.most_common(max_types)])\n",
    "\n",
    "def most_common_word_feats(words):\n",
    "    return dict([(word, True) for word in words if word in most_common and word not in stopset])\n",
    "\n",
    "evaluate_classifier(most_common_word_feats)"
   ]
  },
  {
   "cell_type": "markdown",
   "metadata": {},
   "source": [
    "## Filtrando por frecuencia"
   ]
  },
  {
   "cell_type": "code",
   "execution_count": 55,
   "metadata": {
    "collapsed": false
   },
   "outputs": [
    {
     "name": "stdout",
     "output_type": "stream",
     "text": [
      "train on 1500 instances, test on 500 instances\n",
      "accuracy: 0.726\n",
      "pos precision: 0.649867374005\n",
      "pos recall: 0.98\n",
      "pos F-measure: 0.781499202552\n",
      "neg precision: 0.959349593496\n",
      "neg recall: 0.472\n",
      "neg F-measure: 0.632707774799\n",
      "Most Informative Features\n",
      "             magnificent = True              pos : neg    =     15.0 : 1.0\n",
      "             outstanding = True              pos : neg    =     13.6 : 1.0\n",
      "               insulting = True              neg : pos    =     13.0 : 1.0\n",
      "              vulnerable = True              pos : neg    =     12.3 : 1.0\n",
      "               ludicrous = True              neg : pos    =     11.8 : 1.0\n",
      "                  avoids = True              pos : neg    =     11.7 : 1.0\n",
      "             uninvolving = True              neg : pos    =     11.7 : 1.0\n",
      "              astounding = True              pos : neg    =     10.3 : 1.0\n",
      "             fascination = True              pos : neg    =     10.3 : 1.0\n",
      "                 idiotic = True              neg : pos    =      9.8 : 1.0\n"
     ]
    }
   ],
   "source": [
    "minfreq = 10\n",
    "\n",
    "most_frequent = [w for w in set(movie_reviews.words()) if all_words[w] > minfreq]\n",
    "\n",
    "def most_frequent_word_feats(words):\n",
    "    return dict([(word, True) for word in words if word in most_frequent and word not in stopset])\n",
    "\n",
    "evaluate_classifier(most_common_word_feats)"
   ]
  },
  {
   "cell_type": "markdown",
   "metadata": {},
   "source": [
    "## Bigramas"
   ]
  },
  {
   "cell_type": "code",
   "execution_count": 16,
   "metadata": {
    "collapsed": false
   },
   "outputs": [
    {
     "name": "stdout",
     "output_type": "stream",
     "text": [
      "train on 1500 instances, test on 500 instances\n",
      "accuracy: 0.754\n",
      "pos precision: 0.680911680912\n",
      "pos recall: 0.956\n",
      "pos F-measure: 0.79534109817\n",
      "neg precision: 0.926174496644\n",
      "neg recall: 0.552\n",
      "neg F-measure: 0.691729323308\n",
      "Most Informative Features\n",
      "      (u'not', u'funny') = True              neg : pos    =     13.7 : 1.0\n",
      "     (u'matt', u'damon') = True              pos : neg    =     13.7 : 1.0\n",
      "     (u'and', u'boring') = True              neg : pos    =     13.0 : 1.0\n",
      "  (u'a', u'wonderfully') = True              pos : neg    =     13.0 : 1.0\n",
      "    (u'is', u'terrific') = True              pos : neg    =     13.0 : 1.0\n",
      "    (u'perfect', u'for') = True              pos : neg    =     12.3 : 1.0\n",
      "       (u'a', u'boring') = True              neg : pos    =     11.7 : 1.0\n",
      "      (u'the', u'magic') = True              pos : neg    =     11.0 : 1.0\n",
      "        (u'how', u'bad') = True              neg : pos    =     11.0 : 1.0\n",
      "          (u'son', u\"'\") = True              pos : neg    =     11.0 : 1.0\n"
     ]
    }
   ],
   "source": [
    "import itertools\n",
    "\n",
    "def bigram_feats(words):\n",
    "    bigrams = nltk.bigrams(words)\n",
    "    return dict([(word, True) for word in bigrams])\n",
    "\n",
    "evaluate_classifier(bigram_feats)"
   ]
  },
  {
   "cell_type": "markdown",
   "metadata": {},
   "source": [
    "## Bigramas y palabras"
   ]
  },
  {
   "cell_type": "code",
   "execution_count": 13,
   "metadata": {
    "collapsed": false
   },
   "outputs": [
    {
     "name": "stdout",
     "output_type": "stream",
     "text": [
      "train on 1500 instances, test on 500 instances\n",
      "accuracy: 0.74\n",
      "pos precision: 0.664835164835\n",
      "pos recall: 0.968\n",
      "pos F-measure: 0.788273615635\n",
      "neg precision: 0.941176470588\n",
      "neg recall: 0.512\n",
      "neg F-measure: 0.663212435233\n",
      "Most Informative Features\n",
      "             magnificent = True              pos : neg    =     15.0 : 1.0\n",
      "      (u'not', u'funny') = True              neg : pos    =     13.7 : 1.0\n",
      "     (u'matt', u'damon') = True              pos : neg    =     13.7 : 1.0\n",
      "             outstanding = True              pos : neg    =     13.6 : 1.0\n",
      "               insulting = True              neg : pos    =     13.0 : 1.0\n",
      "     (u'and', u'boring') = True              neg : pos    =     13.0 : 1.0\n",
      "  (u'a', u'wonderfully') = True              pos : neg    =     13.0 : 1.0\n",
      "    (u'is', u'terrific') = True              pos : neg    =     13.0 : 1.0\n",
      "    (u'perfect', u'for') = True              pos : neg    =     12.3 : 1.0\n",
      "              vulnerable = True              pos : neg    =     12.3 : 1.0\n"
     ]
    }
   ],
   "source": [
    "import itertools\n",
    "\n",
    "def word_and_bigram_feats(words):\n",
    "    bigrams = nltk.bigrams(words)\n",
    "    return dict([(word, True) for word in itertools.chain(words,bigrams)])\n",
    "\n",
    "evaluate_classifier(word_and_bigram_feats)"
   ]
  },
  {
   "cell_type": "markdown",
   "metadata": {},
   "source": [
    "## Seleccion de los bigramas más significativos "
   ]
  },
  {
   "cell_type": "code",
   "execution_count": 60,
   "metadata": {
    "collapsed": true
   },
   "outputs": [],
   "source": [
    "BigramCollocationFinder?"
   ]
  },
  {
   "cell_type": "code",
   "execution_count": 62,
   "metadata": {
    "collapsed": true
   },
   "outputs": [],
   "source": [
    "BigramAssocMeasures.chi_sq?"
   ]
  },
  {
   "cell_type": "code",
   "execution_count": 58,
   "metadata": {
    "collapsed": false
   },
   "outputs": [
    {
     "name": "stdout",
     "output_type": "stream",
     "text": [
      "train on 1500 instances, test on 500 instances\n",
      "accuracy: 0.816\n",
      "pos precision: 0.753205128205\n",
      "pos recall: 0.94\n",
      "pos F-measure: 0.836298932384\n",
      "neg precision: 0.920212765957\n",
      "neg recall: 0.692\n",
      "neg F-measure: 0.7899543379\n",
      "Most Informative Features\n",
      "             magnificent = True              pos : neg    =     15.0 : 1.0\n",
      "             outstanding = True              pos : neg    =     13.6 : 1.0\n",
      "               insulting = True              neg : pos    =     13.0 : 1.0\n",
      "              vulnerable = True              pos : neg    =     12.3 : 1.0\n",
      "     (u'matt', u'damon') = True              pos : neg    =     12.3 : 1.0\n",
      "        (u'give', u'us') = True              neg : pos    =     12.3 : 1.0\n",
      "               ludicrous = True              neg : pos    =     11.8 : 1.0\n",
      "                  avoids = True              pos : neg    =     11.7 : 1.0\n",
      "             uninvolving = True              neg : pos    =     11.7 : 1.0\n",
      "  (u'absolutely', u'no') = True              neg : pos    =     10.6 : 1.0\n"
     ]
    }
   ],
   "source": [
    "from nltk.collocations import BigramCollocationFinder\n",
    "from nltk.metrics import BigramAssocMeasures\n",
    " \n",
    "def bigram_word_feats(words, score_fn=BigramAssocMeasures.chi_sq, n=200):\n",
    "    bigram_finder = BigramCollocationFinder.from_words(words)\n",
    "    bigrams = bigram_finder.nbest(score_fn, n)\n",
    "    return dict([(ngram, True) for ngram in itertools.chain(words, bigrams)])\n",
    " \n",
    "evaluate_classifier(bigram_word_feats)\n"
   ]
  },
  {
   "cell_type": "markdown",
   "metadata": {},
   "source": [
    "## Selección de las palabras más significativas"
   ]
  },
  {
   "cell_type": "code",
   "execution_count": 63,
   "metadata": {
    "collapsed": false
   },
   "outputs": [
    {
     "name": "stdout",
     "output_type": "stream",
     "text": [
      "evaluating best word features\n",
      "train on 1500 instances, test on 500 instances\n",
      "accuracy: 0.932\n",
      "pos precision: 0.894160583942\n",
      "pos recall: 0.98\n",
      "pos F-measure: 0.935114503817\n",
      "neg precision: 0.977876106195\n",
      "neg recall: 0.884\n",
      "neg F-measure: 0.928571428571\n",
      "Most Informative Features\n",
      "             magnificent = True              pos : neg    =     15.0 : 1.0\n",
      "             outstanding = True              pos : neg    =     13.6 : 1.0\n",
      "               insulting = True              neg : pos    =     13.0 : 1.0\n",
      "              vulnerable = True              pos : neg    =     12.3 : 1.0\n",
      "               ludicrous = True              neg : pos    =     11.8 : 1.0\n",
      "                  avoids = True              pos : neg    =     11.7 : 1.0\n",
      "             uninvolving = True              neg : pos    =     11.7 : 1.0\n",
      "             fascination = True              pos : neg    =     10.3 : 1.0\n",
      "              astounding = True              pos : neg    =     10.3 : 1.0\n",
      "                 idiotic = True              neg : pos    =      9.8 : 1.0\n"
     ]
    }
   ],
   "source": [
    "from nltk.collocations import BigramCollocationFinder\n",
    "from nltk.metrics import BigramAssocMeasures\n",
    "from nltk.probability import FreqDist, ConditionalFreqDist\n",
    " \n",
    "\n",
    "word_fd = FreqDist()\n",
    "label_word_fd = ConditionalFreqDist()\n",
    "\n",
    "for word in movie_reviews.words(categories = ['pos']):\n",
    "    word_fd[word.lower()] += 1\n",
    "    label_word_fd['pos'][word.lower()] +=1\n",
    "    \n",
    "for word in movie_reviews.words(categories = ['neg']):\n",
    "    word_fd[word.lower()] += 1\n",
    "    label_word_fd['neg'][word.lower()] += 1\n",
    "\n",
    "pos_word_count = label_word_fd['pos'].N()\n",
    "neg_word_count = label_word_fd['neg'].N()\n",
    "total_word_count = pos_word_count + neg_word_count\n",
    "\n",
    "word_scores = {}\n",
    "\n",
    "for word, freq in word_fd.iteritems():\n",
    "    pos_score = BigramAssocMeasures.chi_sq(label_word_fd['pos'][word],\n",
    "        (freq, pos_word_count), total_word_count)\n",
    "    neg_score = BigramAssocMeasures.chi_sq(label_word_fd['neg'][word],\n",
    "        (freq, neg_word_count), total_word_count)\n",
    "    word_scores[word] = pos_score + neg_score\n",
    "\n",
    "best = sorted(word_scores.iteritems(), key=lambda (w,s): s, reverse=True)[:10000]\n",
    "bestwords = set([w for w, s in best])    \n",
    "    \n",
    "def best_word_feats(words):\n",
    "    return dict([(word, True) for word in words if word in bestwords])\n",
    "\n",
    "print 'evaluating best word features'\n",
    "evaluate_classifier(best_word_feats)\n",
    " "
   ]
  },
  {
   "cell_type": "markdown",
   "metadata": {},
   "source": [
    "## Selección de los bigramas y las palabras más significativos"
   ]
  },
  {
   "cell_type": "code",
   "execution_count": 64,
   "metadata": {
    "collapsed": false
   },
   "outputs": [
    {
     "name": "stdout",
     "output_type": "stream",
     "text": [
      "evaluating best words + bigram chi_sq word features\n",
      "train on 1500 instances, test on 500 instances\n",
      "accuracy: 0.92\n",
      "pos precision: 0.913385826772\n",
      "pos recall: 0.928\n",
      "pos F-measure: 0.920634920635\n",
      "neg precision: 0.926829268293\n",
      "neg recall: 0.912\n",
      "neg F-measure: 0.91935483871\n",
      "Most Informative Features\n",
      "             magnificent = True              pos : neg    =     15.0 : 1.0\n",
      "             outstanding = True              pos : neg    =     13.6 : 1.0\n",
      "               insulting = True              neg : pos    =     13.0 : 1.0\n",
      "              vulnerable = True              pos : neg    =     12.3 : 1.0\n",
      "     (u'matt', u'damon') = True              pos : neg    =     12.3 : 1.0\n",
      "        (u'give', u'us') = True              neg : pos    =     12.3 : 1.0\n",
      "               ludicrous = True              neg : pos    =     11.8 : 1.0\n",
      "                  avoids = True              pos : neg    =     11.7 : 1.0\n",
      "             uninvolving = True              neg : pos    =     11.7 : 1.0\n",
      "  (u'absolutely', u'no') = True              neg : pos    =     10.6 : 1.0\n"
     ]
    }
   ],
   "source": [
    "def best_bigram_word_feats(words, score_fn=BigramAssocMeasures.chi_sq, n=200):\n",
    "    bigram_finder = BigramCollocationFinder.from_words(words)\n",
    "    bigrams = bigram_finder.nbest(score_fn, n)\n",
    "    d = dict([(bigram, True) for bigram in bigrams])\n",
    "    d.update(best_word_feats(words))\n",
    "    return d\n",
    " \n",
    "print 'evaluating best words + bigram chi_sq word features'\n",
    "evaluate_classifier(best_bigram_word_feats)"
   ]
  },
  {
   "cell_type": "code",
   "execution_count": null,
   "metadata": {
    "collapsed": true
   },
   "outputs": [],
   "source": []
  }
 ],
 "metadata": {
  "kernelspec": {
   "display_name": "Python 2",
   "language": "python",
   "name": "python2"
  },
  "language_info": {
   "codemirror_mode": {
    "name": "ipython",
    "version": 2
   },
   "file_extension": ".py",
   "mimetype": "text/x-python",
   "name": "python",
   "nbconvert_exporter": "python",
   "pygments_lexer": "ipython2",
   "version": "2.7.3"
  }
 },
 "nbformat": 4,
 "nbformat_minor": 0
}
