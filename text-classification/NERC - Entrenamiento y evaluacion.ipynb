{
 "cells": [
  {
   "cell_type": "markdown",
   "metadata": {
    "slideshow": {
     "slide_type": "slide"
    }
   },
   "source": [
    "# Named Entity Recognition and Classification \n",
    "\n",
    "Evaluación y seleccion de características\n"
   ]
  },
  {
   "cell_type": "markdown",
   "metadata": {
    "slideshow": {
     "slide_type": "slide"
    }
   },
   "source": [
    "## Estructura del modulo de etiquetado\n",
    "\n",
    " * `NamedEntityTagger' - entrena el clasificador a partir del dataset de entrenamiento \n",
    " * `tag()` - toma una frase como entrada y propone una secuencia de etiquetas de tipo de entidad \n",
    "   * la frase de entrada es una lista de tuplas formados por tokens etiquetados con información moorfosintactica\n",
    "   * la salida hace zip de la frase y la secuencia de etiquetas de entidad (ne_tag)"
   ]
  },
  {
   "cell_type": "markdown",
   "metadata": {
    "slideshow": {
     "slide_type": "slide"
    }
   },
   "source": [
    "## Extracción de características\n",
    "\n",
    " * la extraccion de caracteristicas se encapsula en la función `ne_features`\n",
    "   * `sentence` - lista de tokens etiquetados con tag morfosintactico \n",
    "   * `i` - indice para el token que queremos reprensentar en una instancia para el algoritmo de clasificación \n",
    "   * `history` - lista de etiquetas de entidad hasta la posicion i-1 "
   ]
  },
  {
   "cell_type": "code",
   "execution_count": null,
   "metadata": {
    "collapsed": false,
    "slideshow": {
     "slide_type": "slide"
    }
   },
   "outputs": [],
   "source": [
    "import nltk \n",
    "\n",
    "class NamedEntityTagger(nltk.TaggerI):\n",
    "    def __init__(self,train_sents):\n",
    "        train_set=[]\n",
    "        for sentence in train_sents:\n",
    "            untagged_sent = [(word, tag) for (word, tag, ne_tag) in sentence]\n",
    "            history = []\n",
    "            for i, (word, tag, ne_tag) in enumerate(sentence):\n",
    "                featureset = ne_features(untagged_sent, i, history)\n",
    "                train_set.append( (featureset, ne_tag) ) \n",
    "                history.append(ne_tag)\n",
    "        self.classifier = nltk.NaiveBayesClassifier.train(train_set)\n",
    "        \n",
    "        \n",
    "    def tag(self, sentence):\n",
    "        history = []\n",
    "        for i, (word, tag) in enumerate(sentence):\n",
    "            featureset = ne_features(sentence, i, history)\n",
    "            tag = self.classifier.classify(featureset)\n",
    "            history.append(tag)\n",
    "        return zip(sentence, history)"
   ]
  },
  {
   "cell_type": "markdown",
   "metadata": {
    "slideshow": {
     "slide_type": "slide"
    }
   },
   "source": [
    "## Funcion para la extracción de características"
   ]
  },
  {
   "cell_type": "code",
   "execution_count": null,
   "metadata": {
    "collapsed": false
   },
   "outputs": [],
   "source": [
    "def ne_features(sentence, i, history):\n",
    "    word, pos = sentence[i]\n",
    "    return {\"word\": word}"
   ]
  },
  {
   "cell_type": "markdown",
   "metadata": {
    "slideshow": {
     "slide_type": "slide"
    }
   },
   "source": [
    "## Entrenamiento"
   ]
  },
  {
   "cell_type": "code",
   "execution_count": null,
   "metadata": {
    "collapsed": false
   },
   "outputs": [],
   "source": [
    "from nltk.corpus import conll2002\n",
    "\n",
    "## Ejemplo de uso que deseamos\n",
    "\n",
    "# Instanciar el tagger \n",
    "# - Usa el conjunto de entrenamiento etiquetado\n",
    "# - Extraer características\n",
    "# - Entrenar el modelo\n",
    "train_sentences = conll2002.iob_sents('esp.train')\n",
    "nerctagger = NamedEntityTagger(train_sentences)"
   ]
  },
  {
   "cell_type": "markdown",
   "metadata": {
    "slideshow": {
     "slide_type": "slide"
    }
   },
   "source": [
    "## Etiquetado de una frase de ejemplo \n",
    "#### (index = 107)"
   ]
  },
  {
   "cell_type": "code",
   "execution_count": null,
   "metadata": {
    "collapsed": false,
    "slideshow": {
     "slide_type": "-"
    }
   },
   "outputs": [],
   "source": [
    "test_sentences = conll2002.iob_sents('esp.testa')\n",
    "test_sentence = [(word,tag) for (word,tag, ne_tag) in test_sentences[107]]\n",
    "\n",
    "# Etiquetar oraciones con la tercera columna (ne_tag) dadas las otras dos (word, tag)\n",
    "# - Extraer características \n",
    "# - Usar el modelo entrenado para inferir la nueva etiqueta\n",
    "# - Otros pasos?\n",
    "nerctagger.tag(test_sentence)"
   ]
  },
  {
   "cell_type": "markdown",
   "metadata": {
    "slideshow": {
     "slide_type": "slide"
    }
   },
   "source": [
    "## Evaluación"
   ]
  },
  {
   "cell_type": "code",
   "execution_count": null,
   "metadata": {
    "collapsed": false
   },
   "outputs": [],
   "source": [
    "# Ver la secuencia etiquetada por nosotros\n",
    "tagged_sentence = nerctagger.tag(test_sentence)\n",
    "[(ne_tag) for (pair,ne_tag) in tagged_sentence]"
   ]
  },
  {
   "cell_type": "code",
   "execution_count": null,
   "metadata": {
    "collapsed": false,
    "slideshow": {
     "slide_type": "slide"
    }
   },
   "outputs": [],
   "source": [
    "# Ver la secuencia etiquetada en el gold standard \n",
    "[(ne_tag) for (word,tag, ne_tag) in test_sentences[107]]"
   ]
  },
  {
   "cell_type": "code",
   "execution_count": null,
   "metadata": {
    "collapsed": false,
    "slideshow": {
     "slide_type": "slide"
    }
   },
   "outputs": [],
   "source": [
    "# Ver las dos secuencias pareadas\n",
    "zip([(ne_tag) for (word,tag, ne_tag) in test_sentences[107]], [(ne_tag) for (pair,ne_tag) in tagged_sentence] )"
   ]
  },
  {
   "cell_type": "markdown",
   "metadata": {
    "slideshow": {
     "slide_type": "slide"
    }
   },
   "source": [
    "### Evaluar Precision, Recall y F para una de las etiquetas (I-ORG) y la frase de ejemplo"
   ]
  },
  {
   "cell_type": "code",
   "execution_count": null,
   "metadata": {
    "collapsed": false
   },
   "outputs": [],
   "source": [
    "import collections \n",
    "\n",
    "refsets = collections.defaultdict(set)\n",
    "testsets = collections.defaultdict(set)\n",
    "\n",
    "for i, (word,tag,label) in enumerate(test_sentences[107]):\n",
    "        refsets[label].add(i)\n",
    "\n",
    "for i, (pair,predicted) in enumerate(tagged_sentence):\n",
    "        testsets[predicted].add(i)\n",
    "\n",
    "label_type='I-ORG'\n",
    "print 'precision:', nltk.metrics.precision(refsets[label_type], testsets[label_type])\n",
    "print 'recall:', nltk.metrics.recall(refsets[label_type], testsets[label_type])\n",
    "print 'F-measure:', nltk.metrics.f_measure(refsets[label_type], testsets[label_type])        "
   ]
  },
  {
   "cell_type": "code",
   "execution_count": null,
   "metadata": {
    "collapsed": false,
    "scrolled": false,
    "slideshow": {
     "slide_type": "slide"
    }
   },
   "outputs": [],
   "source": [
    "for label_type in ['B-LOC','I-LOC','B-ORG','I-ORG','B-PER','I-PER']:\n",
    "    print 'precision(%s):' % label_type, nltk.metrics.precision(refsets[label_type], testsets[label_type])\n",
    "    print 'recall(%s):' % label_type, nltk.metrics.recall(refsets[label_type], testsets[label_type])\n",
    "    print 'F-measure(%s):' % label_type, nltk.metrics.f_measure(refsets[label_type], testsets[label_type])\n",
    "    print '\\n'"
   ]
  },
  {
   "cell_type": "markdown",
   "metadata": {
    "slideshow": {
     "slide_type": "slide"
    }
   },
   "source": [
    "### Funcion de evaluación\n",
    "\n",
    "* Para cada frase del corpus de test compara los etiquetados\n",
    "* Mide Precision, Recall y F para cada una de los tipos de  etiquetas interesantes - todas salvo O \n",
    "* Haz la media (macro-average) para cada una de los tipos de etiqueta"
   ]
  },
  {
   "cell_type": "code",
   "execution_count": null,
   "metadata": {
    "collapsed": false,
    "slideshow": {
     "slide_type": "slide"
    }
   },
   "outputs": [],
   "source": [
    "\n",
    "def eval(nerctagger, test_sentences):\n",
    "    refsets = collections.defaultdict(set)\n",
    "    testsets = collections.defaultdict(set)\n",
    "\n",
    "    i = 0\n",
    "    for test_sentence in test_sentences:\n",
    "        tagged_sentence = nerctagger.tag([(word,tag) for (word,tag, ne_tag) in test_sentence])\n",
    "        for ((word,tag,label),(pair,predicted)) in zip(test_sentence,tagged_sentence):\n",
    "            refsets[label].add(i)\n",
    "            testsets[predicted].add(i)\n",
    "            i = i+1\n",
    "\n",
    "    tags = ['B-LOC','I-LOC','B-ORG','I-ORG','B-PER','I-PER']\n",
    "    \n",
    "    (ma_precision, ma_recall, ma_fmeasure) = (0,0,0)\n",
    "    for label_type in tags:\n",
    "        precision = nltk.metrics.precision(refsets[label_type], testsets[label_type])\n",
    "        recall = nltk.metrics.recall(refsets[label_type], testsets[label_type])\n",
    "        fmeasure = nltk.metrics.f_measure(refsets[label_type], testsets[label_type])\n",
    "        print 'precision(%s):' % label_type, precision \n",
    "        print 'recall(%s):' % label_type, recall \n",
    "        print 'F-measure(%s):' % label_type, fmeasure\n",
    "        print '\\n'\n",
    "        ma_precision += precision\n",
    "        ma_recall += recall\n",
    "        ma_fmeasure += fmeasure\n",
    "        \n",
    "        \n",
    "    print \"--------------------------------------------------------------------------------\"\n",
    "    print \"Precision (Ma):\", ma_precision/len(tags)  \n",
    "    print \"Recall (Ma):\", ma_recall/len(tags)\n",
    "    print \"F-measure (Ma):\", ma_fmeasure/len(tags)\n",
    "    print \"--------------------------------------------------------------------------------\""
   ]
  },
  {
   "cell_type": "markdown",
   "metadata": {
    "slideshow": {
     "slide_type": "slide"
    }
   },
   "source": [
    "### Evalua el etiquetados en el conjunto de datos de prueba"
   ]
  },
  {
   "cell_type": "code",
   "execution_count": null,
   "metadata": {
    "collapsed": false
   },
   "outputs": [],
   "source": [
    "eval(nerctagger, test_sentences)"
   ]
  },
  {
   "cell_type": "markdown",
   "metadata": {
    "slideshow": {
     "slide_type": "slide"
    }
   },
   "source": [
    "## Extracción de características - usando la ventana de palabras previa "
   ]
  },
  {
   "cell_type": "code",
   "execution_count": null,
   "metadata": {
    "collapsed": false
   },
   "outputs": [],
   "source": [
    "\n",
    "def ne_features(sentence, i, history):\n",
    "    word, pos = sentence[i]\n",
    "    if i == 0:\n",
    "        prevword, prevpos = \"<START>\", \"<START>\"\n",
    "    else:\n",
    "        prevword, prevpos = sentence[i-1]\n",
    "    if i == 0:\n",
    "        prevtag = \"<START>\"\n",
    "    else:\n",
    "        prevtag = history[i-1]        \n",
    "    return {\"word\": word, \"isAlnum\": word.isalnum(), \"isDigit\": word.isdigit(), \"pos\": pos, \"prevword\": prevword, \"prevpos\": prevpos, \"prevtag\" : prevtag}\n",
    "\n",
    "nerctagger = NamedEntityTagger(train_sentences)\n",
    "eval(nerctagger, test_sentences)"
   ]
  },
  {
   "cell_type": "code",
   "execution_count": null,
   "metadata": {
    "collapsed": true
   },
   "outputs": [],
   "source": [
    " "
   ]
  }
 ],
 "metadata": {
  "celltoolbar": "Slideshow",
  "kernelspec": {
   "display_name": "Python 2",
   "language": "python",
   "name": "python2"
  },
  "language_info": {
   "codemirror_mode": {
    "name": "ipython",
    "version": 2
   },
   "file_extension": ".py",
   "mimetype": "text/x-python",
   "name": "python",
   "nbconvert_exporter": "python",
   "pygments_lexer": "ipython2",
   "version": "2.7.10"
  }
 },
 "nbformat": 4,
 "nbformat_minor": 0
}
