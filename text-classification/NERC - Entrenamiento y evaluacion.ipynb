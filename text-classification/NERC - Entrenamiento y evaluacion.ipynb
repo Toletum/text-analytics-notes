{
 "cells": [
  {
   "cell_type": "code",
   "execution_count": 95,
   "metadata": {
    "collapsed": false
   },
   "outputs": [],
   "source": [
    "import nltk \n",
    "\n",
    "class NamedEntityTagger(nltk.TaggerI):\n",
    "    def __init__(self,train_sents):\n",
    "        train_set=[]\n",
    "        for sentence in train_sents:\n",
    "            untagged_sent = [(word, tag) for (word, tag, ne_tag) in sentence]\n",
    "            history = []\n",
    "            for i, (word, tag, ne_tag) in enumerate(sentence):\n",
    "                featureset = ne_features(untagged_sent, i, history)\n",
    "                train_set.append( (featureset, ne_tag) ) \n",
    "                history.append(ne_tag)\n",
    "        self.classifier = nltk.NaiveBayesClassifier.train(train_set)\n",
    "        \n",
    "        \n",
    "    def tag(self, sentence):\n",
    "        history = []\n",
    "        for i, (word, tag) in enumerate(sentence):\n",
    "            featureset = ne_features(sentence, i, history)\n",
    "            tag = self.classifier.classify(featureset)\n",
    "            history.append(tag)\n",
    "        return zip(sentence, history)"
   ]
  },
  {
   "cell_type": "code",
   "execution_count": 99,
   "metadata": {
    "collapsed": false
   },
   "outputs": [],
   "source": [
    "def ne_features(sentence, i, history):\n",
    "    word, pos = sentence[i]\n",
    "    return {\"word\": word}"
   ]
  },
  {
   "cell_type": "code",
   "execution_count": 100,
   "metadata": {
    "collapsed": false
   },
   "outputs": [
    {
     "data": {
      "text/plain": [
       "[((u'El', u'DA'), u'O'),\n",
       " ((u'miembro', u'NC'), u'O'),\n",
       " ((u'de', u'SP'), u'O'),\n",
       " ((u'la', u'DA'), u'O'),\n",
       " ((u'Comisi\\xf3n', u'NC'), u'B-ORG'),\n",
       " ((u'Regional', u'AQ'), u'I-ORG'),\n",
       " ((u'de', u'SP'), u'O'),\n",
       " ((u'UCE', u'VMI'), u'B-ORG'),\n",
       " ((u'Emilio', u'NC'), u'B-PER'),\n",
       " ((u'Guerrero', u'NC'), u'I-PER'),\n",
       " ((u'expondr\\xe1', u'VMI'), u'O'),\n",
       " ((u'la', u'DA'), u'O'),\n",
       " ((u'posici\\xf3n', u'NC'), u'O'),\n",
       " ((u'de', u'SP'), u'O'),\n",
       " ((u'esta', u'DD'), u'O'),\n",
       " ((u'organizaci\\xf3n', u'NC'), u'O'),\n",
       " ((u'agraria', u'AQ'), u'O'),\n",
       " ((u'respecto', u'NC'), u'O'),\n",
       " ((u'a', u'SP'), u'O'),\n",
       " ((u'la', u'DA'), u'O'),\n",
       " ((u'pr\\xf3xima', u'AQ'), u'O'),\n",
       " ((u'campa\\xf1a', u'NC'), u'O'),\n",
       " ((u'de', u'SP'), u'O'),\n",
       " ((u'tomate', u'NC'), u'O'),\n",
       " ((u'.', u'Fp'), u'O')]"
      ]
     },
     "execution_count": 100,
     "metadata": {},
     "output_type": "execute_result"
    }
   ],
   "source": [
    "from nltk.corpus import conll2002\n",
    "\n",
    "## Ejemplo de uso que deseamos\n",
    "\n",
    "# Instanciar el tagger \n",
    "# - Usa el conjunto de entrenamiento etiquetado\n",
    "# - Extraer características\n",
    "# - Entrenar el modelo\n",
    "train_sentences = conll2002.iob_sents('esp.train')\n",
    "nerctagger = NamedEntityTagger(train_sentences)\n",
    "\n",
    "test_sentences = conll2002.iob_sents('esp.testa')\n",
    "test_sentence = [(word,tag) for (word,tag, ne_tag) in test_sentences[107]]\n",
    "\n",
    "# Etiquetar oraciones con la tercera columna (ne_tag) dadas las otras dos (word, tag)\n",
    "# - Extraer características \n",
    "# - Usar el modelo entrenado para inferir la nueva etiqueta\n",
    "# - Otros pasos?\n",
    "nerctagger.tag(test_sentence)"
   ]
  },
  {
   "cell_type": "code",
   "execution_count": 16,
   "metadata": {
    "collapsed": false
   },
   "outputs": [
    {
     "data": {
      "text/plain": [
       "[u'O',\n",
       " u'O',\n",
       " u'O',\n",
       " u'O',\n",
       " u'B-ORG',\n",
       " u'I-ORG',\n",
       " u'O',\n",
       " u'B-ORG',\n",
       " u'B-PER',\n",
       " u'I-PER',\n",
       " u'O',\n",
       " u'O',\n",
       " u'O',\n",
       " u'O',\n",
       " u'O',\n",
       " u'O',\n",
       " u'O',\n",
       " u'O',\n",
       " u'O',\n",
       " u'O',\n",
       " u'O',\n",
       " u'O',\n",
       " u'O',\n",
       " u'O',\n",
       " u'O']"
      ]
     },
     "execution_count": 16,
     "metadata": {},
     "output_type": "execute_result"
    }
   ],
   "source": [
    "tagged_sentence = nerctagger.tag(test_sentence)\n",
    "[(ne_tag) for (pair,ne_tag) in tagged_sentence]"
   ]
  },
  {
   "cell_type": "code",
   "execution_count": 17,
   "metadata": {
    "collapsed": false
   },
   "outputs": [
    {
     "data": {
      "text/plain": [
       "[u'O',\n",
       " u'O',\n",
       " u'O',\n",
       " u'O',\n",
       " u'B-ORG',\n",
       " u'I-ORG',\n",
       " u'I-ORG',\n",
       " u'I-ORG',\n",
       " u'B-PER',\n",
       " u'I-PER',\n",
       " u'O',\n",
       " u'O',\n",
       " u'O',\n",
       " u'O',\n",
       " u'O',\n",
       " u'O',\n",
       " u'O',\n",
       " u'O',\n",
       " u'O',\n",
       " u'O',\n",
       " u'O',\n",
       " u'O',\n",
       " u'O',\n",
       " u'O',\n",
       " u'O']"
      ]
     },
     "execution_count": 17,
     "metadata": {},
     "output_type": "execute_result"
    }
   ],
   "source": [
    "[(ne_tag) for (word,tag, ne_tag) in test_sentences[107]]"
   ]
  },
  {
   "cell_type": "code",
   "execution_count": 26,
   "metadata": {
    "collapsed": false
   },
   "outputs": [
    {
     "data": {
      "text/plain": [
       "[(u'O', u'O'),\n",
       " (u'O', u'O'),\n",
       " (u'O', u'O'),\n",
       " (u'O', u'O'),\n",
       " (u'B-ORG', u'B-ORG'),\n",
       " (u'I-ORG', u'I-ORG'),\n",
       " (u'I-ORG', u'O'),\n",
       " (u'I-ORG', u'B-ORG'),\n",
       " (u'B-PER', u'B-PER'),\n",
       " (u'I-PER', u'I-PER'),\n",
       " (u'O', u'O'),\n",
       " (u'O', u'O'),\n",
       " (u'O', u'O'),\n",
       " (u'O', u'O'),\n",
       " (u'O', u'O'),\n",
       " (u'O', u'O'),\n",
       " (u'O', u'O'),\n",
       " (u'O', u'O'),\n",
       " (u'O', u'O'),\n",
       " (u'O', u'O'),\n",
       " (u'O', u'O'),\n",
       " (u'O', u'O'),\n",
       " (u'O', u'O'),\n",
       " (u'O', u'O'),\n",
       " (u'O', u'O')]"
      ]
     },
     "execution_count": 26,
     "metadata": {},
     "output_type": "execute_result"
    }
   ],
   "source": [
    "zip([(ne_tag) for (word,tag, ne_tag) in test_sentences[107]], [(ne_tag) for (pair,ne_tag) in tagged_sentence] )"
   ]
  },
  {
   "cell_type": "code",
   "execution_count": 27,
   "metadata": {
    "collapsed": false
   },
   "outputs": [
    {
     "name": "stdout",
     "output_type": "stream",
     "text": [
      "pos precision: 1.0\n",
      "pos recall: 0.333333333333\n",
      "pos F-measure: 0.5\n"
     ]
    }
   ],
   "source": [
    "import collections \n",
    "\n",
    "refsets = collections.defaultdict(set)\n",
    "testsets = collections.defaultdict(set)\n",
    "\n",
    "for i, (word,tag,label) in enumerate(test_sentences[107]):\n",
    "        refsets[label].add(i)\n",
    "\n",
    "for i, (pair,predicted) in enumerate(tagged_sentence):\n",
    "        testsets[predicted].add(i)\n",
    "\n",
    "label_type='I-ORG'\n",
    "print 'precision:', nltk.metrics.precision(refsets[label_type], testsets[label_type])\n",
    "print 'recall:', nltk.metrics.recall(refsets[label_type], testsets[label_type])\n",
    "print 'F-measure:', nltk.metrics.f_measure(refsets[label_type], testsets[label_type])        "
   ]
  },
  {
   "cell_type": "code",
   "execution_count": 33,
   "metadata": {
    "collapsed": false
   },
   "outputs": [
    {
     "name": "stdout",
     "output_type": "stream",
     "text": [
      "precision(B-LOC): None\n",
      "recall(B-LOC): None\n",
      "F-measure(B-LOC): None\n",
      "\n",
      "\n",
      "precision(I-LOC): None\n",
      "recall(I-LOC): None\n",
      "F-measure(I-LOC): None\n",
      "\n",
      "\n",
      "precision(B-ORG): 0.5\n",
      "recall(B-ORG): 1.0\n",
      "F-measure(B-ORG): 0.666666666667\n",
      "\n",
      "\n",
      "precision(I-ORG): 1.0\n",
      "recall(I-ORG): 0.333333333333\n",
      "F-measure(I-ORG): 0.5\n",
      "\n",
      "\n",
      "precision(B-PER): 1.0\n",
      "recall(B-PER): 1.0\n",
      "F-measure(B-PER): 1.0\n",
      "\n",
      "\n",
      "precision(I-PER): 1.0\n",
      "recall(I-PER): 1.0\n",
      "F-measure(I-PER): 1.0\n",
      "\n",
      "\n"
     ]
    }
   ],
   "source": [
    "for label_type in ['B-LOC','I-LOC','B-ORG','I-ORG','B-PER','I-PER']:\n",
    "    print 'precision(%s):' % label_type, nltk.metrics.precision(refsets[label_type], testsets[label_type])\n",
    "    print 'recall(%s):' % label_type, nltk.metrics.recall(refsets[label_type], testsets[label_type])\n",
    "    print 'F-measure(%s):' % label_type, nltk.metrics.f_measure(refsets[label_type], testsets[label_type])\n",
    "    print '\\n'"
   ]
  },
  {
   "cell_type": "code",
   "execution_count": 101,
   "metadata": {
    "collapsed": false
   },
   "outputs": [],
   "source": [
    "\n",
    "def eval(nerctagger, test_sentences):\n",
    "    refsets = collections.defaultdict(set)\n",
    "    testsets = collections.defaultdict(set)\n",
    "\n",
    "    i = 0\n",
    "    for test_sentence in test_sentences:\n",
    "        tagged_sentence = nerctagger.tag([(word,tag) for (word,tag, ne_tag) in test_sentence])\n",
    "        for ((word,tag,label),(pair,predicted)) in zip(test_sentence,tagged_sentence):\n",
    "            refsets[label].add(i)\n",
    "            testsets[predicted].add(i)\n",
    "            i = i+1\n",
    "\n",
    "    tags = ['B-LOC','I-LOC','B-ORG','I-ORG','B-PER','I-PER']\n",
    "    \n",
    "    (ma_precision, ma_recall, ma_fmeasure) = (0,0,0)\n",
    "    for label_type in tags:\n",
    "        precision = nltk.metrics.precision(refsets[label_type], testsets[label_type])\n",
    "        recall = nltk.metrics.recall(refsets[label_type], testsets[label_type])\n",
    "        fmeasure = nltk.metrics.f_measure(refsets[label_type], testsets[label_type])\n",
    "        print 'precision(%s):' % label_type, precision \n",
    "        print 'recall(%s):' % label_type, recall \n",
    "        print 'F-measure(%s):' % label_type, fmeasure\n",
    "        print '\\n'\n",
    "        ma_precision += precision\n",
    "        ma_recall += recall\n",
    "        ma_fmeasure += fmeasure\n",
    "        \n",
    "        \n",
    "    print \"--------------------------------------------------------------------------------\"\n",
    "    print \"Precision (Ma):\", ma_precision/len(tags)  \n",
    "    print \"Recall (Ma):\", ma_recall/len(tags)\n",
    "    print \"F-measure (Ma):\", ma_fmeasure/len(tags)\n",
    "    print \"--------------------------------------------------------------------------------\""
   ]
  },
  {
   "cell_type": "code",
   "execution_count": 98,
   "metadata": {
    "collapsed": false
   },
   "outputs": [
    {
     "name": "stdout",
     "output_type": "stream",
     "text": [
      "precision(B-LOC): 0.636925795053\n",
      "recall(B-LOC): 0.732723577236\n",
      "F-measure(B-LOC): 0.681474480151\n",
      "\n",
      "\n",
      "precision(I-LOC): 0.747967479675\n",
      "recall(I-LOC): 0.272997032641\n",
      "F-measure(I-LOC): 0.4\n",
      "\n",
      "\n",
      "precision(B-ORG): 0.806774441878\n",
      "recall(B-ORG): 0.616470588235\n",
      "F-measure(B-ORG): 0.698899633211\n",
      "\n",
      "\n",
      "precision(I-ORG): 0.617224880383\n",
      "recall(I-ORG): 0.188872620791\n",
      "F-measure(I-ORG): 0.289237668161\n",
      "\n",
      "\n",
      "precision(B-PER): 0.738486842105\n",
      "recall(B-PER): 0.367430441899\n",
      "F-measure(B-PER): 0.490710382514\n",
      "\n",
      "\n",
      "precision(I-PER): 0.582191780822\n",
      "recall(I-PER): 0.197904540163\n",
      "F-measure(I-PER): 0.295395308427\n",
      "\n",
      "\n",
      "--------------------------------------------------------------------------------\n",
      "Precision (Ma): 0.688261869986\n",
      "Recall (Ma): 0.396066466827\n",
      "F-measure (Ma): 0.475952912077\n",
      "--------------------------------------------------------------------------------\n"
     ]
    }
   ],
   "source": [
    "eval(nerctagger, test_sentences)"
   ]
  },
  {
   "cell_type": "code",
   "execution_count": null,
   "metadata": {
    "collapsed": true
   },
   "outputs": [],
   "source": []
  }
 ],
 "metadata": {
  "kernelspec": {
   "display_name": "Python 2",
   "language": "python",
   "name": "python2"
  },
  "language_info": {
   "codemirror_mode": {
    "name": "ipython",
    "version": 2
   },
   "file_extension": ".py",
   "mimetype": "text/x-python",
   "name": "python",
   "nbconvert_exporter": "python",
   "pygments_lexer": "ipython2",
   "version": "2.7.3"
  }
 },
 "nbformat": 4,
 "nbformat_minor": 0
}
