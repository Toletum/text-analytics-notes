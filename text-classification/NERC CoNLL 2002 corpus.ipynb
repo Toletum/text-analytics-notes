{
 "cells": [
  {
   "cell_type": "markdown",
   "metadata": {},
   "source": [
    "#Extracción de información usando métodos estadísticos\n",
    "\n",
    "## Named Entity Recognition and Classification\n",
    "\n",
    "Objetivo: Identificar entidades nombradas de los tipos principales como Personas, Lugares u Organizaciones \n",
    "\n",
    "Ejemplo sencillo de como realizar una tarea de clasificación secuencial\n",
    "\n",
    "* Codificación de características \n",
    "* Uso de algoritmos de clasificación \n",
    "* Evaluación \n",
    "* Ventajas e inconvenientes\n"
   ]
  },
  {
   "cell_type": "code",
   "execution_count": 2,
   "metadata": {
    "collapsed": false
   },
   "outputs": [
    {
     "name": "stdout",
     "output_type": "stream",
     "text": [
      "These files contain the train and test data for for the three parts of \n",
      "the CoNLL-2002 shared task:\n",
      "\n",
      "   esp.testa: Spanish test data for the development stage\n",
      "   esp.testb: Spanish test data\n",
      "   esp.train: Spanish train data\n",
      "   ned.testa: Dutch test data for the development stage\n",
      "   ned.testb: Dutch test data\n",
      "   ned.train: Dutch train data\n",
      "\n",
      "All data files contain a single word per line with it associated \n",
      "named entity tag in the IOB2 format (Tjong Kim Sang and Veenstra,\n",
      "EACL 1999). Sentence breaks are encoded by empty lines. Additionally\n",
      "the Dutch data contains non-checked part-of-speech tags generated\n",
      "by the MBT tagger (Daelemans et.al., WVLC 1996). In the Dutch data\n",
      "article boundaries have been marked by a special tag (-DOCSTART-).\n",
      "\n",
      "Associated url: http://lcg-www.uia.ac.be/conll2002/ner/\n",
      "\n",
      "\n",
      "NOTES\n",
      "\n",
      "* Files in these directories may only be used for research\n",
      "  applications in the context of the CoNLL-2002 shared task.\n",
      "  No permission is given for usage other applications especially\n",
      "  not for commercial applications.\n",
      "* Some redundant empty lines have been removed from the Spanish \n",
      "  data files at May 1, 2002. The extra empty lines had no effect \n",
      "  on the evaluation results.\n",
      "* An extra checkup round has been applied to the Dutch data files\n",
      "  and these have been replaced by new versions on August 22, 2002.\n",
      "  The original Dutch files which have been used by the participants\n",
      "  of CoNLL-2002 can be found in the subdirectory OldFiles.\n",
      "* Note that for copyright reasons the sentences in the Dutch files \n",
      "  have been randomized within each article. Your system can rely on \n",
      "  sentences between two article boundaries being of the same\n",
      "  article but it should not rely on first occurrences of entities.\n",
      "* Xavier Carreras provides the Spanish data sets with part of speech \n",
      "  tags at http://www.lsi.upc.es/~nlp/tools/nerc/nerc.html (20030803)\n",
      "* Inconsistencies in the named entity annotation can be reported\n",
      "  to Erik Tjong Kim Sang <erikt@uia.ua.ac.be>. \n",
      " \n",
      "\n",
      "ACKNOWLEDGEMENTS\n",
      "\n",
      "The Spanish data is a collection of news wire articles made\n",
      "available by the Spanish EFE News Agency. The articles are from \n",
      "May 2000. The annotation was carried out by the TALP Research \n",
      "Center (http://www.talp.upc.es/) of the Technical University \n",
      "of Catalonia (UPC) and the Center of Language and Computation \n",
      "(CLiC, http://clic.fil.ub.es/) of the University of Barcelona \n",
      "(UB), and funded by the European Commission through the NAMIC \n",
      "project (IST-1999-12392).\n",
      "\n",
      "The Dutch data consist of four editions of the Belgian newspaper\n",
      "\"De Morgen\" of 2000 (June 2, July 1, August 1 and September 1).\n",
      "The data was annotated as a part of the Atranos project\n",
      "(http://atranos.esat.kuleuven.ac.be/) at the University of\n",
      "Antwerp.\n",
      "\n",
      "\n"
     ]
    }
   ],
   "source": [
    "import nltk\n",
    "\n",
    "from nltk.corpus import conll2002\n",
    "\n",
    "print conll2002.readme()"
   ]
  },
  {
   "cell_type": "markdown",
   "metadata": {},
   "source": [
    "## Inspección del corpus\n",
    "\n",
    "Comentar las características especiales del corpus\n",
    "* Conjunto de entrenamiento, test y development \n",
    "* Estructura tabular: \n",
    "    * Token POS_tag NE_tag\n",
    "    * Codificación de los chucks: IOB2 format: B-PER I-PER O\n",
    "    * Clases: \n",
    "    * Separación de frases y documentos \n",
    "    * Todos los documentos van a uno de los conjuntos de datos - mantener la coherencia - ¿Cómo hacer validación cruzada?\n",
    "* Frecuencia de las categorias \n",
    "* Evaluacion"
   ]
  },
  {
   "cell_type": "code",
   "execution_count": 6,
   "metadata": {
    "collapsed": false
   },
   "outputs": [],
   "source": [
    "conll2002?"
   ]
  },
  {
   "cell_type": "code",
   "execution_count": 22,
   "metadata": {
    "collapsed": false
   },
   "outputs": [
    {
     "data": {
      "text/plain": [
       "u'Sao NC B-LOC\\nPaulo VMI I-LOC\\n( Fpa O\\nBrasil NC B-LOC\\n) Fpt O\\n, Fc O\\n23 Z O\\nmay NC O\\n( Fpa O\\nEFECOM NP B-ORG\\n) Fpt O\\n. Fp O\\n\\n- Fg O\\n\\nLa DA O\\nmultinacional NC O\\nespa\\xf1ola AQ O\\nTelef\\xf3nica AQ B-ORG\\nha VAI '"
      ]
     },
     "execution_count": 22,
     "metadata": {},
     "output_type": "execute_result"
    }
   ],
   "source": [
    "# Formato del corpus en modo texto \n",
    "\n",
    "conll2002.raw()[0:200]"
   ]
  },
  {
   "cell_type": "code",
   "execution_count": 29,
   "metadata": {
    "collapsed": false
   },
   "outputs": [
    {
     "name": "stdout",
     "output_type": "stream",
     "text": [
      "[u'Sao', u'Paulo', u'(', u'Brasil', u')', u',', u'23', ...]\n"
     ]
    }
   ],
   "source": [
    "# ¿Como representa la informacion el corpus en Python NLTLK\n",
    "\n",
    "words = conll2002.words()\n",
    "tagged_words = conll2002.tagged_words()\n",
    "sents = conll2002.sents()\n",
    "chunked_sents = conll2002.chunked_sents()\n",
    "\n",
    "# Does not support the para() - no hay información de parrafos\n",
    "\n",
    "print words"
   ]
  },
  {
   "cell_type": "code",
   "execution_count": 30,
   "metadata": {
    "collapsed": false
   },
   "outputs": [
    {
     "name": "stdout",
     "output_type": "stream",
     "text": [
      "(S\n",
      "  \"/Fe\n",
      "  (ORG Telefonica/AQ)\n",
      "  asumio/VMI\n",
      "  un/DI\n",
      "  compromiso/NC\n",
      "  con/SP\n",
      "  (LOC Brasil/NC)\n",
      "  ,/Fc\n",
      "  y/CC\n",
      "  en/SP\n",
      "  especial/AQ\n",
      "  con/SP\n",
      "  (LOC Sao/NC Paulo/VMI)\n",
      "  en/SP\n",
      "  1998/Z\n",
      "  (/Fpa\n",
      "  ano/NC\n",
      "  de/SP\n",
      "  privatizacion/NC\n",
      "  del/SP\n",
      "  sistema/NC\n",
      "  (MISC Telebras/AQ)\n",
      "  )/Fpt\n",
      "  y/CC\n",
      "  estamos/VMI\n",
      "  aqui/RG\n",
      "  para/SP\n",
      "  prestar/VMN\n",
      "  cuentas/NC\n",
      "  \"/Fe\n",
      "  ,/Fc\n",
      "  dijo/VMI\n",
      "  (PER Ferreira/NC)\n",
      "  en/SP\n",
      "  el/DA\n",
      "  acto/NC\n",
      "  de/SP\n",
      "  instalacion/NC\n",
      "  de/SP\n",
      "  la/DA\n",
      "  linea/NC\n",
      "  numero/NC\n",
      "  tres/DN\n",
      "  millones/NC\n",
      "  de/SP\n",
      "  la/DA\n",
      "  gestion/NC\n",
      "  de/SP\n",
      "  (ORG Telefonica/AQ)\n",
      "  ./Fp)\n",
      "(S\n",
      "  Tambien/RG\n",
      "  participaron/VMI\n",
      "  en/SP\n",
      "  el/DA\n",
      "  acto/NC\n",
      "  el/DA\n",
      "  consejero/NC\n",
      "  delegado/AQ\n",
      "  de/SP\n",
      "  (ORG Telefonica/AQ Internacional/AQ)\n",
      "  ,/Fc\n",
      "  (PER Antonio/AQ Viana/NC Baptista/AQ)\n",
      "  ;/Fx\n",
      "  el/DA\n",
      "  ministro/NC\n",
      "  de/SP\n",
      "  (MISC Comunicaciones/NC de/SP Brasil/NC)\n",
      "  ,/Fc\n",
      "  (PER Joao/AQ Pimienta/NC da/VMI Veiga/AQ)\n",
      "  ;/Fx\n",
      "  el/DA\n",
      "  presidente/NC\n",
      "  de/SP\n",
      "  la/DA\n",
      "  (ORG ANATEL/NC)\n",
      "  ,/Fc\n",
      "  (PER Renato/VMI Navarro/AQ Guerreiro/AQ)\n",
      "  ,/Fc\n",
      "  y/CC\n",
      "  el/DA\n",
      "  secretario/NC\n",
      "  de/SP\n",
      "  (MISC\n",
      "    Ciencia./VMN\n",
      "    Tecnologia/NC\n",
      "    del/SP\n",
      "    Estado/NC\n",
      "    de/SP\n",
      "    Sao/NC\n",
      "    Paulo/VMI)\n",
      "  ,/Fc\n",
      "  (PER Jose/VMI Anibal/AQ Peres/NC de/SP Pontes/NC)\n",
      "  ./Fp)\n",
      "(S\n",
      "  Con/SP\n",
      "  los/DA\n",
      "  tres/DN\n",
      "  millones/NC\n",
      "  de/SP\n",
      "  nuevas/AQ\n",
      "  lineas/NC\n",
      "  fijas/AQ\n",
      "  en/SP\n",
      "  servicio/NC\n",
      "  asciende/VMI\n",
      "  a/SP\n",
      "  diez/DN\n",
      "  millones/NC\n",
      "  el/DA\n",
      "  total/AQ\n",
      "  de/SP\n",
      "  terminales/NC\n",
      "  que/PR\n",
      "  tiene/VMI\n",
      "  (ORG Telefonica/AQ)\n",
      "  en/SP\n",
      "  el/DA\n",
      "  estado/NC\n",
      "  de/SP\n",
      "  (LOC Sao/NC Paulo/VMI)\n",
      "  ,/Fc\n",
      "  lo/DA\n",
      "  que/PR\n",
      "  convierte/VMI\n",
      "  a/SP\n",
      "  esta/DD\n",
      "  region/NC\n",
      "  brasilena/AQ\n",
      "  en/SP\n",
      "  el/DA\n",
      "  area/NC\n",
      "  con/SP\n",
      "  mayor/AQ\n",
      "  densidad/NC\n",
      "  telefonica/AQ\n",
      "  por/SP\n",
      "  habitante/NC\n",
      "  de/SP\n",
      "  (LOC America/NC Latina/AQ)\n",
      "  ,/Fc\n",
      "  con/SP\n",
      "  25,6/Z\n",
      "  lineas/NC\n",
      "  en/SP\n",
      "  funcionamiento/NC\n",
      "  por/SP\n",
      "  cada/DI\n",
      "  cien/DN\n",
      "  personas/NC\n",
      "  ./Fp)\n",
      "(S\n",
      "  Segun/SP\n",
      "  los/DA\n",
      "  datos/NC\n",
      "  difundidos/AQ\n",
      "  hoy/RG\n",
      "  por/SP\n",
      "  (ORG Telefonica/AQ)\n",
      "  ,/Fc\n",
      "  la/DA\n",
      "  empresa/NC\n",
      "  ha/VAI\n",
      "  impuesto/VMP\n",
      "  en/SP\n",
      "  (LOC Sao/NC Paulo/VMI)\n",
      "  una/DI\n",
      "  marca/NC\n",
      "  mundial/AQ\n",
      "  en/SP\n",
      "  la/DA\n",
      "  expansion/NC\n",
      "  de/SP\n",
      "  redes/NC\n",
      "  de/SP\n",
      "  telefonia/NC\n",
      "  fija/AQ\n",
      "  ,/Fc\n",
      "  ya/RG\n",
      "  que/PR\n",
      "  instala/VMI\n",
      "  una/DI\n",
      "  linea/NC\n",
      "  cada/DI\n",
      "  15/Z\n",
      "  segundos/NC\n",
      "  ,/Fc\n",
      "  lo/DA\n",
      "  que/PR\n",
      "  da/VMI\n",
      "  una/DI\n",
      "  media/AQ\n",
      "  de/SP\n",
      "  180.000/Z\n",
      "  nuevas/AQ\n",
      "  terminales/NC\n",
      "  mensuales/AQ\n",
      "  ./Fp)\n"
     ]
    }
   ],
   "source": [
    "for tree in chunked_sents[4:8]:\n",
    "    print(tree) "
   ]
  },
  {
   "cell_type": "markdown",
   "metadata": {},
   "source": [
    "### Formato IOB"
   ]
  },
  {
   "cell_type": "code",
   "execution_count": 39,
   "metadata": {
    "collapsed": false
   },
   "outputs": [
    {
     "name": "stdout",
     "output_type": "stream",
     "text": [
      "[[(u'Sao', u'NC', u'B-LOC'), (u'Paulo', u'VMI', u'I-LOC'), (u'(', u'Fpa', u'O'), (u'Brasil', u'NC', u'B-LOC'), (u')', u'Fpt', u'O'), (u',', u'Fc', u'O'), (u'23', u'Z', u'O'), (u'may', u'NC', u'O'), (u'(', u'Fpa', u'O'), (u'EFECOM', u'NP', u'B-ORG'), (u')', u'Fpt', u'O'), (u'.', u'Fp', u'O')], [(u'-', u'Fg', u'O')], ...]\n"
     ]
    }
   ],
   "source": [
    "iob_sentences = conll2002.iob_sents() \n",
    "\n",
    "print iob_sentences"
   ]
  },
  {
   "cell_type": "code",
   "execution_count": 42,
   "metadata": {
    "collapsed": false
   },
   "outputs": [
    {
     "data": {
      "text/plain": [
       "[(u'La', u'DA'),\n",
       " (u'multinacional', u'NC'),\n",
       " (u'espa\\xf1ola', u'AQ'),\n",
       " (u'Telef\\xf3nica', u'AQ'),\n",
       " (u'ha', u'VAI'),\n",
       " (u'impuesto', u'VMP'),\n",
       " (u'un', u'DI'),\n",
       " (u'r\\xe9cord', u'NC'),\n",
       " (u'mundial', u'AQ'),\n",
       " (u'al', u'SP'),\n",
       " (u'poner', u'VMN'),\n",
       " (u'en', u'SP'),\n",
       " (u'servicio', u'NC'),\n",
       " (u'tres', u'DN'),\n",
       " (u'millones', u'NC'),\n",
       " (u'de', u'SP'),\n",
       " (u'nuevas', u'AQ'),\n",
       " (u'l\\xedneas', u'NC'),\n",
       " (u'en', u'SP'),\n",
       " (u'el', u'DA'),\n",
       " (u'estado', u'NC'),\n",
       " (u'brasile\\xf1o', u'AQ'),\n",
       " (u'de', u'SP'),\n",
       " (u'Sao', u'NC'),\n",
       " (u'Paulo', u'VMI'),\n",
       " (u'desde', u'SP'),\n",
       " (u'que', u'PR'),\n",
       " (u'asumi\\xf3', u'VMI'),\n",
       " (u'el', u'DA'),\n",
       " (u'control', u'NC'),\n",
       " (u'de', u'SP'),\n",
       " (u'la', u'DA'),\n",
       " (u'operadora', u'NC'),\n",
       " (u'Telesp', u'AQ'),\n",
       " (u'hace', u'VMI'),\n",
       " (u'20', u'Z'),\n",
       " (u'meses', u'NC'),\n",
       " (u',', u'Fc'),\n",
       " (u'anunci\\xf3', u'VMI'),\n",
       " (u'hoy', u'RG'),\n",
       " (u'el', u'DA'),\n",
       " (u'presidente', u'NC'),\n",
       " (u'de', u'SP'),\n",
       " (u'Telef\\xf3nica', u'AQ'),\n",
       " (u'do', u'NC'),\n",
       " (u'Brasil', u'NC'),\n",
       " (u',', u'Fc'),\n",
       " (u'Fernando', u'NC'),\n",
       " (u'Xavier', u'AQ'),\n",
       " (u'Ferreira', u'AQ'),\n",
       " (u'.', u'Fp')]"
      ]
     },
     "execution_count": 42,
     "metadata": {},
     "output_type": "execute_result"
    }
   ],
   "source": [
    "[(word, tag) for (word, tag, ne_tag) in iob_sentences[2]]"
   ]
  },
  {
   "cell_type": "markdown",
   "metadata": {},
   "source": [
    "### Acceso a los diferentes subconjuntos de datos "
   ]
  },
  {
   "cell_type": "code",
   "execution_count": 46,
   "metadata": {
    "collapsed": false
   },
   "outputs": [
    {
     "name": "stdout",
     "output_type": "stream",
     "text": [
      "[[(u'Melbourne', u'NP', u'B-LOC'), (u'(', u'Fpa', u'O'), (u'Australia', u'NP', u'B-LOC'), (u')', u'Fpt', u'O'), (u',', u'Fc', u'O'), (u'25', u'Z', u'O'), (u'may', u'NC', u'O'), (u'(', u'Fpa', u'O'), (u'EFE', u'NC', u'B-ORG'), (u')', u'Fpt', u'O'), (u'.', u'Fp', u'O')], [(u'-', u'Fg', u'O')], ...]\n",
      "[[u'Sao', u'Paulo', u'(', u'Brasil', u')', u',', u'23', u'may', u'(', u'EFECOM', u')', u'.'], [u'-'], ...]\n"
     ]
    }
   ],
   "source": [
    "# Acceso al conjunto de entrenamiento para castellano en formato iob \n",
    "trainSentences = conll2002.iob_sents('esp.train')\n",
    "\n",
    "print trainSentences\n",
    "\n",
    "# Acceso al conjunto de test para castellano como listas de oraciones  \n",
    "testSentences = conll2002.sents('esp.testa')\n",
    "\n",
    "print testSentences"
   ]
  },
  {
   "cell_type": "markdown",
   "metadata": {},
   "source": [
    "## Ejemplo de uso que deseamos\n",
    "\n",
    "```python\n",
    "# Instanciar el tagger \n",
    "# - Usa el conjunto de entrenamiento etiquetado\n",
    "# - Extraer características\n",
    "# - Entrenar el modelo\n",
    "train_sentences = conll2002.iob_sents('esp.train')\n",
    "nerctagger = NamedEntityTagger(train_sentences)\n",
    "\n",
    "testSentences = conll2002.iob_sents('esp.testa')\n",
    "test_sentence = [(word,tag) for (word,tag, ne_tag) in test_sentences[107]]\n",
    "\n",
    "# Etiquetar oraciones con la tercera columna (ne_tag) dadas las otras dos (word, tag)\n",
    "# - Extraer características \n",
    "# - Usar el modelo entrenado para inferir la nueva etiqueta\n",
    "# - Otros pasos?\n",
    "nerctagger.tagger(test_sentence)\n",
    "\n",
    "# Evaluación: Comparar las etiquetas de nuestro nerctagger con las del gold standard \n",
    "# Uso de precision y recall\n",
    "```"
   ]
  },
  {
   "cell_type": "code",
   "execution_count": null,
   "metadata": {
    "collapsed": true
   },
   "outputs": [],
   "source": []
  },
  {
   "cell_type": "code",
   "execution_count": null,
   "metadata": {
    "collapsed": true
   },
   "outputs": [],
   "source": []
  }
 ],
 "metadata": {
  "kernelspec": {
   "display_name": "Python 2",
   "language": "python",
   "name": "python2"
  },
  "language_info": {
   "codemirror_mode": {
    "name": "ipython",
    "version": 2
   },
   "file_extension": ".py",
   "mimetype": "text/x-python",
   "name": "python",
   "nbconvert_exporter": "python",
   "pygments_lexer": "ipython2",
   "version": "2.7.3"
  }
 },
 "nbformat": 4,
 "nbformat_minor": 0
}
