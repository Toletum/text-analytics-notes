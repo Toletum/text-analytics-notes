{
 "cells": [
  {
   "cell_type": "markdown",
   "metadata": {},
   "source": [
    "#Extracción de información usando métodos estadísticos\n",
    "\n",
    "## Named Entity Recognition and Classification\n",
    "\n",
    "Objetivo: Identificar entidades nombradas de los tipos principales como Personas, Lugares u Organizaciones \n",
    "\n",
    "Ejemplo sencillo de como realizar una tarea de clasificación secuencial\n",
    "\n",
    "* Codificación de características \n",
    "* Uso de algoritmos de clasificación \n",
    "* Evaluación \n",
    "* Ventajas e inconvenientes\n"
   ]
  },
  {
   "cell_type": "code",
   "execution_count": null,
   "metadata": {
    "collapsed": false
   },
   "outputs": [],
   "source": [
    "import nltk\n",
    "\n",
    "from nltk.corpus import conll2002\n",
    "\n",
    "print conll2002.readme()"
   ]
  },
  {
   "cell_type": "markdown",
   "metadata": {},
   "source": [
    "## Inspección del corpus\n",
    "\n",
    "Comentar las características especiales del corpus\n",
    "* Conjunto de entrenamiento, test y development \n",
    "* Estructura tabular: \n",
    "    * Token POS_tag NE_tag\n",
    "    * Codificación de los chucks: IOB2 format: B-PER I-PER O\n",
    "    * Clases: \n",
    "    * Separación de frases y documentos \n",
    "    * Todos los documentos van a uno de los conjuntos de datos - mantener la coherencia - ¿Cómo hacer validación cruzada?\n",
    "* Frecuencia de las categorias \n",
    "* Evaluacion"
   ]
  },
  {
   "cell_type": "code",
   "execution_count": null,
   "metadata": {
    "collapsed": false
   },
   "outputs": [],
   "source": [
    "conll2002?"
   ]
  },
  {
   "cell_type": "code",
   "execution_count": null,
   "metadata": {
    "collapsed": false
   },
   "outputs": [],
   "source": [
    "# Formato del corpus en modo texto \n",
    "\n",
    "conll2002.raw()[0:200]"
   ]
  },
  {
   "cell_type": "code",
   "execution_count": null,
   "metadata": {
    "collapsed": false
   },
   "outputs": [],
   "source": [
    "# ¿Como representa la informacion el corpus en Python NLTLK\n",
    "\n",
    "words = conll2002.words()\n",
    "tagged_words = conll2002.tagged_words()\n",
    "sents = conll2002.sents()\n",
    "chunked_sents = conll2002.chunked_sents()\n",
    "\n",
    "# Does not support the para() - no hay información de parrafos\n",
    "\n",
    "print words"
   ]
  },
  {
   "cell_type": "code",
   "execution_count": null,
   "metadata": {
    "collapsed": false
   },
   "outputs": [],
   "source": [
    "for tree in chunked_sents[4:8]:\n",
    "    print(tree) "
   ]
  },
  {
   "cell_type": "markdown",
   "metadata": {},
   "source": [
    "### Formato IOB"
   ]
  },
  {
   "cell_type": "code",
   "execution_count": null,
   "metadata": {
    "collapsed": false
   },
   "outputs": [],
   "source": [
    "iob_sentences = conll2002.iob_sents() \n",
    "\n",
    "print iob_sentences"
   ]
  },
  {
   "cell_type": "code",
   "execution_count": null,
   "metadata": {
    "collapsed": false
   },
   "outputs": [],
   "source": [
    "[(word, tag) for (word, tag, ne_tag) in iob_sentences[2]]"
   ]
  },
  {
   "cell_type": "markdown",
   "metadata": {},
   "source": [
    "### Acceso a los diferentes subconjuntos de datos "
   ]
  },
  {
   "cell_type": "code",
   "execution_count": null,
   "metadata": {
    "collapsed": false
   },
   "outputs": [],
   "source": [
    "# Acceso al conjunto de entrenamiento para castellano en formato iob \n",
    "trainSentences = conll2002.iob_sents('esp.train')\n",
    "\n",
    "print trainSentences\n",
    "\n",
    "# Acceso al conjunto de test para castellano como listas de oraciones  \n",
    "testSentences = conll2002.sents('esp.testa')\n",
    "\n",
    "print testSentences"
   ]
  },
  {
   "cell_type": "markdown",
   "metadata": {},
   "source": [
    "## Ejemplo de uso que deseamos\n",
    "\n",
    "```python\n",
    "# Instanciar el tagger \n",
    "# - Usa el conjunto de entrenamiento etiquetado\n",
    "# - Extraer características\n",
    "# - Entrenar el modelo\n",
    "train_sentences = conll2002.iob_sents('esp.train')\n",
    "nerctagger = NamedEntityTagger(train_sentences)\n",
    "\n",
    "testSentences = conll2002.iob_sents('esp.testa')\n",
    "test_sentence = [(word,tag) for (word,tag, ne_tag) in test_sentences[107]]\n",
    "\n",
    "# Etiquetar oraciones con la tercera columna (ne_tag) dadas las otras dos (word, tag)\n",
    "# - Extraer características \n",
    "# - Usar el modelo entrenado para inferir la nueva etiqueta\n",
    "# - Otros pasos?\n",
    "nerctagger.tagger(test_sentence)\n",
    "\n",
    "# Evaluación: Comparar las etiquetas de nuestro nerctagger con las del gold standard \n",
    "# Uso de precision y recall\n",
    "```"
   ]
  },
  {
   "cell_type": "code",
   "execution_count": null,
   "metadata": {
    "collapsed": true
   },
   "outputs": [],
   "source": []
  },
  {
   "cell_type": "code",
   "execution_count": null,
   "metadata": {
    "collapsed": true
   },
   "outputs": [],
   "source": []
  }
 ],
 "metadata": {
  "kernelspec": {
   "display_name": "Python 2",
   "language": "python",
   "name": "python2"
  },
  "language_info": {
   "codemirror_mode": {
    "name": "ipython",
    "version": 2
   },
   "file_extension": ".py",
   "mimetype": "text/x-python",
   "name": "python",
   "nbconvert_exporter": "python",
   "pygments_lexer": "ipython2",
   "version": "2.7.6"
  }
 },
 "nbformat": 4,
 "nbformat_minor": 0
}
