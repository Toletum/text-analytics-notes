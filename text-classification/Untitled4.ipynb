{
 "cells": [
  {
   "cell_type": "code",
   "execution_count": null,
   "metadata": {
    "collapsed": false
   },
   "outputs": [],
   "source": [
    "import nltk\n",
    "import collections \n",
    "\n",
    "from nltk.corpus import conll2002\n",
    "from sklearn.linear_model import Perceptron\n",
    "from nltk.classify.scikitlearn import SklearnClassifier\n"
   ]
  },
  {
   "cell_type": "code",
   "execution_count": null,
   "metadata": {
    "collapsed": true
   },
   "outputs": [],
   "source": [
    "class NamedEntityTagger(nltk.TaggerI):\n",
    "    def __init__(self,train_sents):\n",
    "        train_set=[]\n",
    "        for sentence in train_sents:\n",
    "            untagged_sent = [(word, tag) for (word, tag, ne_tag) in sentence]\n",
    "            history = []\n",
    "            for i, (word, tag, ne_tag) in enumerate(sentence):\n",
    "                featureset = ne_features(untagged_sent, i, history)\n",
    "                train_set.append( (featureset, ne_tag) ) \n",
    "                history.append(ne_tag)\n",
    "        self.classifier =  SklearnClassifier(Perceptron())       \n",
    "        self.classifier.train(train_set)\n",
    "        self.classifier = nltk.NaiveBayesClassifier.train(train_set)\n",
    "        \n",
    "#        Alternative with sk-learn\n",
    "#        self.classifier =  SklearnClassifier(Perceptron())       \n",
    "#        self.classifier.train(train_set)\n",
    "\n",
    "#        self.classifier = SklearnClassifier(LinearSVC())        \n",
    "#        self.classifier.train(train_set)\n",
    "        \n",
    "        \n",
    "        \n",
    "    def tag(self, sentence):\n",
    "        history = []\n",
    "        for i, (word, tag) in enumerate(sentence):\n",
    "            featureset = ne_features(sentence, i, history)\n",
    "            tag = self.classifier.classify(featureset)\n",
    "            history.append(tag)\n",
    "        return zip(sentence, history)"
   ]
  },
  {
   "cell_type": "code",
   "execution_count": null,
   "metadata": {
    "collapsed": true
   },
   "outputs": [],
   "source": [
    "def eval(nerctagger, test_sentences):\n",
    "    refsets = collections.defaultdict(set)\n",
    "    testsets = collections.defaultdict(set)\n",
    "\n",
    "    i = 0\n",
    "    for test_sentence in test_sentences:\n",
    "        tagged_sentence = nerctagger.tag([(word,tag) for (word,tag, ne_tag) in test_sentence])\n",
    "        for ((word,tag,label),(pair,predicted)) in zip(test_sentence,tagged_sentence):\n",
    "            refsets[label].add(i)\n",
    "            testsets[predicted].add(i)\n",
    "            i = i+1\n",
    "\n",
    "    tags = ['B-LOC','I-LOC','B-ORG','I-ORG','B-PER','I-PER']\n",
    "    \n",
    "    (ma_precision, ma_recall, ma_fmeasure) = (0,0,0)\n",
    "    for label_type in tags:\n",
    "        precision = nltk.metrics.precision(refsets[label_type], testsets[label_type])\n",
    "        recall = nltk.metrics.recall(refsets[label_type], testsets[label_type])\n",
    "        fmeasure = nltk.metrics.f_measure(refsets[label_type], testsets[label_type])\n",
    "        print 'precision(%s):' % label_type, precision \n",
    "        print 'recall(%s):' % label_type, recall \n",
    "        print 'F-measure(%s):' % label_type, fmeasure\n",
    "        print '\\n'\n",
    "        ma_precision += precision\n",
    "        ma_recall += recall\n",
    "        ma_fmeasure += fmeasure\n",
    "        \n",
    "        \n",
    "    print \"--------------------------------------------------------------------------------\"\n",
    "    print \"Precision (Ma):\", ma_precision/len(tags)  \n",
    "    print \"Recall (Ma):\", ma_recall/len(tags)\n",
    "    print \"F-measure (Ma):\", ma_fmeasure/len(tags)\n",
    "    print \"--------------------------------------------------------------------------------\""
   ]
  },
  {
   "cell_type": "code",
   "execution_count": null,
   "metadata": {
    "collapsed": true
   },
   "outputs": [],
   "source": [
    "train_sentences = conll2002.iob_sents('esp.train')\n",
    "test_sentences = conll2002.iob_sents('esp.testa')"
   ]
  },
  {
   "cell_type": "code",
   "execution_count": null,
   "metadata": {
    "collapsed": false
   },
   "outputs": [],
   "source": [
    "def ne_features(sentence, i, history):\n",
    "    word, pos = sentence[i]\n",
    "    return {\"word\": word}\n",
    "\n",
    "nerctagger = NamedEntityTagger(train_sentences)\n",
    "eval(nerctagger, test_sentences)"
   ]
  },
  {
   "cell_type": "code",
   "execution_count": null,
   "metadata": {
    "collapsed": false
   },
   "outputs": [],
   "source": [
    "def ne_features(sentence, i, history):\n",
    "    word, pos = sentence[i]\n",
    "    return {\"word\": word, \"pos\": pos}\n",
    "\n",
    "nerctagger = NamedEntityTagger(train_sentences)\n",
    "eval(nerctagger, test_sentences)"
   ]
  },
  {
   "cell_type": "code",
   "execution_count": null,
   "metadata": {
    "collapsed": false
   },
   "outputs": [],
   "source": [
    "def ne_features(sentence, i, history):\n",
    "    word, pos = sentence[i]\n",
    "    if i == 0:\n",
    "        prevword, prevpos = \"<START>\", \"<START>\"\n",
    "    else:\n",
    "        prevword, prevpos = sentence[i-1]\n",
    "    return {\"word\": word, \"pos\": pos, \"prevpos\": prevpos}\n",
    "\n",
    "nerctagger = NamedEntityTagger(train_sentences)\n",
    "eval(nerctagger, test_sentences)"
   ]
  },
  {
   "cell_type": "code",
   "execution_count": null,
   "metadata": {
    "collapsed": false
   },
   "outputs": [],
   "source": [
    "def ne_features(sentence, i, history):\n",
    "    word, pos = sentence[i]\n",
    "    if i == 0:\n",
    "        prevword, prevpos = \"<START>\", \"<START>\"\n",
    "    else:\n",
    "        prevword, prevpos = sentence[i-1]\n",
    "    if i == 0:\n",
    "        prevtag = \"<START>\"\n",
    "    else:\n",
    "        prevtag = history[i-1]        \n",
    "    return {\"word\": word, \"isAlnum\": word.isalnum(), \"isDigit\": word.isdigit(), \"pos\": pos, \"prevword\": prevword, \"prevpos\": prevpos, \"prevtag\" : prevtag}\n",
    "\n",
    "nerctagger = NamedEntityTagger(train_sentences)\n",
    "eval(nerctagger, test_sentences)"
   ]
  },
  {
   "cell_type": "code",
   "execution_count": null,
   "metadata": {
    "collapsed": true
   },
   "outputs": [],
   "source": []
  }
 ],
 "metadata": {
  "kernelspec": {
   "display_name": "Python 2",
   "language": "python",
   "name": "python2"
  },
  "language_info": {
   "codemirror_mode": {
    "name": "ipython",
    "version": 2
   },
   "file_extension": ".py",
   "mimetype": "text/x-python",
   "name": "python",
   "nbconvert_exporter": "python",
   "pygments_lexer": "ipython2",
   "version": "2.7.6"
  }
 },
 "nbformat": 4,
 "nbformat_minor": 0
}
