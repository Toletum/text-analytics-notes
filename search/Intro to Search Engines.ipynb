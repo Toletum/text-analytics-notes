{
 "cells": [
  {
   "cell_type": "markdown",
   "metadata": {
    "slideshow": {
     "slide_type": "slide"
    }
   },
   "source": [
    "# Intro to Search Engines\n",
    "\n",
    "## Lucene, ElasticSearch, Solr \n",
    "\n",
    "\n",
    "\n",
    "<p style=\"font-size: large; margin-top: 100px;\">César de Pablo Sanchez</p>\n",
    "<p style=\"font-size: large\">@zdepablo\n",
    "</p>\n"
   ]
  },
  {
   "cell_type": "markdown",
   "metadata": {
    "slideshow": {
     "slide_type": "slide"
    }
   },
   "source": [
    "# Databases vs Information Retrieval \n",
    "\n",
    "Datos estructurados vs datos no estructurados ( o Semi-structurados  )   \n",
    "\n",
    "El proposito de los motores de Recuperación de Información es encontrar material (generalmente documentos) de una naturaleza no estructurada (generalmente texto, pero también imágenes, música o video) que satisfaga un a necesidad de información a partir de grandes colecciones de información. \n",
    "\n",
    "\n",
    "## Differences en la escala\n",
    " - Web search - Google, Bing, Yahoo\n",
    " - Personal information retrieval - Correo, Search in files...\n",
    " - Enterprise search - ecommerce, \n"
   ]
  },
  {
   "cell_type": "markdown",
   "metadata": {
    "slideshow": {
     "slide_type": "slide"
    }
   },
   "source": [
    "# Arquitectura de un buscador\n",
    "\n",
    "![Anatomía de un buscador: Google](http://infolab.stanford.edu/~backrub/over.gif)\n",
    "\n",
    "\n",
    "**The Anatomy of a Large-Scale Hypertextual Web Search Engine**\n",
    "Sergey Brin and Lawrence Page\n",
    "http://infolab.stanford.edu/~backrub/google.html"
   ]
  },
  {
   "cell_type": "markdown",
   "metadata": {
    "slideshow": {
     "slide_type": "slide"
    }
   },
   "source": [
    "## Arquitectura de un buscador\n",
    "\n",
    "  - Indexación - (offline, tipicamente batch) \n",
    "  - Consulta   - (online, tiempos de respuesta críticos)\n",
    "\n"
   ]
  },
  {
   "cell_type": "markdown",
   "metadata": {
    "slideshow": {
     "slide_type": "fragment"
    }
   },
   "source": [
    "### Principales requisitos \n",
    "\n",
    "   - Efectividad - calidad de los resultados\n",
    "   - Eficiencia - tiempo de respuesta, throughput\n"
   ]
  },
  {
   "cell_type": "markdown",
   "metadata": {
    "slideshow": {
     "slide_type": "slide"
    }
   },
   "source": [
    "### Indexación\n",
    "   - Adquisicion de texto\n",
    "   - Transformación de texto - análisis \n",
    "   - Creacion del índice\n",
    "   \n",
    "### Consulta \n",
    "   - Interaccion con el usuario\n",
    "   - Ranking de resultados \n",
    "   - Evaluacion"
   ]
  },
  {
   "cell_type": "markdown",
   "metadata": {},
   "source": [
    "## Apache Lucene\n",
    "\n",
    "![Lucene](https://lucene.apache.org/images/lucene_logo_green_300.png)\n",
    "\n",
    "* Open Source - Licencia Apache \n",
    "* Originalmente creada por Doug Cutting en 1999 \n",
    "  - Origen de otros proyectos Apache como Nutch, Hadoop, Solr , Mahout "
   ]
  },
  {
   "cell_type": "markdown",
   "metadata": {
    "slideshow": {
     "slide_type": "slide"
    }
   },
   "source": [
    "## Apache Lucene\n",
    "\n",
    "* Libreria para la indexación y búsqueda de texto en Java\n",
    "* alto rendimiento\n",
    "    - 150GB/hora al indexar \n",
    "    - Tamaños de índice: 20% - 30% tamaño original\n",
    "    - proporciona indexacion en batch e incremental (NRT) \n",
    "    \n",
    "* numerosas características  - no solo para investigación\n",
    "* multi - idioma\n",
    "* Estable y probada - ultima version 5.5 "
   ]
  },
  {
   "cell_type": "markdown",
   "metadata": {
    "slideshow": {
     "slide_type": "slide"
    }
   },
   "source": [
    "## Apache Solr\n",
    "\n",
    "![Solr Logo](https://home.apache.org/~hossman/ac2014na/slide-resources/solr-logo.svg)\n",
    "\n",
    "- Motor/Plataforma de búsqueda  \n",
    "- Basado en Lucene - primera version de 2006"
   ]
  },
  {
   "cell_type": "markdown",
   "metadata": {
    "slideshow": {
     "slide_type": "slide"
    }
   },
   "source": [
    "# Elasticsearch\n",
    "\n",
    "![Elasticsearch Logo](http://siren.solutions/wp-content/uploads/2014/07/elasticsearch.png)\n",
    "\n",
    "- Motor de búsqueda y análitica en 'tiempo real' distribuido\n",
    "- Open Source - Desarrollado por Elastic"
   ]
  },
  {
   "cell_type": "markdown",
   "metadata": {},
   "source": [
    "## Casos de uso\n",
    "\n",
    "- Buscadores (de texto) \n",
    "- Sugerencias de búsqueda\n",
    "- Búsqueda sobre documentos semi-estructurados\n",
    "- Analítica de logs\n",
    "- Analítica de texto - Text mining\n",
    "- Buscadores Facetados\n",
    "- Record linkage - consolidacion de registros \n",
    "- Recomendación basada en contenido\n",
    "- Recomendación por filtrado colaborativo (online) "
   ]
  },
  {
   "cell_type": "markdown",
   "metadata": {},
   "source": [
    "## Log Analytics\n",
    "\n",
    "![Dashboard de ejemplo en Kibana](https://www.elastic.co/guide/en/elasticsearch/guide/current/images/elas_29in03.png)\n"
   ]
  },
  {
   "cell_type": "markdown",
   "metadata": {},
   "source": [
    "## Analítica de texto\n",
    "\n",
    "![Ejemplo de anlítica de texto](https://www.meaningcloud.com/wp-content/uploads/2015/05/TuitometroMadrid-Homa1.png)"
   ]
  },
  {
   "cell_type": "markdown",
   "metadata": {},
   "source": [
    "## Analítica de texto\n",
    "\n",
    "![Ejemplo de analítica de texto](https://www.meaningcloud.com/wp-content/uploads/2014/07/mueller-sentiment1.png)"
   ]
  },
  {
   "cell_type": "markdown",
   "metadata": {},
   "source": [
    "### Faceted Search\n",
    "\n",
    "![Ejemplo de busqueda facetada en LinkedIn](https://www.elastic.co/assets/blte9422e6f971d8819/linkedin-faceted-search.png)\n"
   ]
  },
  {
   "cell_type": "code",
   "execution_count": 10,
   "metadata": {
    "collapsed": true
   },
   "outputs": [],
   "source": [
    "## Record Linkage"
   ]
  }
 ],
 "metadata": {
  "celltoolbar": "Slideshow",
  "kernelspec": {
   "display_name": "Python 2",
   "language": "python",
   "name": "python2"
  },
  "language_info": {
   "codemirror_mode": {
    "name": "ipython",
    "version": 2
   },
   "file_extension": ".py",
   "mimetype": "text/x-python",
   "name": "python",
   "nbconvert_exporter": "python",
   "pygments_lexer": "ipython2",
   "version": "2.7.3"
  }
 },
 "nbformat": 4,
 "nbformat_minor": 0
}
