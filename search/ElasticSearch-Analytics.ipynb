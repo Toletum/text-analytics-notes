{
 "cells": [
  {
   "cell_type": "markdown",
   "metadata": {
    "slideshow": {
     "slide_type": "slide"
    }
   },
   "source": [
    "### ElasticSearch \n",
    "\n",
    "# Analytics"
   ]
  },
  {
   "cell_type": "markdown",
   "metadata": {
    "slideshow": {
     "slide_type": "slide"
    }
   },
   "source": [
    "Build an overview of the results that match a query: \n",
    "    \n",
    "Ejemplos de queries: \n",
    "- ¿Cuantos comentarios tienen los post que tienen los terminos de búsqueda \"Big Data\" o \"Data Science\" ?\n",
    "- ¿Quienes son los autores más populares de estos términos?\n",
    "- ¿Cuales son las etiquetas más populares de estos posts? \n",
    "\n",
    "We can do these queries to work with near Real Time data "
   ]
  },
  {
   "cell_type": "markdown",
   "metadata": {
    "slideshow": {
     "slide_type": "slide"
    }
   },
   "source": [
    "## Aggregation\n",
    "\n",
    "* Buckets - collection of documents that match a criterium ==> GROUP BY \n",
    "* Metrics - Statistics calculated in a bucket ==> AGGREGATE FUNCTIONS : COUNT(), SUM(), MAX()\n",
    "\n",
    "* Aggregations are executed in the context of search results - send them to /search \n",
    "* It is just another step"
   ]
  },
  {
   "cell_type": "markdown",
   "metadata": {
    "slideshow": {
     "slide_type": "slide"
    }
   },
   "source": [
    "## Buckets\n",
    "\n",
    " - Definition: A collection of documents that match a criteria\n",
    " - Buckets can be nested\n"
   ]
  },
  {
   "cell_type": "markdown",
   "metadata": {
    "slideshow": {
     "slide_type": "slide"
    }
   },
   "source": [
    "## Example : aggregation \n",
    "\n",
    "<pre>\n",
    "GET /cars/transactions/_search\n",
    "{\n",
    "    \"size\" : 0,\n",
    "    \"aggs\" : { \n",
    "        \"popular_colors\" : { \n",
    "            \"terms\" : { \n",
    "              \"field\" : \"color\"\n",
    "            }\n",
    "        }\n",
    "    }\n",
    "}\n",
    "</pre>\n",
    "\n",
    "   * size: 0 indicates that we do not care about the results\n",
    "   * \"popular colors\": name of the aggregation \n",
    "   "
   ]
  },
  {
   "cell_type": "markdown",
   "metadata": {
    "slideshow": {
     "slide_type": "slide"
    }
   },
   "source": [
    "## Example: extract average\n",
    "\n",
    "<pre>\n",
    "GET /cars/transactions/_search\n",
    "{\n",
    "   \"size\" : 0,\n",
    "   \"aggs\": {\n",
    "      \"colors\": {\n",
    "         \"terms\": {\n",
    "            \"field\": \"color\"\n",
    "         },\n",
    "         \"aggs\": { \n",
    "            \"avg_price\": { \n",
    "               \"avg\": {\n",
    "                  \"field\": \"price\" \n",
    "               }\n",
    "            }\n",
    "         }\n",
    "      }\n",
    "   }\n",
    "}\n",
    "</pre>"
   ]
  },
  {
   "cell_type": "markdown",
   "metadata": {
    "slideshow": {
     "slide_type": "slide"
    }
   },
   "source": [
    "## Example: nested aggregations\n"
   ]
  },
  {
   "cell_type": "markdown",
   "metadata": {
    "slideshow": {
     "slide_type": "slide"
    }
   },
   "source": [
    "## Example: histograms"
   ]
  },
  {
   "cell_type": "markdown",
   "metadata": {
    "slideshow": {
     "slide_type": "slide"
    }
   },
   "source": [
    "## Example: Time histograms"
   ]
  },
  {
   "cell_type": "markdown",
   "metadata": {
    "slideshow": {
     "slide_type": "slide"
    }
   },
   "source": [
    "## Kibana"
   ]
  },
  {
   "cell_type": "markdown",
   "metadata": {
    "slideshow": {
     "slide_type": "slide"
    }
   },
   "source": [
    "## Scope"
   ]
  },
  {
   "cell_type": "markdown",
   "metadata": {
    "slideshow": {
     "slide_type": "slide"
    }
   },
   "source": [
    "## Filtering aggregations and search"
   ]
  },
  {
   "cell_type": "markdown",
   "metadata": {
    "slideshow": {
     "slide_type": "slide"
    }
   },
   "source": [
    "## Sorting"
   ]
  },
  {
   "cell_type": "markdown",
   "metadata": {
    "slideshow": {
     "slide_type": "slide"
    }
   },
   "source": [
    "## Aproximate aggregations\n",
    "\n",
    " * cardinalities: distinct count\n",
    " * percentiles "
   ]
  },
  {
   "cell_type": "markdown",
   "metadata": {
    "slideshow": {
     "slide_type": "slide"
    }
   },
   "source": [
    "## Significant terms"
   ]
  }
 ],
 "metadata": {
  "celltoolbar": "Slideshow",
  "kernelspec": {
   "display_name": "Python 2",
   "language": "python",
   "name": "python2"
  },
  "language_info": {
   "codemirror_mode": {
    "name": "ipython",
    "version": 2
   },
   "file_extension": ".py",
   "mimetype": "text/x-python",
   "name": "python",
   "nbconvert_exporter": "python",
   "pygments_lexer": "ipython2",
   "version": "2.7.10"
  }
 },
 "nbformat": 4,
 "nbformat_minor": 0
}
