{
 "cells": [
  {
   "cell_type": "markdown",
   "metadata": {
    "slideshow": {
     "slide_type": "slide"
    }
   },
   "source": [
    "### ElasticSearch \n",
    "\n",
    "# Analytics"
   ]
  },
  {
   "cell_type": "code",
   "execution_count": 1,
   "metadata": {
    "collapsed": true,
    "slideshow": {
     "slide_type": "skip"
    }
   },
   "outputs": [],
   "source": [
    "## Code from: https://www.reddit.com/r/IPython/comments/34t4m7/lpt_print_json_in_collapsible_format_in_ipython/\n",
    "\n",
    "import uuid\n",
    "from IPython.display import display_javascript, display_html, display\n",
    "import json\n",
    "\n",
    "class RenderJSON(object):\n",
    "    def __init__(self, json_data):\n",
    "        if isinstance(json_data, dict):\n",
    "            self.json_str = json.dumps(json_data)\n",
    "        else:\n",
    "            self.json_str = json\n",
    "        self.uuid = str(uuid.uuid4())\n",
    "\n",
    "    def _ipython_display_(self):\n",
    "        display_html('<div id=\"{}\" style=\"height: 600px; width:100%;\"></div>'.format(self.uuid),\n",
    "            raw=True\n",
    "        )\n",
    "        display_javascript(\"\"\"\n",
    "        require([\"https://rawgit.com/caldwell/renderjson/master/renderjson.js\"], function() {\n",
    "          document.getElementById('%s').appendChild(renderjson(%s))\n",
    "        });\n",
    "        \"\"\" % (self.uuid, self.json_str), raw=True)"
   ]
  },
  {
   "cell_type": "code",
   "execution_count": 2,
   "metadata": {
    "collapsed": true,
    "slideshow": {
     "slide_type": "skip"
    }
   },
   "outputs": [],
   "source": [
    "import requests"
   ]
  },
  {
   "cell_type": "code",
   "execution_count": 3,
   "metadata": {
    "collapsed": false,
    "slideshow": {
     "slide_type": "skip"
    }
   },
   "outputs": [
    {
     "name": "stdout",
     "output_type": "stream",
     "text": [
      "{\"acknowledged\":true}\n"
     ]
    }
   ],
   "source": [
    "index_options = '''\n",
    "{ \n",
    "  \"mappings\" : { \n",
    "      \"serie\" : {\n",
    "        \"properties\" : {\n",
    "          \"_links\" : {\n",
    "            \"properties\" : {\n",
    "              \"nextepisode\" : {\n",
    "                \"properties\" : {\n",
    "                  \"href\" : {\n",
    "                    \"type\" : \"string\",\n",
    "                    \"index\" : \"no\"\n",
    "                  }\n",
    "                }\n",
    "              },\n",
    "              \"previousepisode\" : {\n",
    "                \"properties\" : {\n",
    "                  \"href\" : {\n",
    "                    \"type\" : \"string\",\n",
    "                    \"index\" : \"no\"\n",
    "                  }\n",
    "                }\n",
    "              },\n",
    "              \"self\" : {\n",
    "                \"properties\" : {\n",
    "                  \"href\" : {\n",
    "                    \"type\" : \"string\",\n",
    "                    \"index\" : \"no\"\n",
    "                   }\n",
    "                }\n",
    "              }\n",
    "            }\n",
    "          },\n",
    "          \"externals\" : {\n",
    "            \"properties\" : {\n",
    "              \"imdb\" : {\n",
    "                \"type\" : \"string\",\n",
    "                \"index\" : \"no\"\n",
    "              },\n",
    "              \"thetvdb\" : {\n",
    "                \"type\" : \"long\",\n",
    "                \"index\": \"no\"\n",
    "              },\n",
    "              \"tvrage\" : {\n",
    "                \"type\" : \"long\",\n",
    "                \"index\": \"no\"\n",
    "              }\n",
    "            }\n",
    "          },\n",
    "          \"genres\" : {\n",
    "            \"type\" : \"string\",\n",
    "            \"index\": \"not_analyzed\"\n",
    "          },\n",
    "          \"id\" : {\n",
    "            \"type\" : \"long\"\n",
    "          },\n",
    "          \"image\" : {\n",
    "            \"properties\" : {\n",
    "              \"medium\" : {\n",
    "                \"type\" : \"string\",\n",
    "                \"index\": \"no\"\n",
    "              },\n",
    "              \"original\" : {\n",
    "                \"type\" : \"string\",\n",
    "                \"index\": \"no\"\n",
    "              }\n",
    "            }\n",
    "          },\n",
    "          \"language\" : {\n",
    "            \"type\" : \"string\",\n",
    "            \"index\": \"not_analyzed\"\n",
    "          },\n",
    "          \"name\" : {\n",
    "            \"type\" : \"string\"\n",
    "          },\n",
    "          \"network\" : {\n",
    "            \"properties\" : {\n",
    "              \"country\" : {\n",
    "                \"properties\" : {\n",
    "                  \"code\" : {\n",
    "                    \"type\" : \"string\",\n",
    "                    \"index\": \"not_analyzed\"\n",
    "                  },\n",
    "                  \"name\" : {\n",
    "                    \"type\" : \"string\"\n",
    "                  },\n",
    "                  \"timezone\" : {\n",
    "                    \"type\" : \"string\",\n",
    "                    \"index\": \"not_analyzed\"\n",
    "                  }\n",
    "                }\n",
    "              },\n",
    "              \"id\" : {\n",
    "                \"type\" : \"long\"\n",
    "              },\n",
    "              \"name\" : {\n",
    "                \"type\" : \"string\"\n",
    "              }\n",
    "            }\n",
    "          },\n",
    "          \"premiered\" : {\n",
    "            \"type\" : \"date\",\n",
    "            \"format\" : \"strict_date_optional_time||epoch_millis\"\n",
    "          },\n",
    "          \"rating\" : {\n",
    "            \"properties\" : {\n",
    "              \"average\" : {\n",
    "                \"type\" : \"double\"\n",
    "              }\n",
    "            }\n",
    "          },\n",
    "          \"runtime\" : {\n",
    "            \"type\" : \"long\"\n",
    "          },\n",
    "          \"schedule\" : {\n",
    "            \"properties\" : {\n",
    "              \"days\" : {\n",
    "                \"type\" : \"string\",\n",
    "                \"index\": \"not_analyzed\"\n",
    "              },\n",
    "              \"time\" : {\n",
    "                \"type\" : \"date\",\n",
    "                \"format\" : \"hour_minute\",\n",
    "                \"ignore_malformed\": true\n",
    "              }\n",
    "            }\n",
    "          },\n",
    "          \"status\" : {\n",
    "            \"type\" : \"string\",\n",
    "            \"index\": \"not_analyzed\"            \n",
    "          },\n",
    "          \"summary\" : {\n",
    "            \"type\" : \"string\",\n",
    "            \"index\": \"analyzed\",\n",
    "            \"analyzer\": \"english\"\n",
    "          },\n",
    "          \"type\" : {\n",
    "            \"type\" : \"string\",\n",
    "            \"index\": \"not_analyzed\"            \n",
    "          },\n",
    "          \"updated\" : {\n",
    "            \"type\" : \"long\"\n",
    "          },\n",
    "          \"url\" : {\n",
    "            \"type\" : \"string\",\n",
    "            \"index\": \"not_analyzed\"            \n",
    "          },\n",
    "          \"webChannel\" : {\n",
    "            \"properties\" : {\n",
    "              \"country\" : {\n",
    "                \"properties\" : {\n",
    "                  \"code\" : {\n",
    "                    \"type\" : \"string\",\n",
    "                    \"index\": \"not_analyzed\"\n",
    "                  },\n",
    "                  \"name\" : {\n",
    "                    \"type\" : \"string\"\n",
    "                  },\n",
    "                  \"timezone\" : {\n",
    "                    \"type\" : \"string\",\n",
    "                    \"index\": \"not_analyzed\"\n",
    "                  }\n",
    "                }\n",
    "              },\n",
    "              \"id\" : {\n",
    "                \"type\" : \"long\"\n",
    "              },\n",
    "              \"name\" : {\n",
    "                \"type\" : \"string\"\n",
    "              }\n",
    "            }\n",
    "          },\n",
    "          \"weight\" : {\n",
    "            \"type\" : \"long\"\n",
    "          }\n",
    "        }\n",
    "      }\n",
    "    }\n",
    "  } \n",
    "'''\n",
    "\n",
    "requests.delete('http://localhost:9200/my_tvseries')\n",
    "\n",
    "requests.delete('http://localhost:9200/tvseries')\n",
    "\n",
    "r = requests.post('http://localhost:9200/tvseries', data = index_options)\n",
    "print r.text"
   ]
  },
  {
   "cell_type": "code",
   "execution_count": 4,
   "metadata": {
    "collapsed": false,
    "slideshow": {
     "slide_type": "skip"
    }
   },
   "outputs": [
    {
     "name": "stderr",
     "output_type": "stream",
     "text": [
      "WARNING:requests.packages.urllib3.connectionpool:Connection pool is full, discarding connection: localhost\n",
      "WARNING:requests.packages.urllib3.connectionpool:Connection pool is full, discarding connection: localhost\n"
     ]
    },
    {
     "name": "stdout",
     "output_type": "stream",
     "text": [
      "breaking bad indexed: {\"_index\":\"tvseries\",\"_type\":\"serie\",\"_id\":\"169\",\"_version\":1,\"_shards\":{\"total\":1,\"successful\":1,\"failed\":0},\"created\":true}\n",
      "blindspot indexed: {\"_index\":\"tvseries\",\"_type\":\"serie\",\"_id\":\"1855\",\"_version\":1,\"_shards\":{\"total\":1,\"successful\":1,\"failed\":0},\"created\":true}"
     ]
    },
    {
     "name": "stderr",
     "output_type": "stream",
     "text": [
      "WARNING:requests.packages.urllib3.connectionpool:Connection pool is full, discarding connection: localhost\n"
     ]
    },
    {
     "name": "stdout",
     "output_type": "stream",
     "text": [
      "\n",
      "the knick indexed: {\"_index\":\"tvseries\",\"_type\":\"serie\",\"_id\":\"51\",\"_version\":1,\"_shards\":{\"total\":1,\"successful\":1,\"failed\":0},\"created\":true}"
     ]
    },
    {
     "name": "stderr",
     "output_type": "stream",
     "text": [
      "WARNING:requests.packages.urllib3.connectionpool:Connection pool is full, discarding connection: localhost\n"
     ]
    },
    {
     "name": "stdout",
     "output_type": "stream",
     "text": [
      "\n",
      "house of cards indexed: {\"_index\":\"tvseries\",\"_type\":\"serie\",\"_id\":\"175\",\"_version\":1,\"_shards\":{\"total\":1,\"successful\":1,\"failed\":0},\"created\":true}"
     ]
    },
    {
     "name": "stderr",
     "output_type": "stream",
     "text": [
      "WARNING:requests.packages.urllib3.connectionpool:Connection pool is full, discarding connection: localhost\n"
     ]
    },
    {
     "name": "stdout",
     "output_type": "stream",
     "text": [
      "\n",
      "orange is the new black indexed: {\"_index\":\"tvseries\",\"_type\":\"serie\",\"_id\":\"170\",\"_version\":1,\"_shards\":{\"total\":1,\"successful\":1,\"failed\":0},\"created\":true}"
     ]
    },
    {
     "name": "stderr",
     "output_type": "stream",
     "text": [
      "WARNING:requests.packages.urllib3.connectionpool:Connection pool is full, discarding connection: localhost\n"
     ]
    },
    {
     "name": "stdout",
     "output_type": "stream",
     "text": [
      "\n",
      "true detective indexed: {\"_index\":\"tvseries\",\"_type\":\"serie\",\"_id\":\"5\",\"_version\":1,\"_shards\":{\"total\":1,\"successful\":1,\"failed\":0},\"created\":true}"
     ]
    },
    {
     "name": "stderr",
     "output_type": "stream",
     "text": [
      "WARNING:requests.packages.urllib3.connectionpool:Connection pool is full, discarding connection: localhost\n"
     ]
    },
    {
     "name": "stdout",
     "output_type": "stream",
     "text": [
      "\n",
      "game of thrones indexed: {\"_index\":\"tvseries\",\"_type\":\"serie\",\"_id\":\"82\",\"_version\":1,\"_shards\":{\"total\":1,\"successful\":1,\"failed\":0},\"created\":true}"
     ]
    },
    {
     "name": "stderr",
     "output_type": "stream",
     "text": [
      "WARNING:requests.packages.urllib3.connectionpool:Connection pool is full, discarding connection: localhost\n"
     ]
    },
    {
     "name": "stdout",
     "output_type": "stream",
     "text": [
      "\n",
      "the tudors indexed: {\"_index\":\"tvseries\",\"_type\":\"serie\",\"_id\":\"712\",\"_version\":1,\"_shards\":{\"total\":1,\"successful\":1,\"failed\":0},\"created\":true}"
     ]
    },
    {
     "name": "stderr",
     "output_type": "stream",
     "text": [
      "WARNING:requests.packages.urllib3.connectionpool:Connection pool is full, discarding connection: localhost\n"
     ]
    },
    {
     "name": "stdout",
     "output_type": "stream",
     "text": [
      "\n",
      "isabel indexed: {\"_index\":\"tvseries\",\"_type\":\"serie\",\"_id\":\"9274\",\"_version\":1,\"_shards\":{\"total\":1,\"successful\":1,\"failed\":0},\"created\":true}"
     ]
    },
    {
     "name": "stderr",
     "output_type": "stream",
     "text": [
      "WARNING:requests.packages.urllib3.connectionpool:Connection pool is full, discarding connection: localhost\n"
     ]
    },
    {
     "name": "stdout",
     "output_type": "stream",
     "text": [
      "\n",
      "versailles indexed: {\"_index\":\"tvseries\",\"_type\":\"serie\",\"_id\":\"3386\",\"_version\":1,\"_shards\":{\"total\":1,\"successful\":1,\"failed\":0},\"created\":true}"
     ]
    },
    {
     "name": "stderr",
     "output_type": "stream",
     "text": [
      "WARNING:requests.packages.urllib3.connectionpool:Connection pool is full, discarding connection: localhost\n"
     ]
    },
    {
     "name": "stdout",
     "output_type": "stream",
     "text": [
      "\n",
      "los serrano indexed: {\"_index\":\"tvseries\",\"_type\":\"serie\",\"_id\":\"6346\",\"_version\":1,\"_shards\":{\"total\":1,\"successful\":1,\"failed\":0},\"created\":true}\n"
     ]
    }
   ],
   "source": [
    "series = ['breaking bad','blindspot','the knick','house of cards', 'orange is the new black',\n",
    "          'true detective', 'game of thrones',\n",
    "          'the tudors','isabel', 'versailles', 'los serrano']\n",
    "\n",
    "for s in series:  \n",
    "  data = requests.get('http://api.tvmaze.com/singlesearch/shows?q=' + s ) \n",
    "  id = data.json()['id']\n",
    "  response = requests.post('http://localhost:9200/tvseries/serie/' + str(id), data = data)\n",
    "  print s + \" indexed: \" + response.text "
   ]
  },
  {
   "cell_type": "markdown",
   "metadata": {
    "slideshow": {
     "slide_type": "slide"
    }
   },
   "source": [
    "Build an overview of the results that match a query: \n",
    "    \n",
    "Ejemplos de queries: \n",
    "- ¿Cuantos comentarios tienen los post que tienen los terminos de búsqueda \"Big Data\" o \"Data Science\" ?\n",
    "- ¿Quienes son los autores más populares de estos términos?\n",
    "- ¿Cuales son las etiquetas más populares de estos posts? \n",
    "\n",
    "We can do these queries to work with near Real Time data "
   ]
  },
  {
   "cell_type": "markdown",
   "metadata": {
    "slideshow": {
     "slide_type": "slide"
    }
   },
   "source": [
    "## Aggregation\n",
    "\n",
    "* Buckets - collection of documents that match a criterium ==> GROUP BY \n",
    "* Metrics - Statistics calculated in a bucket ==> AGGREGATE FUNCTIONS : COUNT(), SUM(), MAX()\n",
    "\n",
    "* Aggregations are executed in the context of search results - send them to /search \n",
    "* It is just another step"
   ]
  },
  {
   "cell_type": "markdown",
   "metadata": {
    "slideshow": {
     "slide_type": "slide"
    }
   },
   "source": [
    "## Buckets\n",
    "\n",
    " - Definition: A collection of documents that match a criteria\n",
    " - Buckets can be nested\n"
   ]
  },
  {
   "cell_type": "markdown",
   "metadata": {
    "slideshow": {
     "slide_type": "slide"
    }
   },
   "source": [
    "## Example : aggregation \n",
    "\n",
    "<pre>\n",
    "GET /cars/transactions/_search\n",
    "{\n",
    "    \"size\" : 0,\n",
    "    \"aggs\" : { \n",
    "        \"popular_colors\" : { \n",
    "            \"terms\" : { \n",
    "              \"field\" : \"color\"\n",
    "            }\n",
    "        }\n",
    "    }\n",
    "}\n",
    "</pre>\n",
    "\n",
    "   * size: 0 indicates that we do not care about the results\n",
    "   * \"popular colors\": name of the aggregation \n",
    "   "
   ]
  },
  {
   "cell_type": "markdown",
   "metadata": {
    "slideshow": {
     "slide_type": "slide"
    }
   },
   "source": [
    "## Agregando los resultados"
   ]
  },
  {
   "cell_type": "code",
   "execution_count": null,
   "metadata": {
    "collapsed": false
   },
   "outputs": [],
   "source": [
    "payload = \"\"\"\n",
    "{\n",
    "    \"aggs\" : { \n",
    "        \"popular_languages\" : { \n",
    "            \"terms\" : { \n",
    "              \"field\" : \"language\"\n",
    "            }\n",
    "        }\n",
    "    }\n",
    "}\n",
    "\"\"\"\n",
    "\n",
    "r = requests.get(\"http://localhost:9200/tvseries/serie/_search\", data = payload)\n",
    "\n",
    "RenderJSON(r.json())"
   ]
  },
  {
   "cell_type": "code",
   "execution_count": null,
   "metadata": {
    "collapsed": false
   },
   "outputs": [],
   "source": [
    "payload = \"\"\"\n",
    "{\n",
    "    \"aggs\" : { \n",
    "        \"popular_languages\" : { \n",
    "            \"terms\" : { \n",
    "              \"field\" : \"language\"\n",
    "            }\n",
    "        },\n",
    "        \"popular_countries\" : { \n",
    "            \"terms\" : { \n",
    "              \"field\" : \"network.country.code\"\n",
    "            }\n",
    "        }\n",
    "   }\n",
    "}\n",
    "\"\"\"\n",
    "\n",
    "r = requests.get(\"http://localhost:9200/tvseries/serie/_search\", data = payload)\n",
    "\n",
    "RenderJSON(r.json())"
   ]
  },
  {
   "cell_type": "code",
   "execution_count": null,
   "metadata": {
    "collapsed": false
   },
   "outputs": [],
   "source": [
    "payload = \"\"\"\n",
    "{\n",
    "    \"aggs\" : { \n",
    "        \"popular_languages\" : { \n",
    "            \"terms\" : { \n",
    "              \"field\" : \"language\"\n",
    "            }\n",
    "        },\n",
    "        \"popular_countries\" : { \n",
    "            \"terms\" : { \n",
    "              \"field\" : \"network.country.code\"\n",
    "            }\n",
    "        },\n",
    "        \"popular_genres\" : { \n",
    "            \"terms\" : { \n",
    "              \"field\" : \"genres\"\n",
    "            }\n",
    "        }        \n",
    "   }\n",
    "}\n",
    "\"\"\"\n",
    "\n",
    "r = requests.get(\"http://localhost:9200/tvseries/serie/_search\", data = payload)\n",
    "\n",
    "RenderJSON(r.json())"
   ]
  },
  {
   "cell_type": "code",
   "execution_count": null,
   "metadata": {
    "collapsed": false
   },
   "outputs": [],
   "source": [
    "payload = \"\"\"\n",
    "{\n",
    "    \"aggs\" : { \n",
    "        \"popular_languages\" : { \n",
    "            \"terms\" : { \n",
    "              \"field\" : \"language\"\n",
    "            }\n",
    "        },\n",
    "        \"popular_countries\" : { \n",
    "            \"terms\" : { \n",
    "              \"field\" : \"network.country.code\"\n",
    "            }\n",
    "        },\n",
    "        \"popular_country_names\" : { \n",
    "            \"terms\" : { \n",
    "              \"field\" : \"network.country.name\"\n",
    "            }\n",
    "        }        \n",
    "   }\n",
    "}\n",
    "\"\"\"\n",
    "\n",
    "r = requests.get(\"http://localhost:9200/tvseries/serie/_search\", data = payload)\n",
    "\n",
    "RenderJSON(r.json())"
   ]
  },
  {
   "cell_type": "markdown",
   "metadata": {
    "slideshow": {
     "slide_type": "slide"
    }
   },
   "source": [
    "## Sorting"
   ]
  },
  {
   "cell_type": "code",
   "execution_count": 7,
   "metadata": {
    "collapsed": false
   },
   "outputs": [
    {
     "data": {
      "text/html": [
       "<div id=\"5bbe439e-f3df-42c0-beeb-935c4fcd9f3a\" style=\"height: 600px; width:100%;\"></div>"
      ]
     },
     "metadata": {},
     "output_type": "display_data"
    },
    {
     "data": {
      "application/javascript": [
       "\n",
       "        require([\"https://rawgit.com/caldwell/renderjson/master/renderjson.js\"], function() {\n",
       "          document.getElementById('5bbe439e-f3df-42c0-beeb-935c4fcd9f3a').appendChild(renderjson({\"hits\": {\"hits\": [{\"_score\": 3.2425675, \"_type\": \"serie\", \"_id\": \"170\", \"_source\": {\"status\": \"Running\", \"rating\": {\"average\": 8.4}, \"genres\": [\"Drama\", \"Comedy\", \"Crime\"], \"weight\": 3, \"updated\": 1453253701, \"name\": \"Orange is the New Black\", \"language\": \"English\", \"schedule\": {\"days\": [\"Friday\"], \"time\": \"00:01\"}, \"url\": \"http://www.tvmaze.com/shows/170/orange-is-the-new-black\", \"image\": {\"medium\": \"http://tvmazecdn.com/uploads/images/medium_portrait/0/2414.jpg\", \"original\": \"http://tvmazecdn.com/uploads/images/original_untouched/0/2414.jpg\"}, \"externals\": {\"thetvdb\": 264586, \"tvrage\": 32950, \"imdb\": \"tt2372162\"}, \"premiered\": \"2013-07-11\", \"summary\": \"<p>The story of Piper Chapman, a woman in her thirties who is sentenced to fifteen months in prison after being convicted of a decade-old crime of transporting money for her drug-dealing girlfriend.</p>\", \"_links\": {\"previousepisode\": {\"href\": \"http://api.tvmaze.com/episodes/143007\"}, \"self\": {\"href\": \"http://api.tvmaze.com/shows/170\"}, \"nextepisode\": {\"href\": \"http://api.tvmaze.com/episodes/574624\"}}, \"webChannel\": {\"country\": {\"timezone\": \"America/New_York\", \"code\": \"US\", \"name\": \"United States\"}, \"id\": 1, \"name\": \"Netflix\"}, \"runtime\": 60, \"type\": \"Scripted\", \"id\": 170, \"network\": null}, \"_index\": \"tvseries\"}, {\"_score\": 0.4932172, \"_type\": \"serie\", \"_id\": \"169\", \"_source\": {\"status\": \"Ended\", \"rating\": {\"average\": 9.3}, \"genres\": [\"Drama\", \"Crime\", \"Thriller\"], \"weight\": 3, \"updated\": 1451250971, \"name\": \"Breaking Bad\", \"language\": \"English\", \"schedule\": {\"days\": [\"Sunday\"], \"time\": \"22:00\"}, \"url\": \"http://www.tvmaze.com/shows/169/breaking-bad\", \"image\": {\"medium\": \"http://tvmazecdn.com/uploads/images/medium_portrait/0/2400.jpg\", \"original\": \"http://tvmazecdn.com/uploads/images/original_untouched/0/2400.jpg\"}, \"externals\": {\"thetvdb\": 81189, \"tvrage\": 18164, \"imdb\": \"tt0903747\"}, \"premiered\": \"2008-01-20\", \"summary\": \"<p><em><strong>\\\"Breaking Bad\\\"</strong></em> follows protagonist Walter White, a chemistry teacher who lives in New Mexico with his wife and teenage son who has cerebral palsy. White is diagnosed with Stage III cancer and given a prognosis of two years left to live. With a new sense of fearlessness based on his medical prognosis, and a desire to secure his family's financial security, White chooses to enter a dangerous world of drugs and crime and ascends to power in this world. The series explores how a fatal diagnosis such as White's releases a typical man from the daily concerns and constraints of normal society and follows his transformation from mild family man to a kingpin of the drug trade.</p>\", \"_links\": {\"previousepisode\": {\"href\": \"http://api.tvmaze.com/episodes/12253\"}, \"self\": {\"href\": \"http://api.tvmaze.com/shows/169\"}}, \"webChannel\": null, \"runtime\": 60, \"type\": \"Scripted\", \"id\": 169, \"network\": {\"country\": {\"timezone\": \"America/New_York\", \"code\": \"US\", \"name\": \"United States\"}, \"id\": 20, \"name\": \"AMC\"}}, \"_index\": \"tvseries\"}, {\"_score\": 0.4932172, \"_type\": \"serie\", \"_id\": \"5\", \"_source\": {\"status\": \"To Be Determined\", \"rating\": {\"average\": 8.5}, \"genres\": [\"Drama\", \"Crime\", \"Thriller\", \"Mystery\"], \"weight\": 4, \"updated\": 1455233815, \"name\": \"True Detective\", \"language\": \"English\", \"schedule\": {\"days\": [\"Sunday\"], \"time\": \"21:00\"}, \"url\": \"http://www.tvmaze.com/shows/5/true-detective\", \"image\": {\"medium\": \"http://tvmazecdn.com/uploads/images/medium_portrait/0/61.jpg\", \"original\": \"http://tvmazecdn.com/uploads/images/original_untouched/0/61.jpg\"}, \"externals\": {\"thetvdb\": 270633, \"tvrage\": 31369, \"imdb\": \"tt2356777\"}, \"premiered\": \"2014-01-12\", \"summary\": \"<p>The series stars Matthew McConaughey and Woody Harrelson as Louisiana detectives Rust Cohle and Martin Hart, whose lives collide and entwine during a 17-year hunt for a killer, ranging from the original investigation of a bizarre murder in 1995 to the reopening of the case in 2012. Michelle Monaghan also stars as Hart's wife, Maggie, who struggles to keep her family together as the men in her life become locked in a cycle of violence and obsession.</p>\", \"_links\": {\"previousepisode\": {\"href\": \"http://api.tvmaze.com/episodes/182325\"}, \"self\": {\"href\": \"http://api.tvmaze.com/shows/5\"}}, \"webChannel\": null, \"runtime\": 60, \"type\": \"Scripted\", \"id\": 5, \"network\": {\"country\": {\"timezone\": \"America/New_York\", \"code\": \"US\", \"name\": \"United States\"}, \"id\": 8, \"name\": \"HBO\"}}, \"_index\": \"tvseries\"}, {\"_score\": 0.4932172, \"_type\": \"serie\", \"_id\": \"1855\", \"_source\": {\"status\": \"Running\", \"rating\": {\"average\": 7.8}, \"genres\": [\"Action\", \"Crime\", \"Thriller\", \"Mystery\"], \"weight\": 11, \"updated\": 1455891788, \"name\": \"Blindspot\", \"language\": \"English\", \"schedule\": {\"days\": [\"Monday\"], \"time\": \"22:00\"}, \"url\": \"http://www.tvmaze.com/shows/1855/blindspot\", \"image\": {\"medium\": \"http://tvmazecdn.com/uploads/images/medium_portrait/28/70723.jpg\", \"original\": \"http://tvmazecdn.com/uploads/images/original_untouched/28/70723.jpg\"}, \"externals\": {\"thetvdb\": 295647, \"tvrage\": 44628, \"imdb\": \"tt4474344\"}, \"premiered\": \"2015-09-21\", \"summary\": \"<p>A beautiful woman, with no memories of her past, is found naked in Times\\n Square with her body fully covered in intricate tattoos. Her discovery \\nsets off a vast and complex mystery that immediately ignites the \\nattention of the FBI, which begins to follow the road map on her body \\ninto a larger conspiracy of crime, while bringing her closer to \\ndiscovering the truth about her identity.</p>\", \"_links\": {\"previousepisode\": {\"href\": \"http://api.tvmaze.com/episodes/410719\"}, \"self\": {\"href\": \"http://api.tvmaze.com/shows/1855\"}, \"nextepisode\": {\"href\": \"http://api.tvmaze.com/episodes/536750\"}}, \"webChannel\": null, \"runtime\": 60, \"type\": \"Scripted\", \"id\": 1855, \"network\": {\"country\": {\"timezone\": \"America/New_York\", \"code\": \"US\", \"name\": \"United States\"}, \"id\": 1, \"name\": \"NBC\"}}, \"_index\": \"tvseries\"}], \"total\": 4, \"max_score\": 3.2425675}, \"_shards\": {\"successful\": 1, \"failed\": 0, \"total\": 1}, \"took\": 1, \"aggregations\": {\"popular_countries\": {\"buckets\": [{\"key\": \"US\", \"doc_count\": 3}], \"sum_other_doc_count\": 0, \"doc_count_error_upper_bound\": 0}}, \"timed_out\": false}))\n",
       "        });\n",
       "        "
      ]
     },
     "metadata": {},
     "output_type": "display_data"
    }
   ],
   "source": [
    "payload = \"\"\"\n",
    "{\n",
    "  \"query\" : {\n",
    "     \"terms\" : { \"genres\": [\"Comedy\", \"Crime\"] }\n",
    "  },\n",
    "    \"aggs\" : { \n",
    "        \"popular_countries\" : { \n",
    "            \"terms\" : { \n",
    "              \"field\" : \"network.country.code\",\n",
    "              \"order\" : {\n",
    "                  \"_count\" : \"asc\"\n",
    "              }\n",
    "            }\n",
    "        }\n",
    "   }\n",
    "}\n",
    "\"\"\"\n",
    "\n",
    "r = requests.get(\"http://localhost:9200/tvseries/serie/_search\", data = payload)\n",
    "\n",
    "RenderJSON(r.json())"
   ]
  },
  {
   "cell_type": "code",
   "execution_count": null,
   "metadata": {
    "collapsed": false
   },
   "outputs": [],
   "source": [
    "payload = \"\"\"\n",
    "{\n",
    "    \"aggs\" : { \n",
    "        \"popular_countries\" : { \n",
    "            \"terms\" : { \n",
    "              \"field\" : \"network.country.code\",\n",
    "              \"order\" : {\n",
    "                  \"_term\" : \"asc\"\n",
    "              }\n",
    "            }\n",
    "        }\n",
    "   }\n",
    "}\n",
    "\"\"\"\n",
    "\n",
    "r = requests.get(\"http://localhost:9200/tvseries/serie/_search\", data = payload)\n",
    "\n",
    "RenderJSON(r.json())"
   ]
  },
  {
   "cell_type": "markdown",
   "metadata": {
    "slideshow": {
     "slide_type": "slide"
    }
   },
   "source": [
    "## Example: extract average\n",
    "\n",
    "<pre>\n",
    "GET /cars/transactions/_search\n",
    "{\n",
    "   \"size\" : 0,\n",
    "   \"aggs\": {\n",
    "      \"colors\": {\n",
    "         \"terms\": {\n",
    "            \"field\": \"color\"\n",
    "         },\n",
    "         \"aggs\": { \n",
    "            \"avg_price\": { \n",
    "               \"avg\": {\n",
    "                  \"field\": \"price\" \n",
    "               }\n",
    "            }\n",
    "         }\n",
    "      }\n",
    "   }\n",
    "}\n",
    "</pre>"
   ]
  },
  {
   "cell_type": "code",
   "execution_count": null,
   "metadata": {
    "collapsed": false
   },
   "outputs": [],
   "source": [
    "payload = \"\"\"\n",
    "{\n",
    "    \"aggs\" : { \n",
    "        \"avg_duration\" : { \n",
    "            \"avg\" : { \n",
    "              \"field\" : \"runtime\"\n",
    "            }\n",
    "        }\n",
    "   }\n",
    "}\n",
    "\"\"\"\n",
    "\n",
    "r = requests.get(\"http://localhost:9200/tvseries/serie/_search\", data = payload)\n",
    "\n",
    "RenderJSON(r.json())"
   ]
  },
  {
   "cell_type": "code",
   "execution_count": null,
   "metadata": {
    "collapsed": true
   },
   "outputs": [],
   "source": [
    "payload = \"\"\"\n",
    "{\n",
    "    \"aggs\" : { \n",
    "        \"avg_duration\" : { \n",
    "            \"avg\" : { \n",
    "              \"field\" : \"runtime\"\n",
    "            }\n",
    "        },\n",
    "        \"avg_rating\" : { \n",
    "            \"avg\" : { \n",
    "              \"field\" : \"rating.average\"\n",
    "            }\n",
    "        }        \n",
    "   }\n",
    "}\n",
    "\"\"\"\n",
    "\n",
    "r = requests.get(\"http://localhost:9200/tvseries/serie/_search\", data = payload)\n",
    "\n",
    "RenderJSON(r.json())"
   ]
  },
  {
   "cell_type": "code",
   "execution_count": null,
   "metadata": {
    "collapsed": false
   },
   "outputs": [],
   "source": [
    "payload = \"\"\"\n",
    "{\n",
    "    \"aggs\" : { \n",
    "        \"popular_countries\" : { \n",
    "            \"terms\" : { \n",
    "              \"field\" : \"network.country.code\",\n",
    "              \"order\" : {\n",
    "                  \"_count\" : \"asc\"\n",
    "              }\n",
    "            }\n",
    "        },    \n",
    "        \"avg_duration\" : { \n",
    "            \"avg\" : { \n",
    "              \"field\" : \"runtime\"\n",
    "            }\n",
    "        },\n",
    "        \"avg_rating\" : { \n",
    "            \"avg\" : { \n",
    "              \"field\" : \"rating.average\"\n",
    "            }\n",
    "        }        \n",
    "   }\n",
    "}\n",
    "\"\"\"\n",
    "\n",
    "r = requests.get(\"http://localhost:9200/tvseries/serie/_search\", data = payload)\n",
    "\n",
    "RenderJSON(r.json())"
   ]
  },
  {
   "cell_type": "markdown",
   "metadata": {
    "slideshow": {
     "slide_type": "slide"
    }
   },
   "source": [
    "## Example: nested aggregations\n"
   ]
  },
  {
   "cell_type": "code",
   "execution_count": null,
   "metadata": {
    "collapsed": false
   },
   "outputs": [],
   "source": [
    "payload = \"\"\"\n",
    "{\n",
    "    \"aggs\" : { \n",
    "        \"popular_countries\" : { \n",
    "            \"terms\" : { \n",
    "              \"field\" : \"network.country.code\",\n",
    "              \"order\" : {\n",
    "                  \"_count\" : \"asc\"\n",
    "              }\n",
    "            },\n",
    "        \"aggs\" : {\n",
    "            \"avg_duration\" : { \n",
    "               \"avg\" : { \n",
    "                  \"field\" : \"runtime\"\n",
    "               }\n",
    "            },\n",
    "            \"avg_rating\" : { \n",
    "               \"avg\" : { \n",
    "                  \"field\" : \"rating.average\"\n",
    "               }\n",
    "            }        \n",
    "          \n",
    "          }  \n",
    "       }   \n",
    "   }\n",
    "}\n",
    "\"\"\"\n",
    "\n",
    "r = requests.get(\"http://localhost:9200/tvseries/serie/_search\", data = payload)\n",
    "\n",
    "RenderJSON(r.json())"
   ]
  },
  {
   "cell_type": "code",
   "execution_count": null,
   "metadata": {
    "collapsed": false
   },
   "outputs": [],
   "source": [
    "payload = \"\"\"\n",
    "{\n",
    "    \"aggs\" : { \n",
    "        \"popular_countries\" : { \n",
    "            \"terms\" : { \n",
    "              \"field\" : \"network.country.code\",\n",
    "              \"order\" : {\n",
    "                  \"avg_rating\" : \"desc\"\n",
    "              }\n",
    "            },\n",
    "        \"aggs\" : {\n",
    "            \"avg_duration\" : { \n",
    "               \"avg\" : { \n",
    "                  \"field\" : \"runtime\"\n",
    "               }\n",
    "            },\n",
    "            \"avg_rating\" : { \n",
    "               \"avg\" : { \n",
    "                  \"field\" : \"rating.average\"\n",
    "               }\n",
    "            }        \n",
    "          \n",
    "          }  \n",
    "       }   \n",
    "   }\n",
    "}\n",
    "\"\"\"\n",
    "\n",
    "r = requests.get(\"http://localhost:9200/tvseries/serie/_search\", data = payload)\n",
    "\n",
    "RenderJSON(r.json())"
   ]
  },
  {
   "cell_type": "code",
   "execution_count": null,
   "metadata": {
    "collapsed": false
   },
   "outputs": [],
   "source": [
    "payload = \"\"\"\n",
    "{\n",
    "    \"aggs\" : { \n",
    "        \"popular_countries\" : { \n",
    "            \"terms\" : { \n",
    "              \"field\" : \"network.country.code\",\n",
    "              \"order\" : {\n",
    "                  \"stats.min\" : \"asc\"\n",
    "              }\n",
    "            },\n",
    "        \"aggs\" : {\n",
    "            \"stats\" : { \n",
    "               \"extended_stats\" : { \n",
    "                  \"field\" : \"rating.average\"\n",
    "               }\n",
    "            }        \n",
    "          }  \n",
    "       }   \n",
    "   }\n",
    "}\n",
    "\"\"\"\n",
    "\n",
    "r = requests.get(\"http://localhost:9200/tvseries/serie/_search\", data = payload)\n",
    "\n",
    "RenderJSON(r.json())"
   ]
  },
  {
   "cell_type": "markdown",
   "metadata": {
    "slideshow": {
     "slide_type": "slide"
    }
   },
   "source": [
    "## Example: histograms"
   ]
  },
  {
   "cell_type": "code",
   "execution_count": null,
   "metadata": {
    "collapsed": false
   },
   "outputs": [],
   "source": [
    "payload = \"\"\"\n",
    "{\n",
    "    \"aggs\" : { \n",
    "        \"ratings_histogram\" : { \n",
    "            \"histogram\" : { \n",
    "              \"field\" : \"rating.average\",\n",
    "              \"interval\": 1\n",
    "            }\n",
    "       }   \n",
    "   }\n",
    "}\n",
    "\"\"\"\n",
    "\n",
    "r = requests.get(\"http://localhost:9200/tvseries/serie/_search\", data = payload)\n",
    "\n",
    "RenderJSON(r.json())"
   ]
  },
  {
   "cell_type": "code",
   "execution_count": null,
   "metadata": {
    "collapsed": false
   },
   "outputs": [],
   "source": [
    "payload = \"\"\"\n",
    "{\n",
    "    \"aggs\" : { \n",
    "        \"ratings_histogram\" : { \n",
    "            \"histogram\" : { \n",
    "              \"field\" : \"rating.average\",\n",
    "              \"interval\": 1\n",
    "            },\n",
    "         \"aggs\" : {\n",
    "            \"avg_rating\": {\n",
    "               \"avg\" : { \"field\" : \"rating.average\" }\n",
    "            }\n",
    "         }\n",
    "       }   \n",
    "   }\n",
    "}\n",
    "\"\"\"\n",
    "\n",
    "r = requests.get(\"http://localhost:9200/tvseries/serie/_search\", data = payload)\n",
    "\n",
    "RenderJSON(r.json())"
   ]
  },
  {
   "cell_type": "markdown",
   "metadata": {
    "slideshow": {
     "slide_type": "slide"
    }
   },
   "source": [
    "## Example: Time histograms"
   ]
  },
  {
   "cell_type": "code",
   "execution_count": null,
   "metadata": {
    "collapsed": false
   },
   "outputs": [],
   "source": [
    "payload = \"\"\"\n",
    "{\n",
    "    \"aggs\" : { \n",
    "        \"premiere_histogram\" : { \n",
    "            \"date_histogram\" : { \n",
    "              \"field\" : \"premiered\",\n",
    "              \"interval\": \"year\",\n",
    "              \"format\" : \"yyyy\"\n",
    "            }\n",
    "       }   \n",
    "   }\n",
    "}\n",
    "\"\"\"\n",
    "\n",
    "r = requests.get(\"http://localhost:9200/tvseries/serie/_search\", data = payload)\n",
    "\n",
    "RenderJSON(r.json())"
   ]
  },
  {
   "cell_type": "code",
   "execution_count": null,
   "metadata": {
    "collapsed": false
   },
   "outputs": [],
   "source": [
    "payload = \"\"\"\n",
    "{\n",
    "    \"aggs\" : { \n",
    "        \"premiere_histogram\" : { \n",
    "            \"date_histogram\" : { \n",
    "              \"field\" : \"premiered\",\n",
    "              \"interval\": \"month\",\n",
    "              \"format\" : \"yyyy-MM-dd\"\n",
    "            }\n",
    "       }   \n",
    "   }\n",
    "}\n",
    "\"\"\"\n",
    "\n",
    "r = requests.get(\"http://localhost:9200/tvseries/serie/_search\", data = payload)\n",
    "\n",
    "RenderJSON(r.json())"
   ]
  },
  {
   "cell_type": "markdown",
   "metadata": {
    "slideshow": {
     "slide_type": "slide"
    }
   },
   "source": [
    "## Scope\n",
    "  - Las agregaciones siempre se calculan en el contexto de una consulta (query) \n",
    "  - Por defecto, match_all"
   ]
  },
  {
   "cell_type": "code",
   "execution_count": 20,
   "metadata": {
    "collapsed": false
   },
   "outputs": [
    {
     "data": {
      "text/html": [
       "<div id=\"7fbb3671-73f6-4ce3-9f39-5e99285ec040\" style=\"height: 600px; width:100%;\"></div>"
      ]
     },
     "metadata": {},
     "output_type": "display_data"
    },
    {
     "data": {
      "application/javascript": [
       "\n",
       "        require([\"https://rawgit.com/caldwell/renderjson/master/renderjson.js\"], function() {\n",
       "          document.getElementById('7fbb3671-73f6-4ce3-9f39-5e99285ec040').appendChild(renderjson({\"hits\": {\"hits\": [{\"_score\": 0.4311155, \"_type\": \"serie\", \"_id\": \"169\", \"_source\": {\"status\": \"Ended\", \"rating\": {\"average\": 9.3}, \"genres\": [\"Drama\", \"Crime\", \"Thriller\"], \"weight\": 3, \"updated\": 1451250971, \"name\": \"Breaking Bad\", \"language\": \"English\", \"schedule\": {\"days\": [\"Sunday\"], \"time\": \"22:00\"}, \"url\": \"http://www.tvmaze.com/shows/169/breaking-bad\", \"image\": {\"medium\": \"http://tvmazecdn.com/uploads/images/medium_portrait/0/2400.jpg\", \"original\": \"http://tvmazecdn.com/uploads/images/original_untouched/0/2400.jpg\"}, \"externals\": {\"thetvdb\": 81189, \"tvrage\": 18164, \"imdb\": \"tt0903747\"}, \"premiered\": \"2008-01-20\", \"summary\": \"<p><em><strong>\\\"Breaking Bad\\\"</strong></em> follows protagonist Walter White, a chemistry teacher who lives in New Mexico with his wife and teenage son who has cerebral palsy. White is diagnosed with Stage III cancer and given a prognosis of two years left to live. With a new sense of fearlessness based on his medical prognosis, and a desire to secure his family's financial security, White chooses to enter a dangerous world of drugs and crime and ascends to power in this world. The series explores how a fatal diagnosis such as White's releases a typical man from the daily concerns and constraints of normal society and follows his transformation from mild family man to a kingpin of the drug trade.</p>\", \"_links\": {\"previousepisode\": {\"href\": \"http://api.tvmaze.com/episodes/12253\"}, \"self\": {\"href\": \"http://api.tvmaze.com/shows/169\"}}, \"webChannel\": null, \"runtime\": 60, \"type\": \"Scripted\", \"id\": 169, \"network\": {\"country\": {\"timezone\": \"America/New_York\", \"code\": \"US\", \"name\": \"United States\"}, \"id\": 20, \"name\": \"AMC\"}}, \"_index\": \"tvseries\"}, {\"_score\": 0.21555775, \"_type\": \"serie\", \"_id\": \"51\", \"_source\": {\"status\": \"To Be Determined\", \"rating\": {\"average\": 8.7}, \"genres\": [\"Drama\", \"Medical\"], \"weight\": 2, \"updated\": 1455121010, \"name\": \"The Knick\", \"language\": \"English\", \"schedule\": {\"days\": [\"Friday\"], \"time\": \"22:00\"}, \"url\": \"http://www.tvmaze.com/shows/51/the-knick\", \"image\": {\"medium\": \"http://tvmazecdn.com/uploads/images/medium_portrait/0/417.jpg\", \"original\": \"http://tvmazecdn.com/uploads/images/original_untouched/0/417.jpg\"}, \"externals\": {\"thetvdb\": 279977, \"tvrage\": 36033, \"imdb\": \"tt2937900\"}, \"premiered\": \"2014-08-08\", \"summary\": \"<p>New York City, 1900: The Knickerbocker Hospital is home to groundbreaking surgeons, nurses and staff who push the boundaries of medicine in a time of astonishingly high mortality rates and zero antibiotics. The newly appointed leader of the surgery staff is the brilliant, arrogant renegade Dr. John Thackery, whose addiction to cocaine and opium is trumped only by his ambition for medical discovery and renown among his peers. Into the all-white staff and patient hospital comes the equally gifted Harvard graduate Dr. Algernon Edwards, who must fight for respect while trying to navigate the racially charged city. Trying to maintain its reputation for quality care while realizing a profit, the Knickerbocker makes an effort to attract wealthy clientele, while literally struggling to keep the lights on.</p>\", \"_links\": {\"previousepisode\": {\"href\": \"http://api.tvmaze.com/episodes/213032\"}, \"self\": {\"href\": \"http://api.tvmaze.com/shows/51\"}}, \"webChannel\": null, \"runtime\": 60, \"type\": \"Scripted\", \"id\": 51, \"network\": {\"country\": {\"timezone\": \"America/New_York\", \"code\": \"US\", \"name\": \"United States\"}, \"id\": 19, \"name\": \"Cinemax\"}}, \"_index\": \"tvseries\"}], \"total\": 2, \"max_score\": 0.4311155}, \"_shards\": {\"successful\": 1, \"failed\": 0, \"total\": 1}, \"took\": 2, \"aggregations\": {\"popular_genres\": {\"buckets\": [{\"key\": \"Crime\", \"doc_count\": 1}, {\"key\": \"Drama\", \"doc_count\": 2}, {\"key\": \"Medical\", \"doc_count\": 1}, {\"key\": \"Thriller\", \"doc_count\": 1}], \"sum_other_doc_count\": 0, \"doc_count_error_upper_bound\": 0}}, \"timed_out\": false}))\n",
       "        });\n",
       "        "
      ]
     },
     "metadata": {},
     "output_type": "display_data"
    }
   ],
   "source": [
    "payload = \"\"\"\n",
    "{\n",
    "  \"query\" : {\n",
    "     \"match\" : { \"summary\" : \"white\" } \n",
    "  },\n",
    "    \"aggs\" : { \n",
    "        \"popular_genres\" : { \n",
    "            \"terms\" : { \n",
    "              \"field\" : \"genres\",\n",
    "              \"order\" : {\n",
    "                  \"_term\" : \"asc\"\n",
    "              }\n",
    "            }\n",
    "        }\n",
    "   }\n",
    "}\n",
    "\"\"\"\n",
    "\n",
    "r = requests.get(\"http://localhost:9200/tvseries/serie/_search\", data = payload)\n",
    "\n",
    "RenderJSON(r.json())"
   ]
  },
  {
   "cell_type": "markdown",
   "metadata": {},
   "source": [
    "### Evitando mostrar los resultados\n",
    "\n",
    " - Si solo estamos interesados en el resultado de la agregación, podemos evitar sacar todos los documentos"
   ]
  },
  {
   "cell_type": "code",
   "execution_count": 22,
   "metadata": {
    "collapsed": false
   },
   "outputs": [
    {
     "data": {
      "text/html": [
       "<div id=\"cd290222-483c-41ff-ba67-e2da86f3b0ce\" style=\"height: 600px; width:100%;\"></div>"
      ]
     },
     "metadata": {},
     "output_type": "display_data"
    },
    {
     "data": {
      "application/javascript": [
       "\n",
       "        require([\"https://rawgit.com/caldwell/renderjson/master/renderjson.js\"], function() {\n",
       "          document.getElementById('cd290222-483c-41ff-ba67-e2da86f3b0ce').appendChild(renderjson({\"hits\": {\"hits\": [], \"total\": 2, \"max_score\": 0.0}, \"_shards\": {\"successful\": 1, \"failed\": 0, \"total\": 1}, \"took\": 2, \"aggregations\": {\"popular_genres\": {\"buckets\": [{\"key\": \"Crime\", \"doc_count\": 1}, {\"key\": \"Drama\", \"doc_count\": 2}, {\"key\": \"Medical\", \"doc_count\": 1}, {\"key\": \"Thriller\", \"doc_count\": 1}], \"sum_other_doc_count\": 0, \"doc_count_error_upper_bound\": 0}}, \"timed_out\": false}))\n",
       "        });\n",
       "        "
      ]
     },
     "metadata": {},
     "output_type": "display_data"
    }
   ],
   "source": [
    "payload = \"\"\"\n",
    "{\n",
    "  \"query\" : {\n",
    "     \"match\" : { \"summary\" : \"white\" } \n",
    "  },\n",
    "  \"size\" : 0,\n",
    "    \"aggs\" : { \n",
    "        \"popular_genres\" : { \n",
    "            \"terms\" : { \n",
    "              \"field\" : \"genres\",\n",
    "              \"order\" : {\n",
    "                  \"_term\" : \"asc\"\n",
    "              }\n",
    "            }\n",
    "        }\n",
    "   }\n",
    "}\n",
    "\"\"\"\n",
    "\n",
    "r = requests.get(\"http://localhost:9200/tvseries/serie/_search\", data = payload)\n",
    "\n",
    "RenderJSON(r.json())"
   ]
  },
  {
   "cell_type": "code",
   "execution_count": 36,
   "metadata": {
    "collapsed": false
   },
   "outputs": [
    {
     "data": {
      "text/html": [
       "<div id=\"50a484b1-a84e-4b8e-9256-d37f17391445\" style=\"height: 600px; width:100%;\"></div>"
      ]
     },
     "metadata": {},
     "output_type": "display_data"
    },
    {
     "data": {
      "application/javascript": [
       "\n",
       "        require([\"https://rawgit.com/caldwell/renderjson/master/renderjson.js\"], function() {\n",
       "          document.getElementById('50a484b1-a84e-4b8e-9256-d37f17391445').appendChild(renderjson({\"hits\": {\"hits\": [{\"_score\": 0.21555775, \"_type\": \"serie\", \"_id\": \"51\", \"_source\": {\"status\": \"To Be Determined\", \"rating\": {\"average\": 8.7}, \"genres\": [\"Drama\", \"Medical\"], \"weight\": 2, \"updated\": 1455121010, \"name\": \"The Knick\", \"language\": \"English\", \"schedule\": {\"days\": [\"Friday\"], \"time\": \"22:00\"}, \"url\": \"http://www.tvmaze.com/shows/51/the-knick\", \"image\": {\"medium\": \"http://tvmazecdn.com/uploads/images/medium_portrait/0/417.jpg\", \"original\": \"http://tvmazecdn.com/uploads/images/original_untouched/0/417.jpg\"}, \"externals\": {\"thetvdb\": 279977, \"tvrage\": 36033, \"imdb\": \"tt2937900\"}, \"premiered\": \"2014-08-08\", \"summary\": \"<p>New York City, 1900: The Knickerbocker Hospital is home to groundbreaking surgeons, nurses and staff who push the boundaries of medicine in a time of astonishingly high mortality rates and zero antibiotics. The newly appointed leader of the surgery staff is the brilliant, arrogant renegade Dr. John Thackery, whose addiction to cocaine and opium is trumped only by his ambition for medical discovery and renown among his peers. Into the all-white staff and patient hospital comes the equally gifted Harvard graduate Dr. Algernon Edwards, who must fight for respect while trying to navigate the racially charged city. Trying to maintain its reputation for quality care while realizing a profit, the Knickerbocker makes an effort to attract wealthy clientele, while literally struggling to keep the lights on.</p>\", \"_links\": {\"previousepisode\": {\"href\": \"http://api.tvmaze.com/episodes/213032\"}, \"self\": {\"href\": \"http://api.tvmaze.com/shows/51\"}}, \"webChannel\": null, \"runtime\": 60, \"type\": \"Scripted\", \"id\": 51, \"network\": {\"country\": {\"timezone\": \"America/New_York\", \"code\": \"US\", \"name\": \"United States\"}, \"id\": 19, \"name\": \"Cinemax\"}}, \"_index\": \"tvseries\"}], \"total\": 1, \"max_score\": 0.21555775}, \"_shards\": {\"successful\": 1, \"failed\": 0, \"total\": 1}, \"took\": 6, \"aggregations\": {\"popular_genres\": {\"buckets\": [{\"key\": \"Crime\", \"doc_count\": 1}, {\"key\": \"Drama\", \"doc_count\": 2}, {\"key\": \"Medical\", \"doc_count\": 1}, {\"key\": \"Thriller\", \"doc_count\": 1}], \"sum_other_doc_count\": 0, \"doc_count_error_upper_bound\": 0}}, \"timed_out\": false}))\n",
       "        });\n",
       "        "
      ]
     },
     "metadata": {},
     "output_type": "display_data"
    }
   ],
   "source": [
    "payload = \"\"\"\n",
    "{\n",
    "  \"query\" : {\n",
    "     \"match\" : { \"summary\" : \"white\" } \n",
    "  },\n",
    "  \"filter\" : {\n",
    "     \"terms\" : { \"genres\": [\"Medical\"] }\n",
    "  },\n",
    "    \"aggs\" : { \n",
    "        \"popular_genres\" : { \n",
    "            \"terms\" : { \n",
    "              \"field\" : \"genres\",\n",
    "              \"order\" : {\n",
    "                  \"_term\" : \"asc\"\n",
    "              }\n",
    "            }\n",
    "        }\n",
    "   }\n",
    "}\n",
    "\"\"\"\n",
    "\n",
    "r = requests.get(\"http://localhost:9200/tvseries/serie/_search\", data = payload)\n",
    "\n",
    "RenderJSON(r.json())"
   ]
  },
  {
   "cell_type": "markdown",
   "metadata": {
    "slideshow": {
     "slide_type": "slide"
    }
   },
   "source": [
    "## Filtering aggregations and search"
   ]
  },
  {
   "cell_type": "code",
   "execution_count": 35,
   "metadata": {
    "collapsed": false
   },
   "outputs": [
    {
     "data": {
      "text/html": [
       "<div id=\"8bb049a9-5f62-47d0-9cbd-050f3c3ef17c\" style=\"height: 600px; width:100%;\"></div>"
      ]
     },
     "metadata": {},
     "output_type": "display_data"
    },
    {
     "data": {
      "application/javascript": [
       "\n",
       "        require([\"https://rawgit.com/caldwell/renderjson/master/renderjson.js\"], function() {\n",
       "          document.getElementById('8bb049a9-5f62-47d0-9cbd-050f3c3ef17c').appendChild(renderjson({\"hits\": {\"hits\": [{\"_score\": 1.0, \"_type\": \"serie\", \"_id\": \"51\", \"_source\": {\"status\": \"To Be Determined\", \"rating\": {\"average\": 8.7}, \"genres\": [\"Drama\", \"Medical\"], \"weight\": 2, \"updated\": 1455121010, \"name\": \"The Knick\", \"language\": \"English\", \"schedule\": {\"days\": [\"Friday\"], \"time\": \"22:00\"}, \"url\": \"http://www.tvmaze.com/shows/51/the-knick\", \"image\": {\"medium\": \"http://tvmazecdn.com/uploads/images/medium_portrait/0/417.jpg\", \"original\": \"http://tvmazecdn.com/uploads/images/original_untouched/0/417.jpg\"}, \"externals\": {\"thetvdb\": 279977, \"tvrage\": 36033, \"imdb\": \"tt2937900\"}, \"premiered\": \"2014-08-08\", \"summary\": \"<p>New York City, 1900: The Knickerbocker Hospital is home to groundbreaking surgeons, nurses and staff who push the boundaries of medicine in a time of astonishingly high mortality rates and zero antibiotics. The newly appointed leader of the surgery staff is the brilliant, arrogant renegade Dr. John Thackery, whose addiction to cocaine and opium is trumped only by his ambition for medical discovery and renown among his peers. Into the all-white staff and patient hospital comes the equally gifted Harvard graduate Dr. Algernon Edwards, who must fight for respect while trying to navigate the racially charged city. Trying to maintain its reputation for quality care while realizing a profit, the Knickerbocker makes an effort to attract wealthy clientele, while literally struggling to keep the lights on.</p>\", \"_links\": {\"previousepisode\": {\"href\": \"http://api.tvmaze.com/episodes/213032\"}, \"self\": {\"href\": \"http://api.tvmaze.com/shows/51\"}}, \"webChannel\": null, \"runtime\": 60, \"type\": \"Scripted\", \"id\": 51, \"network\": {\"country\": {\"timezone\": \"America/New_York\", \"code\": \"US\", \"name\": \"United States\"}, \"id\": 19, \"name\": \"Cinemax\"}}, \"_index\": \"tvseries\"}], \"total\": 1, \"max_score\": 1.0}, \"_shards\": {\"successful\": 1, \"failed\": 0, \"total\": 1}, \"took\": 6, \"aggregations\": {\"popular_genres\": {\"buckets\": [{\"key\": \"Drama\", \"doc_count\": 1}, {\"key\": \"Medical\", \"doc_count\": 1}], \"sum_other_doc_count\": 0, \"doc_count_error_upper_bound\": 0}}, \"timed_out\": false}))\n",
       "        });\n",
       "        "
      ]
     },
     "metadata": {},
     "output_type": "display_data"
    }
   ],
   "source": [
    "payload = \"\"\"\n",
    "{\n",
    "  \"query\" : {\n",
    "     \"filtered\" :  {\n",
    "           \"filter\" : {\n",
    "                 \"terms\" : { \"genres\": [\"Medical\"] }\n",
    "            }\n",
    "     }\n",
    "   },\n",
    "   \"aggs\" : { \n",
    "        \"popular_genres\" : { \n",
    "            \"terms\" : { \n",
    "              \"field\" : \"genres\",\n",
    "              \"order\" : {\n",
    "                  \"_term\" : \"asc\"\n",
    "              }\n",
    "            }\n",
    "        }\n",
    "   }\n",
    "}\n",
    "\"\"\"\n",
    "\n",
    "r = requests.get(\"http://localhost:9200/tvseries/serie/_search\", data = payload)\n",
    "\n",
    "RenderJSON(r.json())"
   ]
  },
  {
   "cell_type": "code",
   "execution_count": 37,
   "metadata": {
    "collapsed": false
   },
   "outputs": [
    {
     "data": {
      "text/html": [
       "<div id=\"9a6d284d-84b1-4594-b3d3-037aefbcdc23\" style=\"height: 600px; width:100%;\"></div>"
      ]
     },
     "metadata": {},
     "output_type": "display_data"
    },
    {
     "data": {
      "application/javascript": [
       "\n",
       "        require([\"https://rawgit.com/caldwell/renderjson/master/renderjson.js\"], function() {\n",
       "          document.getElementById('9a6d284d-84b1-4594-b3d3-037aefbcdc23').appendChild(renderjson({\"hits\": {\"hits\": [{\"_score\": 0.21555775, \"_type\": \"serie\", \"_id\": \"51\", \"_source\": {\"status\": \"To Be Determined\", \"rating\": {\"average\": 8.7}, \"genres\": [\"Drama\", \"Medical\"], \"weight\": 2, \"updated\": 1455121010, \"name\": \"The Knick\", \"language\": \"English\", \"schedule\": {\"days\": [\"Friday\"], \"time\": \"22:00\"}, \"url\": \"http://www.tvmaze.com/shows/51/the-knick\", \"image\": {\"medium\": \"http://tvmazecdn.com/uploads/images/medium_portrait/0/417.jpg\", \"original\": \"http://tvmazecdn.com/uploads/images/original_untouched/0/417.jpg\"}, \"externals\": {\"thetvdb\": 279977, \"tvrage\": 36033, \"imdb\": \"tt2937900\"}, \"premiered\": \"2014-08-08\", \"summary\": \"<p>New York City, 1900: The Knickerbocker Hospital is home to groundbreaking surgeons, nurses and staff who push the boundaries of medicine in a time of astonishingly high mortality rates and zero antibiotics. The newly appointed leader of the surgery staff is the brilliant, arrogant renegade Dr. John Thackery, whose addiction to cocaine and opium is trumped only by his ambition for medical discovery and renown among his peers. Into the all-white staff and patient hospital comes the equally gifted Harvard graduate Dr. Algernon Edwards, who must fight for respect while trying to navigate the racially charged city. Trying to maintain its reputation for quality care while realizing a profit, the Knickerbocker makes an effort to attract wealthy clientele, while literally struggling to keep the lights on.</p>\", \"_links\": {\"previousepisode\": {\"href\": \"http://api.tvmaze.com/episodes/213032\"}, \"self\": {\"href\": \"http://api.tvmaze.com/shows/51\"}}, \"webChannel\": null, \"runtime\": 60, \"type\": \"Scripted\", \"id\": 51, \"network\": {\"country\": {\"timezone\": \"America/New_York\", \"code\": \"US\", \"name\": \"United States\"}, \"id\": 19, \"name\": \"Cinemax\"}}, \"_index\": \"tvseries\"}], \"total\": 1, \"max_score\": 0.21555775}, \"_shards\": {\"successful\": 1, \"failed\": 0, \"total\": 1}, \"took\": 3, \"aggregations\": {\"popular_genres\": {\"buckets\": [{\"key\": \"Drama\", \"doc_count\": 1}, {\"key\": \"Medical\", \"doc_count\": 1}], \"sum_other_doc_count\": 0, \"doc_count_error_upper_bound\": 0}}, \"timed_out\": false}))\n",
       "        });\n",
       "        "
      ]
     },
     "metadata": {},
     "output_type": "display_data"
    }
   ],
   "source": [
    "payload = \"\"\"\n",
    "{\n",
    "\n",
    "  \"query\" : {\n",
    "     \"bool\" : {\n",
    "        \"must\" : {\n",
    "            \"match\" : { \"summary\" : \"white\" }\n",
    "        },\n",
    "        \"filter\": {\n",
    "            \"term\" : { \"genres\" : \"Medical\" }\n",
    "        }\n",
    "    }    \n",
    "   },\n",
    "   \"aggs\" : { \n",
    "        \"popular_genres\" : { \n",
    "            \"terms\" : { \n",
    "              \"field\" : \"genres\",\n",
    "              \"order\" : {\n",
    "                  \"_term\" : \"asc\"\n",
    "              }\n",
    "            }\n",
    "        }\n",
    "   }\n",
    "}\n",
    "\"\"\"\n",
    "\n",
    "r = requests.get(\"http://localhost:9200/tvseries/serie/_search\", data = payload)\n",
    "\n",
    "RenderJSON(r.json())"
   ]
  },
  {
   "cell_type": "code",
   "execution_count": 31,
   "metadata": {
    "collapsed": false
   },
   "outputs": [
    {
     "data": {
      "text/html": [
       "<div id=\"45ca14a5-db0c-4a4a-b949-a57bba795ef8\" style=\"height: 600px; width:100%;\"></div>"
      ]
     },
     "metadata": {},
     "output_type": "display_data"
    },
    {
     "data": {
      "application/javascript": [
       "\n",
       "        require([\"https://rawgit.com/caldwell/renderjson/master/renderjson.js\"], function() {\n",
       "          document.getElementById('45ca14a5-db0c-4a4a-b949-a57bba795ef8').appendChild(renderjson({\"hits\": {\"hits\": [{\"_score\": 0.4311155, \"_type\": \"serie\", \"_id\": \"169\", \"_source\": {\"status\": \"Ended\", \"rating\": {\"average\": 9.3}, \"genres\": [\"Drama\", \"Crime\", \"Thriller\"], \"weight\": 3, \"updated\": 1451250971, \"name\": \"Breaking Bad\", \"language\": \"English\", \"schedule\": {\"days\": [\"Sunday\"], \"time\": \"22:00\"}, \"url\": \"http://www.tvmaze.com/shows/169/breaking-bad\", \"image\": {\"medium\": \"http://tvmazecdn.com/uploads/images/medium_portrait/0/2400.jpg\", \"original\": \"http://tvmazecdn.com/uploads/images/original_untouched/0/2400.jpg\"}, \"externals\": {\"thetvdb\": 81189, \"tvrage\": 18164, \"imdb\": \"tt0903747\"}, \"premiered\": \"2008-01-20\", \"summary\": \"<p><em><strong>\\\"Breaking Bad\\\"</strong></em> follows protagonist Walter White, a chemistry teacher who lives in New Mexico with his wife and teenage son who has cerebral palsy. White is diagnosed with Stage III cancer and given a prognosis of two years left to live. With a new sense of fearlessness based on his medical prognosis, and a desire to secure his family's financial security, White chooses to enter a dangerous world of drugs and crime and ascends to power in this world. The series explores how a fatal diagnosis such as White's releases a typical man from the daily concerns and constraints of normal society and follows his transformation from mild family man to a kingpin of the drug trade.</p>\", \"_links\": {\"previousepisode\": {\"href\": \"http://api.tvmaze.com/episodes/12253\"}, \"self\": {\"href\": \"http://api.tvmaze.com/shows/169\"}}, \"webChannel\": null, \"runtime\": 60, \"type\": \"Scripted\", \"id\": 169, \"network\": {\"country\": {\"timezone\": \"America/New_York\", \"code\": \"US\", \"name\": \"United States\"}, \"id\": 20, \"name\": \"AMC\"}}, \"_index\": \"tvseries\"}, {\"_score\": 0.21555775, \"_type\": \"serie\", \"_id\": \"51\", \"_source\": {\"status\": \"To Be Determined\", \"rating\": {\"average\": 8.7}, \"genres\": [\"Drama\", \"Medical\"], \"weight\": 2, \"updated\": 1455121010, \"name\": \"The Knick\", \"language\": \"English\", \"schedule\": {\"days\": [\"Friday\"], \"time\": \"22:00\"}, \"url\": \"http://www.tvmaze.com/shows/51/the-knick\", \"image\": {\"medium\": \"http://tvmazecdn.com/uploads/images/medium_portrait/0/417.jpg\", \"original\": \"http://tvmazecdn.com/uploads/images/original_untouched/0/417.jpg\"}, \"externals\": {\"thetvdb\": 279977, \"tvrage\": 36033, \"imdb\": \"tt2937900\"}, \"premiered\": \"2014-08-08\", \"summary\": \"<p>New York City, 1900: The Knickerbocker Hospital is home to groundbreaking surgeons, nurses and staff who push the boundaries of medicine in a time of astonishingly high mortality rates and zero antibiotics. The newly appointed leader of the surgery staff is the brilliant, arrogant renegade Dr. John Thackery, whose addiction to cocaine and opium is trumped only by his ambition for medical discovery and renown among his peers. Into the all-white staff and patient hospital comes the equally gifted Harvard graduate Dr. Algernon Edwards, who must fight for respect while trying to navigate the racially charged city. Trying to maintain its reputation for quality care while realizing a profit, the Knickerbocker makes an effort to attract wealthy clientele, while literally struggling to keep the lights on.</p>\", \"_links\": {\"previousepisode\": {\"href\": \"http://api.tvmaze.com/episodes/213032\"}, \"self\": {\"href\": \"http://api.tvmaze.com/shows/51\"}}, \"webChannel\": null, \"runtime\": 60, \"type\": \"Scripted\", \"id\": 51, \"network\": {\"country\": {\"timezone\": \"America/New_York\", \"code\": \"US\", \"name\": \"United States\"}, \"id\": 19, \"name\": \"Cinemax\"}}, \"_index\": \"tvseries\"}], \"total\": 2, \"max_score\": 0.4311155}, \"_shards\": {\"successful\": 1, \"failed\": 0, \"total\": 1}, \"took\": 3, \"aggregations\": {\"popular_genres\": {\"subset\": {\"buckets\": [{\"key\": \"Drama\", \"doc_count\": 1}, {\"key\": \"Medical\", \"doc_count\": 1}], \"sum_other_doc_count\": 0, \"doc_count_error_upper_bound\": 0}, \"doc_count\": 1}}, \"timed_out\": false}))\n",
       "        });\n",
       "        "
      ]
     },
     "metadata": {},
     "output_type": "display_data"
    }
   ],
   "source": [
    "payload = \"\"\"\n",
    "{\n",
    "  \"query\" : {\n",
    "     \"match\" : { \"summary\" : \"white\" } \n",
    "  },\n",
    "    \"aggs\" : { \n",
    "        \"popular_genres\" : {\n",
    "           \"filter\" : {\n",
    "              \"terms\" : { \"genres\": [\"Medical\"] }\n",
    "            },\n",
    "            \"aggs\" : {\n",
    "               \"subset\" : {\n",
    "                \"terms\" : { \n",
    "                  \"field\" : \"genres\",\n",
    "                  \"order\" : {\n",
    "                      \"_term\" : \"asc\"\n",
    "                  }\n",
    "                }\n",
    "            }\n",
    "            }\n",
    "        }\n",
    "   }\n",
    "}\n",
    "\"\"\"\n",
    "\n",
    "r = requests.get(\"http://localhost:9200/tvseries/serie/_search\", data = payload)\n",
    "\n",
    "RenderJSON(r.json())"
   ]
  },
  {
   "cell_type": "code",
   "execution_count": 41,
   "metadata": {
    "collapsed": false
   },
   "outputs": [
    {
     "data": {
      "text/html": [
       "<div id=\"5f0728dd-484c-4729-a161-9ad133494531\" style=\"height: 600px; width:100%;\"></div>"
      ]
     },
     "metadata": {},
     "output_type": "display_data"
    },
    {
     "data": {
      "application/javascript": [
       "\n",
       "        require([\"https://rawgit.com/caldwell/renderjson/master/renderjson.js\"], function() {\n",
       "          document.getElementById('5f0728dd-484c-4729-a161-9ad133494531').appendChild(renderjson({\"hits\": {\"hits\": [{\"_score\": 0.4311155, \"_type\": \"serie\", \"_id\": \"169\", \"_source\": {\"status\": \"Ended\", \"rating\": {\"average\": 9.3}, \"genres\": [\"Drama\", \"Crime\", \"Thriller\"], \"weight\": 3, \"updated\": 1451250971, \"name\": \"Breaking Bad\", \"language\": \"English\", \"schedule\": {\"days\": [\"Sunday\"], \"time\": \"22:00\"}, \"url\": \"http://www.tvmaze.com/shows/169/breaking-bad\", \"image\": {\"medium\": \"http://tvmazecdn.com/uploads/images/medium_portrait/0/2400.jpg\", \"original\": \"http://tvmazecdn.com/uploads/images/original_untouched/0/2400.jpg\"}, \"externals\": {\"thetvdb\": 81189, \"tvrage\": 18164, \"imdb\": \"tt0903747\"}, \"premiered\": \"2008-01-20\", \"summary\": \"<p><em><strong>\\\"Breaking Bad\\\"</strong></em> follows protagonist Walter White, a chemistry teacher who lives in New Mexico with his wife and teenage son who has cerebral palsy. White is diagnosed with Stage III cancer and given a prognosis of two years left to live. With a new sense of fearlessness based on his medical prognosis, and a desire to secure his family's financial security, White chooses to enter a dangerous world of drugs and crime and ascends to power in this world. The series explores how a fatal diagnosis such as White's releases a typical man from the daily concerns and constraints of normal society and follows his transformation from mild family man to a kingpin of the drug trade.</p>\", \"_links\": {\"previousepisode\": {\"href\": \"http://api.tvmaze.com/episodes/12253\"}, \"self\": {\"href\": \"http://api.tvmaze.com/shows/169\"}}, \"webChannel\": null, \"runtime\": 60, \"type\": \"Scripted\", \"id\": 169, \"network\": {\"country\": {\"timezone\": \"America/New_York\", \"code\": \"US\", \"name\": \"United States\"}, \"id\": 20, \"name\": \"AMC\"}}, \"_index\": \"tvseries\"}, {\"_score\": 0.21555775, \"_type\": \"serie\", \"_id\": \"51\", \"_source\": {\"status\": \"To Be Determined\", \"rating\": {\"average\": 8.7}, \"genres\": [\"Drama\", \"Medical\"], \"weight\": 2, \"updated\": 1455121010, \"name\": \"The Knick\", \"language\": \"English\", \"schedule\": {\"days\": [\"Friday\"], \"time\": \"22:00\"}, \"url\": \"http://www.tvmaze.com/shows/51/the-knick\", \"image\": {\"medium\": \"http://tvmazecdn.com/uploads/images/medium_portrait/0/417.jpg\", \"original\": \"http://tvmazecdn.com/uploads/images/original_untouched/0/417.jpg\"}, \"externals\": {\"thetvdb\": 279977, \"tvrage\": 36033, \"imdb\": \"tt2937900\"}, \"premiered\": \"2014-08-08\", \"summary\": \"<p>New York City, 1900: The Knickerbocker Hospital is home to groundbreaking surgeons, nurses and staff who push the boundaries of medicine in a time of astonishingly high mortality rates and zero antibiotics. The newly appointed leader of the surgery staff is the brilliant, arrogant renegade Dr. John Thackery, whose addiction to cocaine and opium is trumped only by his ambition for medical discovery and renown among his peers. Into the all-white staff and patient hospital comes the equally gifted Harvard graduate Dr. Algernon Edwards, who must fight for respect while trying to navigate the racially charged city. Trying to maintain its reputation for quality care while realizing a profit, the Knickerbocker makes an effort to attract wealthy clientele, while literally struggling to keep the lights on.</p>\", \"_links\": {\"previousepisode\": {\"href\": \"http://api.tvmaze.com/episodes/213032\"}, \"self\": {\"href\": \"http://api.tvmaze.com/shows/51\"}}, \"webChannel\": null, \"runtime\": 60, \"type\": \"Scripted\", \"id\": 51, \"network\": {\"country\": {\"timezone\": \"America/New_York\", \"code\": \"US\", \"name\": \"United States\"}, \"id\": 19, \"name\": \"Cinemax\"}}, \"_index\": \"tvseries\"}], \"total\": 2, \"max_score\": 0.4311155}, \"_shards\": {\"successful\": 1, \"failed\": 0, \"total\": 1}, \"took\": 6, \"aggregations\": {\"all\": {\"popular_genres\": {\"buckets\": [{\"key\": \"Action\", \"doc_count\": 1}, {\"key\": \"Adventure\", \"doc_count\": 1}, {\"key\": \"Comedy\", \"doc_count\": 1}, {\"key\": \"Crime\", \"doc_count\": 4}, {\"key\": \"Drama\", \"doc_count\": 9}, {\"key\": \"Fantasy\", \"doc_count\": 1}, {\"key\": \"History\", \"doc_count\": 2}, {\"key\": \"Medical\", \"doc_count\": 1}, {\"key\": \"Mystery\", \"doc_count\": 2}, {\"key\": \"Thriller\", \"doc_count\": 4}], \"sum_other_doc_count\": 0, \"doc_count_error_upper_bound\": 0}, \"doc_count\": 11}}, \"timed_out\": false}))\n",
       "        });\n",
       "        "
      ]
     },
     "metadata": {},
     "output_type": "display_data"
    }
   ],
   "source": [
    "payload = \"\"\"\n",
    "{\n",
    "  \"query\" : {\n",
    "     \"match\" : { \"summary\" : \"white\" } \n",
    "  },\n",
    "  \"aggs\" : {\n",
    "  \"all\" : {\n",
    "    \"global\" : {},\n",
    "    \"aggs\" : { \n",
    "        \"popular_genres\" : { \n",
    "            \"terms\" : { \n",
    "              \"field\" : \"genres\",\n",
    "              \"order\" : {\n",
    "                  \"_term\" : \"asc\"\n",
    "              }\n",
    "            }\n",
    "        }\n",
    "      }\n",
    "   }\n",
    "   }\n",
    "}\n",
    "\"\"\"\n",
    "\n",
    "r = requests.get(\"http://localhost:9200/tvseries/serie/_search\", data = payload)\n",
    "\n",
    "RenderJSON(r.json())"
   ]
  },
  {
   "cell_type": "markdown",
   "metadata": {
    "slideshow": {
     "slide_type": "slide"
    }
   },
   "source": [
    "## Kibana\n",
    "\n",
    "![Dashboard de ejemplo en Kibana](https://www.elastic.co/guide/en/elasticsearch/guide/current/images/elas_29in03.png)"
   ]
  },
  {
   "cell_type": "markdown",
   "metadata": {
    "slideshow": {
     "slide_type": "slide"
    }
   },
   "source": [
    "## Aproximate aggregations\n",
    "\n",
    " * cardinalities: distinct count - based on HyperLogLog++\n",
    "    - hace una estimación estadística de un número de valores grandes\n",
    "    - usa una cantidad limitada de memoria\n",
    " * percentiles  - based on T-digests"
   ]
  },
  {
   "cell_type": "code",
   "execution_count": 44,
   "metadata": {
    "collapsed": false
   },
   "outputs": [
    {
     "data": {
      "text/html": [
       "<div id=\"3207af3e-b8db-4c36-aa07-11634671025d\" style=\"height: 600px; width:100%;\"></div>"
      ]
     },
     "metadata": {},
     "output_type": "display_data"
    },
    {
     "data": {
      "application/javascript": [
       "\n",
       "        require([\"https://rawgit.com/caldwell/renderjson/master/renderjson.js\"], function() {\n",
       "          document.getElementById('3207af3e-b8db-4c36-aa07-11634671025d').appendChild(renderjson({\"hits\": {\"hits\": [], \"total\": 11, \"max_score\": 0.0}, \"_shards\": {\"successful\": 1, \"failed\": 0, \"total\": 1}, \"took\": 3, \"aggregations\": {\"popular_genres\": {\"buckets\": [{\"key\": \"Action\", \"doc_count\": 1}, {\"key\": \"Adventure\", \"doc_count\": 1}, {\"key\": \"Comedy\", \"doc_count\": 1}, {\"key\": \"Crime\", \"doc_count\": 4}, {\"key\": \"Drama\", \"doc_count\": 9}, {\"key\": \"Fantasy\", \"doc_count\": 1}, {\"key\": \"History\", \"doc_count\": 2}, {\"key\": \"Medical\", \"doc_count\": 1}, {\"key\": \"Mystery\", \"doc_count\": 2}, {\"key\": \"Thriller\", \"doc_count\": 4}], \"sum_other_doc_count\": 0, \"doc_count_error_upper_bound\": 0}, \"distinct_genres\": {\"value\": 10}}, \"timed_out\": false}))\n",
       "        });\n",
       "        "
      ]
     },
     "metadata": {},
     "output_type": "display_data"
    }
   ],
   "source": [
    "payload = \"\"\"\n",
    "{\n",
    "    size: 0,\n",
    "    \"aggs\" : { \n",
    "        \"popular_genres\" : { \n",
    "            \"terms\" : { \n",
    "              \"field\" : \"genres\",\n",
    "              \"order\" : {\n",
    "                  \"_term\" : \"asc\"\n",
    "              }\n",
    "            }\n",
    "        },\n",
    "        \"distinct_genres\" : {\n",
    "           \"cardinality\" : {\n",
    "              \"field\" : \"genres\"\n",
    "           }\n",
    "        }\n",
    "      }\n",
    "}\n",
    "\"\"\"\n",
    "\n",
    "r = requests.get(\"http://localhost:9200/tvseries/serie/_search\", data = payload)\n",
    "\n",
    "RenderJSON(r.json())"
   ]
  },
  {
   "cell_type": "code",
   "execution_count": 46,
   "metadata": {
    "collapsed": false
   },
   "outputs": [
    {
     "data": {
      "text/html": [
       "<div id=\"5e221b90-ff9c-444c-b5a4-902c75591fa0\" style=\"height: 600px; width:100%;\"></div>"
      ]
     },
     "metadata": {},
     "output_type": "display_data"
    },
    {
     "data": {
      "application/javascript": [
       "\n",
       "        require([\"https://rawgit.com/caldwell/renderjson/master/renderjson.js\"], function() {\n",
       "          document.getElementById('5e221b90-ff9c-444c-b5a4-902c75591fa0').appendChild(renderjson({\"hits\": {\"hits\": [], \"total\": 11, \"max_score\": 0.0}, \"_shards\": {\"successful\": 1, \"failed\": 0, \"total\": 1}, \"took\": 17, \"aggregations\": {\"popular_genres\": {\"buckets\": [{\"key\": \"Action\", \"doc_count\": 1}, {\"key\": \"Adventure\", \"doc_count\": 1}, {\"key\": \"Comedy\", \"doc_count\": 1}, {\"key\": \"Crime\", \"doc_count\": 4}, {\"key\": \"Drama\", \"doc_count\": 9}, {\"key\": \"Fantasy\", \"doc_count\": 1}, {\"key\": \"History\", \"doc_count\": 2}, {\"key\": \"Medical\", \"doc_count\": 1}, {\"key\": \"Mystery\", \"doc_count\": 2}, {\"key\": \"Thriller\", \"doc_count\": 4}], \"sum_other_doc_count\": 0, \"doc_count_error_upper_bound\": 0}, \"percentile_ratings\": {\"values\": {\"5.0\": 8.04, \"25.0\": 8.5, \"1.0\": 7.848, \"95.0\": 9.360000000000001, \"75.0\": 9.3, \"99.0\": 9.392000000000001, \"50.0\": 8.7}}, \"distinct_genres\": {\"value\": 10}}, \"timed_out\": false}))\n",
       "        });\n",
       "        "
      ]
     },
     "metadata": {},
     "output_type": "display_data"
    }
   ],
   "source": [
    "payload = \"\"\"\n",
    "{\n",
    "    size: 0,\n",
    "    \"aggs\" : { \n",
    "        \"popular_genres\" : { \n",
    "            \"terms\" : { \n",
    "              \"field\" : \"genres\",\n",
    "              \"order\" : {\n",
    "                  \"_term\" : \"asc\"\n",
    "              }\n",
    "            }\n",
    "        },\n",
    "        \"distinct_genres\" : {\n",
    "           \"cardinality\" : {\n",
    "              \"field\" : \"genres\"\n",
    "           }\n",
    "        },\n",
    "       \"percentile_ratings\" : {\n",
    "           \"percentiles\" : {\n",
    "              \"field\" : \"rating.average\"\n",
    "           }\n",
    "        }\n",
    "      }\n",
    "}\n",
    "\"\"\"\n",
    "\n",
    "r = requests.get(\"http://localhost:9200/tvseries/serie/_search\", data = payload)\n",
    "\n",
    "RenderJSON(r.json())"
   ]
  },
  {
   "cell_type": "markdown",
   "metadata": {
    "slideshow": {
     "slide_type": "slide"
    }
   },
   "source": [
    "## Significant terms\n",
    "\n",
    "significant_terms aggregation does just this. It analyzes your data and finds terms that appear with a frequency that is statistically anomalous compared to the background data."
   ]
  },
  {
   "cell_type": "code",
   "execution_count": 52,
   "metadata": {
    "collapsed": false
   },
   "outputs": [
    {
     "data": {
      "text/html": [
       "<div id=\"b5f98478-4bda-400e-8267-1cb2cfe15f8f\" style=\"height: 600px; width:100%;\"></div>"
      ]
     },
     "metadata": {},
     "output_type": "display_data"
    },
    {
     "data": {
      "application/javascript": [
       "\n",
       "        require([\"https://rawgit.com/caldwell/renderjson/master/renderjson.js\"], function() {\n",
       "          document.getElementById('b5f98478-4bda-400e-8267-1cb2cfe15f8f').appendChild(renderjson({\"hits\": {\"hits\": [], \"total\": 2, \"max_score\": 0.0}, \"_shards\": {\"successful\": 1, \"failed\": 0, \"total\": 1}, \"took\": 3, \"aggregations\": {\"important_terms\": {\"buckets\": [], \"doc_count\": 2}}, \"timed_out\": false}))\n",
       "        });\n",
       "        "
      ]
     },
     "metadata": {},
     "output_type": "display_data"
    }
   ],
   "source": [
    "payload = \"\"\"\n",
    "{\n",
    "   \"query\" : {\n",
    "     \"query_string\" : { \"query\" : \"summary:white\" }\n",
    "    },\n",
    "    size: 0,\n",
    "    \"aggs\" : { \n",
    "        \"important_terms\" : { \n",
    "            \"significant_terms\" : { \n",
    "              \"field\" : \"summary\"\n",
    "            }\n",
    "        }\n",
    "    }\n",
    "}\n",
    "\"\"\"\n",
    "\n",
    "r = requests.get(\"http://localhost:9200/tvseries/serie/_search\", data = payload)\n",
    "\n",
    "RenderJSON(r.json())"
   ]
  }
 ],
 "metadata": {
  "celltoolbar": "Slideshow",
  "kernelspec": {
   "display_name": "Python 2",
   "language": "python",
   "name": "python2"
  },
  "language_info": {
   "codemirror_mode": {
    "name": "ipython",
    "version": 2
   },
   "file_extension": ".py",
   "mimetype": "text/x-python",
   "name": "python",
   "nbconvert_exporter": "python",
   "pygments_lexer": "ipython2",
   "version": "2.7.3"
  }
 },
 "nbformat": 4,
 "nbformat_minor": 0
}
