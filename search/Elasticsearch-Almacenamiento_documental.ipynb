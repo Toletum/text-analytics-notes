{
 "cells": [
  {
   "cell_type": "markdown",
   "metadata": {
    "slideshow": {
     "slide_type": "slide"
    }
   },
   "source": [
    "### Elasticsearch \n",
    "# Almacén de documentos y Motor de búsqueda \n",
    "\n",
    "<p style=\"font-size: large; margin-top: 100px;\">César de Pablo Sánchez</p>\n",
    "<p style=\"font-size: large\">@zdepablo</p>"
   ]
  },
  {
   "cell_type": "markdown",
   "metadata": {
    "slideshow": {
     "slide_type": "slide"
    }
   },
   "source": [
    "## Características principales\n",
    "\n",
    " * Orientado a documentos - almacena documentos (objetos complejos vs tablas) \n",
    " * Documento: objeto principal que se serializa como JSON y se almacena con un ID único\n",
    " * Indexación: ES indexa **todos** los campos por defecto\n",
    " * Tipos (*types*) : Los documentos pueden tener tipos: \n",
    "    * Ejemplo: entradas, usuarios, comentarios "
   ]
  },
  {
   "cell_type": "markdown",
   "metadata": {
    "slideshow": {
     "slide_type": "subslide"
    }
   },
   "source": [
    "## Características principales\n",
    " \n",
    " * Cada tipo tiene su propio esquema definido mediante un *mapping*\n",
    " * Los documentos son **inmutables**: si se cambia o reemplaza el documento se tiene que indexar otra vez. \n",
    "    * La version se incrementa "
   ]
  },
  {
   "cell_type": "markdown",
   "metadata": {
    "slideshow": {
     "slide_type": "slide"
    }
   },
   "source": [
    "## REST API\n",
    "\n",
    "  * La mayor parte de la funcionalidad de ES está disponible mediante una API REST (HTTP)\n",
    "  * Diseño intuitivo - permite ir descubriendo la funcionalidad poco a poco\n",
    "  \n",
    "  \n",
    "  * Podemos usar el navegador o CURL \n",
    "  * ES 2.0 proporciona una interfaz de consulta: Sense\n"
   ]
  },
  {
   "cell_type": "markdown",
   "metadata": {
    "slideshow": {
     "slide_type": "subslide"
    }
   },
   "source": [
    "## REST API\n",
    "\n",
    "<pre>\n",
    "curl -X&lt;VERB&gt;\n",
    "\n",
    "'&lt;PROTOCOL&gt;://&lt;HOST&gt;:&lt;PORT&gt;/&lt;PATH&gt;?&lt;QUERY_STRING&gt;' \n",
    "\n",
    "-d '&lt;BODY&gt;'\n",
    "</pre>\n"
   ]
  },
  {
   "cell_type": "markdown",
   "metadata": {
    "slideshow": {
     "slide_type": "fragment"
    }
   },
   "source": [
    "<pre>\n",
    "curl -XGET \n",
    "\n",
    "'http://localhost:9200/_count?pretty' \n",
    "\n",
    "-d '{\n",
    "  \"query\": { \n",
    "      \"match_all\": {}\n",
    "  }\n",
    "}\n",
    "'\n",
    "</pre>\n"
   ]
  },
  {
   "cell_type": "markdown",
   "metadata": {
    "slideshow": {
     "slide_type": "notes"
    }
   },
   "source": [
    "* VERB-The appropriate HTTP method or verb: GET, POST, PUT, HEAD, or DELETE.\n",
    "* PROTOCOL-Either http or https (if you have an https proxy in front of Elasticsearch.)\n",
    "* HOST-The hostname of any node in your Elasticsearch cluster, or localhost for a node on your local machine.\n",
    "* PORT-The port running the Elasticsearch HTTP service, which defaults to 9200.\n",
    "* PATH-API Endpoint (for example _count will return the number of documents in the cluster). Path may contain multiple components, such as _cluster/stats or _nodes/stats/jvm\n",
    "* QUERY_STRING-Any optional query-string parameters (for example ?pretty will pretty-print the JSON response to make it easier to read.)\n",
    "* BODY-A JSON-encoded request body (if the request needs one.)"
   ]
  },
  {
   "cell_type": "markdown",
   "metadata": {
    "slideshow": {
     "slide_type": "slide"
    }
   },
   "source": [
    "## REST API - Verbos \n",
    "\n",
    "Permiten realizar las principales operaciones CRUD ( CREATE , READ, UPDATE, DELETE) \n",
    "\n",
    "Verbos HTTP: \n",
    "   - **GET**  - Lee un recurso \n",
    "   - **POST** - Modifica un recurso\n",
    "   - **PUT**  - Crea un recurso - en los casos en los que tiene sentido \n",
    "   - **HEAD** \n",
    "   - **DELETE** - Borra un recurso "
   ]
  },
  {
   "cell_type": "markdown",
   "metadata": {
    "slideshow": {
     "slide_type": "slide"
    }
   },
   "source": [
    "## REST API - Recursos \n",
    "Recursos: se identifican mediante el <PATH>\n",
    "  - Documentos, Índices, Mappings\n",
    "  - Cluster, nodos "
   ]
  },
  {
   "cell_type": "markdown",
   "metadata": {
    "slideshow": {
     "slide_type": "slide"
    }
   },
   "source": [
    "## Creando un documento (indexación)\n",
    "\n",
    "<pre>\n",
    "PUT /&lt;INDEX&gt;/&lt;TYPE&gt;/&lt;ID&gt; \n",
    "\n",
    "&lt;JSON_DOC&gt;\n",
    "</pre>"
   ]
  },
  {
   "cell_type": "markdown",
   "metadata": {
    "slideshow": {
     "slide_type": "fragment"
    }
   },
   "source": [
    "\n",
    "  - Crea el documento en ES \n",
    "  - Si el índice no existe lo crea automáticamente \n",
    "  - Si el tipo no existe lo crea automáticamente y genera un mapping \"adecuado\" al documento.\n"
   ]
  },
  {
   "cell_type": "markdown",
   "metadata": {
    "slideshow": {
     "slide_type": "subslide"
    }
   },
   "source": [
    "## Creando un documento"
   ]
  },
  {
   "cell_type": "code",
   "execution_count": 1,
   "metadata": {
    "collapsed": true,
    "slideshow": {
     "slide_type": "fragment"
    }
   },
   "outputs": [],
   "source": [
    "import requests"
   ]
  },
  {
   "cell_type": "code",
   "execution_count": 2,
   "metadata": {
    "collapsed": false,
    "slideshow": {
     "slide_type": "fragment"
    }
   },
   "outputs": [],
   "source": [
    "employee = \"\"\"\n",
    "{\n",
    "    \"first_name\" : \"John\",\n",
    "    \"last_name\" :  \"Smith\",\n",
    "    \"age\" :        25,\n",
    "    \"about\" :      \"I love to go rock climbing\",\n",
    "    \"interests\": [ \"sports\", \"music\" ]\n",
    "}\n",
    "\"\"\"\n",
    "\n",
    "r = requests.put('http://localhost:9200/megacorp/employee/1?pretty', \n",
    "                 data = employee)"
   ]
  },
  {
   "cell_type": "markdown",
   "metadata": {
    "slideshow": {
     "slide_type": "subslide"
    }
   },
   "source": [
    "## Creando un documento"
   ]
  },
  {
   "cell_type": "code",
   "execution_count": 3,
   "metadata": {
    "collapsed": false,
    "slideshow": {
     "slide_type": "-"
    }
   },
   "outputs": [
    {
     "name": "stdout",
     "output_type": "stream",
     "text": [
      "{\n",
      "  \"_index\" : \"megacorp\",\n",
      "  \"_type\" : \"employee\",\n",
      "  \"_id\" : \"1\",\n",
      "  \"_version\" : 10,\n",
      "  \"created\" : false\n",
      "}\n",
      "\n"
     ]
    }
   ],
   "source": [
    "print r.text"
   ]
  },
  {
   "cell_type": "markdown",
   "metadata": {
    "slideshow": {
     "slide_type": "skip"
    }
   },
   "source": [
    "[TODO] Explicar el significado de cada parte de la url\n",
    "[TODO] Explicar los diferentes tipos de campos: texto, numéricos, listas, datetimes\n",
    "\n",
    "ES creates if not exist:\n",
    "\n",
    " * an **index** (*megacorp*)  \n",
    " * a **document type** (*employee*)"
   ]
  },
  {
   "cell_type": "markdown",
   "metadata": {
    "slideshow": {
     "slide_type": "subslide"
    }
   },
   "source": [
    "### Metadatos del documento\n",
    "\n",
    "Cada documento tiene metadatos asociados:\n",
    "\n",
    " - **_index**: indice en el que se almacena\n",
    " - **_type**:  clase de objeto que representa\n",
    " - **_id**:    identificador único del documento \n",
    "   - Es siempre una cadena (UUIDs), en concreto tiene 20 caracteres, es URL-safe, codificada en Base64 \n",
    "   - Podemos crear nuestros ids o dejar a ES que lo haga por nosotros\n",
    "  \n",
    "Los tres ( _index, _type y _id) identifican univocamente al documento:  "
   ]
  },
  {
   "cell_type": "markdown",
   "metadata": {
    "slideshow": {
     "slide_type": "subslide"
    }
   },
   "source": [
    "#### Otros metadatos\n",
    "\n",
    " - **_version** - version del documento\n",
    " - **_timestamp** - tiempo de indexacion - (*deshabilitado*)\n",
    " - **_ttl** - tiempo de vida (*deshabilitado*)\n",
    "  "
   ]
  },
  {
   "cell_type": "markdown",
   "metadata": {
    "slideshow": {
     "slide_type": "subslide"
    }
   },
   "source": [
    "### Creando más documentos de ejemplo"
   ]
  },
  {
   "cell_type": "code",
   "execution_count": 4,
   "metadata": {
    "collapsed": true,
    "slideshow": {
     "slide_type": "-"
    }
   },
   "outputs": [],
   "source": [
    "employee2 = \"\"\"\n",
    "{\n",
    "    \"first_name\" :  \"Jane\",\n",
    "    \"last_name\" :   \"Smith\",\n",
    "    \"age\" :         32,\n",
    "    \"about\" :       \"I like to collect rock albums\",\n",
    "    \"interests\":  [ \"music\" ]\n",
    "}\n",
    "\"\"\"\n",
    "\n",
    "employee3 = \"\"\"\n",
    "{\n",
    "    \"first_name\" :  \"Douglas\",\n",
    "    \"last_name\" :   \"Fir\",\n",
    "    \"age\" :         35,\n",
    "    \"about\":        \"I like to build cabinets\",\n",
    "    \"interests\":  [ \"forestry\" ]\n",
    "}\n",
    "\"\"\"\n",
    "\n",
    "r = requests.put('http://localhost:9200/megacorp/employee/2', data = employee2)\n",
    "r = requests.put('http://localhost:9200/megacorp/employee/3', data = employee3)\n"
   ]
  },
  {
   "cell_type": "markdown",
   "metadata": {
    "slideshow": {
     "slide_type": "slide"
    }
   },
   "source": [
    "### Obteniendo un documento por id"
   ]
  },
  {
   "cell_type": "code",
   "execution_count": 5,
   "metadata": {
    "collapsed": false
   },
   "outputs": [
    {
     "name": "stdout",
     "output_type": "stream",
     "text": [
      "{\n",
      "  \"_index\" : \"megacorp\",\n",
      "  \"_type\" : \"employee\",\n",
      "  \"_id\" : \"2\",\n",
      "  \"_version\" : 2,\n",
      "  \"found\" : true,\n",
      "  \"_source\":\n",
      "{\n",
      "    \"first_name\" :  \"Jane\",\n",
      "    \"last_name\" :   \"Smith\",\n",
      "    \"age\" :         32,\n",
      "    \"about\" :       \"I like to collect rock albums\",\n",
      "    \"interests\":  [ \"music\" ]\n",
      "}\n",
      "\n",
      "}\n",
      "\n"
     ]
    }
   ],
   "source": [
    "r = requests.get('http://localhost:9200/megacorp/employee/2?pretty')\n",
    "print r.text"
   ]
  },
  {
   "cell_type": "markdown",
   "metadata": {
    "slideshow": {
     "slide_type": "subslide"
    }
   },
   "source": [
    "### Obteniendo un documento que no existe"
   ]
  },
  {
   "cell_type": "code",
   "execution_count": 6,
   "metadata": {
    "collapsed": false
   },
   "outputs": [
    {
     "name": "stdout",
     "output_type": "stream",
     "text": [
      "Status:  404 \n",
      "\n",
      "{\n",
      "  \"_index\" : \"megacorp\",\n",
      "  \"_type\" : \"employee\",\n",
      "  \"_id\" : \"200\",\n",
      "  \"found\" : false\n",
      "}\n",
      "\n"
     ]
    }
   ],
   "source": [
    "r = requests.get('http://localhost:9200/megacorp/employee/200?pretty')\n",
    "print 'Status: ', r.status_code, '\\n'\n",
    "print r.text"
   ]
  },
  {
   "cell_type": "markdown",
   "metadata": {
    "slideshow": {
     "slide_type": "subslide"
    }
   },
   "source": [
    "### Recuperando solo una parte del documento\n",
    "\n",
    "aka. SELECT fields "
   ]
  },
  {
   "cell_type": "code",
   "execution_count": 7,
   "metadata": {
    "collapsed": false
   },
   "outputs": [
    {
     "name": "stdout",
     "output_type": "stream",
     "text": [
      "{\n",
      "  \"_index\" : \"megacorp\",\n",
      "  \"_type\" : \"employee\",\n",
      "  \"_id\" : \"2\",\n",
      "  \"_version\" : 2,\n",
      "  \"found\" : true,\n",
      "  \"_source\":{\"first_name\":\"Jane\",\"last_name\":\"Smith\"}\n",
      "}\n",
      "\n"
     ]
    }
   ],
   "source": [
    "r = requests.get('http://localhost:9200/megacorp/employee/2?_source=first_name,last_name&pretty')\n",
    "print r.text"
   ]
  },
  {
   "cell_type": "markdown",
   "metadata": {
    "slideshow": {
     "slide_type": "subslide"
    }
   },
   "source": [
    "### Recuperando el contenido original - sin metadatos"
   ]
  },
  {
   "cell_type": "code",
   "execution_count": 8,
   "metadata": {
    "collapsed": false,
    "slideshow": {
     "slide_type": "-"
    }
   },
   "outputs": [
    {
     "name": "stdout",
     "output_type": "stream",
     "text": [
      "\n",
      "{\n",
      "    \"first_name\" :  \"Jane\",\n",
      "    \"last_name\" :   \"Smith\",\n",
      "    \"age\" :         32,\n",
      "    \"about\" :       \"I like to collect rock albums\",\n",
      "    \"interests\":  [ \"music\" ]\n",
      "}\n",
      "\n"
     ]
    }
   ],
   "source": [
    "r = requests.get('http://localhost:9200/megacorp/employee/2/_source')\n",
    "print r.text"
   ]
  },
  {
   "cell_type": "markdown",
   "metadata": {
    "slideshow": {
     "slide_type": "slide"
    }
   },
   "source": [
    "## Borrando un documento\n",
    "\n",
    "- No elimina de forma inmediata el documento del disco\n",
    "- Marca el documento como borrado \n",
    "- Limpia los documentos marcados como borrados en segundo plano \n",
    "- Aprovecha para hacer tareas de mantenimiento de los índices. "
   ]
  },
  {
   "cell_type": "markdown",
   "metadata": {
    "slideshow": {
     "slide_type": "slide"
    }
   },
   "source": [
    "## Actualizando un documento \n",
    "- Se borra el documento antiguo \n",
    "- Se crea un nuevo documento con el mismo _id pero nueva _version \n",
    "- En las nuevas versiones - se hace de forma \"atómica\""
   ]
  },
  {
   "cell_type": "markdown",
   "metadata": {
    "slideshow": {
     "slide_type": "slide"
    }
   },
   "source": [
    "### Actualizar parte de un documento \n",
    "<pre>POST /_update </pre> \n",
    "### Otras operaciones sobre los documentos \n",
    "   - permite añadir campos\n",
    "   - modificar campos\n",
    "   - mezclar un documento - por ejemplo podemos añadir valores a un campo de tipo coleccion\n"
   ]
  },
  {
   "cell_type": "markdown",
   "metadata": {},
   "source": [
    "- Indexar un documento - PUT \n",
    "- Ontener un documento - GET\n",
    "- Borrar un documento  - DELETE \n",
    "- Comprobar si existe  - HEAD  \n",
    "- Actualizar un documento existente - basta con volver a hacer PUT de todo el documento"
   ]
  },
  {
   "cell_type": "markdown",
   "metadata": {
    "slideshow": {
     "slide_type": "slide"
    }
   },
   "source": [
    "### Otras operaciones sobre los documentos \n",
    "\n",
    "- Actualizar parte de un documento -POST /_update \n",
    "- Crear y asignarle un id único     - POST\n",
    "- Crear si no existe                - POST /_create\n",
    "- Obtener multiples documentos en una sola petición - GET /mget or /&lt;index&gt;/&lt;type&gt;/_mget\n",
    "- Ejecutar acciones en bloque(bulk)  -bulk API"
   ]
  },
  {
   "cell_type": "markdown",
   "metadata": {
    "slideshow": {
     "slide_type": "slide"
    }
   },
   "source": [
    "### Almacén de datos distribuido\n",
    "\n",
    "- ES usa **control optimista de concurrencia**\n",
    "- asume que los conflictos van a ser infrecuentes\n",
    "- Generalmente, no se usa como base de datos primaria. Si se hace, es la aplicación la que tiene que resolver los problemas.\n",
    "\n",
    "- Documentos se replican en varios nodos del cluster.\n",
    "- Indices estan particionados (shards) y distribuidos N veces\n"
   ]
  },
  {
   "cell_type": "markdown",
   "metadata": {
    "slideshow": {
     "slide_type": "subslide"
    }
   },
   "source": [
    "### Problemas con el control optimista de la concurrencia\n",
    "\n",
    "<img src=\"https://www.elastic.co/guide/en/elasticsearch/guide/master/images/elas_0301.png\" height=\"300\" width=\"300\" >\n"
   ]
  },
  {
   "cell_type": "markdown",
   "metadata": {
    "slideshow": {
     "slide_type": "slide"
    }
   },
   "source": [
    "## Buscando documentos\n",
    "\n",
    "<pre>\n",
    "GET /&lt;INDEX&gt;/&lt;TYPE&gt;/_search \n",
    "</pre>\n",
    "\n",
    "\n",
    "Buscando todos los documentos de un tipo: "
   ]
  },
  {
   "cell_type": "code",
   "execution_count": 9,
   "metadata": {
    "collapsed": true
   },
   "outputs": [],
   "source": [
    "r = requests.get('http://localhost:9200/megacorp/employee/_search?pretty')"
   ]
  },
  {
   "cell_type": "markdown",
   "metadata": {
    "slideshow": {
     "slide_type": "slide"
    }
   },
   "source": [
    "## Buscando documentos"
   ]
  },
  {
   "cell_type": "code",
   "execution_count": 10,
   "metadata": {
    "collapsed": false
   },
   "outputs": [
    {
     "name": "stdout",
     "output_type": "stream",
     "text": [
      "{\n",
      "  \"took\" : 12,\n",
      "  \"timed_out\" : false,\n",
      "  \"_shards\" : {\n",
      "    \"total\" : 1,\n",
      "    \"successful\" : 1,\n",
      "    \"failed\" : 0\n",
      "  },\n",
      "  \"hits\" : {\n",
      "    \"total\" : 3,\n",
      "    \"max_score\" : 1.0,\n",
      "    \"hits\" : [ {\n",
      "      \"_index\" : \"megacorp\",\n",
      "      \"_type\" : \"employee\",\n",
      "      \"_id\" : \"2\",\n",
      "      \"_score\" : 1.0,\n",
      "      \"_source\":\n",
      "{\n",
      "    \"first_name\" :  \"Jane\",\n",
      "    \"last_name\" :   \"Smith\",\n",
      "    \"age\" :         32,\n",
      "    \"about\" :       \"I like to collect rock albums\",\n",
      "    \"interests\":  [ \"music\" ]\n",
      "}\n",
      "\n",
      "    }, {\n",
      "      \"_index\" : \"megacorp\",\n",
      "      \"_type\" : \"employee\",\n",
      "      \"_id\" : \"1\",\n",
      "      \"_score\" : 1.0,\n",
      "      \"_source\":\n",
      "{\n",
      "    \"first_name\" : \"John\",\n",
      "    \"last_name\" :  \"Smith\",\n",
      "    \"age\" :        25,\n",
      "    \"about\" :      \"I love to go rock climbing\",\n",
      "    \"interests\": [ \"sports\", \"music\" ]\n",
      "}\n",
      "\n",
      "    }, {\n",
      "      \"_index\" : \"megacorp\",\n",
      "      \"_type\" : \"employee\",\n",
      "      \"_id\" : \"3\",\n",
      "      \"_score\" : 1.0,\n",
      "      \"_source\":\n",
      "{\n",
      "    \"first_name\" :  \"Douglas\",\n",
      "    \"last_name\" :   \"Fir\",\n",
      "    \"age\" :         35,\n",
      "    \"about\":        \"I like to build cabinets\",\n",
      "    \"interests\":  [ \"forestry\" ]\n",
      "}\n",
      "\n",
      "    } ]\n",
      "  }\n",
      "}\n",
      "\n"
     ]
    }
   ],
   "source": [
    "print r.text"
   ]
  },
  {
   "cell_type": "markdown",
   "metadata": {
    "slideshow": {
     "slide_type": "slide"
    }
   },
   "source": [
    "## Buscando documentos\n",
    "\n",
    " - **_hits**  - Lista de documentos que cumplen los criterios de búsqueda. SE compone de los N mejores documentos \n",
    " - **_score** - Relevancia del documento para la consulta. La lista de hits generalmente se ordena de mayor a menor relevancia  \n",
    " - Otros metadatos del proceso de búsqueda, como la explicación de la relevancia. "
   ]
  },
  {
   "cell_type": "markdown",
   "metadata": {
    "slideshow": {
     "slide_type": "notes"
    }
   },
   "source": [
    "[TODO] Explain the URL: \n",
    "  - *_search* \n",
    "  - parameter *q* \n",
    "  - field queries: *last_name:*   "
   ]
  },
  {
   "cell_type": "markdown",
   "metadata": {
    "slideshow": {
     "slide_type": "slide"
    }
   },
   "source": [
    "## Buscando documentos\n",
    "\n",
    "Busca los documentos relevantes para la necesidad de información: \"El apellido es Smith\"  \n"
   ]
  },
  {
   "cell_type": "code",
   "execution_count": null,
   "metadata": {
    "collapsed": true
   },
   "outputs": [],
   "source": [
    "r = requests.get('http://localhost:9200/megacorp/employee/_search?q=last_name:Smith&pretty')"
   ]
  },
  {
   "cell_type": "code",
   "execution_count": 11,
   "metadata": {
    "collapsed": false,
    "slideshow": {
     "slide_type": "subslide"
    }
   },
   "outputs": [
    {
     "name": "stdout",
     "output_type": "stream",
     "text": [
      "{\n",
      "  \"took\" : 25,\n",
      "  \"timed_out\" : false,\n",
      "  \"_shards\" : {\n",
      "    \"total\" : 1,\n",
      "    \"successful\" : 1,\n",
      "    \"failed\" : 0\n",
      "  },\n",
      "  \"hits\" : {\n",
      "    \"total\" : 2,\n",
      "    \"max_score\" : 1.0,\n",
      "    \"hits\" : [ {\n",
      "      \"_index\" : \"megacorp\",\n",
      "      \"_type\" : \"employee\",\n",
      "      \"_id\" : \"2\",\n",
      "      \"_score\" : 1.0,\n",
      "      \"_source\":\n",
      "{\n",
      "    \"first_name\" :  \"Jane\",\n",
      "    \"last_name\" :   \"Smith\",\n",
      "    \"age\" :         32,\n",
      "    \"about\" :       \"I like to collect rock albums\",\n",
      "    \"interests\":  [ \"music\" ]\n",
      "}\n",
      "\n",
      "    }, {\n",
      "      \"_index\" : \"megacorp\",\n",
      "      \"_type\" : \"employee\",\n",
      "      \"_id\" : \"1\",\n",
      "      \"_score\" : 1.0,\n",
      "      \"_source\":\n",
      "{\n",
      "    \"first_name\" : \"John\",\n",
      "    \"last_name\" :  \"Smith\",\n",
      "    \"age\" :        25,\n",
      "    \"about\" :      \"I love to go rock climbing\",\n",
      "    \"interests\": [ \"sports\", \"music\" ]\n",
      "}\n",
      "\n",
      "    } ]\n",
      "  }\n",
      "}\n",
      "\n"
     ]
    }
   ],
   "source": [
    "print r.text    "
   ]
  },
  {
   "cell_type": "markdown",
   "metadata": {
    "slideshow": {
     "slide_type": "slide"
    }
   },
   "source": [
    "## Buscando documentos\n",
    "Buscando en un campo de texto"
   ]
  },
  {
   "cell_type": "code",
   "execution_count": null,
   "metadata": {
    "collapsed": true
   },
   "outputs": [],
   "source": [
    "r = requests.get('http://localhost:9200/megacorp/employee/_search?q=about:rock&pretty')"
   ]
  },
  {
   "cell_type": "code",
   "execution_count": 12,
   "metadata": {
    "collapsed": false,
    "slideshow": {
     "slide_type": "subslide"
    }
   },
   "outputs": [
    {
     "name": "stdout",
     "output_type": "stream",
     "text": [
      "{\n",
      "  \"took\" : 6,\n",
      "  \"timed_out\" : false,\n",
      "  \"_shards\" : {\n",
      "    \"total\" : 1,\n",
      "    \"successful\" : 1,\n",
      "    \"failed\" : 0\n",
      "  },\n",
      "  \"hits\" : {\n",
      "    \"total\" : 2,\n",
      "    \"max_score\" : 0.375,\n",
      "    \"hits\" : [ {\n",
      "      \"_index\" : \"megacorp\",\n",
      "      \"_type\" : \"employee\",\n",
      "      \"_id\" : \"2\",\n",
      "      \"_score\" : 0.375,\n",
      "      \"_source\":\n",
      "{\n",
      "    \"first_name\" :  \"Jane\",\n",
      "    \"last_name\" :   \"Smith\",\n",
      "    \"age\" :         32,\n",
      "    \"about\" :       \"I like to collect rock albums\",\n",
      "    \"interests\":  [ \"music\" ]\n",
      "}\n",
      "\n",
      "    }, {\n",
      "      \"_index\" : \"megacorp\",\n",
      "      \"_type\" : \"employee\",\n",
      "      \"_id\" : \"1\",\n",
      "      \"_score\" : 0.375,\n",
      "      \"_source\":\n",
      "{\n",
      "    \"first_name\" : \"John\",\n",
      "    \"last_name\" :  \"Smith\",\n",
      "    \"age\" :        25,\n",
      "    \"about\" :      \"I love to go rock climbing\",\n",
      "    \"interests\": [ \"sports\", \"music\" ]\n",
      "}\n",
      "\n",
      "    } ]\n",
      "  }\n",
      "}\n",
      "\n"
     ]
    }
   ],
   "source": [
    "print r.text "
   ]
  },
  {
   "cell_type": "markdown",
   "metadata": {
    "slideshow": {
     "slide_type": "slide"
    }
   },
   "source": [
    "### Buscando documentos con Query DSL\n",
    "\n",
    "- Query DSL - Lenguaje específico de dominio para búsqueda y analítica\n",
    "\n",
    "We can rewrite the simple query as a __match__ query "
   ]
  },
  {
   "cell_type": "code",
   "execution_count": null,
   "metadata": {
    "collapsed": true
   },
   "outputs": [],
   "source": [
    "payload = \"\"\"\n",
    "{\n",
    "    \"query\" : {\n",
    "        \"match\" : {\n",
    "            \"last_name\" : \"Smith\"\n",
    "        }\n",
    "    }\n",
    "}\n",
    "\"\"\"\n",
    "\n",
    "r = requests.get('http://localhost:9200/megacorp/employee/_search?pretty', data = payload)"
   ]
  },
  {
   "cell_type": "code",
   "execution_count": 13,
   "metadata": {
    "collapsed": false,
    "slideshow": {
     "slide_type": "subslide"
    }
   },
   "outputs": [
    {
     "name": "stdout",
     "output_type": "stream",
     "text": [
      "{\n",
      "  \"took\" : 10,\n",
      "  \"timed_out\" : false,\n",
      "  \"_shards\" : {\n",
      "    \"total\" : 1,\n",
      "    \"successful\" : 1,\n",
      "    \"failed\" : 0\n",
      "  },\n",
      "  \"hits\" : {\n",
      "    \"total\" : 2,\n",
      "    \"max_score\" : 1.0,\n",
      "    \"hits\" : [ {\n",
      "      \"_index\" : \"megacorp\",\n",
      "      \"_type\" : \"employee\",\n",
      "      \"_id\" : \"2\",\n",
      "      \"_score\" : 1.0,\n",
      "      \"_source\":\n",
      "{\n",
      "    \"first_name\" :  \"Jane\",\n",
      "    \"last_name\" :   \"Smith\",\n",
      "    \"age\" :         32,\n",
      "    \"about\" :       \"I like to collect rock albums\",\n",
      "    \"interests\":  [ \"music\" ]\n",
      "}\n",
      "\n",
      "    }, {\n",
      "      \"_index\" : \"megacorp\",\n",
      "      \"_type\" : \"employee\",\n",
      "      \"_id\" : \"1\",\n",
      "      \"_score\" : 1.0,\n",
      "      \"_source\":\n",
      "{\n",
      "    \"first_name\" : \"John\",\n",
      "    \"last_name\" :  \"Smith\",\n",
      "    \"age\" :        25,\n",
      "    \"about\" :      \"I love to go rock climbing\",\n",
      "    \"interests\": [ \"sports\", \"music\" ]\n",
      "}\n",
      "\n",
      "    } ]\n",
      "  }\n",
      "}\n",
      "\n"
     ]
    }
   ],
   "source": [
    "print r.text    "
   ]
  },
  {
   "cell_type": "markdown",
   "metadata": {
    "slideshow": {
     "slide_type": "slide"
    }
   },
   "source": [
    "### Query DSL - Aplicando filtros\n",
    "\n",
    "Podemos combinar consultas y filtros para trabajar con info estructurada y no estructurada\n",
    "\n",
    "Selecciona solo empleados con **edad>30** y **apellido = \"Smith\"**"
   ]
  },
  {
   "cell_type": "code",
   "execution_count": null,
   "metadata": {
    "collapsed": true
   },
   "outputs": [],
   "source": [
    "payload = \"\"\"\n",
    "{\n",
    "    \"query\" : {\n",
    "        \"filtered\" : {\n",
    "            \"filter\" : {\n",
    "                \"range\" : {\n",
    "                    \"age\" : { \"gt\" : 30 } \n",
    "                }\n",
    "            },\n",
    "            \"query\" : {\n",
    "                \"match\" : {\n",
    "                    \"last_name\" : \"smith\" \n",
    "                }\n",
    "            }\n",
    "        }\n",
    "    }\n",
    "}\n",
    "\"\"\"\n",
    "\n",
    "r = requests.get('http://localhost:9200/megacorp/employee/_search?pretty', data = payload)"
   ]
  },
  {
   "cell_type": "code",
   "execution_count": 14,
   "metadata": {
    "collapsed": false,
    "slideshow": {
     "slide_type": "subslide"
    }
   },
   "outputs": [
    {
     "name": "stdout",
     "output_type": "stream",
     "text": [
      "{\n",
      "  \"took\" : 20,\n",
      "  \"timed_out\" : false,\n",
      "  \"_shards\" : {\n",
      "    \"total\" : 1,\n",
      "    \"successful\" : 1,\n",
      "    \"failed\" : 0\n",
      "  },\n",
      "  \"hits\" : {\n",
      "    \"total\" : 1,\n",
      "    \"max_score\" : 1.0,\n",
      "    \"hits\" : [ {\n",
      "      \"_index\" : \"megacorp\",\n",
      "      \"_type\" : \"employee\",\n",
      "      \"_id\" : \"2\",\n",
      "      \"_score\" : 1.0,\n",
      "      \"_source\":\n",
      "{\n",
      "    \"first_name\" :  \"Jane\",\n",
      "    \"last_name\" :   \"Smith\",\n",
      "    \"age\" :         32,\n",
      "    \"about\" :       \"I like to collect rock albums\",\n",
      "    \"interests\":  [ \"music\" ]\n",
      "}\n",
      "\n",
      "    } ]\n",
      "  }\n",
      "}\n",
      "\n"
     ]
    }
   ],
   "source": [
    "print r.text    "
   ]
  },
  {
   "cell_type": "markdown",
   "metadata": {
    "slideshow": {
     "slide_type": "slide"
    }
   },
   "source": [
    "### Query DSL - Búsqueda sobre texto completo\n",
    "- Gran variedad de consultas complejas \n",
    "- Relevancia: cada documento tiene una relevancia calculada para la consulta concreta \n",
    "   "
   ]
  },
  {
   "cell_type": "code",
   "execution_count": null,
   "metadata": {
    "collapsed": true
   },
   "outputs": [],
   "source": [
    "payload = \"\"\"\n",
    "{\n",
    "    \"query\" : {\n",
    "        \"match\" : {\n",
    "            \"about\" : \"rock climbing\"\n",
    "        }\n",
    "    }\n",
    "}\n",
    "\"\"\"\n",
    "\n",
    "r = requests.get('http://localhost:9200/megacorp/employee/_search?pretty', data = payload)"
   ]
  },
  {
   "cell_type": "code",
   "execution_count": 15,
   "metadata": {
    "collapsed": false,
    "slideshow": {
     "slide_type": "subslide"
    }
   },
   "outputs": [
    {
     "name": "stdout",
     "output_type": "stream",
     "text": [
      "{\n",
      "  \"took\" : 21,\n",
      "  \"timed_out\" : false,\n",
      "  \"_shards\" : {\n",
      "    \"total\" : 1,\n",
      "    \"successful\" : 1,\n",
      "    \"failed\" : 0\n",
      "  },\n",
      "  \"hits\" : {\n",
      "    \"total\" : 2,\n",
      "    \"max_score\" : 0.6468432,\n",
      "    \"hits\" : [ {\n",
      "      \"_index\" : \"megacorp\",\n",
      "      \"_type\" : \"employee\",\n",
      "      \"_id\" : \"1\",\n",
      "      \"_score\" : 0.6468432,\n",
      "      \"_source\":\n",
      "{\n",
      "    \"first_name\" : \"John\",\n",
      "    \"last_name\" :  \"Smith\",\n",
      "    \"age\" :        25,\n",
      "    \"about\" :      \"I love to go rock climbing\",\n",
      "    \"interests\": [ \"sports\", \"music\" ]\n",
      "}\n",
      "\n",
      "    }, {\n",
      "      \"_index\" : \"megacorp\",\n",
      "      \"_type\" : \"employee\",\n",
      "      \"_id\" : \"2\",\n",
      "      \"_score\" : 0.108701006,\n",
      "      \"_source\":\n",
      "{\n",
      "    \"first_name\" :  \"Jane\",\n",
      "    \"last_name\" :   \"Smith\",\n",
      "    \"age\" :         32,\n",
      "    \"about\" :       \"I like to collect rock albums\",\n",
      "    \"interests\":  [ \"music\" ]\n",
      "}\n",
      "\n",
      "    } ]\n",
      "  }\n",
      "}\n",
      "\n"
     ]
    }
   ],
   "source": [
    "print r.text    "
   ]
  },
  {
   "cell_type": "markdown",
   "metadata": {
    "slideshow": {
     "slide_type": "slide"
    }
   },
   "source": [
    "### Query DSL - Búsqueda de frases\n",
    "\n",
    "-  **match: rock climbing** - contienen *rock* o *climbing*, obtienen mejor score si ambas aparecen\n",
    "-  **match_phrase: \"rock climbing\"** - contiene la frase *\"rock climbing\"*, ambos terminos tienen que aparecer, contiguos y en orden. \n"
   ]
  },
  {
   "cell_type": "code",
   "execution_count": null,
   "metadata": {
    "collapsed": true
   },
   "outputs": [],
   "source": [
    "payload = \"\"\"\n",
    "{\n",
    "    \"query\" : {\n",
    "        \"match_phrase\" : {\n",
    "            \"about\" : \"rock climbing\"\n",
    "        }\n",
    "    }\n",
    "}\n",
    "\"\"\"\n",
    "\n",
    "r = requests.get('http://localhost:9200/megacorp/employee/_search?pretty', data = payload)"
   ]
  },
  {
   "cell_type": "code",
   "execution_count": 16,
   "metadata": {
    "collapsed": false,
    "slideshow": {
     "slide_type": "subslide"
    }
   },
   "outputs": [
    {
     "name": "stdout",
     "output_type": "stream",
     "text": [
      "{\n",
      "  \"took\" : 22,\n",
      "  \"timed_out\" : false,\n",
      "  \"_shards\" : {\n",
      "    \"total\" : 1,\n",
      "    \"successful\" : 1,\n",
      "    \"failed\" : 0\n",
      "  },\n",
      "  \"hits\" : {\n",
      "    \"total\" : 1,\n",
      "    \"max_score\" : 0.9020494,\n",
      "    \"hits\" : [ {\n",
      "      \"_index\" : \"megacorp\",\n",
      "      \"_type\" : \"employee\",\n",
      "      \"_id\" : \"1\",\n",
      "      \"_score\" : 0.9020494,\n",
      "      \"_source\":\n",
      "{\n",
      "    \"first_name\" : \"John\",\n",
      "    \"last_name\" :  \"Smith\",\n",
      "    \"age\" :        25,\n",
      "    \"about\" :      \"I love to go rock climbing\",\n",
      "    \"interests\": [ \"sports\", \"music\" ]\n",
      "}\n",
      "\n",
      "    } ]\n",
      "  }\n",
      "}\n",
      "\n"
     ]
    }
   ],
   "source": [
    "print r.text    "
   ]
  },
  {
   "cell_type": "markdown",
   "metadata": {},
   "source": [
    "## Paginado de resultados"
   ]
  }
 ],
 "metadata": {
  "celltoolbar": "Slideshow",
  "kernelspec": {
   "display_name": "Python 2",
   "language": "python",
   "name": "python2"
  },
  "language_info": {
   "codemirror_mode": {
    "name": "ipython",
    "version": 2
   },
   "file_extension": ".py",
   "mimetype": "text/x-python",
   "name": "python",
   "nbconvert_exporter": "python",
   "pygments_lexer": "ipython2",
   "version": "2.7.3"
  }
 },
 "nbformat": 4,
 "nbformat_minor": 0
}
