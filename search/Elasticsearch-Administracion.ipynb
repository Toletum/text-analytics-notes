{
 "cells": [
  {
   "cell_type": "markdown",
   "metadata": {
    "slideshow": {
     "slide_type": "slide"
    }
   },
   "source": [
    "Elasticsearch \n",
    "\n",
    "# Administracion y aspectos de Distribución"
   ]
  },
  {
   "cell_type": "code",
   "execution_count": null,
   "metadata": {
    "collapsed": true
   },
   "outputs": [],
   "source": [
    "## Code from: https://www.reddit.com/r/IPython/comments/34t4m7/lpt_print_json_in_collapsible_format_in_ipython/\n",
    "\n",
    "import uuid\n",
    "from IPython.display import display_javascript, display_html, display\n",
    "import json\n",
    "\n",
    "class RenderJSON(object):\n",
    "    def __init__(self, json_data):\n",
    "        if isinstance(json_data, dict):\n",
    "            self.json_str = json.dumps(json_data)\n",
    "        else:\n",
    "            self.json_str = json\n",
    "        self.uuid = str(uuid.uuid4())\n",
    "\n",
    "    def _ipython_display_(self):\n",
    "        display_html('<div id=\"{}\" style=\"height: 600px; width:100%;\"></div>'.format(self.uuid),\n",
    "            raw=True\n",
    "        )\n",
    "        display_javascript(\"\"\"\n",
    "        require([\"https://rawgit.com/caldwell/renderjson/master/renderjson.js\"], function() {\n",
    "          document.getElementById('%s').appendChild(renderjson(%s))\n",
    "        });\n",
    "        \"\"\" % (self.uuid, self.json_str), raw=True)"
   ]
  },
  {
   "cell_type": "code",
   "execution_count": null,
   "metadata": {
    "collapsed": true
   },
   "outputs": [],
   "source": [
    "import requests"
   ]
  },
  {
   "cell_type": "markdown",
   "metadata": {
    "slideshow": {
     "slide_type": "slide"
    }
   },
   "source": [
    "## Escalado horizontal\n",
    "  - ES puede escalar horizontalmente para:\n",
    "      - permitir cargas de consultas o de indexación más exigentes \n",
    "      - resiliencia"
   ]
  },
  {
   "cell_type": "markdown",
   "metadata": {
    "slideshow": {
     "slide_type": "slide"
    }
   },
   "source": [
    "## *Cluster* \n",
    "\n",
    " - Esta formado por uno o más *nodos*  \n",
    " - Un solo *nodo maestro* que se gestiona automáticamente \n",
    " - Comparten el mismo nombre de cluster \n",
    " - Distribuye la carga de consultas y los datos \n",
    " - Hace transparente la búsqueda y combinacin de los resultados\n",
    " - Aún asi se puede consultar cada nodo por separado\n",
    " - No necesita Zookeper\n",
    " - Se pueden añadir nodos de manera dinámica"
   ]
  },
  {
   "cell_type": "markdown",
   "metadata": {
    "slideshow": {
     "slide_type": "slide"
    }
   },
   "source": [
    "## *Master node*\n",
    "\n",
    "- Gestiona el resto de nodos de un cluster -añadir nuevos o borrar\n",
    "- Gestiona la creacion de índices - creacion y borrado"
   ]
  },
  {
   "cell_type": "markdown",
   "metadata": {
    "slideshow": {
     "slide_type": "slide"
    }
   },
   "source": [
    "## Chequeando la salud del cluster"
   ]
  },
  {
   "cell_type": "code",
   "execution_count": null,
   "metadata": {
    "collapsed": false
   },
   "outputs": [],
   "source": [
    "r = requests.get(\"http://localhost:9200/_cluster/health?pretty\")\n",
    "print r.text"
   ]
  },
  {
   "cell_type": "markdown",
   "metadata": {
    "slideshow": {
     "slide_type": "slide"
    }
   },
   "source": [
    "## Indices distribuidos\n",
    "\n",
    "- Espacio donde se almacena los documentos de diferentes tipos\n",
    "- ES puede tener multiples índices \n",
    "- Cada índice puede estar distribuido en varias máquinas  \n",
    "  - ES hace 'transparente' la búsqueda e indexacion distribuida\n",
    "- Cada índice se compone de varias particiones (*shards*)\n",
    "- Cada *shard* puede tener varias réplicas"
   ]
  },
  {
   "cell_type": "markdown",
   "metadata": {
    "slideshow": {
     "slide_type": "slide"
    }
   },
   "source": [
    "## *Shards*\n",
    "\n",
    " - Almacena los datos \n",
    " - Cada shard es un único índice de Lucene\n",
    " - Proposito \n",
    "   - Añadir un mecanismo de redundancia logica \n",
    "   - Prevenir la perdida de datos en caso de fallo hardware\n",
    "   \n",
    "\n",
    "- Se puede definir el número de particiones por índice\n",
    " - Se puede definir el número de réplicas del índice - y cambiar de forma dinámica \n",
    "\n",
    "- *Primary shards* vs *replica shards* "
   ]
  },
  {
   "cell_type": "markdown",
   "metadata": {
    "slideshow": {
     "slide_type": "slide"
    }
   },
   "source": [
    "## *Scatter-Gather*\n",
    "#### ¿Cómo se ejecuta una búsqueda distribuida? "
   ]
  },
  {
   "cell_type": "markdown",
   "metadata": {
    "slideshow": {
     "slide_type": "slide"
    }
   },
   "source": [
    "## Entendiendo los indicadores de salud del cluster\n",
    "\n",
    "  - Verde\n",
    "  - Amarillo -las replicas no están funcionando \n",
    "  - Rojo  "
   ]
  },
  {
   "cell_type": "markdown",
   "metadata": {
    "slideshow": {
     "slide_type": "slide"
    }
   },
   "source": [
    "## Plugins de administración\n",
    "\n",
    "  - [Marvel + Sense](https://www.elastic.co/products/marvel) - a partir de 2.0 es un plugin de Kibana\n",
    "  - [Head](https://mobz.github.io/elasticsearch-head/)\n",
    "  - [HQ](http://www.elastichq.org/index.html) \n",
    "  - [Kopf](https://github.com/lmenezes/elasticsearch-kopf)"
   ]
  },
  {
   "cell_type": "markdown",
   "metadata": {
    "slideshow": {
     "slide_type": "slide"
    }
   },
   "source": [
    "## Cómo instalar plugins\n",
    "\n",
    "- ES tiene una utilidad (*plugin*) que permite instalar plugins:\n",
    "      - por nombre si se trata de un plugin oficial\n",
    "      - desde un repo Github: username/repo/version\n",
    "      - Maven central: groupId/artifactId/version\n",
    "      - URL\n",
    "- Se suele instalar en el directorio de ES bajo /bin\n",
    "- ES ha crecido mucho en los 2 últimos años  - ¡mirar bien la matriz de versiones! \n",
    "\n",
    "<pre>\n",
    "  cd /usr/share/elasticsearch\n",
    "  sudo bin/plugin install <nombre>  # Para instalar\n",
    "  sudo bin/plugin remove <nombre>   # Para quitar \n",
    "  sudo bin/plugin list              # Ver la lista de plugins\n",
    "</pre>\n"
   ]
  },
  {
   "cell_type": "markdown",
   "metadata": {},
   "source": [
    "## Plugins\n",
    "\n",
    "\n",
    "[https://www.elastic.co/guide/en/elasticsearch/plugins/current/index.html](https://www.elastic.co/guide/en/elasticsearch/plugins/current/index.html)\n"
   ]
  },
  {
   "cell_type": "markdown",
   "metadata": {
    "slideshow": {
     "slide_type": "slide"
    }
   },
   "source": [
    "## Configuración\n",
    "\n",
    " - Disponible en un fichero elasticsearch.yml (YAML) \n",
    " - Situado en el directorio de ES o ruta típica del sistema: /etc/elasticsearch\n",
    " - Hay que configurar cada nodo de manera individual\n",
    " - Preconfigurado con parámetros típicos\n",
    " - **¡Cuidado!** En ES 1.x viene preconfigurado para unirse a un cluster por defecto\n",
    " \n",
    "\n",
    "<pre>\n",
    "##################### ElasticSearch Configuration Example #####################\n",
    "\n",
    "# This file contains an overview of various configuration settings,\n",
    "# targeted at operations staff. Application developers should\n",
    "# consult the guide at <http://elasticsearch.org/guide>.\n",
    "#\n",
    "# The installation procedure is covered at\n",
    "# <http://elasticsearch.org/guide/reference/setup/installation.html>.\n",
    "#\n",
    "# ElasticSearch comes with reasonable defaults for most settings,\n",
    "# so you can try it out without bothering with configuration.\n",
    "#\n",
    "# Most of the time, these defaults are just fine for running a production\n",
    "# cluster. If you're fine-tuning your cluster, or wondering about the\n",
    "# effect of certain configuration option, please _do ask_ on the\n",
    "# mailing list or IRC channel [http://elasticsearch.org/community].\n",
    "\n",
    "# See <http://elasticsearch.org/guide/reference/setup/configuration.html>\n",
    "# for information on supported formats and syntax for the configuration file.\n",
    "\n",
    "\n",
    "################################### Cluster ###################################\n",
    "\n",
    "# Cluster name identifies your cluster for auto-discovery. If you're running\n",
    "# multiple clusters on the same network, make sure you're using unique names.\n",
    "#\n",
    "# cluster.name: elasticsearch\n",
    "cluster.name: ansible-es\n",
    "\n",
    "#################################### Node #####################################\n",
    "\n",
    "# Node names are generated dynamically on startup, so you're relieved\n",
    "# from configuring them manually. You can tie this node to a specific name:\n",
    "#\n",
    "# node.name: \"Franz Kafka\"\n",
    "node.name: ansible-es-1\n",
    "\n",
    "# Every node can be configured to allow or deny being eligible as the master,\n",
    "# and to allow or deny to store the data.\n",
    "#\n",
    "# Allow this node to be eligible as a master node (enabled by default):\n",
    "#\n",
    "# node.master: true\n",
    "#\n",
    "# Allow this node to store data (enabled by default):\n",
    "#\n",
    "# node.data: true\n",
    "\n",
    "# You can exploit these settings to design advanced cluster topologies.\n",
    "#\n",
    "# 1. You want this node to never become a master node, only to hold data.\n",
    "#    This will be the \"workhorse\" of your cluster.\n",
    "#\n",
    "# node.master: false\n",
    "# node.data: true\n",
    "#\n",
    "# 2. You want this node to only serve as a master: to not store any data and\n",
    "#    to have free resources. This will be the \"coordinator\" of your cluster.\n",
    "#\n",
    "# node.master: true\n",
    "# node.data: false\n",
    "#\n",
    "# 3. You want this node to be neither master nor data node, but\n",
    "#    to act as a \"search load balancer\" (fetching data from nodes,\n",
    "#    aggregating results, etc.)\n",
    "#\n",
    "# node.master: false\n",
    "# node.data: false\n",
    "\n",
    "# Use the Cluster Health API [http://localhost:9200/_cluster/health], the\n",
    "# Node Info API [http://localhost:9200/_cluster/nodes] or GUI tools\n",
    "# such as <http://github.com/lukas-vlcek/bigdesk> and\n",
    "# <http://mobz.github.com/elasticsearch-head> to inspect the cluster state.\n",
    "\n",
    "# A node can have generic attributes associated with it, which can later be used\n",
    "# for customized shard allocation filtering, or allocation awareness. An attribute\n",
    "# is a simple key value pair, similar to node.key: value, here is an example:\n",
    "#\n",
    "# node.rack: rack314\n",
    "\n",
    "# By default, multiple nodes are allowed to start from the same installation location\n",
    "# to disable it, set the following:\n",
    "# node.max_local_storage_nodes: 1\n",
    "\n",
    "# Disable network discovery by setting the following (useful for development):\n",
    "# node.local: true\n",
    "\n",
    "#################################### Index ####################################\n",
    "\n",
    "# You can set a number of options (such as shard/replica options, mapping\n",
    "# or analyzer definitions, translog settings, ...) for indices globally,\n",
    "# in this file.\n",
    "#\n",
    "# Note, that it makes more sense to configure index settings specifically for\n",
    "# a certain index, either when creating it or by using the index templates API.\n",
    "#\n",
    "# See <http://elasticsearch.org/guide/reference/index-modules/> and\n",
    "# <http://elasticsearch.org/guide/reference/api/admin-indices-create-index.html>\n",
    "# for more information.\n",
    "\n",
    "# Set the number of shards (splits) of an index (5 by default):\n",
    "#\n",
    "# index.number_of_shards: 5\n",
    "index.number_of_shards: 1\n",
    "\n",
    "# Set the number of replicas (additional copies) of an index (1 by default):\n",
    "#\n",
    "# index.number_of_replicas: 1\n",
    "index.number_of_replicas: 0\n",
    "\n",
    "# Note, that for development on a local machine, with small indices, it usually\n",
    "# makes sense to \"disable\" the distributed features:\n",
    "#\n",
    "# index.number_of_shards: 1\n",
    "# index.number_of_replicas: 0\n",
    "\n",
    "# These settings directly affect the performance of index and search operations\n",
    "# in your cluster. Assuming you have enough machines to hold shards and\n",
    "# replicas, the rule of thumb is:\n",
    "#\n",
    "# 1. Having more *shards* enhances the _indexing_ performance and allows to\n",
    "#    _distribute_ a big index across machines.\n",
    "# 2. Having more *replicas* enhances the _search_ performance and improves the\n",
    "#    cluster _availability_.\n",
    "#\n",
    "# The \"number_of_shards\" is a one-time setting for an index.\n",
    "#\n",
    "# The \"number_of_replicas\" can be increased or decreased anytime,\n",
    "# by using the Index Update Settings API.\n",
    "#\n",
    "# ElasticSearch takes care about load balancing, relocating, gathering the\n",
    "# results from nodes, etc. Experiment with different settings to fine-tune\n",
    "# your setup.\n",
    "\n",
    "# Use the Index Status API (<http://localhost:9200/A/_status>) to inspect\n",
    "# the index status.\n",
    "\n",
    "\n",
    "\n",
    "#################################### Paths ####################################\n",
    "\n",
    "# Path to directory containing configuration (this file and logging.yml):\n",
    "#\n",
    "# path.conf: /path/to/conf\n",
    "path.conf: /etc/elasticsearch\n",
    "\n",
    "# Path to directory where to store index data allocated for this node.\n",
    "#\n",
    "# path.data: /path/to/data\n",
    "path.data: /var/lib/elasticsearch\n",
    "\n",
    "# Can optionally include more than one location, causing data to be striped across\n",
    "# the locations (a la RAID 0) on a file level, favouring locations with most free\n",
    "# space on creation. For example:\n",
    "#\n",
    "# path.data: /path/to/data1,/path/to/data2\n",
    "\n",
    "# Path to temporary files:\n",
    "#\n",
    "# path.work: /path/to/work\n",
    "path.work: /tmp/elasticsearch\n",
    "\n",
    "# Path to log files:\n",
    "#\n",
    "# path.logs: /path/to/logs\n",
    "path.logs: /var/log/elasticsearch\n",
    "\n",
    "# Path to where plugins are installed:\n",
    "#\n",
    "# path.plugins: /path/to/plugins\n",
    "path.plugins: /usr/share/elasticsearch/plugins\n",
    "\n",
    "\n",
    "# Path to snapshot/restore repost\n",
    "#path.repo: //pppp\n",
    "\n",
    "\n",
    "#################################### Plugin ###################################\n",
    "\n",
    "# If a plugin listed here is not installed for current node, the node will not start.\n",
    "#\n",
    "# plugin.mandatory: mapper-attachments,lang-groovy\n",
    "\n",
    "\n",
    "################################### Memory ####################################\n",
    "\n",
    "# ElasticSearch performs poorly when JVM starts swapping: you should ensure that\n",
    "# it _never_ swaps.\n",
    "#\n",
    "# Set this property to true to lock the memory:\n",
    "#\n",
    "#\n",
    "\n",
    "# Make sure that the ES_MIN_MEM and ES_MAX_MEM environment variables are set\n",
    "# to the same value, and that the machine has enough memory to allocate\n",
    "# for ElasticSearch, leaving enough memory for the operating system itself.\n",
    "#\n",
    "# You should also make sure that the ElasticSearch process is allowed to lock\n",
    "# the memory, eg. by using `ulimit -l unlimited`.\n",
    "\n",
    "\n",
    "\n",
    "\n",
    "\n",
    "############################## Network And HTTP ###############################\n",
    "\n",
    "# ElasticSearch, by default, binds itself to the 0.0.0.0 address, and listens\n",
    "# on port [9200-9300] for HTTP traffic and on port [9300-9400] for node-to-node\n",
    "# communication. (the range means that if the port is busy, it will automatically\n",
    "# try the next port).\n",
    "\n",
    "# Set the bind address specifically (IPv4 or IPv6):\n",
    "#\n",
    "# network.bind_host: 192.168.0.1\n",
    "\n",
    "# Set the address other nodes will use to communicate with this node. If not\n",
    "# set, it is automatically derived. It must point to an actual IP address.\n",
    "#\n",
    "# network.publish_host: 192.168.0.1\n",
    "\n",
    "# Set both 'bind_host' and 'publish_host':\n",
    "#\n",
    "# network.host: 192.168.0.1\n",
    "network.host: 0.0.0.0\n",
    "\n",
    "# Set a custom port for the node to node communication (9300 by default):\n",
    "#\n",
    "# transport.tcp.port: 9300\n",
    "\n",
    "# Enable compression for all communication between nodes (disabled by default):\n",
    "#\n",
    "# transport.tcp.compress: true\n",
    "\n",
    "# Set a custom port to listen for HTTP traffic:\n",
    "#\n",
    "# http.port: 9200\n",
    "\n",
    "# Set a custom allowed content length:\n",
    "#\n",
    "# http.max_content_length: 100mb\n",
    "\n",
    "# Disable HTTP completely:\n",
    "#\n",
    "# http.enabled: false\n",
    "\n",
    "# Basic HTTP\n",
    "\n",
    "\n",
    "################################### Gateway ###################################\n",
    "\n",
    "# The gateway allows for persisting the cluster state between full cluster\n",
    "# restarts. Every change to the state (such as adding an index) will be stored\n",
    "# in the gateway, and when the cluster starts up for the first time,\n",
    "# it will read its state from the gateway.\n",
    "\n",
    "# There are several types of gateway implementations. For more information,\n",
    "# see <http://elasticsearch.org/guide/reference/modules/gateway>.\n",
    "\n",
    "# The default gateway type is the \"local\" gateway (recommended):\n",
    "#\n",
    "# gateway.type: local\n",
    "\n",
    "# Settings below control how and when to start the initial recovery process on\n",
    "# a full cluster restart (to reuse as much local data as possible when using shared\n",
    "# gateway).\n",
    "\n",
    "# Allow recovery process after N nodes in a cluster are up:\n",
    "#\n",
    "# gateway.recover_after_nodes: 1\n",
    "\n",
    "# Set the timeout to initiate the recovery process, once the N nodes\n",
    "# from previous setting are up (accepts time value):\n",
    "#\n",
    "# gateway.recover_after_time: 5m\n",
    "\n",
    "# Set how many nodes are expected in this cluster. Once these N nodes\n",
    "# are up (and recover_after_nodes is met), begin recovery process immediately\n",
    "# (without waiting for recover_after_time to expire):\n",
    "#\n",
    "# gateway.expected_nodes: 2\n",
    "\n",
    "############################# Recovery Throttling #############################\n",
    "\n",
    "# These settings allow to control the process of shards allocation between\n",
    "# nodes during initial recovery, replica allocation, rebalancing,\n",
    "# or when adding and removing nodes.\n",
    "\n",
    "# Set the number of concurrent recoveries happening on a node:\n",
    "#\n",
    "# 1. During the initial recovery\n",
    "#\n",
    "# cluster.routing.allocation.node_initial_primaries_recoveries: 4\n",
    "\n",
    "#\n",
    "# 2. During adding/removing nodes, rebalancing, etc\n",
    "#\n",
    "# cluster.routing.allocation.node_concurrent_recoveries: 2\n",
    "\n",
    "# Set to throttle throughput when recovering (eg. 100mb, by default unlimited):\n",
    "#\n",
    "# indices.recovery.max_size_per_sec: 0\n",
    "\n",
    "# Set to limit the number of open concurrent streams when\n",
    "# recovering a shard from a peer:\n",
    "#\n",
    "# indices.recovery.concurrent_streams: 5\n",
    "\n",
    "\n",
    "################################## Discovery ##################################\n",
    "\n",
    "\n",
    "# Discovery infrastructure ensures nodes can be found within a cluster\n",
    "# and master node is elected. Multicast discovery is the default.\n",
    "\n",
    "# Set to ensure a node sees N other master eligible nodes to be considered\n",
    "# operational within the cluster. Set this option to a higher value (2-4)\n",
    "# for large clusters (>3 nodes):\n",
    "#\n",
    "# discovery.zen.minimum_master_nodes: 1\n",
    "\n",
    "# Set the time to wait for ping responses from other nodes when discovering.\n",
    "# Set this option to a higher value on a slow or congested network\n",
    "# to minimize discovery failures:\n",
    "#\n",
    "# discovery.zen.ping.timeout: 3s\n",
    "\n",
    "# See <http://elasticsearch.org/guide/reference/modules/discovery/zen.html>\n",
    "# for more information.\n",
    "\n",
    "# Unicast discovery allows to explicitly control which nodes will be used\n",
    "# to discover the cluster. It can be used when multicast is not present,\n",
    "# or to restrict the cluster communication-wise.\n",
    "#\n",
    "# 1. Disable multicast discovery (enabled by default):\n",
    "#\n",
    "# discovery.zen.ping.multicast.enabled: false\n",
    "\n",
    "#\n",
    "# 2. Configure an initial list of master nodes in the cluster\n",
    "#    to perform discovery when new nodes (master or data) are started:\n",
    "#\n",
    "# discovery.zen.ping.unicast.hosts: [\"host1\", \"host2:port\", \"host3[portX-portY]\"]\n",
    "\n",
    "# EC2 discovery allows to use AWS EC2 API in order to perform discovery.\n",
    "#\n",
    "# You have to install the cloud-aws plugin for enabling the EC2 discovery.\n",
    "#\n",
    "# See <http://elasticsearch.org/guide/reference/modules/discovery/ec2.html>\n",
    "# for more information.\n",
    "#\n",
    "# See <http://elasticsearch.org/tutorials/2011/08/22/elasticsearch-on-ec2.html>\n",
    "# for a step-by-step tutorial.\n",
    "\n",
    "# Fault Discovery\n",
    "# See <http://www.elasticsearch.org/guide/en/elasticsearch/reference/current/modules-discovery-zen.html#fault-detection>\n",
    "\n",
    "# Configurations for Google Compute Engine plugin\n",
    "\n",
    "\n",
    "################################## Slow Log ##################################\n",
    "\n",
    "# Shard level query and fetch threshold logging.\n",
    "\n",
    "#index.search.slowlog.threshold.query.warn: 10s\n",
    "#index.search.slowlog.threshold.query.info: 5s\n",
    "#index.search.slowlog.threshold.query.debug: 2s\n",
    "#index.search.slowlog.threshold.query.trace: 500ms\n",
    "\n",
    "#index.search.slowlog.threshold.fetch.warn: 1s\n",
    "#index.search.slowlog.threshold.fetch.info: 800ms\n",
    "#index.search.slowlog.threshold.fetch.debug: 500ms\n",
    "#index.search.slowlog.threshold.fetch.trace: 200ms\n",
    "\n",
    "#index.indexing.slowlog.threshold.index.warn: 10s\n",
    "#index.indexing.slowlog.threshold.index.info: 5s\n",
    "#index.indexing.slowlog.threshold.index.debug: 2s\n",
    "#index.indexing.slowlog.threshold.index.trace: 500ms\n",
    "\n",
    "################################## GC Logging ################################\n",
    "\n",
    "#monitor.jvm.gc.ParNew.warn: 1000ms\n",
    "#monitor.jvm.gc.ParNew.info: 700ms\n",
    "#monitor.jvm.gc.ParNew.debug: 400ms\n",
    "\n",
    "#monitor.jvm.gc.ConcurrentMarkSweep.warn: 10s\n",
    "#monitor.jvm.gc.ConcurrentMarkSweep.info: 5s\n",
    "#monitor.jvm.gc.ConcurrentMarkSweep.debug: 2s\n",
    "\n",
    "################################### Varia #####################################\n",
    "\n",
    "\n",
    "marvel.agent.enabled: false\n",
    "\n",
    "\n",
    "\n",
    "\n",
    "\n",
    "################################### Dynamic Scripting #####################################\n",
    "\n",
    "script.inline: true\n",
    "script.indexed: true\n",
    "\n",
    "################################### CORS Settings #####################################\n",
    "\n",
    "http.cors.enabled: true\n",
    "\n",
    "http.cors.allow-origin: http://localhost:5601\n",
    "\n",
    "\n",
    "\n",
    "\n",
    "################################### Awareness Settings ##################################### \n",
    "</pre>"
   ]
  },
  {
   "cell_type": "markdown",
   "metadata": {
    "slideshow": {
     "slide_type": "slide"
    }
   },
   "source": [
    "Paseo por [HQ](http://localhost:9200/_plugin/hq/) o Marvel"
   ]
  },
  {
   "cell_type": "markdown",
   "metadata": {
    "slideshow": {
     "slide_type": "slide"
    }
   },
   "source": [
    "## Backup y restauración (Snapshot API)\n",
    "\n",
    " - Replicas permiten recuperarse de fallos en los nodos\n",
    " - No estan protegidos contra un fallo general => Backup!\n",
    " - Durante el desarrollo tambien es interesante realizar backups \n",
    "    - crear un índice puede ser costoso\n",
    "    - reproducir condiciones específicas\n",
    "    \n",
    "##  Snapshot API \n",
    " - disponible desde \n",
    " - permite tomar instantaneas del índice y persistirlas a otro medio de almacenamiento (repositorio) \n",
    " - permite recuperar las instantaneas y cargar un índice\n",
    " - Snapshots de uno o varios indices\n",
    " - Delta snapshopts\n",
    " \n",
    " ## Tipos de repositorios\n",
    "  - Sistema de Ficheros (distribuido)  \n",
    "  - Amazon S3\n",
    "  - HDFS \n",
    "  - Azure Cloud "
   ]
  },
  {
   "cell_type": "markdown",
   "metadata": {},
   "source": [
    "### Definiendo un repositorio"
   ]
  },
  {
   "cell_type": "code",
   "execution_count": 11,
   "metadata": {
    "collapsed": false
   },
   "outputs": [
    {
     "name": "stdout",
     "output_type": "stream",
     "text": [
      "{\"acknowledged\":true}\n"
     ]
    }
   ],
   "source": [
    "payload = \"\"\"\n",
    "{\n",
    "    \"type\": \"fs\", \n",
    "    \"settings\": {\n",
    "        \"location\": \"/tmp/my_backup\" \n",
    "    }\n",
    "}\n",
    "\"\"\"\n",
    "\n",
    "r = requests.put('http://localhost:9200/_snapshot/my_backup', data = payload)\n",
    "\n",
    "print r.text"
   ]
  },
  {
   "cell_type": "markdown",
   "metadata": {},
   "source": [
    "### Definiendo un repositorio\n",
    "\n",
    "- necesitamos añadir la configuracion del repositorio a elasticsearch.yml\n",
    "- asegurarnos de que los permisos son correctos\n",
    "\n",
    "#### Configuracion (*settings*) para controlar el uso de recursos: \n",
    "     -  max_snapshot_bytes_per_sec \n",
    "     -  max_restore_bytes_per_sec\n"
   ]
  },
  {
   "cell_type": "markdown",
   "metadata": {},
   "source": [
    "### Haciendo un snapshot\n",
    "\n",
    "  - Se realiza en background.\n",
    "     - si queremos esperar a que termine usamos *wait_for_completion=true*  \n",
    "  - Incluye todos los indices abiertos\n",
    "  - Otras operaciones: \n",
    "       - Ver detalles de un snapshot (GET) \n",
    "       - Borrar un snapshot (DELETE) - es importante hacerlo mediante la API, los snapshot son incrementales. \n",
    "       - Cancelar un snapshot (DELETE) - mientras se ejecuta"
   ]
  },
  {
   "cell_type": "code",
   "execution_count": 12,
   "metadata": {
    "collapsed": false
   },
   "outputs": [
    {
     "name": "stdout",
     "output_type": "stream",
     "text": [
      "{\"accepted\":true}\n"
     ]
    }
   ],
   "source": [
    "r = requests.put('http://localhost:9200/_snapshot/my_backup/snapshot_20160226')\n",
    "\n",
    "print r.text"
   ]
  },
  {
   "cell_type": "markdown",
   "metadata": {},
   "source": [
    "### Monitorizando el progreso del backup\n"
   ]
  },
  {
   "cell_type": "code",
   "execution_count": 22,
   "metadata": {
    "collapsed": false
   },
   "outputs": [
    {
     "data": {
      "text/html": [
       "<div id=\"59a78bd9-b7e5-4894-93d6-678073c48dc5\" style=\"height: 600px; width:100%;\"></div>"
      ]
     },
     "metadata": {},
     "output_type": "display_data"
    },
    {
     "data": {
      "application/javascript": [
       "\n",
       "        require([\"https://rawgit.com/caldwell/renderjson/master/renderjson.js\"], function() {\n",
       "          document.getElementById('59a78bd9-b7e5-4894-93d6-678073c48dc5').appendChild(renderjson({\"snapshots\": [{\"stats\": {\"number_of_files\": 14, \"total_size_in_bytes\": 55938, \"time_in_millis\": 135, \"processed_files\": 14, \"processed_size_in_bytes\": 55938, \"start_time_in_millis\": 1456077494562}, \"repository\": \"my_backup\", \"shards_stats\": {\"started\": 0, \"failed\": 0, \"done\": 2, \"finalizing\": 0, \"initializing\": 0, \"total\": 2}, \"state\": \"SUCCESS\", \"snapshot\": \"snapshot_20160226\", \"indices\": {\"tvseries\": {\"stats\": {\"number_of_files\": 10, \"total_size_in_bytes\": 52702, \"time_in_millis\": 44, \"processed_files\": 10, \"processed_size_in_bytes\": 52702, \"start_time_in_millis\": 1456077494653}, \"shards\": {\"0\": {\"stats\": {\"number_of_files\": 10, \"total_size_in_bytes\": 52702, \"time_in_millis\": 44, \"processed_files\": 10, \"processed_size_in_bytes\": 52702, \"start_time_in_millis\": 1456077494653}, \"stage\": \"DONE\"}}, \"shards_stats\": {\"started\": 0, \"failed\": 0, \"done\": 1, \"finalizing\": 0, \"initializing\": 0, \"total\": 1}}, \".kibana\": {\"stats\": {\"number_of_files\": 4, \"total_size_in_bytes\": 3236, \"time_in_millis\": 48, \"processed_files\": 4, \"processed_size_in_bytes\": 3236, \"start_time_in_millis\": 1456077494562}, \"shards\": {\"0\": {\"stats\": {\"number_of_files\": 4, \"total_size_in_bytes\": 3236, \"time_in_millis\": 48, \"processed_files\": 4, \"processed_size_in_bytes\": 3236, \"start_time_in_millis\": 1456077494562}, \"stage\": \"DONE\"}}, \"shards_stats\": {\"started\": 0, \"failed\": 0, \"done\": 1, \"finalizing\": 0, \"initializing\": 0, \"total\": 1}}}}]}))\n",
       "        });\n",
       "        "
      ]
     },
     "metadata": {},
     "output_type": "display_data"
    }
   ],
   "source": [
    "r = requests.get('http://localhost:9200/_snapshot/my_backup/snapshot_20160226/_status')\n",
    "\n",
    "RenderJSON(r.json())"
   ]
  },
  {
   "cell_type": "markdown",
   "metadata": {},
   "source": [
    "### Recuperando un snapshot\n",
    "\n",
    " - Para recuperar un índice tiene que estar cerrado"
   ]
  },
  {
   "cell_type": "code",
   "execution_count": 19,
   "metadata": {
    "collapsed": false
   },
   "outputs": [
    {
     "name": "stdout",
     "output_type": "stream",
     "text": [
      "{\n",
      "  \"accepted\" : true\n",
      "}\n",
      "\n"
     ]
    }
   ],
   "source": [
    "r = requests.post('http://localhost:9200/_snapshot/my_backup/snapshot_20160226/_restore?pretty')\n",
    "\n",
    "print r.text"
   ]
  },
  {
   "cell_type": "markdown",
   "metadata": {},
   "source": [
    "### Monitorizando el progreso de la restauracion"
   ]
  },
  {
   "cell_type": "code",
   "execution_count": 23,
   "metadata": {
    "collapsed": false
   },
   "outputs": [
    {
     "data": {
      "text/html": [
       "<div id=\"833c7742-79d5-4062-b854-06b08ad6cbd6\" style=\"height: 600px; width:100%;\"></div>"
      ]
     },
     "metadata": {},
     "output_type": "display_data"
    },
    {
     "data": {
      "application/javascript": [
       "\n",
       "        require([\"https://rawgit.com/caldwell/renderjson/master/renderjson.js\"], function() {\n",
       "          document.getElementById('833c7742-79d5-4062-b854-06b08ad6cbd6').appendChild(renderjson({\"tvseries\": {\"shards\": [{\"index\": {\"files\": {\"reused\": 10, \"total\": 10, \"percent\": \"100.0%\", \"recovered\": 0}, \"total_time_in_millis\": 70, \"source_throttle_time_in_millis\": 0, \"target_throttle_time_in_millis\": 0, \"size\": {\"reused_in_bytes\": 52702, \"percent\": \"100.0%\", \"total_in_bytes\": 52702, \"recovered_in_bytes\": 0}}, \"verify_index\": {\"total_time_in_millis\": 0, \"check_index_time_in_millis\": 0}, \"target\": {\"ip\": \"10.0.2.15\", \"host\": \"10.0.2.15\", \"transport_address\": \"10.0.2.15:9300\", \"id\": \"vJ4kRoeAREKF0_IMoxbAnA\", \"name\": \"ansible-es-1\"}, \"source\": {\"index\": \"tvseries\", \"version\": \"2.1.0\", \"snapshot\": \"snapshot_20160226\", \"repository\": \"my_backup\"}, \"translog\": {\"total_on_start\": 0, \"total\": 0, \"percent\": \"100.0%\", \"recovered\": 0, \"total_time_in_millis\": 82}, \"primary\": true, \"total_time_in_millis\": 161, \"stop_time_in_millis\": 1456077722396, \"stage\": \"DONE\", \"type\": \"SNAPSHOT\", \"id\": 0, \"start_time_in_millis\": 1456077722234}]}, \".kibana\": {\"shards\": [{\"index\": {\"files\": {\"reused\": 4, \"total\": 4, \"percent\": \"100.0%\", \"recovered\": 0}, \"total_time_in_millis\": 10, \"source_throttle_time_in_millis\": 0, \"target_throttle_time_in_millis\": 0, \"size\": {\"reused_in_bytes\": 3236, \"percent\": \"100.0%\", \"total_in_bytes\": 3236, \"recovered_in_bytes\": 0}}, \"verify_index\": {\"total_time_in_millis\": 0, \"check_index_time_in_millis\": 0}, \"target\": {\"ip\": \"10.0.2.15\", \"host\": \"10.0.2.15\", \"transport_address\": \"10.0.2.15:9300\", \"id\": \"vJ4kRoeAREKF0_IMoxbAnA\", \"name\": \"ansible-es-1\"}, \"source\": {\"index\": \".kibana\", \"version\": \"2.1.0\", \"snapshot\": \"snapshot_20160226\", \"repository\": \"my_backup\"}, \"translog\": {\"total_on_start\": 0, \"total\": 0, \"percent\": \"100.0%\", \"recovered\": 0, \"total_time_in_millis\": 47}, \"primary\": true, \"total_time_in_millis\": 73, \"stop_time_in_millis\": 1456077722313, \"stage\": \"DONE\", \"type\": \"SNAPSHOT\", \"id\": 0, \"start_time_in_millis\": 1456077722240}]}}))\n",
       "        });\n",
       "        "
      ]
     },
     "metadata": {},
     "output_type": "display_data"
    }
   ],
   "source": [
    "r = requests.get('http://localhost:9200/_recovery')\n",
    "\n",
    "RenderJSON(r.json())"
   ]
  },
  {
   "cell_type": "markdown",
   "metadata": {
    "collapsed": true,
    "slideshow": {
     "slide_type": "slide"
    }
   },
   "source": [
    "## Alias de indices\n",
    "\n",
    "  - En ES podemos definir alias de índices \n",
    "  - Permiten gestionar:\n",
    "    - Cambiar un índice por otro de forma transparente\n",
    "    - Agrupar multiples indices\n",
    "    - Crear vistas en un subconjunto de documentos\n",
    "     \n",
    "   - Facilitan: \n",
    "      - cambios y pruebas en la indizacion - análisis, relevancia, etc\n",
    "      - reindexar por un error de configiracion \n",
    "      - archivado de índices históricos - eficiencia\n",
    "   "
   ]
  },
  {
   "cell_type": "markdown",
   "metadata": {},
   "source": [
    "### Creando un alias"
   ]
  },
  {
   "cell_type": "code",
   "execution_count": 24,
   "metadata": {
    "collapsed": false
   },
   "outputs": [
    {
     "name": "stdout",
     "output_type": "stream",
     "text": [
      "{\"acknowledged\":true}\n"
     ]
    }
   ],
   "source": [
    "r = requests.put(\"http://localhost:9200/tvseries/_alias/current_tvseries\")\n",
    "\n",
    "print r.text"
   ]
  },
  {
   "cell_type": "code",
   "execution_count": 26,
   "metadata": {
    "collapsed": false
   },
   "outputs": [
    {
     "data": {
      "text/html": [
       "<div id=\"0635d4f4-350c-4d5c-b094-3002c872073d\" style=\"height: 600px; width:100%;\"></div>"
      ]
     },
     "metadata": {},
     "output_type": "display_data"
    },
    {
     "data": {
      "application/javascript": [
       "\n",
       "        require([\"https://rawgit.com/caldwell/renderjson/master/renderjson.js\"], function() {\n",
       "          document.getElementById('0635d4f4-350c-4d5c-b094-3002c872073d').appendChild(renderjson({\"hits\": {\"hits\": [{\"_score\": 1.0, \"_type\": \"serie\", \"_id\": \"169\", \"_source\": {\"status\": \"Ended\", \"rating\": {\"average\": 9.3}, \"genres\": [\"Drama\", \"Crime\", \"Thriller\"], \"weight\": 3, \"updated\": 1451250971, \"name\": \"Breaking Bad\", \"language\": \"English\", \"schedule\": {\"days\": [\"Sunday\"], \"time\": \"22:00\"}, \"url\": \"http://www.tvmaze.com/shows/169/breaking-bad\", \"image\": {\"medium\": \"http://tvmazecdn.com/uploads/images/medium_portrait/0/2400.jpg\", \"original\": \"http://tvmazecdn.com/uploads/images/original_untouched/0/2400.jpg\"}, \"externals\": {\"thetvdb\": 81189, \"tvrage\": 18164, \"imdb\": \"tt0903747\"}, \"premiered\": \"2008-01-20\", \"summary\": \"<p><em><strong>\\\"Breaking Bad\\\"</strong></em> follows protagonist Walter White, a chemistry teacher who lives in New Mexico with his wife and teenage son who has cerebral palsy. White is diagnosed with Stage III cancer and given a prognosis of two years left to live. With a new sense of fearlessness based on his medical prognosis, and a desire to secure his family's financial security, White chooses to enter a dangerous world of drugs and crime and ascends to power in this world. The series explores how a fatal diagnosis such as White's releases a typical man from the daily concerns and constraints of normal society and follows his transformation from mild family man to a kingpin of the drug trade.</p>\", \"_links\": {\"previousepisode\": {\"href\": \"http://api.tvmaze.com/episodes/12253\"}, \"self\": {\"href\": \"http://api.tvmaze.com/shows/169\"}}, \"webChannel\": null, \"runtime\": 60, \"type\": \"Scripted\", \"id\": 169, \"network\": {\"country\": {\"timezone\": \"America/New_York\", \"code\": \"US\", \"name\": \"United States\"}, \"id\": 20, \"name\": \"AMC\"}}, \"_index\": \"tvseries\"}, {\"_score\": 1.0, \"_type\": \"serie\", \"_id\": \"1855\", \"_source\": {\"status\": \"Running\", \"rating\": {\"average\": 7.8}, \"genres\": [\"Action\", \"Crime\", \"Thriller\", \"Mystery\"], \"weight\": 11, \"updated\": 1455891788, \"name\": \"Blindspot\", \"language\": \"English\", \"schedule\": {\"days\": [\"Monday\"], \"time\": \"22:00\"}, \"url\": \"http://www.tvmaze.com/shows/1855/blindspot\", \"image\": {\"medium\": \"http://tvmazecdn.com/uploads/images/medium_portrait/28/70723.jpg\", \"original\": \"http://tvmazecdn.com/uploads/images/original_untouched/28/70723.jpg\"}, \"externals\": {\"thetvdb\": 295647, \"tvrage\": 44628, \"imdb\": \"tt4474344\"}, \"premiered\": \"2015-09-21\", \"summary\": \"<p>A beautiful woman, with no memories of her past, is found naked in Times\\n Square with her body fully covered in intricate tattoos. Her discovery \\nsets off a vast and complex mystery that immediately ignites the \\nattention of the FBI, which begins to follow the road map on her body \\ninto a larger conspiracy of crime, while bringing her closer to \\ndiscovering the truth about her identity.</p>\", \"_links\": {\"previousepisode\": {\"href\": \"http://api.tvmaze.com/episodes/410719\"}, \"self\": {\"href\": \"http://api.tvmaze.com/shows/1855\"}, \"nextepisode\": {\"href\": \"http://api.tvmaze.com/episodes/536750\"}}, \"webChannel\": null, \"runtime\": 60, \"type\": \"Scripted\", \"id\": 1855, \"network\": {\"country\": {\"timezone\": \"America/New_York\", \"code\": \"US\", \"name\": \"United States\"}, \"id\": 1, \"name\": \"NBC\"}}, \"_index\": \"tvseries\"}, {\"_score\": 1.0, \"_type\": \"serie\", \"_id\": \"51\", \"_source\": {\"status\": \"To Be Determined\", \"rating\": {\"average\": 8.7}, \"genres\": [\"Drama\", \"Medical\"], \"weight\": 2, \"updated\": 1455121010, \"name\": \"The Knick\", \"language\": \"English\", \"schedule\": {\"days\": [\"Friday\"], \"time\": \"22:00\"}, \"url\": \"http://www.tvmaze.com/shows/51/the-knick\", \"image\": {\"medium\": \"http://tvmazecdn.com/uploads/images/medium_portrait/0/417.jpg\", \"original\": \"http://tvmazecdn.com/uploads/images/original_untouched/0/417.jpg\"}, \"externals\": {\"thetvdb\": 279977, \"tvrage\": 36033, \"imdb\": \"tt2937900\"}, \"premiered\": \"2014-08-08\", \"summary\": \"<p>New York City, 1900: The Knickerbocker Hospital is home to groundbreaking surgeons, nurses and staff who push the boundaries of medicine in a time of astonishingly high mortality rates and zero antibiotics. The newly appointed leader of the surgery staff is the brilliant, arrogant renegade Dr. John Thackery, whose addiction to cocaine and opium is trumped only by his ambition for medical discovery and renown among his peers. Into the all-white staff and patient hospital comes the equally gifted Harvard graduate Dr. Algernon Edwards, who must fight for respect while trying to navigate the racially charged city. Trying to maintain its reputation for quality care while realizing a profit, the Knickerbocker makes an effort to attract wealthy clientele, while literally struggling to keep the lights on.</p>\", \"_links\": {\"previousepisode\": {\"href\": \"http://api.tvmaze.com/episodes/213032\"}, \"self\": {\"href\": \"http://api.tvmaze.com/shows/51\"}}, \"webChannel\": null, \"runtime\": 60, \"type\": \"Scripted\", \"id\": 51, \"network\": {\"country\": {\"timezone\": \"America/New_York\", \"code\": \"US\", \"name\": \"United States\"}, \"id\": 19, \"name\": \"Cinemax\"}}, \"_index\": \"tvseries\"}, {\"_score\": 1.0, \"_type\": \"serie\", \"_id\": \"175\", \"_source\": {\"status\": \"Running\", \"rating\": {\"average\": 8.9}, \"genres\": [\"Drama\", \"Thriller\"], \"weight\": 6, \"updated\": 1455923083, \"name\": \"House of Cards\", \"language\": \"English\", \"schedule\": {\"days\": [\"Friday\"], \"time\": \"00:01\"}, \"url\": \"http://www.tvmaze.com/shows/175/house-of-cards\", \"image\": {\"medium\": \"http://tvmazecdn.com/uploads/images/medium_portrait/0/2460.jpg\", \"original\": \"http://tvmazecdn.com/uploads/images/original_untouched/0/2460.jpg\"}, \"externals\": {\"thetvdb\": 262980, \"tvrage\": 27822, \"imdb\": \"tt1856010\"}, \"premiered\": \"2013-02-01\", \"summary\": \"<p>A Congressman works with his equally conniving wife to exact revenge on the people who betrayed him.</p>\", \"_links\": {\"previousepisode\": {\"href\": \"http://api.tvmaze.com/episodes/57773\"}, \"self\": {\"href\": \"http://api.tvmaze.com/shows/175\"}, \"nextepisode\": {\"href\": \"http://api.tvmaze.com/episodes/436756\"}}, \"webChannel\": {\"country\": {\"timezone\": \"America/New_York\", \"code\": \"US\", \"name\": \"United States\"}, \"id\": 1, \"name\": \"Netflix\"}, \"runtime\": 60, \"type\": \"Scripted\", \"id\": 175, \"network\": null}, \"_index\": \"tvseries\"}, {\"_score\": 1.0, \"_type\": \"serie\", \"_id\": \"170\", \"_source\": {\"status\": \"Running\", \"rating\": {\"average\": 8.4}, \"genres\": [\"Drama\", \"Comedy\", \"Crime\"], \"weight\": 3, \"updated\": 1453253701, \"name\": \"Orange is the New Black\", \"language\": \"English\", \"schedule\": {\"days\": [\"Friday\"], \"time\": \"00:01\"}, \"url\": \"http://www.tvmaze.com/shows/170/orange-is-the-new-black\", \"image\": {\"medium\": \"http://tvmazecdn.com/uploads/images/medium_portrait/0/2414.jpg\", \"original\": \"http://tvmazecdn.com/uploads/images/original_untouched/0/2414.jpg\"}, \"externals\": {\"thetvdb\": 264586, \"tvrage\": 32950, \"imdb\": \"tt2372162\"}, \"premiered\": \"2013-07-11\", \"summary\": \"<p>The story of Piper Chapman, a woman in her thirties who is sentenced to fifteen months in prison after being convicted of a decade-old crime of transporting money for her drug-dealing girlfriend.</p>\", \"_links\": {\"previousepisode\": {\"href\": \"http://api.tvmaze.com/episodes/143007\"}, \"self\": {\"href\": \"http://api.tvmaze.com/shows/170\"}, \"nextepisode\": {\"href\": \"http://api.tvmaze.com/episodes/574624\"}}, \"webChannel\": {\"country\": {\"timezone\": \"America/New_York\", \"code\": \"US\", \"name\": \"United States\"}, \"id\": 1, \"name\": \"Netflix\"}, \"runtime\": 60, \"type\": \"Scripted\", \"id\": 170, \"network\": null}, \"_index\": \"tvseries\"}, {\"_score\": 1.0, \"_type\": \"serie\", \"_id\": \"5\", \"_source\": {\"status\": \"To Be Determined\", \"rating\": {\"average\": 8.5}, \"genres\": [\"Drama\", \"Crime\", \"Thriller\", \"Mystery\"], \"weight\": 4, \"updated\": 1455233815, \"name\": \"True Detective\", \"language\": \"English\", \"schedule\": {\"days\": [\"Sunday\"], \"time\": \"21:00\"}, \"url\": \"http://www.tvmaze.com/shows/5/true-detective\", \"image\": {\"medium\": \"http://tvmazecdn.com/uploads/images/medium_portrait/0/61.jpg\", \"original\": \"http://tvmazecdn.com/uploads/images/original_untouched/0/61.jpg\"}, \"externals\": {\"thetvdb\": 270633, \"tvrage\": 31369, \"imdb\": \"tt2356777\"}, \"premiered\": \"2014-01-12\", \"summary\": \"<p>The series stars Matthew McConaughey and Woody Harrelson as Louisiana detectives Rust Cohle and Martin Hart, whose lives collide and entwine during a 17-year hunt for a killer, ranging from the original investigation of a bizarre murder in 1995 to the reopening of the case in 2012. Michelle Monaghan also stars as Hart's wife, Maggie, who struggles to keep her family together as the men in her life become locked in a cycle of violence and obsession.</p>\", \"_links\": {\"previousepisode\": {\"href\": \"http://api.tvmaze.com/episodes/182325\"}, \"self\": {\"href\": \"http://api.tvmaze.com/shows/5\"}}, \"webChannel\": null, \"runtime\": 60, \"type\": \"Scripted\", \"id\": 5, \"network\": {\"country\": {\"timezone\": \"America/New_York\", \"code\": \"US\", \"name\": \"United States\"}, \"id\": 8, \"name\": \"HBO\"}}, \"_index\": \"tvseries\"}, {\"_score\": 1.0, \"_type\": \"serie\", \"_id\": \"82\", \"_source\": {\"status\": \"Running\", \"rating\": {\"average\": 9.4}, \"genres\": [\"Drama\", \"Adventure\", \"Fantasy\"], \"weight\": 14, \"updated\": 1454051645, \"name\": \"Game of Thrones\", \"language\": \"English\", \"schedule\": {\"days\": [\"Sunday\"], \"time\": \"21:00\"}, \"url\": \"http://www.tvmaze.com/shows/82/game-of-thrones\", \"image\": {\"medium\": \"http://tvmazecdn.com/uploads/images/medium_portrait/0/581.jpg\", \"original\": \"http://tvmazecdn.com/uploads/images/original_untouched/0/581.jpg\"}, \"externals\": {\"thetvdb\": 121361, \"tvrage\": 24493, \"imdb\": \"tt0944947\"}, \"premiered\": \"2011-04-17\", \"summary\": \"<p>Based on the bestselling book series A Song of Ice and Fire by George R.R. Martin, this sprawling new HBO drama is set in a world where summers span decades and winters can last a lifetime. From the scheming south and the savage eastern lands, to the frozen north and ancient Wall that protects the realm from the mysterious darkness beyond, the powerful families of the Seven Kingdoms are locked in a battle for the Iron Throne. This is a story of duplicity and treachery, nobility and honor, conquest and triumph. In the <strong><em>\\\"Game of Thrones\\\"</em></strong>, you either win or you die.</p>\", \"_links\": {\"previousepisode\": {\"href\": \"http://api.tvmaze.com/episodes/162186\"}, \"self\": {\"href\": \"http://api.tvmaze.com/shows/82\"}, \"nextepisode\": {\"href\": \"http://api.tvmaze.com/episodes/560813\"}}, \"webChannel\": null, \"runtime\": 60, \"type\": \"Scripted\", \"id\": 82, \"network\": {\"country\": {\"timezone\": \"America/New_York\", \"code\": \"US\", \"name\": \"United States\"}, \"id\": 8, \"name\": \"HBO\"}}, \"_index\": \"tvseries\"}, {\"_score\": 1.0, \"_type\": \"serie\", \"_id\": \"712\", \"_source\": {\"status\": \"Ended\", \"rating\": {\"average\": 8.7}, \"genres\": [\"Drama\", \"History\"], \"weight\": 0, \"updated\": 1449500544, \"name\": \"The Tudors\", \"language\": \"English\", \"schedule\": {\"days\": [], \"time\": \"21:00\"}, \"url\": \"http://www.tvmaze.com/shows/712/the-tudors\", \"image\": {\"medium\": \"http://tvmazecdn.com/uploads/images/medium_portrait/6/15022.jpg\", \"original\": \"http://tvmazecdn.com/uploads/images/original_untouched/6/15022.jpg\"}, \"externals\": {\"thetvdb\": 79925, \"tvrage\": 7927, \"imdb\": \"tt0758790\"}, \"premiered\": \"2007-04-01\", \"summary\": \"<p>The final season will consist of 10, one-hour episodes and center on his tumultuous relationships with his last two wives, Catherine Howard and Catherine Parr, and his final descent into madness.</p>\", \"_links\": {\"previousepisode\": {\"href\": \"http://api.tvmaze.com/episodes/62894\"}, \"self\": {\"href\": \"http://api.tvmaze.com/shows/712\"}}, \"webChannel\": null, \"runtime\": 60, \"type\": \"Scripted\", \"id\": 712, \"network\": {\"country\": {\"timezone\": \"America/New_York\", \"code\": \"US\", \"name\": \"United States\"}, \"id\": 9, \"name\": \"Showtime\"}}, \"_index\": \"tvseries\"}, {\"_score\": 1.0, \"_type\": \"serie\", \"_id\": \"9274\", \"_source\": {\"status\": \"Ended\", \"rating\": {\"average\": null}, \"genres\": [\"Drama\"], \"weight\": 0, \"updated\": 1455109198, \"name\": \"Isabel\", \"language\": \"Spanish\", \"schedule\": {\"days\": [], \"time\": \"\"}, \"url\": \"http://www.tvmaze.com/shows/9274/isabel\", \"image\": {\"medium\": \"http://tvmazecdn.com/uploads/images/medium_portrait/32/81594.jpg\", \"original\": \"http://tvmazecdn.com/uploads/images/original_untouched/32/81594.jpg\"}, \"externals\": {\"thetvdb\": 262381, \"tvrage\": 32792, \"imdb\": \"tt2011533\"}, \"premiered\": \"2012-09-10\", \"summary\": \"<p>Life of Isabella I of Castile, also known as Isabella the Catholic.</p>\", \"_links\": {\"previousepisode\": {\"href\": \"http://api.tvmaze.com/episodes/501878\"}, \"self\": {\"href\": \"http://api.tvmaze.com/shows/9274\"}}, \"webChannel\": null, \"runtime\": 60, \"type\": \"Scripted\", \"id\": 9274, \"network\": {\"country\": {\"timezone\": \"Europe/Madrid\", \"code\": \"ES\", \"name\": \"Spain\"}, \"id\": 147, \"name\": \"RTVE\"}}, \"_index\": \"tvseries\"}, {\"_score\": 1.0, \"_type\": \"serie\", \"_id\": \"3386\", \"_source\": {\"status\": \"Running\", \"rating\": {\"average\": 9.3}, \"genres\": [\"Drama\", \"History\"], \"weight\": 2, \"updated\": 1450525730, \"name\": \"Versailles\", \"language\": \"English\", \"schedule\": {\"days\": [], \"time\": \"\"}, \"url\": \"http://www.tvmaze.com/shows/3386/versailles\", \"image\": {\"medium\": \"http://tvmazecdn.com/uploads/images/medium_portrait/34/86312.jpg\", \"original\": \"http://tvmazecdn.com/uploads/images/original_untouched/34/86312.jpg\"}, \"externals\": {\"thetvdb\": 300280, \"tvrage\": null, \"imdb\": \"tt3830558\"}, \"premiered\": \"2015-11-16\", \"summary\": \"<p>Versailles, 1667. Louis XIV was 28 years old. To rise to the heights of the nobility and wield its absolute power, he launched the construction of Versailles... it proved to be a snare. Louis XIV is a young King haunted by childhood trauma, the Fronde civil, a rebellion of the nobility against his father, Louis XIII... It will prove be a strategic policy out of the ordinary, manipulative, Machiavellian, and he will \\\"invent\\\" Versailles for the nobles of Paris, to keep them under control, and gradually transform the castle into a golden prison. But how will Louis live as the greatest King in the world?</p><p> Historical fiction of the court figures and the more humble villagers, guiding us in a world of betrayals and secrets, politicking and declarations of love.</p>\", \"_links\": {\"previousepisode\": {\"href\": \"http://api.tvmaze.com/episodes/471693\"}, \"self\": {\"href\": \"http://api.tvmaze.com/shows/3386\"}}, \"webChannel\": null, \"runtime\": 60, \"type\": \"Scripted\", \"id\": 3386, \"network\": {\"country\": {\"timezone\": \"Europe/Paris\", \"code\": \"FR\", \"name\": \"France\"}, \"id\": 105, \"name\": \"Canal+\"}}, \"_index\": \"tvseries\"}], \"total\": 11, \"max_score\": 1.0}, \"_shards\": {\"successful\": 1, \"failed\": 0, \"total\": 1}, \"took\": 2, \"timed_out\": false}))\n",
       "        });\n",
       "        "
      ]
     },
     "metadata": {},
     "output_type": "display_data"
    }
   ],
   "source": [
    "r = requests.get(\"http://localhost:9200/current_tvseries/serie/_search\")\n",
    "\n",
    "RenderJSON(r.json())"
   ]
  },
  {
   "cell_type": "markdown",
   "metadata": {},
   "source": [
    "### Consultando los alias"
   ]
  },
  {
   "cell_type": "code",
   "execution_count": 27,
   "metadata": {
    "collapsed": false
   },
   "outputs": [
    {
     "name": "stdout",
     "output_type": "stream",
     "text": [
      "{\"tvseries\":{\"aliases\":{\"current_tvseries\":{}}}}\n"
     ]
    }
   ],
   "source": [
    "r = requests.get(\"http://localhost:9200/*/_alias/current_tvseries\")\n",
    "\n",
    "print r.text"
   ]
  },
  {
   "cell_type": "code",
   "execution_count": 28,
   "metadata": {
    "collapsed": false
   },
   "outputs": [
    {
     "name": "stdout",
     "output_type": "stream",
     "text": [
      "{\"tvseries\":{\"aliases\":{\"current_tvseries\":{}}}}\n"
     ]
    }
   ],
   "source": [
    "r = requests.get(\"http://localhost:9200/tvseries/_alias/*\")\n",
    "\n",
    "print r.text"
   ]
  },
  {
   "cell_type": "code",
   "execution_count": null,
   "metadata": {
    "collapsed": true
   },
   "outputs": [],
   "source": [
    "## *Warming up an index*"
   ]
  }
 ],
 "metadata": {
  "celltoolbar": "Slideshow",
  "kernelspec": {
   "display_name": "Python 2",
   "language": "python",
   "name": "python2"
  },
  "language_info": {
   "codemirror_mode": {
    "name": "ipython",
    "version": 2
   },
   "file_extension": ".py",
   "mimetype": "text/x-python",
   "name": "python",
   "nbconvert_exporter": "python",
   "pygments_lexer": "ipython2",
   "version": "2.7.3"
  }
 },
 "nbformat": 4,
 "nbformat_minor": 0
}
