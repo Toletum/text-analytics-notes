{
 "cells": [
  {
   "cell_type": "markdown",
   "metadata": {
    "slideshow": {
     "slide_type": "slide"
    }
   },
   "source": [
    "Elasticsearch \n",
    "\n",
    "# Administracion y aspectos de Distribución"
   ]
  },
  {
   "cell_type": "markdown",
   "metadata": {
    "slideshow": {
     "slide_type": "slide"
    }
   },
   "source": [
    "## Escalado horizontal\n",
    "  - ES puede escalar horizontalmente para:\n",
    "      - permitir cargas de consultas o de indexación más exigentes \n",
    "      - resiliencia"
   ]
  },
  {
   "cell_type": "markdown",
   "metadata": {
    "slideshow": {
     "slide_type": "slide"
    }
   },
   "source": [
    "## *Cluster* \n",
    "\n",
    " - Esta formado por uno o más *nodos*  \n",
    " - Un solo *nodo maestro* que se gestiona automáticamente \n",
    " - Comparten el mismo nombre de cluster \n",
    " - Distribuye la carga de consultas y los datos \n",
    " - Hace transparente la búsqueda y combinacin de los resultados\n",
    " - Aún asi se puede consultar cada nodo por separado\n",
    " - No necesita Zookeper\n",
    " - Se pueden añadir nodos de manera dinámica"
   ]
  },
  {
   "cell_type": "markdown",
   "metadata": {
    "slideshow": {
     "slide_type": "slide"
    }
   },
   "source": [
    "## *Master node*\n",
    "\n",
    "- Gestiona el resto de nodos de un cluster -añadir nuevos o borrar\n",
    "- Gestiona la creacion de índices - creacion y borrado"
   ]
  },
  {
   "cell_type": "markdown",
   "metadata": {
    "slideshow": {
     "slide_type": "slide"
    }
   },
   "source": [
    "## Chequeando la salud del cluster\n",
    "\n",
    "[TODO] Estado del cluster "
   ]
  },
  {
   "cell_type": "markdown",
   "metadata": {
    "slideshow": {
     "slide_type": "slide"
    }
   },
   "source": [
    "## Indices distribuidos\n",
    "\n",
    "- Espacio donde se almacena los documentos de diferents tipos\n",
    "- ES puede tener multiples índices \n",
    "- Cada índice puede estar distribuido en varias máquinas  \n",
    "  - ES hace 'transparente' la búsqueda e indexacion distribuida\n",
    "- Cada índice se compone de varias particiones (*shards*)\n",
    "- Cada *shard* puede tener varias réplicas"
   ]
  },
  {
   "cell_type": "markdown",
   "metadata": {
    "slideshow": {
     "slide_type": "slide"
    }
   },
   "source": [
    "## *Shards*\n",
    "\n",
    " - Almacena los datos \n",
    " - Cada shard es un único índice de Lucene\n",
    " - Proposito \n",
    "   - Añadir un mecanismo de redundancia logica \n",
    "   - Prevenir la perdida de datos en caso de fallo hardware\n",
    "   \n",
    "\n",
    "- Se puede definir el número de particiones por índice\n",
    " - Se puede definir el número de réplicas del índice - y cambiar de forma dinámica \n",
    "\n",
    "- *Primary shards* vs *replica shards* "
   ]
  },
  {
   "cell_type": "markdown",
   "metadata": {
    "slideshow": {
     "slide_type": "slide"
    }
   },
   "source": [
    "## *Scatter-Gather*\n",
    "#### ¿Cómo se ejecuta una búsqueda distribuida? "
   ]
  },
  {
   "cell_type": "markdown",
   "metadata": {
    "slideshow": {
     "slide_type": "slide"
    }
   },
   "source": [
    "## Entendiendo los indicadores de salud del cluster\n",
    "\n",
    "  - Verde\n",
    "  - Amarillo -las replicas no están funcionando \n",
    "  - Rojo  "
   ]
  },
  {
   "cell_type": "markdown",
   "metadata": {
    "slideshow": {
     "slide_type": "slide"
    }
   },
   "source": [
    "## Plugins de administración\n",
    "  - Marvel + Sense \n",
    "  - Head\n",
    "  - HQ \n",
    "  "
   ]
  },
  {
   "cell_type": "markdown",
   "metadata": {
    "slideshow": {
     "slide_type": "slide"
    }
   },
   "source": [
    "## Cómo instalar plugins"
   ]
  },
  {
   "cell_type": "markdown",
   "metadata": {
    "slideshow": {
     "slide_type": "slide"
    }
   },
   "source": [
    "## Configuración"
   ]
  },
  {
   "cell_type": "markdown",
   "metadata": {
    "slideshow": {
     "slide_type": "slide"
    }
   },
   "source": [
    "## Backup y restauracion"
   ]
  },
  {
   "cell_type": "markdown",
   "metadata": {
    "collapsed": true,
    "slideshow": {
     "slide_type": "slide"
    }
   },
   "source": [
    "## Alias de indices"
   ]
  },
  {
   "cell_type": "markdown",
   "metadata": {
    "slideshow": {
     "slide_type": "slide"
    }
   },
   "source": [
    "## Precalentamiento (Warming up)"
   ]
  }
 ],
 "metadata": {
  "celltoolbar": "Slideshow",
  "kernelspec": {
   "display_name": "Python 2",
   "language": "python",
   "name": "python2"
  },
  "language_info": {
   "codemirror_mode": {
    "name": "ipython",
    "version": 2
   },
   "file_extension": ".py",
   "mimetype": "text/x-python",
   "name": "python",
   "nbconvert_exporter": "python",
   "pygments_lexer": "ipython2",
   "version": "2.7.10"
  }
 },
 "nbformat": 4,
 "nbformat_minor": 0
}
