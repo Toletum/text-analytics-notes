{
 "cells": [
  {
   "cell_type": "markdown",
   "metadata": {
    "slideshow": {
     "slide_type": "slide"
    }
   },
   "source": [
    "Elasticsearch \n",
    "\n",
    "# Administracion y aspectos de Distribución"
   ]
  },
  {
   "cell_type": "markdown",
   "metadata": {
    "slideshow": {
     "slide_type": "slide"
    }
   },
   "source": [
    "## Escalado horizontal\n",
    "  - ES puede escalar horizontalmente para:\n",
    "      - permitir cargas de consultas o de indexación más exigentes \n",
    "      - resiliencia"
   ]
  },
  {
   "cell_type": "markdown",
   "metadata": {
    "slideshow": {
     "slide_type": "slide"
    }
   },
   "source": [
    "## *Cluster* \n",
    "\n",
    " - Esta formado por uno o más *nodos*  \n",
    " - Un solo *nodo maestro* que se gestiona automáticamente \n",
    " - Comparten el mismo nombre de cluster \n",
    " - Distribuye la carga de consultas y los datos \n",
    " - Hace transparente la búsqueda y combinacin de los resultados\n",
    " - Aún asi se puede consultar cada nodo por separado\n",
    " - No necesita Zookeper\n",
    " - Se pueden añadir nodos de manera dinámica"
   ]
  },
  {
   "cell_type": "markdown",
   "metadata": {
    "slideshow": {
     "slide_type": "slide"
    }
   },
   "source": [
    "## *Master node*\n",
    "\n",
    "- Gestiona el resto de nodos de un cluster -añadir nuevos o borrar\n",
    "- Gestiona la creacion de índices - creacion y borrado"
   ]
  },
  {
   "cell_type": "markdown",
   "metadata": {
    "slideshow": {
     "slide_type": "slide"
    }
   },
   "source": [
    "## Chequeando la salud del cluster"
   ]
  },
  {
   "cell_type": "code",
   "execution_count": 1,
   "metadata": {
    "collapsed": false
   },
   "outputs": [
    {
     "name": "stdout",
     "output_type": "stream",
     "text": [
      "{\n",
      "  \"cluster_name\" : \"ansible-es\",\n",
      "  \"status\" : \"yellow\",\n",
      "  \"timed_out\" : false,\n",
      "  \"number_of_nodes\" : 1,\n",
      "  \"number_of_data_nodes\" : 1,\n",
      "  \"active_primary_shards\" : 6,\n",
      "  \"active_shards\" : 6,\n",
      "  \"relocating_shards\" : 0,\n",
      "  \"initializing_shards\" : 0,\n",
      "  \"unassigned_shards\" : 1,\n",
      "  \"delayed_unassigned_shards\" : 0,\n",
      "  \"number_of_pending_tasks\" : 0,\n",
      "  \"number_of_in_flight_fetch\" : 0,\n",
      "  \"task_max_waiting_in_queue_millis\" : 0,\n",
      "  \"active_shards_percent_as_number\" : 85.71428571428571\n",
      "}\n",
      "\n"
     ]
    }
   ],
   "source": [
    "import requests\n",
    "\n",
    "r = requests.get(\"http://localhost:9200/_cluster/health?pretty\")\n",
    "print r.text"
   ]
  },
  {
   "cell_type": "markdown",
   "metadata": {
    "slideshow": {
     "slide_type": "slide"
    }
   },
   "source": [
    "## Indices distribuidos\n",
    "\n",
    "- Espacio donde se almacena los documentos de diferentes tipos\n",
    "- ES puede tener multiples índices \n",
    "- Cada índice puede estar distribuido en varias máquinas  \n",
    "  - ES hace 'transparente' la búsqueda e indexacion distribuida\n",
    "- Cada índice se compone de varias particiones (*shards*)\n",
    "- Cada *shard* puede tener varias réplicas"
   ]
  },
  {
   "cell_type": "markdown",
   "metadata": {
    "slideshow": {
     "slide_type": "slide"
    }
   },
   "source": [
    "## *Shards*\n",
    "\n",
    " - Almacena los datos \n",
    " - Cada shard es un único índice de Lucene\n",
    " - Proposito \n",
    "   - Añadir un mecanismo de redundancia logica \n",
    "   - Prevenir la perdida de datos en caso de fallo hardware\n",
    "   \n",
    "\n",
    "- Se puede definir el número de particiones por índice\n",
    " - Se puede definir el número de réplicas del índice - y cambiar de forma dinámica \n",
    "\n",
    "- *Primary shards* vs *replica shards* "
   ]
  },
  {
   "cell_type": "markdown",
   "metadata": {
    "slideshow": {
     "slide_type": "slide"
    }
   },
   "source": [
    "## *Scatter-Gather*\n",
    "#### ¿Cómo se ejecuta una búsqueda distribuida? "
   ]
  },
  {
   "cell_type": "markdown",
   "metadata": {
    "slideshow": {
     "slide_type": "slide"
    }
   },
   "source": [
    "## Entendiendo los indicadores de salud del cluster\n",
    "\n",
    "  - Verde\n",
    "  - Amarillo -las replicas no están funcionando \n",
    "  - Rojo  "
   ]
  },
  {
   "cell_type": "markdown",
   "metadata": {
    "slideshow": {
     "slide_type": "slide"
    }
   },
   "source": [
    "## Plugins de administración\n",
    "\n",
    "  - [Marvel + Sense](https://www.elastic.co/products/marvel) - a partir de 2.0 es un plugin de Kibana\n",
    "  - [Head](https://mobz.github.io/elasticsearch-head/)\n",
    "  - [HQ](http://www.elastichq.org/index.html) \n",
    "  - [Kopf](https://github.com/lmenezes/elasticsearch-kopf)"
   ]
  },
  {
   "cell_type": "markdown",
   "metadata": {
    "slideshow": {
     "slide_type": "slide"
    }
   },
   "source": [
    "## Cómo instalar plugins\n",
    "\n",
    "- ES tiene una utilidad (*plugin*) que permite instalar plugins:\n",
    "      - por nombre si se trata de un plugin oficial\n",
    "      - desde un repo Github: username/repo/version\n",
    "      - Maven central: groupId/artifactId/version\n",
    "      - URL\n",
    "- Se suele instalar en el directorio de ES bajo /bin\n",
    "- ES ha crecido mucho en los 2 últimos años  - ¡mirar bien la matriz de versiones! \n",
    "\n",
    "<pre>\n",
    "  cd /usr/share/elasticsearch\n",
    "  sudo bin/plugin install <nombre>  # Para instalar\n",
    "  sudo bin/plugin remove <nombre>   # Para quitar \n",
    "  sudo bin/plugin list              # Ver la lista de plugins\n",
    "</pre>\n"
   ]
  },
  {
   "cell_type": "markdown",
   "metadata": {},
   "source": [
    "## Plugins\n",
    "\n",
    "\n",
    "[https://www.elastic.co/guide/en/elasticsearch/plugins/current/index.html](https://www.elastic.co/guide/en/elasticsearch/plugins/current/index.html)\n"
   ]
  },
  {
   "cell_type": "markdown",
   "metadata": {
    "slideshow": {
     "slide_type": "slide"
    }
   },
   "source": [
    "## Configuración\n",
    "\n",
    " - Disponible en un fichero elasticsearch.yml (YAML) \n",
    " - Situado en el directorio de ES o ruta típica del sistema: /etc/elasticsearch\n",
    " - Hay que configurar cada nodo de manera individual\n",
    " - Preconfigurado con parámetros típicos\n",
    " - **¡Cuidado!** En ES 1.x viene preconfigurado para unirse a un cluster por defecto\n",
    " \n",
    "\n",
    "<pre>\n",
    "##################### ElasticSearch Configuration Example #####################\n",
    "\n",
    "# This file contains an overview of various configuration settings,\n",
    "# targeted at operations staff. Application developers should\n",
    "# consult the guide at <http://elasticsearch.org/guide>.\n",
    "#\n",
    "# The installation procedure is covered at\n",
    "# <http://elasticsearch.org/guide/reference/setup/installation.html>.\n",
    "#\n",
    "# ElasticSearch comes with reasonable defaults for most settings,\n",
    "# so you can try it out without bothering with configuration.\n",
    "#\n",
    "# Most of the time, these defaults are just fine for running a production\n",
    "# cluster. If you're fine-tuning your cluster, or wondering about the\n",
    "# effect of certain configuration option, please _do ask_ on the\n",
    "# mailing list or IRC channel [http://elasticsearch.org/community].\n",
    "\n",
    "# See <http://elasticsearch.org/guide/reference/setup/configuration.html>\n",
    "# for information on supported formats and syntax for the configuration file.\n",
    "\n",
    "\n",
    "################################### Cluster ###################################\n",
    "\n",
    "# Cluster name identifies your cluster for auto-discovery. If you're running\n",
    "# multiple clusters on the same network, make sure you're using unique names.\n",
    "#\n",
    "# cluster.name: elasticsearch\n",
    "cluster.name: ansible-es\n",
    "\n",
    "#################################### Node #####################################\n",
    "\n",
    "# Node names are generated dynamically on startup, so you're relieved\n",
    "# from configuring them manually. You can tie this node to a specific name:\n",
    "#\n",
    "# node.name: \"Franz Kafka\"\n",
    "node.name: ansible-es-1\n",
    "\n",
    "# Every node can be configured to allow or deny being eligible as the master,\n",
    "# and to allow or deny to store the data.\n",
    "#\n",
    "# Allow this node to be eligible as a master node (enabled by default):\n",
    "#\n",
    "# node.master: true\n",
    "#\n",
    "# Allow this node to store data (enabled by default):\n",
    "#\n",
    "# node.data: true\n",
    "\n",
    "# You can exploit these settings to design advanced cluster topologies.\n",
    "#\n",
    "# 1. You want this node to never become a master node, only to hold data.\n",
    "#    This will be the \"workhorse\" of your cluster.\n",
    "#\n",
    "# node.master: false\n",
    "# node.data: true\n",
    "#\n",
    "# 2. You want this node to only serve as a master: to not store any data and\n",
    "#    to have free resources. This will be the \"coordinator\" of your cluster.\n",
    "#\n",
    "# node.master: true\n",
    "# node.data: false\n",
    "#\n",
    "# 3. You want this node to be neither master nor data node, but\n",
    "#    to act as a \"search load balancer\" (fetching data from nodes,\n",
    "#    aggregating results, etc.)\n",
    "#\n",
    "# node.master: false\n",
    "# node.data: false\n",
    "\n",
    "# Use the Cluster Health API [http://localhost:9200/_cluster/health], the\n",
    "# Node Info API [http://localhost:9200/_cluster/nodes] or GUI tools\n",
    "# such as <http://github.com/lukas-vlcek/bigdesk> and\n",
    "# <http://mobz.github.com/elasticsearch-head> to inspect the cluster state.\n",
    "\n",
    "# A node can have generic attributes associated with it, which can later be used\n",
    "# for customized shard allocation filtering, or allocation awareness. An attribute\n",
    "# is a simple key value pair, similar to node.key: value, here is an example:\n",
    "#\n",
    "# node.rack: rack314\n",
    "\n",
    "# By default, multiple nodes are allowed to start from the same installation location\n",
    "# to disable it, set the following:\n",
    "# node.max_local_storage_nodes: 1\n",
    "\n",
    "# Disable network discovery by setting the following (useful for development):\n",
    "# node.local: true\n",
    "\n",
    "#################################### Index ####################################\n",
    "\n",
    "# You can set a number of options (such as shard/replica options, mapping\n",
    "# or analyzer definitions, translog settings, ...) for indices globally,\n",
    "# in this file.\n",
    "#\n",
    "# Note, that it makes more sense to configure index settings specifically for\n",
    "# a certain index, either when creating it or by using the index templates API.\n",
    "#\n",
    "# See <http://elasticsearch.org/guide/reference/index-modules/> and\n",
    "# <http://elasticsearch.org/guide/reference/api/admin-indices-create-index.html>\n",
    "# for more information.\n",
    "\n",
    "# Set the number of shards (splits) of an index (5 by default):\n",
    "#\n",
    "# index.number_of_shards: 5\n",
    "index.number_of_shards: 1\n",
    "\n",
    "# Set the number of replicas (additional copies) of an index (1 by default):\n",
    "#\n",
    "# index.number_of_replicas: 1\n",
    "index.number_of_replicas: 0\n",
    "\n",
    "# Note, that for development on a local machine, with small indices, it usually\n",
    "# makes sense to \"disable\" the distributed features:\n",
    "#\n",
    "# index.number_of_shards: 1\n",
    "# index.number_of_replicas: 0\n",
    "\n",
    "# These settings directly affect the performance of index and search operations\n",
    "# in your cluster. Assuming you have enough machines to hold shards and\n",
    "# replicas, the rule of thumb is:\n",
    "#\n",
    "# 1. Having more *shards* enhances the _indexing_ performance and allows to\n",
    "#    _distribute_ a big index across machines.\n",
    "# 2. Having more *replicas* enhances the _search_ performance and improves the\n",
    "#    cluster _availability_.\n",
    "#\n",
    "# The \"number_of_shards\" is a one-time setting for an index.\n",
    "#\n",
    "# The \"number_of_replicas\" can be increased or decreased anytime,\n",
    "# by using the Index Update Settings API.\n",
    "#\n",
    "# ElasticSearch takes care about load balancing, relocating, gathering the\n",
    "# results from nodes, etc. Experiment with different settings to fine-tune\n",
    "# your setup.\n",
    "\n",
    "# Use the Index Status API (<http://localhost:9200/A/_status>) to inspect\n",
    "# the index status.\n",
    "\n",
    "\n",
    "\n",
    "#################################### Paths ####################################\n",
    "\n",
    "# Path to directory containing configuration (this file and logging.yml):\n",
    "#\n",
    "# path.conf: /path/to/conf\n",
    "path.conf: /etc/elasticsearch\n",
    "\n",
    "# Path to directory where to store index data allocated for this node.\n",
    "#\n",
    "# path.data: /path/to/data\n",
    "path.data: /var/lib/elasticsearch\n",
    "\n",
    "# Can optionally include more than one location, causing data to be striped across\n",
    "# the locations (a la RAID 0) on a file level, favouring locations with most free\n",
    "# space on creation. For example:\n",
    "#\n",
    "# path.data: /path/to/data1,/path/to/data2\n",
    "\n",
    "# Path to temporary files:\n",
    "#\n",
    "# path.work: /path/to/work\n",
    "path.work: /tmp/elasticsearch\n",
    "\n",
    "# Path to log files:\n",
    "#\n",
    "# path.logs: /path/to/logs\n",
    "path.logs: /var/log/elasticsearch\n",
    "\n",
    "# Path to where plugins are installed:\n",
    "#\n",
    "# path.plugins: /path/to/plugins\n",
    "path.plugins: /usr/share/elasticsearch/plugins\n",
    "\n",
    "\n",
    "# Path to snapshot/restore repost\n",
    "#path.repo: //pppp\n",
    "\n",
    "\n",
    "#################################### Plugin ###################################\n",
    "\n",
    "# If a plugin listed here is not installed for current node, the node will not start.\n",
    "#\n",
    "# plugin.mandatory: mapper-attachments,lang-groovy\n",
    "\n",
    "\n",
    "################################### Memory ####################################\n",
    "\n",
    "# ElasticSearch performs poorly when JVM starts swapping: you should ensure that\n",
    "# it _never_ swaps.\n",
    "#\n",
    "# Set this property to true to lock the memory:\n",
    "#\n",
    "#\n",
    "\n",
    "# Make sure that the ES_MIN_MEM and ES_MAX_MEM environment variables are set\n",
    "# to the same value, and that the machine has enough memory to allocate\n",
    "# for ElasticSearch, leaving enough memory for the operating system itself.\n",
    "#\n",
    "# You should also make sure that the ElasticSearch process is allowed to lock\n",
    "# the memory, eg. by using `ulimit -l unlimited`.\n",
    "\n",
    "\n",
    "\n",
    "\n",
    "\n",
    "############################## Network And HTTP ###############################\n",
    "\n",
    "# ElasticSearch, by default, binds itself to the 0.0.0.0 address, and listens\n",
    "# on port [9200-9300] for HTTP traffic and on port [9300-9400] for node-to-node\n",
    "# communication. (the range means that if the port is busy, it will automatically\n",
    "# try the next port).\n",
    "\n",
    "# Set the bind address specifically (IPv4 or IPv6):\n",
    "#\n",
    "# network.bind_host: 192.168.0.1\n",
    "\n",
    "# Set the address other nodes will use to communicate with this node. If not\n",
    "# set, it is automatically derived. It must point to an actual IP address.\n",
    "#\n",
    "# network.publish_host: 192.168.0.1\n",
    "\n",
    "# Set both 'bind_host' and 'publish_host':\n",
    "#\n",
    "# network.host: 192.168.0.1\n",
    "network.host: 0.0.0.0\n",
    "\n",
    "# Set a custom port for the node to node communication (9300 by default):\n",
    "#\n",
    "# transport.tcp.port: 9300\n",
    "\n",
    "# Enable compression for all communication between nodes (disabled by default):\n",
    "#\n",
    "# transport.tcp.compress: true\n",
    "\n",
    "# Set a custom port to listen for HTTP traffic:\n",
    "#\n",
    "# http.port: 9200\n",
    "\n",
    "# Set a custom allowed content length:\n",
    "#\n",
    "# http.max_content_length: 100mb\n",
    "\n",
    "# Disable HTTP completely:\n",
    "#\n",
    "# http.enabled: false\n",
    "\n",
    "# Basic HTTP\n",
    "\n",
    "\n",
    "################################### Gateway ###################################\n",
    "\n",
    "# The gateway allows for persisting the cluster state between full cluster\n",
    "# restarts. Every change to the state (such as adding an index) will be stored\n",
    "# in the gateway, and when the cluster starts up for the first time,\n",
    "# it will read its state from the gateway.\n",
    "\n",
    "# There are several types of gateway implementations. For more information,\n",
    "# see <http://elasticsearch.org/guide/reference/modules/gateway>.\n",
    "\n",
    "# The default gateway type is the \"local\" gateway (recommended):\n",
    "#\n",
    "# gateway.type: local\n",
    "\n",
    "# Settings below control how and when to start the initial recovery process on\n",
    "# a full cluster restart (to reuse as much local data as possible when using shared\n",
    "# gateway).\n",
    "\n",
    "# Allow recovery process after N nodes in a cluster are up:\n",
    "#\n",
    "# gateway.recover_after_nodes: 1\n",
    "\n",
    "# Set the timeout to initiate the recovery process, once the N nodes\n",
    "# from previous setting are up (accepts time value):\n",
    "#\n",
    "# gateway.recover_after_time: 5m\n",
    "\n",
    "# Set how many nodes are expected in this cluster. Once these N nodes\n",
    "# are up (and recover_after_nodes is met), begin recovery process immediately\n",
    "# (without waiting for recover_after_time to expire):\n",
    "#\n",
    "# gateway.expected_nodes: 2\n",
    "\n",
    "############################# Recovery Throttling #############################\n",
    "\n",
    "# These settings allow to control the process of shards allocation between\n",
    "# nodes during initial recovery, replica allocation, rebalancing,\n",
    "# or when adding and removing nodes.\n",
    "\n",
    "# Set the number of concurrent recoveries happening on a node:\n",
    "#\n",
    "# 1. During the initial recovery\n",
    "#\n",
    "# cluster.routing.allocation.node_initial_primaries_recoveries: 4\n",
    "\n",
    "#\n",
    "# 2. During adding/removing nodes, rebalancing, etc\n",
    "#\n",
    "# cluster.routing.allocation.node_concurrent_recoveries: 2\n",
    "\n",
    "# Set to throttle throughput when recovering (eg. 100mb, by default unlimited):\n",
    "#\n",
    "# indices.recovery.max_size_per_sec: 0\n",
    "\n",
    "# Set to limit the number of open concurrent streams when\n",
    "# recovering a shard from a peer:\n",
    "#\n",
    "# indices.recovery.concurrent_streams: 5\n",
    "\n",
    "\n",
    "################################## Discovery ##################################\n",
    "\n",
    "\n",
    "# Discovery infrastructure ensures nodes can be found within a cluster\n",
    "# and master node is elected. Multicast discovery is the default.\n",
    "\n",
    "# Set to ensure a node sees N other master eligible nodes to be considered\n",
    "# operational within the cluster. Set this option to a higher value (2-4)\n",
    "# for large clusters (>3 nodes):\n",
    "#\n",
    "# discovery.zen.minimum_master_nodes: 1\n",
    "\n",
    "# Set the time to wait for ping responses from other nodes when discovering.\n",
    "# Set this option to a higher value on a slow or congested network\n",
    "# to minimize discovery failures:\n",
    "#\n",
    "# discovery.zen.ping.timeout: 3s\n",
    "\n",
    "# See <http://elasticsearch.org/guide/reference/modules/discovery/zen.html>\n",
    "# for more information.\n",
    "\n",
    "# Unicast discovery allows to explicitly control which nodes will be used\n",
    "# to discover the cluster. It can be used when multicast is not present,\n",
    "# or to restrict the cluster communication-wise.\n",
    "#\n",
    "# 1. Disable multicast discovery (enabled by default):\n",
    "#\n",
    "# discovery.zen.ping.multicast.enabled: false\n",
    "\n",
    "#\n",
    "# 2. Configure an initial list of master nodes in the cluster\n",
    "#    to perform discovery when new nodes (master or data) are started:\n",
    "#\n",
    "# discovery.zen.ping.unicast.hosts: [\"host1\", \"host2:port\", \"host3[portX-portY]\"]\n",
    "\n",
    "# EC2 discovery allows to use AWS EC2 API in order to perform discovery.\n",
    "#\n",
    "# You have to install the cloud-aws plugin for enabling the EC2 discovery.\n",
    "#\n",
    "# See <http://elasticsearch.org/guide/reference/modules/discovery/ec2.html>\n",
    "# for more information.\n",
    "#\n",
    "# See <http://elasticsearch.org/tutorials/2011/08/22/elasticsearch-on-ec2.html>\n",
    "# for a step-by-step tutorial.\n",
    "\n",
    "# Fault Discovery\n",
    "# See <http://www.elasticsearch.org/guide/en/elasticsearch/reference/current/modules-discovery-zen.html#fault-detection>\n",
    "\n",
    "# Configurations for Google Compute Engine plugin\n",
    "\n",
    "\n",
    "################################## Slow Log ##################################\n",
    "\n",
    "# Shard level query and fetch threshold logging.\n",
    "\n",
    "#index.search.slowlog.threshold.query.warn: 10s\n",
    "#index.search.slowlog.threshold.query.info: 5s\n",
    "#index.search.slowlog.threshold.query.debug: 2s\n",
    "#index.search.slowlog.threshold.query.trace: 500ms\n",
    "\n",
    "#index.search.slowlog.threshold.fetch.warn: 1s\n",
    "#index.search.slowlog.threshold.fetch.info: 800ms\n",
    "#index.search.slowlog.threshold.fetch.debug: 500ms\n",
    "#index.search.slowlog.threshold.fetch.trace: 200ms\n",
    "\n",
    "#index.indexing.slowlog.threshold.index.warn: 10s\n",
    "#index.indexing.slowlog.threshold.index.info: 5s\n",
    "#index.indexing.slowlog.threshold.index.debug: 2s\n",
    "#index.indexing.slowlog.threshold.index.trace: 500ms\n",
    "\n",
    "################################## GC Logging ################################\n",
    "\n",
    "#monitor.jvm.gc.ParNew.warn: 1000ms\n",
    "#monitor.jvm.gc.ParNew.info: 700ms\n",
    "#monitor.jvm.gc.ParNew.debug: 400ms\n",
    "\n",
    "#monitor.jvm.gc.ConcurrentMarkSweep.warn: 10s\n",
    "#monitor.jvm.gc.ConcurrentMarkSweep.info: 5s\n",
    "#monitor.jvm.gc.ConcurrentMarkSweep.debug: 2s\n",
    "\n",
    "################################### Varia #####################################\n",
    "\n",
    "\n",
    "marvel.agent.enabled: false\n",
    "\n",
    "\n",
    "\n",
    "\n",
    "\n",
    "################################### Dynamic Scripting #####################################\n",
    "\n",
    "script.inline: true\n",
    "script.indexed: true\n",
    "\n",
    "################################### CORS Settings #####################################\n",
    "\n",
    "http.cors.enabled: true\n",
    "\n",
    "http.cors.allow-origin: http://localhost:5601\n",
    "\n",
    "\n",
    "\n",
    "\n",
    "################################### Awareness Settings ##################################### \n",
    "</pre>"
   ]
  },
  {
   "cell_type": "markdown",
   "metadata": {
    "slideshow": {
     "slide_type": "slide"
    }
   },
   "source": [
    "Paseo por [HQ](http://localhost:9200/_plugin/hq/) o Marvel"
   ]
  },
  {
   "cell_type": "markdown",
   "metadata": {
    "slideshow": {
     "slide_type": "slide"
    }
   },
   "source": [
    "## Backup y restauración (Snapshot API)\n",
    "\n",
    " - Replicas permiten recuperarse de fallos en los nodos\n",
    " - No estan protegidos contra un fallo general => Backup!\n",
    " - Durante el desarrollo tambien es interesante realizar backups \n",
    "    - crear un índice puede ser costoso\n",
    "    - reproducir condiciones específicas\n",
    "    \n",
    "##  Snapshot API \n",
    " - disponible desde \n",
    " - permite tomar instantaneas del índice y persistirlas a otro medio de almacenamiento (repositorio) \n",
    " - permite recuperar las instantaneas y cargar un índice\n",
    " - Snapshots de uno o varios indices\n",
    " - Delta snapshopts\n",
    " \n",
    " ## Tipos de repositorios\n",
    "  - Sistema de Ficheros (distribuido)  \n",
    "  - Amazon S3\n",
    "  - HDFS \n",
    "  - Azure Cloud "
   ]
  },
  {
   "cell_type": "markdown",
   "metadata": {},
   "source": [
    "### Definiendo un repositorio"
   ]
  },
  {
   "cell_type": "markdown",
   "metadata": {},
   "source": [
    "### Haciendo un snapshot"
   ]
  },
  {
   "cell_type": "markdown",
   "metadata": {},
   "source": [
    "### Recuperando un snapshot"
   ]
  },
  {
   "cell_type": "markdown",
   "metadata": {
    "collapsed": true,
    "slideshow": {
     "slide_type": "slide"
    }
   },
   "source": [
    "## Alias de indices\n",
    "\n",
    "  - En ES podemos definir alias de índices \n",
    "  - Permiten gestionar:\n",
    "    - Cambiar un índice por otro de forma transparente\n",
    "    - Agrupar multiples indices\n",
    "    - Crear vistas en un subconjunto de documentos\n",
    "     \n",
    "   - Facilitan: \n",
    "      - cambios y pruebas en la indizacion - análisis, relevancia, etc\n",
    "      - reindexar por un error de configiracion \n",
    "      - archivado de índices históricos - eficiencia\n",
    "   "
   ]
  },
  {
   "cell_type": "markdown",
   "metadata": {},
   "source": [
    "### Creando un alias"
   ]
  },
  {
   "cell_type": "markdown",
   "metadata": {},
   "source": [
    "### Consultando los alias"
   ]
  },
  {
   "cell_type": "code",
   "execution_count": null,
   "metadata": {
    "collapsed": true
   },
   "outputs": [],
   "source": [
    "## *Warming up an index*"
   ]
  }
 ],
 "metadata": {
  "celltoolbar": "Slideshow",
  "kernelspec": {
   "display_name": "Python 2",
   "language": "python",
   "name": "python2"
  },
  "language_info": {
   "codemirror_mode": {
    "name": "ipython",
    "version": 2
   },
   "file_extension": ".py",
   "mimetype": "text/x-python",
   "name": "python",
   "nbconvert_exporter": "python",
   "pygments_lexer": "ipython2",
   "version": "2.7.3"
  }
 },
 "nbformat": 4,
 "nbformat_minor": 0
}
