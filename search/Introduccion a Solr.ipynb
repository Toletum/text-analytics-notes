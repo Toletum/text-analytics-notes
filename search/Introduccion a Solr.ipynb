{
 "cells": [
  {
   "cell_type": "markdown",
   "metadata": {
    "slideshow": {
     "slide_type": "slide"
    }
   },
   "source": [
    "### Introduccion a\n",
    "# Solr\n",
    "\n",
    "![Solr Logo](https://home.apache.org/~hossman/ac2014na/slide-resources/solr-logo.svg)\n"
   ]
  },
  {
   "cell_type": "markdown",
   "metadata": {
    "slideshow": {
     "slide_type": "slide"
    }
   },
   "source": [
    "## Introducción a [Solr](http://lucene.apache.org/solr/)\n",
    "\n",
    "- Motor/Plataforma de búsqueda  - incluye indexado en tiempo (casi) real\n",
    "- Parte del Proyecto Apache \n",
    "- Open source (Licencia Apache 2)\n",
    "- Basado en Apache Lucene - biblioteca de búsqueda de texto\n",
    "- API HTTP - JSON/XML"
   ]
  },
  {
   "cell_type": "markdown",
   "metadata": {
    "slideshow": {
     "slide_type": "slide"
    }
   },
   "source": [
    "## Solr\n",
    "- Primera version pública - 2006 \n",
    "- Version a 22 Febrero de 2015 - Solr 5.5.0\n",
    "- Cuenta con: \n",
    "    - proyecto Apache - es uno de los proyectos estrella \n",
    "    - comunidad de desarrolladores - consolidada y numerosos commiters de Lucene\n",
    "    - relaciones con otros proyectos Apache: Lucene, Nutch, Hadoop, UIMA, Tika\n",
    "    - consultoras externas: e.g. Sematext \n",
    "    - elegido por distribuciones como Cloudera - Cloudera Search es \n",
    "- Recientemente han mejorado: \n",
    "   - Web \n",
    "   - Documentacion \n",
    "   - [Solr Github mirror](https://github.com/apache/lucene-solr/)"
   ]
  },
  {
   "cell_type": "markdown",
   "metadata": {
    "slideshow": {
     "slide_type": "slide"
    }
   },
   "source": [
    "## Características\n",
    "\n",
    "- Motor/Plataforma de Búsqueda (Enterprise Search Server)\n",
    "- Indexacion en tiempo (casi) real\n",
    "- Optimizado para gran volumen de búsquedas\n",
    "- **Extensiones para indizar formatos documentales comunes - PDF, Word, Excel, etc**\n",
    "- **Integrado con pipelines de procesamiento de lenguaje**\n",
    "- UI Admin integrada\n",
    "- **Búsqueda facetada**\n",
    "- **UI Búsqueda integrada**"
   ]
  },
  {
   "cell_type": "markdown",
   "metadata": {
    "slideshow": {
     "slide_type": "slide"
    }
   },
   "source": [
    "## SolrCloud\n",
    "- Nace como un proyecto separado para montar clusters Solr \n",
    "- Ahora esta integrado dentro de Solr\n",
    "- Motor de búsqueda distribuido\n",
    "- Escalable a cientos de servidores y petabytes de datos, \n",
    "- Tolerante a fallos y particiones de red (**Zookeeper**) \n"
   ]
  },
  {
   "cell_type": "markdown",
   "metadata": {},
   "source": [
    "## Conceptos básicos Solr (vs ES) \n",
    "\n",
    " - **Documentos semiestructurados** - igual que en ES, aunque nativamente tiene más formatos XML,JSON,CSV\n",
    " - **Campos** - aprox. mismos tipos\n",
    " - **Cores** -  conjunto de documentos del mismo tipo\n",
    "      - similares a los índices pero su tipo es único\n",
    "      - una instancia Solr puede tener varios cores\n",
    "  - **Colecciones (Collections)** - cores en SolrCloud\n",
    "       - pueden estar distribuidas (*shards*) y replicadas\n",
    "      "
   ]
  },
  {
   "cell_type": "markdown",
   "metadata": {
    "slideshow": {
     "slide_type": "slide"
    }
   },
   "source": [
    "## Conceptos básicos Solr (vs ES) \n",
    "\n",
    "- **Schema** - cada core requiere un esquema del documento vs *schemaless*\n",
    "    - Ahora Solr tambien tiene la opcion de definir un core *schemaless* \n",
    "    - en los esquemas se pueden definir tipos y usar *convention over configuratio*\n",
    "    - no hay creación de índices dinámicos \n",
    "\n",
    "- **Configuracion** \n",
    "    - toda la configuracion es por fichero vs API (ES) \n",
    "    - suele requerir rearrancar la instancia\n",
    " \n",
    " - API de consultas HTTP + parametros vs API REST\n",
    " "
   ]
  },
  {
   "cell_type": "markdown",
   "metadata": {
    "slideshow": {
     "slide_type": "slide"
    }
   },
   "source": [
    "## Instalación\n",
    "  - Bajar la distribucion - tb. requiere Java \n",
    "  - Arrancar Solr\n",
    "\n",
    "<pre>\n",
    "$ bin/solr start            # this starts solr\n",
    "$ bin/solr create -c demo   # this creates a document collection called \"demo\"\n",
    "</pre>\n",
    "  \n",
    "  - Disponible en el puerto 8983 con interfaz de admin: \n",
    "     - [http://localhost:8983/solr/](http://localhost:8983/solr/)\n"
   ]
  },
  {
   "cell_type": "markdown",
   "metadata": {},
   "source": [
    "## Lenguaje de Consulta\n",
    "\n",
    " - Principalmente basado en parametros URL \n",
    " - Ha incorporado un DSL en JSON/XML "
   ]
  },
  {
   "cell_type": "markdown",
   "metadata": {
    "slideshow": {
     "slide_type": "slide"
    }
   },
   "source": [
    "## Indexación"
   ]
  },
  {
   "cell_type": "code",
   "execution_count": 51,
   "metadata": {
    "collapsed": false
   },
   "outputs": [
    {
     "name": "stdout",
     "output_type": "stream",
     "text": [
      "{\"responseHeader\":{\"status\":0,\"QTime\":3}}\n",
      "\n"
     ]
    }
   ],
   "source": [
    "import requests\n",
    "\n",
    "\n",
    "employee = \"\"\"\n",
    "[\n",
    "{\n",
    "    \"id\": 1,\n",
    "    \"first_name_t\" : \"John\",\n",
    "    \"last_name_t\" :  \"Smith\",\n",
    "    \"age_i\" :        25,\n",
    "    \"about_t\" :      \"I love to go rock climbing\",\n",
    "    \"interests_txt\": [ \"sports\", \"music\" ]\n",
    "}\n",
    "]\n",
    "\"\"\"\n",
    "\n",
    "r = requests.post('http://localhost:8983/solr/megacorp/update/json', \n",
    "                 data = employee)\n",
    "print r.text"
   ]
  },
  {
   "cell_type": "code",
   "execution_count": 52,
   "metadata": {
    "collapsed": false,
    "slideshow": {
     "slide_type": "slide"
    }
   },
   "outputs": [
    {
     "name": "stdout",
     "output_type": "stream",
     "text": [
      "{\"responseHeader\":{\"status\":0,\"QTime\":2}}\n",
      "\n"
     ]
    }
   ],
   "source": [
    "employee2 = \"\"\"\n",
    "[\n",
    "{\n",
    "    \"id\": 2,\n",
    "    \"first_name_t\" :  \"Jane\",\n",
    "    \"last_name_t\" :   \"Smith\",\n",
    "    \"age_i\" :         32,\n",
    "    \"about_t\" :       \"I like to collect rock albums\",\n",
    "    \"interests_txt\":  [ \"music\" ]\n",
    "},\n",
    "{\n",
    "    \"id\": 3,\n",
    "    \"first_name_t\" :  \"Douglas\",\n",
    "    \"last_name_t\" :   \"Fir\",\n",
    "    \"age_i\" :         35,\n",
    "    \"about_t\":        \"I like to build cabinets\",\n",
    "    \"interests_txt\":  [ \"forestry\" ]\n",
    "}\n",
    "]\n",
    "\"\"\"\n",
    "\n",
    "r = requests.post('http://localhost:8983/solr/megacorp/update/json?commitWithin=1000', data = employee2)\n",
    "print r.text"
   ]
  },
  {
   "cell_type": "markdown",
   "metadata": {
    "slideshow": {
     "slide_type": "slide"
    }
   },
   "source": [
    "###  Obteniendo el documento"
   ]
  },
  {
   "cell_type": "code",
   "execution_count": 53,
   "metadata": {
    "collapsed": false,
    "slideshow": {
     "slide_type": "-"
    }
   },
   "outputs": [
    {
     "name": "stdout",
     "output_type": "stream",
     "text": [
      "{\n",
      "  \"doc\":\n",
      "  {\n",
      "    \"id\":\"1\",\n",
      "    \"first_name_t\":[\"John\"],\n",
      "    \"last_name_t\":[\"Smith\"],\n",
      "    \"age_i\":25,\n",
      "    \"about_t\":[\"I love to go rock climbing\"],\n",
      "    \"interests_txt\":[\"sports\",\n",
      "      \"music\"],\n",
      "    \"_version_\":1527005010689261568}}\n",
      "\n"
     ]
    }
   ],
   "source": [
    "r = requests.get(\"http://localhost:8983/solr/megacorp/get?id=1\")\n",
    "print r.text"
   ]
  },
  {
   "cell_type": "markdown",
   "metadata": {},
   "source": [
    "### Consultando"
   ]
  },
  {
   "cell_type": "code",
   "execution_count": 54,
   "metadata": {
    "collapsed": false
   },
   "outputs": [
    {
     "name": "stdout",
     "output_type": "stream",
     "text": [
      "{\n",
      "  \"responseHeader\":{\n",
      "    \"status\":0,\n",
      "    \"QTime\":0,\n",
      "    \"params\":{\n",
      "      \"q\":\"last_name_t:Smith\"}},\n",
      "  \"response\":{\"numFound\":2,\"start\":0,\"docs\":[\n",
      "      {\n",
      "        \"id\":\"1\",\n",
      "        \"first_name_t\":[\"John\"],\n",
      "        \"last_name_t\":[\"Smith\"],\n",
      "        \"age_i\":25,\n",
      "        \"about_t\":[\"I love to go rock climbing\"],\n",
      "        \"interests_txt\":[\"sports\",\n",
      "          \"music\"],\n",
      "        \"_version_\":1527005010689261568},\n",
      "      {\n",
      "        \"id\":\"2\",\n",
      "        \"first_name_t\":[\"Jane\"],\n",
      "        \"last_name_t\":[\"Smith\"],\n",
      "        \"age_i\":32,\n",
      "        \"about_t\":[\"I like to collect rock albums\"],\n",
      "        \"interests_txt\":[\"music\"],\n",
      "        \"_version_\":1527005013354741760}]\n",
      "  }}\n",
      "\n"
     ]
    }
   ],
   "source": [
    "r = requests.get(\"http://localhost:8983/solr/megacorp/query?q=last_name_t:Smith\")\n",
    "print r.text"
   ]
  },
  {
   "cell_type": "markdown",
   "metadata": {
    "slideshow": {
     "slide_type": "slide"
    }
   },
   "source": [
    "### Consultando"
   ]
  },
  {
   "cell_type": "code",
   "execution_count": 58,
   "metadata": {
    "collapsed": false
   },
   "outputs": [
    {
     "name": "stdout",
     "output_type": "stream",
     "text": [
      "{\n",
      "  \"responseHeader\":{\n",
      "    \"status\":0,\n",
      "    \"QTime\":0,\n",
      "    \"params\":{\n",
      "      \"q\":\"about_t:rock climbing\"}},\n",
      "  \"response\":{\"numFound\":2,\"start\":0,\"docs\":[\n",
      "      {\n",
      "        \"id\":\"1\",\n",
      "        \"first_name_t\":[\"John\"],\n",
      "        \"last_name_t\":[\"Smith\"],\n",
      "        \"age_i\":25,\n",
      "        \"about_t\":[\"I love to go rock climbing\"],\n",
      "        \"interests_txt\":[\"sports\",\n",
      "          \"music\"],\n",
      "        \"_version_\":1527005010689261568},\n",
      "      {\n",
      "        \"id\":\"2\",\n",
      "        \"first_name_t\":[\"Jane\"],\n",
      "        \"last_name_t\":[\"Smith\"],\n",
      "        \"age_i\":32,\n",
      "        \"about_t\":[\"I like to collect rock albums\"],\n",
      "        \"interests_txt\":[\"music\"],\n",
      "        \"_version_\":1527005013354741760}]\n",
      "  }}\n",
      "\n"
     ]
    }
   ],
   "source": [
    "r = requests.get(\"http://localhost:8983/solr/megacorp/query?q=about_t:rock climbing\")\n",
    "print r.text"
   ]
  },
  {
   "cell_type": "code",
   "execution_count": 60,
   "metadata": {
    "collapsed": false
   },
   "outputs": [
    {
     "name": "stdout",
     "output_type": "stream",
     "text": [
      "{\n",
      "  \"responseHeader\":{\n",
      "    \"status\":0,\n",
      "    \"QTime\":0,\n",
      "    \"params\":{\n",
      "      \"fl\":\"id,about_t,score\",\n",
      "      \"q\":\"about_t:rock climbing\"}},\n",
      "  \"response\":{\"numFound\":2,\"start\":0,\"maxScore\":0.5036961,\"docs\":[\n",
      "      {\n",
      "        \"id\":\"1\",\n",
      "        \"about_t\":[\"I love to go rock climbing\"],\n",
      "        \"score\":0.5036961},\n",
      "      {\n",
      "        \"id\":\"2\",\n",
      "        \"about_t\":[\"I like to collect rock albums\"],\n",
      "        \"score\":0.108701006}]\n",
      "  }}\n",
      "\n"
     ]
    }
   ],
   "source": [
    "r = requests.get(\"http://localhost:8983/solr/megacorp/query?q=about_t:rock climbing&fl=id,about_t,score\")\n",
    "print r.text"
   ]
  },
  {
   "cell_type": "markdown",
   "metadata": {
    "slideshow": {
     "slide_type": "slide"
    }
   },
   "source": [
    "## Configuracion"
   ]
  },
  {
   "cell_type": "markdown",
   "metadata": {
    "slideshow": {
     "slide_type": "slide"
    }
   },
   "source": [
    "## Características distintivas\n",
    " - Comunidad de usuarios + basado en Lucene \n",
    "    - gran parte de las características de ES acaban estando disponibles en Solr 5.x\n",
    "       - Nested Objects\n",
    "       - Schemaless \n",
    "       - Facetas avanzadas - distinct counts\n",
    "       - Tipos geográficos \n",
    "       - Query DSL en JSON \n",
    " - Data Import Handler - indizado desde base de datos con una consulta \n",
    " - Update request - Transformaciones en el documento previo a indexar \n",
    " - Integración con formatos documentales (Apache Tika) : DOC, PDF, XML, XLS, PPT  \n",
    " - Integracion con herramientas de procesamiento de lenguaje: UIMA, GATE \n",
    " - Velocity - interfaz sobre el buscador"
   ]
  },
  {
   "cell_type": "markdown",
   "metadata": {
    "slideshow": {
     "slide_type": "slide"
    }
   },
   "source": [
    "## Usuarios de Solr\n",
    "  - DuckDuckGo\n",
    "  - Zappos\n",
    "  - Sears\n",
    "  - BestBuy\n",
    "  - Bloomberg\n",
    "  - ...\n",
    "  "
   ]
  },
  {
   "cell_type": "markdown",
   "metadata": {
    "slideshow": {
     "slide_type": "slide"
    }
   },
   "source": [
    "## Bibliografía\n",
    "\n",
    "  - [Solr Tutorial](http://yonik.com/solr-tutorial/)\n",
    "  - [Apache Solr Enterprise Search Server](https://www.packtpub.com/big-data-and-business-intelligence/apache-solr-enterprise-search-server-third-edition#), Third Edition by David Smiley, Eric Pugh, Kranti Parisa, and Matt Mitchell (Packt Publishing) May 2015.\n",
    "  \n",
    "  - Bastante bibliografía pero que cubre Solr v3 y v4. [Solr books - website](http://lucene.apache.org/solr/resources.html#solr-books)\n",
    "\n",
    "### Referencia\n",
    " - [Official Solr Reference](https://www.apache.org/dyn/closer.lua/lucene/solr/ref-guide/)\n"
   ]
  }
 ],
 "metadata": {
  "celltoolbar": "Slideshow",
  "kernelspec": {
   "display_name": "Python 2",
   "language": "python",
   "name": "python2"
  },
  "language_info": {
   "codemirror_mode": {
    "name": "ipython",
    "version": 2
   },
   "file_extension": ".py",
   "mimetype": "text/x-python",
   "name": "python",
   "nbconvert_exporter": "python",
   "pygments_lexer": "ipython2",
   "version": "2.7.3"
  }
 },
 "nbformat": 4,
 "nbformat_minor": 0
}
