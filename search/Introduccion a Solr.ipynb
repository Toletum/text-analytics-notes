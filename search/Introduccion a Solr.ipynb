{
 "cells": [
  {
   "cell_type": "markdown",
   "metadata": {},
   "source": [
    "### Introduccion a\n",
    "# Solr\n",
    "\n",
    "![Solr Logo](https://home.apache.org/~hossman/ac2014na/slide-resources/solr-logo.svg)\n"
   ]
  },
  {
   "cell_type": "markdown",
   "metadata": {},
   "source": [
    "## Introducción a [Solr](http://lucene.apache.org/solr/)\n",
    "\n",
    "- Motor/Plataforma de búsqueda  - incluye indexado en tiempo (casi) real\n",
    "- Parte del Proyecto Apache \n",
    "- Open source (Licencia Apache 2)\n",
    "- Basado en Apache Lucene - biblioteca de búsqueda de texto\n",
    "- API HTTP - JSON/XML"
   ]
  },
  {
   "cell_type": "markdown",
   "metadata": {},
   "source": [
    "## Solr\n",
    "- Primera version pública - 2006 \n",
    "- Version estable a Febrero de 2015 - Solr 5.4.1\n",
    "- Cuenta con: \n",
    "    - proyecto Apache - es uno de los proyectos estrella \n",
    "    - comunidad de desarrolladores - consolidada y numerosos commiters de Lucene\n",
    "    - relaciones con otros proyectos Apache: Lucene, Nutch, Hadoop, UIMA, Tika\n",
    "    - consultoras externas: e.g. Sematext \n",
    "    - elegido por distribuciones como Cloudera - Cloudera Search es \n",
    "- Recientemente han mejorado: \n",
    "   - Web \n",
    "   - Documentacion \n",
    "   - [Solr Github mirror](https://github.com/apache/lucene-solr/)"
   ]
  },
  {
   "cell_type": "markdown",
   "metadata": {},
   "source": [
    "## Características\n",
    "\n",
    "- Motor/Plataforma de Búsqueda (Enterprise Search Server)\n",
    "- Indexacion en tiempo (casi) real\n",
    "- Optimizado para gran volumen de búsquedas\n",
    "- **Extensiones para indizar formatos documentales comunes - PDF, Word, Excel, etc**\n",
    "- **Integrado con pipelines de procesamiento de lenguaje**\n",
    "- UI Admin integrada\n",
    "- **Búsqueda facetada**\n",
    "- **UI Búsqueda integrada**"
   ]
  },
  {
   "cell_type": "markdown",
   "metadata": {},
   "source": [
    "## SolrCloud\n",
    "- Nace como un proyecto separado para montar clusters Solr \n",
    "- Ahora esta bastante integrado \n",
    "- Motor de búsqueda distribuido\n",
    "- Escalable a cientos de servidores y petabytes de datos, \n",
    "- Tolerante a fallos y particiones de red (**Zookeeper**) \n"
   ]
  },
  {
   "cell_type": "markdown",
   "metadata": {},
   "source": [
    "## Conceptos básicos\n",
    "\n",
    "Colecciones\n",
    "Esquemas\n"
   ]
  },
  {
   "cell_type": "markdown",
   "metadata": {},
   "source": [
    "## Instalación"
   ]
  },
  {
   "cell_type": "markdown",
   "metadata": {},
   "source": [
    "## Usuarios de Solr\n",
    "  - DuckDuckGo\n",
    "  - Zappos\n",
    "  - Sears\n",
    "  - BestBuy\n",
    "  - Bloomberg\n",
    "  - ...\n",
    "  "
   ]
  },
  {
   "cell_type": "markdown",
   "metadata": {},
   "source": [
    "## Bibliografía\n",
    "\n",
    "  - [Apache Solr Enterprise Search Server](https://www.packtpub.com/big-data-and-business-intelligence/apache-solr-enterprise-search-server-third-edition#), Third Edition by David Smiley, Eric Pugh, Kranti Parisa, and Matt Mitchell (Packt Publishing) May 2015.\n",
    "  - \n",
    "  - Bastante bibliografía pero que cubre Solr v3 y v4. \n",
    " \n",
    "  - [Solr books - website](http://lucene.apache.org/solr/resources.html#solr-books)\n",
    "\n",
    "### Referencia\n",
    " - [Official Solr Reference](https://www.apache.org/dyn/closer.lua/lucene/solr/ref-guide/)\n"
   ]
  }
 ],
 "metadata": {
  "kernelspec": {
   "display_name": "Python 2",
   "language": "python",
   "name": "python2"
  },
  "language_info": {
   "codemirror_mode": {
    "name": "ipython",
    "version": 2
   },
   "file_extension": ".py",
   "mimetype": "text/x-python",
   "name": "python",
   "nbconvert_exporter": "python",
   "pygments_lexer": "ipython2",
   "version": "2.7.3"
  }
 },
 "nbformat": 4,
 "nbformat_minor": 0
}
