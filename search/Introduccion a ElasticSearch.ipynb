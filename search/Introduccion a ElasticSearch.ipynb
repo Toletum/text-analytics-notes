{
 "cells": [
  {
   "cell_type": "markdown",
   "metadata": {
    "slideshow": {
     "slide_type": "slide"
    }
   },
   "source": [
    "### Introducción a \n",
    "# Elasticsearch\n",
    "\n",
    "![Elasticsearch Logo](http://siren.solutions/wp-content/uploads/2014/07/elasticsearch.png)\n",
    "\n",
    "<p style=\"font-size: small\">Elasticsearch is a trademark of Elasticsearch BV, registered in the U.S. and in other countries.</p>"
   ]
  },
  {
   "cell_type": "markdown",
   "metadata": {
    "slideshow": {
     "slide_type": "slide"
    }
   },
   "source": [
    "\n",
    "## Introducción a [Elasticsearch](https://www.elastic.co/downloads/elasticsearch)\n",
    "\n",
    "\n",
    "\n",
    "- Motor de búsqueda y análitica en 'tiempo real' distribuido\n",
    "- Open source (Licencia Apache 2)\n",
    "- Desarrollado por Elastic.co\n",
    "- Basado en Apache Lucene - biblioteca de búsqueda de texto\n",
    "- API RESTful - como Solr - pero más simple y coherente\n",
    "\n"
   ]
  },
  {
   "cell_type": "markdown",
   "metadata": {
    "slideshow": {
     "slide_type": "subslide"
    }
   },
   "source": [
    "## Elasticsearch\n",
    "\n",
    "- Primera versión pública - Febrero 2010 \n",
    "- Version estable a Febrero de 2015 - ElasticSearch 2.1.1\n",
    "- Cuenta con:\n",
    "    - el respaldo de Elastic\n",
    "    - una vibrante comunidad de desarrolladores\n",
    "    - [creciente popularidad](http://db-engines.com/en/ranking)\n",
    "\n",
    "\n",
    "- Un buen número de mejoras entre la rama 1.x (Sept 2015) y la 2.x\n",
    "\n",
    "- [Elasticsearch github](https://github.com/elastic/elasticsearch)"
   ]
  },
  {
   "cell_type": "markdown",
   "metadata": {
    "slideshow": {
     "slide_type": "slide"
    }
   },
   "source": [
    "## Características\n",
    "\n",
    "- Alamacen de documentos en tiempo real y distribuido \n",
    "- Cada campo está indexado por defecto\n",
    "- Motor de búsqueda distribuido\n",
    "- Proporciona capacidades análiticas (agregaciones) en tiempo real\n",
    "- Escalable a cientos de servidores y petabytes de datos\n",
    "- Tolerante a fallos y particiones de red"
   ]
  },
  {
   "cell_type": "markdown",
   "metadata": {
    "slideshow": {
     "slide_type": "slide"
    }
   },
   "source": [
    "## Casos de uso\n",
    "\n",
    "- Búsqueda de texto  \n",
    "- Búsqueda estructurada\n",
    "- Análitica (sencilla) - pero soporta especialmente la dimension espacial y temporal \n",
    "- Almacen y búsqueda de logs"
   ]
  },
  {
   "cell_type": "markdown",
   "metadata": {
    "slideshow": {
     "slide_type": "fragment"
    }
   },
   "source": [
    "#### Para arquitectos BD\n",
    "- Generalmente no se usa como base de datos primaria - si se requiere consistencia"
   ]
  },
  {
   "cell_type": "markdown",
   "metadata": {
    "slideshow": {
     "slide_type": "slide"
    }
   },
   "source": [
    "## Ecosistema - Stack ELK\n",
    "\n",
    "- [Logstash](https://www.elastic.co/products/logstash) - recoleccion y parseo de logs en un almacen centralizado  \n",
    "- [Kibana](https://www.elastic.co/products/kibana) - interfaz para la búsqueda y análitica - crea cuadreos de mando (*dashboards*) de forma sencilla \n",
    "\n",
    "\n",
    "![ELK Stack](https://assets.digitalocean.com/articles/elk/elk-infrastructure.png)\n",
    "\n",
    "<p style=\"font-size: small\">https://www.digitalocean.com/community/tutorials/how-to-install-elasticsearch-logstash-and-kibana-elk-stack-on-ubuntu-14-04</p>"
   ]
  },
  {
   "cell_type": "markdown",
   "metadata": {
    "slideshow": {
     "slide_type": "subslide"
    }
   },
   "source": [
    "## Ecosistema\n",
    "\n",
    "### Herramientas proporcionadas por Elastic\n",
    "- [Marvel](https://www.elastic.co/products/marvel) - gestión y monitorización del cluster  \n",
    "- [Shield](https://www.elastic.co/products/shield) - seguridad en el cluster\n",
    "- Found - ES as a Service\n",
    "\n",
    "### Plugins y Otras integraciones\n",
    "- Rivers (conectores 1.x ) con diferentes orígenes de datos\n",
    "- [Elasticsearch for Hadoop](https://www.elastic.co/products/hadoop) "
   ]
  },
  {
   "cell_type": "markdown",
   "metadata": {
    "slideshow": {
     "slide_type": "slide"
    }
   },
   "source": [
    "## Conceptos básicos\n",
    "  - Documentos \n",
    "  - Campos (*fields*)  \n",
    "  - Índices (*index*)"
   ]
  },
  {
   "cell_type": "markdown",
   "metadata": {
    "slideshow": {
     "slide_type": "subslide"
    }
   },
   "source": [
    "### Ejemplo de Documento\n",
    "\n",
    "<pre>\n",
    "{\n",
    "    \"email\":      \"john@smith.com\",\n",
    "    \"first_name\": \"John\",\n",
    "    \"last_name\":  \"Smith\",\n",
    "    \"info\": {\n",
    "        \"bio\":\"Eco-warrior and defender of the weak\",\n",
    "        \"age\": 25,\n",
    "        \"interests\": [ \"dolphins\", \"whales\" ]\n",
    "    },\n",
    "    \"join_date\": \"2014/05/01\"\n",
    "}\n",
    "</pre>\n"
   ]
  },
  {
   "cell_type": "markdown",
   "metadata": {
    "slideshow": {
     "slide_type": "slide"
    }
   },
   "source": [
    "### Orientado a documentos\n",
    "\n",
    "- almacena objetos como documentos - estructuras jerárquicas que pueden contener fechas, geolocalizacion, otros objetos, arrays y por supuesto valores y texto\n",
    "- indexa el contenido de los documentos usando índices invertidos para permitir la búsqueda\n",
    "- notación de los documentos: JSON "
   ]
  },
  {
   "cell_type": "markdown",
   "metadata": {
    "slideshow": {
     "slide_type": "fragment"
    }
   },
   "source": [
    "\n",
    "- todos los campos se indexan por defecto\n",
    "- los documentos no necesitan ser homogéneos \n",
    "- ES no necesita especificar un esquema"
   ]
  },
  {
   "cell_type": "markdown",
   "metadata": {
    "slideshow": {
     "slide_type": "slide"
    }
   },
   "source": [
    "### Analogía con las BD relacionales \n",
    "\n",
    "<pre>\n",
    "Relational DB  ⇒ Databases ⇒ Tables ⇒ Rows ⇒ Columns\n",
    "Elasticsearch  ⇒ Indices ⇒ Types  ⇒ Documents ⇒ Fields\n",
    "</pre>\n",
    "\n",
    "Indices = Collection en otras BD orientadas a documentos (MongoDB) - aprox.\n"
   ]
  },
  {
   "cell_type": "markdown",
   "metadata": {
    "slideshow": {
     "slide_type": "skip"
    }
   },
   "source": [
    "### Index vs Index vs Index \n",
    "\n",
    "- Index (noun) - the place to store related documents. It is analogous to a table in RDB. The plural of index is indices or indexes. \n",
    "- Index (verb) - to index a document is to store a document into an index (noun) so that it can be queried and retrieved.  \n",
    "- Inverted index - relational DB create an index (B-tree index) in order to speed up access to data. Text Search engines do the same with an structure called inverted index.\n"
   ]
  },
  {
   "cell_type": "markdown",
   "metadata": {
    "slideshow": {
     "slide_type": "skip"
    }
   },
   "source": [
    "### Field values\n",
    "\n",
    "- String \n",
    "- Number \n",
    "- Boolean \n",
    "- another object \n",
    "- an array of values \n",
    "- Date - an string representing a date \n",
    "- Geolocation - an object representing a geolocation \n"
   ]
  },
  {
   "cell_type": "markdown",
   "metadata": {
    "slideshow": {
     "slide_type": "skip"
    }
   },
   "source": [
    "### Document metadata \n",
    "\n",
    "- <code>_index</code> the index where the document lives \n",
    "- <code>_type</code>\n",
    "- <code>_id</code> - could be autogenerated - use POST in the type instead\n",
    "- <code>_version</code>\n"
   ]
  },
  {
   "cell_type": "markdown",
   "metadata": {
    "slideshow": {
     "slide_type": "slide"
    }
   },
   "source": [
    "\n",
    "## Hablándose con ElasticSearch \n",
    "- REST API - JSON sobre protocolo HTTP en el puerto 9200\n",
    "- Java (native) - protocol nativo en el puerto 9300 \n",
    "  - Nodo cliente - se une a un cluster ES pero no tiene datos\n",
    "  - Transport - envia peticiones al cluster de forma nativa\n",
    "- [Casi cualquier lenguaje](https://www.elastic.co/guide/en/elasticsearch/client/index.html): Python, R, PHP, Perl, Groovy, .NET, Ruby - a través de la API REST\n"
   ]
  },
  {
   "cell_type": "markdown",
   "metadata": {
    "slideshow": {
     "slide_type": "slide"
    }
   },
   "source": [
    "## Instalación\n",
    "\n",
    "Instrucciones para una instalación básica: https://www.elastic.co/guide/en/elasticsearch/guide/current/_installing_elasticsearch.html"
   ]
  },
  {
   "cell_type": "markdown",
   "metadata": {
    "slideshow": {
     "slide_type": "slide"
    }
   },
   "source": [
    "## Poniendo en marcha Elasticsearch\n",
    "\n",
    "1. /bin/elasticsearch\n",
    "\n",
    "Escucha por defecto en el puerto 9200 \n",
    "\n",
    "2. http://localhost:9200"
   ]
  },
  {
   "cell_type": "markdown",
   "metadata": {
    "slideshow": {
     "slide_type": "slide"
    }
   },
   "source": [
    "## Usuarios de Elasticsearch \n",
    "\n",
    "* Wikipedia \n",
    "* The Guardian\n",
    "* Stack Overflow\n",
    "* GitHub\n",
    "* IFFT\n",
    "* NASA"
   ]
  },
  {
   "cell_type": "markdown",
   "metadata": {
    "slideshow": {
     "slide_type": "slide"
    }
   },
   "source": [
    "## Bibliografia\n",
    "\n",
    " * [ElasticSearch: The Definitive Guide](https://www.elastic.co/guide/en/elasticsearch/guide/current/index.html) by Clinton Gormley and Zachary Tong (O’Reilly). Copyright 2015 Elasticsearch BV, 978-1-449-35854-9.\n",
    "\n",
    "    * [git repo](https://github.com/elastic/elasticsearch-definitive-guide) \n",
    " \n",
    "    \n",
    "### Referencia\n",
    "\n",
    " * [ElasticSearch Reference](https://www.elastic.co/guide/index.html)"
   ]
  }
 ],
 "metadata": {
  "celltoolbar": "Slideshow",
  "kernelspec": {
   "display_name": "Python 2",
   "language": "python",
   "name": "python2"
  },
  "language_info": {
   "codemirror_mode": {
    "name": "ipython",
    "version": 2
   },
   "file_extension": ".py",
   "mimetype": "text/x-python",
   "name": "python",
   "nbconvert_exporter": "python",
   "pygments_lexer": "ipython2",
   "version": "2.7.3"
  }
 },
 "nbformat": 4,
 "nbformat_minor": 0
}
