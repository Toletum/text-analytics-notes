{
 "cells": [
  {
   "cell_type": "markdown",
   "metadata": {
    "slideshow": {
     "slide_type": "slide"
    }
   },
   "source": [
    "Elasticsearch\n",
    "# Buscador de documentos\n",
    "\n",
    "<p style=\"font-size: large; margin-top: 100px;\">César de Pablo Sánchez</p>\n",
    "<p style=\"font-size: large\">@zdepablo</p>"
   ]
  },
  {
   "cell_type": "code",
   "execution_count": null,
   "metadata": {
    "collapsed": true,
    "slideshow": {
     "slide_type": "skip"
    }
   },
   "outputs": [],
   "source": [
    "## Code from: https://www.reddit.com/r/IPython/comments/34t4m7/lpt_print_json_in_collapsible_format_in_ipython/\n",
    "\n",
    "import uuid\n",
    "from IPython.display import display_javascript, display_html, display\n",
    "import json\n",
    "\n",
    "class RenderJSON(object):\n",
    "    def __init__(self, json_data):\n",
    "        if isinstance(json_data, dict):\n",
    "            self.json_str = json.dumps(json_data)\n",
    "        else:\n",
    "            self.json_str = json\n",
    "        self.uuid = str(uuid.uuid4())\n",
    "\n",
    "    def _ipython_display_(self):\n",
    "        display_html('<div id=\"{}\" style=\"height: 600px; width:100%;\"></div>'.format(self.uuid),\n",
    "            raw=True\n",
    "        )\n",
    "        display_javascript(\"\"\"\n",
    "        require([\"https://rawgit.com/caldwell/renderjson/master/renderjson.js\"], function() {\n",
    "          document.getElementById('%s').appendChild(renderjson(%s))\n",
    "        });\n",
    "        \"\"\" % (self.uuid, self.json_str), raw=True)"
   ]
  },
  {
   "cell_type": "code",
   "execution_count": null,
   "metadata": {
    "collapsed": true,
    "slideshow": {
     "slide_type": "skip"
    }
   },
   "outputs": [],
   "source": [
    "import requests"
   ]
  },
  {
   "cell_type": "code",
   "execution_count": null,
   "metadata": {
    "collapsed": false,
    "slideshow": {
     "slide_type": "skip"
    }
   },
   "outputs": [],
   "source": [
    "index_options = '''\n",
    "{ \n",
    "  \"mappings\" : { \n",
    "      \"serie\" : {\n",
    "        \"properties\" : {\n",
    "          \"_links\" : {\n",
    "            \"properties\" : {\n",
    "              \"nextepisode\" : {\n",
    "                \"properties\" : {\n",
    "                  \"href\" : {\n",
    "                    \"type\" : \"string\",\n",
    "                    \"index\" : \"no\"\n",
    "                  }\n",
    "                }\n",
    "              },\n",
    "              \"previousepisode\" : {\n",
    "                \"properties\" : {\n",
    "                  \"href\" : {\n",
    "                    \"type\" : \"string\",\n",
    "                    \"index\" : \"no\"\n",
    "                  }\n",
    "                }\n",
    "              },\n",
    "              \"self\" : {\n",
    "                \"properties\" : {\n",
    "                  \"href\" : {\n",
    "                    \"type\" : \"string\",\n",
    "                    \"index\" : \"no\"\n",
    "                   }\n",
    "                }\n",
    "              }\n",
    "            }\n",
    "          },\n",
    "          \"externals\" : {\n",
    "            \"properties\" : {\n",
    "              \"imdb\" : {\n",
    "                \"type\" : \"string\",\n",
    "                \"index\" : \"no\"\n",
    "              },\n",
    "              \"thetvdb\" : {\n",
    "                \"type\" : \"long\",\n",
    "                \"index\": \"no\"\n",
    "              },\n",
    "              \"tvrage\" : {\n",
    "                \"type\" : \"long\",\n",
    "                \"index\": \"no\"\n",
    "              }\n",
    "            }\n",
    "          },\n",
    "          \"genres\" : {\n",
    "            \"type\" : \"string\",\n",
    "            \"index\": \"not_analyzed\"\n",
    "          },\n",
    "          \"id\" : {\n",
    "            \"type\" : \"long\"\n",
    "          },\n",
    "          \"image\" : {\n",
    "            \"properties\" : {\n",
    "              \"medium\" : {\n",
    "                \"type\" : \"string\",\n",
    "                \"index\": \"no\"\n",
    "              },\n",
    "              \"original\" : {\n",
    "                \"type\" : \"string\",\n",
    "                \"index\": \"no\"\n",
    "              }\n",
    "            }\n",
    "          },\n",
    "          \"language\" : {\n",
    "            \"type\" : \"string\",\n",
    "            \"index\": \"not_analyzed\"\n",
    "          },\n",
    "          \"name\" : {\n",
    "            \"type\" : \"string\"\n",
    "          },\n",
    "          \"network\" : {\n",
    "            \"properties\" : {\n",
    "              \"country\" : {\n",
    "                \"properties\" : {\n",
    "                  \"code\" : {\n",
    "                    \"type\" : \"string\",\n",
    "                    \"index\": \"not_analyzed\"\n",
    "                  },\n",
    "                  \"name\" : {\n",
    "                    \"type\" : \"string\"\n",
    "                  },\n",
    "                  \"timezone\" : {\n",
    "                    \"type\" : \"string\",\n",
    "                    \"index\": \"not_analyzed\"\n",
    "                  }\n",
    "                }\n",
    "              },\n",
    "              \"id\" : {\n",
    "                \"type\" : \"long\"\n",
    "              },\n",
    "              \"name\" : {\n",
    "                \"type\" : \"string\"\n",
    "              }\n",
    "            }\n",
    "          },\n",
    "          \"premiered\" : {\n",
    "            \"type\" : \"date\",\n",
    "            \"format\" : \"strict_date_optional_time||epoch_millis\"\n",
    "          },\n",
    "          \"rating\" : {\n",
    "            \"properties\" : {\n",
    "              \"average\" : {\n",
    "                \"type\" : \"double\"\n",
    "              }\n",
    "            }\n",
    "          },\n",
    "          \"runtime\" : {\n",
    "            \"type\" : \"long\"\n",
    "          },\n",
    "          \"schedule\" : {\n",
    "            \"properties\" : {\n",
    "              \"days\" : {\n",
    "                \"type\" : \"string\",\n",
    "                \"index\": \"not_analyzed\"\n",
    "              },\n",
    "              \"time\" : {\n",
    "                \"type\" : \"date\",\n",
    "                \"format\" : \"hour_minute\",\n",
    "                \"ignore_malformed\": true\n",
    "              }\n",
    "            }\n",
    "          },\n",
    "          \"status\" : {\n",
    "            \"type\" : \"string\",\n",
    "            \"index\": \"not_analyzed\"            \n",
    "          },\n",
    "          \"summary\" : {\n",
    "            \"type\" : \"string\",\n",
    "            \"index\": \"analyzed\",\n",
    "            \"analyzer\": \"english\"\n",
    "          },\n",
    "          \"type\" : {\n",
    "            \"type\" : \"string\",\n",
    "            \"index\": \"not_analyzed\"            \n",
    "          },\n",
    "          \"updated\" : {\n",
    "            \"type\" : \"long\"\n",
    "          },\n",
    "          \"url\" : {\n",
    "            \"type\" : \"string\",\n",
    "            \"index\": \"not_analyzed\"            \n",
    "          },\n",
    "          \"webChannel\" : {\n",
    "            \"properties\" : {\n",
    "              \"country\" : {\n",
    "                \"properties\" : {\n",
    "                  \"code\" : {\n",
    "                    \"type\" : \"string\",\n",
    "                    \"index\": \"not_analyzed\"\n",
    "                  },\n",
    "                  \"name\" : {\n",
    "                    \"type\" : \"string\"\n",
    "                  },\n",
    "                  \"timezone\" : {\n",
    "                    \"type\" : \"string\",\n",
    "                    \"index\": \"not_analyzed\"\n",
    "                  }\n",
    "                }\n",
    "              },\n",
    "              \"id\" : {\n",
    "                \"type\" : \"long\"\n",
    "              },\n",
    "              \"name\" : {\n",
    "                \"type\" : \"string\"\n",
    "              }\n",
    "            }\n",
    "          },\n",
    "          \"weight\" : {\n",
    "            \"type\" : \"long\"\n",
    "          }\n",
    "        }\n",
    "      }\n",
    "    }\n",
    "  } \n",
    "'''\n",
    "\n",
    "requests.delete('http://localhost:9200/my_tvseries')\n",
    "\n",
    "requests.delete('http://localhost:9200/tvseries')\n",
    "\n",
    "r = requests.post('http://localhost:9200/tvseries', data = index_options)\n",
    "print r.text"
   ]
  },
  {
   "cell_type": "code",
   "execution_count": null,
   "metadata": {
    "collapsed": false,
    "slideshow": {
     "slide_type": "skip"
    }
   },
   "outputs": [],
   "source": [
    "series = ['breaking bad','blindspot','the knick','house of cards', 'orange is the new black',\n",
    "          'true detective', 'game of thrones',\n",
    "          'the tudors','isabel', 'versailles', 'los serrano']\n",
    "\n",
    "for s in series:  \n",
    "  data = requests.get('http://api.tvmaze.com/singlesearch/shows?q=' + s ) \n",
    "  id = data.json()['id']\n",
    "  response = requests.post('http://localhost:9200/tvseries/serie/' + str(id), data = data)\n",
    "  print s + \" indexed: \" + response.text "
   ]
  },
  {
   "cell_type": "markdown",
   "metadata": {
    "slideshow": {
     "slide_type": "slide"
    }
   },
   "source": [
    "## Objetivos\n",
    "\n",
    " - Conocer los diferentes tipos de búsqueda y el lenguaje de consulta\n",
    " - Comprender como se implementa la relevancia en ES \n",
    " - Entender como usar las opciones de relevancia para optimizar los resultados de búsqueda"
   ]
  },
  {
   "cell_type": "markdown",
   "metadata": {
    "slideshow": {
     "slide_type": "slide"
    }
   },
   "source": [
    "## Búsqueda en ES\n",
    "\n",
    "Soporta diferentes operaciones/tipos de busqueda:\n",
    "  - Búsqueda estructurada: \n",
    "      - Operadores de seleccion: a.k.a *SELECT* \n",
    "      - Operadores de filtrado:  a.k.a *WHERE*\n",
    "  - **Búsqueda de texto completo** - mas potente que *WHERE c LIKE \"regexp\"* \n",
    "  - Agregación - pero diferente a *GROUP BY* \n",
    "  - **Ordenación** - si bien el orden suele definirse al indexar y segun el tipo - vs *SORT BY* \n",
    "  - Paginación - en contraste con *LIMIT*\n"
   ]
  },
  {
   "cell_type": "markdown",
   "metadata": {
    "slideshow": {
     "slide_type": "slide"
    }
   },
   "source": [
    "## Operadores de búsqueda - QueryDSL\n",
    "\n",
    " - **Query context**: “¿Cómo de bien se ajusta el documento a la consulta?” \n",
    " - **Filter contex**: “¿Cumple el documento la consulta? si/no” \n",
    " \n",
    " - Parametros de búsqueda (Search DSL) \n",
    "    - from:to \n",
    "    - sort \n",
    "    - timeout\n",
    "    - search_type\n",
    "    - min_score\n",
    "    - etc... \n",
    "   "
   ]
  },
  {
   "cell_type": "markdown",
   "metadata": {
    "collapsed": true,
    "slideshow": {
     "slide_type": "subslide"
    }
   },
   "source": [
    "### Query DSL - búsqueda de texto completo"
   ]
  },
  {
   "cell_type": "code",
   "execution_count": null,
   "metadata": {
    "collapsed": false,
    "slideshow": {
     "slide_type": "-"
    }
   },
   "outputs": [],
   "source": [
    "import requests\n",
    "\n",
    "payload = \"\"\"\n",
    "{\n",
    "  \"query\" : {\n",
    "     \"match_all\" : { }\n",
    "  }\n",
    "}\n",
    "\"\"\"\n",
    "\n",
    "r = requests.get('http://localhost:9200/tvseries/serie/_search', data = payload)\n",
    "RenderJSON(r.json())"
   ]
  },
  {
   "cell_type": "markdown",
   "metadata": {
    "slideshow": {
     "slide_type": "subslide"
    }
   },
   "source": [
    "### Query DSL - Enviando cadenas de búsqueda "
   ]
  },
  {
   "cell_type": "code",
   "execution_count": null,
   "metadata": {
    "collapsed": false
   },
   "outputs": [],
   "source": [
    "import requests\n",
    "\n",
    "payload = \"\"\"\n",
    "{\n",
    "  \"query\" : {\n",
    "     \"query_string\" : { \"query\" : \"name:'Breaking Bad'\" }\n",
    "  }\n",
    "}\n",
    "\"\"\"\n",
    "\n",
    "r = requests.get('http://localhost:9200/tvseries/serie/_search', data = payload)\n",
    "RenderJSON(r.json())"
   ]
  },
  {
   "cell_type": "code",
   "execution_count": null,
   "metadata": {
    "collapsed": false,
    "slideshow": {
     "slide_type": "subslide"
    }
   },
   "outputs": [],
   "source": [
    "payload = \"\"\"\n",
    "{\n",
    "    \"query\" : {\n",
    "        \"match\" : {\n",
    "            \"summary\" : \"New Mexico\"\n",
    "        }\n",
    "    }\n",
    "}\n",
    "\"\"\"\n",
    "\n",
    "r = requests.get('http://localhost:9200/tvseries/serie/_search', data = payload)\n",
    "RenderJSON(r.json())"
   ]
  },
  {
   "cell_type": "markdown",
   "metadata": {
    "slideshow": {
     "slide_type": "subslide"
    }
   },
   "source": [
    "### QueryDSL - terms"
   ]
  },
  {
   "cell_type": "code",
   "execution_count": null,
   "metadata": {
    "collapsed": false
   },
   "outputs": [],
   "source": [
    "payload = \"\"\"\n",
    "{\n",
    "  \"query\" : {\n",
    "     \"term\" : { \"name\": \"breaking\" }\n",
    "  }\n",
    "}\n",
    "\"\"\"\n",
    "\n",
    "r = requests.get('http://localhost:9200/tvseries/serie/_search', data = payload)\n",
    "RenderJSON(r.json())"
   ]
  },
  {
   "cell_type": "markdown",
   "metadata": {
    "collapsed": true,
    "slideshow": {
     "slide_type": "-"
    }
   },
   "source": [
    "Probar la misma query en mayusculas - no hay análisis asi que no matchea nada\n",
    "\n",
    "https://www.elastic.co/guide/en/elasticsearch/reference/current/query-dsl-term-query.html"
   ]
  },
  {
   "cell_type": "markdown",
   "metadata": {
    "slideshow": {
     "slide_type": "subslide"
    }
   },
   "source": [
    "### Query DSL - terms"
   ]
  },
  {
   "cell_type": "code",
   "execution_count": null,
   "metadata": {
    "collapsed": false
   },
   "outputs": [],
   "source": [
    "payload = \"\"\"\n",
    "{\n",
    "  \"query\" : {\n",
    "     \"terms\" : { \"genres\": [\"Drama\", \"Crime\"] }\n",
    "  }\n",
    "}\n",
    "\"\"\"\n",
    "\n",
    "r = requests.get('http://localhost:9200/tvseries/serie/_search', data = payload)\n",
    "RenderJSON(r.json())"
   ]
  },
  {
   "cell_type": "markdown",
   "metadata": {
    "slideshow": {
     "slide_type": "subslide"
    }
   },
   "source": [
    "Se pueden usar como query los terminos de otro documento - por ejemplo, los seguidores de un seguidor"
   ]
  },
  {
   "cell_type": "markdown",
   "metadata": {
    "slideshow": {
     "slide_type": "subslide"
    }
   },
   "source": [
    "### Query DSL - Búsqueda por rangos"
   ]
  },
  {
   "cell_type": "code",
   "execution_count": null,
   "metadata": {
    "collapsed": false,
    "slideshow": {
     "slide_type": "-"
    }
   },
   "outputs": [],
   "source": [
    "payload = \"\"\"\n",
    "{\n",
    "  \"query\" : {\n",
    "    \"range\" : {\n",
    "        \"rating.average\" : {\n",
    "            \"gte\" : 9,\n",
    "            \"lte\" : 10,\n",
    "            \"boost\" : 2.0\n",
    "        }\n",
    "    }\n",
    "}\n",
    "}\n",
    "\"\"\"\n",
    "\n",
    "r = requests.get('http://localhost:9200/tvseries/serie/_search', data = payload)\n",
    "RenderJSON(r.json())"
   ]
  },
  {
   "cell_type": "markdown",
   "metadata": {
    "slideshow": {
     "slide_type": "subslide"
    }
   },
   "source": [
    "### Query DSL - Búsqueda por rangos"
   ]
  },
  {
   "cell_type": "code",
   "execution_count": null,
   "metadata": {
    "collapsed": false,
    "slideshow": {
     "slide_type": "-"
    }
   },
   "outputs": [],
   "source": [
    "payload = \"\"\"\n",
    "{\n",
    "  \"query\" : {\n",
    "    \"range\" : {\n",
    "        \"premiered\" : {\n",
    "            \"gte\" : \"now-1y/y\",\n",
    "            \"lte\" : \"now/y\"\n",
    "        }\n",
    "    }\n",
    "}\n",
    "}\n",
    "\"\"\"\n",
    "\n",
    "r = requests.get('http://localhost:9200/tvseries/serie/_search', data = payload)\n",
    "RenderJSON(r.json())"
   ]
  },
  {
   "cell_type": "markdown",
   "metadata": {
    "slideshow": {
     "slide_type": "slide"
    }
   },
   "source": [
    "### Query DSL - busquedas booleanas\n",
    "\n",
    " [todo] operadores booleanos"
   ]
  },
  {
   "cell_type": "markdown",
   "metadata": {
    "slideshow": {
     "slide_type": "subslide"
    }
   },
   "source": [
    "### Query DSL - busquedas booleanas"
   ]
  },
  {
   "cell_type": "code",
   "execution_count": null,
   "metadata": {
    "collapsed": false
   },
   "outputs": [],
   "source": [
    "payload = \"\"\"\n",
    "{\n",
    "  \"query\" : {\n",
    "    \"bool\" : {\n",
    "        \"must\" : {\n",
    "            \"term\" : { \"genres\" : \"Thriller\" }\n",
    "        },\n",
    "        \"must_not\" : {\n",
    "            \"term\" : { \"summary\" : \"mexico\" }\n",
    "        }\n",
    "    }\n",
    "  }\n",
    "}\n",
    "\"\"\"\n",
    "\n",
    "r = requests.get('http://localhost:9200/tvseries/serie/_search', data = payload)\n",
    "RenderJSON(r.json())\n"
   ]
  },
  {
   "cell_type": "code",
   "execution_count": null,
   "metadata": {
    "collapsed": false
   },
   "outputs": [],
   "source": [
    "payload = \"\"\"\n",
    "{\n",
    "  \"query\" : {\n",
    "    \"bool\" : {\n",
    "        \"must\" : {\n",
    "            \"term\" : { \"genres\" : \"Thriller\" }\n",
    "        },\n",
    "        \"must_not\" : {\n",
    "            \"match\" : { \"summary\" : \"Mexico\" }\n",
    "        },\n",
    "        \"minimum_should_match\" : 1,\n",
    "        \"boost\" : 1.0\n",
    "    }\n",
    "  }\n",
    "}\n",
    "\"\"\"\n",
    "\n",
    "r = requests.get('http://localhost:9200/tvseries/serie/_search', data = payload)\n",
    "RenderJSON(r.json())\n"
   ]
  },
  {
   "cell_type": "code",
   "execution_count": null,
   "metadata": {
    "collapsed": false
   },
   "outputs": [],
   "source": [
    "payload = \"\"\"\n",
    "{\n",
    "  \"query\" : {\n",
    "    \"bool\" : {\n",
    "        \"must\" : {\n",
    "            \"term\" : { \"genres\" : \"Thriller\" }\n",
    "        },\n",
    "        \"must_not\" : {\n",
    "            \"term\" : { \"summary\" : \"mexico\" }\n",
    "        },\n",
    "        \"should\" : [\n",
    "           {\"term\" : { \"genres\" : \"Mystery\" }},\n",
    "           {\"term\" : { \"genres\" : \"Crime\" }}\n",
    "\n",
    "           ],\n",
    "        \"minimum_should_match\" : 1,\n",
    "        \"boost\" : 1.0\n",
    "    }\n",
    "  }\n",
    "}\n",
    "\"\"\"\n",
    "\n",
    "r = requests.get('http://localhost:9200/tvseries/serie/_search?pretty', data = payload)\n",
    "RenderJSON(r.json())\n"
   ]
  },
  {
   "cell_type": "markdown",
   "metadata": {
    "slideshow": {
     "slide_type": "subslide"
    }
   },
   "source": [
    "### Query DSL - búsqueda  de frase "
   ]
  },
  {
   "cell_type": "code",
   "execution_count": null,
   "metadata": {
    "collapsed": false
   },
   "outputs": [],
   "source": [
    "payload = \"\"\"\n",
    "{\n",
    "    \"query\" : {\n",
    "        \"match_phrase\" : {\n",
    "            \"_all\" : \"Walter White\"\n",
    "        }\n",
    "    }\n",
    "}\n",
    "\"\"\"\n",
    "\n",
    "r = requests.get('http://localhost:9200/tvseries/serie/_search?pretty&explain', data = payload)\n",
    "RenderJSON(r.json())\n"
   ]
  },
  {
   "cell_type": "markdown",
   "metadata": {
    "slideshow": {
     "slide_type": "subslide"
    }
   },
   "source": [
    "### Query DSL - Búsqueda por matching parcial"
   ]
  },
  {
   "cell_type": "code",
   "execution_count": null,
   "metadata": {
    "collapsed": false
   },
   "outputs": [],
   "source": [
    "payload = \"\"\"\n",
    "{\n",
    "  \"query\" : {\n",
    "    \"prefix\" : { \"name\" : \"break\" }\n",
    "  }\n",
    "}\n",
    "\"\"\"\n",
    "\n",
    "r = requests.get('http://localhost:9200/tvseries/serie/_search?pretty', data = payload)\n",
    "RenderJSON(r.json())\n"
   ]
  },
  {
   "cell_type": "markdown",
   "metadata": {},
   "source": [
    "- wildcards \n",
    "- regexps\n",
    "\n",
    "Son búsquedas más costosas - en general expanden el número de terminos y requieren recorrer todo el diccionario"
   ]
  },
  {
   "cell_type": "markdown",
   "metadata": {
    "slideshow": {
     "slide_type": "subslide"
    }
   },
   "source": [
    "### Query DSL - busquedas borrosas"
   ]
  },
  {
   "cell_type": "code",
   "execution_count": null,
   "metadata": {
    "collapsed": false
   },
   "outputs": [],
   "source": [
    "payload = \"\"\"\n",
    "{\n",
    "  \"query\" : {\n",
    "    \"fuzzy\" : { \"summary\" : \"mejico\" }\n",
    "  }\n",
    "}\n",
    "\"\"\"\n",
    "\n",
    "r = requests.get('http://localhost:9200/tvseries/serie/_search', data = payload)\n",
    "RenderJSON(r.json())\n"
   ]
  },
  {
   "cell_type": "code",
   "execution_count": null,
   "metadata": {
    "collapsed": false,
    "slideshow": {
     "slide_type": "subslide"
    }
   },
   "outputs": [],
   "source": [
    "payload = \"\"\"\n",
    "{\n",
    "  \"query\" : {\n",
    "    \"fuzzy\" : {\n",
    "        \"summary\" : {\n",
    "            \"value\" :         \"mejico\",\n",
    "            \"boost\" :         1.0,\n",
    "            \"fuzziness\" :     1,\n",
    "            \"prefix_length\" : 0,\n",
    "            \"max_expansions\": 100\n",
    "        }\n",
    "    }\n",
    "    }\n",
    "}\"\"\"\n",
    "\n",
    "\n",
    "r = requests.get('http://localhost:9200/tvseries/serie/_search', data = payload)\n",
    "RenderJSON(r.json())\n"
   ]
  },
  {
   "cell_type": "markdown",
   "metadata": {
    "slideshow": {
     "slide_type": "subslide"
    }
   },
   "source": [
    "### Query DSL - Boosting"
   ]
  },
  {
   "cell_type": "code",
   "execution_count": null,
   "metadata": {
    "collapsed": false
   },
   "outputs": [],
   "source": [
    "\n",
    "payload = \"\"\"\n",
    "{\n",
    "  \"query\" : {\n",
    "     \"terms\" : { \n",
    "         \"genres\": [\"Drama\", \"Crime\"],\n",
    "         \"boost\" : 2.0\n",
    "      }\n",
    "  }\n",
    "}\n",
    "\"\"\"\n",
    "\n",
    "r = requests.get('http://localhost:9200/tvseries/serie/_search', data = payload)\n",
    "RenderJSON(r.json())\n"
   ]
  },
  {
   "cell_type": "markdown",
   "metadata": {
    "slideshow": {
     "slide_type": "subslide"
    }
   },
   "source": [
    "### Búsqueda multiindice"
   ]
  },
  {
   "cell_type": "code",
   "execution_count": null,
   "metadata": {
    "collapsed": false
   },
   "outputs": [],
   "source": [
    "payload = \"\"\"\n",
    "{\n",
    "    \"query\" : {\n",
    "        \"match\" : {\n",
    "            \"_all\" : \"John\"\n",
    "        }\n",
    "    }\n",
    "}\n",
    "\"\"\"\n",
    "\n",
    "r = requests.get('http://localhost:9200/tvseries,megacorp/serie,employee/_search', data = payload)\n",
    "RenderJSON(r.json())\n"
   ]
  },
  {
   "cell_type": "markdown",
   "metadata": {
    "slideshow": {
     "slide_type": "subslide"
    }
   },
   "source": [
    "### Búsqueda multiindice"
   ]
  },
  {
   "cell_type": "code",
   "execution_count": null,
   "metadata": {
    "collapsed": false
   },
   "outputs": [],
   "source": [
    "payload = \"\"\"\n",
    "{\n",
    "    \"query\" : {\n",
    "        \"match\" : {\n",
    "            \"_all\" : \"John\"\n",
    "        }\n",
    "    }\n",
    "}\n",
    "\"\"\"\n",
    "\n",
    "r = requests.get('http://localhost:9200/tvseries*/serie/_search', data = payload)\n",
    "RenderJSON(r.json())\n"
   ]
  },
  {
   "cell_type": "markdown",
   "metadata": {
    "slideshow": {
     "slide_type": "slide"
    }
   },
   "source": [
    "### Relevancia en Elasticsearch"
   ]
  },
  {
   "cell_type": "markdown",
   "metadata": {
    "slideshow": {
     "slide_type": "subslide"
    }
   },
   "source": [
    "### Relevancia:  *Practical Scoring Function*\n",
    "  - recupera documentos usando un modelo booleano \n",
    "  - asigna la relevancia usando una formula basada en ideas \n",
    "    - TF-ID\n",
    "    - Modelo de espacio vectorial\n",
    "    "
   ]
  },
  {
   "cell_type": "markdown",
   "metadata": {
    "slideshow": {
     "slide_type": "subslide"
    }
   },
   "source": [
    "### Relevancia por defecto\n",
    "\n",
    "\n",
    "$$ rel(q,d) = qNorm_q \\cdot coord_{q,d} \\cdot \\sum_{t \\in q}{tf_{t,d} \\cdot idf_t^2 \\cdot boost_t \\cdot norm_{t,d}}$$"
   ]
  },
  {
   "cell_type": "markdown",
   "metadata": {
    "slideshow": {
     "slide_type": "fragment"
    }
   },
   "source": [
    " - $qNorm_q$ : factor de normalización de las consultas - ignorar\n",
    " - $coord_{q,d}$ : *coordination factor* - sube la importancia de los documentos que tienen más terminos de la consulta \n",
    " - $boost_t$: *query boost* - Sube la importancia de un determinado término\n",
    " - $norm_{t,d}$: Factor de normalizacion del indice - tiene en cuenta la longitud del documento y opcionalmente *index boost*"
   ]
  },
  {
   "cell_type": "markdown",
   "metadata": {
    "slideshow": {
     "slide_type": "subslide"
    }
   },
   "source": [
    "## Relevancia - Default score "
   ]
  },
  {
   "cell_type": "code",
   "execution_count": null,
   "metadata": {
    "collapsed": false
   },
   "outputs": [],
   "source": [
    "import requests\n",
    "\n",
    "r = requests.get('http://localhost:9200/tvseries/_search?q=summary:New Mexico')\n",
    "RenderJSON(r.json())"
   ]
  },
  {
   "cell_type": "markdown",
   "metadata": {
    "slideshow": {
     "slide_type": "subslide"
    }
   },
   "source": [
    "### Explicando la relevancia "
   ]
  },
  {
   "cell_type": "code",
   "execution_count": null,
   "metadata": {
    "collapsed": true
   },
   "outputs": [],
   "source": [
    "r = requests.get('http://localhost:9200/tvseries/_search?q=New Mexico&explain')"
   ]
  },
  {
   "cell_type": "code",
   "execution_count": null,
   "metadata": {
    "collapsed": false,
    "slideshow": {
     "slide_type": "subslide"
    }
   },
   "outputs": [],
   "source": [
    "RenderJSON(r.json())"
   ]
  },
  {
   "cell_type": "markdown",
   "metadata": {},
   "source": [
    "[TODO] Explicar bien cada uno de los parámetros"
   ]
  },
  {
   "cell_type": "markdown",
   "metadata": {
    "slideshow": {
     "slide_type": "subslide"
    }
   },
   "source": [
    "## Modelos de relevancia alternativa (texto) \n",
    "\n",
    "Otras medidas de relavancia para documentos\n",
    "  - Okapi BM 25\n",
    "  - DFR\n",
    "  \n",
    "Se puede elegir una funcion de similitud por campo. sin embargo ¡requiere reindexar!\n",
    "\n",
    "Medidas de similitud entre cadenas:\n",
    "  - Fuzzy similarity\n",
    "  - Indexacion por ngrams\n"
   ]
  },
  {
   "cell_type": "markdown",
   "metadata": {
    "slideshow": {
     "slide_type": "subslide"
    }
   },
   "source": [
    "### Cambiando la medida de relevancia de texto\n",
    "\n",
    " - Se define y configura en el mapping para cada campo\n",
    " - Se pueden generar configuraciones propias con parámetros fijados para reusar\n",
    " - Tunear la relevancia (de texto) es generalmente el último de los ajustes \n",
    "     - si se justifica en una aplicación típica\n",
    "     - debe ser un proceso evaluado en función de la aplicación. "
   ]
  },
  {
   "cell_type": "markdown",
   "metadata": {
    "slideshow": {
     "slide_type": "subslide"
    }
   },
   "source": [
    "<pre>\n",
    "PUT /my_index\n",
    "{\n",
    "  \"mappings\": {\n",
    "    \"doc\": {\n",
    "      \"properties\": {\n",
    "        \"title\": {\n",
    "          \"type\":       \"string\",\n",
    "          \"similarity\": \"BM25\",\n",
    "          \"k1\": 2.0, \n",
    "          \"b\": 1.0\n",
    "        },\n",
    "        \"body\": {\n",
    "          \"type\":       \"string\",\n",
    "          \"similarity\": \"default\" \n",
    "        }\n",
    "      }\n",
    "  }\n",
    "}\n",
    "</pre>"
   ]
  },
  {
   "cell_type": "markdown",
   "metadata": {
    "slideshow": {
     "slide_type": "subslide"
    }
   },
   "source": [
    "## Otras medidas de relevancia (estructura) \n",
    "\n",
    "- We can take into account other relevance measures\n",
    "     - Time - recency\n",
    "     - Location - proximity\n",
    "     - Other numerical fields\n",
    "  - Difference with databases: algorithms are adapted to sort and get top k documents. "
   ]
  },
  {
   "cell_type": "code",
   "execution_count": null,
   "metadata": {
    "collapsed": false,
    "slideshow": {
     "slide_type": "subslide"
    }
   },
   "outputs": [],
   "source": [
    "payload = \"\"\"\n",
    "{\n",
    "  \"query\" : {\n",
    "     \"terms\" : { \"genres\": [\"Drama\", \"Crime\"] }\n",
    "  },\n",
    "  \"sort\" : { \"rating.average\" : \"asc\" }\n",
    "  \n",
    "}\n",
    "\"\"\"\n",
    "\n",
    "r = requests.get('http://localhost:9200/tvseries/serie/_search', data = payload)\n",
    "RenderJSON(r.json())"
   ]
  },
  {
   "cell_type": "markdown",
   "metadata": {
    "slideshow": {
     "slide_type": "subslide"
    }
   },
   "source": [
    "## Definiendo la relevancia a medida\n",
    "\n",
    " - random score\n",
    " - function score \n",
    " - script score"
   ]
  },
  {
   "cell_type": "markdown",
   "metadata": {
    "slideshow": {
     "slide_type": "subslide"
    }
   },
   "source": [
    "### Random Score\n",
    "  - Necesidad de sacar un conjunto de resultados en orden aleatorio"
   ]
  },
  {
   "cell_type": "code",
   "execution_count": null,
   "metadata": {
    "collapsed": false
   },
   "outputs": [],
   "source": [
    "payload = \"\"\"\n",
    "{\n",
    "  \"query\": {\n",
    "    \"function_score\" : {\n",
    "    \"query\" : { \n",
    "       \"terms\" : { \"genres\": [\"Drama\", \"Crime\"] }\n",
    "     },\n",
    "      \"random_score\" : {  }\n",
    "    }\n",
    "  }\n",
    "}\n",
    "\"\"\"\n",
    "\n",
    "r = requests.get('http://localhost:9200/tvseries/serie/_search', data = payload)\n",
    "RenderJSON(r.json())"
   ]
  },
  {
   "cell_type": "markdown",
   "metadata": {
    "slideshow": {
     "slide_type": "subslide"
    }
   },
   "source": [
    "### Function score - Incluyendo un factor adicional a la relevancia de texto"
   ]
  },
  {
   "cell_type": "code",
   "execution_count": null,
   "metadata": {
    "collapsed": false
   },
   "outputs": [],
   "source": [
    "payload = \"\"\"\n",
    "{\n",
    "  \"query\": {\n",
    "    \"function_score\" : {\n",
    "    \"query\" : { \n",
    "       \"terms\" : { \"genres\": [\"Drama\", \"Crime\"] }\n",
    "     },\n",
    "      \"field_value_factor\" : {\n",
    "        \"field\" : \"weight\"\n",
    "     }\n",
    "    }\n",
    "  }\n",
    "}\n",
    "\"\"\"\n",
    "\n",
    "r = requests.get('http://localhost:9200/tvseries/serie/_search?explain', data = payload)\n",
    "RenderJSON(r.json())"
   ]
  },
  {
   "cell_type": "markdown",
   "metadata": {
    "slideshow": {
     "slide_type": "subslide"
    }
   },
   "source": [
    "### Function score: estableciendo la relevancia como \"frescura\" "
   ]
  },
  {
   "cell_type": "code",
   "execution_count": null,
   "metadata": {
    "collapsed": false
   },
   "outputs": [],
   "source": [
    "payload = \"\"\"\n",
    "{\n",
    "  \"query\": {\n",
    "    \"function_score\": {\n",
    "      \"functions\": [\n",
    "        {\n",
    "          \"exp\": {\n",
    "            \"premiered\": { \n",
    "              \"origin\": \"now\", \n",
    "              \"offset\": \"30d\",\n",
    "              \"scale\": \"360d\"\n",
    "            }\n",
    "          }\n",
    "        }\n",
    "      ]\n",
    "    }\n",
    "  }\n",
    "}\n",
    "\"\"\"\n",
    "\n",
    "r = requests.get('http://localhost:9200/tvseries/serie/_search?explain', data = payload)\n",
    "RenderJSON(r.json())"
   ]
  },
  {
   "cell_type": "markdown",
   "metadata": {
    "slideshow": {
     "slide_type": "subslide"
    }
   },
   "source": [
    "![Funciones de relevancia segun valor](https://www.elastic.co/guide/en/elasticsearch/reference/current/images/decay_2d.png)"
   ]
  },
  {
   "cell_type": "code",
   "execution_count": null,
   "metadata": {
    "collapsed": false
   },
   "outputs": [],
   "source": [
    "payload = \"\"\"\n",
    "{\n",
    "  \"query\": {\n",
    "    \"function_score\": {\n",
    "      \"query\" : { \n",
    "       \"terms\" : { \"genres\": [\"Drama\", \"Crime\"] }\n",
    "       },\n",
    "      \"functions\": [\n",
    "        {\n",
    "          \"exp\": {\n",
    "            \"premiered\": { \n",
    "              \"origin\": \"now\", \n",
    "              \"offset\": \"30d\",\n",
    "              \"scale\": \"360d\"\n",
    "            }\n",
    "          }\n",
    "        }\n",
    "      ],\n",
    "      \"score_mode\": \"sum\"\n",
    "    }\n",
    "  }\n",
    "}\n",
    "\"\"\"\n",
    "\n",
    "r = requests.get('http://localhost:9200/tvseries/serie/_search?explain', data = payload)\n",
    "RenderJSON(r.json())"
   ]
  },
  {
   "cell_type": "markdown",
   "metadata": {
    "slideshow": {
     "slide_type": "subslide"
    }
   },
   "source": [
    "### Script score - teniendo en cuenta la puntuacion"
   ]
  },
  {
   "cell_type": "code",
   "execution_count": null,
   "metadata": {
    "collapsed": false
   },
   "outputs": [],
   "source": [
    "payload = \"\"\"\n",
    "{\n",
    "  \"query\": {\n",
    "    \"function_score\" : {\n",
    "    \"query\" : { \n",
    "       \"terms\" : { \"genres\": [\"Drama\", \"Crime\"] }\n",
    "     },\n",
    "      \"script_score\" : {\n",
    "        \"script\" : \"_score * doc['rating.average'].value\"\n",
    "     }\n",
    "    }\n",
    "  }\n",
    "}\n",
    "\"\"\"\n",
    "\n",
    "r = requests.get('http://localhost:9200/tvseries/serie/_search?explain', data = payload)\n",
    "RenderJSON(r.json())"
   ]
  },
  {
   "cell_type": "markdown",
   "metadata": {
    "collapsed": true,
    "slideshow": {
     "slide_type": "subslide"
    }
   },
   "source": [
    "Requiere que habilitemos los scripts dinámicos en elasticsearch.yml\n",
    "\n",
    "script.inline: true\n",
    "script.indexed: true\n",
    "\n"
   ]
  },
  {
   "cell_type": "markdown",
   "metadata": {
    "slideshow": {
     "slide_type": "skip"
    }
   },
   "source": [
    "## Búsqueda multicampo\n",
    "\n",
    "Motivation: \n",
    "\n",
    "  * Different uses: \n",
    "    * Match different full text queries in different fields: title and author\n",
    "    * Order and bool queries impact, boosting may also be used\n",
    "    \n",
    "    * Tuning: \n",
    "       * dis_max - selecting the score of the best fields\n",
    "       * tie_breaker\n",
    "       * multi_match - helper to direct the same query to different fields\n",
    "       * we can select fields by using regular expressions \n",
    "       * cross fields entity search\n",
    "       \n",
    "   * best fields \n",
    "   * most fields \n",
    "   * cross fields \n"
   ]
  },
  {
   "cell_type": "markdown",
   "metadata": {
    "slideshow": {
     "slide_type": "subslide"
    }
   },
   "source": [
    "## Búsqueda multicampo"
   ]
  },
  {
   "cell_type": "code",
   "execution_count": null,
   "metadata": {
    "collapsed": false
   },
   "outputs": [],
   "source": [
    "payload = \"\"\"\n",
    "{\n",
    "    \"query\" : {\n",
    "       \"multi_match\" : {\n",
    "         \"query\":    \"New Mexico\",\n",
    "         \"type\" : \"phrase\",\n",
    "         \"fields\": [ \"name\", \"summary\" ] \n",
    "       }\n",
    "   }\n",
    "}\n",
    "\"\"\"\n",
    "\n",
    "r = requests.get('http://localhost:9200/tvseries/serie/_search?pretty&explain', data = payload)\n",
    "RenderJSON(r.json())\n"
   ]
  },
  {
   "cell_type": "markdown",
   "metadata": {
    "slideshow": {
     "slide_type": "slide"
    }
   },
   "source": [
    "## Filtrado de resultados (*filter*)\n",
    "\n",
    "<pre>\n",
    "  {\n",
    "    \"query\": {...},\n",
    "    \"filter\": {...}\n",
    "  }\n",
    "</pre>\n",
    "  - *filter* aplica un filtro a los resultados de la búsqueda (*query*) \n",
    "  - el filtro elimina los resultados\n",
    "  - no afecta a la relevancia (*_score*)\n",
    "  - los resultados se pueden cachear en memoria\n",
    "  \n",
    "  "
   ]
  },
  {
   "cell_type": "markdown",
   "metadata": {
    "slideshow": {
     "slide_type": "subslide"
    }
   },
   "source": [
    "## Filtrando resultados"
   ]
  },
  {
   "cell_type": "code",
   "execution_count": null,
   "metadata": {
    "collapsed": false
   },
   "outputs": [],
   "source": [
    "payload = \"\"\"\n",
    "{\n",
    "    \"query\" : {\n",
    "       \"multi_match\" : {\n",
    "         \"query\":    \"New Mexico\",\n",
    "         \"fields\": [ \"name\", \"summary\" ] \n",
    "       }\n",
    "   },\n",
    "   \"filter\" : {\n",
    "       \"terms\" : { \"genres\": [\"Adventure\", \"Comedy\"] }\n",
    "\n",
    "   }\n",
    "}\n",
    "\"\"\"\n",
    "\n",
    "r = requests.get('http://localhost:9200/tvseries/serie/_search?pretty&explain', data = payload)\n",
    "RenderJSON(r.json())\n"
   ]
  },
  {
   "cell_type": "markdown",
   "metadata": {
    "slideshow": {
     "slide_type": "slide"
    }
   },
   "source": [
    "## *Highlighting* - integración con la UI de búsqueda\n",
    "\n",
    "  - ES incluye la posibilidad de resaltar los términos de una búsqueda en su contexto (*highlight*)\n",
    "  - Generalmente es una labor de la UI, pero se puede llevar al motor por: \n",
    "     - Consistencia\n",
    "     - Rendimiento "
   ]
  },
  {
   "cell_type": "markdown",
   "metadata": {
    "slideshow": {
     "slide_type": "slide"
    }
   },
   "source": [
    "     \n",
    "## *Highlighting*      \n",
    "  - Permite: \n",
    "    - seleccionar campos para resumen\n",
    "    - seleccionar longitud y numero de fragmentos\n",
    "    - seleccionar las etiquetas para resaltar\n",
    "    - configuracion global o por campo\n",
    "      \n",
    "  - Proporciona varios algoritmos en función del tipo de indexación del campo  \n",
    "     - Plain (Lucene) \n",
    "     - Fast Vector Highlighter (term vectors) \n",
    "     - Postings Highlighter  (offsets) \n",
    "     "
   ]
  },
  {
   "cell_type": "markdown",
   "metadata": {
    "slideshow": {
     "slide_type": "subslide"
    }
   },
   "source": [
    "## Resaltando los terminos de búsqueda en el resumen (*snippet*)"
   ]
  },
  {
   "cell_type": "code",
   "execution_count": null,
   "metadata": {
    "collapsed": false
   },
   "outputs": [],
   "source": [
    "payload = \"\"\"\n",
    "{\n",
    "    \"query\" : {\n",
    "       \"multi_match\" : {\n",
    "         \"query\":    \"New Mexico\",\n",
    "         \"fields\": [ \"name\", \"summary\" ] \n",
    "       }\n",
    "   },\n",
    "   \"highlight\" : {\n",
    "      \"pre_tags\": [\"<span class='my-style'>\"],\n",
    "      \"post_tags\": [\"</span>\"],      \n",
    "      \"fields\" : {\n",
    "          \"summary\" : {},\n",
    "          \"name\": {}\n",
    "      }\n",
    "   }\n",
    "}\n",
    "\"\"\"\n",
    "\n",
    "r = requests.get('http://localhost:9200/tvseries/serie/_search?pretty&explain', data = payload)\n",
    "RenderJSON(r.json())\n"
   ]
  },
  {
   "cell_type": "markdown",
   "metadata": {
    "slideshow": {
     "slide_type": "slide"
    }
   },
   "source": [
    "## Otras características\n",
    "  - Plantillas de búsqueda (/_search/template) \n",
    "  - More Like This - buscar documentos similares a otro\n",
    "  - Percolator - consulta que se ejecuta sobre cada documento nuevo que se indexa \n",
    "  - Routing "
   ]
  },
  {
   "cell_type": "markdown",
   "metadata": {
    "slideshow": {
     "slide_type": "slide"
    }
   },
   "source": [
    "## Conclusiones\n",
    "  - Un lenguaje flexible de búsqueda que permite búsquedas complejas\n",
    "  - Diseñar la funcionalidad de búsqueda adecuada a una aplicación: \n",
    "  - Llevar al motor de búsqueda, algunas operaciones de la aplicación: highlighting, percolator, recomendacion  "
   ]
  },
  {
   "cell_type": "markdown",
   "metadata": {
    "slideshow": {
     "slide_type": "slide"
    }
   },
   "source": [
    "## Conclusiones - Diseño de la busqueda \n",
    "  - Diseño del documento\n",
    "  - Diseño de la consulta\n",
    "  - Diseño del análisis de los campos\n",
    "     - Búsqueda \n",
    "     - Indexación\n",
    "  - Diseño de la relevancia textual o medida de similitud\n",
    "     - Boosting en tiempo de consulta \n",
    "     - Boosting de campos \n",
    "     - Boosting de indices\n",
    "  - Diseño de la relevancia combinando otros campos \n",
    "     - Boosting de cada componente\n"
   ]
  }
 ],
 "metadata": {
  "celltoolbar": "Slideshow",
  "kernelspec": {
   "display_name": "Python 2",
   "language": "python",
   "name": "python2"
  },
  "language_info": {
   "codemirror_mode": {
    "name": "ipython",
    "version": 2
   },
   "file_extension": ".py",
   "mimetype": "text/x-python",
   "name": "python",
   "nbconvert_exporter": "python",
   "pygments_lexer": "ipython2",
   "version": "2.7.10"
  }
 },
 "nbformat": 4,
 "nbformat_minor": 0
}
