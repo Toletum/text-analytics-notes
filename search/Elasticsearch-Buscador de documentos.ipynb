{
 "cells": [
  {
   "cell_type": "markdown",
   "metadata": {
    "slideshow": {
     "slide_type": "slide"
    }
   },
   "source": [
    "Elasticsearch\n",
    "# Buscador de documentos"
   ]
  },
  {
   "cell_type": "code",
   "execution_count": 3,
   "metadata": {
    "collapsed": true,
    "slideshow": {
     "slide_type": "skip"
    }
   },
   "outputs": [],
   "source": [
    "## Code from: https://www.reddit.com/r/IPython/comments/34t4m7/lpt_print_json_in_collapsible_format_in_ipython/\n",
    "\n",
    "import uuid\n",
    "from IPython.display import display_javascript, display_html, display\n",
    "import json\n",
    "\n",
    "class RenderJSON(object):\n",
    "    def __init__(self, json_data):\n",
    "        if isinstance(json_data, dict):\n",
    "            self.json_str = json.dumps(json_data)\n",
    "        else:\n",
    "            self.json_str = json\n",
    "        self.uuid = str(uuid.uuid4())\n",
    "\n",
    "    def _ipython_display_(self):\n",
    "        display_html('<div id=\"{}\" style=\"height: 600px; width:100%;\"></div>'.format(self.uuid),\n",
    "            raw=True\n",
    "        )\n",
    "        display_javascript(\"\"\"\n",
    "        require([\"https://rawgit.com/caldwell/renderjson/master/renderjson.js\"], function() {\n",
    "          document.getElementById('%s').appendChild(renderjson(%s))\n",
    "        });\n",
    "        \"\"\" % (self.uuid, self.json_str), raw=True)"
   ]
  },
  {
   "cell_type": "code",
   "execution_count": 13,
   "metadata": {
    "collapsed": false,
    "slideshow": {
     "slide_type": "skip"
    }
   },
   "outputs": [
    {
     "name": "stdout",
     "output_type": "stream",
     "text": [
      "{\"acknowledged\":true}\n"
     ]
    }
   ],
   "source": [
    "import requests\n",
    "\n",
    "\n",
    "index_options = '''\n",
    "{ \n",
    "  \"mappings\" : { \n",
    "      \"serie\" : {\n",
    "        \"properties\" : {\n",
    "          \"_links\" : {\n",
    "            \"properties\" : {\n",
    "              \"nextepisode\" : {\n",
    "                \"properties\" : {\n",
    "                  \"href\" : {\n",
    "                    \"type\" : \"string\",\n",
    "                    \"index\" : \"no\"\n",
    "                  }\n",
    "                }\n",
    "              },\n",
    "              \"previousepisode\" : {\n",
    "                \"properties\" : {\n",
    "                  \"href\" : {\n",
    "                    \"type\" : \"string\",\n",
    "                    \"index\" : \"no\"\n",
    "                  }\n",
    "                }\n",
    "              },\n",
    "              \"self\" : {\n",
    "                \"properties\" : {\n",
    "                  \"href\" : {\n",
    "                    \"type\" : \"string\",\n",
    "                    \"index\" : \"no\"\n",
    "                   }\n",
    "                }\n",
    "              }\n",
    "            }\n",
    "          },\n",
    "          \"externals\" : {\n",
    "            \"properties\" : {\n",
    "              \"imdb\" : {\n",
    "                \"type\" : \"string\",\n",
    "                \"index\" : \"no\"\n",
    "              },\n",
    "              \"thetvdb\" : {\n",
    "                \"type\" : \"long\",\n",
    "                \"index\": \"no\"\n",
    "              },\n",
    "              \"tvrage\" : {\n",
    "                \"type\" : \"long\",\n",
    "                \"index\": \"no\"\n",
    "              }\n",
    "            }\n",
    "          },\n",
    "          \"genres\" : {\n",
    "            \"type\" : \"string\",\n",
    "            \"index\": \"not_analyzed\"\n",
    "          },\n",
    "          \"id\" : {\n",
    "            \"type\" : \"long\"\n",
    "          },\n",
    "          \"image\" : {\n",
    "            \"properties\" : {\n",
    "              \"medium\" : {\n",
    "                \"type\" : \"string\",\n",
    "                \"index\": \"no\"\n",
    "              },\n",
    "              \"original\" : {\n",
    "                \"type\" : \"string\",\n",
    "                \"index\": \"no\"\n",
    "              }\n",
    "            }\n",
    "          },\n",
    "          \"language\" : {\n",
    "            \"type\" : \"string\",\n",
    "            \"index\": \"not_analyzed\"\n",
    "          },\n",
    "          \"name\" : {\n",
    "            \"type\" : \"string\"\n",
    "          },\n",
    "          \"network\" : {\n",
    "            \"properties\" : {\n",
    "              \"country\" : {\n",
    "                \"properties\" : {\n",
    "                  \"code\" : {\n",
    "                    \"type\" : \"string\",\n",
    "                    \"index\": \"not_analyzed\"\n",
    "                  },\n",
    "                  \"name\" : {\n",
    "                    \"type\" : \"string\"\n",
    "                  },\n",
    "                  \"timezone\" : {\n",
    "                    \"type\" : \"string\",\n",
    "                    \"index\": \"not_analyzed\"\n",
    "                  }\n",
    "                }\n",
    "              },\n",
    "              \"id\" : {\n",
    "                \"type\" : \"long\"\n",
    "              },\n",
    "              \"name\" : {\n",
    "                \"type\" : \"string\"\n",
    "              }\n",
    "            }\n",
    "          },\n",
    "          \"premiered\" : {\n",
    "            \"type\" : \"date\",\n",
    "            \"format\" : \"strict_date_optional_time||epoch_millis\"\n",
    "          },\n",
    "          \"rating\" : {\n",
    "            \"properties\" : {\n",
    "              \"average\" : {\n",
    "                \"type\" : \"double\"\n",
    "              }\n",
    "            }\n",
    "          },\n",
    "          \"runtime\" : {\n",
    "            \"type\" : \"long\"\n",
    "          },\n",
    "          \"schedule\" : {\n",
    "            \"properties\" : {\n",
    "              \"days\" : {\n",
    "                \"type\" : \"string\",\n",
    "                \"index\": \"not_analyzed\"\n",
    "              },\n",
    "              \"time\" : {\n",
    "                \"type\" : \"date\",\n",
    "                \"format\" : \"hour_minute\",\n",
    "                \"ignore_malformed\": true\n",
    "              }\n",
    "            }\n",
    "          },\n",
    "          \"status\" : {\n",
    "            \"type\" : \"string\",\n",
    "            \"index\": \"not_analyzed\"            \n",
    "          },\n",
    "          \"summary\" : {\n",
    "            \"type\" : \"string\",\n",
    "            \"index\": \"analyzed\",\n",
    "            \"analyzer\": \"english\"\n",
    "          },\n",
    "          \"type\" : {\n",
    "            \"type\" : \"string\",\n",
    "            \"index\": \"not_analyzed\"            \n",
    "          },\n",
    "          \"updated\" : {\n",
    "            \"type\" : \"long\"\n",
    "          },\n",
    "          \"url\" : {\n",
    "            \"type\" : \"string\",\n",
    "            \"index\": \"not_analyzed\"            \n",
    "          },\n",
    "          \"webChannel\" : {\n",
    "            \"properties\" : {\n",
    "              \"country\" : {\n",
    "                \"properties\" : {\n",
    "                  \"code\" : {\n",
    "                    \"type\" : \"string\",\n",
    "                    \"index\": \"not_analyzed\"\n",
    "                  },\n",
    "                  \"name\" : {\n",
    "                    \"type\" : \"string\"\n",
    "                  },\n",
    "                  \"timezone\" : {\n",
    "                    \"type\" : \"string\",\n",
    "                    \"index\": \"not_analyzed\"\n",
    "                  }\n",
    "                }\n",
    "              },\n",
    "              \"id\" : {\n",
    "                \"type\" : \"long\"\n",
    "              },\n",
    "              \"name\" : {\n",
    "                \"type\" : \"string\"\n",
    "              }\n",
    "            }\n",
    "          },\n",
    "          \"weight\" : {\n",
    "            \"type\" : \"long\"\n",
    "          }\n",
    "        }\n",
    "      }\n",
    "    }\n",
    "  } \n",
    "'''\n",
    "\n",
    "requests.delete('http://localhost:9200/my_tvseries')\n",
    "\n",
    "requests.delete('http://localhost:9200/tvseries')\n",
    "\n",
    "r = requests.post('http://localhost:9200/tvseries', data = index_options)\n",
    "print r.text"
   ]
  },
  {
   "cell_type": "code",
   "execution_count": 14,
   "metadata": {
    "collapsed": false
   },
   "outputs": [
    {
     "name": "stderr",
     "output_type": "stream",
     "text": [
      "WARNING:requests.packages.urllib3.connectionpool:Connection pool is full, discarding connection: localhost\n",
      "WARNING:requests.packages.urllib3.connectionpool:Connection pool is full, discarding connection: localhost\n"
     ]
    },
    {
     "name": "stdout",
     "output_type": "stream",
     "text": [
      "breaking bad indexed: {\"_index\":\"tvseries\",\"_type\":\"serie\",\"_id\":\"169\",\"_version\":1,\"_shards\":{\"total\":1,\"successful\":1,\"failed\":0},\"created\":true}\n",
      "blindspot indexed: {\"_index\":\"tvseries\",\"_type\":\"serie\",\"_id\":\"1855\",\"_version\":1,\"_shards\":{\"total\":1,\"successful\":1,\"failed\":0},\"created\":true}"
     ]
    },
    {
     "name": "stderr",
     "output_type": "stream",
     "text": [
      "WARNING:requests.packages.urllib3.connectionpool:Connection pool is full, discarding connection: localhost\n"
     ]
    },
    {
     "name": "stdout",
     "output_type": "stream",
     "text": [
      "\n",
      "the knick indexed: {\"_index\":\"tvseries\",\"_type\":\"serie\",\"_id\":\"51\",\"_version\":1,\"_shards\":{\"total\":1,\"successful\":1,\"failed\":0},\"created\":true}"
     ]
    },
    {
     "name": "stderr",
     "output_type": "stream",
     "text": [
      "WARNING:requests.packages.urllib3.connectionpool:Connection pool is full, discarding connection: localhost\n"
     ]
    },
    {
     "name": "stdout",
     "output_type": "stream",
     "text": [
      "\n",
      "house of cards indexed: {\"_index\":\"tvseries\",\"_type\":\"serie\",\"_id\":\"175\",\"_version\":1,\"_shards\":{\"total\":1,\"successful\":1,\"failed\":0},\"created\":true}"
     ]
    },
    {
     "name": "stderr",
     "output_type": "stream",
     "text": [
      "WARNING:requests.packages.urllib3.connectionpool:Connection pool is full, discarding connection: localhost\n"
     ]
    },
    {
     "name": "stdout",
     "output_type": "stream",
     "text": [
      "\n",
      "orange is the new black indexed: {\"_index\":\"tvseries\",\"_type\":\"serie\",\"_id\":\"170\",\"_version\":1,\"_shards\":{\"total\":1,\"successful\":1,\"failed\":0},\"created\":true}"
     ]
    },
    {
     "name": "stderr",
     "output_type": "stream",
     "text": [
      "WARNING:requests.packages.urllib3.connectionpool:Connection pool is full, discarding connection: localhost\n"
     ]
    },
    {
     "name": "stdout",
     "output_type": "stream",
     "text": [
      "\n",
      "true detective indexed: {\"_index\":\"tvseries\",\"_type\":\"serie\",\"_id\":\"5\",\"_version\":1,\"_shards\":{\"total\":1,\"successful\":1,\"failed\":0},\"created\":true}"
     ]
    },
    {
     "name": "stderr",
     "output_type": "stream",
     "text": [
      "WARNING:requests.packages.urllib3.connectionpool:Connection pool is full, discarding connection: localhost\n"
     ]
    },
    {
     "name": "stdout",
     "output_type": "stream",
     "text": [
      "\n",
      "game of thrones indexed: {\"_index\":\"tvseries\",\"_type\":\"serie\",\"_id\":\"82\",\"_version\":1,\"_shards\":{\"total\":1,\"successful\":1,\"failed\":0},\"created\":true}"
     ]
    },
    {
     "name": "stderr",
     "output_type": "stream",
     "text": [
      "WARNING:requests.packages.urllib3.connectionpool:Connection pool is full, discarding connection: localhost\n"
     ]
    },
    {
     "name": "stdout",
     "output_type": "stream",
     "text": [
      "\n",
      "the tudors indexed: {\"_index\":\"tvseries\",\"_type\":\"serie\",\"_id\":\"712\",\"_version\":1,\"_shards\":{\"total\":1,\"successful\":1,\"failed\":0},\"created\":true}"
     ]
    },
    {
     "name": "stderr",
     "output_type": "stream",
     "text": [
      "WARNING:requests.packages.urllib3.connectionpool:Connection pool is full, discarding connection: localhost\n"
     ]
    },
    {
     "name": "stdout",
     "output_type": "stream",
     "text": [
      "\n",
      "isabel indexed: {\"_index\":\"tvseries\",\"_type\":\"serie\",\"_id\":\"9274\",\"_version\":1,\"_shards\":{\"total\":1,\"successful\":1,\"failed\":0},\"created\":true}"
     ]
    },
    {
     "name": "stderr",
     "output_type": "stream",
     "text": [
      "WARNING:requests.packages.urllib3.connectionpool:Connection pool is full, discarding connection: localhost\n"
     ]
    },
    {
     "name": "stdout",
     "output_type": "stream",
     "text": [
      "\n",
      "versailles indexed: {\"_index\":\"tvseries\",\"_type\":\"serie\",\"_id\":\"3386\",\"_version\":1,\"_shards\":{\"total\":1,\"successful\":1,\"failed\":0},\"created\":true}"
     ]
    },
    {
     "name": "stderr",
     "output_type": "stream",
     "text": [
      "WARNING:requests.packages.urllib3.connectionpool:Connection pool is full, discarding connection: localhost\n"
     ]
    },
    {
     "name": "stdout",
     "output_type": "stream",
     "text": [
      "\n",
      "los serrano indexed: {\"_index\":\"tvseries\",\"_type\":\"serie\",\"_id\":\"6346\",\"_version\":1,\"_shards\":{\"total\":1,\"successful\":1,\"failed\":0},\"created\":true}\n"
     ]
    }
   ],
   "source": [
    "series = ['breaking bad','blindspot','the knick','house of cards', 'orange is the new black',\n",
    "          'true detective', 'game of thrones',\n",
    "          'the tudors','isabel', 'versailles', 'los serrano']\n",
    "\n",
    "for s in series:  \n",
    "  data = requests.get('http://api.tvmaze.com/singlesearch/shows?q=' + s ) \n",
    "  id = data.json()['id']\n",
    "  response = requests.post('http://localhost:9200/tvseries/serie/' + str(id), data = data)\n",
    "  print s + \" indexed: \" + response.text "
   ]
  },
  {
   "cell_type": "markdown",
   "metadata": {
    "slideshow": {
     "slide_type": "slide"
    }
   },
   "source": [
    "## Objetivos\n",
    "\n",
    " - Entender la arquitectura de un buscador\n",
    " - Comprender como analizar, indizar y formular busquedas para diferentes aplicaciones \n",
    " - Comprender como se implementa la relevancia en ES \n",
    " - Entender como usar las opciones de relevancia para optimizar los resultados de búsqueda"
   ]
  },
  {
   "cell_type": "markdown",
   "metadata": {
    "slideshow": {
     "slide_type": "slide"
    }
   },
   "source": [
    "## Arquitectura de un buscador\n",
    "\n",
    "[TODO] Imagen\n"
   ]
  },
  {
   "cell_type": "markdown",
   "metadata": {
    "slideshow": {
     "slide_type": "slide"
    }
   },
   "source": [
    "## Búsqueda en ES\n",
    "\n",
    "Soporta diferentes operaciones/tipos de busqueda:\n",
    "  - Búsqueda estructurada: \n",
    "      - Operadores de seleccion: a.k.a *SELECT* \n",
    "      - Operadores de filtrado:  a.k.a *WHERE*\n",
    "  - **Búsqueda de texto completo** - mas potente que *WHERE c LIKE \"regexp\"* \n",
    "  - Agregación - pero diferente a *GROUP BY* \n",
    "  - **Ordenación** - si bien el orden suele definirse al indexar y segun el tipo - vs *SORT BY* \n",
    "  - Paginación - en contraste con *LIMIT*\n"
   ]
  },
  {
   "cell_type": "markdown",
   "metadata": {
    "slideshow": {
     "slide_type": "slide"
    }
   },
   "source": [
    "## Operadores de búsqueda - QueryDSL\n",
    "\n",
    " - Query context: “How well does this document match this query clause?” \n",
    " - Filter contex: “Does this document match this query clause?” \n",
    " \n"
   ]
  },
  {
   "cell_type": "markdown",
   "metadata": {
    "collapsed": true,
    "slideshow": {
     "slide_type": "subslide"
    }
   },
   "source": [
    "### Query DSL - búsqueda de texto completo"
   ]
  },
  {
   "cell_type": "code",
   "execution_count": 17,
   "metadata": {
    "collapsed": false,
    "slideshow": {
     "slide_type": "-"
    }
   },
   "outputs": [
    {
     "data": {
      "text/html": [
       "<div id=\"06acf5c0-ef17-4ea9-977b-8fbc28c2577e\" style=\"height: 600px; width:100%;\"></div>"
      ]
     },
     "metadata": {},
     "output_type": "display_data"
    },
    {
     "data": {
      "application/javascript": [
       "\n",
       "        require([\"https://rawgit.com/caldwell/renderjson/master/renderjson.js\"], function() {\n",
       "          document.getElementById('06acf5c0-ef17-4ea9-977b-8fbc28c2577e').appendChild(renderjson({\"hits\": {\"hits\": [{\"_score\": 1.0, \"_type\": \"serie\", \"_id\": \"169\", \"_source\": {\"status\": \"Ended\", \"rating\": {\"average\": 9.3}, \"genres\": [\"Drama\", \"Crime\", \"Thriller\"], \"weight\": 3, \"updated\": 1451250971, \"name\": \"Breaking Bad\", \"language\": \"English\", \"schedule\": {\"days\": [\"Sunday\"], \"time\": \"22:00\"}, \"url\": \"http://www.tvmaze.com/shows/169/breaking-bad\", \"image\": {\"medium\": \"http://tvmazecdn.com/uploads/images/medium_portrait/0/2400.jpg\", \"original\": \"http://tvmazecdn.com/uploads/images/original_untouched/0/2400.jpg\"}, \"externals\": {\"thetvdb\": 81189, \"tvrage\": 18164, \"imdb\": \"tt0903747\"}, \"premiered\": \"2008-01-20\", \"summary\": \"<p><em><strong>\\\"Breaking Bad\\\"</strong></em> follows protagonist Walter White, a chemistry teacher who lives in New Mexico with his wife and teenage son who has cerebral palsy. White is diagnosed with Stage III cancer and given a prognosis of two years left to live. With a new sense of fearlessness based on his medical prognosis, and a desire to secure his family's financial security, White chooses to enter a dangerous world of drugs and crime and ascends to power in this world. The series explores how a fatal diagnosis such as White's releases a typical man from the daily concerns and constraints of normal society and follows his transformation from mild family man to a kingpin of the drug trade.</p>\", \"_links\": {\"previousepisode\": {\"href\": \"http://api.tvmaze.com/episodes/12253\"}, \"self\": {\"href\": \"http://api.tvmaze.com/shows/169\"}}, \"webChannel\": null, \"runtime\": 60, \"type\": \"Scripted\", \"id\": 169, \"network\": {\"country\": {\"timezone\": \"America/New_York\", \"code\": \"US\", \"name\": \"United States\"}, \"id\": 20, \"name\": \"AMC\"}}, \"_index\": \"tvseries\"}, {\"_score\": 1.0, \"_type\": \"serie\", \"_id\": \"1855\", \"_source\": {\"status\": \"Running\", \"rating\": {\"average\": 7.8}, \"genres\": [\"Action\", \"Crime\", \"Thriller\", \"Mystery\"], \"weight\": 11, \"updated\": 1455891788, \"name\": \"Blindspot\", \"language\": \"English\", \"schedule\": {\"days\": [\"Monday\"], \"time\": \"22:00\"}, \"url\": \"http://www.tvmaze.com/shows/1855/blindspot\", \"image\": {\"medium\": \"http://tvmazecdn.com/uploads/images/medium_portrait/28/70723.jpg\", \"original\": \"http://tvmazecdn.com/uploads/images/original_untouched/28/70723.jpg\"}, \"externals\": {\"thetvdb\": 295647, \"tvrage\": 44628, \"imdb\": \"tt4474344\"}, \"premiered\": \"2015-09-21\", \"summary\": \"<p>A beautiful woman, with no memories of her past, is found naked in Times\\n Square with her body fully covered in intricate tattoos. Her discovery \\nsets off a vast and complex mystery that immediately ignites the \\nattention of the FBI, which begins to follow the road map on her body \\ninto a larger conspiracy of crime, while bringing her closer to \\ndiscovering the truth about her identity.</p>\", \"_links\": {\"previousepisode\": {\"href\": \"http://api.tvmaze.com/episodes/410719\"}, \"self\": {\"href\": \"http://api.tvmaze.com/shows/1855\"}, \"nextepisode\": {\"href\": \"http://api.tvmaze.com/episodes/536750\"}}, \"webChannel\": null, \"runtime\": 60, \"type\": \"Scripted\", \"id\": 1855, \"network\": {\"country\": {\"timezone\": \"America/New_York\", \"code\": \"US\", \"name\": \"United States\"}, \"id\": 1, \"name\": \"NBC\"}}, \"_index\": \"tvseries\"}, {\"_score\": 1.0, \"_type\": \"serie\", \"_id\": \"51\", \"_source\": {\"status\": \"To Be Determined\", \"rating\": {\"average\": 8.7}, \"genres\": [\"Drama\", \"Medical\"], \"weight\": 2, \"updated\": 1455121010, \"name\": \"The Knick\", \"language\": \"English\", \"schedule\": {\"days\": [\"Friday\"], \"time\": \"22:00\"}, \"url\": \"http://www.tvmaze.com/shows/51/the-knick\", \"image\": {\"medium\": \"http://tvmazecdn.com/uploads/images/medium_portrait/0/417.jpg\", \"original\": \"http://tvmazecdn.com/uploads/images/original_untouched/0/417.jpg\"}, \"externals\": {\"thetvdb\": 279977, \"tvrage\": 36033, \"imdb\": \"tt2937900\"}, \"premiered\": \"2014-08-08\", \"summary\": \"<p>New York City, 1900: The Knickerbocker Hospital is home to groundbreaking surgeons, nurses and staff who push the boundaries of medicine in a time of astonishingly high mortality rates and zero antibiotics. The newly appointed leader of the surgery staff is the brilliant, arrogant renegade Dr. John Thackery, whose addiction to cocaine and opium is trumped only by his ambition for medical discovery and renown among his peers. Into the all-white staff and patient hospital comes the equally gifted Harvard graduate Dr. Algernon Edwards, who must fight for respect while trying to navigate the racially charged city. Trying to maintain its reputation for quality care while realizing a profit, the Knickerbocker makes an effort to attract wealthy clientele, while literally struggling to keep the lights on.</p>\", \"_links\": {\"previousepisode\": {\"href\": \"http://api.tvmaze.com/episodes/213032\"}, \"self\": {\"href\": \"http://api.tvmaze.com/shows/51\"}}, \"webChannel\": null, \"runtime\": 60, \"type\": \"Scripted\", \"id\": 51, \"network\": {\"country\": {\"timezone\": \"America/New_York\", \"code\": \"US\", \"name\": \"United States\"}, \"id\": 19, \"name\": \"Cinemax\"}}, \"_index\": \"tvseries\"}, {\"_score\": 1.0, \"_type\": \"serie\", \"_id\": \"175\", \"_source\": {\"status\": \"Running\", \"rating\": {\"average\": 8.9}, \"genres\": [\"Drama\", \"Thriller\"], \"weight\": 7, \"updated\": 1454549570, \"name\": \"House of Cards\", \"language\": \"English\", \"schedule\": {\"days\": [\"Friday\"], \"time\": \"00:01\"}, \"url\": \"http://www.tvmaze.com/shows/175/house-of-cards\", \"image\": {\"medium\": \"http://tvmazecdn.com/uploads/images/medium_portrait/0/2460.jpg\", \"original\": \"http://tvmazecdn.com/uploads/images/original_untouched/0/2460.jpg\"}, \"externals\": {\"thetvdb\": 262980, \"tvrage\": 27822, \"imdb\": \"tt1856010\"}, \"premiered\": \"2013-02-01\", \"summary\": \"<p>A Congressman works with his equally conniving wife to exact revenge on the people who betrayed him.</p>\", \"_links\": {\"previousepisode\": {\"href\": \"http://api.tvmaze.com/episodes/57773\"}, \"self\": {\"href\": \"http://api.tvmaze.com/shows/175\"}, \"nextepisode\": {\"href\": \"http://api.tvmaze.com/episodes/436756\"}}, \"webChannel\": {\"country\": {\"timezone\": \"America/New_York\", \"code\": \"US\", \"name\": \"United States\"}, \"id\": 1, \"name\": \"Netflix\"}, \"runtime\": 60, \"type\": \"Scripted\", \"id\": 175, \"network\": null}, \"_index\": \"tvseries\"}, {\"_score\": 1.0, \"_type\": \"serie\", \"_id\": \"170\", \"_source\": {\"status\": \"Running\", \"rating\": {\"average\": 8.4}, \"genres\": [\"Drama\", \"Comedy\", \"Crime\"], \"weight\": 3, \"updated\": 1453253701, \"name\": \"Orange is the New Black\", \"language\": \"English\", \"schedule\": {\"days\": [\"Friday\"], \"time\": \"00:01\"}, \"url\": \"http://www.tvmaze.com/shows/170/orange-is-the-new-black\", \"image\": {\"medium\": \"http://tvmazecdn.com/uploads/images/medium_portrait/0/2414.jpg\", \"original\": \"http://tvmazecdn.com/uploads/images/original_untouched/0/2414.jpg\"}, \"externals\": {\"thetvdb\": 264586, \"tvrage\": 32950, \"imdb\": \"tt2372162\"}, \"premiered\": \"2013-07-11\", \"summary\": \"<p>The story of Piper Chapman, a woman in her thirties who is sentenced to fifteen months in prison after being convicted of a decade-old crime of transporting money for her drug-dealing girlfriend.</p>\", \"_links\": {\"previousepisode\": {\"href\": \"http://api.tvmaze.com/episodes/143007\"}, \"self\": {\"href\": \"http://api.tvmaze.com/shows/170\"}, \"nextepisode\": {\"href\": \"http://api.tvmaze.com/episodes/574624\"}}, \"webChannel\": {\"country\": {\"timezone\": \"America/New_York\", \"code\": \"US\", \"name\": \"United States\"}, \"id\": 1, \"name\": \"Netflix\"}, \"runtime\": 60, \"type\": \"Scripted\", \"id\": 170, \"network\": null}, \"_index\": \"tvseries\"}, {\"_score\": 1.0, \"_type\": \"serie\", \"_id\": \"5\", \"_source\": {\"status\": \"To Be Determined\", \"rating\": {\"average\": 8.5}, \"genres\": [\"Drama\", \"Crime\", \"Thriller\", \"Mystery\"], \"weight\": 4, \"updated\": 1455233815, \"name\": \"True Detective\", \"language\": \"English\", \"schedule\": {\"days\": [\"Sunday\"], \"time\": \"21:00\"}, \"url\": \"http://www.tvmaze.com/shows/5/true-detective\", \"image\": {\"medium\": \"http://tvmazecdn.com/uploads/images/medium_portrait/0/61.jpg\", \"original\": \"http://tvmazecdn.com/uploads/images/original_untouched/0/61.jpg\"}, \"externals\": {\"thetvdb\": 270633, \"tvrage\": 31369, \"imdb\": \"tt2356777\"}, \"premiered\": \"2014-01-12\", \"summary\": \"<p>The series stars Matthew McConaughey and Woody Harrelson as Louisiana detectives Rust Cohle and Martin Hart, whose lives collide and entwine during a 17-year hunt for a killer, ranging from the original investigation of a bizarre murder in 1995 to the reopening of the case in 2012. Michelle Monaghan also stars as Hart's wife, Maggie, who struggles to keep her family together as the men in her life become locked in a cycle of violence and obsession.</p>\", \"_links\": {\"previousepisode\": {\"href\": \"http://api.tvmaze.com/episodes/182325\"}, \"self\": {\"href\": \"http://api.tvmaze.com/shows/5\"}}, \"webChannel\": null, \"runtime\": 60, \"type\": \"Scripted\", \"id\": 5, \"network\": {\"country\": {\"timezone\": \"America/New_York\", \"code\": \"US\", \"name\": \"United States\"}, \"id\": 8, \"name\": \"HBO\"}}, \"_index\": \"tvseries\"}, {\"_score\": 1.0, \"_type\": \"serie\", \"_id\": \"82\", \"_source\": {\"status\": \"Running\", \"rating\": {\"average\": 9.4}, \"genres\": [\"Drama\", \"Adventure\", \"Fantasy\"], \"weight\": 14, \"updated\": 1454051645, \"name\": \"Game of Thrones\", \"language\": \"English\", \"schedule\": {\"days\": [\"Sunday\"], \"time\": \"21:00\"}, \"url\": \"http://www.tvmaze.com/shows/82/game-of-thrones\", \"image\": {\"medium\": \"http://tvmazecdn.com/uploads/images/medium_portrait/0/581.jpg\", \"original\": \"http://tvmazecdn.com/uploads/images/original_untouched/0/581.jpg\"}, \"externals\": {\"thetvdb\": 121361, \"tvrage\": 24493, \"imdb\": \"tt0944947\"}, \"premiered\": \"2011-04-17\", \"summary\": \"<p>Based on the bestselling book series A Song of Ice and Fire by George R.R. Martin, this sprawling new HBO drama is set in a world where summers span decades and winters can last a lifetime. From the scheming south and the savage eastern lands, to the frozen north and ancient Wall that protects the realm from the mysterious darkness beyond, the powerful families of the Seven Kingdoms are locked in a battle for the Iron Throne. This is a story of duplicity and treachery, nobility and honor, conquest and triumph. In the <strong><em>\\\"Game of Thrones\\\"</em></strong>, you either win or you die.</p>\", \"_links\": {\"previousepisode\": {\"href\": \"http://api.tvmaze.com/episodes/162186\"}, \"self\": {\"href\": \"http://api.tvmaze.com/shows/82\"}, \"nextepisode\": {\"href\": \"http://api.tvmaze.com/episodes/560813\"}}, \"webChannel\": null, \"runtime\": 60, \"type\": \"Scripted\", \"id\": 82, \"network\": {\"country\": {\"timezone\": \"America/New_York\", \"code\": \"US\", \"name\": \"United States\"}, \"id\": 8, \"name\": \"HBO\"}}, \"_index\": \"tvseries\"}, {\"_score\": 1.0, \"_type\": \"serie\", \"_id\": \"712\", \"_source\": {\"status\": \"Ended\", \"rating\": {\"average\": 8.7}, \"genres\": [\"Drama\", \"History\"], \"weight\": 0, \"updated\": 1449500544, \"name\": \"The Tudors\", \"language\": \"English\", \"schedule\": {\"days\": [], \"time\": \"21:00\"}, \"url\": \"http://www.tvmaze.com/shows/712/the-tudors\", \"image\": {\"medium\": \"http://tvmazecdn.com/uploads/images/medium_portrait/6/15022.jpg\", \"original\": \"http://tvmazecdn.com/uploads/images/original_untouched/6/15022.jpg\"}, \"externals\": {\"thetvdb\": 79925, \"tvrage\": 7927, \"imdb\": \"tt0758790\"}, \"premiered\": \"2007-04-01\", \"summary\": \"<p>The final season will consist of 10, one-hour episodes and center on his tumultuous relationships with his last two wives, Catherine Howard and Catherine Parr, and his final descent into madness.</p>\", \"_links\": {\"previousepisode\": {\"href\": \"http://api.tvmaze.com/episodes/62894\"}, \"self\": {\"href\": \"http://api.tvmaze.com/shows/712\"}}, \"webChannel\": null, \"runtime\": 60, \"type\": \"Scripted\", \"id\": 712, \"network\": {\"country\": {\"timezone\": \"America/New_York\", \"code\": \"US\", \"name\": \"United States\"}, \"id\": 9, \"name\": \"Showtime\"}}, \"_index\": \"tvseries\"}, {\"_score\": 1.0, \"_type\": \"serie\", \"_id\": \"9274\", \"_source\": {\"status\": \"Ended\", \"rating\": {\"average\": null}, \"genres\": [\"Drama\"], \"weight\": 0, \"updated\": 1455109198, \"name\": \"Isabel\", \"language\": \"Spanish\", \"schedule\": {\"days\": [], \"time\": \"\"}, \"url\": \"http://www.tvmaze.com/shows/9274/isabel\", \"image\": {\"medium\": \"http://tvmazecdn.com/uploads/images/medium_portrait/32/81594.jpg\", \"original\": \"http://tvmazecdn.com/uploads/images/original_untouched/32/81594.jpg\"}, \"externals\": {\"thetvdb\": 262381, \"tvrage\": 32792, \"imdb\": \"tt2011533\"}, \"premiered\": \"2012-09-10\", \"summary\": \"<p>Life of Isabella I of Castile, also known as Isabella the Catholic.</p>\", \"_links\": {\"previousepisode\": {\"href\": \"http://api.tvmaze.com/episodes/501878\"}, \"self\": {\"href\": \"http://api.tvmaze.com/shows/9274\"}}, \"webChannel\": null, \"runtime\": 60, \"type\": \"Scripted\", \"id\": 9274, \"network\": {\"country\": {\"timezone\": \"Europe/Madrid\", \"code\": \"ES\", \"name\": \"Spain\"}, \"id\": 147, \"name\": \"RTVE\"}}, \"_index\": \"tvseries\"}, {\"_score\": 1.0, \"_type\": \"serie\", \"_id\": \"3386\", \"_source\": {\"status\": \"Running\", \"rating\": {\"average\": 9.3}, \"genres\": [\"Drama\", \"History\"], \"weight\": 2, \"updated\": 1450525730, \"name\": \"Versailles\", \"language\": \"English\", \"schedule\": {\"days\": [], \"time\": \"\"}, \"url\": \"http://www.tvmaze.com/shows/3386/versailles\", \"image\": {\"medium\": \"http://tvmazecdn.com/uploads/images/medium_portrait/34/86312.jpg\", \"original\": \"http://tvmazecdn.com/uploads/images/original_untouched/34/86312.jpg\"}, \"externals\": {\"thetvdb\": 300280, \"tvrage\": null, \"imdb\": \"tt3830558\"}, \"premiered\": \"2015-11-16\", \"summary\": \"<p>Versailles, 1667. Louis XIV was 28 years old. To rise to the heights of the nobility and wield its absolute power, he launched the construction of Versailles... it proved to be a snare. Louis XIV is a young King haunted by childhood trauma, the Fronde civil, a rebellion of the nobility against his father, Louis XIII... It will prove be a strategic policy out of the ordinary, manipulative, Machiavellian, and he will \\\"invent\\\" Versailles for the nobles of Paris, to keep them under control, and gradually transform the castle into a golden prison. But how will Louis live as the greatest King in the world?</p><p> Historical fiction of the court figures and the more humble villagers, guiding us in a world of betrayals and secrets, politicking and declarations of love.</p>\", \"_links\": {\"previousepisode\": {\"href\": \"http://api.tvmaze.com/episodes/471693\"}, \"self\": {\"href\": \"http://api.tvmaze.com/shows/3386\"}}, \"webChannel\": null, \"runtime\": 60, \"type\": \"Scripted\", \"id\": 3386, \"network\": {\"country\": {\"timezone\": \"Europe/Paris\", \"code\": \"FR\", \"name\": \"France\"}, \"id\": 105, \"name\": \"Canal+\"}}, \"_index\": \"tvseries\"}], \"total\": 11, \"max_score\": 1.0}, \"_shards\": {\"successful\": 1, \"failed\": 0, \"total\": 1}, \"took\": 2, \"timed_out\": false}))\n",
       "        });\n",
       "        "
      ]
     },
     "metadata": {},
     "output_type": "display_data"
    }
   ],
   "source": [
    "import requests\n",
    "\n",
    "payload = \"\"\"\n",
    "{\n",
    "  \"query\" : {\n",
    "     \"match_all\" : { }\n",
    "  }\n",
    "}\n",
    "\"\"\"\n",
    "\n",
    "r = requests.get('http://localhost:9200/tvseries/serie/_search', data = payload)\n",
    "RenderJSON(r.json())"
   ]
  },
  {
   "cell_type": "markdown",
   "metadata": {},
   "source": [
    "### Query DSL - Enviando cadenas de búsqueda "
   ]
  },
  {
   "cell_type": "code",
   "execution_count": 18,
   "metadata": {
    "collapsed": false
   },
   "outputs": [
    {
     "data": {
      "text/html": [
       "<div id=\"1be9256e-d287-44ae-812c-ee081ae9c684\" style=\"height: 600px; width:100%;\"></div>"
      ]
     },
     "metadata": {},
     "output_type": "display_data"
    },
    {
     "data": {
      "application/javascript": [
       "\n",
       "        require([\"https://rawgit.com/caldwell/renderjson/master/renderjson.js\"], function() {\n",
       "          document.getElementById('1be9256e-d287-44ae-812c-ee081ae9c684').appendChild(renderjson({\"hits\": {\"hits\": [{\"_score\": 1.4541402, \"_type\": \"serie\", \"_id\": \"169\", \"_source\": {\"status\": \"Ended\", \"rating\": {\"average\": 9.3}, \"genres\": [\"Drama\", \"Crime\", \"Thriller\"], \"weight\": 3, \"updated\": 1451250971, \"name\": \"Breaking Bad\", \"language\": \"English\", \"schedule\": {\"days\": [\"Sunday\"], \"time\": \"22:00\"}, \"url\": \"http://www.tvmaze.com/shows/169/breaking-bad\", \"image\": {\"medium\": \"http://tvmazecdn.com/uploads/images/medium_portrait/0/2400.jpg\", \"original\": \"http://tvmazecdn.com/uploads/images/original_untouched/0/2400.jpg\"}, \"externals\": {\"thetvdb\": 81189, \"tvrage\": 18164, \"imdb\": \"tt0903747\"}, \"premiered\": \"2008-01-20\", \"summary\": \"<p><em><strong>\\\"Breaking Bad\\\"</strong></em> follows protagonist Walter White, a chemistry teacher who lives in New Mexico with his wife and teenage son who has cerebral palsy. White is diagnosed with Stage III cancer and given a prognosis of two years left to live. With a new sense of fearlessness based on his medical prognosis, and a desire to secure his family's financial security, White chooses to enter a dangerous world of drugs and crime and ascends to power in this world. The series explores how a fatal diagnosis such as White's releases a typical man from the daily concerns and constraints of normal society and follows his transformation from mild family man to a kingpin of the drug trade.</p>\", \"_links\": {\"previousepisode\": {\"href\": \"http://api.tvmaze.com/episodes/12253\"}, \"self\": {\"href\": \"http://api.tvmaze.com/shows/169\"}}, \"webChannel\": null, \"runtime\": 60, \"type\": \"Scripted\", \"id\": 169, \"network\": {\"country\": {\"timezone\": \"America/New_York\", \"code\": \"US\", \"name\": \"United States\"}, \"id\": 20, \"name\": \"AMC\"}}, \"_index\": \"tvseries\"}], \"total\": 1, \"max_score\": 1.4541402}, \"_shards\": {\"successful\": 1, \"failed\": 0, \"total\": 1}, \"took\": 40, \"timed_out\": false}))\n",
       "        });\n",
       "        "
      ]
     },
     "metadata": {},
     "output_type": "display_data"
    }
   ],
   "source": [
    "import requests\n",
    "\n",
    "payload = \"\"\"\n",
    "{\n",
    "  \"query\" : {\n",
    "     \"query_string\" : { \"query\" : \"name:'Breaking Bad'\" }\n",
    "  }\n",
    "}\n",
    "\"\"\"\n",
    "\n",
    "r = requests.get('http://localhost:9200/tvseries/serie/_search', data = payload)\n",
    "RenderJSON(r.json())"
   ]
  },
  {
   "cell_type": "code",
   "execution_count": 25,
   "metadata": {
    "collapsed": false,
    "slideshow": {
     "slide_type": "subslide"
    }
   },
   "outputs": [
    {
     "data": {
      "text/html": [
       "<div id=\"89170cbb-19db-4b1d-a5ac-691f0ac1bedd\" style=\"height: 600px; width:100%;\"></div>"
      ]
     },
     "metadata": {},
     "output_type": "display_data"
    },
    {
     "data": {
      "application/javascript": [
       "\n",
       "        require([\"https://rawgit.com/caldwell/renderjson/master/renderjson.js\"], function() {\n",
       "          document.getElementById('89170cbb-19db-4b1d-a5ac-691f0ac1bedd').appendChild(renderjson({\"hits\": {\"hits\": [{\"_score\": 0.36262864, \"_type\": \"serie\", \"_id\": \"169\", \"_source\": {\"status\": \"Ended\", \"rating\": {\"average\": 9.3}, \"genres\": [\"Drama\", \"Crime\", \"Thriller\"], \"weight\": 3, \"updated\": 1451250971, \"name\": \"Breaking Bad\", \"language\": \"English\", \"schedule\": {\"days\": [\"Sunday\"], \"time\": \"22:00\"}, \"url\": \"http://www.tvmaze.com/shows/169/breaking-bad\", \"image\": {\"medium\": \"http://tvmazecdn.com/uploads/images/medium_portrait/0/2400.jpg\", \"original\": \"http://tvmazecdn.com/uploads/images/original_untouched/0/2400.jpg\"}, \"externals\": {\"thetvdb\": 81189, \"tvrage\": 18164, \"imdb\": \"tt0903747\"}, \"premiered\": \"2008-01-20\", \"summary\": \"<p><em><strong>\\\"Breaking Bad\\\"</strong></em> follows protagonist Walter White, a chemistry teacher who lives in New Mexico with his wife and teenage son who has cerebral palsy. White is diagnosed with Stage III cancer and given a prognosis of two years left to live. With a new sense of fearlessness based on his medical prognosis, and a desire to secure his family's financial security, White chooses to enter a dangerous world of drugs and crime and ascends to power in this world. The series explores how a fatal diagnosis such as White's releases a typical man from the daily concerns and constraints of normal society and follows his transformation from mild family man to a kingpin of the drug trade.</p>\", \"_links\": {\"previousepisode\": {\"href\": \"http://api.tvmaze.com/episodes/12253\"}, \"self\": {\"href\": \"http://api.tvmaze.com/shows/169\"}}, \"webChannel\": null, \"runtime\": 60, \"type\": \"Scripted\", \"id\": 169, \"network\": {\"country\": {\"timezone\": \"America/New_York\", \"code\": \"US\", \"name\": \"United States\"}, \"id\": 20, \"name\": \"AMC\"}}, \"_index\": \"tvseries\"}, {\"_score\": 0.06565088, \"_type\": \"serie\", \"_id\": \"82\", \"_source\": {\"status\": \"Running\", \"rating\": {\"average\": 9.4}, \"genres\": [\"Drama\", \"Adventure\", \"Fantasy\"], \"weight\": 14, \"updated\": 1454051645, \"name\": \"Game of Thrones\", \"language\": \"English\", \"schedule\": {\"days\": [\"Sunday\"], \"time\": \"21:00\"}, \"url\": \"http://www.tvmaze.com/shows/82/game-of-thrones\", \"image\": {\"medium\": \"http://tvmazecdn.com/uploads/images/medium_portrait/0/581.jpg\", \"original\": \"http://tvmazecdn.com/uploads/images/original_untouched/0/581.jpg\"}, \"externals\": {\"thetvdb\": 121361, \"tvrage\": 24493, \"imdb\": \"tt0944947\"}, \"premiered\": \"2011-04-17\", \"summary\": \"<p>Based on the bestselling book series A Song of Ice and Fire by George R.R. Martin, this sprawling new HBO drama is set in a world where summers span decades and winters can last a lifetime. From the scheming south and the savage eastern lands, to the frozen north and ancient Wall that protects the realm from the mysterious darkness beyond, the powerful families of the Seven Kingdoms are locked in a battle for the Iron Throne. This is a story of duplicity and treachery, nobility and honor, conquest and triumph. In the <strong><em>\\\"Game of Thrones\\\"</em></strong>, you either win or you die.</p>\", \"_links\": {\"previousepisode\": {\"href\": \"http://api.tvmaze.com/episodes/162186\"}, \"self\": {\"href\": \"http://api.tvmaze.com/shows/82\"}, \"nextepisode\": {\"href\": \"http://api.tvmaze.com/episodes/560813\"}}, \"webChannel\": null, \"runtime\": 60, \"type\": \"Scripted\", \"id\": 82, \"network\": {\"country\": {\"timezone\": \"America/New_York\", \"code\": \"US\", \"name\": \"United States\"}, \"id\": 8, \"name\": \"HBO\"}}, \"_index\": \"tvseries\"}, {\"_score\": 0.05627218, \"_type\": \"serie\", \"_id\": \"51\", \"_source\": {\"status\": \"To Be Determined\", \"rating\": {\"average\": 8.7}, \"genres\": [\"Drama\", \"Medical\"], \"weight\": 2, \"updated\": 1455121010, \"name\": \"The Knick\", \"language\": \"English\", \"schedule\": {\"days\": [\"Friday\"], \"time\": \"22:00\"}, \"url\": \"http://www.tvmaze.com/shows/51/the-knick\", \"image\": {\"medium\": \"http://tvmazecdn.com/uploads/images/medium_portrait/0/417.jpg\", \"original\": \"http://tvmazecdn.com/uploads/images/original_untouched/0/417.jpg\"}, \"externals\": {\"thetvdb\": 279977, \"tvrage\": 36033, \"imdb\": \"tt2937900\"}, \"premiered\": \"2014-08-08\", \"summary\": \"<p>New York City, 1900: The Knickerbocker Hospital is home to groundbreaking surgeons, nurses and staff who push the boundaries of medicine in a time of astonishingly high mortality rates and zero antibiotics. The newly appointed leader of the surgery staff is the brilliant, arrogant renegade Dr. John Thackery, whose addiction to cocaine and opium is trumped only by his ambition for medical discovery and renown among his peers. Into the all-white staff and patient hospital comes the equally gifted Harvard graduate Dr. Algernon Edwards, who must fight for respect while trying to navigate the racially charged city. Trying to maintain its reputation for quality care while realizing a profit, the Knickerbocker makes an effort to attract wealthy clientele, while literally struggling to keep the lights on.</p>\", \"_links\": {\"previousepisode\": {\"href\": \"http://api.tvmaze.com/episodes/213032\"}, \"self\": {\"href\": \"http://api.tvmaze.com/shows/51\"}}, \"webChannel\": null, \"runtime\": 60, \"type\": \"Scripted\", \"id\": 51, \"network\": {\"country\": {\"timezone\": \"America/New_York\", \"code\": \"US\", \"name\": \"United States\"}, \"id\": 19, \"name\": \"Cinemax\"}}, \"_index\": \"tvseries\"}], \"total\": 3, \"max_score\": 0.36262864}, \"_shards\": {\"successful\": 1, \"failed\": 0, \"total\": 1}, \"took\": 3, \"timed_out\": false}))\n",
       "        });\n",
       "        "
      ]
     },
     "metadata": {},
     "output_type": "display_data"
    }
   ],
   "source": [
    "payload = \"\"\"\n",
    "{\n",
    "    \"query\" : {\n",
    "        \"match\" : {\n",
    "            \"summary\" : \"New Mexico\"\n",
    "        }\n",
    "    }\n",
    "}\n",
    "\"\"\"\n",
    "\n",
    "r = requests.get('http://localhost:9200/tvseries/serie/_search', data = payload)\n",
    "RenderJSON(r.json())"
   ]
  },
  {
   "cell_type": "markdown",
   "metadata": {
    "slideshow": {
     "slide_type": "subslide"
    }
   },
   "source": [
    "### QueryDSL - terms"
   ]
  },
  {
   "cell_type": "code",
   "execution_count": 23,
   "metadata": {
    "collapsed": false
   },
   "outputs": [
    {
     "data": {
      "text/html": [
       "<div id=\"e4638b07-bb2e-4abc-8d59-26956921dd84\" style=\"height: 600px; width:100%;\"></div>"
      ]
     },
     "metadata": {},
     "output_type": "display_data"
    },
    {
     "data": {
      "application/javascript": [
       "\n",
       "        require([\"https://rawgit.com/caldwell/renderjson/master/renderjson.js\"], function() {\n",
       "          document.getElementById('e4638b07-bb2e-4abc-8d59-26956921dd84').appendChild(renderjson({\"hits\": {\"hits\": [], \"total\": 0, \"max_score\": null}, \"_shards\": {\"successful\": 1, \"failed\": 0, \"total\": 1}, \"took\": 3, \"timed_out\": false}))\n",
       "        });\n",
       "        "
      ]
     },
     "metadata": {},
     "output_type": "display_data"
    }
   ],
   "source": [
    "payload = \"\"\"\n",
    "{\n",
    "  \"query\" : {\n",
    "     \"term\" : { \"name\": \"breaking\" }\n",
    "  }\n",
    "}\n",
    "\"\"\"\n",
    "\n",
    "r = requests.get('http://localhost:9200/tvseries/serie/_search', data = payload)\n",
    "RenderJSON(r.json())"
   ]
  },
  {
   "cell_type": "code",
   "execution_count": null,
   "metadata": {
    "collapsed": true
   },
   "outputs": [],
   "source": [
    "Probar la misma query en mayusculas - no hay análisis asi que no matchea nada\n",
    "\n",
    "https://www.elastic.co/guide/en/elasticsearch/reference/current/query-dsl-term-query.html"
   ]
  },
  {
   "cell_type": "markdown",
   "metadata": {
    "slideshow": {
     "slide_type": "subslide"
    }
   },
   "source": [
    "### Query DSL - terms"
   ]
  },
  {
   "cell_type": "code",
   "execution_count": 27,
   "metadata": {
    "collapsed": false
   },
   "outputs": [
    {
     "data": {
      "text/html": [
       "<div id=\"361570a4-876c-4607-aeed-b8ce0a7ec94a\" style=\"height: 600px; width:100%;\"></div>"
      ]
     },
     "metadata": {},
     "output_type": "display_data"
    },
    {
     "data": {
      "application/javascript": [
       "\n",
       "        require([\"https://rawgit.com/caldwell/renderjson/master/renderjson.js\"], function() {\n",
       "          document.getElementById('361570a4-876c-4607-aeed-b8ce0a7ec94a').appendChild(renderjson({\"hits\": {\"hits\": [{\"_score\": 2.0972087, \"_type\": \"serie\", \"_id\": \"169\", \"_source\": {\"status\": \"Ended\", \"rating\": {\"average\": 9.3}, \"genres\": [\"Drama\", \"Crime\", \"Thriller\"], \"weight\": 3, \"updated\": 1451250971, \"name\": \"Breaking Bad\", \"language\": \"English\", \"schedule\": {\"days\": [\"Sunday\"], \"time\": \"22:00\"}, \"url\": \"http://www.tvmaze.com/shows/169/breaking-bad\", \"image\": {\"medium\": \"http://tvmazecdn.com/uploads/images/medium_portrait/0/2400.jpg\", \"original\": \"http://tvmazecdn.com/uploads/images/original_untouched/0/2400.jpg\"}, \"externals\": {\"thetvdb\": 81189, \"tvrage\": 18164, \"imdb\": \"tt0903747\"}, \"premiered\": \"2008-01-20\", \"summary\": \"<p><em><strong>\\\"Breaking Bad\\\"</strong></em> follows protagonist Walter White, a chemistry teacher who lives in New Mexico with his wife and teenage son who has cerebral palsy. White is diagnosed with Stage III cancer and given a prognosis of two years left to live. With a new sense of fearlessness based on his medical prognosis, and a desire to secure his family's financial security, White chooses to enter a dangerous world of drugs and crime and ascends to power in this world. The series explores how a fatal diagnosis such as White's releases a typical man from the daily concerns and constraints of normal society and follows his transformation from mild family man to a kingpin of the drug trade.</p>\", \"_links\": {\"previousepisode\": {\"href\": \"http://api.tvmaze.com/episodes/12253\"}, \"self\": {\"href\": \"http://api.tvmaze.com/shows/169\"}}, \"webChannel\": null, \"runtime\": 60, \"type\": \"Scripted\", \"id\": 169, \"network\": {\"country\": {\"timezone\": \"America/New_York\", \"code\": \"US\", \"name\": \"United States\"}, \"id\": 20, \"name\": \"AMC\"}}, \"_index\": \"tvseries\"}, {\"_score\": 2.0972087, \"_type\": \"serie\", \"_id\": \"170\", \"_source\": {\"status\": \"Running\", \"rating\": {\"average\": 8.4}, \"genres\": [\"Drama\", \"Comedy\", \"Crime\"], \"weight\": 3, \"updated\": 1453253701, \"name\": \"Orange is the New Black\", \"language\": \"English\", \"schedule\": {\"days\": [\"Friday\"], \"time\": \"00:01\"}, \"url\": \"http://www.tvmaze.com/shows/170/orange-is-the-new-black\", \"image\": {\"medium\": \"http://tvmazecdn.com/uploads/images/medium_portrait/0/2414.jpg\", \"original\": \"http://tvmazecdn.com/uploads/images/original_untouched/0/2414.jpg\"}, \"externals\": {\"thetvdb\": 264586, \"tvrage\": 32950, \"imdb\": \"tt2372162\"}, \"premiered\": \"2013-07-11\", \"summary\": \"<p>The story of Piper Chapman, a woman in her thirties who is sentenced to fifteen months in prison after being convicted of a decade-old crime of transporting money for her drug-dealing girlfriend.</p>\", \"_links\": {\"previousepisode\": {\"href\": \"http://api.tvmaze.com/episodes/143007\"}, \"self\": {\"href\": \"http://api.tvmaze.com/shows/170\"}, \"nextepisode\": {\"href\": \"http://api.tvmaze.com/episodes/574624\"}}, \"webChannel\": {\"country\": {\"timezone\": \"America/New_York\", \"code\": \"US\", \"name\": \"United States\"}, \"id\": 1, \"name\": \"Netflix\"}, \"runtime\": 60, \"type\": \"Scripted\", \"id\": 170, \"network\": null}, \"_index\": \"tvseries\"}, {\"_score\": 2.0972087, \"_type\": \"serie\", \"_id\": \"5\", \"_source\": {\"status\": \"To Be Determined\", \"rating\": {\"average\": 8.5}, \"genres\": [\"Drama\", \"Crime\", \"Thriller\", \"Mystery\"], \"weight\": 4, \"updated\": 1455233815, \"name\": \"True Detective\", \"language\": \"English\", \"schedule\": {\"days\": [\"Sunday\"], \"time\": \"21:00\"}, \"url\": \"http://www.tvmaze.com/shows/5/true-detective\", \"image\": {\"medium\": \"http://tvmazecdn.com/uploads/images/medium_portrait/0/61.jpg\", \"original\": \"http://tvmazecdn.com/uploads/images/original_untouched/0/61.jpg\"}, \"externals\": {\"thetvdb\": 270633, \"tvrage\": 31369, \"imdb\": \"tt2356777\"}, \"premiered\": \"2014-01-12\", \"summary\": \"<p>The series stars Matthew McConaughey and Woody Harrelson as Louisiana detectives Rust Cohle and Martin Hart, whose lives collide and entwine during a 17-year hunt for a killer, ranging from the original investigation of a bizarre murder in 1995 to the reopening of the case in 2012. Michelle Monaghan also stars as Hart's wife, Maggie, who struggles to keep her family together as the men in her life become locked in a cycle of violence and obsession.</p>\", \"_links\": {\"previousepisode\": {\"href\": \"http://api.tvmaze.com/episodes/182325\"}, \"self\": {\"href\": \"http://api.tvmaze.com/shows/5\"}}, \"webChannel\": null, \"runtime\": 60, \"type\": \"Scripted\", \"id\": 5, \"network\": {\"country\": {\"timezone\": \"America/New_York\", \"code\": \"US\", \"name\": \"United States\"}, \"id\": 8, \"name\": \"HBO\"}}, \"_index\": \"tvseries\"}, {\"_score\": 0.7625803, \"_type\": \"serie\", \"_id\": \"1855\", \"_source\": {\"status\": \"Running\", \"rating\": {\"average\": 7.8}, \"genres\": [\"Action\", \"Crime\", \"Thriller\", \"Mystery\"], \"weight\": 11, \"updated\": 1455891788, \"name\": \"Blindspot\", \"language\": \"English\", \"schedule\": {\"days\": [\"Monday\"], \"time\": \"22:00\"}, \"url\": \"http://www.tvmaze.com/shows/1855/blindspot\", \"image\": {\"medium\": \"http://tvmazecdn.com/uploads/images/medium_portrait/28/70723.jpg\", \"original\": \"http://tvmazecdn.com/uploads/images/original_untouched/28/70723.jpg\"}, \"externals\": {\"thetvdb\": 295647, \"tvrage\": 44628, \"imdb\": \"tt4474344\"}, \"premiered\": \"2015-09-21\", \"summary\": \"<p>A beautiful woman, with no memories of her past, is found naked in Times\\n Square with her body fully covered in intricate tattoos. Her discovery \\nsets off a vast and complex mystery that immediately ignites the \\nattention of the FBI, which begins to follow the road map on her body \\ninto a larger conspiracy of crime, while bringing her closer to \\ndiscovering the truth about her identity.</p>\", \"_links\": {\"previousepisode\": {\"href\": \"http://api.tvmaze.com/episodes/410719\"}, \"self\": {\"href\": \"http://api.tvmaze.com/shows/1855\"}, \"nextepisode\": {\"href\": \"http://api.tvmaze.com/episodes/536750\"}}, \"webChannel\": null, \"runtime\": 60, \"type\": \"Scripted\", \"id\": 1855, \"network\": {\"country\": {\"timezone\": \"America/New_York\", \"code\": \"US\", \"name\": \"United States\"}, \"id\": 1, \"name\": \"NBC\"}}, \"_index\": \"tvseries\"}, {\"_score\": 0.2860241, \"_type\": \"serie\", \"_id\": \"51\", \"_source\": {\"status\": \"To Be Determined\", \"rating\": {\"average\": 8.7}, \"genres\": [\"Drama\", \"Medical\"], \"weight\": 2, \"updated\": 1455121010, \"name\": \"The Knick\", \"language\": \"English\", \"schedule\": {\"days\": [\"Friday\"], \"time\": \"22:00\"}, \"url\": \"http://www.tvmaze.com/shows/51/the-knick\", \"image\": {\"medium\": \"http://tvmazecdn.com/uploads/images/medium_portrait/0/417.jpg\", \"original\": \"http://tvmazecdn.com/uploads/images/original_untouched/0/417.jpg\"}, \"externals\": {\"thetvdb\": 279977, \"tvrage\": 36033, \"imdb\": \"tt2937900\"}, \"premiered\": \"2014-08-08\", \"summary\": \"<p>New York City, 1900: The Knickerbocker Hospital is home to groundbreaking surgeons, nurses and staff who push the boundaries of medicine in a time of astonishingly high mortality rates and zero antibiotics. The newly appointed leader of the surgery staff is the brilliant, arrogant renegade Dr. John Thackery, whose addiction to cocaine and opium is trumped only by his ambition for medical discovery and renown among his peers. Into the all-white staff and patient hospital comes the equally gifted Harvard graduate Dr. Algernon Edwards, who must fight for respect while trying to navigate the racially charged city. Trying to maintain its reputation for quality care while realizing a profit, the Knickerbocker makes an effort to attract wealthy clientele, while literally struggling to keep the lights on.</p>\", \"_links\": {\"previousepisode\": {\"href\": \"http://api.tvmaze.com/episodes/213032\"}, \"self\": {\"href\": \"http://api.tvmaze.com/shows/51\"}}, \"webChannel\": null, \"runtime\": 60, \"type\": \"Scripted\", \"id\": 51, \"network\": {\"country\": {\"timezone\": \"America/New_York\", \"code\": \"US\", \"name\": \"United States\"}, \"id\": 19, \"name\": \"Cinemax\"}}, \"_index\": \"tvseries\"}, {\"_score\": 0.2860241, \"_type\": \"serie\", \"_id\": \"175\", \"_source\": {\"status\": \"Running\", \"rating\": {\"average\": 8.9}, \"genres\": [\"Drama\", \"Thriller\"], \"weight\": 7, \"updated\": 1454549570, \"name\": \"House of Cards\", \"language\": \"English\", \"schedule\": {\"days\": [\"Friday\"], \"time\": \"00:01\"}, \"url\": \"http://www.tvmaze.com/shows/175/house-of-cards\", \"image\": {\"medium\": \"http://tvmazecdn.com/uploads/images/medium_portrait/0/2460.jpg\", \"original\": \"http://tvmazecdn.com/uploads/images/original_untouched/0/2460.jpg\"}, \"externals\": {\"thetvdb\": 262980, \"tvrage\": 27822, \"imdb\": \"tt1856010\"}, \"premiered\": \"2013-02-01\", \"summary\": \"<p>A Congressman works with his equally conniving wife to exact revenge on the people who betrayed him.</p>\", \"_links\": {\"previousepisode\": {\"href\": \"http://api.tvmaze.com/episodes/57773\"}, \"self\": {\"href\": \"http://api.tvmaze.com/shows/175\"}, \"nextepisode\": {\"href\": \"http://api.tvmaze.com/episodes/436756\"}}, \"webChannel\": {\"country\": {\"timezone\": \"America/New_York\", \"code\": \"US\", \"name\": \"United States\"}, \"id\": 1, \"name\": \"Netflix\"}, \"runtime\": 60, \"type\": \"Scripted\", \"id\": 175, \"network\": null}, \"_index\": \"tvseries\"}, {\"_score\": 0.2860241, \"_type\": \"serie\", \"_id\": \"82\", \"_source\": {\"status\": \"Running\", \"rating\": {\"average\": 9.4}, \"genres\": [\"Drama\", \"Adventure\", \"Fantasy\"], \"weight\": 14, \"updated\": 1454051645, \"name\": \"Game of Thrones\", \"language\": \"English\", \"schedule\": {\"days\": [\"Sunday\"], \"time\": \"21:00\"}, \"url\": \"http://www.tvmaze.com/shows/82/game-of-thrones\", \"image\": {\"medium\": \"http://tvmazecdn.com/uploads/images/medium_portrait/0/581.jpg\", \"original\": \"http://tvmazecdn.com/uploads/images/original_untouched/0/581.jpg\"}, \"externals\": {\"thetvdb\": 121361, \"tvrage\": 24493, \"imdb\": \"tt0944947\"}, \"premiered\": \"2011-04-17\", \"summary\": \"<p>Based on the bestselling book series A Song of Ice and Fire by George R.R. Martin, this sprawling new HBO drama is set in a world where summers span decades and winters can last a lifetime. From the scheming south and the savage eastern lands, to the frozen north and ancient Wall that protects the realm from the mysterious darkness beyond, the powerful families of the Seven Kingdoms are locked in a battle for the Iron Throne. This is a story of duplicity and treachery, nobility and honor, conquest and triumph. In the <strong><em>\\\"Game of Thrones\\\"</em></strong>, you either win or you die.</p>\", \"_links\": {\"previousepisode\": {\"href\": \"http://api.tvmaze.com/episodes/162186\"}, \"self\": {\"href\": \"http://api.tvmaze.com/shows/82\"}, \"nextepisode\": {\"href\": \"http://api.tvmaze.com/episodes/560813\"}}, \"webChannel\": null, \"runtime\": 60, \"type\": \"Scripted\", \"id\": 82, \"network\": {\"country\": {\"timezone\": \"America/New_York\", \"code\": \"US\", \"name\": \"United States\"}, \"id\": 8, \"name\": \"HBO\"}}, \"_index\": \"tvseries\"}, {\"_score\": 0.2860241, \"_type\": \"serie\", \"_id\": \"712\", \"_source\": {\"status\": \"Ended\", \"rating\": {\"average\": 8.7}, \"genres\": [\"Drama\", \"History\"], \"weight\": 0, \"updated\": 1449500544, \"name\": \"The Tudors\", \"language\": \"English\", \"schedule\": {\"days\": [], \"time\": \"21:00\"}, \"url\": \"http://www.tvmaze.com/shows/712/the-tudors\", \"image\": {\"medium\": \"http://tvmazecdn.com/uploads/images/medium_portrait/6/15022.jpg\", \"original\": \"http://tvmazecdn.com/uploads/images/original_untouched/6/15022.jpg\"}, \"externals\": {\"thetvdb\": 79925, \"tvrage\": 7927, \"imdb\": \"tt0758790\"}, \"premiered\": \"2007-04-01\", \"summary\": \"<p>The final season will consist of 10, one-hour episodes and center on his tumultuous relationships with his last two wives, Catherine Howard and Catherine Parr, and his final descent into madness.</p>\", \"_links\": {\"previousepisode\": {\"href\": \"http://api.tvmaze.com/episodes/62894\"}, \"self\": {\"href\": \"http://api.tvmaze.com/shows/712\"}}, \"webChannel\": null, \"runtime\": 60, \"type\": \"Scripted\", \"id\": 712, \"network\": {\"country\": {\"timezone\": \"America/New_York\", \"code\": \"US\", \"name\": \"United States\"}, \"id\": 9, \"name\": \"Showtime\"}}, \"_index\": \"tvseries\"}, {\"_score\": 0.2860241, \"_type\": \"serie\", \"_id\": \"9274\", \"_source\": {\"status\": \"Ended\", \"rating\": {\"average\": null}, \"genres\": [\"Drama\"], \"weight\": 0, \"updated\": 1455109198, \"name\": \"Isabel\", \"language\": \"Spanish\", \"schedule\": {\"days\": [], \"time\": \"\"}, \"url\": \"http://www.tvmaze.com/shows/9274/isabel\", \"image\": {\"medium\": \"http://tvmazecdn.com/uploads/images/medium_portrait/32/81594.jpg\", \"original\": \"http://tvmazecdn.com/uploads/images/original_untouched/32/81594.jpg\"}, \"externals\": {\"thetvdb\": 262381, \"tvrage\": 32792, \"imdb\": \"tt2011533\"}, \"premiered\": \"2012-09-10\", \"summary\": \"<p>Life of Isabella I of Castile, also known as Isabella the Catholic.</p>\", \"_links\": {\"previousepisode\": {\"href\": \"http://api.tvmaze.com/episodes/501878\"}, \"self\": {\"href\": \"http://api.tvmaze.com/shows/9274\"}}, \"webChannel\": null, \"runtime\": 60, \"type\": \"Scripted\", \"id\": 9274, \"network\": {\"country\": {\"timezone\": \"Europe/Madrid\", \"code\": \"ES\", \"name\": \"Spain\"}, \"id\": 147, \"name\": \"RTVE\"}}, \"_index\": \"tvseries\"}, {\"_score\": 0.2860241, \"_type\": \"serie\", \"_id\": \"3386\", \"_source\": {\"status\": \"Running\", \"rating\": {\"average\": 9.3}, \"genres\": [\"Drama\", \"History\"], \"weight\": 2, \"updated\": 1450525730, \"name\": \"Versailles\", \"language\": \"English\", \"schedule\": {\"days\": [], \"time\": \"\"}, \"url\": \"http://www.tvmaze.com/shows/3386/versailles\", \"image\": {\"medium\": \"http://tvmazecdn.com/uploads/images/medium_portrait/34/86312.jpg\", \"original\": \"http://tvmazecdn.com/uploads/images/original_untouched/34/86312.jpg\"}, \"externals\": {\"thetvdb\": 300280, \"tvrage\": null, \"imdb\": \"tt3830558\"}, \"premiered\": \"2015-11-16\", \"summary\": \"<p>Versailles, 1667. Louis XIV was 28 years old. To rise to the heights of the nobility and wield its absolute power, he launched the construction of Versailles... it proved to be a snare. Louis XIV is a young King haunted by childhood trauma, the Fronde civil, a rebellion of the nobility against his father, Louis XIII... It will prove be a strategic policy out of the ordinary, manipulative, Machiavellian, and he will \\\"invent\\\" Versailles for the nobles of Paris, to keep them under control, and gradually transform the castle into a golden prison. But how will Louis live as the greatest King in the world?</p><p> Historical fiction of the court figures and the more humble villagers, guiding us in a world of betrayals and secrets, politicking and declarations of love.</p>\", \"_links\": {\"previousepisode\": {\"href\": \"http://api.tvmaze.com/episodes/471693\"}, \"self\": {\"href\": \"http://api.tvmaze.com/shows/3386\"}}, \"webChannel\": null, \"runtime\": 60, \"type\": \"Scripted\", \"id\": 3386, \"network\": {\"country\": {\"timezone\": \"Europe/Paris\", \"code\": \"FR\", \"name\": \"France\"}, \"id\": 105, \"name\": \"Canal+\"}}, \"_index\": \"tvseries\"}], \"total\": 10, \"max_score\": 2.0972087}, \"_shards\": {\"successful\": 1, \"failed\": 0, \"total\": 1}, \"took\": 3, \"timed_out\": false}))\n",
       "        });\n",
       "        "
      ]
     },
     "metadata": {},
     "output_type": "display_data"
    }
   ],
   "source": [
    "payload = \"\"\"\n",
    "{\n",
    "  \"query\" : {\n",
    "     \"terms\" : { \"genres\": [\"Drama\", \"Crime\"] }\n",
    "  }\n",
    "}\n",
    "\"\"\"\n",
    "\n",
    "r = requests.get('http://localhost:9200/tvseries/serie/_search', data = payload)\n",
    "RenderJSON(r.json())"
   ]
  },
  {
   "cell_type": "markdown",
   "metadata": {
    "slideshow": {
     "slide_type": "subslide"
    }
   },
   "source": [
    "Se pueden usar como query los terminos de otro documento - por ejemplo, los seguidores de un seguidor"
   ]
  },
  {
   "cell_type": "markdown",
   "metadata": {
    "slideshow": {
     "slide_type": "subslide"
    }
   },
   "source": [
    "### Query DSL - Búsqueda por rangos"
   ]
  },
  {
   "cell_type": "code",
   "execution_count": 29,
   "metadata": {
    "collapsed": false,
    "slideshow": {
     "slide_type": "-"
    }
   },
   "outputs": [
    {
     "data": {
      "text/html": [
       "<div id=\"fe80ad11-f0c1-44d9-bbe2-05e9e198703b\" style=\"height: 600px; width:100%;\"></div>"
      ]
     },
     "metadata": {},
     "output_type": "display_data"
    },
    {
     "data": {
      "application/javascript": [
       "\n",
       "        require([\"https://rawgit.com/caldwell/renderjson/master/renderjson.js\"], function() {\n",
       "          document.getElementById('fe80ad11-f0c1-44d9-bbe2-05e9e198703b').appendChild(renderjson({\"hits\": {\"hits\": [{\"_score\": 1.0, \"_type\": \"serie\", \"_id\": \"169\", \"_source\": {\"status\": \"Ended\", \"rating\": {\"average\": 9.3}, \"genres\": [\"Drama\", \"Crime\", \"Thriller\"], \"weight\": 3, \"updated\": 1451250971, \"name\": \"Breaking Bad\", \"language\": \"English\", \"schedule\": {\"days\": [\"Sunday\"], \"time\": \"22:00\"}, \"url\": \"http://www.tvmaze.com/shows/169/breaking-bad\", \"image\": {\"medium\": \"http://tvmazecdn.com/uploads/images/medium_portrait/0/2400.jpg\", \"original\": \"http://tvmazecdn.com/uploads/images/original_untouched/0/2400.jpg\"}, \"externals\": {\"thetvdb\": 81189, \"tvrage\": 18164, \"imdb\": \"tt0903747\"}, \"premiered\": \"2008-01-20\", \"summary\": \"<p><em><strong>\\\"Breaking Bad\\\"</strong></em> follows protagonist Walter White, a chemistry teacher who lives in New Mexico with his wife and teenage son who has cerebral palsy. White is diagnosed with Stage III cancer and given a prognosis of two years left to live. With a new sense of fearlessness based on his medical prognosis, and a desire to secure his family's financial security, White chooses to enter a dangerous world of drugs and crime and ascends to power in this world. The series explores how a fatal diagnosis such as White's releases a typical man from the daily concerns and constraints of normal society and follows his transformation from mild family man to a kingpin of the drug trade.</p>\", \"_links\": {\"previousepisode\": {\"href\": \"http://api.tvmaze.com/episodes/12253\"}, \"self\": {\"href\": \"http://api.tvmaze.com/shows/169\"}}, \"webChannel\": null, \"runtime\": 60, \"type\": \"Scripted\", \"id\": 169, \"network\": {\"country\": {\"timezone\": \"America/New_York\", \"code\": \"US\", \"name\": \"United States\"}, \"id\": 20, \"name\": \"AMC\"}}, \"_index\": \"tvseries\"}, {\"_score\": 1.0, \"_type\": \"serie\", \"_id\": \"82\", \"_source\": {\"status\": \"Running\", \"rating\": {\"average\": 9.4}, \"genres\": [\"Drama\", \"Adventure\", \"Fantasy\"], \"weight\": 14, \"updated\": 1454051645, \"name\": \"Game of Thrones\", \"language\": \"English\", \"schedule\": {\"days\": [\"Sunday\"], \"time\": \"21:00\"}, \"url\": \"http://www.tvmaze.com/shows/82/game-of-thrones\", \"image\": {\"medium\": \"http://tvmazecdn.com/uploads/images/medium_portrait/0/581.jpg\", \"original\": \"http://tvmazecdn.com/uploads/images/original_untouched/0/581.jpg\"}, \"externals\": {\"thetvdb\": 121361, \"tvrage\": 24493, \"imdb\": \"tt0944947\"}, \"premiered\": \"2011-04-17\", \"summary\": \"<p>Based on the bestselling book series A Song of Ice and Fire by George R.R. Martin, this sprawling new HBO drama is set in a world where summers span decades and winters can last a lifetime. From the scheming south and the savage eastern lands, to the frozen north and ancient Wall that protects the realm from the mysterious darkness beyond, the powerful families of the Seven Kingdoms are locked in a battle for the Iron Throne. This is a story of duplicity and treachery, nobility and honor, conquest and triumph. In the <strong><em>\\\"Game of Thrones\\\"</em></strong>, you either win or you die.</p>\", \"_links\": {\"previousepisode\": {\"href\": \"http://api.tvmaze.com/episodes/162186\"}, \"self\": {\"href\": \"http://api.tvmaze.com/shows/82\"}, \"nextepisode\": {\"href\": \"http://api.tvmaze.com/episodes/560813\"}}, \"webChannel\": null, \"runtime\": 60, \"type\": \"Scripted\", \"id\": 82, \"network\": {\"country\": {\"timezone\": \"America/New_York\", \"code\": \"US\", \"name\": \"United States\"}, \"id\": 8, \"name\": \"HBO\"}}, \"_index\": \"tvseries\"}, {\"_score\": 1.0, \"_type\": \"serie\", \"_id\": \"3386\", \"_source\": {\"status\": \"Running\", \"rating\": {\"average\": 9.3}, \"genres\": [\"Drama\", \"History\"], \"weight\": 2, \"updated\": 1450525730, \"name\": \"Versailles\", \"language\": \"English\", \"schedule\": {\"days\": [], \"time\": \"\"}, \"url\": \"http://www.tvmaze.com/shows/3386/versailles\", \"image\": {\"medium\": \"http://tvmazecdn.com/uploads/images/medium_portrait/34/86312.jpg\", \"original\": \"http://tvmazecdn.com/uploads/images/original_untouched/34/86312.jpg\"}, \"externals\": {\"thetvdb\": 300280, \"tvrage\": null, \"imdb\": \"tt3830558\"}, \"premiered\": \"2015-11-16\", \"summary\": \"<p>Versailles, 1667. Louis XIV was 28 years old. To rise to the heights of the nobility and wield its absolute power, he launched the construction of Versailles... it proved to be a snare. Louis XIV is a young King haunted by childhood trauma, the Fronde civil, a rebellion of the nobility against his father, Louis XIII... It will prove be a strategic policy out of the ordinary, manipulative, Machiavellian, and he will \\\"invent\\\" Versailles for the nobles of Paris, to keep them under control, and gradually transform the castle into a golden prison. But how will Louis live as the greatest King in the world?</p><p> Historical fiction of the court figures and the more humble villagers, guiding us in a world of betrayals and secrets, politicking and declarations of love.</p>\", \"_links\": {\"previousepisode\": {\"href\": \"http://api.tvmaze.com/episodes/471693\"}, \"self\": {\"href\": \"http://api.tvmaze.com/shows/3386\"}}, \"webChannel\": null, \"runtime\": 60, \"type\": \"Scripted\", \"id\": 3386, \"network\": {\"country\": {\"timezone\": \"Europe/Paris\", \"code\": \"FR\", \"name\": \"France\"}, \"id\": 105, \"name\": \"Canal+\"}}, \"_index\": \"tvseries\"}], \"total\": 3, \"max_score\": 1.0}, \"_shards\": {\"successful\": 1, \"failed\": 0, \"total\": 1}, \"took\": 2, \"timed_out\": false}))\n",
       "        });\n",
       "        "
      ]
     },
     "metadata": {},
     "output_type": "display_data"
    }
   ],
   "source": [
    "payload = \"\"\"\n",
    "{\n",
    "  \"query\" : {\n",
    "    \"range\" : {\n",
    "        \"rating.average\" : {\n",
    "            \"gte\" : 9,\n",
    "            \"lte\" : 10,\n",
    "            \"boost\" : 2.0\n",
    "        }\n",
    "    }\n",
    "}\n",
    "}\n",
    "\"\"\"\n",
    "\n",
    "r = requests.get('http://localhost:9200/tvseries/serie/_search', data = payload)\n",
    "RenderJSON(r.json())"
   ]
  },
  {
   "cell_type": "markdown",
   "metadata": {
    "slideshow": {
     "slide_type": "subslide"
    }
   },
   "source": [
    "### Query DSL - Búsqueda por rangos"
   ]
  },
  {
   "cell_type": "code",
   "execution_count": 31,
   "metadata": {
    "collapsed": false,
    "slideshow": {
     "slide_type": "-"
    }
   },
   "outputs": [
    {
     "data": {
      "text/html": [
       "<div id=\"f42f8536-8426-4b02-8b72-92611f197c38\" style=\"height: 600px; width:100%;\"></div>"
      ]
     },
     "metadata": {},
     "output_type": "display_data"
    },
    {
     "data": {
      "application/javascript": [
       "\n",
       "        require([\"https://rawgit.com/caldwell/renderjson/master/renderjson.js\"], function() {\n",
       "          document.getElementById('f42f8536-8426-4b02-8b72-92611f197c38').appendChild(renderjson({\"hits\": {\"hits\": [{\"_score\": 1.0, \"_type\": \"serie\", \"_id\": \"1855\", \"_source\": {\"status\": \"Running\", \"rating\": {\"average\": 7.8}, \"genres\": [\"Action\", \"Crime\", \"Thriller\", \"Mystery\"], \"weight\": 11, \"updated\": 1455891788, \"name\": \"Blindspot\", \"language\": \"English\", \"schedule\": {\"days\": [\"Monday\"], \"time\": \"22:00\"}, \"url\": \"http://www.tvmaze.com/shows/1855/blindspot\", \"image\": {\"medium\": \"http://tvmazecdn.com/uploads/images/medium_portrait/28/70723.jpg\", \"original\": \"http://tvmazecdn.com/uploads/images/original_untouched/28/70723.jpg\"}, \"externals\": {\"thetvdb\": 295647, \"tvrage\": 44628, \"imdb\": \"tt4474344\"}, \"premiered\": \"2015-09-21\", \"summary\": \"<p>A beautiful woman, with no memories of her past, is found naked in Times\\n Square with her body fully covered in intricate tattoos. Her discovery \\nsets off a vast and complex mystery that immediately ignites the \\nattention of the FBI, which begins to follow the road map on her body \\ninto a larger conspiracy of crime, while bringing her closer to \\ndiscovering the truth about her identity.</p>\", \"_links\": {\"previousepisode\": {\"href\": \"http://api.tvmaze.com/episodes/410719\"}, \"self\": {\"href\": \"http://api.tvmaze.com/shows/1855\"}, \"nextepisode\": {\"href\": \"http://api.tvmaze.com/episodes/536750\"}}, \"webChannel\": null, \"runtime\": 60, \"type\": \"Scripted\", \"id\": 1855, \"network\": {\"country\": {\"timezone\": \"America/New_York\", \"code\": \"US\", \"name\": \"United States\"}, \"id\": 1, \"name\": \"NBC\"}}, \"_index\": \"tvseries\"}, {\"_score\": 1.0, \"_type\": \"serie\", \"_id\": \"3386\", \"_source\": {\"status\": \"Running\", \"rating\": {\"average\": 9.3}, \"genres\": [\"Drama\", \"History\"], \"weight\": 2, \"updated\": 1450525730, \"name\": \"Versailles\", \"language\": \"English\", \"schedule\": {\"days\": [], \"time\": \"\"}, \"url\": \"http://www.tvmaze.com/shows/3386/versailles\", \"image\": {\"medium\": \"http://tvmazecdn.com/uploads/images/medium_portrait/34/86312.jpg\", \"original\": \"http://tvmazecdn.com/uploads/images/original_untouched/34/86312.jpg\"}, \"externals\": {\"thetvdb\": 300280, \"tvrage\": null, \"imdb\": \"tt3830558\"}, \"premiered\": \"2015-11-16\", \"summary\": \"<p>Versailles, 1667. Louis XIV was 28 years old. To rise to the heights of the nobility and wield its absolute power, he launched the construction of Versailles... it proved to be a snare. Louis XIV is a young King haunted by childhood trauma, the Fronde civil, a rebellion of the nobility against his father, Louis XIII... It will prove be a strategic policy out of the ordinary, manipulative, Machiavellian, and he will \\\"invent\\\" Versailles for the nobles of Paris, to keep them under control, and gradually transform the castle into a golden prison. But how will Louis live as the greatest King in the world?</p><p> Historical fiction of the court figures and the more humble villagers, guiding us in a world of betrayals and secrets, politicking and declarations of love.</p>\", \"_links\": {\"previousepisode\": {\"href\": \"http://api.tvmaze.com/episodes/471693\"}, \"self\": {\"href\": \"http://api.tvmaze.com/shows/3386\"}}, \"webChannel\": null, \"runtime\": 60, \"type\": \"Scripted\", \"id\": 3386, \"network\": {\"country\": {\"timezone\": \"Europe/Paris\", \"code\": \"FR\", \"name\": \"France\"}, \"id\": 105, \"name\": \"Canal+\"}}, \"_index\": \"tvseries\"}], \"total\": 2, \"max_score\": 1.0}, \"_shards\": {\"successful\": 1, \"failed\": 0, \"total\": 1}, \"took\": 2, \"timed_out\": false}))\n",
       "        });\n",
       "        "
      ]
     },
     "metadata": {},
     "output_type": "display_data"
    }
   ],
   "source": [
    "payload = \"\"\"\n",
    "{\n",
    "  \"query\" : {\n",
    "    \"range\" : {\n",
    "        \"premiered\" : {\n",
    "            \"gte\" : \"now-1y/y\",\n",
    "            \"lte\" : \"now/y\"\n",
    "        }\n",
    "    }\n",
    "}\n",
    "}\n",
    "\"\"\"\n",
    "\n",
    "r = requests.get('http://localhost:9200/tvseries/serie/_search', data = payload)\n",
    "RenderJSON(r.json())"
   ]
  },
  {
   "cell_type": "markdown",
   "metadata": {
    "slideshow": {
     "slide_type": "slide"
    }
   },
   "source": [
    "### Query DSL - busquedas booleanas\n",
    "\n",
    " [todo] operadores booleanos"
   ]
  },
  {
   "cell_type": "markdown",
   "metadata": {
    "slideshow": {
     "slide_type": "subslide"
    }
   },
   "source": [
    "### Query DSL - busquedas booleanas"
   ]
  },
  {
   "cell_type": "code",
   "execution_count": 39,
   "metadata": {
    "collapsed": false
   },
   "outputs": [
    {
     "data": {
      "text/html": [
       "<div id=\"d29b4ebb-ed79-4247-9987-826c6d19f0c5\" style=\"height: 600px; width:100%;\"></div>"
      ]
     },
     "metadata": {},
     "output_type": "display_data"
    },
    {
     "data": {
      "application/javascript": [
       "\n",
       "        require([\"https://rawgit.com/caldwell/renderjson/master/renderjson.js\"], function() {\n",
       "          document.getElementById('d29b4ebb-ed79-4247-9987-826c6d19f0c5').appendChild(renderjson({\"hits\": {\"hits\": [{\"_score\": 1.7884574, \"_type\": \"serie\", \"_id\": \"1855\", \"_source\": {\"status\": \"Running\", \"rating\": {\"average\": 7.8}, \"genres\": [\"Action\", \"Crime\", \"Thriller\", \"Mystery\"], \"weight\": 11, \"updated\": 1455891788, \"name\": \"Blindspot\", \"language\": \"English\", \"schedule\": {\"days\": [\"Monday\"], \"time\": \"22:00\"}, \"url\": \"http://www.tvmaze.com/shows/1855/blindspot\", \"image\": {\"medium\": \"http://tvmazecdn.com/uploads/images/medium_portrait/28/70723.jpg\", \"original\": \"http://tvmazecdn.com/uploads/images/original_untouched/28/70723.jpg\"}, \"externals\": {\"thetvdb\": 295647, \"tvrage\": 44628, \"imdb\": \"tt4474344\"}, \"premiered\": \"2015-09-21\", \"summary\": \"<p>A beautiful woman, with no memories of her past, is found naked in Times\\n Square with her body fully covered in intricate tattoos. Her discovery \\nsets off a vast and complex mystery that immediately ignites the \\nattention of the FBI, which begins to follow the road map on her body \\ninto a larger conspiracy of crime, while bringing her closer to \\ndiscovering the truth about her identity.</p>\", \"_links\": {\"previousepisode\": {\"href\": \"http://api.tvmaze.com/episodes/410719\"}, \"self\": {\"href\": \"http://api.tvmaze.com/shows/1855\"}, \"nextepisode\": {\"href\": \"http://api.tvmaze.com/episodes/536750\"}}, \"webChannel\": null, \"runtime\": 60, \"type\": \"Scripted\", \"id\": 1855, \"network\": {\"country\": {\"timezone\": \"America/New_York\", \"code\": \"US\", \"name\": \"United States\"}, \"id\": 1, \"name\": \"NBC\"}}, \"_index\": \"tvseries\"}, {\"_score\": 1.7884574, \"_type\": \"serie\", \"_id\": \"175\", \"_source\": {\"status\": \"Running\", \"rating\": {\"average\": 8.9}, \"genres\": [\"Drama\", \"Thriller\"], \"weight\": 7, \"updated\": 1454549570, \"name\": \"House of Cards\", \"language\": \"English\", \"schedule\": {\"days\": [\"Friday\"], \"time\": \"00:01\"}, \"url\": \"http://www.tvmaze.com/shows/175/house-of-cards\", \"image\": {\"medium\": \"http://tvmazecdn.com/uploads/images/medium_portrait/0/2460.jpg\", \"original\": \"http://tvmazecdn.com/uploads/images/original_untouched/0/2460.jpg\"}, \"externals\": {\"thetvdb\": 262980, \"tvrage\": 27822, \"imdb\": \"tt1856010\"}, \"premiered\": \"2013-02-01\", \"summary\": \"<p>A Congressman works with his equally conniving wife to exact revenge on the people who betrayed him.</p>\", \"_links\": {\"previousepisode\": {\"href\": \"http://api.tvmaze.com/episodes/57773\"}, \"self\": {\"href\": \"http://api.tvmaze.com/shows/175\"}, \"nextepisode\": {\"href\": \"http://api.tvmaze.com/episodes/436756\"}}, \"webChannel\": {\"country\": {\"timezone\": \"America/New_York\", \"code\": \"US\", \"name\": \"United States\"}, \"id\": 1, \"name\": \"Netflix\"}, \"runtime\": 60, \"type\": \"Scripted\", \"id\": 175, \"network\": null}, \"_index\": \"tvseries\"}, {\"_score\": 1.7884574, \"_type\": \"serie\", \"_id\": \"5\", \"_source\": {\"status\": \"To Be Determined\", \"rating\": {\"average\": 8.5}, \"genres\": [\"Drama\", \"Crime\", \"Thriller\", \"Mystery\"], \"weight\": 4, \"updated\": 1455233815, \"name\": \"True Detective\", \"language\": \"English\", \"schedule\": {\"days\": [\"Sunday\"], \"time\": \"21:00\"}, \"url\": \"http://www.tvmaze.com/shows/5/true-detective\", \"image\": {\"medium\": \"http://tvmazecdn.com/uploads/images/medium_portrait/0/61.jpg\", \"original\": \"http://tvmazecdn.com/uploads/images/original_untouched/0/61.jpg\"}, \"externals\": {\"thetvdb\": 270633, \"tvrage\": 31369, \"imdb\": \"tt2356777\"}, \"premiered\": \"2014-01-12\", \"summary\": \"<p>The series stars Matthew McConaughey and Woody Harrelson as Louisiana detectives Rust Cohle and Martin Hart, whose lives collide and entwine during a 17-year hunt for a killer, ranging from the original investigation of a bizarre murder in 1995 to the reopening of the case in 2012. Michelle Monaghan also stars as Hart's wife, Maggie, who struggles to keep her family together as the men in her life become locked in a cycle of violence and obsession.</p>\", \"_links\": {\"previousepisode\": {\"href\": \"http://api.tvmaze.com/episodes/182325\"}, \"self\": {\"href\": \"http://api.tvmaze.com/shows/5\"}}, \"webChannel\": null, \"runtime\": 60, \"type\": \"Scripted\", \"id\": 5, \"network\": {\"country\": {\"timezone\": \"America/New_York\", \"code\": \"US\", \"name\": \"United States\"}, \"id\": 8, \"name\": \"HBO\"}}, \"_index\": \"tvseries\"}], \"total\": 3, \"max_score\": 1.7884574}, \"_shards\": {\"successful\": 1, \"failed\": 0, \"total\": 1}, \"took\": 2, \"timed_out\": false}))\n",
       "        });\n",
       "        "
      ]
     },
     "metadata": {},
     "output_type": "display_data"
    }
   ],
   "source": [
    "payload = \"\"\"\n",
    "{\n",
    "  \"query\" : {\n",
    "    \"bool\" : {\n",
    "        \"must\" : {\n",
    "            \"term\" : { \"genres\" : \"Thriller\" }\n",
    "        },\n",
    "        \"must_not\" : {\n",
    "            \"term\" : { \"summary\" : \"mexico\" }\n",
    "        }\n",
    "    }\n",
    "  }\n",
    "}\n",
    "\"\"\"\n",
    "\n",
    "r = requests.get('http://localhost:9200/tvseries/serie/_search', data = payload)\n",
    "RenderJSON(r.json())\n"
   ]
  },
  {
   "cell_type": "code",
   "execution_count": 40,
   "metadata": {
    "collapsed": false
   },
   "outputs": [
    {
     "data": {
      "text/html": [
       "<div id=\"73d83dff-425f-463d-9c89-e56874a7802d\" style=\"height: 600px; width:100%;\"></div>"
      ]
     },
     "metadata": {},
     "output_type": "display_data"
    },
    {
     "data": {
      "application/javascript": [
       "\n",
       "        require([\"https://rawgit.com/caldwell/renderjson/master/renderjson.js\"], function() {\n",
       "          document.getElementById('73d83dff-425f-463d-9c89-e56874a7802d').appendChild(renderjson({\"hits\": {\"hits\": [{\"_score\": 1.7884574, \"_type\": \"serie\", \"_id\": \"1855\", \"_source\": {\"status\": \"Running\", \"rating\": {\"average\": 7.8}, \"genres\": [\"Action\", \"Crime\", \"Thriller\", \"Mystery\"], \"weight\": 11, \"updated\": 1455891788, \"name\": \"Blindspot\", \"language\": \"English\", \"schedule\": {\"days\": [\"Monday\"], \"time\": \"22:00\"}, \"url\": \"http://www.tvmaze.com/shows/1855/blindspot\", \"image\": {\"medium\": \"http://tvmazecdn.com/uploads/images/medium_portrait/28/70723.jpg\", \"original\": \"http://tvmazecdn.com/uploads/images/original_untouched/28/70723.jpg\"}, \"externals\": {\"thetvdb\": 295647, \"tvrage\": 44628, \"imdb\": \"tt4474344\"}, \"premiered\": \"2015-09-21\", \"summary\": \"<p>A beautiful woman, with no memories of her past, is found naked in Times\\n Square with her body fully covered in intricate tattoos. Her discovery \\nsets off a vast and complex mystery that immediately ignites the \\nattention of the FBI, which begins to follow the road map on her body \\ninto a larger conspiracy of crime, while bringing her closer to \\ndiscovering the truth about her identity.</p>\", \"_links\": {\"previousepisode\": {\"href\": \"http://api.tvmaze.com/episodes/410719\"}, \"self\": {\"href\": \"http://api.tvmaze.com/shows/1855\"}, \"nextepisode\": {\"href\": \"http://api.tvmaze.com/episodes/536750\"}}, \"webChannel\": null, \"runtime\": 60, \"type\": \"Scripted\", \"id\": 1855, \"network\": {\"country\": {\"timezone\": \"America/New_York\", \"code\": \"US\", \"name\": \"United States\"}, \"id\": 1, \"name\": \"NBC\"}}, \"_index\": \"tvseries\"}, {\"_score\": 1.7884574, \"_type\": \"serie\", \"_id\": \"175\", \"_source\": {\"status\": \"Running\", \"rating\": {\"average\": 8.9}, \"genres\": [\"Drama\", \"Thriller\"], \"weight\": 7, \"updated\": 1454549570, \"name\": \"House of Cards\", \"language\": \"English\", \"schedule\": {\"days\": [\"Friday\"], \"time\": \"00:01\"}, \"url\": \"http://www.tvmaze.com/shows/175/house-of-cards\", \"image\": {\"medium\": \"http://tvmazecdn.com/uploads/images/medium_portrait/0/2460.jpg\", \"original\": \"http://tvmazecdn.com/uploads/images/original_untouched/0/2460.jpg\"}, \"externals\": {\"thetvdb\": 262980, \"tvrage\": 27822, \"imdb\": \"tt1856010\"}, \"premiered\": \"2013-02-01\", \"summary\": \"<p>A Congressman works with his equally conniving wife to exact revenge on the people who betrayed him.</p>\", \"_links\": {\"previousepisode\": {\"href\": \"http://api.tvmaze.com/episodes/57773\"}, \"self\": {\"href\": \"http://api.tvmaze.com/shows/175\"}, \"nextepisode\": {\"href\": \"http://api.tvmaze.com/episodes/436756\"}}, \"webChannel\": {\"country\": {\"timezone\": \"America/New_York\", \"code\": \"US\", \"name\": \"United States\"}, \"id\": 1, \"name\": \"Netflix\"}, \"runtime\": 60, \"type\": \"Scripted\", \"id\": 175, \"network\": null}, \"_index\": \"tvseries\"}, {\"_score\": 1.7884574, \"_type\": \"serie\", \"_id\": \"5\", \"_source\": {\"status\": \"To Be Determined\", \"rating\": {\"average\": 8.5}, \"genres\": [\"Drama\", \"Crime\", \"Thriller\", \"Mystery\"], \"weight\": 4, \"updated\": 1455233815, \"name\": \"True Detective\", \"language\": \"English\", \"schedule\": {\"days\": [\"Sunday\"], \"time\": \"21:00\"}, \"url\": \"http://www.tvmaze.com/shows/5/true-detective\", \"image\": {\"medium\": \"http://tvmazecdn.com/uploads/images/medium_portrait/0/61.jpg\", \"original\": \"http://tvmazecdn.com/uploads/images/original_untouched/0/61.jpg\"}, \"externals\": {\"thetvdb\": 270633, \"tvrage\": 31369, \"imdb\": \"tt2356777\"}, \"premiered\": \"2014-01-12\", \"summary\": \"<p>The series stars Matthew McConaughey and Woody Harrelson as Louisiana detectives Rust Cohle and Martin Hart, whose lives collide and entwine during a 17-year hunt for a killer, ranging from the original investigation of a bizarre murder in 1995 to the reopening of the case in 2012. Michelle Monaghan also stars as Hart's wife, Maggie, who struggles to keep her family together as the men in her life become locked in a cycle of violence and obsession.</p>\", \"_links\": {\"previousepisode\": {\"href\": \"http://api.tvmaze.com/episodes/182325\"}, \"self\": {\"href\": \"http://api.tvmaze.com/shows/5\"}}, \"webChannel\": null, \"runtime\": 60, \"type\": \"Scripted\", \"id\": 5, \"network\": {\"country\": {\"timezone\": \"America/New_York\", \"code\": \"US\", \"name\": \"United States\"}, \"id\": 8, \"name\": \"HBO\"}}, \"_index\": \"tvseries\"}], \"total\": 3, \"max_score\": 1.7884574}, \"_shards\": {\"successful\": 1, \"failed\": 0, \"total\": 1}, \"took\": 1, \"timed_out\": false}))\n",
       "        });\n",
       "        "
      ]
     },
     "metadata": {},
     "output_type": "display_data"
    }
   ],
   "source": [
    "payload = \"\"\"\n",
    "{\n",
    "  \"query\" : {\n",
    "    \"bool\" : {\n",
    "        \"must\" : {\n",
    "            \"term\" : { \"genres\" : \"Thriller\" }\n",
    "        },\n",
    "        \"must_not\" : {\n",
    "            \"match\" : { \"summary\" : \"Mexico\" }\n",
    "        },\n",
    "        \"minimum_should_match\" : 1,\n",
    "        \"boost\" : 1.0\n",
    "    }\n",
    "  }\n",
    "}\n",
    "\"\"\"\n",
    "\n",
    "r = requests.get('http://localhost:9200/tvseries/serie/_search', data = payload)\n",
    "RenderJSON(r.json())\n"
   ]
  },
  {
   "cell_type": "code",
   "execution_count": 52,
   "metadata": {
    "collapsed": false
   },
   "outputs": [
    {
     "data": {
      "text/html": [
       "<div id=\"545f5b03-af6c-481a-ad8f-a0de94f57e91\" style=\"height: 600px; width:100%;\"></div>"
      ]
     },
     "metadata": {},
     "output_type": "display_data"
    },
    {
     "data": {
      "application/javascript": [
       "\n",
       "        require([\"https://rawgit.com/caldwell/renderjson/master/renderjson.js\"], function() {\n",
       "          document.getElementById('545f5b03-af6c-481a-ad8f-a0de94f57e91').appendChild(renderjson({\"hits\": {\"hits\": [{\"_score\": 3.4181666, \"_type\": \"serie\", \"_id\": \"1855\", \"_source\": {\"status\": \"Running\", \"rating\": {\"average\": 7.8}, \"genres\": [\"Action\", \"Crime\", \"Thriller\", \"Mystery\"], \"weight\": 11, \"updated\": 1455891788, \"name\": \"Blindspot\", \"language\": \"English\", \"schedule\": {\"days\": [\"Monday\"], \"time\": \"22:00\"}, \"url\": \"http://www.tvmaze.com/shows/1855/blindspot\", \"image\": {\"medium\": \"http://tvmazecdn.com/uploads/images/medium_portrait/28/70723.jpg\", \"original\": \"http://tvmazecdn.com/uploads/images/original_untouched/28/70723.jpg\"}, \"externals\": {\"thetvdb\": 295647, \"tvrage\": 44628, \"imdb\": \"tt4474344\"}, \"premiered\": \"2015-09-21\", \"summary\": \"<p>A beautiful woman, with no memories of her past, is found naked in Times\\n Square with her body fully covered in intricate tattoos. Her discovery \\nsets off a vast and complex mystery that immediately ignites the \\nattention of the FBI, which begins to follow the road map on her body \\ninto a larger conspiracy of crime, while bringing her closer to \\ndiscovering the truth about her identity.</p>\", \"_links\": {\"previousepisode\": {\"href\": \"http://api.tvmaze.com/episodes/410719\"}, \"self\": {\"href\": \"http://api.tvmaze.com/shows/1855\"}, \"nextepisode\": {\"href\": \"http://api.tvmaze.com/episodes/536750\"}}, \"webChannel\": null, \"runtime\": 60, \"type\": \"Scripted\", \"id\": 1855, \"network\": {\"country\": {\"timezone\": \"America/New_York\", \"code\": \"US\", \"name\": \"United States\"}, \"id\": 1, \"name\": \"NBC\"}}, \"_index\": \"tvseries\"}, {\"_score\": 3.4181666, \"_type\": \"serie\", \"_id\": \"5\", \"_source\": {\"status\": \"To Be Determined\", \"rating\": {\"average\": 8.5}, \"genres\": [\"Drama\", \"Crime\", \"Thriller\", \"Mystery\"], \"weight\": 4, \"updated\": 1455233815, \"name\": \"True Detective\", \"language\": \"English\", \"schedule\": {\"days\": [\"Sunday\"], \"time\": \"21:00\"}, \"url\": \"http://www.tvmaze.com/shows/5/true-detective\", \"image\": {\"medium\": \"http://tvmazecdn.com/uploads/images/medium_portrait/0/61.jpg\", \"original\": \"http://tvmazecdn.com/uploads/images/original_untouched/0/61.jpg\"}, \"externals\": {\"thetvdb\": 270633, \"tvrage\": 31369, \"imdb\": \"tt2356777\"}, \"premiered\": \"2014-01-12\", \"summary\": \"<p>The series stars Matthew McConaughey and Woody Harrelson as Louisiana detectives Rust Cohle and Martin Hart, whose lives collide and entwine during a 17-year hunt for a killer, ranging from the original investigation of a bizarre murder in 1995 to the reopening of the case in 2012. Michelle Monaghan also stars as Hart's wife, Maggie, who struggles to keep her family together as the men in her life become locked in a cycle of violence and obsession.</p>\", \"_links\": {\"previousepisode\": {\"href\": \"http://api.tvmaze.com/episodes/182325\"}, \"self\": {\"href\": \"http://api.tvmaze.com/shows/5\"}}, \"webChannel\": null, \"runtime\": 60, \"type\": \"Scripted\", \"id\": 5, \"network\": {\"country\": {\"timezone\": \"America/New_York\", \"code\": \"US\", \"name\": \"United States\"}, \"id\": 8, \"name\": \"HBO\"}}, \"_index\": \"tvseries\"}], \"total\": 2, \"max_score\": 3.4181666}, \"_shards\": {\"successful\": 1, \"failed\": 0, \"total\": 1}, \"took\": 1, \"timed_out\": false}))\n",
       "        });\n",
       "        "
      ]
     },
     "metadata": {},
     "output_type": "display_data"
    }
   ],
   "source": [
    "payload = \"\"\"\n",
    "{\n",
    "  \"query\" : {\n",
    "    \"bool\" : {\n",
    "        \"must\" : {\n",
    "            \"term\" : { \"genres\" : \"Thriller\" }\n",
    "        },\n",
    "        \"must_not\" : {\n",
    "            \"term\" : { \"summary\" : \"mexico\" }\n",
    "        },\n",
    "        \"should\" : [\n",
    "           {\"term\" : { \"genres\" : \"Mystery\" }},\n",
    "           {\"term\" : { \"genres\" : \"Crime\" }}\n",
    "\n",
    "           ],\n",
    "        \"minimum_should_match\" : 1,\n",
    "        \"boost\" : 1.0\n",
    "    }\n",
    "  }\n",
    "}\n",
    "\"\"\"\n",
    "\n",
    "r = requests.get('http://localhost:9200/tvseries/serie/_search?pretty', data = payload)\n",
    "RenderJSON(r.json())\n"
   ]
  },
  {
   "cell_type": "markdown",
   "metadata": {
    "slideshow": {
     "slide_type": "subslide"
    }
   },
   "source": [
    "### Query DSL - búsqueda  de frase "
   ]
  },
  {
   "cell_type": "code",
   "execution_count": 54,
   "metadata": {
    "collapsed": false
   },
   "outputs": [
    {
     "data": {
      "text/html": [
       "<div id=\"1ae1ebdb-f015-43d6-b48b-3db531a7b043\" style=\"height: 600px; width:100%;\"></div>"
      ]
     },
     "metadata": {},
     "output_type": "display_data"
    },
    {
     "data": {
      "application/javascript": [
       "\n",
       "        require([\"https://rawgit.com/caldwell/renderjson/master/renderjson.js\"], function() {\n",
       "          document.getElementById('1ae1ebdb-f015-43d6-b48b-3db531a7b043').appendChild(renderjson({\"hits\": {\"hits\": [{\"_type\": \"serie\", \"_index\": \"tvseries\", \"_score\": 0.39093995, \"_source\": {\"status\": \"Ended\", \"rating\": {\"average\": 9.3}, \"genres\": [\"Drama\", \"Crime\", \"Thriller\"], \"weight\": 3, \"updated\": 1451250971, \"name\": \"Breaking Bad\", \"language\": \"English\", \"schedule\": {\"days\": [\"Sunday\"], \"time\": \"22:00\"}, \"url\": \"http://www.tvmaze.com/shows/169/breaking-bad\", \"image\": {\"medium\": \"http://tvmazecdn.com/uploads/images/medium_portrait/0/2400.jpg\", \"original\": \"http://tvmazecdn.com/uploads/images/original_untouched/0/2400.jpg\"}, \"externals\": {\"thetvdb\": 81189, \"tvrage\": 18164, \"imdb\": \"tt0903747\"}, \"premiered\": \"2008-01-20\", \"summary\": \"<p><em><strong>\\\"Breaking Bad\\\"</strong></em> follows protagonist Walter White, a chemistry teacher who lives in New Mexico with his wife and teenage son who has cerebral palsy. White is diagnosed with Stage III cancer and given a prognosis of two years left to live. With a new sense of fearlessness based on his medical prognosis, and a desire to secure his family's financial security, White chooses to enter a dangerous world of drugs and crime and ascends to power in this world. The series explores how a fatal diagnosis such as White's releases a typical man from the daily concerns and constraints of normal society and follows his transformation from mild family man to a kingpin of the drug trade.</p>\", \"_links\": {\"previousepisode\": {\"href\": \"http://api.tvmaze.com/episodes/12253\"}, \"self\": {\"href\": \"http://api.tvmaze.com/shows/169\"}}, \"webChannel\": null, \"runtime\": 60, \"type\": \"Scripted\", \"id\": 169, \"network\": {\"country\": {\"timezone\": \"America/New_York\", \"code\": \"US\", \"name\": \"United States\"}, \"id\": 20, \"name\": \"AMC\"}}, \"_node\": \"q4xC3bhASEGXF0bMpFvTjQ\", \"_explanation\": {\"description\": \"sum of:\", \"value\": 0.39093995, \"details\": [{\"description\": \"weight(_all:\\\"walter white\\\" in 0) [PerFieldSimilarity], result of:\", \"value\": 0.39093995, \"details\": [{\"description\": \"fieldWeight in 0, product of:\", \"value\": 0.39093995, \"details\": [{\"description\": \"tf(freq=1.0), with freq of:\", \"value\": 1.0, \"details\": [{\"description\": \"phraseFreq=1.0\", \"value\": 1.0, \"details\": []}]}, {\"description\": \"idf(), sum of:\", \"value\": 5.004031, \"details\": [{\"description\": \"idf(docFreq=1, maxDocs=11)\", \"value\": 2.7047482, \"details\": []}, {\"description\": \"idf(docFreq=2, maxDocs=11)\", \"value\": 2.299283, \"details\": []}]}, {\"description\": \"fieldNorm(doc=0)\", \"value\": 0.078125, \"details\": []}]}]}, {\"description\": \"match on required clause, product of:\", \"value\": 0.0, \"details\": [{\"description\": \"# clause\", \"value\": 0.0, \"details\": []}, {\"description\": \"_type:serie, product of:\", \"value\": 0.19983888, \"details\": [{\"description\": \"boost\", \"value\": 1.0, \"details\": []}, {\"description\": \"queryNorm\", \"value\": 0.19983888, \"details\": []}]}]}]}, \"_shard\": 0, \"_id\": \"169\"}], \"total\": 1, \"max_score\": 0.39093995}, \"_shards\": {\"successful\": 1, \"failed\": 0, \"total\": 1}, \"took\": 25, \"timed_out\": false}))\n",
       "        });\n",
       "        "
      ]
     },
     "metadata": {},
     "output_type": "display_data"
    }
   ],
   "source": [
    "payload = \"\"\"\n",
    "{\n",
    "    \"query\" : {\n",
    "        \"match_phrase\" : {\n",
    "            \"_all\" : \"Walter White\"\n",
    "        }\n",
    "    }\n",
    "}\n",
    "\"\"\"\n",
    "\n",
    "r = requests.get('http://localhost:9200/tvseries/serie/_search?pretty&explain', data = payload)\n",
    "RenderJSON(r.json())\n"
   ]
  },
  {
   "cell_type": "markdown",
   "metadata": {
    "slideshow": {
     "slide_type": "subslide"
    }
   },
   "source": [
    "### Query DSL - Búsqueda por matching parcial"
   ]
  },
  {
   "cell_type": "code",
   "execution_count": 60,
   "metadata": {
    "collapsed": false
   },
   "outputs": [
    {
     "data": {
      "text/html": [
       "<div id=\"b24ba597-4478-440e-8b14-96a4badb4706\" style=\"height: 600px; width:100%;\"></div>"
      ]
     },
     "metadata": {},
     "output_type": "display_data"
    },
    {
     "data": {
      "application/javascript": [
       "\n",
       "        require([\"https://rawgit.com/caldwell/renderjson/master/renderjson.js\"], function() {\n",
       "          document.getElementById('b24ba597-4478-440e-8b14-96a4badb4706').appendChild(renderjson({\"hits\": {\"hits\": [{\"_score\": 1.0, \"_type\": \"serie\", \"_id\": \"169\", \"_source\": {\"status\": \"Ended\", \"rating\": {\"average\": 9.3}, \"genres\": [\"Drama\", \"Crime\", \"Thriller\"], \"weight\": 3, \"updated\": 1451250971, \"name\": \"Breaking Bad\", \"language\": \"English\", \"schedule\": {\"days\": [\"Sunday\"], \"time\": \"22:00\"}, \"url\": \"http://www.tvmaze.com/shows/169/breaking-bad\", \"image\": {\"medium\": \"http://tvmazecdn.com/uploads/images/medium_portrait/0/2400.jpg\", \"original\": \"http://tvmazecdn.com/uploads/images/original_untouched/0/2400.jpg\"}, \"externals\": {\"thetvdb\": 81189, \"tvrage\": 18164, \"imdb\": \"tt0903747\"}, \"premiered\": \"2008-01-20\", \"summary\": \"<p><em><strong>\\\"Breaking Bad\\\"</strong></em> follows protagonist Walter White, a chemistry teacher who lives in New Mexico with his wife and teenage son who has cerebral palsy. White is diagnosed with Stage III cancer and given a prognosis of two years left to live. With a new sense of fearlessness based on his medical prognosis, and a desire to secure his family's financial security, White chooses to enter a dangerous world of drugs and crime and ascends to power in this world. The series explores how a fatal diagnosis such as White's releases a typical man from the daily concerns and constraints of normal society and follows his transformation from mild family man to a kingpin of the drug trade.</p>\", \"_links\": {\"previousepisode\": {\"href\": \"http://api.tvmaze.com/episodes/12253\"}, \"self\": {\"href\": \"http://api.tvmaze.com/shows/169\"}}, \"webChannel\": null, \"runtime\": 60, \"type\": \"Scripted\", \"id\": 169, \"network\": {\"country\": {\"timezone\": \"America/New_York\", \"code\": \"US\", \"name\": \"United States\"}, \"id\": 20, \"name\": \"AMC\"}}, \"_index\": \"tvseries\"}], \"total\": 1, \"max_score\": 1.0}, \"_shards\": {\"successful\": 1, \"failed\": 0, \"total\": 1}, \"took\": 1, \"timed_out\": false}))\n",
       "        });\n",
       "        "
      ]
     },
     "metadata": {},
     "output_type": "display_data"
    }
   ],
   "source": [
    "payload = \"\"\"\n",
    "{\n",
    "  \"query\" : {\n",
    "    \"prefix\" : { \"name\" : \"break\" }\n",
    "  }\n",
    "}\n",
    "\"\"\"\n",
    "\n",
    "r = requests.get('http://localhost:9200/tvseries/serie/_search?pretty', data = payload)\n",
    "RenderJSON(r.json())\n"
   ]
  },
  {
   "cell_type": "markdown",
   "metadata": {},
   "source": [
    "- wildcards \n",
    "- regexps\n",
    "\n",
    "Son búsquedas más costosas - en general expanden el número de terminos y requieren recorrer todo el diccionario"
   ]
  },
  {
   "cell_type": "markdown",
   "metadata": {
    "slideshow": {
     "slide_type": "subslide"
    }
   },
   "source": [
    "### Query DSL - busquedas borrosas"
   ]
  },
  {
   "cell_type": "code",
   "execution_count": 65,
   "metadata": {
    "collapsed": false
   },
   "outputs": [
    {
     "data": {
      "text/html": [
       "<div id=\"fb60e753-f23e-44da-a29b-270807ebdbdb\" style=\"height: 600px; width:100%;\"></div>"
      ]
     },
     "metadata": {},
     "output_type": "display_data"
    },
    {
     "data": {
      "application/javascript": [
       "\n",
       "        require([\"https://rawgit.com/caldwell/renderjson/master/renderjson.js\"], function() {\n",
       "          document.getElementById('fb60e753-f23e-44da-a29b-270807ebdbdb').appendChild(renderjson({\"hits\": {\"hits\": [{\"_score\": 0.30088398, \"_type\": \"serie\", \"_id\": \"169\", \"_source\": {\"status\": \"Ended\", \"rating\": {\"average\": 9.3}, \"genres\": [\"Drama\", \"Crime\", \"Thriller\"], \"weight\": 3, \"updated\": 1451250971, \"name\": \"Breaking Bad\", \"language\": \"English\", \"schedule\": {\"days\": [\"Sunday\"], \"time\": \"22:00\"}, \"url\": \"http://www.tvmaze.com/shows/169/breaking-bad\", \"image\": {\"medium\": \"http://tvmazecdn.com/uploads/images/medium_portrait/0/2400.jpg\", \"original\": \"http://tvmazecdn.com/uploads/images/original_untouched/0/2400.jpg\"}, \"externals\": {\"thetvdb\": 81189, \"tvrage\": 18164, \"imdb\": \"tt0903747\"}, \"premiered\": \"2008-01-20\", \"summary\": \"<p><em><strong>\\\"Breaking Bad\\\"</strong></em> follows protagonist Walter White, a chemistry teacher who lives in New Mexico with his wife and teenage son who has cerebral palsy. White is diagnosed with Stage III cancer and given a prognosis of two years left to live. With a new sense of fearlessness based on his medical prognosis, and a desire to secure his family's financial security, White chooses to enter a dangerous world of drugs and crime and ascends to power in this world. The series explores how a fatal diagnosis such as White's releases a typical man from the daily concerns and constraints of normal society and follows his transformation from mild family man to a kingpin of the drug trade.</p>\", \"_links\": {\"previousepisode\": {\"href\": \"http://api.tvmaze.com/episodes/12253\"}, \"self\": {\"href\": \"http://api.tvmaze.com/shows/169\"}}, \"webChannel\": null, \"runtime\": 60, \"type\": \"Scripted\", \"id\": 169, \"network\": {\"country\": {\"timezone\": \"America/New_York\", \"code\": \"US\", \"name\": \"United States\"}, \"id\": 20, \"name\": \"AMC\"}}, \"_index\": \"tvseries\"}, {\"_score\": 0.12595144, \"_type\": \"serie\", \"_id\": \"51\", \"_source\": {\"status\": \"To Be Determined\", \"rating\": {\"average\": 8.7}, \"genres\": [\"Drama\", \"Medical\"], \"weight\": 2, \"updated\": 1455121010, \"name\": \"The Knick\", \"language\": \"English\", \"schedule\": {\"days\": [\"Friday\"], \"time\": \"22:00\"}, \"url\": \"http://www.tvmaze.com/shows/51/the-knick\", \"image\": {\"medium\": \"http://tvmazecdn.com/uploads/images/medium_portrait/0/417.jpg\", \"original\": \"http://tvmazecdn.com/uploads/images/original_untouched/0/417.jpg\"}, \"externals\": {\"thetvdb\": 279977, \"tvrage\": 36033, \"imdb\": \"tt2937900\"}, \"premiered\": \"2014-08-08\", \"summary\": \"<p>New York City, 1900: The Knickerbocker Hospital is home to groundbreaking surgeons, nurses and staff who push the boundaries of medicine in a time of astonishingly high mortality rates and zero antibiotics. The newly appointed leader of the surgery staff is the brilliant, arrogant renegade Dr. John Thackery, whose addiction to cocaine and opium is trumped only by his ambition for medical discovery and renown among his peers. Into the all-white staff and patient hospital comes the equally gifted Harvard graduate Dr. Algernon Edwards, who must fight for respect while trying to navigate the racially charged city. Trying to maintain its reputation for quality care while realizing a profit, the Knickerbocker makes an effort to attract wealthy clientele, while literally struggling to keep the lights on.</p>\", \"_links\": {\"previousepisode\": {\"href\": \"http://api.tvmaze.com/episodes/213032\"}, \"self\": {\"href\": \"http://api.tvmaze.com/shows/51\"}}, \"webChannel\": null, \"runtime\": 60, \"type\": \"Scripted\", \"id\": 51, \"network\": {\"country\": {\"timezone\": \"America/New_York\", \"code\": \"US\", \"name\": \"United States\"}, \"id\": 19, \"name\": \"Cinemax\"}}, \"_index\": \"tvseries\"}], \"total\": 2, \"max_score\": 0.30088398}, \"_shards\": {\"successful\": 1, \"failed\": 0, \"total\": 1}, \"took\": 7, \"timed_out\": false}))\n",
       "        });\n",
       "        "
      ]
     },
     "metadata": {},
     "output_type": "display_data"
    }
   ],
   "source": [
    "payload = \"\"\"\n",
    "{\n",
    "  \"query\" : {\n",
    "    \"fuzzy\" : { \"summary\" : \"mejico\" }\n",
    "  }\n",
    "}\n",
    "\"\"\"\n",
    "\n",
    "r = requests.get('http://localhost:9200/tvseries/serie/_search', data = payload)\n",
    "RenderJSON(r.json())\n"
   ]
  },
  {
   "cell_type": "code",
   "execution_count": 64,
   "metadata": {
    "collapsed": false,
    "slideshow": {
     "slide_type": "subslide"
    }
   },
   "outputs": [
    {
     "data": {
      "text/html": [
       "<div id=\"8994995f-fb9b-477d-ba4c-0ecdbce9dd84\" style=\"height: 600px; width:100%;\"></div>"
      ]
     },
     "metadata": {},
     "output_type": "display_data"
    },
    {
     "data": {
      "application/javascript": [
       "\n",
       "        require([\"https://rawgit.com/caldwell/renderjson/master/renderjson.js\"], function() {\n",
       "          document.getElementById('8994995f-fb9b-477d-ba4c-0ecdbce9dd84').appendChild(renderjson({\"hits\": {\"hits\": [{\"_score\": 0.25357014, \"_type\": \"serie\", \"_id\": \"169\", \"_source\": {\"status\": \"Ended\", \"rating\": {\"average\": 9.3}, \"genres\": [\"Drama\", \"Crime\", \"Thriller\"], \"weight\": 3, \"updated\": 1451250971, \"name\": \"Breaking Bad\", \"language\": \"English\", \"schedule\": {\"days\": [\"Sunday\"], \"time\": \"22:00\"}, \"url\": \"http://www.tvmaze.com/shows/169/breaking-bad\", \"image\": {\"medium\": \"http://tvmazecdn.com/uploads/images/medium_portrait/0/2400.jpg\", \"original\": \"http://tvmazecdn.com/uploads/images/original_untouched/0/2400.jpg\"}, \"externals\": {\"thetvdb\": 81189, \"tvrage\": 18164, \"imdb\": \"tt0903747\"}, \"premiered\": \"2008-01-20\", \"summary\": \"<p><em><strong>\\\"Breaking Bad\\\"</strong></em> follows protagonist Walter White, a chemistry teacher who lives in New Mexico with his wife and teenage son who has cerebral palsy. White is diagnosed with Stage III cancer and given a prognosis of two years left to live. With a new sense of fearlessness based on his medical prognosis, and a desire to secure his family's financial security, White chooses to enter a dangerous world of drugs and crime and ascends to power in this world. The series explores how a fatal diagnosis such as White's releases a typical man from the daily concerns and constraints of normal society and follows his transformation from mild family man to a kingpin of the drug trade.</p>\", \"_links\": {\"previousepisode\": {\"href\": \"http://api.tvmaze.com/episodes/12253\"}, \"self\": {\"href\": \"http://api.tvmaze.com/shows/169\"}}, \"webChannel\": null, \"runtime\": 60, \"type\": \"Scripted\", \"id\": 169, \"network\": {\"country\": {\"timezone\": \"America/New_York\", \"code\": \"US\", \"name\": \"United States\"}, \"id\": 20, \"name\": \"AMC\"}}, \"_index\": \"tvseries\"}], \"total\": 1, \"max_score\": 0.25357014}, \"_shards\": {\"successful\": 1, \"failed\": 0, \"total\": 1}, \"took\": 2, \"timed_out\": false}))\n",
       "        });\n",
       "        "
      ]
     },
     "metadata": {},
     "output_type": "display_data"
    }
   ],
   "source": [
    "payload = \"\"\"\n",
    "{\n",
    "  \"query\" : {\n",
    "    \"fuzzy\" : {\n",
    "        \"summary\" : {\n",
    "            \"value\" :         \"mejico\",\n",
    "            \"boost\" :         1.0,\n",
    "            \"fuzziness\" :     1,\n",
    "            \"prefix_length\" : 0,\n",
    "            \"max_expansions\": 100\n",
    "        }\n",
    "    }\n",
    "    }\n",
    "}\"\"\"\n",
    "\n",
    "\n",
    "r = requests.get('http://localhost:9200/tvseries/serie/_search', data = payload)\n",
    "RenderJSON(r.json())\n"
   ]
  },
  {
   "cell_type": "markdown",
   "metadata": {
    "slideshow": {
     "slide_type": "subslide"
    }
   },
   "source": [
    "### Query DSL - Boosting"
   ]
  },
  {
   "cell_type": "code",
   "execution_count": 67,
   "metadata": {
    "collapsed": false
   },
   "outputs": [
    {
     "data": {
      "text/html": [
       "<div id=\"dccce640-ff7f-44aa-ba07-249a38bf5a4a\" style=\"height: 600px; width:100%;\"></div>"
      ]
     },
     "metadata": {},
     "output_type": "display_data"
    },
    {
     "data": {
      "application/javascript": [
       "\n",
       "        require([\"https://rawgit.com/caldwell/renderjson/master/renderjson.js\"], function() {\n",
       "          document.getElementById('dccce640-ff7f-44aa-ba07-249a38bf5a4a').appendChild(renderjson({\"hits\": {\"hits\": [{\"_score\": 2.0972087, \"_type\": \"serie\", \"_id\": \"169\", \"_source\": {\"status\": \"Ended\", \"rating\": {\"average\": 9.3}, \"genres\": [\"Drama\", \"Crime\", \"Thriller\"], \"weight\": 3, \"updated\": 1451250971, \"name\": \"Breaking Bad\", \"language\": \"English\", \"schedule\": {\"days\": [\"Sunday\"], \"time\": \"22:00\"}, \"url\": \"http://www.tvmaze.com/shows/169/breaking-bad\", \"image\": {\"medium\": \"http://tvmazecdn.com/uploads/images/medium_portrait/0/2400.jpg\", \"original\": \"http://tvmazecdn.com/uploads/images/original_untouched/0/2400.jpg\"}, \"externals\": {\"thetvdb\": 81189, \"tvrage\": 18164, \"imdb\": \"tt0903747\"}, \"premiered\": \"2008-01-20\", \"summary\": \"<p><em><strong>\\\"Breaking Bad\\\"</strong></em> follows protagonist Walter White, a chemistry teacher who lives in New Mexico with his wife and teenage son who has cerebral palsy. White is diagnosed with Stage III cancer and given a prognosis of two years left to live. With a new sense of fearlessness based on his medical prognosis, and a desire to secure his family's financial security, White chooses to enter a dangerous world of drugs and crime and ascends to power in this world. The series explores how a fatal diagnosis such as White's releases a typical man from the daily concerns and constraints of normal society and follows his transformation from mild family man to a kingpin of the drug trade.</p>\", \"_links\": {\"previousepisode\": {\"href\": \"http://api.tvmaze.com/episodes/12253\"}, \"self\": {\"href\": \"http://api.tvmaze.com/shows/169\"}}, \"webChannel\": null, \"runtime\": 60, \"type\": \"Scripted\", \"id\": 169, \"network\": {\"country\": {\"timezone\": \"America/New_York\", \"code\": \"US\", \"name\": \"United States\"}, \"id\": 20, \"name\": \"AMC\"}}, \"_index\": \"tvseries\"}, {\"_score\": 2.0972087, \"_type\": \"serie\", \"_id\": \"170\", \"_source\": {\"status\": \"Running\", \"rating\": {\"average\": 8.4}, \"genres\": [\"Drama\", \"Comedy\", \"Crime\"], \"weight\": 3, \"updated\": 1453253701, \"name\": \"Orange is the New Black\", \"language\": \"English\", \"schedule\": {\"days\": [\"Friday\"], \"time\": \"00:01\"}, \"url\": \"http://www.tvmaze.com/shows/170/orange-is-the-new-black\", \"image\": {\"medium\": \"http://tvmazecdn.com/uploads/images/medium_portrait/0/2414.jpg\", \"original\": \"http://tvmazecdn.com/uploads/images/original_untouched/0/2414.jpg\"}, \"externals\": {\"thetvdb\": 264586, \"tvrage\": 32950, \"imdb\": \"tt2372162\"}, \"premiered\": \"2013-07-11\", \"summary\": \"<p>The story of Piper Chapman, a woman in her thirties who is sentenced to fifteen months in prison after being convicted of a decade-old crime of transporting money for her drug-dealing girlfriend.</p>\", \"_links\": {\"previousepisode\": {\"href\": \"http://api.tvmaze.com/episodes/143007\"}, \"self\": {\"href\": \"http://api.tvmaze.com/shows/170\"}, \"nextepisode\": {\"href\": \"http://api.tvmaze.com/episodes/574624\"}}, \"webChannel\": {\"country\": {\"timezone\": \"America/New_York\", \"code\": \"US\", \"name\": \"United States\"}, \"id\": 1, \"name\": \"Netflix\"}, \"runtime\": 60, \"type\": \"Scripted\", \"id\": 170, \"network\": null}, \"_index\": \"tvseries\"}, {\"_score\": 2.0972087, \"_type\": \"serie\", \"_id\": \"5\", \"_source\": {\"status\": \"To Be Determined\", \"rating\": {\"average\": 8.5}, \"genres\": [\"Drama\", \"Crime\", \"Thriller\", \"Mystery\"], \"weight\": 4, \"updated\": 1455233815, \"name\": \"True Detective\", \"language\": \"English\", \"schedule\": {\"days\": [\"Sunday\"], \"time\": \"21:00\"}, \"url\": \"http://www.tvmaze.com/shows/5/true-detective\", \"image\": {\"medium\": \"http://tvmazecdn.com/uploads/images/medium_portrait/0/61.jpg\", \"original\": \"http://tvmazecdn.com/uploads/images/original_untouched/0/61.jpg\"}, \"externals\": {\"thetvdb\": 270633, \"tvrage\": 31369, \"imdb\": \"tt2356777\"}, \"premiered\": \"2014-01-12\", \"summary\": \"<p>The series stars Matthew McConaughey and Woody Harrelson as Louisiana detectives Rust Cohle and Martin Hart, whose lives collide and entwine during a 17-year hunt for a killer, ranging from the original investigation of a bizarre murder in 1995 to the reopening of the case in 2012. Michelle Monaghan also stars as Hart's wife, Maggie, who struggles to keep her family together as the men in her life become locked in a cycle of violence and obsession.</p>\", \"_links\": {\"previousepisode\": {\"href\": \"http://api.tvmaze.com/episodes/182325\"}, \"self\": {\"href\": \"http://api.tvmaze.com/shows/5\"}}, \"webChannel\": null, \"runtime\": 60, \"type\": \"Scripted\", \"id\": 5, \"network\": {\"country\": {\"timezone\": \"America/New_York\", \"code\": \"US\", \"name\": \"United States\"}, \"id\": 8, \"name\": \"HBO\"}}, \"_index\": \"tvseries\"}, {\"_score\": 0.7625803, \"_type\": \"serie\", \"_id\": \"1855\", \"_source\": {\"status\": \"Running\", \"rating\": {\"average\": 7.8}, \"genres\": [\"Action\", \"Crime\", \"Thriller\", \"Mystery\"], \"weight\": 11, \"updated\": 1455891788, \"name\": \"Blindspot\", \"language\": \"English\", \"schedule\": {\"days\": [\"Monday\"], \"time\": \"22:00\"}, \"url\": \"http://www.tvmaze.com/shows/1855/blindspot\", \"image\": {\"medium\": \"http://tvmazecdn.com/uploads/images/medium_portrait/28/70723.jpg\", \"original\": \"http://tvmazecdn.com/uploads/images/original_untouched/28/70723.jpg\"}, \"externals\": {\"thetvdb\": 295647, \"tvrage\": 44628, \"imdb\": \"tt4474344\"}, \"premiered\": \"2015-09-21\", \"summary\": \"<p>A beautiful woman, with no memories of her past, is found naked in Times\\n Square with her body fully covered in intricate tattoos. Her discovery \\nsets off a vast and complex mystery that immediately ignites the \\nattention of the FBI, which begins to follow the road map on her body \\ninto a larger conspiracy of crime, while bringing her closer to \\ndiscovering the truth about her identity.</p>\", \"_links\": {\"previousepisode\": {\"href\": \"http://api.tvmaze.com/episodes/410719\"}, \"self\": {\"href\": \"http://api.tvmaze.com/shows/1855\"}, \"nextepisode\": {\"href\": \"http://api.tvmaze.com/episodes/536750\"}}, \"webChannel\": null, \"runtime\": 60, \"type\": \"Scripted\", \"id\": 1855, \"network\": {\"country\": {\"timezone\": \"America/New_York\", \"code\": \"US\", \"name\": \"United States\"}, \"id\": 1, \"name\": \"NBC\"}}, \"_index\": \"tvseries\"}, {\"_score\": 0.2860241, \"_type\": \"serie\", \"_id\": \"51\", \"_source\": {\"status\": \"To Be Determined\", \"rating\": {\"average\": 8.7}, \"genres\": [\"Drama\", \"Medical\"], \"weight\": 2, \"updated\": 1455121010, \"name\": \"The Knick\", \"language\": \"English\", \"schedule\": {\"days\": [\"Friday\"], \"time\": \"22:00\"}, \"url\": \"http://www.tvmaze.com/shows/51/the-knick\", \"image\": {\"medium\": \"http://tvmazecdn.com/uploads/images/medium_portrait/0/417.jpg\", \"original\": \"http://tvmazecdn.com/uploads/images/original_untouched/0/417.jpg\"}, \"externals\": {\"thetvdb\": 279977, \"tvrage\": 36033, \"imdb\": \"tt2937900\"}, \"premiered\": \"2014-08-08\", \"summary\": \"<p>New York City, 1900: The Knickerbocker Hospital is home to groundbreaking surgeons, nurses and staff who push the boundaries of medicine in a time of astonishingly high mortality rates and zero antibiotics. The newly appointed leader of the surgery staff is the brilliant, arrogant renegade Dr. John Thackery, whose addiction to cocaine and opium is trumped only by his ambition for medical discovery and renown among his peers. Into the all-white staff and patient hospital comes the equally gifted Harvard graduate Dr. Algernon Edwards, who must fight for respect while trying to navigate the racially charged city. Trying to maintain its reputation for quality care while realizing a profit, the Knickerbocker makes an effort to attract wealthy clientele, while literally struggling to keep the lights on.</p>\", \"_links\": {\"previousepisode\": {\"href\": \"http://api.tvmaze.com/episodes/213032\"}, \"self\": {\"href\": \"http://api.tvmaze.com/shows/51\"}}, \"webChannel\": null, \"runtime\": 60, \"type\": \"Scripted\", \"id\": 51, \"network\": {\"country\": {\"timezone\": \"America/New_York\", \"code\": \"US\", \"name\": \"United States\"}, \"id\": 19, \"name\": \"Cinemax\"}}, \"_index\": \"tvseries\"}, {\"_score\": 0.2860241, \"_type\": \"serie\", \"_id\": \"175\", \"_source\": {\"status\": \"Running\", \"rating\": {\"average\": 8.9}, \"genres\": [\"Drama\", \"Thriller\"], \"weight\": 7, \"updated\": 1454549570, \"name\": \"House of Cards\", \"language\": \"English\", \"schedule\": {\"days\": [\"Friday\"], \"time\": \"00:01\"}, \"url\": \"http://www.tvmaze.com/shows/175/house-of-cards\", \"image\": {\"medium\": \"http://tvmazecdn.com/uploads/images/medium_portrait/0/2460.jpg\", \"original\": \"http://tvmazecdn.com/uploads/images/original_untouched/0/2460.jpg\"}, \"externals\": {\"thetvdb\": 262980, \"tvrage\": 27822, \"imdb\": \"tt1856010\"}, \"premiered\": \"2013-02-01\", \"summary\": \"<p>A Congressman works with his equally conniving wife to exact revenge on the people who betrayed him.</p>\", \"_links\": {\"previousepisode\": {\"href\": \"http://api.tvmaze.com/episodes/57773\"}, \"self\": {\"href\": \"http://api.tvmaze.com/shows/175\"}, \"nextepisode\": {\"href\": \"http://api.tvmaze.com/episodes/436756\"}}, \"webChannel\": {\"country\": {\"timezone\": \"America/New_York\", \"code\": \"US\", \"name\": \"United States\"}, \"id\": 1, \"name\": \"Netflix\"}, \"runtime\": 60, \"type\": \"Scripted\", \"id\": 175, \"network\": null}, \"_index\": \"tvseries\"}, {\"_score\": 0.2860241, \"_type\": \"serie\", \"_id\": \"82\", \"_source\": {\"status\": \"Running\", \"rating\": {\"average\": 9.4}, \"genres\": [\"Drama\", \"Adventure\", \"Fantasy\"], \"weight\": 14, \"updated\": 1454051645, \"name\": \"Game of Thrones\", \"language\": \"English\", \"schedule\": {\"days\": [\"Sunday\"], \"time\": \"21:00\"}, \"url\": \"http://www.tvmaze.com/shows/82/game-of-thrones\", \"image\": {\"medium\": \"http://tvmazecdn.com/uploads/images/medium_portrait/0/581.jpg\", \"original\": \"http://tvmazecdn.com/uploads/images/original_untouched/0/581.jpg\"}, \"externals\": {\"thetvdb\": 121361, \"tvrage\": 24493, \"imdb\": \"tt0944947\"}, \"premiered\": \"2011-04-17\", \"summary\": \"<p>Based on the bestselling book series A Song of Ice and Fire by George R.R. Martin, this sprawling new HBO drama is set in a world where summers span decades and winters can last a lifetime. From the scheming south and the savage eastern lands, to the frozen north and ancient Wall that protects the realm from the mysterious darkness beyond, the powerful families of the Seven Kingdoms are locked in a battle for the Iron Throne. This is a story of duplicity and treachery, nobility and honor, conquest and triumph. In the <strong><em>\\\"Game of Thrones\\\"</em></strong>, you either win or you die.</p>\", \"_links\": {\"previousepisode\": {\"href\": \"http://api.tvmaze.com/episodes/162186\"}, \"self\": {\"href\": \"http://api.tvmaze.com/shows/82\"}, \"nextepisode\": {\"href\": \"http://api.tvmaze.com/episodes/560813\"}}, \"webChannel\": null, \"runtime\": 60, \"type\": \"Scripted\", \"id\": 82, \"network\": {\"country\": {\"timezone\": \"America/New_York\", \"code\": \"US\", \"name\": \"United States\"}, \"id\": 8, \"name\": \"HBO\"}}, \"_index\": \"tvseries\"}, {\"_score\": 0.2860241, \"_type\": \"serie\", \"_id\": \"712\", \"_source\": {\"status\": \"Ended\", \"rating\": {\"average\": 8.7}, \"genres\": [\"Drama\", \"History\"], \"weight\": 0, \"updated\": 1449500544, \"name\": \"The Tudors\", \"language\": \"English\", \"schedule\": {\"days\": [], \"time\": \"21:00\"}, \"url\": \"http://www.tvmaze.com/shows/712/the-tudors\", \"image\": {\"medium\": \"http://tvmazecdn.com/uploads/images/medium_portrait/6/15022.jpg\", \"original\": \"http://tvmazecdn.com/uploads/images/original_untouched/6/15022.jpg\"}, \"externals\": {\"thetvdb\": 79925, \"tvrage\": 7927, \"imdb\": \"tt0758790\"}, \"premiered\": \"2007-04-01\", \"summary\": \"<p>The final season will consist of 10, one-hour episodes and center on his tumultuous relationships with his last two wives, Catherine Howard and Catherine Parr, and his final descent into madness.</p>\", \"_links\": {\"previousepisode\": {\"href\": \"http://api.tvmaze.com/episodes/62894\"}, \"self\": {\"href\": \"http://api.tvmaze.com/shows/712\"}}, \"webChannel\": null, \"runtime\": 60, \"type\": \"Scripted\", \"id\": 712, \"network\": {\"country\": {\"timezone\": \"America/New_York\", \"code\": \"US\", \"name\": \"United States\"}, \"id\": 9, \"name\": \"Showtime\"}}, \"_index\": \"tvseries\"}, {\"_score\": 0.2860241, \"_type\": \"serie\", \"_id\": \"9274\", \"_source\": {\"status\": \"Ended\", \"rating\": {\"average\": null}, \"genres\": [\"Drama\"], \"weight\": 0, \"updated\": 1455109198, \"name\": \"Isabel\", \"language\": \"Spanish\", \"schedule\": {\"days\": [], \"time\": \"\"}, \"url\": \"http://www.tvmaze.com/shows/9274/isabel\", \"image\": {\"medium\": \"http://tvmazecdn.com/uploads/images/medium_portrait/32/81594.jpg\", \"original\": \"http://tvmazecdn.com/uploads/images/original_untouched/32/81594.jpg\"}, \"externals\": {\"thetvdb\": 262381, \"tvrage\": 32792, \"imdb\": \"tt2011533\"}, \"premiered\": \"2012-09-10\", \"summary\": \"<p>Life of Isabella I of Castile, also known as Isabella the Catholic.</p>\", \"_links\": {\"previousepisode\": {\"href\": \"http://api.tvmaze.com/episodes/501878\"}, \"self\": {\"href\": \"http://api.tvmaze.com/shows/9274\"}}, \"webChannel\": null, \"runtime\": 60, \"type\": \"Scripted\", \"id\": 9274, \"network\": {\"country\": {\"timezone\": \"Europe/Madrid\", \"code\": \"ES\", \"name\": \"Spain\"}, \"id\": 147, \"name\": \"RTVE\"}}, \"_index\": \"tvseries\"}, {\"_score\": 0.2860241, \"_type\": \"serie\", \"_id\": \"3386\", \"_source\": {\"status\": \"Running\", \"rating\": {\"average\": 9.3}, \"genres\": [\"Drama\", \"History\"], \"weight\": 2, \"updated\": 1450525730, \"name\": \"Versailles\", \"language\": \"English\", \"schedule\": {\"days\": [], \"time\": \"\"}, \"url\": \"http://www.tvmaze.com/shows/3386/versailles\", \"image\": {\"medium\": \"http://tvmazecdn.com/uploads/images/medium_portrait/34/86312.jpg\", \"original\": \"http://tvmazecdn.com/uploads/images/original_untouched/34/86312.jpg\"}, \"externals\": {\"thetvdb\": 300280, \"tvrage\": null, \"imdb\": \"tt3830558\"}, \"premiered\": \"2015-11-16\", \"summary\": \"<p>Versailles, 1667. Louis XIV was 28 years old. To rise to the heights of the nobility and wield its absolute power, he launched the construction of Versailles... it proved to be a snare. Louis XIV is a young King haunted by childhood trauma, the Fronde civil, a rebellion of the nobility against his father, Louis XIII... It will prove be a strategic policy out of the ordinary, manipulative, Machiavellian, and he will \\\"invent\\\" Versailles for the nobles of Paris, to keep them under control, and gradually transform the castle into a golden prison. But how will Louis live as the greatest King in the world?</p><p> Historical fiction of the court figures and the more humble villagers, guiding us in a world of betrayals and secrets, politicking and declarations of love.</p>\", \"_links\": {\"previousepisode\": {\"href\": \"http://api.tvmaze.com/episodes/471693\"}, \"self\": {\"href\": \"http://api.tvmaze.com/shows/3386\"}}, \"webChannel\": null, \"runtime\": 60, \"type\": \"Scripted\", \"id\": 3386, \"network\": {\"country\": {\"timezone\": \"Europe/Paris\", \"code\": \"FR\", \"name\": \"France\"}, \"id\": 105, \"name\": \"Canal+\"}}, \"_index\": \"tvseries\"}], \"total\": 10, \"max_score\": 2.0972087}, \"_shards\": {\"successful\": 1, \"failed\": 0, \"total\": 1}, \"took\": 2, \"timed_out\": false}))\n",
       "        });\n",
       "        "
      ]
     },
     "metadata": {},
     "output_type": "display_data"
    }
   ],
   "source": [
    "\n",
    "payload = \"\"\"\n",
    "{\n",
    "  \"query\" : {\n",
    "     \"terms\" : { \n",
    "         \"genres\": [\"Drama\", \"Crime\"],\n",
    "         \"boost\" : 2.0\n",
    "      }\n",
    "  }\n",
    "}\n",
    "\"\"\"\n",
    "\n",
    "r = requests.get('http://localhost:9200/tvseries/serie/_search', data = payload)\n",
    "RenderJSON(r.json())\n"
   ]
  },
  {
   "cell_type": "markdown",
   "metadata": {
    "slideshow": {
     "slide_type": "subslide"
    }
   },
   "source": [
    "### Búsqueda multiindice\n",
    "[todo]"
   ]
  },
  {
   "cell_type": "code",
   "execution_count": 89,
   "metadata": {
    "collapsed": false
   },
   "outputs": [
    {
     "data": {
      "text/html": [
       "<div id=\"63354260-bc6a-4c6a-acdc-b6ff4d71caad\" style=\"height: 600px; width:100%;\"></div>"
      ]
     },
     "metadata": {},
     "output_type": "display_data"
    },
    {
     "data": {
      "application/javascript": [
       "\n",
       "        require([\"https://rawgit.com/caldwell/renderjson/master/renderjson.js\"], function() {\n",
       "          document.getElementById('63354260-bc6a-4c6a-acdc-b6ff4d71caad').appendChild(renderjson({\"hits\": {\"hits\": [{\"_score\": 0.21130845, \"_type\": \"serie\", \"_id\": \"51\", \"_source\": {\"status\": \"To Be Determined\", \"rating\": {\"average\": 8.7}, \"genres\": [\"Drama\", \"Medical\"], \"weight\": 2, \"updated\": 1455121010, \"name\": \"The Knick\", \"language\": \"English\", \"schedule\": {\"days\": [\"Friday\"], \"time\": \"22:00\"}, \"url\": \"http://www.tvmaze.com/shows/51/the-knick\", \"image\": {\"medium\": \"http://tvmazecdn.com/uploads/images/medium_portrait/0/417.jpg\", \"original\": \"http://tvmazecdn.com/uploads/images/original_untouched/0/417.jpg\"}, \"externals\": {\"thetvdb\": 279977, \"tvrage\": 36033, \"imdb\": \"tt2937900\"}, \"premiered\": \"2014-08-08\", \"summary\": \"<p>New York City, 1900: The Knickerbocker Hospital is home to groundbreaking surgeons, nurses and staff who push the boundaries of medicine in a time of astonishingly high mortality rates and zero antibiotics. The newly appointed leader of the surgery staff is the brilliant, arrogant renegade Dr. John Thackery, whose addiction to cocaine and opium is trumped only by his ambition for medical discovery and renown among his peers. Into the all-white staff and patient hospital comes the equally gifted Harvard graduate Dr. Algernon Edwards, who must fight for respect while trying to navigate the racially charged city. Trying to maintain its reputation for quality care while realizing a profit, the Knickerbocker makes an effort to attract wealthy clientele, while literally struggling to keep the lights on.</p>\", \"_links\": {\"previousepisode\": {\"href\": \"http://api.tvmaze.com/episodes/213032\"}, \"self\": {\"href\": \"http://api.tvmaze.com/shows/51\"}}, \"webChannel\": null, \"runtime\": 60, \"type\": \"Scripted\", \"id\": 51, \"network\": {\"country\": {\"timezone\": \"America/New_York\", \"code\": \"US\", \"name\": \"United States\"}, \"id\": 19, \"name\": \"Cinemax\"}}, \"_index\": \"tvseries\"}, {\"_score\": 0.076713204, \"_type\": \"employee\", \"_id\": \"1\", \"_source\": {\"interests\": [\"sports\", \"music\"], \"about\": \"I love to go rock climbing\", \"first_name\": \"John\", \"last_name\": \"Smith\", \"age\": 25}, \"_index\": \"megacorp\"}], \"total\": 2, \"max_score\": 0.21130845}, \"_shards\": {\"successful\": 2, \"failed\": 0, \"total\": 2}, \"took\": 2, \"timed_out\": false}))\n",
       "        });\n",
       "        "
      ]
     },
     "metadata": {},
     "output_type": "display_data"
    }
   ],
   "source": [
    "payload = \"\"\"\n",
    "{\n",
    "    \"query\" : {\n",
    "        \"match\" : {\n",
    "            \"_all\" : \"John\"\n",
    "        }\n",
    "    }\n",
    "}\n",
    "\"\"\"\n",
    "\n",
    "r = requests.get('http://localhost:9200/tvseries,megacorp/serie,employee/_search', data = payload)\n",
    "RenderJSON(r.json())\n"
   ]
  },
  {
   "cell_type": "code",
   "execution_count": 91,
   "metadata": {
    "collapsed": false
   },
   "outputs": [
    {
     "data": {
      "text/html": [
       "<div id=\"7d2cf3a4-31ea-42c9-9b8f-9369617942fc\" style=\"height: 600px; width:100%;\"></div>"
      ]
     },
     "metadata": {},
     "output_type": "display_data"
    },
    {
     "data": {
      "application/javascript": [
       "\n",
       "        require([\"https://rawgit.com/caldwell/renderjson/master/renderjson.js\"], function() {\n",
       "          document.getElementById('7d2cf3a4-31ea-42c9-9b8f-9369617942fc').appendChild(renderjson({\"hits\": {\"hits\": [{\"_score\": 0.21130845, \"_type\": \"serie\", \"_id\": \"51\", \"_source\": {\"status\": \"To Be Determined\", \"rating\": {\"average\": 8.7}, \"genres\": [\"Drama\", \"Medical\"], \"weight\": 2, \"updated\": 1455121010, \"name\": \"The Knick\", \"language\": \"English\", \"schedule\": {\"days\": [\"Friday\"], \"time\": \"22:00\"}, \"url\": \"http://www.tvmaze.com/shows/51/the-knick\", \"image\": {\"medium\": \"http://tvmazecdn.com/uploads/images/medium_portrait/0/417.jpg\", \"original\": \"http://tvmazecdn.com/uploads/images/original_untouched/0/417.jpg\"}, \"externals\": {\"thetvdb\": 279977, \"tvrage\": 36033, \"imdb\": \"tt2937900\"}, \"premiered\": \"2014-08-08\", \"summary\": \"<p>New York City, 1900: The Knickerbocker Hospital is home to groundbreaking surgeons, nurses and staff who push the boundaries of medicine in a time of astonishingly high mortality rates and zero antibiotics. The newly appointed leader of the surgery staff is the brilliant, arrogant renegade Dr. John Thackery, whose addiction to cocaine and opium is trumped only by his ambition for medical discovery and renown among his peers. Into the all-white staff and patient hospital comes the equally gifted Harvard graduate Dr. Algernon Edwards, who must fight for respect while trying to navigate the racially charged city. Trying to maintain its reputation for quality care while realizing a profit, the Knickerbocker makes an effort to attract wealthy clientele, while literally struggling to keep the lights on.</p>\", \"_links\": {\"previousepisode\": {\"href\": \"http://api.tvmaze.com/episodes/213032\"}, \"self\": {\"href\": \"http://api.tvmaze.com/shows/51\"}}, \"webChannel\": null, \"runtime\": 60, \"type\": \"Scripted\", \"id\": 51, \"network\": {\"country\": {\"timezone\": \"America/New_York\", \"code\": \"US\", \"name\": \"United States\"}, \"id\": 19, \"name\": \"Cinemax\"}}, \"_index\": \"tvseries\"}], \"total\": 1, \"max_score\": 0.21130845}, \"_shards\": {\"successful\": 1, \"failed\": 0, \"total\": 1}, \"took\": 2, \"timed_out\": false}))\n",
       "        });\n",
       "        "
      ]
     },
     "metadata": {},
     "output_type": "display_data"
    }
   ],
   "source": [
    "payload = \"\"\"\n",
    "{\n",
    "    \"query\" : {\n",
    "        \"match\" : {\n",
    "            \"_all\" : \"John\"\n",
    "        }\n",
    "    }\n",
    "}\n",
    "\"\"\"\n",
    "\n",
    "r = requests.get('http://localhost:9200/tvseries*/serie/_search', data = payload)\n",
    "RenderJSON(r.json())\n"
   ]
  },
  {
   "cell_type": "markdown",
   "metadata": {
    "slideshow": {
     "slide_type": "slide"
    }
   },
   "source": [
    "### Relevancia en Elasticsearch"
   ]
  },
  {
   "cell_type": "markdown",
   "metadata": {
    "slideshow": {
     "slide_type": "subslide"
    }
   },
   "source": [
    "### Relevancia:  *Practical Scoring Function*\n",
    "  - recupera documentos usando un modelo booleano \n",
    "  - asigna la relevancia usando una formula basada en ideas \n",
    "    - TF-ID\n",
    "    - Modelo de espacio vectorial\n",
    "    "
   ]
  },
  {
   "cell_type": "markdown",
   "metadata": {
    "slideshow": {
     "slide_type": "subslide"
    }
   },
   "source": [
    "### Relevancia por defecto\n",
    "\n",
    "\n",
    "$$ rel(q,d) = qNorm_q \\cdot coord_{q,d} \\cdot \\sum_{t \\in q}{tf_{t,d} \\cdot idf_t^2 \\cdot boost_t \\cdot norm_{t,d}}$$"
   ]
  },
  {
   "cell_type": "markdown",
   "metadata": {
    "slideshow": {
     "slide_type": "fragment"
    }
   },
   "source": [
    " - $qNorm_q$ : factor de normalización de las consultas - ignorar\n",
    " - $coord_{q,d}$ : *coordination factor* - sube la importancia de los documentos que tienen más terminos de la consulta \n",
    " - $boost_t$: *query boost* - Sube la importancia de un determinado término\n",
    " - $norm_{t,d}$: Factor de normalizacion del indice - tiene en cuenta la longitud del documento y opcionalmente *index boost*"
   ]
  },
  {
   "cell_type": "markdown",
   "metadata": {},
   "source": [
    "## Relevancia - Default score \n",
    " \n",
    "[TODO] Query sobre las series haciendo uso de summary\n",
    "\n"
   ]
  },
  {
   "cell_type": "code",
   "execution_count": 69,
   "metadata": {
    "collapsed": false
   },
   "outputs": [
    {
     "data": {
      "text/html": [
       "<div id=\"110b5f40-c5ee-40d3-a173-7e40cd30884c\" style=\"height: 600px; width:100%;\"></div>"
      ]
     },
     "metadata": {},
     "output_type": "display_data"
    },
    {
     "data": {
      "application/javascript": [
       "\n",
       "        require([\"https://rawgit.com/caldwell/renderjson/master/renderjson.js\"], function() {\n",
       "          document.getElementById('110b5f40-c5ee-40d3-a173-7e40cd30884c').appendChild(renderjson({\"hits\": {\"hits\": [{\"_score\": 0.28524703, \"_type\": \"serie\", \"_id\": \"169\", \"_source\": {\"status\": \"Ended\", \"rating\": {\"average\": 9.3}, \"genres\": [\"Drama\", \"Crime\", \"Thriller\"], \"weight\": 3, \"updated\": 1451250971, \"name\": \"Breaking Bad\", \"language\": \"English\", \"schedule\": {\"days\": [\"Sunday\"], \"time\": \"22:00\"}, \"url\": \"http://www.tvmaze.com/shows/169/breaking-bad\", \"image\": {\"medium\": \"http://tvmazecdn.com/uploads/images/medium_portrait/0/2400.jpg\", \"original\": \"http://tvmazecdn.com/uploads/images/original_untouched/0/2400.jpg\"}, \"externals\": {\"thetvdb\": 81189, \"tvrage\": 18164, \"imdb\": \"tt0903747\"}, \"premiered\": \"2008-01-20\", \"summary\": \"<p><em><strong>\\\"Breaking Bad\\\"</strong></em> follows protagonist Walter White, a chemistry teacher who lives in New Mexico with his wife and teenage son who has cerebral palsy. White is diagnosed with Stage III cancer and given a prognosis of two years left to live. With a new sense of fearlessness based on his medical prognosis, and a desire to secure his family's financial security, White chooses to enter a dangerous world of drugs and crime and ascends to power in this world. The series explores how a fatal diagnosis such as White's releases a typical man from the daily concerns and constraints of normal society and follows his transformation from mild family man to a kingpin of the drug trade.</p>\", \"_links\": {\"previousepisode\": {\"href\": \"http://api.tvmaze.com/episodes/12253\"}, \"self\": {\"href\": \"http://api.tvmaze.com/shows/169\"}}, \"webChannel\": null, \"runtime\": 60, \"type\": \"Scripted\", \"id\": 169, \"network\": {\"country\": {\"timezone\": \"America/New_York\", \"code\": \"US\", \"name\": \"United States\"}, \"id\": 20, \"name\": \"AMC\"}}, \"_index\": \"tvseries\"}, {\"_score\": 0.07629064, \"_type\": \"serie\", \"_id\": \"170\", \"_source\": {\"status\": \"Running\", \"rating\": {\"average\": 8.4}, \"genres\": [\"Drama\", \"Comedy\", \"Crime\"], \"weight\": 3, \"updated\": 1453253701, \"name\": \"Orange is the New Black\", \"language\": \"English\", \"schedule\": {\"days\": [\"Friday\"], \"time\": \"00:01\"}, \"url\": \"http://www.tvmaze.com/shows/170/orange-is-the-new-black\", \"image\": {\"medium\": \"http://tvmazecdn.com/uploads/images/medium_portrait/0/2414.jpg\", \"original\": \"http://tvmazecdn.com/uploads/images/original_untouched/0/2414.jpg\"}, \"externals\": {\"thetvdb\": 264586, \"tvrage\": 32950, \"imdb\": \"tt2372162\"}, \"premiered\": \"2013-07-11\", \"summary\": \"<p>The story of Piper Chapman, a woman in her thirties who is sentenced to fifteen months in prison after being convicted of a decade-old crime of transporting money for her drug-dealing girlfriend.</p>\", \"_links\": {\"previousepisode\": {\"href\": \"http://api.tvmaze.com/episodes/143007\"}, \"self\": {\"href\": \"http://api.tvmaze.com/shows/170\"}, \"nextepisode\": {\"href\": \"http://api.tvmaze.com/episodes/574624\"}}, \"webChannel\": {\"country\": {\"timezone\": \"America/New_York\", \"code\": \"US\", \"name\": \"United States\"}, \"id\": 1, \"name\": \"Netflix\"}, \"runtime\": 60, \"type\": \"Scripted\", \"id\": 170, \"network\": null}, \"_index\": \"tvseries\"}, {\"_score\": 0.038532592, \"_type\": \"serie\", \"_id\": \"51\", \"_source\": {\"status\": \"To Be Determined\", \"rating\": {\"average\": 8.7}, \"genres\": [\"Drama\", \"Medical\"], \"weight\": 2, \"updated\": 1455121010, \"name\": \"The Knick\", \"language\": \"English\", \"schedule\": {\"days\": [\"Friday\"], \"time\": \"22:00\"}, \"url\": \"http://www.tvmaze.com/shows/51/the-knick\", \"image\": {\"medium\": \"http://tvmazecdn.com/uploads/images/medium_portrait/0/417.jpg\", \"original\": \"http://tvmazecdn.com/uploads/images/original_untouched/0/417.jpg\"}, \"externals\": {\"thetvdb\": 279977, \"tvrage\": 36033, \"imdb\": \"tt2937900\"}, \"premiered\": \"2014-08-08\", \"summary\": \"<p>New York City, 1900: The Knickerbocker Hospital is home to groundbreaking surgeons, nurses and staff who push the boundaries of medicine in a time of astonishingly high mortality rates and zero antibiotics. The newly appointed leader of the surgery staff is the brilliant, arrogant renegade Dr. John Thackery, whose addiction to cocaine and opium is trumped only by his ambition for medical discovery and renown among his peers. Into the all-white staff and patient hospital comes the equally gifted Harvard graduate Dr. Algernon Edwards, who must fight for respect while trying to navigate the racially charged city. Trying to maintain its reputation for quality care while realizing a profit, the Knickerbocker makes an effort to attract wealthy clientele, while literally struggling to keep the lights on.</p>\", \"_links\": {\"previousepisode\": {\"href\": \"http://api.tvmaze.com/episodes/213032\"}, \"self\": {\"href\": \"http://api.tvmaze.com/shows/51\"}}, \"webChannel\": null, \"runtime\": 60, \"type\": \"Scripted\", \"id\": 51, \"network\": {\"country\": {\"timezone\": \"America/New_York\", \"code\": \"US\", \"name\": \"United States\"}, \"id\": 19, \"name\": \"Cinemax\"}}, \"_index\": \"tvseries\"}, {\"_score\": 0.038532592, \"_type\": \"serie\", \"_id\": \"82\", \"_source\": {\"status\": \"Running\", \"rating\": {\"average\": 9.4}, \"genres\": [\"Drama\", \"Adventure\", \"Fantasy\"], \"weight\": 14, \"updated\": 1454051645, \"name\": \"Game of Thrones\", \"language\": \"English\", \"schedule\": {\"days\": [\"Sunday\"], \"time\": \"21:00\"}, \"url\": \"http://www.tvmaze.com/shows/82/game-of-thrones\", \"image\": {\"medium\": \"http://tvmazecdn.com/uploads/images/medium_portrait/0/581.jpg\", \"original\": \"http://tvmazecdn.com/uploads/images/original_untouched/0/581.jpg\"}, \"externals\": {\"thetvdb\": 121361, \"tvrage\": 24493, \"imdb\": \"tt0944947\"}, \"premiered\": \"2011-04-17\", \"summary\": \"<p>Based on the bestselling book series A Song of Ice and Fire by George R.R. Martin, this sprawling new HBO drama is set in a world where summers span decades and winters can last a lifetime. From the scheming south and the savage eastern lands, to the frozen north and ancient Wall that protects the realm from the mysterious darkness beyond, the powerful families of the Seven Kingdoms are locked in a battle for the Iron Throne. This is a story of duplicity and treachery, nobility and honor, conquest and triumph. In the <strong><em>\\\"Game of Thrones\\\"</em></strong>, you either win or you die.</p>\", \"_links\": {\"previousepisode\": {\"href\": \"http://api.tvmaze.com/episodes/162186\"}, \"self\": {\"href\": \"http://api.tvmaze.com/shows/82\"}, \"nextepisode\": {\"href\": \"http://api.tvmaze.com/episodes/560813\"}}, \"webChannel\": null, \"runtime\": 60, \"type\": \"Scripted\", \"id\": 82, \"network\": {\"country\": {\"timezone\": \"America/New_York\", \"code\": \"US\", \"name\": \"United States\"}, \"id\": 8, \"name\": \"HBO\"}}, \"_index\": \"tvseries\"}], \"total\": 4, \"max_score\": 0.28524703}, \"_shards\": {\"successful\": 1, \"failed\": 0, \"total\": 1}, \"took\": 3, \"timed_out\": false}))\n",
       "        });\n",
       "        "
      ]
     },
     "metadata": {},
     "output_type": "display_data"
    }
   ],
   "source": [
    "r = requests.get('http://localhost:9200/tvseries/_search?q=New Mexico')\n",
    "RenderJSON(r.json())"
   ]
  },
  {
   "cell_type": "markdown",
   "metadata": {
    "slideshow": {
     "slide_type": "subslide"
    }
   },
   "source": [
    "### Explicando la relevancia "
   ]
  },
  {
   "cell_type": "code",
   "execution_count": 70,
   "metadata": {
    "collapsed": true
   },
   "outputs": [],
   "source": [
    "r = requests.get('http://localhost:9200/tvseries/_search?q=New Mexico&explain')"
   ]
  },
  {
   "cell_type": "code",
   "execution_count": 71,
   "metadata": {
    "collapsed": false
   },
   "outputs": [
    {
     "data": {
      "text/html": [
       "<div id=\"9f37ac78-33ab-4b47-8769-b2ff9692e4c4\" style=\"height: 600px; width:100%;\"></div>"
      ]
     },
     "metadata": {},
     "output_type": "display_data"
    },
    {
     "data": {
      "application/javascript": [
       "\n",
       "        require([\"https://rawgit.com/caldwell/renderjson/master/renderjson.js\"], function() {\n",
       "          document.getElementById('9f37ac78-33ab-4b47-8769-b2ff9692e4c4').appendChild(renderjson({\"hits\": {\"hits\": [{\"_type\": \"serie\", \"_index\": \"tvseries\", \"_score\": 0.28524703, \"_source\": {\"status\": \"Ended\", \"rating\": {\"average\": 9.3}, \"genres\": [\"Drama\", \"Crime\", \"Thriller\"], \"weight\": 3, \"updated\": 1451250971, \"name\": \"Breaking Bad\", \"language\": \"English\", \"schedule\": {\"days\": [\"Sunday\"], \"time\": \"22:00\"}, \"url\": \"http://www.tvmaze.com/shows/169/breaking-bad\", \"image\": {\"medium\": \"http://tvmazecdn.com/uploads/images/medium_portrait/0/2400.jpg\", \"original\": \"http://tvmazecdn.com/uploads/images/original_untouched/0/2400.jpg\"}, \"externals\": {\"thetvdb\": 81189, \"tvrage\": 18164, \"imdb\": \"tt0903747\"}, \"premiered\": \"2008-01-20\", \"summary\": \"<p><em><strong>\\\"Breaking Bad\\\"</strong></em> follows protagonist Walter White, a chemistry teacher who lives in New Mexico with his wife and teenage son who has cerebral palsy. White is diagnosed with Stage III cancer and given a prognosis of two years left to live. With a new sense of fearlessness based on his medical prognosis, and a desire to secure his family's financial security, White chooses to enter a dangerous world of drugs and crime and ascends to power in this world. The series explores how a fatal diagnosis such as White's releases a typical man from the daily concerns and constraints of normal society and follows his transformation from mild family man to a kingpin of the drug trade.</p>\", \"_links\": {\"previousepisode\": {\"href\": \"http://api.tvmaze.com/episodes/12253\"}, \"self\": {\"href\": \"http://api.tvmaze.com/shows/169\"}}, \"webChannel\": null, \"runtime\": 60, \"type\": \"Scripted\", \"id\": 169, \"network\": {\"country\": {\"timezone\": \"America/New_York\", \"code\": \"US\", \"name\": \"United States\"}, \"id\": 20, \"name\": \"AMC\"}}, \"_node\": \"q4xC3bhASEGXF0bMpFvTjQ\", \"_explanation\": {\"description\": \"sum of:\", \"value\": 0.28524703, \"details\": [{\"description\": \"weight(_all:new in 0) [PerFieldSimilarity], result of:\", \"value\": 0.10898663, \"details\": [{\"description\": \"score(doc=0,freq=2.0), product of:\", \"value\": 0.10898663, \"details\": [{\"description\": \"queryWeight, product of:\", \"value\": 0.551556, \"details\": [{\"description\": \"idf(docFreq=4, maxDocs=11)\", \"value\": 1.7884574, \"details\": []}, {\"description\": \"queryNorm\", \"value\": 0.30839762, \"details\": []}]}, {\"description\": \"fieldWeight in 0, product of:\", \"value\": 0.19759849, \"details\": [{\"description\": \"tf(freq=2.0), with freq of:\", \"value\": 1.4142135, \"details\": [{\"description\": \"termFreq=2.0\", \"value\": 2.0, \"details\": []}]}, {\"description\": \"idf(docFreq=4, maxDocs=11)\", \"value\": 1.7884574, \"details\": []}, {\"description\": \"fieldNorm(doc=0)\", \"value\": 0.078125, \"details\": []}]}]}]}, {\"description\": \"weight(_all:mexico in 0) [PerFieldSimilarity], result of:\", \"value\": 0.1762604, \"details\": [{\"description\": \"score(doc=0,freq=1.0), product of:\", \"value\": 0.1762604, \"details\": [{\"description\": \"queryWeight, product of:\", \"value\": 0.8341379, \"details\": [{\"description\": \"idf(docFreq=1, maxDocs=11)\", \"value\": 2.7047482, \"details\": []}, {\"description\": \"queryNorm\", \"value\": 0.30839762, \"details\": []}]}, {\"description\": \"fieldWeight in 0, product of:\", \"value\": 0.21130845, \"details\": [{\"description\": \"tf(freq=1.0), with freq of:\", \"value\": 1.0, \"details\": [{\"description\": \"termFreq=1.0\", \"value\": 1.0, \"details\": []}]}, {\"description\": \"idf(docFreq=1, maxDocs=11)\", \"value\": 2.7047482, \"details\": []}, {\"description\": \"fieldNorm(doc=0)\", \"value\": 0.078125, \"details\": []}]}]}]}]}, \"_shard\": 0, \"_id\": \"169\"}, {\"_type\": \"serie\", \"_index\": \"tvseries\", \"_score\": 0.07629064, \"_source\": {\"status\": \"Running\", \"rating\": {\"average\": 8.4}, \"genres\": [\"Drama\", \"Comedy\", \"Crime\"], \"weight\": 3, \"updated\": 1453253701, \"name\": \"Orange is the New Black\", \"language\": \"English\", \"schedule\": {\"days\": [\"Friday\"], \"time\": \"00:01\"}, \"url\": \"http://www.tvmaze.com/shows/170/orange-is-the-new-black\", \"image\": {\"medium\": \"http://tvmazecdn.com/uploads/images/medium_portrait/0/2414.jpg\", \"original\": \"http://tvmazecdn.com/uploads/images/original_untouched/0/2414.jpg\"}, \"externals\": {\"thetvdb\": 264586, \"tvrage\": 32950, \"imdb\": \"tt2372162\"}, \"premiered\": \"2013-07-11\", \"summary\": \"<p>The story of Piper Chapman, a woman in her thirties who is sentenced to fifteen months in prison after being convicted of a decade-old crime of transporting money for her drug-dealing girlfriend.</p>\", \"_links\": {\"previousepisode\": {\"href\": \"http://api.tvmaze.com/episodes/143007\"}, \"self\": {\"href\": \"http://api.tvmaze.com/shows/170\"}, \"nextepisode\": {\"href\": \"http://api.tvmaze.com/episodes/574624\"}}, \"webChannel\": {\"country\": {\"timezone\": \"America/New_York\", \"code\": \"US\", \"name\": \"United States\"}, \"id\": 1, \"name\": \"Netflix\"}, \"runtime\": 60, \"type\": \"Scripted\", \"id\": 170, \"network\": null}, \"_node\": \"q4xC3bhASEGXF0bMpFvTjQ\", \"_explanation\": {\"description\": \"product of:\", \"value\": 0.07629064, \"details\": [{\"description\": \"sum of:\", \"value\": 0.15258127, \"details\": [{\"description\": \"weight(_all:new in 0) [PerFieldSimilarity], result of:\", \"value\": 0.15258127, \"details\": [{\"description\": \"score(doc=0,freq=2.0), product of:\", \"value\": 0.15258127, \"details\": [{\"description\": \"queryWeight, product of:\", \"value\": 0.551556, \"details\": [{\"description\": \"idf(docFreq=4, maxDocs=11)\", \"value\": 1.7884574, \"details\": []}, {\"description\": \"queryNorm\", \"value\": 0.30839762, \"details\": []}]}, {\"description\": \"fieldWeight in 0, product of:\", \"value\": 0.27663788, \"details\": [{\"description\": \"tf(freq=2.0), with freq of:\", \"value\": 1.4142135, \"details\": [{\"description\": \"termFreq=2.0\", \"value\": 2.0, \"details\": []}]}, {\"description\": \"idf(docFreq=4, maxDocs=11)\", \"value\": 1.7884574, \"details\": []}, {\"description\": \"fieldNorm(doc=0)\", \"value\": 0.109375, \"details\": []}]}]}]}]}, {\"description\": \"coord(1/2)\", \"value\": 0.5, \"details\": []}]}, \"_shard\": 0, \"_id\": \"170\"}, {\"_type\": \"serie\", \"_index\": \"tvseries\", \"_score\": 0.038532592, \"_source\": {\"status\": \"To Be Determined\", \"rating\": {\"average\": 8.7}, \"genres\": [\"Drama\", \"Medical\"], \"weight\": 2, \"updated\": 1455121010, \"name\": \"The Knick\", \"language\": \"English\", \"schedule\": {\"days\": [\"Friday\"], \"time\": \"22:00\"}, \"url\": \"http://www.tvmaze.com/shows/51/the-knick\", \"image\": {\"medium\": \"http://tvmazecdn.com/uploads/images/medium_portrait/0/417.jpg\", \"original\": \"http://tvmazecdn.com/uploads/images/original_untouched/0/417.jpg\"}, \"externals\": {\"thetvdb\": 279977, \"tvrage\": 36033, \"imdb\": \"tt2937900\"}, \"premiered\": \"2014-08-08\", \"summary\": \"<p>New York City, 1900: The Knickerbocker Hospital is home to groundbreaking surgeons, nurses and staff who push the boundaries of medicine in a time of astonishingly high mortality rates and zero antibiotics. The newly appointed leader of the surgery staff is the brilliant, arrogant renegade Dr. John Thackery, whose addiction to cocaine and opium is trumped only by his ambition for medical discovery and renown among his peers. Into the all-white staff and patient hospital comes the equally gifted Harvard graduate Dr. Algernon Edwards, who must fight for respect while trying to navigate the racially charged city. Trying to maintain its reputation for quality care while realizing a profit, the Knickerbocker makes an effort to attract wealthy clientele, while literally struggling to keep the lights on.</p>\", \"_links\": {\"previousepisode\": {\"href\": \"http://api.tvmaze.com/episodes/213032\"}, \"self\": {\"href\": \"http://api.tvmaze.com/shows/51\"}}, \"webChannel\": null, \"runtime\": 60, \"type\": \"Scripted\", \"id\": 51, \"network\": {\"country\": {\"timezone\": \"America/New_York\", \"code\": \"US\", \"name\": \"United States\"}, \"id\": 19, \"name\": \"Cinemax\"}}, \"_node\": \"q4xC3bhASEGXF0bMpFvTjQ\", \"_explanation\": {\"description\": \"product of:\", \"value\": 0.038532596, \"details\": [{\"description\": \"sum of:\", \"value\": 0.07706519, \"details\": [{\"description\": \"weight(_all:new in 2) [PerFieldSimilarity], result of:\", \"value\": 0.07706519, \"details\": [{\"description\": \"score(doc=2,freq=1.0), product of:\", \"value\": 0.07706519, \"details\": [{\"description\": \"queryWeight, product of:\", \"value\": 0.551556, \"details\": [{\"description\": \"idf(docFreq=4, maxDocs=11)\", \"value\": 1.7884574, \"details\": []}, {\"description\": \"queryNorm\", \"value\": 0.30839762, \"details\": []}]}, {\"description\": \"fieldWeight in 2, product of:\", \"value\": 0.13972324, \"details\": [{\"description\": \"tf(freq=1.0), with freq of:\", \"value\": 1.0, \"details\": [{\"description\": \"termFreq=1.0\", \"value\": 1.0, \"details\": []}]}, {\"description\": \"idf(docFreq=4, maxDocs=11)\", \"value\": 1.7884574, \"details\": []}, {\"description\": \"fieldNorm(doc=2)\", \"value\": 0.078125, \"details\": []}]}]}]}]}, {\"description\": \"coord(1/2)\", \"value\": 0.5, \"details\": []}]}, \"_shard\": 0, \"_id\": \"51\"}, {\"_type\": \"serie\", \"_index\": \"tvseries\", \"_score\": 0.038532592, \"_source\": {\"status\": \"Running\", \"rating\": {\"average\": 9.4}, \"genres\": [\"Drama\", \"Adventure\", \"Fantasy\"], \"weight\": 14, \"updated\": 1454051645, \"name\": \"Game of Thrones\", \"language\": \"English\", \"schedule\": {\"days\": [\"Sunday\"], \"time\": \"21:00\"}, \"url\": \"http://www.tvmaze.com/shows/82/game-of-thrones\", \"image\": {\"medium\": \"http://tvmazecdn.com/uploads/images/medium_portrait/0/581.jpg\", \"original\": \"http://tvmazecdn.com/uploads/images/original_untouched/0/581.jpg\"}, \"externals\": {\"thetvdb\": 121361, \"tvrage\": 24493, \"imdb\": \"tt0944947\"}, \"premiered\": \"2011-04-17\", \"summary\": \"<p>Based on the bestselling book series A Song of Ice and Fire by George R.R. Martin, this sprawling new HBO drama is set in a world where summers span decades and winters can last a lifetime. From the scheming south and the savage eastern lands, to the frozen north and ancient Wall that protects the realm from the mysterious darkness beyond, the powerful families of the Seven Kingdoms are locked in a battle for the Iron Throne. This is a story of duplicity and treachery, nobility and honor, conquest and triumph. In the <strong><em>\\\"Game of Thrones\\\"</em></strong>, you either win or you die.</p>\", \"_links\": {\"previousepisode\": {\"href\": \"http://api.tvmaze.com/episodes/162186\"}, \"self\": {\"href\": \"http://api.tvmaze.com/shows/82\"}, \"nextepisode\": {\"href\": \"http://api.tvmaze.com/episodes/560813\"}}, \"webChannel\": null, \"runtime\": 60, \"type\": \"Scripted\", \"id\": 82, \"network\": {\"country\": {\"timezone\": \"America/New_York\", \"code\": \"US\", \"name\": \"United States\"}, \"id\": 8, \"name\": \"HBO\"}}, \"_node\": \"q4xC3bhASEGXF0bMpFvTjQ\", \"_explanation\": {\"description\": \"product of:\", \"value\": 0.038532596, \"details\": [{\"description\": \"sum of:\", \"value\": 0.07706519, \"details\": [{\"description\": \"weight(_all:new in 2) [PerFieldSimilarity], result of:\", \"value\": 0.07706519, \"details\": [{\"description\": \"score(doc=2,freq=1.0), product of:\", \"value\": 0.07706519, \"details\": [{\"description\": \"queryWeight, product of:\", \"value\": 0.551556, \"details\": [{\"description\": \"idf(docFreq=4, maxDocs=11)\", \"value\": 1.7884574, \"details\": []}, {\"description\": \"queryNorm\", \"value\": 0.30839762, \"details\": []}]}, {\"description\": \"fieldWeight in 2, product of:\", \"value\": 0.13972324, \"details\": [{\"description\": \"tf(freq=1.0), with freq of:\", \"value\": 1.0, \"details\": [{\"description\": \"termFreq=1.0\", \"value\": 1.0, \"details\": []}]}, {\"description\": \"idf(docFreq=4, maxDocs=11)\", \"value\": 1.7884574, \"details\": []}, {\"description\": \"fieldNorm(doc=2)\", \"value\": 0.078125, \"details\": []}]}]}]}]}, {\"description\": \"coord(1/2)\", \"value\": 0.5, \"details\": []}]}, \"_shard\": 0, \"_id\": \"82\"}], \"total\": 4, \"max_score\": 0.28524703}, \"_shards\": {\"successful\": 1, \"failed\": 0, \"total\": 1}, \"took\": 8, \"timed_out\": false}))\n",
       "        });\n",
       "        "
      ]
     },
     "metadata": {},
     "output_type": "display_data"
    }
   ],
   "source": [
    "RenderJSON(r.json())"
   ]
  },
  {
   "cell_type": "markdown",
   "metadata": {},
   "source": [
    "[TODO] Explicar bien cada uno de los parámetros"
   ]
  },
  {
   "cell_type": "markdown",
   "metadata": {
    "slideshow": {
     "slide_type": "subslide"
    }
   },
   "source": [
    "## Modelos de relevancia alternativa (texto) \n",
    "\n",
    "Otras medidas de relavancia para documentos\n",
    "  - Okapi BM 25 \n",
    "  -Se puede elegir una funcion de similitud por campo. sin embargo requiere reindexar\n",
    "\n",
    "Medidas de similitud entre cadenas:\n",
    "  - Fuzzy similarity\n",
    "\n",
    "[todo] ¿cómo cambiar la medida de relevancia?"
   ]
  },
  {
   "cell_type": "markdown",
   "metadata": {
    "slideshow": {
     "slide_type": "subslide"
    }
   },
   "source": [
    "## Otras medidas de relevancia (estructura) \n",
    "\n",
    "- We can take into account other relevance measures\n",
    "     - Time - recency\n",
    "     - Location - proximity\n",
    "     - Other numerical fields\n",
    "  - Difference with databases: algorithms are adapted to sort and get top k documents. "
   ]
  },
  {
   "cell_type": "code",
   "execution_count": 93,
   "metadata": {
    "collapsed": false
   },
   "outputs": [
    {
     "data": {
      "text/html": [
       "<div id=\"e86d7c53-6428-46be-84cd-48880440e50a\" style=\"height: 600px; width:100%;\"></div>"
      ]
     },
     "metadata": {},
     "output_type": "display_data"
    },
    {
     "data": {
      "application/javascript": [
       "\n",
       "        require([\"https://rawgit.com/caldwell/renderjson/master/renderjson.js\"], function() {\n",
       "          document.getElementById('e86d7c53-6428-46be-84cd-48880440e50a').appendChild(renderjson({\"hits\": {\"hits\": [{\"sort\": [7.8], \"_type\": \"serie\", \"_source\": {\"status\": \"Running\", \"rating\": {\"average\": 7.8}, \"genres\": [\"Action\", \"Crime\", \"Thriller\", \"Mystery\"], \"weight\": 11, \"updated\": 1455891788, \"name\": \"Blindspot\", \"language\": \"English\", \"schedule\": {\"days\": [\"Monday\"], \"time\": \"22:00\"}, \"url\": \"http://www.tvmaze.com/shows/1855/blindspot\", \"image\": {\"medium\": \"http://tvmazecdn.com/uploads/images/medium_portrait/28/70723.jpg\", \"original\": \"http://tvmazecdn.com/uploads/images/original_untouched/28/70723.jpg\"}, \"externals\": {\"thetvdb\": 295647, \"tvrage\": 44628, \"imdb\": \"tt4474344\"}, \"premiered\": \"2015-09-21\", \"summary\": \"<p>A beautiful woman, with no memories of her past, is found naked in Times\\n Square with her body fully covered in intricate tattoos. Her discovery \\nsets off a vast and complex mystery that immediately ignites the \\nattention of the FBI, which begins to follow the road map on her body \\ninto a larger conspiracy of crime, while bringing her closer to \\ndiscovering the truth about her identity.</p>\", \"_links\": {\"previousepisode\": {\"href\": \"http://api.tvmaze.com/episodes/410719\"}, \"self\": {\"href\": \"http://api.tvmaze.com/shows/1855\"}, \"nextepisode\": {\"href\": \"http://api.tvmaze.com/episodes/536750\"}}, \"webChannel\": null, \"runtime\": 60, \"type\": \"Scripted\", \"id\": 1855, \"network\": {\"country\": {\"timezone\": \"America/New_York\", \"code\": \"US\", \"name\": \"United States\"}, \"id\": 1, \"name\": \"NBC\"}}, \"_score\": null, \"_index\": \"tvseries\", \"_id\": \"1855\"}, {\"sort\": [8.4], \"_type\": \"serie\", \"_source\": {\"status\": \"Running\", \"rating\": {\"average\": 8.4}, \"genres\": [\"Drama\", \"Comedy\", \"Crime\"], \"weight\": 3, \"updated\": 1453253701, \"name\": \"Orange is the New Black\", \"language\": \"English\", \"schedule\": {\"days\": [\"Friday\"], \"time\": \"00:01\"}, \"url\": \"http://www.tvmaze.com/shows/170/orange-is-the-new-black\", \"image\": {\"medium\": \"http://tvmazecdn.com/uploads/images/medium_portrait/0/2414.jpg\", \"original\": \"http://tvmazecdn.com/uploads/images/original_untouched/0/2414.jpg\"}, \"externals\": {\"thetvdb\": 264586, \"tvrage\": 32950, \"imdb\": \"tt2372162\"}, \"premiered\": \"2013-07-11\", \"summary\": \"<p>The story of Piper Chapman, a woman in her thirties who is sentenced to fifteen months in prison after being convicted of a decade-old crime of transporting money for her drug-dealing girlfriend.</p>\", \"_links\": {\"previousepisode\": {\"href\": \"http://api.tvmaze.com/episodes/143007\"}, \"self\": {\"href\": \"http://api.tvmaze.com/shows/170\"}, \"nextepisode\": {\"href\": \"http://api.tvmaze.com/episodes/574624\"}}, \"webChannel\": {\"country\": {\"timezone\": \"America/New_York\", \"code\": \"US\", \"name\": \"United States\"}, \"id\": 1, \"name\": \"Netflix\"}, \"runtime\": 60, \"type\": \"Scripted\", \"id\": 170, \"network\": null}, \"_score\": null, \"_index\": \"tvseries\", \"_id\": \"170\"}, {\"sort\": [8.5], \"_type\": \"serie\", \"_source\": {\"status\": \"To Be Determined\", \"rating\": {\"average\": 8.5}, \"genres\": [\"Drama\", \"Crime\", \"Thriller\", \"Mystery\"], \"weight\": 4, \"updated\": 1455233815, \"name\": \"True Detective\", \"language\": \"English\", \"schedule\": {\"days\": [\"Sunday\"], \"time\": \"21:00\"}, \"url\": \"http://www.tvmaze.com/shows/5/true-detective\", \"image\": {\"medium\": \"http://tvmazecdn.com/uploads/images/medium_portrait/0/61.jpg\", \"original\": \"http://tvmazecdn.com/uploads/images/original_untouched/0/61.jpg\"}, \"externals\": {\"thetvdb\": 270633, \"tvrage\": 31369, \"imdb\": \"tt2356777\"}, \"premiered\": \"2014-01-12\", \"summary\": \"<p>The series stars Matthew McConaughey and Woody Harrelson as Louisiana detectives Rust Cohle and Martin Hart, whose lives collide and entwine during a 17-year hunt for a killer, ranging from the original investigation of a bizarre murder in 1995 to the reopening of the case in 2012. Michelle Monaghan also stars as Hart's wife, Maggie, who struggles to keep her family together as the men in her life become locked in a cycle of violence and obsession.</p>\", \"_links\": {\"previousepisode\": {\"href\": \"http://api.tvmaze.com/episodes/182325\"}, \"self\": {\"href\": \"http://api.tvmaze.com/shows/5\"}}, \"webChannel\": null, \"runtime\": 60, \"type\": \"Scripted\", \"id\": 5, \"network\": {\"country\": {\"timezone\": \"America/New_York\", \"code\": \"US\", \"name\": \"United States\"}, \"id\": 8, \"name\": \"HBO\"}}, \"_score\": null, \"_index\": \"tvseries\", \"_id\": \"5\"}, {\"sort\": [8.7], \"_type\": \"serie\", \"_source\": {\"status\": \"To Be Determined\", \"rating\": {\"average\": 8.7}, \"genres\": [\"Drama\", \"Medical\"], \"weight\": 2, \"updated\": 1455121010, \"name\": \"The Knick\", \"language\": \"English\", \"schedule\": {\"days\": [\"Friday\"], \"time\": \"22:00\"}, \"url\": \"http://www.tvmaze.com/shows/51/the-knick\", \"image\": {\"medium\": \"http://tvmazecdn.com/uploads/images/medium_portrait/0/417.jpg\", \"original\": \"http://tvmazecdn.com/uploads/images/original_untouched/0/417.jpg\"}, \"externals\": {\"thetvdb\": 279977, \"tvrage\": 36033, \"imdb\": \"tt2937900\"}, \"premiered\": \"2014-08-08\", \"summary\": \"<p>New York City, 1900: The Knickerbocker Hospital is home to groundbreaking surgeons, nurses and staff who push the boundaries of medicine in a time of astonishingly high mortality rates and zero antibiotics. The newly appointed leader of the surgery staff is the brilliant, arrogant renegade Dr. John Thackery, whose addiction to cocaine and opium is trumped only by his ambition for medical discovery and renown among his peers. Into the all-white staff and patient hospital comes the equally gifted Harvard graduate Dr. Algernon Edwards, who must fight for respect while trying to navigate the racially charged city. Trying to maintain its reputation for quality care while realizing a profit, the Knickerbocker makes an effort to attract wealthy clientele, while literally struggling to keep the lights on.</p>\", \"_links\": {\"previousepisode\": {\"href\": \"http://api.tvmaze.com/episodes/213032\"}, \"self\": {\"href\": \"http://api.tvmaze.com/shows/51\"}}, \"webChannel\": null, \"runtime\": 60, \"type\": \"Scripted\", \"id\": 51, \"network\": {\"country\": {\"timezone\": \"America/New_York\", \"code\": \"US\", \"name\": \"United States\"}, \"id\": 19, \"name\": \"Cinemax\"}}, \"_score\": null, \"_index\": \"tvseries\", \"_id\": \"51\"}, {\"sort\": [8.7], \"_type\": \"serie\", \"_source\": {\"status\": \"Ended\", \"rating\": {\"average\": 8.7}, \"genres\": [\"Drama\", \"History\"], \"weight\": 0, \"updated\": 1449500544, \"name\": \"The Tudors\", \"language\": \"English\", \"schedule\": {\"days\": [], \"time\": \"21:00\"}, \"url\": \"http://www.tvmaze.com/shows/712/the-tudors\", \"image\": {\"medium\": \"http://tvmazecdn.com/uploads/images/medium_portrait/6/15022.jpg\", \"original\": \"http://tvmazecdn.com/uploads/images/original_untouched/6/15022.jpg\"}, \"externals\": {\"thetvdb\": 79925, \"tvrage\": 7927, \"imdb\": \"tt0758790\"}, \"premiered\": \"2007-04-01\", \"summary\": \"<p>The final season will consist of 10, one-hour episodes and center on his tumultuous relationships with his last two wives, Catherine Howard and Catherine Parr, and his final descent into madness.</p>\", \"_links\": {\"previousepisode\": {\"href\": \"http://api.tvmaze.com/episodes/62894\"}, \"self\": {\"href\": \"http://api.tvmaze.com/shows/712\"}}, \"webChannel\": null, \"runtime\": 60, \"type\": \"Scripted\", \"id\": 712, \"network\": {\"country\": {\"timezone\": \"America/New_York\", \"code\": \"US\", \"name\": \"United States\"}, \"id\": 9, \"name\": \"Showtime\"}}, \"_score\": null, \"_index\": \"tvseries\", \"_id\": \"712\"}, {\"sort\": [8.9], \"_type\": \"serie\", \"_source\": {\"status\": \"Running\", \"rating\": {\"average\": 8.9}, \"genres\": [\"Drama\", \"Thriller\"], \"weight\": 7, \"updated\": 1454549570, \"name\": \"House of Cards\", \"language\": \"English\", \"schedule\": {\"days\": [\"Friday\"], \"time\": \"00:01\"}, \"url\": \"http://www.tvmaze.com/shows/175/house-of-cards\", \"image\": {\"medium\": \"http://tvmazecdn.com/uploads/images/medium_portrait/0/2460.jpg\", \"original\": \"http://tvmazecdn.com/uploads/images/original_untouched/0/2460.jpg\"}, \"externals\": {\"thetvdb\": 262980, \"tvrage\": 27822, \"imdb\": \"tt1856010\"}, \"premiered\": \"2013-02-01\", \"summary\": \"<p>A Congressman works with his equally conniving wife to exact revenge on the people who betrayed him.</p>\", \"_links\": {\"previousepisode\": {\"href\": \"http://api.tvmaze.com/episodes/57773\"}, \"self\": {\"href\": \"http://api.tvmaze.com/shows/175\"}, \"nextepisode\": {\"href\": \"http://api.tvmaze.com/episodes/436756\"}}, \"webChannel\": {\"country\": {\"timezone\": \"America/New_York\", \"code\": \"US\", \"name\": \"United States\"}, \"id\": 1, \"name\": \"Netflix\"}, \"runtime\": 60, \"type\": \"Scripted\", \"id\": 175, \"network\": null}, \"_score\": null, \"_index\": \"tvseries\", \"_id\": \"175\"}, {\"sort\": [9.3], \"_type\": \"serie\", \"_source\": {\"status\": \"Ended\", \"rating\": {\"average\": 9.3}, \"genres\": [\"Drama\", \"Crime\", \"Thriller\"], \"weight\": 3, \"updated\": 1451250971, \"name\": \"Breaking Bad\", \"language\": \"English\", \"schedule\": {\"days\": [\"Sunday\"], \"time\": \"22:00\"}, \"url\": \"http://www.tvmaze.com/shows/169/breaking-bad\", \"image\": {\"medium\": \"http://tvmazecdn.com/uploads/images/medium_portrait/0/2400.jpg\", \"original\": \"http://tvmazecdn.com/uploads/images/original_untouched/0/2400.jpg\"}, \"externals\": {\"thetvdb\": 81189, \"tvrage\": 18164, \"imdb\": \"tt0903747\"}, \"premiered\": \"2008-01-20\", \"summary\": \"<p><em><strong>\\\"Breaking Bad\\\"</strong></em> follows protagonist Walter White, a chemistry teacher who lives in New Mexico with his wife and teenage son who has cerebral palsy. White is diagnosed with Stage III cancer and given a prognosis of two years left to live. With a new sense of fearlessness based on his medical prognosis, and a desire to secure his family's financial security, White chooses to enter a dangerous world of drugs and crime and ascends to power in this world. The series explores how a fatal diagnosis such as White's releases a typical man from the daily concerns and constraints of normal society and follows his transformation from mild family man to a kingpin of the drug trade.</p>\", \"_links\": {\"previousepisode\": {\"href\": \"http://api.tvmaze.com/episodes/12253\"}, \"self\": {\"href\": \"http://api.tvmaze.com/shows/169\"}}, \"webChannel\": null, \"runtime\": 60, \"type\": \"Scripted\", \"id\": 169, \"network\": {\"country\": {\"timezone\": \"America/New_York\", \"code\": \"US\", \"name\": \"United States\"}, \"id\": 20, \"name\": \"AMC\"}}, \"_score\": null, \"_index\": \"tvseries\", \"_id\": \"169\"}, {\"sort\": [9.3], \"_type\": \"serie\", \"_source\": {\"status\": \"Running\", \"rating\": {\"average\": 9.3}, \"genres\": [\"Drama\", \"History\"], \"weight\": 2, \"updated\": 1450525730, \"name\": \"Versailles\", \"language\": \"English\", \"schedule\": {\"days\": [], \"time\": \"\"}, \"url\": \"http://www.tvmaze.com/shows/3386/versailles\", \"image\": {\"medium\": \"http://tvmazecdn.com/uploads/images/medium_portrait/34/86312.jpg\", \"original\": \"http://tvmazecdn.com/uploads/images/original_untouched/34/86312.jpg\"}, \"externals\": {\"thetvdb\": 300280, \"tvrage\": null, \"imdb\": \"tt3830558\"}, \"premiered\": \"2015-11-16\", \"summary\": \"<p>Versailles, 1667. Louis XIV was 28 years old. To rise to the heights of the nobility and wield its absolute power, he launched the construction of Versailles... it proved to be a snare. Louis XIV is a young King haunted by childhood trauma, the Fronde civil, a rebellion of the nobility against his father, Louis XIII... It will prove be a strategic policy out of the ordinary, manipulative, Machiavellian, and he will \\\"invent\\\" Versailles for the nobles of Paris, to keep them under control, and gradually transform the castle into a golden prison. But how will Louis live as the greatest King in the world?</p><p> Historical fiction of the court figures and the more humble villagers, guiding us in a world of betrayals and secrets, politicking and declarations of love.</p>\", \"_links\": {\"previousepisode\": {\"href\": \"http://api.tvmaze.com/episodes/471693\"}, \"self\": {\"href\": \"http://api.tvmaze.com/shows/3386\"}}, \"webChannel\": null, \"runtime\": 60, \"type\": \"Scripted\", \"id\": 3386, \"network\": {\"country\": {\"timezone\": \"Europe/Paris\", \"code\": \"FR\", \"name\": \"France\"}, \"id\": 105, \"name\": \"Canal+\"}}, \"_score\": null, \"_index\": \"tvseries\", \"_id\": \"3386\"}, {\"sort\": [9.4], \"_type\": \"serie\", \"_source\": {\"status\": \"Running\", \"rating\": {\"average\": 9.4}, \"genres\": [\"Drama\", \"Adventure\", \"Fantasy\"], \"weight\": 14, \"updated\": 1454051645, \"name\": \"Game of Thrones\", \"language\": \"English\", \"schedule\": {\"days\": [\"Sunday\"], \"time\": \"21:00\"}, \"url\": \"http://www.tvmaze.com/shows/82/game-of-thrones\", \"image\": {\"medium\": \"http://tvmazecdn.com/uploads/images/medium_portrait/0/581.jpg\", \"original\": \"http://tvmazecdn.com/uploads/images/original_untouched/0/581.jpg\"}, \"externals\": {\"thetvdb\": 121361, \"tvrage\": 24493, \"imdb\": \"tt0944947\"}, \"premiered\": \"2011-04-17\", \"summary\": \"<p>Based on the bestselling book series A Song of Ice and Fire by George R.R. Martin, this sprawling new HBO drama is set in a world where summers span decades and winters can last a lifetime. From the scheming south and the savage eastern lands, to the frozen north and ancient Wall that protects the realm from the mysterious darkness beyond, the powerful families of the Seven Kingdoms are locked in a battle for the Iron Throne. This is a story of duplicity and treachery, nobility and honor, conquest and triumph. In the <strong><em>\\\"Game of Thrones\\\"</em></strong>, you either win or you die.</p>\", \"_links\": {\"previousepisode\": {\"href\": \"http://api.tvmaze.com/episodes/162186\"}, \"self\": {\"href\": \"http://api.tvmaze.com/shows/82\"}, \"nextepisode\": {\"href\": \"http://api.tvmaze.com/episodes/560813\"}}, \"webChannel\": null, \"runtime\": 60, \"type\": \"Scripted\", \"id\": 82, \"network\": {\"country\": {\"timezone\": \"America/New_York\", \"code\": \"US\", \"name\": \"United States\"}, \"id\": 8, \"name\": \"HBO\"}}, \"_score\": null, \"_index\": \"tvseries\", \"_id\": \"82\"}, {\"sort\": [\"Infinity\"], \"_type\": \"serie\", \"_source\": {\"status\": \"Ended\", \"rating\": {\"average\": null}, \"genres\": [\"Drama\"], \"weight\": 0, \"updated\": 1455109198, \"name\": \"Isabel\", \"language\": \"Spanish\", \"schedule\": {\"days\": [], \"time\": \"\"}, \"url\": \"http://www.tvmaze.com/shows/9274/isabel\", \"image\": {\"medium\": \"http://tvmazecdn.com/uploads/images/medium_portrait/32/81594.jpg\", \"original\": \"http://tvmazecdn.com/uploads/images/original_untouched/32/81594.jpg\"}, \"externals\": {\"thetvdb\": 262381, \"tvrage\": 32792, \"imdb\": \"tt2011533\"}, \"premiered\": \"2012-09-10\", \"summary\": \"<p>Life of Isabella I of Castile, also known as Isabella the Catholic.</p>\", \"_links\": {\"previousepisode\": {\"href\": \"http://api.tvmaze.com/episodes/501878\"}, \"self\": {\"href\": \"http://api.tvmaze.com/shows/9274\"}}, \"webChannel\": null, \"runtime\": 60, \"type\": \"Scripted\", \"id\": 9274, \"network\": {\"country\": {\"timezone\": \"Europe/Madrid\", \"code\": \"ES\", \"name\": \"Spain\"}, \"id\": 147, \"name\": \"RTVE\"}}, \"_score\": null, \"_index\": \"tvseries\", \"_id\": \"9274\"}], \"total\": 10, \"max_score\": null}, \"_shards\": {\"successful\": 1, \"failed\": 0, \"total\": 1}, \"took\": 13, \"timed_out\": false}))\n",
       "        });\n",
       "        "
      ]
     },
     "metadata": {},
     "output_type": "display_data"
    }
   ],
   "source": [
    "payload = \"\"\"\n",
    "{\n",
    "  \"query\" : {\n",
    "     \"terms\" : { \"genres\": [\"Drama\", \"Crime\"] }\n",
    "  },\n",
    "  \"sort\" : { \"rating.average\" : \"asc\" }\n",
    "  \n",
    "}\n",
    "\"\"\"\n",
    "\n",
    "r = requests.get('http://localhost:9200/tvseries/serie/_search', data = payload)\n",
    "RenderJSON(r.json())"
   ]
  },
  {
   "cell_type": "markdown",
   "metadata": {
    "slideshow": {
     "slide_type": "subslide"
    }
   },
   "source": [
    "## Definiendo la relevancia a medida\n",
    "\n",
    " - function score \n",
    " - script score\n",
    "\n",
    "\n",
    "[TODO] Ejemplo para tener una fecha o una puntuacion media en cuenta "
   ]
  },
  {
   "cell_type": "code",
   "execution_count": 107,
   "metadata": {
    "collapsed": false
   },
   "outputs": [
    {
     "data": {
      "text/html": [
       "<div id=\"ab949be3-baf0-4eee-b830-919012efc59f\" style=\"height: 600px; width:100%;\"></div>"
      ]
     },
     "metadata": {},
     "output_type": "display_data"
    },
    {
     "data": {
      "application/javascript": [
       "\n",
       "        require([\"https://rawgit.com/caldwell/renderjson/master/renderjson.js\"], function() {\n",
       "          document.getElementById('ab949be3-baf0-4eee-b830-919012efc59f').appendChild(renderjson({\"hits\": {\"hits\": [{\"_score\": 1.0777687, \"_type\": \"serie\", \"_id\": \"5\", \"_source\": {\"status\": \"To Be Determined\", \"rating\": {\"average\": 8.5}, \"genres\": [\"Drama\", \"Crime\", \"Thriller\", \"Mystery\"], \"weight\": 4, \"updated\": 1455233815, \"name\": \"True Detective\", \"language\": \"English\", \"schedule\": {\"days\": [\"Sunday\"], \"time\": \"21:00\"}, \"url\": \"http://www.tvmaze.com/shows/5/true-detective\", \"image\": {\"medium\": \"http://tvmazecdn.com/uploads/images/medium_portrait/0/61.jpg\", \"original\": \"http://tvmazecdn.com/uploads/images/original_untouched/0/61.jpg\"}, \"externals\": {\"thetvdb\": 270633, \"tvrage\": 31369, \"imdb\": \"tt2356777\"}, \"premiered\": \"2014-01-12\", \"summary\": \"<p>The series stars Matthew McConaughey and Woody Harrelson as Louisiana detectives Rust Cohle and Martin Hart, whose lives collide and entwine during a 17-year hunt for a killer, ranging from the original investigation of a bizarre murder in 1995 to the reopening of the case in 2012. Michelle Monaghan also stars as Hart's wife, Maggie, who struggles to keep her family together as the men in her life become locked in a cycle of violence and obsession.</p>\", \"_links\": {\"previousepisode\": {\"href\": \"http://api.tvmaze.com/episodes/182325\"}, \"self\": {\"href\": \"http://api.tvmaze.com/shows/5\"}}, \"webChannel\": null, \"runtime\": 60, \"type\": \"Scripted\", \"id\": 5, \"network\": {\"country\": {\"timezone\": \"America/New_York\", \"code\": \"US\", \"name\": \"United States\"}, \"id\": 8, \"name\": \"HBO\"}}, \"_index\": \"tvseries\"}, {\"_score\": 0.43073177, \"_type\": \"serie\", \"_id\": \"170\", \"_source\": {\"status\": \"Running\", \"rating\": {\"average\": 8.4}, \"genres\": [\"Drama\", \"Comedy\", \"Crime\"], \"weight\": 3, \"updated\": 1453253701, \"name\": \"Orange is the New Black\", \"language\": \"English\", \"schedule\": {\"days\": [\"Friday\"], \"time\": \"00:01\"}, \"url\": \"http://www.tvmaze.com/shows/170/orange-is-the-new-black\", \"image\": {\"medium\": \"http://tvmazecdn.com/uploads/images/medium_portrait/0/2414.jpg\", \"original\": \"http://tvmazecdn.com/uploads/images/original_untouched/0/2414.jpg\"}, \"externals\": {\"thetvdb\": 264586, \"tvrage\": 32950, \"imdb\": \"tt2372162\"}, \"premiered\": \"2013-07-11\", \"summary\": \"<p>The story of Piper Chapman, a woman in her thirties who is sentenced to fifteen months in prison after being convicted of a decade-old crime of transporting money for her drug-dealing girlfriend.</p>\", \"_links\": {\"previousepisode\": {\"href\": \"http://api.tvmaze.com/episodes/143007\"}, \"self\": {\"href\": \"http://api.tvmaze.com/shows/170\"}, \"nextepisode\": {\"href\": \"http://api.tvmaze.com/episodes/574624\"}}, \"webChannel\": {\"country\": {\"timezone\": \"America/New_York\", \"code\": \"US\", \"name\": \"United States\"}, \"id\": 1, \"name\": \"Netflix\"}, \"runtime\": 60, \"type\": \"Scripted\", \"id\": 170, \"network\": null}, \"_index\": \"tvseries\"}, {\"_score\": 0.40362316, \"_type\": \"serie\", \"_id\": \"169\", \"_source\": {\"status\": \"Ended\", \"rating\": {\"average\": 9.3}, \"genres\": [\"Drama\", \"Crime\", \"Thriller\"], \"weight\": 3, \"updated\": 1451250971, \"name\": \"Breaking Bad\", \"language\": \"English\", \"schedule\": {\"days\": [\"Sunday\"], \"time\": \"22:00\"}, \"url\": \"http://www.tvmaze.com/shows/169/breaking-bad\", \"image\": {\"medium\": \"http://tvmazecdn.com/uploads/images/medium_portrait/0/2400.jpg\", \"original\": \"http://tvmazecdn.com/uploads/images/original_untouched/0/2400.jpg\"}, \"externals\": {\"thetvdb\": 81189, \"tvrage\": 18164, \"imdb\": \"tt0903747\"}, \"premiered\": \"2008-01-20\", \"summary\": \"<p><em><strong>\\\"Breaking Bad\\\"</strong></em> follows protagonist Walter White, a chemistry teacher who lives in New Mexico with his wife and teenage son who has cerebral palsy. White is diagnosed with Stage III cancer and given a prognosis of two years left to live. With a new sense of fearlessness based on his medical prognosis, and a desire to secure his family's financial security, White chooses to enter a dangerous world of drugs and crime and ascends to power in this world. The series explores how a fatal diagnosis such as White's releases a typical man from the daily concerns and constraints of normal society and follows his transformation from mild family man to a kingpin of the drug trade.</p>\", \"_links\": {\"previousepisode\": {\"href\": \"http://api.tvmaze.com/episodes/12253\"}, \"self\": {\"href\": \"http://api.tvmaze.com/shows/169\"}}, \"webChannel\": null, \"runtime\": 60, \"type\": \"Scripted\", \"id\": 169, \"network\": {\"country\": {\"timezone\": \"America/New_York\", \"code\": \"US\", \"name\": \"United States\"}, \"id\": 20, \"name\": \"AMC\"}}, \"_index\": \"tvseries\"}, {\"_score\": 0.2558812, \"_type\": \"serie\", \"_id\": \"1855\", \"_source\": {\"status\": \"Running\", \"rating\": {\"average\": 7.8}, \"genres\": [\"Action\", \"Crime\", \"Thriller\", \"Mystery\"], \"weight\": 11, \"updated\": 1455891788, \"name\": \"Blindspot\", \"language\": \"English\", \"schedule\": {\"days\": [\"Monday\"], \"time\": \"22:00\"}, \"url\": \"http://www.tvmaze.com/shows/1855/blindspot\", \"image\": {\"medium\": \"http://tvmazecdn.com/uploads/images/medium_portrait/28/70723.jpg\", \"original\": \"http://tvmazecdn.com/uploads/images/original_untouched/28/70723.jpg\"}, \"externals\": {\"thetvdb\": 295647, \"tvrage\": 44628, \"imdb\": \"tt4474344\"}, \"premiered\": \"2015-09-21\", \"summary\": \"<p>A beautiful woman, with no memories of her past, is found naked in Times\\n Square with her body fully covered in intricate tattoos. Her discovery \\nsets off a vast and complex mystery that immediately ignites the \\nattention of the FBI, which begins to follow the road map on her body \\ninto a larger conspiracy of crime, while bringing her closer to \\ndiscovering the truth about her identity.</p>\", \"_links\": {\"previousepisode\": {\"href\": \"http://api.tvmaze.com/episodes/410719\"}, \"self\": {\"href\": \"http://api.tvmaze.com/shows/1855\"}, \"nextepisode\": {\"href\": \"http://api.tvmaze.com/episodes/536750\"}}, \"webChannel\": null, \"runtime\": 60, \"type\": \"Scripted\", \"id\": 1855, \"network\": {\"country\": {\"timezone\": \"America/New_York\", \"code\": \"US\", \"name\": \"United States\"}, \"id\": 1, \"name\": \"NBC\"}}, \"_index\": \"tvseries\"}, {\"_score\": 0.24680094, \"_type\": \"serie\", \"_id\": \"51\", \"_source\": {\"status\": \"To Be Determined\", \"rating\": {\"average\": 8.7}, \"genres\": [\"Drama\", \"Medical\"], \"weight\": 2, \"updated\": 1455121010, \"name\": \"The Knick\", \"language\": \"English\", \"schedule\": {\"days\": [\"Friday\"], \"time\": \"22:00\"}, \"url\": \"http://www.tvmaze.com/shows/51/the-knick\", \"image\": {\"medium\": \"http://tvmazecdn.com/uploads/images/medium_portrait/0/417.jpg\", \"original\": \"http://tvmazecdn.com/uploads/images/original_untouched/0/417.jpg\"}, \"externals\": {\"thetvdb\": 279977, \"tvrage\": 36033, \"imdb\": \"tt2937900\"}, \"premiered\": \"2014-08-08\", \"summary\": \"<p>New York City, 1900: The Knickerbocker Hospital is home to groundbreaking surgeons, nurses and staff who push the boundaries of medicine in a time of astonishingly high mortality rates and zero antibiotics. The newly appointed leader of the surgery staff is the brilliant, arrogant renegade Dr. John Thackery, whose addiction to cocaine and opium is trumped only by his ambition for medical discovery and renown among his peers. Into the all-white staff and patient hospital comes the equally gifted Harvard graduate Dr. Algernon Edwards, who must fight for respect while trying to navigate the racially charged city. Trying to maintain its reputation for quality care while realizing a profit, the Knickerbocker makes an effort to attract wealthy clientele, while literally struggling to keep the lights on.</p>\", \"_links\": {\"previousepisode\": {\"href\": \"http://api.tvmaze.com/episodes/213032\"}, \"self\": {\"href\": \"http://api.tvmaze.com/shows/51\"}}, \"webChannel\": null, \"runtime\": 60, \"type\": \"Scripted\", \"id\": 51, \"network\": {\"country\": {\"timezone\": \"America/New_York\", \"code\": \"US\", \"name\": \"United States\"}, \"id\": 19, \"name\": \"Cinemax\"}}, \"_index\": \"tvseries\"}, {\"_score\": 0.20576547, \"_type\": \"serie\", \"_id\": \"712\", \"_source\": {\"status\": \"Ended\", \"rating\": {\"average\": 8.7}, \"genres\": [\"Drama\", \"History\"], \"weight\": 0, \"updated\": 1449500544, \"name\": \"The Tudors\", \"language\": \"English\", \"schedule\": {\"days\": [], \"time\": \"21:00\"}, \"url\": \"http://www.tvmaze.com/shows/712/the-tudors\", \"image\": {\"medium\": \"http://tvmazecdn.com/uploads/images/medium_portrait/6/15022.jpg\", \"original\": \"http://tvmazecdn.com/uploads/images/original_untouched/6/15022.jpg\"}, \"externals\": {\"thetvdb\": 79925, \"tvrage\": 7927, \"imdb\": \"tt0758790\"}, \"premiered\": \"2007-04-01\", \"summary\": \"<p>The final season will consist of 10, one-hour episodes and center on his tumultuous relationships with his last two wives, Catherine Howard and Catherine Parr, and his final descent into madness.</p>\", \"_links\": {\"previousepisode\": {\"href\": \"http://api.tvmaze.com/episodes/62894\"}, \"self\": {\"href\": \"http://api.tvmaze.com/shows/712\"}}, \"webChannel\": null, \"runtime\": 60, \"type\": \"Scripted\", \"id\": 712, \"network\": {\"country\": {\"timezone\": \"America/New_York\", \"code\": \"US\", \"name\": \"United States\"}, \"id\": 9, \"name\": \"Showtime\"}}, \"_index\": \"tvseries\"}, {\"_score\": 0.1342974, \"_type\": \"serie\", \"_id\": \"82\", \"_source\": {\"status\": \"Running\", \"rating\": {\"average\": 9.4}, \"genres\": [\"Drama\", \"Adventure\", \"Fantasy\"], \"weight\": 14, \"updated\": 1454051645, \"name\": \"Game of Thrones\", \"language\": \"English\", \"schedule\": {\"days\": [\"Sunday\"], \"time\": \"21:00\"}, \"url\": \"http://www.tvmaze.com/shows/82/game-of-thrones\", \"image\": {\"medium\": \"http://tvmazecdn.com/uploads/images/medium_portrait/0/581.jpg\", \"original\": \"http://tvmazecdn.com/uploads/images/original_untouched/0/581.jpg\"}, \"externals\": {\"thetvdb\": 121361, \"tvrage\": 24493, \"imdb\": \"tt0944947\"}, \"premiered\": \"2011-04-17\", \"summary\": \"<p>Based on the bestselling book series A Song of Ice and Fire by George R.R. Martin, this sprawling new HBO drama is set in a world where summers span decades and winters can last a lifetime. From the scheming south and the savage eastern lands, to the frozen north and ancient Wall that protects the realm from the mysterious darkness beyond, the powerful families of the Seven Kingdoms are locked in a battle for the Iron Throne. This is a story of duplicity and treachery, nobility and honor, conquest and triumph. In the <strong><em>\\\"Game of Thrones\\\"</em></strong>, you either win or you die.</p>\", \"_links\": {\"previousepisode\": {\"href\": \"http://api.tvmaze.com/episodes/162186\"}, \"self\": {\"href\": \"http://api.tvmaze.com/shows/82\"}, \"nextepisode\": {\"href\": \"http://api.tvmaze.com/episodes/560813\"}}, \"webChannel\": null, \"runtime\": 60, \"type\": \"Scripted\", \"id\": 82, \"network\": {\"country\": {\"timezone\": \"America/New_York\", \"code\": \"US\", \"name\": \"United States\"}, \"id\": 8, \"name\": \"HBO\"}}, \"_index\": \"tvseries\"}, {\"_score\": 0.11796791, \"_type\": \"serie\", \"_id\": \"175\", \"_source\": {\"status\": \"Running\", \"rating\": {\"average\": 8.9}, \"genres\": [\"Drama\", \"Thriller\"], \"weight\": 7, \"updated\": 1454549570, \"name\": \"House of Cards\", \"language\": \"English\", \"schedule\": {\"days\": [\"Friday\"], \"time\": \"00:01\"}, \"url\": \"http://www.tvmaze.com/shows/175/house-of-cards\", \"image\": {\"medium\": \"http://tvmazecdn.com/uploads/images/medium_portrait/0/2460.jpg\", \"original\": \"http://tvmazecdn.com/uploads/images/original_untouched/0/2460.jpg\"}, \"externals\": {\"thetvdb\": 262980, \"tvrage\": 27822, \"imdb\": \"tt1856010\"}, \"premiered\": \"2013-02-01\", \"summary\": \"<p>A Congressman works with his equally conniving wife to exact revenge on the people who betrayed him.</p>\", \"_links\": {\"previousepisode\": {\"href\": \"http://api.tvmaze.com/episodes/57773\"}, \"self\": {\"href\": \"http://api.tvmaze.com/shows/175\"}, \"nextepisode\": {\"href\": \"http://api.tvmaze.com/episodes/436756\"}}, \"webChannel\": {\"country\": {\"timezone\": \"America/New_York\", \"code\": \"US\", \"name\": \"United States\"}, \"id\": 1, \"name\": \"Netflix\"}, \"runtime\": 60, \"type\": \"Scripted\", \"id\": 175, \"network\": null}, \"_index\": \"tvseries\"}, {\"_score\": 0.11316696, \"_type\": \"serie\", \"_id\": \"3386\", \"_source\": {\"status\": \"Running\", \"rating\": {\"average\": 9.3}, \"genres\": [\"Drama\", \"History\"], \"weight\": 2, \"updated\": 1450525730, \"name\": \"Versailles\", \"language\": \"English\", \"schedule\": {\"days\": [], \"time\": \"\"}, \"url\": \"http://www.tvmaze.com/shows/3386/versailles\", \"image\": {\"medium\": \"http://tvmazecdn.com/uploads/images/medium_portrait/34/86312.jpg\", \"original\": \"http://tvmazecdn.com/uploads/images/original_untouched/34/86312.jpg\"}, \"externals\": {\"thetvdb\": 300280, \"tvrage\": null, \"imdb\": \"tt3830558\"}, \"premiered\": \"2015-11-16\", \"summary\": \"<p>Versailles, 1667. Louis XIV was 28 years old. To rise to the heights of the nobility and wield its absolute power, he launched the construction of Versailles... it proved to be a snare. Louis XIV is a young King haunted by childhood trauma, the Fronde civil, a rebellion of the nobility against his father, Louis XIII... It will prove be a strategic policy out of the ordinary, manipulative, Machiavellian, and he will \\\"invent\\\" Versailles for the nobles of Paris, to keep them under control, and gradually transform the castle into a golden prison. But how will Louis live as the greatest King in the world?</p><p> Historical fiction of the court figures and the more humble villagers, guiding us in a world of betrayals and secrets, politicking and declarations of love.</p>\", \"_links\": {\"previousepisode\": {\"href\": \"http://api.tvmaze.com/episodes/471693\"}, \"self\": {\"href\": \"http://api.tvmaze.com/shows/3386\"}}, \"webChannel\": null, \"runtime\": 60, \"type\": \"Scripted\", \"id\": 3386, \"network\": {\"country\": {\"timezone\": \"Europe/Paris\", \"code\": \"FR\", \"name\": \"France\"}, \"id\": 105, \"name\": \"Canal+\"}}, \"_index\": \"tvseries\"}, {\"_score\": 0.096862875, \"_type\": \"serie\", \"_id\": \"9274\", \"_source\": {\"status\": \"Ended\", \"rating\": {\"average\": null}, \"genres\": [\"Drama\"], \"weight\": 0, \"updated\": 1455109198, \"name\": \"Isabel\", \"language\": \"Spanish\", \"schedule\": {\"days\": [], \"time\": \"\"}, \"url\": \"http://www.tvmaze.com/shows/9274/isabel\", \"image\": {\"medium\": \"http://tvmazecdn.com/uploads/images/medium_portrait/32/81594.jpg\", \"original\": \"http://tvmazecdn.com/uploads/images/original_untouched/32/81594.jpg\"}, \"externals\": {\"thetvdb\": 262381, \"tvrage\": 32792, \"imdb\": \"tt2011533\"}, \"premiered\": \"2012-09-10\", \"summary\": \"<p>Life of Isabella I of Castile, also known as Isabella the Catholic.</p>\", \"_links\": {\"previousepisode\": {\"href\": \"http://api.tvmaze.com/episodes/501878\"}, \"self\": {\"href\": \"http://api.tvmaze.com/shows/9274\"}}, \"webChannel\": null, \"runtime\": 60, \"type\": \"Scripted\", \"id\": 9274, \"network\": {\"country\": {\"timezone\": \"Europe/Madrid\", \"code\": \"ES\", \"name\": \"Spain\"}, \"id\": 147, \"name\": \"RTVE\"}}, \"_index\": \"tvseries\"}], \"total\": 10, \"max_score\": 1.0777687}, \"_shards\": {\"successful\": 1, \"failed\": 0, \"total\": 1}, \"took\": 2, \"timed_out\": false}))\n",
       "        });\n",
       "        "
      ]
     },
     "metadata": {},
     "output_type": "display_data"
    }
   ],
   "source": [
    "payload = \"\"\"\n",
    "{\n",
    "  \"query\": {\n",
    "    \"function_score\" : {\n",
    "    \"query\" : { \n",
    "       \"terms\" : { \"genres\": [\"Drama\", \"Crime\"] }\n",
    "     },\n",
    "      \"random_score\" : {  }\n",
    "    }\n",
    "  }\n",
    "}\n",
    "\"\"\"\n",
    "\n",
    "r = requests.get('http://localhost:9200/tvseries/serie/_search', data = payload)\n",
    "RenderJSON(r.json())"
   ]
  },
  {
   "cell_type": "code",
   "execution_count": 113,
   "metadata": {
    "collapsed": false
   },
   "outputs": [
    {
     "data": {
      "text/html": [
       "<div id=\"177184f3-127d-467d-bc4c-f1808ed16265\" style=\"height: 600px; width:100%;\"></div>"
      ]
     },
     "metadata": {},
     "output_type": "display_data"
    },
    {
     "data": {
      "application/javascript": [
       "\n",
       "        require([\"https://rawgit.com/caldwell/renderjson/master/renderjson.js\"], function() {\n",
       "          document.getElementById('177184f3-127d-467d-bc4c-f1808ed16265').appendChild(renderjson({\"hits\": {\"hits\": [{\"_type\": \"serie\", \"_index\": \"tvseries\", \"_score\": 40.904045, \"_source\": {\"status\": \"Ended\", \"rating\": {\"average\": 9.3}, \"genres\": [\"Drama\", \"Crime\", \"Thriller\"], \"weight\": 3, \"updated\": 1451250971, \"name\": \"Breaking Bad\", \"language\": \"English\", \"schedule\": {\"days\": [\"Sunday\"], \"time\": \"22:00\"}, \"url\": \"http://www.tvmaze.com/shows/169/breaking-bad\", \"image\": {\"medium\": \"http://tvmazecdn.com/uploads/images/medium_portrait/0/2400.jpg\", \"original\": \"http://tvmazecdn.com/uploads/images/original_untouched/0/2400.jpg\"}, \"externals\": {\"thetvdb\": 81189, \"tvrage\": 18164, \"imdb\": \"tt0903747\"}, \"premiered\": \"2008-01-20\", \"summary\": \"<p><em><strong>\\\"Breaking Bad\\\"</strong></em> follows protagonist Walter White, a chemistry teacher who lives in New Mexico with his wife and teenage son who has cerebral palsy. White is diagnosed with Stage III cancer and given a prognosis of two years left to live. With a new sense of fearlessness based on his medical prognosis, and a desire to secure his family's financial security, White chooses to enter a dangerous world of drugs and crime and ascends to power in this world. The series explores how a fatal diagnosis such as White's releases a typical man from the daily concerns and constraints of normal society and follows his transformation from mild family man to a kingpin of the drug trade.</p>\", \"_links\": {\"previousepisode\": {\"href\": \"http://api.tvmaze.com/episodes/12253\"}, \"self\": {\"href\": \"http://api.tvmaze.com/shows/169\"}}, \"webChannel\": null, \"runtime\": 60, \"type\": \"Scripted\", \"id\": 169, \"network\": {\"country\": {\"timezone\": \"America/New_York\", \"code\": \"US\", \"name\": \"United States\"}, \"id\": 20, \"name\": \"AMC\"}}, \"_node\": \"QQZWlZVeQ7OURGKgRBFpAQ\", \"_explanation\": {\"description\": \"sum of:\", \"value\": 40.904045, \"details\": [{\"description\": \"function score, product of:\", \"value\": 40.904045, \"details\": [{\"description\": \"sum of:\", \"value\": 2.0972087, \"details\": [{\"description\": \"weight(genres:Drama in 0) [PerFieldSimilarity], result of:\", \"value\": 0.5720482, \"details\": [{\"description\": \"score(doc=0,freq=1.0), product of:\", \"value\": 0.5720482, \"details\": [{\"description\": \"queryWeight, product of:\", \"value\": 0.5222705, \"details\": [{\"description\": \"idf(docFreq=9, maxDocs=11)\", \"value\": 1.0953102, \"details\": []}, {\"description\": \"queryNorm\", \"value\": 0.47682428, \"details\": []}]}, {\"description\": \"fieldWeight in 0, product of:\", \"value\": 1.0953102, \"details\": [{\"description\": \"tf(freq=1.0), with freq of:\", \"value\": 1.0, \"details\": [{\"description\": \"termFreq=1.0\", \"value\": 1.0, \"details\": []}]}, {\"description\": \"idf(docFreq=9, maxDocs=11)\", \"value\": 1.0953102, \"details\": []}, {\"description\": \"fieldNorm(doc=0)\", \"value\": 1.0, \"details\": []}]}]}]}, {\"description\": \"weight(genres:Crime in 0) [PerFieldSimilarity], result of:\", \"value\": 1.5251606, \"details\": [{\"description\": \"score(doc=0,freq=1.0), product of:\", \"value\": 1.5251606, \"details\": [{\"description\": \"queryWeight, product of:\", \"value\": 0.8527799, \"details\": [{\"description\": \"idf(docFreq=4, maxDocs=11)\", \"value\": 1.7884574, \"details\": []}, {\"description\": \"queryNorm\", \"value\": 0.47682428, \"details\": []}]}, {\"description\": \"fieldWeight in 0, product of:\", \"value\": 1.7884574, \"details\": [{\"description\": \"tf(freq=1.0), with freq of:\", \"value\": 1.0, \"details\": [{\"description\": \"termFreq=1.0\", \"value\": 1.0, \"details\": []}]}, {\"description\": \"idf(docFreq=4, maxDocs=11)\", \"value\": 1.7884574, \"details\": []}, {\"description\": \"fieldNorm(doc=0)\", \"value\": 1.0, \"details\": []}]}]}]}]}, {\"description\": \"min of:\", \"value\": 19.504042, \"details\": [{\"description\": \"script score function, computed with script:\\\"[script: _score * doc['rating.average'].value, type: inline, lang: null, params: {}]\\\" and parameters: \\n{}\", \"value\": 19.504042, \"details\": [{\"description\": \"_score: \", \"value\": 2.0972087, \"details\": [{\"description\": \"sum of:\", \"value\": 2.0972087, \"details\": [{\"description\": \"weight(genres:Drama in 0) [PerFieldSimilarity], result of:\", \"value\": 0.5720482, \"details\": [{\"description\": \"score(doc=0,freq=1.0), product of:\", \"value\": 0.5720482, \"details\": [{\"description\": \"queryWeight, product of:\", \"value\": 0.5222705, \"details\": [{\"description\": \"idf(docFreq=9, maxDocs=11)\", \"value\": 1.0953102, \"details\": []}, {\"description\": \"queryNorm\", \"value\": 0.47682428, \"details\": []}]}, {\"description\": \"fieldWeight in 0, product of:\", \"value\": 1.0953102, \"details\": [{\"description\": \"tf(freq=1.0), with freq of:\", \"value\": 1.0, \"details\": [{\"description\": \"termFreq=1.0\", \"value\": 1.0, \"details\": []}]}, {\"description\": \"idf(docFreq=9, maxDocs=11)\", \"value\": 1.0953102, \"details\": []}, {\"description\": \"fieldNorm(doc=0)\", \"value\": 1.0, \"details\": []}]}]}]}, {\"description\": \"weight(genres:Crime in 0) [PerFieldSimilarity], result of:\", \"value\": 1.5251606, \"details\": [{\"description\": \"score(doc=0,freq=1.0), product of:\", \"value\": 1.5251606, \"details\": [{\"description\": \"queryWeight, product of:\", \"value\": 0.8527799, \"details\": [{\"description\": \"idf(docFreq=4, maxDocs=11)\", \"value\": 1.7884574, \"details\": []}, {\"description\": \"queryNorm\", \"value\": 0.47682428, \"details\": []}]}, {\"description\": \"fieldWeight in 0, product of:\", \"value\": 1.7884574, \"details\": [{\"description\": \"tf(freq=1.0), with freq of:\", \"value\": 1.0, \"details\": [{\"description\": \"termFreq=1.0\", \"value\": 1.0, \"details\": []}]}, {\"description\": \"idf(docFreq=4, maxDocs=11)\", \"value\": 1.7884574, \"details\": []}, {\"description\": \"fieldNorm(doc=0)\", \"value\": 1.0, \"details\": []}]}]}]}]}]}]}, {\"description\": \"maxBoost\", \"value\": 3.4028235e+38, \"details\": []}]}, {\"description\": \"queryBoost\", \"value\": 1.0, \"details\": []}]}, {\"description\": \"match on required clause, product of:\", \"value\": 0.0, \"details\": [{\"description\": \"# clause\", \"value\": 0.0, \"details\": []}, {\"description\": \"_type:serie, product of:\", \"value\": 0.47682428, \"details\": [{\"description\": \"boost\", \"value\": 1.0, \"details\": []}, {\"description\": \"queryNorm\", \"value\": 0.47682428, \"details\": []}]}]}]}, \"_shard\": 0, \"_id\": \"169\"}, {\"_type\": \"serie\", \"_index\": \"tvseries\", \"_score\": 37.385418, \"_source\": {\"status\": \"To Be Determined\", \"rating\": {\"average\": 8.5}, \"genres\": [\"Drama\", \"Crime\", \"Thriller\", \"Mystery\"], \"weight\": 4, \"updated\": 1455233815, \"name\": \"True Detective\", \"language\": \"English\", \"schedule\": {\"days\": [\"Sunday\"], \"time\": \"21:00\"}, \"url\": \"http://www.tvmaze.com/shows/5/true-detective\", \"image\": {\"medium\": \"http://tvmazecdn.com/uploads/images/medium_portrait/0/61.jpg\", \"original\": \"http://tvmazecdn.com/uploads/images/original_untouched/0/61.jpg\"}, \"externals\": {\"thetvdb\": 270633, \"tvrage\": 31369, \"imdb\": \"tt2356777\"}, \"premiered\": \"2014-01-12\", \"summary\": \"<p>The series stars Matthew McConaughey and Woody Harrelson as Louisiana detectives Rust Cohle and Martin Hart, whose lives collide and entwine during a 17-year hunt for a killer, ranging from the original investigation of a bizarre murder in 1995 to the reopening of the case in 2012. Michelle Monaghan also stars as Hart's wife, Maggie, who struggles to keep her family together as the men in her life become locked in a cycle of violence and obsession.</p>\", \"_links\": {\"previousepisode\": {\"href\": \"http://api.tvmaze.com/episodes/182325\"}, \"self\": {\"href\": \"http://api.tvmaze.com/shows/5\"}}, \"webChannel\": null, \"runtime\": 60, \"type\": \"Scripted\", \"id\": 5, \"network\": {\"country\": {\"timezone\": \"America/New_York\", \"code\": \"US\", \"name\": \"United States\"}, \"id\": 8, \"name\": \"HBO\"}}, \"_node\": \"QQZWlZVeQ7OURGKgRBFpAQ\", \"_explanation\": {\"description\": \"sum of:\", \"value\": 37.385418, \"details\": [{\"description\": \"function score, product of:\", \"value\": 37.385418, \"details\": [{\"description\": \"sum of:\", \"value\": 2.0972087, \"details\": [{\"description\": \"weight(genres:Drama in 1) [PerFieldSimilarity], result of:\", \"value\": 0.5720482, \"details\": [{\"description\": \"score(doc=1,freq=1.0), product of:\", \"value\": 0.5720482, \"details\": [{\"description\": \"queryWeight, product of:\", \"value\": 0.5222705, \"details\": [{\"description\": \"idf(docFreq=9, maxDocs=11)\", \"value\": 1.0953102, \"details\": []}, {\"description\": \"queryNorm\", \"value\": 0.47682428, \"details\": []}]}, {\"description\": \"fieldWeight in 1, product of:\", \"value\": 1.0953102, \"details\": [{\"description\": \"tf(freq=1.0), with freq of:\", \"value\": 1.0, \"details\": [{\"description\": \"termFreq=1.0\", \"value\": 1.0, \"details\": []}]}, {\"description\": \"idf(docFreq=9, maxDocs=11)\", \"value\": 1.0953102, \"details\": []}, {\"description\": \"fieldNorm(doc=1)\", \"value\": 1.0, \"details\": []}]}]}]}, {\"description\": \"weight(genres:Crime in 1) [PerFieldSimilarity], result of:\", \"value\": 1.5251606, \"details\": [{\"description\": \"score(doc=1,freq=1.0), product of:\", \"value\": 1.5251606, \"details\": [{\"description\": \"queryWeight, product of:\", \"value\": 0.8527799, \"details\": [{\"description\": \"idf(docFreq=4, maxDocs=11)\", \"value\": 1.7884574, \"details\": []}, {\"description\": \"queryNorm\", \"value\": 0.47682428, \"details\": []}]}, {\"description\": \"fieldWeight in 1, product of:\", \"value\": 1.7884574, \"details\": [{\"description\": \"tf(freq=1.0), with freq of:\", \"value\": 1.0, \"details\": [{\"description\": \"termFreq=1.0\", \"value\": 1.0, \"details\": []}]}, {\"description\": \"idf(docFreq=4, maxDocs=11)\", \"value\": 1.7884574, \"details\": []}, {\"description\": \"fieldNorm(doc=1)\", \"value\": 1.0, \"details\": []}]}]}]}]}, {\"description\": \"min of:\", \"value\": 17.826275, \"details\": [{\"description\": \"script score function, computed with script:\\\"[script: _score * doc['rating.average'].value, type: inline, lang: null, params: {}]\\\" and parameters: \\n{}\", \"value\": 17.826275, \"details\": [{\"description\": \"_score: \", \"value\": 2.0972087, \"details\": [{\"description\": \"sum of:\", \"value\": 2.0972087, \"details\": [{\"description\": \"weight(genres:Drama in 1) [PerFieldSimilarity], result of:\", \"value\": 0.5720482, \"details\": [{\"description\": \"score(doc=1,freq=1.0), product of:\", \"value\": 0.5720482, \"details\": [{\"description\": \"queryWeight, product of:\", \"value\": 0.5222705, \"details\": [{\"description\": \"idf(docFreq=9, maxDocs=11)\", \"value\": 1.0953102, \"details\": []}, {\"description\": \"queryNorm\", \"value\": 0.47682428, \"details\": []}]}, {\"description\": \"fieldWeight in 1, product of:\", \"value\": 1.0953102, \"details\": [{\"description\": \"tf(freq=1.0), with freq of:\", \"value\": 1.0, \"details\": [{\"description\": \"termFreq=1.0\", \"value\": 1.0, \"details\": []}]}, {\"description\": \"idf(docFreq=9, maxDocs=11)\", \"value\": 1.0953102, \"details\": []}, {\"description\": \"fieldNorm(doc=1)\", \"value\": 1.0, \"details\": []}]}]}]}, {\"description\": \"weight(genres:Crime in 1) [PerFieldSimilarity], result of:\", \"value\": 1.5251606, \"details\": [{\"description\": \"score(doc=1,freq=1.0), product of:\", \"value\": 1.5251606, \"details\": [{\"description\": \"queryWeight, product of:\", \"value\": 0.8527799, \"details\": [{\"description\": \"idf(docFreq=4, maxDocs=11)\", \"value\": 1.7884574, \"details\": []}, {\"description\": \"queryNorm\", \"value\": 0.47682428, \"details\": []}]}, {\"description\": \"fieldWeight in 1, product of:\", \"value\": 1.7884574, \"details\": [{\"description\": \"tf(freq=1.0), with freq of:\", \"value\": 1.0, \"details\": [{\"description\": \"termFreq=1.0\", \"value\": 1.0, \"details\": []}]}, {\"description\": \"idf(docFreq=4, maxDocs=11)\", \"value\": 1.7884574, \"details\": []}, {\"description\": \"fieldNorm(doc=1)\", \"value\": 1.0, \"details\": []}]}]}]}]}]}]}, {\"description\": \"maxBoost\", \"value\": 3.4028235e+38, \"details\": []}]}, {\"description\": \"queryBoost\", \"value\": 1.0, \"details\": []}]}, {\"description\": \"match on required clause, product of:\", \"value\": 0.0, \"details\": [{\"description\": \"# clause\", \"value\": 0.0, \"details\": []}, {\"description\": \"_type:serie, product of:\", \"value\": 0.47682428, \"details\": [{\"description\": \"boost\", \"value\": 1.0, \"details\": []}, {\"description\": \"queryNorm\", \"value\": 0.47682428, \"details\": []}]}]}]}, \"_shard\": 0, \"_id\": \"5\"}, {\"_type\": \"serie\", \"_index\": \"tvseries\", \"_score\": 36.94559, \"_source\": {\"status\": \"Running\", \"rating\": {\"average\": 8.4}, \"genres\": [\"Drama\", \"Comedy\", \"Crime\"], \"weight\": 3, \"updated\": 1453253701, \"name\": \"Orange is the New Black\", \"language\": \"English\", \"schedule\": {\"days\": [\"Friday\"], \"time\": \"00:01\"}, \"url\": \"http://www.tvmaze.com/shows/170/orange-is-the-new-black\", \"image\": {\"medium\": \"http://tvmazecdn.com/uploads/images/medium_portrait/0/2414.jpg\", \"original\": \"http://tvmazecdn.com/uploads/images/original_untouched/0/2414.jpg\"}, \"externals\": {\"thetvdb\": 264586, \"tvrage\": 32950, \"imdb\": \"tt2372162\"}, \"premiered\": \"2013-07-11\", \"summary\": \"<p>The story of Piper Chapman, a woman in her thirties who is sentenced to fifteen months in prison after being convicted of a decade-old crime of transporting money for her drug-dealing girlfriend.</p>\", \"_links\": {\"previousepisode\": {\"href\": \"http://api.tvmaze.com/episodes/143007\"}, \"self\": {\"href\": \"http://api.tvmaze.com/shows/170\"}, \"nextepisode\": {\"href\": \"http://api.tvmaze.com/episodes/574624\"}}, \"webChannel\": {\"country\": {\"timezone\": \"America/New_York\", \"code\": \"US\", \"name\": \"United States\"}, \"id\": 1, \"name\": \"Netflix\"}, \"runtime\": 60, \"type\": \"Scripted\", \"id\": 170, \"network\": null}, \"_node\": \"QQZWlZVeQ7OURGKgRBFpAQ\", \"_explanation\": {\"description\": \"sum of:\", \"value\": 36.94559, \"details\": [{\"description\": \"function score, product of:\", \"value\": 36.94559, \"details\": [{\"description\": \"sum of:\", \"value\": 2.0972087, \"details\": [{\"description\": \"weight(genres:Drama in 0) [PerFieldSimilarity], result of:\", \"value\": 0.5720482, \"details\": [{\"description\": \"score(doc=0,freq=1.0), product of:\", \"value\": 0.5720482, \"details\": [{\"description\": \"queryWeight, product of:\", \"value\": 0.5222705, \"details\": [{\"description\": \"idf(docFreq=9, maxDocs=11)\", \"value\": 1.0953102, \"details\": []}, {\"description\": \"queryNorm\", \"value\": 0.47682428, \"details\": []}]}, {\"description\": \"fieldWeight in 0, product of:\", \"value\": 1.0953102, \"details\": [{\"description\": \"tf(freq=1.0), with freq of:\", \"value\": 1.0, \"details\": [{\"description\": \"termFreq=1.0\", \"value\": 1.0, \"details\": []}]}, {\"description\": \"idf(docFreq=9, maxDocs=11)\", \"value\": 1.0953102, \"details\": []}, {\"description\": \"fieldNorm(doc=0)\", \"value\": 1.0, \"details\": []}]}]}]}, {\"description\": \"weight(genres:Crime in 0) [PerFieldSimilarity], result of:\", \"value\": 1.5251606, \"details\": [{\"description\": \"score(doc=0,freq=1.0), product of:\", \"value\": 1.5251606, \"details\": [{\"description\": \"queryWeight, product of:\", \"value\": 0.8527799, \"details\": [{\"description\": \"idf(docFreq=4, maxDocs=11)\", \"value\": 1.7884574, \"details\": []}, {\"description\": \"queryNorm\", \"value\": 0.47682428, \"details\": []}]}, {\"description\": \"fieldWeight in 0, product of:\", \"value\": 1.7884574, \"details\": [{\"description\": \"tf(freq=1.0), with freq of:\", \"value\": 1.0, \"details\": [{\"description\": \"termFreq=1.0\", \"value\": 1.0, \"details\": []}]}, {\"description\": \"idf(docFreq=4, maxDocs=11)\", \"value\": 1.7884574, \"details\": []}, {\"description\": \"fieldNorm(doc=0)\", \"value\": 1.0, \"details\": []}]}]}]}]}, {\"description\": \"min of:\", \"value\": 17.616554, \"details\": [{\"description\": \"script score function, computed with script:\\\"[script: _score * doc['rating.average'].value, type: inline, lang: null, params: {}]\\\" and parameters: \\n{}\", \"value\": 17.616554, \"details\": [{\"description\": \"_score: \", \"value\": 2.0972087, \"details\": [{\"description\": \"sum of:\", \"value\": 2.0972087, \"details\": [{\"description\": \"weight(genres:Drama in 0) [PerFieldSimilarity], result of:\", \"value\": 0.5720482, \"details\": [{\"description\": \"score(doc=0,freq=1.0), product of:\", \"value\": 0.5720482, \"details\": [{\"description\": \"queryWeight, product of:\", \"value\": 0.5222705, \"details\": [{\"description\": \"idf(docFreq=9, maxDocs=11)\", \"value\": 1.0953102, \"details\": []}, {\"description\": \"queryNorm\", \"value\": 0.47682428, \"details\": []}]}, {\"description\": \"fieldWeight in 0, product of:\", \"value\": 1.0953102, \"details\": [{\"description\": \"tf(freq=1.0), with freq of:\", \"value\": 1.0, \"details\": [{\"description\": \"termFreq=1.0\", \"value\": 1.0, \"details\": []}]}, {\"description\": \"idf(docFreq=9, maxDocs=11)\", \"value\": 1.0953102, \"details\": []}, {\"description\": \"fieldNorm(doc=0)\", \"value\": 1.0, \"details\": []}]}]}]}, {\"description\": \"weight(genres:Crime in 0) [PerFieldSimilarity], result of:\", \"value\": 1.5251606, \"details\": [{\"description\": \"score(doc=0,freq=1.0), product of:\", \"value\": 1.5251606, \"details\": [{\"description\": \"queryWeight, product of:\", \"value\": 0.8527799, \"details\": [{\"description\": \"idf(docFreq=4, maxDocs=11)\", \"value\": 1.7884574, \"details\": []}, {\"description\": \"queryNorm\", \"value\": 0.47682428, \"details\": []}]}, {\"description\": \"fieldWeight in 0, product of:\", \"value\": 1.7884574, \"details\": [{\"description\": \"tf(freq=1.0), with freq of:\", \"value\": 1.0, \"details\": [{\"description\": \"termFreq=1.0\", \"value\": 1.0, \"details\": []}]}, {\"description\": \"idf(docFreq=4, maxDocs=11)\", \"value\": 1.7884574, \"details\": []}, {\"description\": \"fieldNorm(doc=0)\", \"value\": 1.0, \"details\": []}]}]}]}]}]}]}, {\"description\": \"maxBoost\", \"value\": 3.4028235e+38, \"details\": []}]}, {\"description\": \"queryBoost\", \"value\": 1.0, \"details\": []}]}, {\"description\": \"match on required clause, product of:\", \"value\": 0.0, \"details\": [{\"description\": \"# clause\", \"value\": 0.0, \"details\": []}, {\"description\": \"_type:serie, product of:\", \"value\": 0.47682428, \"details\": [{\"description\": \"boost\", \"value\": 1.0, \"details\": []}, {\"description\": \"queryNorm\", \"value\": 0.47682428, \"details\": []}]}]}]}, \"_shard\": 0, \"_id\": \"170\"}, {\"_type\": \"serie\", \"_index\": \"tvseries\", \"_score\": 4.5359235, \"_source\": {\"status\": \"Running\", \"rating\": {\"average\": 7.8}, \"genres\": [\"Action\", \"Crime\", \"Thriller\", \"Mystery\"], \"weight\": 11, \"updated\": 1455891788, \"name\": \"Blindspot\", \"language\": \"English\", \"schedule\": {\"days\": [\"Monday\"], \"time\": \"22:00\"}, \"url\": \"http://www.tvmaze.com/shows/1855/blindspot\", \"image\": {\"medium\": \"http://tvmazecdn.com/uploads/images/medium_portrait/28/70723.jpg\", \"original\": \"http://tvmazecdn.com/uploads/images/original_untouched/28/70723.jpg\"}, \"externals\": {\"thetvdb\": 295647, \"tvrage\": 44628, \"imdb\": \"tt4474344\"}, \"premiered\": \"2015-09-21\", \"summary\": \"<p>A beautiful woman, with no memories of her past, is found naked in Times\\n Square with her body fully covered in intricate tattoos. Her discovery \\nsets off a vast and complex mystery that immediately ignites the \\nattention of the FBI, which begins to follow the road map on her body \\ninto a larger conspiracy of crime, while bringing her closer to \\ndiscovering the truth about her identity.</p>\", \"_links\": {\"previousepisode\": {\"href\": \"http://api.tvmaze.com/episodes/410719\"}, \"self\": {\"href\": \"http://api.tvmaze.com/shows/1855\"}, \"nextepisode\": {\"href\": \"http://api.tvmaze.com/episodes/536750\"}}, \"webChannel\": null, \"runtime\": 60, \"type\": \"Scripted\", \"id\": 1855, \"network\": {\"country\": {\"timezone\": \"America/New_York\", \"code\": \"US\", \"name\": \"United States\"}, \"id\": 1, \"name\": \"NBC\"}}, \"_node\": \"QQZWlZVeQ7OURGKgRBFpAQ\", \"_explanation\": {\"description\": \"sum of:\", \"value\": 4.535924, \"details\": [{\"description\": \"function score, product of:\", \"value\": 4.535924, \"details\": [{\"description\": \"product of:\", \"value\": 0.7625803, \"details\": [{\"description\": \"sum of:\", \"value\": 1.5251606, \"details\": [{\"description\": \"weight(genres:Crime in 1) [PerFieldSimilarity], result of:\", \"value\": 1.5251606, \"details\": [{\"description\": \"score(doc=1,freq=1.0), product of:\", \"value\": 1.5251606, \"details\": [{\"description\": \"queryWeight, product of:\", \"value\": 0.8527799, \"details\": [{\"description\": \"idf(docFreq=4, maxDocs=11)\", \"value\": 1.7884574, \"details\": []}, {\"description\": \"queryNorm\", \"value\": 0.47682428, \"details\": []}]}, {\"description\": \"fieldWeight in 1, product of:\", \"value\": 1.7884574, \"details\": [{\"description\": \"tf(freq=1.0), with freq of:\", \"value\": 1.0, \"details\": [{\"description\": \"termFreq=1.0\", \"value\": 1.0, \"details\": []}]}, {\"description\": \"idf(docFreq=4, maxDocs=11)\", \"value\": 1.7884574, \"details\": []}, {\"description\": \"fieldNorm(doc=1)\", \"value\": 1.0, \"details\": []}]}]}]}]}, {\"description\": \"coord(1/2)\", \"value\": 0.5, \"details\": []}]}, {\"description\": \"min of:\", \"value\": 5.9481263, \"details\": [{\"description\": \"script score function, computed with script:\\\"[script: _score * doc['rating.average'].value, type: inline, lang: null, params: {}]\\\" and parameters: \\n{}\", \"value\": 5.9481263, \"details\": [{\"description\": \"_score: \", \"value\": 0.7625803, \"details\": [{\"description\": \"product of:\", \"value\": 0.7625803, \"details\": [{\"description\": \"sum of:\", \"value\": 1.5251606, \"details\": [{\"description\": \"weight(genres:Crime in 1) [PerFieldSimilarity], result of:\", \"value\": 1.5251606, \"details\": [{\"description\": \"score(doc=1,freq=1.0), product of:\", \"value\": 1.5251606, \"details\": [{\"description\": \"queryWeight, product of:\", \"value\": 0.8527799, \"details\": [{\"description\": \"idf(docFreq=4, maxDocs=11)\", \"value\": 1.7884574, \"details\": []}, {\"description\": \"queryNorm\", \"value\": 0.47682428, \"details\": []}]}, {\"description\": \"fieldWeight in 1, product of:\", \"value\": 1.7884574, \"details\": [{\"description\": \"tf(freq=1.0), with freq of:\", \"value\": 1.0, \"details\": [{\"description\": \"termFreq=1.0\", \"value\": 1.0, \"details\": []}]}, {\"description\": \"idf(docFreq=4, maxDocs=11)\", \"value\": 1.7884574, \"details\": []}, {\"description\": \"fieldNorm(doc=1)\", \"value\": 1.0, \"details\": []}]}]}]}]}, {\"description\": \"coord(1/2)\", \"value\": 0.5, \"details\": []}]}]}]}, {\"description\": \"maxBoost\", \"value\": 3.4028235e+38, \"details\": []}]}, {\"description\": \"queryBoost\", \"value\": 1.0, \"details\": []}]}, {\"description\": \"match on required clause, product of:\", \"value\": 0.0, \"details\": [{\"description\": \"# clause\", \"value\": 0.0, \"details\": []}, {\"description\": \"_type:serie, product of:\", \"value\": 0.47682428, \"details\": [{\"description\": \"boost\", \"value\": 1.0, \"details\": []}, {\"description\": \"queryNorm\", \"value\": 0.47682428, \"details\": []}]}]}]}, \"_shard\": 0, \"_id\": \"1855\"}, {\"_type\": \"serie\", \"_index\": \"tvseries\", \"_score\": 0.769012, \"_source\": {\"status\": \"Running\", \"rating\": {\"average\": 9.4}, \"genres\": [\"Drama\", \"Adventure\", \"Fantasy\"], \"weight\": 14, \"updated\": 1454051645, \"name\": \"Game of Thrones\", \"language\": \"English\", \"schedule\": {\"days\": [\"Sunday\"], \"time\": \"21:00\"}, \"url\": \"http://www.tvmaze.com/shows/82/game-of-thrones\", \"image\": {\"medium\": \"http://tvmazecdn.com/uploads/images/medium_portrait/0/581.jpg\", \"original\": \"http://tvmazecdn.com/uploads/images/original_untouched/0/581.jpg\"}, \"externals\": {\"thetvdb\": 121361, \"tvrage\": 24493, \"imdb\": \"tt0944947\"}, \"premiered\": \"2011-04-17\", \"summary\": \"<p>Based on the bestselling book series A Song of Ice and Fire by George R.R. Martin, this sprawling new HBO drama is set in a world where summers span decades and winters can last a lifetime. From the scheming south and the savage eastern lands, to the frozen north and ancient Wall that protects the realm from the mysterious darkness beyond, the powerful families of the Seven Kingdoms are locked in a battle for the Iron Throne. This is a story of duplicity and treachery, nobility and honor, conquest and triumph. In the <strong><em>\\\"Game of Thrones\\\"</em></strong>, you either win or you die.</p>\", \"_links\": {\"previousepisode\": {\"href\": \"http://api.tvmaze.com/episodes/162186\"}, \"self\": {\"href\": \"http://api.tvmaze.com/shows/82\"}, \"nextepisode\": {\"href\": \"http://api.tvmaze.com/episodes/560813\"}}, \"webChannel\": null, \"runtime\": 60, \"type\": \"Scripted\", \"id\": 82, \"network\": {\"country\": {\"timezone\": \"America/New_York\", \"code\": \"US\", \"name\": \"United States\"}, \"id\": 8, \"name\": \"HBO\"}}, \"_node\": \"QQZWlZVeQ7OURGKgRBFpAQ\", \"_explanation\": {\"description\": \"sum of:\", \"value\": 0.769012, \"details\": [{\"description\": \"function score, product of:\", \"value\": 0.769012, \"details\": [{\"description\": \"product of:\", \"value\": 0.2860241, \"details\": [{\"description\": \"sum of:\", \"value\": 0.5720482, \"details\": [{\"description\": \"weight(genres:Drama in 2) [PerFieldSimilarity], result of:\", \"value\": 0.5720482, \"details\": [{\"description\": \"score(doc=2,freq=1.0), product of:\", \"value\": 0.5720482, \"details\": [{\"description\": \"queryWeight, product of:\", \"value\": 0.5222705, \"details\": [{\"description\": \"idf(docFreq=9, maxDocs=11)\", \"value\": 1.0953102, \"details\": []}, {\"description\": \"queryNorm\", \"value\": 0.47682428, \"details\": []}]}, {\"description\": \"fieldWeight in 2, product of:\", \"value\": 1.0953102, \"details\": [{\"description\": \"tf(freq=1.0), with freq of:\", \"value\": 1.0, \"details\": [{\"description\": \"termFreq=1.0\", \"value\": 1.0, \"details\": []}]}, {\"description\": \"idf(docFreq=9, maxDocs=11)\", \"value\": 1.0953102, \"details\": []}, {\"description\": \"fieldNorm(doc=2)\", \"value\": 1.0, \"details\": []}]}]}]}]}, {\"description\": \"coord(1/2)\", \"value\": 0.5, \"details\": []}]}, {\"description\": \"min of:\", \"value\": 2.6886265, \"details\": [{\"description\": \"script score function, computed with script:\\\"[script: _score * doc['rating.average'].value, type: inline, lang: null, params: {}]\\\" and parameters: \\n{}\", \"value\": 2.6886265, \"details\": [{\"description\": \"_score: \", \"value\": 0.2860241, \"details\": [{\"description\": \"product of:\", \"value\": 0.2860241, \"details\": [{\"description\": \"sum of:\", \"value\": 0.5720482, \"details\": [{\"description\": \"weight(genres:Drama in 2) [PerFieldSimilarity], result of:\", \"value\": 0.5720482, \"details\": [{\"description\": \"score(doc=2,freq=1.0), product of:\", \"value\": 0.5720482, \"details\": [{\"description\": \"queryWeight, product of:\", \"value\": 0.5222705, \"details\": [{\"description\": \"idf(docFreq=9, maxDocs=11)\", \"value\": 1.0953102, \"details\": []}, {\"description\": \"queryNorm\", \"value\": 0.47682428, \"details\": []}]}, {\"description\": \"fieldWeight in 2, product of:\", \"value\": 1.0953102, \"details\": [{\"description\": \"tf(freq=1.0), with freq of:\", \"value\": 1.0, \"details\": [{\"description\": \"termFreq=1.0\", \"value\": 1.0, \"details\": []}]}, {\"description\": \"idf(docFreq=9, maxDocs=11)\", \"value\": 1.0953102, \"details\": []}, {\"description\": \"fieldNorm(doc=2)\", \"value\": 1.0, \"details\": []}]}]}]}]}, {\"description\": \"coord(1/2)\", \"value\": 0.5, \"details\": []}]}]}]}, {\"description\": \"maxBoost\", \"value\": 3.4028235e+38, \"details\": []}]}, {\"description\": \"queryBoost\", \"value\": 1.0, \"details\": []}]}, {\"description\": \"match on required clause, product of:\", \"value\": 0.0, \"details\": [{\"description\": \"# clause\", \"value\": 0.0, \"details\": []}, {\"description\": \"_type:serie, product of:\", \"value\": 0.47682428, \"details\": [{\"description\": \"boost\", \"value\": 1.0, \"details\": []}, {\"description\": \"queryNorm\", \"value\": 0.47682428, \"details\": []}]}]}]}, \"_shard\": 0, \"_id\": \"82\"}, {\"_type\": \"serie\", \"_index\": \"tvseries\", \"_score\": 0.760831, \"_source\": {\"status\": \"Running\", \"rating\": {\"average\": 9.3}, \"genres\": [\"Drama\", \"History\"], \"weight\": 2, \"updated\": 1450525730, \"name\": \"Versailles\", \"language\": \"English\", \"schedule\": {\"days\": [], \"time\": \"\"}, \"url\": \"http://www.tvmaze.com/shows/3386/versailles\", \"image\": {\"medium\": \"http://tvmazecdn.com/uploads/images/medium_portrait/34/86312.jpg\", \"original\": \"http://tvmazecdn.com/uploads/images/original_untouched/34/86312.jpg\"}, \"externals\": {\"thetvdb\": 300280, \"tvrage\": null, \"imdb\": \"tt3830558\"}, \"premiered\": \"2015-11-16\", \"summary\": \"<p>Versailles, 1667. Louis XIV was 28 years old. To rise to the heights of the nobility and wield its absolute power, he launched the construction of Versailles... it proved to be a snare. Louis XIV is a young King haunted by childhood trauma, the Fronde civil, a rebellion of the nobility against his father, Louis XIII... It will prove be a strategic policy out of the ordinary, manipulative, Machiavellian, and he will \\\"invent\\\" Versailles for the nobles of Paris, to keep them under control, and gradually transform the castle into a golden prison. But how will Louis live as the greatest King in the world?</p><p> Historical fiction of the court figures and the more humble villagers, guiding us in a world of betrayals and secrets, politicking and declarations of love.</p>\", \"_links\": {\"previousepisode\": {\"href\": \"http://api.tvmaze.com/episodes/471693\"}, \"self\": {\"href\": \"http://api.tvmaze.com/shows/3386\"}}, \"webChannel\": null, \"runtime\": 60, \"type\": \"Scripted\", \"id\": 3386, \"network\": {\"country\": {\"timezone\": \"Europe/Paris\", \"code\": \"FR\", \"name\": \"France\"}, \"id\": 105, \"name\": \"Canal+\"}}, \"_node\": \"QQZWlZVeQ7OURGKgRBFpAQ\", \"_explanation\": {\"description\": \"sum of:\", \"value\": 0.760831, \"details\": [{\"description\": \"function score, product of:\", \"value\": 0.760831, \"details\": [{\"description\": \"product of:\", \"value\": 0.2860241, \"details\": [{\"description\": \"sum of:\", \"value\": 0.5720482, \"details\": [{\"description\": \"weight(genres:Drama in 5) [PerFieldSimilarity], result of:\", \"value\": 0.5720482, \"details\": [{\"description\": \"score(doc=5,freq=1.0), product of:\", \"value\": 0.5720482, \"details\": [{\"description\": \"queryWeight, product of:\", \"value\": 0.5222705, \"details\": [{\"description\": \"idf(docFreq=9, maxDocs=11)\", \"value\": 1.0953102, \"details\": []}, {\"description\": \"queryNorm\", \"value\": 0.47682428, \"details\": []}]}, {\"description\": \"fieldWeight in 5, product of:\", \"value\": 1.0953102, \"details\": [{\"description\": \"tf(freq=1.0), with freq of:\", \"value\": 1.0, \"details\": [{\"description\": \"termFreq=1.0\", \"value\": 1.0, \"details\": []}]}, {\"description\": \"idf(docFreq=9, maxDocs=11)\", \"value\": 1.0953102, \"details\": []}, {\"description\": \"fieldNorm(doc=5)\", \"value\": 1.0, \"details\": []}]}]}]}]}, {\"description\": \"coord(1/2)\", \"value\": 0.5, \"details\": []}]}, {\"description\": \"min of:\", \"value\": 2.6600242, \"details\": [{\"description\": \"script score function, computed with script:\\\"[script: _score * doc['rating.average'].value, type: inline, lang: null, params: {}]\\\" and parameters: \\n{}\", \"value\": 2.6600242, \"details\": [{\"description\": \"_score: \", \"value\": 0.2860241, \"details\": [{\"description\": \"product of:\", \"value\": 0.2860241, \"details\": [{\"description\": \"sum of:\", \"value\": 0.5720482, \"details\": [{\"description\": \"weight(genres:Drama in 5) [PerFieldSimilarity], result of:\", \"value\": 0.5720482, \"details\": [{\"description\": \"score(doc=5,freq=1.0), product of:\", \"value\": 0.5720482, \"details\": [{\"description\": \"queryWeight, product of:\", \"value\": 0.5222705, \"details\": [{\"description\": \"idf(docFreq=9, maxDocs=11)\", \"value\": 1.0953102, \"details\": []}, {\"description\": \"queryNorm\", \"value\": 0.47682428, \"details\": []}]}, {\"description\": \"fieldWeight in 5, product of:\", \"value\": 1.0953102, \"details\": [{\"description\": \"tf(freq=1.0), with freq of:\", \"value\": 1.0, \"details\": [{\"description\": \"termFreq=1.0\", \"value\": 1.0, \"details\": []}]}, {\"description\": \"idf(docFreq=9, maxDocs=11)\", \"value\": 1.0953102, \"details\": []}, {\"description\": \"fieldNorm(doc=5)\", \"value\": 1.0, \"details\": []}]}]}]}]}, {\"description\": \"coord(1/2)\", \"value\": 0.5, \"details\": []}]}]}]}, {\"description\": \"maxBoost\", \"value\": 3.4028235e+38, \"details\": []}]}, {\"description\": \"queryBoost\", \"value\": 1.0, \"details\": []}]}, {\"description\": \"match on required clause, product of:\", \"value\": 0.0, \"details\": [{\"description\": \"# clause\", \"value\": 0.0, \"details\": []}, {\"description\": \"_type:serie, product of:\", \"value\": 0.47682428, \"details\": [{\"description\": \"boost\", \"value\": 1.0, \"details\": []}, {\"description\": \"queryNorm\", \"value\": 0.47682428, \"details\": []}]}]}]}, \"_shard\": 0, \"_id\": \"3386\"}, {\"_type\": \"serie\", \"_index\": \"tvseries\", \"_score\": 0.72810704, \"_source\": {\"status\": \"Running\", \"rating\": {\"average\": 8.9}, \"genres\": [\"Drama\", \"Thriller\"], \"weight\": 7, \"updated\": 1454549570, \"name\": \"House of Cards\", \"language\": \"English\", \"schedule\": {\"days\": [\"Friday\"], \"time\": \"00:01\"}, \"url\": \"http://www.tvmaze.com/shows/175/house-of-cards\", \"image\": {\"medium\": \"http://tvmazecdn.com/uploads/images/medium_portrait/0/2460.jpg\", \"original\": \"http://tvmazecdn.com/uploads/images/original_untouched/0/2460.jpg\"}, \"externals\": {\"thetvdb\": 262980, \"tvrage\": 27822, \"imdb\": \"tt1856010\"}, \"premiered\": \"2013-02-01\", \"summary\": \"<p>A Congressman works with his equally conniving wife to exact revenge on the people who betrayed him.</p>\", \"_links\": {\"previousepisode\": {\"href\": \"http://api.tvmaze.com/episodes/57773\"}, \"self\": {\"href\": \"http://api.tvmaze.com/shows/175\"}, \"nextepisode\": {\"href\": \"http://api.tvmaze.com/episodes/436756\"}}, \"webChannel\": {\"country\": {\"timezone\": \"America/New_York\", \"code\": \"US\", \"name\": \"United States\"}, \"id\": 1, \"name\": \"Netflix\"}, \"runtime\": 60, \"type\": \"Scripted\", \"id\": 175, \"network\": null}, \"_node\": \"QQZWlZVeQ7OURGKgRBFpAQ\", \"_explanation\": {\"description\": \"sum of:\", \"value\": 0.7281071, \"details\": [{\"description\": \"function score, product of:\", \"value\": 0.7281071, \"details\": [{\"description\": \"product of:\", \"value\": 0.2860241, \"details\": [{\"description\": \"sum of:\", \"value\": 0.5720482, \"details\": [{\"description\": \"weight(genres:Drama in 3) [PerFieldSimilarity], result of:\", \"value\": 0.5720482, \"details\": [{\"description\": \"score(doc=3,freq=1.0), product of:\", \"value\": 0.5720482, \"details\": [{\"description\": \"queryWeight, product of:\", \"value\": 0.5222705, \"details\": [{\"description\": \"idf(docFreq=9, maxDocs=11)\", \"value\": 1.0953102, \"details\": []}, {\"description\": \"queryNorm\", \"value\": 0.47682428, \"details\": []}]}, {\"description\": \"fieldWeight in 3, product of:\", \"value\": 1.0953102, \"details\": [{\"description\": \"tf(freq=1.0), with freq of:\", \"value\": 1.0, \"details\": [{\"description\": \"termFreq=1.0\", \"value\": 1.0, \"details\": []}]}, {\"description\": \"idf(docFreq=9, maxDocs=11)\", \"value\": 1.0953102, \"details\": []}, {\"description\": \"fieldNorm(doc=3)\", \"value\": 1.0, \"details\": []}]}]}]}]}, {\"description\": \"coord(1/2)\", \"value\": 0.5, \"details\": []}]}, {\"description\": \"min of:\", \"value\": 2.5456145, \"details\": [{\"description\": \"script score function, computed with script:\\\"[script: _score * doc['rating.average'].value, type: inline, lang: null, params: {}]\\\" and parameters: \\n{}\", \"value\": 2.5456145, \"details\": [{\"description\": \"_score: \", \"value\": 0.2860241, \"details\": [{\"description\": \"product of:\", \"value\": 0.2860241, \"details\": [{\"description\": \"sum of:\", \"value\": 0.5720482, \"details\": [{\"description\": \"weight(genres:Drama in 3) [PerFieldSimilarity], result of:\", \"value\": 0.5720482, \"details\": [{\"description\": \"score(doc=3,freq=1.0), product of:\", \"value\": 0.5720482, \"details\": [{\"description\": \"queryWeight, product of:\", \"value\": 0.5222705, \"details\": [{\"description\": \"idf(docFreq=9, maxDocs=11)\", \"value\": 1.0953102, \"details\": []}, {\"description\": \"queryNorm\", \"value\": 0.47682428, \"details\": []}]}, {\"description\": \"fieldWeight in 3, product of:\", \"value\": 1.0953102, \"details\": [{\"description\": \"tf(freq=1.0), with freq of:\", \"value\": 1.0, \"details\": [{\"description\": \"termFreq=1.0\", \"value\": 1.0, \"details\": []}]}, {\"description\": \"idf(docFreq=9, maxDocs=11)\", \"value\": 1.0953102, \"details\": []}, {\"description\": \"fieldNorm(doc=3)\", \"value\": 1.0, \"details\": []}]}]}]}]}, {\"description\": \"coord(1/2)\", \"value\": 0.5, \"details\": []}]}]}]}, {\"description\": \"maxBoost\", \"value\": 3.4028235e+38, \"details\": []}]}, {\"description\": \"queryBoost\", \"value\": 1.0, \"details\": []}]}, {\"description\": \"match on required clause, product of:\", \"value\": 0.0, \"details\": [{\"description\": \"# clause\", \"value\": 0.0, \"details\": []}, {\"description\": \"_type:serie, product of:\", \"value\": 0.47682428, \"details\": [{\"description\": \"boost\", \"value\": 1.0, \"details\": []}, {\"description\": \"queryNorm\", \"value\": 0.47682428, \"details\": []}]}]}]}, \"_shard\": 0, \"_id\": \"175\"}, {\"_type\": \"serie\", \"_index\": \"tvseries\", \"_score\": 0.7117451, \"_source\": {\"status\": \"To Be Determined\", \"rating\": {\"average\": 8.7}, \"genres\": [\"Drama\", \"Medical\"], \"weight\": 2, \"updated\": 1455121010, \"name\": \"The Knick\", \"language\": \"English\", \"schedule\": {\"days\": [\"Friday\"], \"time\": \"22:00\"}, \"url\": \"http://www.tvmaze.com/shows/51/the-knick\", \"image\": {\"medium\": \"http://tvmazecdn.com/uploads/images/medium_portrait/0/417.jpg\", \"original\": \"http://tvmazecdn.com/uploads/images/original_untouched/0/417.jpg\"}, \"externals\": {\"thetvdb\": 279977, \"tvrage\": 36033, \"imdb\": \"tt2937900\"}, \"premiered\": \"2014-08-08\", \"summary\": \"<p>New York City, 1900: The Knickerbocker Hospital is home to groundbreaking surgeons, nurses and staff who push the boundaries of medicine in a time of astonishingly high mortality rates and zero antibiotics. The newly appointed leader of the surgery staff is the brilliant, arrogant renegade Dr. John Thackery, whose addiction to cocaine and opium is trumped only by his ambition for medical discovery and renown among his peers. Into the all-white staff and patient hospital comes the equally gifted Harvard graduate Dr. Algernon Edwards, who must fight for respect while trying to navigate the racially charged city. Trying to maintain its reputation for quality care while realizing a profit, the Knickerbocker makes an effort to attract wealthy clientele, while literally struggling to keep the lights on.</p>\", \"_links\": {\"previousepisode\": {\"href\": \"http://api.tvmaze.com/episodes/213032\"}, \"self\": {\"href\": \"http://api.tvmaze.com/shows/51\"}}, \"webChannel\": null, \"runtime\": 60, \"type\": \"Scripted\", \"id\": 51, \"network\": {\"country\": {\"timezone\": \"America/New_York\", \"code\": \"US\", \"name\": \"United States\"}, \"id\": 19, \"name\": \"Cinemax\"}}, \"_node\": \"QQZWlZVeQ7OURGKgRBFpAQ\", \"_explanation\": {\"description\": \"sum of:\", \"value\": 0.7117451, \"details\": [{\"description\": \"function score, product of:\", \"value\": 0.7117451, \"details\": [{\"description\": \"product of:\", \"value\": 0.2860241, \"details\": [{\"description\": \"sum of:\", \"value\": 0.5720482, \"details\": [{\"description\": \"weight(genres:Drama in 2) [PerFieldSimilarity], result of:\", \"value\": 0.5720482, \"details\": [{\"description\": \"score(doc=2,freq=1.0), product of:\", \"value\": 0.5720482, \"details\": [{\"description\": \"queryWeight, product of:\", \"value\": 0.5222705, \"details\": [{\"description\": \"idf(docFreq=9, maxDocs=11)\", \"value\": 1.0953102, \"details\": []}, {\"description\": \"queryNorm\", \"value\": 0.47682428, \"details\": []}]}, {\"description\": \"fieldWeight in 2, product of:\", \"value\": 1.0953102, \"details\": [{\"description\": \"tf(freq=1.0), with freq of:\", \"value\": 1.0, \"details\": [{\"description\": \"termFreq=1.0\", \"value\": 1.0, \"details\": []}]}, {\"description\": \"idf(docFreq=9, maxDocs=11)\", \"value\": 1.0953102, \"details\": []}, {\"description\": \"fieldNorm(doc=2)\", \"value\": 1.0, \"details\": []}]}]}]}]}, {\"description\": \"coord(1/2)\", \"value\": 0.5, \"details\": []}]}, {\"description\": \"min of:\", \"value\": 2.4884095, \"details\": [{\"description\": \"script score function, computed with script:\\\"[script: _score * doc['rating.average'].value, type: inline, lang: null, params: {}]\\\" and parameters: \\n{}\", \"value\": 2.4884095, \"details\": [{\"description\": \"_score: \", \"value\": 0.2860241, \"details\": [{\"description\": \"product of:\", \"value\": 0.2860241, \"details\": [{\"description\": \"sum of:\", \"value\": 0.5720482, \"details\": [{\"description\": \"weight(genres:Drama in 2) [PerFieldSimilarity], result of:\", \"value\": 0.5720482, \"details\": [{\"description\": \"score(doc=2,freq=1.0), product of:\", \"value\": 0.5720482, \"details\": [{\"description\": \"queryWeight, product of:\", \"value\": 0.5222705, \"details\": [{\"description\": \"idf(docFreq=9, maxDocs=11)\", \"value\": 1.0953102, \"details\": []}, {\"description\": \"queryNorm\", \"value\": 0.47682428, \"details\": []}]}, {\"description\": \"fieldWeight in 2, product of:\", \"value\": 1.0953102, \"details\": [{\"description\": \"tf(freq=1.0), with freq of:\", \"value\": 1.0, \"details\": [{\"description\": \"termFreq=1.0\", \"value\": 1.0, \"details\": []}]}, {\"description\": \"idf(docFreq=9, maxDocs=11)\", \"value\": 1.0953102, \"details\": []}, {\"description\": \"fieldNorm(doc=2)\", \"value\": 1.0, \"details\": []}]}]}]}]}, {\"description\": \"coord(1/2)\", \"value\": 0.5, \"details\": []}]}]}]}, {\"description\": \"maxBoost\", \"value\": 3.4028235e+38, \"details\": []}]}, {\"description\": \"queryBoost\", \"value\": 1.0, \"details\": []}]}, {\"description\": \"match on required clause, product of:\", \"value\": 0.0, \"details\": [{\"description\": \"# clause\", \"value\": 0.0, \"details\": []}, {\"description\": \"_type:serie, product of:\", \"value\": 0.47682428, \"details\": [{\"description\": \"boost\", \"value\": 1.0, \"details\": []}, {\"description\": \"queryNorm\", \"value\": 0.47682428, \"details\": []}]}]}]}, \"_shard\": 0, \"_id\": \"51\"}, {\"_type\": \"serie\", \"_index\": \"tvseries\", \"_score\": 0.7117451, \"_source\": {\"status\": \"Ended\", \"rating\": {\"average\": 8.7}, \"genres\": [\"Drama\", \"History\"], \"weight\": 0, \"updated\": 1449500544, \"name\": \"The Tudors\", \"language\": \"English\", \"schedule\": {\"days\": [], \"time\": \"21:00\"}, \"url\": \"http://www.tvmaze.com/shows/712/the-tudors\", \"image\": {\"medium\": \"http://tvmazecdn.com/uploads/images/medium_portrait/6/15022.jpg\", \"original\": \"http://tvmazecdn.com/uploads/images/original_untouched/6/15022.jpg\"}, \"externals\": {\"thetvdb\": 79925, \"tvrage\": 7927, \"imdb\": \"tt0758790\"}, \"premiered\": \"2007-04-01\", \"summary\": \"<p>The final season will consist of 10, one-hour episodes and center on his tumultuous relationships with his last two wives, Catherine Howard and Catherine Parr, and his final descent into madness.</p>\", \"_links\": {\"previousepisode\": {\"href\": \"http://api.tvmaze.com/episodes/62894\"}, \"self\": {\"href\": \"http://api.tvmaze.com/shows/712\"}}, \"webChannel\": null, \"runtime\": 60, \"type\": \"Scripted\", \"id\": 712, \"network\": {\"country\": {\"timezone\": \"America/New_York\", \"code\": \"US\", \"name\": \"United States\"}, \"id\": 9, \"name\": \"Showtime\"}}, \"_node\": \"QQZWlZVeQ7OURGKgRBFpAQ\", \"_explanation\": {\"description\": \"sum of:\", \"value\": 0.7117451, \"details\": [{\"description\": \"function score, product of:\", \"value\": 0.7117451, \"details\": [{\"description\": \"product of:\", \"value\": 0.2860241, \"details\": [{\"description\": \"sum of:\", \"value\": 0.5720482, \"details\": [{\"description\": \"weight(genres:Drama in 3) [PerFieldSimilarity], result of:\", \"value\": 0.5720482, \"details\": [{\"description\": \"score(doc=3,freq=1.0), product of:\", \"value\": 0.5720482, \"details\": [{\"description\": \"queryWeight, product of:\", \"value\": 0.5222705, \"details\": [{\"description\": \"idf(docFreq=9, maxDocs=11)\", \"value\": 1.0953102, \"details\": []}, {\"description\": \"queryNorm\", \"value\": 0.47682428, \"details\": []}]}, {\"description\": \"fieldWeight in 3, product of:\", \"value\": 1.0953102, \"details\": [{\"description\": \"tf(freq=1.0), with freq of:\", \"value\": 1.0, \"details\": [{\"description\": \"termFreq=1.0\", \"value\": 1.0, \"details\": []}]}, {\"description\": \"idf(docFreq=9, maxDocs=11)\", \"value\": 1.0953102, \"details\": []}, {\"description\": \"fieldNorm(doc=3)\", \"value\": 1.0, \"details\": []}]}]}]}]}, {\"description\": \"coord(1/2)\", \"value\": 0.5, \"details\": []}]}, {\"description\": \"min of:\", \"value\": 2.4884095, \"details\": [{\"description\": \"script score function, computed with script:\\\"[script: _score * doc['rating.average'].value, type: inline, lang: null, params: {}]\\\" and parameters: \\n{}\", \"value\": 2.4884095, \"details\": [{\"description\": \"_score: \", \"value\": 0.2860241, \"details\": [{\"description\": \"product of:\", \"value\": 0.2860241, \"details\": [{\"description\": \"sum of:\", \"value\": 0.5720482, \"details\": [{\"description\": \"weight(genres:Drama in 3) [PerFieldSimilarity], result of:\", \"value\": 0.5720482, \"details\": [{\"description\": \"score(doc=3,freq=1.0), product of:\", \"value\": 0.5720482, \"details\": [{\"description\": \"queryWeight, product of:\", \"value\": 0.5222705, \"details\": [{\"description\": \"idf(docFreq=9, maxDocs=11)\", \"value\": 1.0953102, \"details\": []}, {\"description\": \"queryNorm\", \"value\": 0.47682428, \"details\": []}]}, {\"description\": \"fieldWeight in 3, product of:\", \"value\": 1.0953102, \"details\": [{\"description\": \"tf(freq=1.0), with freq of:\", \"value\": 1.0, \"details\": [{\"description\": \"termFreq=1.0\", \"value\": 1.0, \"details\": []}]}, {\"description\": \"idf(docFreq=9, maxDocs=11)\", \"value\": 1.0953102, \"details\": []}, {\"description\": \"fieldNorm(doc=3)\", \"value\": 1.0, \"details\": []}]}]}]}]}, {\"description\": \"coord(1/2)\", \"value\": 0.5, \"details\": []}]}]}]}, {\"description\": \"maxBoost\", \"value\": 3.4028235e+38, \"details\": []}]}, {\"description\": \"queryBoost\", \"value\": 1.0, \"details\": []}]}, {\"description\": \"match on required clause, product of:\", \"value\": 0.0, \"details\": [{\"description\": \"# clause\", \"value\": 0.0, \"details\": []}, {\"description\": \"_type:serie, product of:\", \"value\": 0.47682428, \"details\": [{\"description\": \"boost\", \"value\": 1.0, \"details\": []}, {\"description\": \"queryNorm\", \"value\": 0.47682428, \"details\": []}]}]}]}, \"_shard\": 0, \"_id\": \"712\"}, {\"_type\": \"serie\", \"_index\": \"tvseries\", \"_score\": 0.0, \"_source\": {\"status\": \"Ended\", \"rating\": {\"average\": null}, \"genres\": [\"Drama\"], \"weight\": 0, \"updated\": 1455109198, \"name\": \"Isabel\", \"language\": \"Spanish\", \"schedule\": {\"days\": [], \"time\": \"\"}, \"url\": \"http://www.tvmaze.com/shows/9274/isabel\", \"image\": {\"medium\": \"http://tvmazecdn.com/uploads/images/medium_portrait/32/81594.jpg\", \"original\": \"http://tvmazecdn.com/uploads/images/original_untouched/32/81594.jpg\"}, \"externals\": {\"thetvdb\": 262381, \"tvrage\": 32792, \"imdb\": \"tt2011533\"}, \"premiered\": \"2012-09-10\", \"summary\": \"<p>Life of Isabella I of Castile, also known as Isabella the Catholic.</p>\", \"_links\": {\"previousepisode\": {\"href\": \"http://api.tvmaze.com/episodes/501878\"}, \"self\": {\"href\": \"http://api.tvmaze.com/shows/9274\"}}, \"webChannel\": null, \"runtime\": 60, \"type\": \"Scripted\", \"id\": 9274, \"network\": {\"country\": {\"timezone\": \"Europe/Madrid\", \"code\": \"ES\", \"name\": \"Spain\"}, \"id\": 147, \"name\": \"RTVE\"}}, \"_node\": \"QQZWlZVeQ7OURGKgRBFpAQ\", \"_explanation\": {\"description\": \"sum of:\", \"value\": 0.0, \"details\": [{\"description\": \"function score, product of:\", \"value\": 0.0, \"details\": [{\"description\": \"product of:\", \"value\": 0.2860241, \"details\": [{\"description\": \"sum of:\", \"value\": 0.5720482, \"details\": [{\"description\": \"weight(genres:Drama in 4) [PerFieldSimilarity], result of:\", \"value\": 0.5720482, \"details\": [{\"description\": \"score(doc=4,freq=1.0), product of:\", \"value\": 0.5720482, \"details\": [{\"description\": \"queryWeight, product of:\", \"value\": 0.5222705, \"details\": [{\"description\": \"idf(docFreq=9, maxDocs=11)\", \"value\": 1.0953102, \"details\": []}, {\"description\": \"queryNorm\", \"value\": 0.47682428, \"details\": []}]}, {\"description\": \"fieldWeight in 4, product of:\", \"value\": 1.0953102, \"details\": [{\"description\": \"tf(freq=1.0), with freq of:\", \"value\": 1.0, \"details\": [{\"description\": \"termFreq=1.0\", \"value\": 1.0, \"details\": []}]}, {\"description\": \"idf(docFreq=9, maxDocs=11)\", \"value\": 1.0953102, \"details\": []}, {\"description\": \"fieldNorm(doc=4)\", \"value\": 1.0, \"details\": []}]}]}]}]}, {\"description\": \"coord(1/2)\", \"value\": 0.5, \"details\": []}]}, {\"description\": \"min of:\", \"value\": 0.0, \"details\": [{\"description\": \"script score function, computed with script:\\\"[script: _score * doc['rating.average'].value, type: inline, lang: null, params: {}]\\\" and parameters: \\n{}\", \"value\": 0.0, \"details\": [{\"description\": \"_score: \", \"value\": 0.2860241, \"details\": [{\"description\": \"product of:\", \"value\": 0.2860241, \"details\": [{\"description\": \"sum of:\", \"value\": 0.5720482, \"details\": [{\"description\": \"weight(genres:Drama in 4) [PerFieldSimilarity], result of:\", \"value\": 0.5720482, \"details\": [{\"description\": \"score(doc=4,freq=1.0), product of:\", \"value\": 0.5720482, \"details\": [{\"description\": \"queryWeight, product of:\", \"value\": 0.5222705, \"details\": [{\"description\": \"idf(docFreq=9, maxDocs=11)\", \"value\": 1.0953102, \"details\": []}, {\"description\": \"queryNorm\", \"value\": 0.47682428, \"details\": []}]}, {\"description\": \"fieldWeight in 4, product of:\", \"value\": 1.0953102, \"details\": [{\"description\": \"tf(freq=1.0), with freq of:\", \"value\": 1.0, \"details\": [{\"description\": \"termFreq=1.0\", \"value\": 1.0, \"details\": []}]}, {\"description\": \"idf(docFreq=9, maxDocs=11)\", \"value\": 1.0953102, \"details\": []}, {\"description\": \"fieldNorm(doc=4)\", \"value\": 1.0, \"details\": []}]}]}]}]}, {\"description\": \"coord(1/2)\", \"value\": 0.5, \"details\": []}]}]}]}, {\"description\": \"maxBoost\", \"value\": 3.4028235e+38, \"details\": []}]}, {\"description\": \"queryBoost\", \"value\": 1.0, \"details\": []}]}, {\"description\": \"match on required clause, product of:\", \"value\": 0.0, \"details\": [{\"description\": \"# clause\", \"value\": 0.0, \"details\": []}, {\"description\": \"_type:serie, product of:\", \"value\": 0.47682428, \"details\": [{\"description\": \"boost\", \"value\": 1.0, \"details\": []}, {\"description\": \"queryNorm\", \"value\": 0.47682428, \"details\": []}]}]}]}, \"_shard\": 0, \"_id\": \"9274\"}], \"total\": 10, \"max_score\": 40.904045}, \"_shards\": {\"successful\": 1, \"failed\": 0, \"total\": 1}, \"took\": 94, \"timed_out\": false}))\n",
       "        });\n",
       "        "
      ]
     },
     "metadata": {},
     "output_type": "display_data"
    }
   ],
   "source": [
    "payload = \"\"\"\n",
    "{\n",
    "  \"query\": {\n",
    "    \"function_score\" : {\n",
    "    \"query\" : { \n",
    "       \"terms\" : { \"genres\": [\"Drama\", \"Crime\"] }\n",
    "     },\n",
    "      \"script_score\" : {\n",
    "        \"script\" : \"_score * doc['rating.average'].value\"\n",
    "     }\n",
    "    }\n",
    "  }\n",
    "}\n",
    "\"\"\"\n",
    "\n",
    "r = requests.get('http://localhost:9200/tvseries/serie/_search?explain', data = payload)\n",
    "RenderJSON(r.json())"
   ]
  },
  {
   "cell_type": "code",
   "execution_count": null,
   "metadata": {
    "collapsed": true
   },
   "outputs": [],
   "source": [
    "Requiere que habilitemos los scripts dinámicos en elasticsearch.yml\n",
    "\n",
    "script.inline: true\n",
    "script.indexed: true\n",
    "\n"
   ]
  },
  {
   "cell_type": "markdown",
   "metadata": {
    "slideshow": {
     "slide_type": "slide"
    }
   },
   "source": [
    "## Búsqueda multicampo\n",
    "\n",
    "Motivation: \n",
    "\n",
    "  * Different uses: \n",
    "    * Match different full text queries in different fields: title and author\n",
    "    * Order and bool queries impact, boosting may also be used\n",
    "    \n",
    "    * Tuning: \n",
    "       * dis_max - selecting the score of the best fields\n",
    "       * tie_breaker\n",
    "       * multi_match - helper to direct the same query to different fields\n",
    "       * we can select fields by using regular expressions \n",
    "       * cross fields entity search\n",
    "       \n",
    "   * best fields \n",
    "   * most fields \n",
    "   * cross fields \n"
   ]
  },
  {
   "cell_type": "markdown",
   "metadata": {
    "slideshow": {
     "slide_type": "subslide"
    }
   },
   "source": [
    "## Relevancia multicampo"
   ]
  },
  {
   "cell_type": "markdown",
   "metadata": {
    "slideshow": {
     "slide_type": "slide"
    }
   },
   "source": [
    "## Integracion con la interfaz de búsqueda - highlighting"
   ]
  }
 ],
 "metadata": {
  "celltoolbar": "Slideshow",
  "kernelspec": {
   "display_name": "Python 2",
   "language": "python",
   "name": "python2"
  },
  "language_info": {
   "codemirror_mode": {
    "name": "ipython",
    "version": 2
   },
   "file_extension": ".py",
   "mimetype": "text/x-python",
   "name": "python",
   "nbconvert_exporter": "python",
   "pygments_lexer": "ipython2",
   "version": "2.7.3"
  }
 },
 "nbformat": 4,
 "nbformat_minor": 0
}
