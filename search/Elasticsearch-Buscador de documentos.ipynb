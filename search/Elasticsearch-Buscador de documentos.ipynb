{
 "cells": [
  {
   "cell_type": "markdown",
   "metadata": {
    "slideshow": {
     "slide_type": "slide"
    }
   },
   "source": [
    "Elasticsearch\n",
    "# Buscador de documentos"
   ]
  },
  {
   "cell_type": "markdown",
   "metadata": {
    "slideshow": {
     "slide_type": "slide"
    }
   },
   "source": [
    "## Objetivos\n",
    "\n",
    " - Entender la arquitectura de un buscador\n",
    " - Comprender como analizar, indizar y formular busquedas para diferentes aplicaciones \n",
    " - Comprender como se implementa la relevancia en ES \n",
    " - Entender como usar las opciones de relevancia para optimizar los resultados de búsqueda"
   ]
  },
  {
   "cell_type": "markdown",
   "metadata": {
    "slideshow": {
     "slide_type": "slide"
    }
   },
   "source": [
    "## Arquitectura de un buscador\n",
    "\n",
    "[TODO] Imagen\n"
   ]
  },
  {
   "cell_type": "code",
   "execution_count": null,
   "metadata": {
    "collapsed": true
   },
   "outputs": [],
   "source": [
    "import requests\n",
    "\n",
    "# El indice no existe\n",
    "r = requests.get('http://localhost:9200/myindex')\n",
    "r.json()"
   ]
  },
  {
   "cell_type": "code",
   "execution_count": 19,
   "metadata": {
    "collapsed": false
   },
   "outputs": [
    {
     "data": {
      "text/plain": [
       "{u'acknowledged': True}"
      ]
     },
     "execution_count": 19,
     "metadata": {},
     "output_type": "execute_result"
    }
   ],
   "source": [
    "index_options = \"\"\"{\n",
    "    \"settings\" : {\n",
    "        \"index\" : {\n",
    "            \"number_of_shards\" : 3,\n",
    "            \"number_of_replicas\" : 2\n",
    "        }\n",
    "    }\n",
    "}\"\"\"\n",
    "\n",
    "\n",
    "\n",
    "# Creamos un indice \n",
    "r = requests.put('http://localhost:9200/tvseries', data = index_options)\n",
    "r.json()"
   ]
  },
  {
   "cell_type": "code",
   "execution_count": 33,
   "metadata": {
    "collapsed": false
   },
   "outputs": [
    {
     "name": "stdout",
     "output_type": "stream",
     "text": [
      "{\n",
      "  \"tvseries\" : {\n",
      "    \"aliases\" : { },\n",
      "    \"mappings\" : { },\n",
      "    \"settings\" : {\n",
      "      \"index\" : {\n",
      "        \"creation_date\" : \"1454535155090\",\n",
      "        \"uuid\" : \"NuiuQ9csQQefi8-QhdwhRA\",\n",
      "        \"number_of_replicas\" : \"2\",\n",
      "        \"number_of_shards\" : \"3\",\n",
      "        \"version\" : {\n",
      "          \"created\" : \"1070499\"\n",
      "        }\n",
      "      }\n",
      "    },\n",
      "    \"warmers\" : { }\n",
      "  }\n",
      "}\n",
      "\n"
     ]
    }
   ],
   "source": [
    "r = requests.get('http://localhost:9200/tvseries?pretty')\n",
    "print r.text"
   ]
  },
  {
   "cell_type": "code",
   "execution_count": 29,
   "metadata": {
    "collapsed": false
   },
   "outputs": [
    {
     "name": "stdout",
     "output_type": "stream",
     "text": [
      "{\n",
      "  \"tvseries\" : {\n",
      "    \"aliases\" : { }\n",
      "  }\n",
      "}\n",
      "\n"
     ]
    }
   ],
   "source": [
    "r = requests.get('http://localhost:9200/tvseries/_aliases?pretty')\n",
    "print r.text"
   ]
  },
  {
   "cell_type": "code",
   "execution_count": 16,
   "metadata": {
    "collapsed": false
   },
   "outputs": [
    {
     "data": {
      "text/plain": [
       "{u'acknowledged': True}"
      ]
     },
     "execution_count": 16,
     "metadata": {},
     "output_type": "execute_result"
    }
   ],
   "source": [
    "# Borramos un indice \n",
    "r = requests.delete('http://localhost:9200/tvseries')\n",
    "r.json()"
   ]
  },
  {
   "cell_type": "markdown",
   "metadata": {},
   "source": [
    "## Mappings"
   ]
  },
  {
   "cell_type": "code",
   "execution_count": 35,
   "metadata": {
    "collapsed": false
   },
   "outputs": [
    {
     "name": "stdout",
     "output_type": "stream",
     "text": [
      "{\n",
      "  \"megacorp\" : {\n",
      "    \"mappings\" : {\n",
      "      \"employee\" : {\n",
      "        \"properties\" : {\n",
      "          \"about\" : {\n",
      "            \"type\" : \"string\"\n",
      "          },\n",
      "          \"age\" : {\n",
      "            \"type\" : \"long\"\n",
      "          },\n",
      "          \"first_name\" : {\n",
      "            \"type\" : \"string\"\n",
      "          },\n",
      "          \"interests\" : {\n",
      "            \"type\" : \"string\"\n",
      "          },\n",
      "          \"last_name\" : {\n",
      "            \"type\" : \"string\"\n",
      "          }\n",
      "        }\n",
      "      }\n",
      "    }\n",
      "  }\n",
      "}\n",
      "\n"
     ]
    }
   ],
   "source": [
    "r = requests.get('http://localhost:9200/megacorp/_mappings?pretty')\n",
    "print r.text"
   ]
  },
  {
   "cell_type": "code",
   "execution_count": 67,
   "metadata": {
    "collapsed": false
   },
   "outputs": [
    {
     "name": "stdout",
     "output_type": "stream",
     "text": [
      "{\n",
      "  \"tvseries\" : {\n",
      "    \"mappings\" : {\n",
      "      \"serie\" : {\n",
      "        \"properties\" : {\n",
      "          \"_links\" : {\n",
      "            \"properties\" : {\n",
      "              \"previousepisode\" : {\n",
      "                \"properties\" : {\n",
      "                  \"href\" : {\n",
      "                    \"type\" : \"string\"\n",
      "                  }\n",
      "                }\n",
      "              },\n",
      "              \"self\" : {\n",
      "                \"properties\" : {\n",
      "                  \"href\" : {\n",
      "                    \"type\" : \"string\"\n",
      "                  }\n",
      "                }\n",
      "              }\n",
      "            }\n",
      "          },\n",
      "          \"externals\" : {\n",
      "            \"properties\" : {\n",
      "              \"imdb\" : {\n",
      "                \"type\" : \"string\"\n",
      "              },\n",
      "              \"thetvdb\" : {\n",
      "                \"type\" : \"long\"\n",
      "              },\n",
      "              \"tvrage\" : {\n",
      "                \"type\" : \"long\"\n",
      "              }\n",
      "            }\n",
      "          },\n",
      "          \"genres\" : {\n",
      "            \"type\" : \"string\"\n",
      "          },\n",
      "          \"id\" : {\n",
      "            \"type\" : \"long\"\n",
      "          },\n",
      "          \"image\" : {\n",
      "            \"properties\" : {\n",
      "              \"medium\" : {\n",
      "                \"type\" : \"string\"\n",
      "              },\n",
      "              \"original\" : {\n",
      "                \"type\" : \"string\"\n",
      "              }\n",
      "            }\n",
      "          },\n",
      "          \"language\" : {\n",
      "            \"type\" : \"string\"\n",
      "          },\n",
      "          \"name\" : {\n",
      "            \"type\" : \"string\"\n",
      "          },\n",
      "          \"network\" : {\n",
      "            \"properties\" : {\n",
      "              \"country\" : {\n",
      "                \"properties\" : {\n",
      "                  \"code\" : {\n",
      "                    \"type\" : \"string\"\n",
      "                  },\n",
      "                  \"name\" : {\n",
      "                    \"type\" : \"string\"\n",
      "                  },\n",
      "                  \"timezone\" : {\n",
      "                    \"type\" : \"string\"\n",
      "                  }\n",
      "                }\n",
      "              },\n",
      "              \"id\" : {\n",
      "                \"type\" : \"long\"\n",
      "              },\n",
      "              \"name\" : {\n",
      "                \"type\" : \"string\"\n",
      "              }\n",
      "            }\n",
      "          },\n",
      "          \"premiered\" : {\n",
      "            \"type\" : \"date\",\n",
      "            \"format\" : \"dateOptionalTime\"\n",
      "          },\n",
      "          \"rating\" : {\n",
      "            \"properties\" : {\n",
      "              \"average\" : {\n",
      "                \"type\" : \"double\"\n",
      "              }\n",
      "            }\n",
      "          },\n",
      "          \"runtime\" : {\n",
      "            \"type\" : \"long\"\n",
      "          },\n",
      "          \"schedule\" : {\n",
      "            \"properties\" : {\n",
      "              \"days\" : {\n",
      "                \"type\" : \"string\"\n",
      "              },\n",
      "              \"time\" : {\n",
      "                \"type\" : \"string\"\n",
      "              }\n",
      "            }\n",
      "          },\n",
      "          \"status\" : {\n",
      "            \"type\" : \"string\"\n",
      "          },\n",
      "          \"summary\" : {\n",
      "            \"type\" : \"string\"\n",
      "          },\n",
      "          \"type\" : {\n",
      "            \"type\" : \"string\"\n",
      "          },\n",
      "          \"updated\" : {\n",
      "            \"type\" : \"long\"\n",
      "          },\n",
      "          \"url\" : {\n",
      "            \"type\" : \"string\"\n",
      "          },\n",
      "          \"weight\" : {\n",
      "            \"type\" : \"long\"\n",
      "          }\n",
      "        }\n",
      "      }\n",
      "    }\n",
      "  }\n",
      "}\n",
      "\n"
     ]
    }
   ],
   "source": [
    "r = requests.get('http://localhost:9200/tvseries/_mappings?pretty')\n",
    "print r.text"
   ]
  },
  {
   "cell_type": "code",
   "execution_count": 58,
   "metadata": {
    "collapsed": false
   },
   "outputs": [
    {
     "data": {
      "text/plain": [
       "u'{\"id\":169,\"url\":\"http://www.tvmaze.com/shows/169/breaking-bad\",\"name\":\"Breaking Bad\",\"type\":\"Scripted\",\"language\":\"English\",\"genres\":[\"Drama\",\"Crime\",\"Thriller\"],\"status\":\"Ended\",\"runtime\":60,\"premiered\":\"2008-01-20\",\"schedule\":{\"time\":\"22:00\",\"days\":[\"Sunday\"]},\"rating\":{\"average\":9.3},\"weight\":2,\"network\":{\"id\":20,\"name\":\"AMC\",\"country\":{\"name\":\"United States\",\"code\":\"US\",\"timezone\":\"America/New_York\"}},\"webChannel\":null,\"externals\":{\"tvrage\":18164,\"thetvdb\":81189,\"imdb\":\"tt0903747\"},\"image\":{\"medium\":\"http://tvmazecdn.com/uploads/images/medium_portrait/0/2400.jpg\",\"original\":\"http://tvmazecdn.com/uploads/images/original_untouched/0/2400.jpg\"},\"summary\":\"<p><em><strong>\\\\\"Breaking Bad\\\\\"</strong></em> follows protagonist Walter White, a chemistry teacher who lives in New Mexico with his wife and teenage son who has cerebral palsy. White is diagnosed with Stage III cancer and given a prognosis of two years left to live. With a new sense of fearlessness based on his medical prognosis, and a desire to secure his family\\'s financial security, White chooses to enter a dangerous world of drugs and crime and ascends to power in this world. The series explores how a fatal diagnosis such as White\\'s releases a typical man from the daily concerns and constraints of normal society and follows his transformation from mild family man to a kingpin of the drug trade.</p>\",\"updated\":1451250971,\"_links\":{\"self\":{\"href\":\"http://api.tvmaze.com/shows/169\"},\"previousepisode\":{\"href\":\"http://api.tvmaze.com/episodes/12253\"}}}'"
      ]
     },
     "execution_count": 58,
     "metadata": {},
     "output_type": "execute_result"
    }
   ],
   "source": [
    "breaking_bad = requests.get('http://api.tvmaze.com/singlesearch/shows?q=breaking-bad')\n",
    "\n",
    "breaking_bad.text\n"
   ]
  },
  {
   "cell_type": "code",
   "execution_count": 48,
   "metadata": {
    "collapsed": false
   },
   "outputs": [
    {
     "data": {
      "text/plain": [
       "u'{\"error\":\"IndexAlreadyExistsException[[tvseries] already exists]\",\"status\":400}'"
      ]
     },
     "execution_count": 48,
     "metadata": {},
     "output_type": "execute_result"
    }
   ],
   "source": [
    "r = requests.put('http://localhost:9200/tvseries/')\n",
    "r.text"
   ]
  },
  {
   "cell_type": "code",
   "execution_count": 52,
   "metadata": {
    "collapsed": false
   },
   "outputs": [
    {
     "data": {
      "text/plain": [
       "u'{\"acknowledged\":true}'"
      ]
     },
     "execution_count": 52,
     "metadata": {},
     "output_type": "execute_result"
    }
   ],
   "source": [
    "r = requests.delete('http://localhost:9200/tvseries/')\n",
    "r.text"
   ]
  },
  {
   "cell_type": "code",
   "execution_count": 59,
   "metadata": {
    "collapsed": false
   },
   "outputs": [
    {
     "data": {
      "text/plain": [
       "{u'_links': {u'previousepisode': {u'href': u'http://api.tvmaze.com/episodes/12253'},\n",
       "  u'self': {u'href': u'http://api.tvmaze.com/shows/169'}},\n",
       " u'externals': {u'imdb': u'tt0903747', u'thetvdb': 81189, u'tvrage': 18164},\n",
       " u'genres': [u'Drama', u'Crime', u'Thriller'],\n",
       " u'id': 169,\n",
       " u'image': {u'medium': u'http://tvmazecdn.com/uploads/images/medium_portrait/0/2400.jpg',\n",
       "  u'original': u'http://tvmazecdn.com/uploads/images/original_untouched/0/2400.jpg'},\n",
       " u'language': u'English',\n",
       " u'name': u'Breaking Bad',\n",
       " u'network': {u'country': {u'code': u'US',\n",
       "   u'name': u'United States',\n",
       "   u'timezone': u'America/New_York'},\n",
       "  u'id': 20,\n",
       "  u'name': u'AMC'},\n",
       " u'premiered': u'2008-01-20',\n",
       " u'rating': {u'average': 9.3},\n",
       " u'runtime': 60,\n",
       " u'schedule': {u'days': [u'Sunday'], u'time': u'22:00'},\n",
       " u'status': u'Ended',\n",
       " u'summary': u'<p><em><strong>\"Breaking Bad\"</strong></em> follows protagonist Walter White, a chemistry teacher who lives in New Mexico with his wife and teenage son who has cerebral palsy. White is diagnosed with Stage III cancer and given a prognosis of two years left to live. With a new sense of fearlessness based on his medical prognosis, and a desire to secure his family\\'s financial security, White chooses to enter a dangerous world of drugs and crime and ascends to power in this world. The series explores how a fatal diagnosis such as White\\'s releases a typical man from the daily concerns and constraints of normal society and follows his transformation from mild family man to a kingpin of the drug trade.</p>',\n",
       " u'type': u'Scripted',\n",
       " u'updated': 1451250971,\n",
       " u'url': u'http://www.tvmaze.com/shows/169/breaking-bad',\n",
       " u'webChannel': None,\n",
       " u'weight': 2}"
      ]
     },
     "execution_count": 59,
     "metadata": {},
     "output_type": "execute_result"
    }
   ],
   "source": [
    "breaking_bad.json()"
   ]
  },
  {
   "cell_type": "code",
   "execution_count": null,
   "metadata": {
    "collapsed": true
   },
   "outputs": [],
   "source": []
  },
  {
   "cell_type": "code",
   "execution_count": 93,
   "metadata": {
    "collapsed": false
   },
   "outputs": [
    {
     "data": {
      "text/plain": [
       "u'{\"_index\":\"tvseries\",\"_type\":\"serie\",\"_id\":\"AVKpORUrbPRGM5XqNXQK\",\"_version\":1,\"created\":true}'"
      ]
     },
     "execution_count": 93,
     "metadata": {},
     "output_type": "execute_result"
    }
   ],
   "source": [
    "r = requests.post('http://localhost:9200/tvseries/serie', data = breaking_bad.text)\n",
    "r.text"
   ]
  },
  {
   "cell_type": "code",
   "execution_count": 66,
   "metadata": {
    "collapsed": false
   },
   "outputs": [
    {
     "name": "stdout",
     "output_type": "stream",
     "text": [
      "{\n",
      "  \"_index\" : \"tvseries\",\n",
      "  \"_type\" : \"serie\",\n",
      "  \"_id\" : \"1\",\n",
      "  \"_version\" : 1,\n",
      "  \"found\" : true,\n",
      "  \"_source\":{\"id\":169,\"url\":\"http://www.tvmaze.com/shows/169/breaking-bad\",\"name\":\"Breaking Bad\",\"type\":\"Scripted\",\"language\":\"English\",\"genres\":[\"Drama\",\"Crime\",\"Thriller\"],\"status\":\"Ended\",\"runtime\":60,\"premiered\":\"2008-01-20\",\"schedule\":{\"time\":\"22:00\",\"days\":[\"Sunday\"]},\"rating\":{\"average\":9.3},\"weight\":2,\"network\":{\"id\":20,\"name\":\"AMC\",\"country\":{\"name\":\"United States\",\"code\":\"US\",\"timezone\":\"America/New_York\"}},\"webChannel\":null,\"externals\":{\"tvrage\":18164,\"thetvdb\":81189,\"imdb\":\"tt0903747\"},\"image\":{\"medium\":\"http://tvmazecdn.com/uploads/images/medium_portrait/0/2400.jpg\",\"original\":\"http://tvmazecdn.com/uploads/images/original_untouched/0/2400.jpg\"},\"summary\":\"<p><em><strong>\\\"Breaking Bad\\\"</strong></em> follows protagonist Walter White, a chemistry teacher who lives in New Mexico with his wife and teenage son who has cerebral palsy. White is diagnosed with Stage III cancer and given a prognosis of two years left to live. With a new sense of fearlessness based on his medical prognosis, and a desire to secure his family's financial security, White chooses to enter a dangerous world of drugs and crime and ascends to power in this world. The series explores how a fatal diagnosis such as White's releases a typical man from the daily concerns and constraints of normal society and follows his transformation from mild family man to a kingpin of the drug trade.</p>\",\"updated\":1451250971,\"_links\":{\"self\":{\"href\":\"http://api.tvmaze.com/shows/169\"},\"previousepisode\":{\"href\":\"http://api.tvmaze.com/episodes/12253\"}}}\n",
      "}\n",
      "\n"
     ]
    }
   ],
   "source": [
    "r = requests.get('http://localhost:9200/tvseries/serie/1?pretty')\n",
    "print r.text"
   ]
  },
  {
   "cell_type": "code",
   "execution_count": 73,
   "metadata": {
    "collapsed": false
   },
   "outputs": [
    {
     "name": "stdout",
     "output_type": "stream",
     "text": [
      "{\n",
      "  \"took\" : 3,\n",
      "  \"timed_out\" : false,\n",
      "  \"_shards\" : {\n",
      "    \"total\" : 1,\n",
      "    \"successful\" : 1,\n",
      "    \"failed\" : 0\n",
      "  },\n",
      "  \"hits\" : {\n",
      "    \"total\" : 1,\n",
      "    \"max_score\" : 0.15342641,\n",
      "    \"hits\" : [ {\n",
      "      \"_index\" : \"tvseries\",\n",
      "      \"_type\" : \"serie\",\n",
      "      \"_id\" : \"1\",\n",
      "      \"_score\" : 0.15342641,\n",
      "      \"_source\":{\"id\":169,\"url\":\"http://www.tvmaze.com/shows/169/breaking-bad\",\"name\":\"Breaking Bad\",\"type\":\"Scripted\",\"language\":\"English\",\"genres\":[\"Drama\",\"Crime\",\"Thriller\"],\"status\":\"Ended\",\"runtime\":60,\"premiered\":\"2008-01-20\",\"schedule\":{\"time\":\"22:00\",\"days\":[\"Sunday\"]},\"rating\":{\"average\":9.3},\"weight\":2,\"network\":{\"id\":20,\"name\":\"AMC\",\"country\":{\"name\":\"United States\",\"code\":\"US\",\"timezone\":\"America/New_York\"}},\"webChannel\":null,\"externals\":{\"tvrage\":18164,\"thetvdb\":81189,\"imdb\":\"tt0903747\"},\"image\":{\"medium\":\"http://tvmazecdn.com/uploads/images/medium_portrait/0/2400.jpg\",\"original\":\"http://tvmazecdn.com/uploads/images/original_untouched/0/2400.jpg\"},\"summary\":\"<p><em><strong>\\\"Breaking Bad\\\"</strong></em> follows protagonist Walter White, a chemistry teacher who lives in New Mexico with his wife and teenage son who has cerebral palsy. White is diagnosed with Stage III cancer and given a prognosis of two years left to live. With a new sense of fearlessness based on his medical prognosis, and a desire to secure his family's financial security, White chooses to enter a dangerous world of drugs and crime and ascends to power in this world. The series explores how a fatal diagnosis such as White's releases a typical man from the daily concerns and constraints of normal society and follows his transformation from mild family man to a kingpin of the drug trade.</p>\",\"updated\":1451250971,\"_links\":{\"self\":{\"href\":\"http://api.tvmaze.com/shows/169\"},\"previousepisode\":{\"href\":\"http://api.tvmaze.com/episodes/12253\"}}}\n",
      "    } ]\n",
      "  }\n",
      "}\n",
      "\n"
     ]
    }
   ],
   "source": [
    "r = requests.get('http://localhost:9200/tvseries/_search?q=genres:drama&pretty')\n",
    "print r.text"
   ]
  },
  {
   "cell_type": "code",
   "execution_count": 109,
   "metadata": {
    "collapsed": false
   },
   "outputs": [
    {
     "name": "stdout",
     "output_type": "stream",
     "text": [
      "breaking-bad indexed: {\"_index\":\"tvseries\",\"_type\":\"serie\",\"_id\":\"169\",\"_version\":2,\"created\":false}\n",
      "blindspot indexed: {\"_index\":\"tvseries\",\"_type\":\"serie\",\"_id\":\"1855\",\"_version\":2,\"created\":false}\n",
      "the-knick indexed: {\"_index\":\"tvseries\",\"_type\":\"serie\",\"_id\":\"11498\",\"_version\":2,\"created\":false}\n"
     ]
    }
   ],
   "source": [
    "series = ['breaking-bad','blindspot','the-knick']\n",
    "\n",
    "for s in series:  \n",
    "  data = requests.get('http://api.tvmaze.com/singlesearch/shows?q=' + s ) \n",
    "  id = data.json()['id']\n",
    "  response = requests.post('http://localhost:9200/tvseries/serie/' + str(id), data = data)\n",
    "  print s + \" indexed: \" + response.text "
   ]
  },
  {
   "cell_type": "code",
   "execution_count": 100,
   "metadata": {
    "collapsed": false
   },
   "outputs": [
    {
     "name": "stdout",
     "output_type": "stream",
     "text": [
      "{\n",
      "  \"took\" : 13,\n",
      "  \"timed_out\" : false,\n",
      "  \"_shards\" : {\n",
      "    \"total\" : 1,\n",
      "    \"successful\" : 1,\n",
      "    \"failed\" : 0\n",
      "  },\n",
      "  \"hits\" : {\n",
      "    \"total\" : 11,\n",
      "    \"max_score\" : 1.0,\n",
      "    \"hits\" : [ {\n",
      "      \"_index\" : \"tvseries\",\n",
      "      \"_type\" : \"serie\",\n",
      "      \"_id\" : \"AVKpN8mabPRGM5XqNXQE\",\n",
      "      \"_score\" : 1.0,\n",
      "      \"_source\":{\"id\":169,\"url\":\"http://www.tvmaze.com/shows/169/breaking-bad\",\"name\":\"Breaking Bad\",\"type\":\"Scripted\",\"language\":\"English\",\"genres\":[\"Drama\",\"Crime\",\"Thriller\"],\"status\":\"Ended\",\"runtime\":60,\"premiered\":\"2008-01-20\",\"schedule\":{\"time\":\"22:00\",\"days\":[\"Sunday\"]},\"rating\":{\"average\":9.3},\"weight\":2,\"network\":{\"id\":20,\"name\":\"AMC\",\"country\":{\"name\":\"United States\",\"code\":\"US\",\"timezone\":\"America/New_York\"}},\"webChannel\":null,\"externals\":{\"tvrage\":18164,\"thetvdb\":81189,\"imdb\":\"tt0903747\"},\"image\":{\"medium\":\"http://tvmazecdn.com/uploads/images/medium_portrait/0/2400.jpg\",\"original\":\"http://tvmazecdn.com/uploads/images/original_untouched/0/2400.jpg\"},\"summary\":\"<p><em><strong>\\\"Breaking Bad\\\"</strong></em> follows protagonist Walter White, a chemistry teacher who lives in New Mexico with his wife and teenage son who has cerebral palsy. White is diagnosed with Stage III cancer and given a prognosis of two years left to live. With a new sense of fearlessness based on his medical prognosis, and a desire to secure his family's financial security, White chooses to enter a dangerous world of drugs and crime and ascends to power in this world. The series explores how a fatal diagnosis such as White's releases a typical man from the daily concerns and constraints of normal society and follows his transformation from mild family man to a kingpin of the drug trade.</p>\",\"updated\":1451250971,\"_links\":{\"self\":{\"href\":\"http://api.tvmaze.com/shows/169\"},\"previousepisode\":{\"href\":\"http://api.tvmaze.com/episodes/12253\"}}}\n",
      "    }, {\n",
      "      \"_index\" : \"tvseries\",\n",
      "      \"_type\" : \"serie\",\n",
      "      \"_id\" : \"AVKpN9_YbPRGM5XqNXQF\",\n",
      "      \"_score\" : 1.0,\n",
      "      \"_source\":{\"id\":169,\"url\":\"http://www.tvmaze.com/shows/169/breaking-bad\",\"name\":\"Breaking Bad\",\"type\":\"Scripted\",\"language\":\"English\",\"genres\":[\"Drama\",\"Crime\",\"Thriller\"],\"status\":\"Ended\",\"runtime\":60,\"premiered\":\"2008-01-20\",\"schedule\":{\"time\":\"22:00\",\"days\":[\"Sunday\"]},\"rating\":{\"average\":9.3},\"weight\":2,\"network\":{\"id\":20,\"name\":\"AMC\",\"country\":{\"name\":\"United States\",\"code\":\"US\",\"timezone\":\"America/New_York\"}},\"webChannel\":null,\"externals\":{\"tvrage\":18164,\"thetvdb\":81189,\"imdb\":\"tt0903747\"},\"image\":{\"medium\":\"http://tvmazecdn.com/uploads/images/medium_portrait/0/2400.jpg\",\"original\":\"http://tvmazecdn.com/uploads/images/original_untouched/0/2400.jpg\"},\"summary\":\"<p><em><strong>\\\"Breaking Bad\\\"</strong></em> follows protagonist Walter White, a chemistry teacher who lives in New Mexico with his wife and teenage son who has cerebral palsy. White is diagnosed with Stage III cancer and given a prognosis of two years left to live. With a new sense of fearlessness based on his medical prognosis, and a desire to secure his family's financial security, White chooses to enter a dangerous world of drugs and crime and ascends to power in this world. The series explores how a fatal diagnosis such as White's releases a typical man from the daily concerns and constraints of normal society and follows his transformation from mild family man to a kingpin of the drug trade.</p>\",\"updated\":1451250971,\"_links\":{\"self\":{\"href\":\"http://api.tvmaze.com/shows/169\"},\"previousepisode\":{\"href\":\"http://api.tvmaze.com/episodes/12253\"}}}\n",
      "    }, {\n",
      "      \"_index\" : \"tvseries\",\n",
      "      \"_type\" : \"serie\",\n",
      "      \"_id\" : \"AVKpOCIkbPRGM5XqNXQG\",\n",
      "      \"_score\" : 1.0,\n",
      "      \"_source\":{\"id\":169,\"url\":\"http://www.tvmaze.com/shows/169/breaking-bad\",\"name\":\"Breaking Bad\",\"type\":\"Scripted\",\"language\":\"English\",\"genres\":[\"Drama\",\"Crime\",\"Thriller\"],\"status\":\"Ended\",\"runtime\":60,\"premiered\":\"2008-01-20\",\"schedule\":{\"time\":\"22:00\",\"days\":[\"Sunday\"]},\"rating\":{\"average\":9.3},\"weight\":2,\"network\":{\"id\":20,\"name\":\"AMC\",\"country\":{\"name\":\"United States\",\"code\":\"US\",\"timezone\":\"America/New_York\"}},\"webChannel\":null,\"externals\":{\"tvrage\":18164,\"thetvdb\":81189,\"imdb\":\"tt0903747\"},\"image\":{\"medium\":\"http://tvmazecdn.com/uploads/images/medium_portrait/0/2400.jpg\",\"original\":\"http://tvmazecdn.com/uploads/images/original_untouched/0/2400.jpg\"},\"summary\":\"<p><em><strong>\\\"Breaking Bad\\\"</strong></em> follows protagonist Walter White, a chemistry teacher who lives in New Mexico with his wife and teenage son who has cerebral palsy. White is diagnosed with Stage III cancer and given a prognosis of two years left to live. With a new sense of fearlessness based on his medical prognosis, and a desire to secure his family's financial security, White chooses to enter a dangerous world of drugs and crime and ascends to power in this world. The series explores how a fatal diagnosis such as White's releases a typical man from the daily concerns and constraints of normal society and follows his transformation from mild family man to a kingpin of the drug trade.</p>\",\"updated\":1451250971,\"_links\":{\"self\":{\"href\":\"http://api.tvmaze.com/shows/169\"},\"previousepisode\":{\"href\":\"http://api.tvmaze.com/episodes/12253\"}}}\n",
      "    }, {\n",
      "      \"_index\" : \"tvseries\",\n",
      "      \"_type\" : \"serie\",\n",
      "      \"_id\" : \"AVKpOGnqbPRGM5XqNXQH\",\n",
      "      \"_score\" : 1.0,\n",
      "      \"_source\":{\"id\":169,\"url\":\"http://www.tvmaze.com/shows/169/breaking-bad\",\"name\":\"Breaking Bad\",\"type\":\"Scripted\",\"language\":\"English\",\"genres\":[\"Drama\",\"Crime\",\"Thriller\"],\"status\":\"Ended\",\"runtime\":60,\"premiered\":\"2008-01-20\",\"schedule\":{\"time\":\"22:00\",\"days\":[\"Sunday\"]},\"rating\":{\"average\":9.3},\"weight\":2,\"network\":{\"id\":20,\"name\":\"AMC\",\"country\":{\"name\":\"United States\",\"code\":\"US\",\"timezone\":\"America/New_York\"}},\"webChannel\":null,\"externals\":{\"tvrage\":18164,\"thetvdb\":81189,\"imdb\":\"tt0903747\"},\"image\":{\"medium\":\"http://tvmazecdn.com/uploads/images/medium_portrait/0/2400.jpg\",\"original\":\"http://tvmazecdn.com/uploads/images/original_untouched/0/2400.jpg\"},\"summary\":\"<p><em><strong>\\\"Breaking Bad\\\"</strong></em> follows protagonist Walter White, a chemistry teacher who lives in New Mexico with his wife and teenage son who has cerebral palsy. White is diagnosed with Stage III cancer and given a prognosis of two years left to live. With a new sense of fearlessness based on his medical prognosis, and a desire to secure his family's financial security, White chooses to enter a dangerous world of drugs and crime and ascends to power in this world. The series explores how a fatal diagnosis such as White's releases a typical man from the daily concerns and constraints of normal society and follows his transformation from mild family man to a kingpin of the drug trade.</p>\",\"updated\":1451250971,\"_links\":{\"self\":{\"href\":\"http://api.tvmaze.com/shows/169\"},\"previousepisode\":{\"href\":\"http://api.tvmaze.com/episodes/12253\"}}}\n",
      "    }, {\n",
      "      \"_index\" : \"tvseries\",\n",
      "      \"_type\" : \"serie\",\n",
      "      \"_id\" : \"AVKpOH0ybPRGM5XqNXQI\",\n",
      "      \"_score\" : 1.0,\n",
      "      \"_source\":{\"id\":169,\"url\":\"http://www.tvmaze.com/shows/169/breaking-bad\",\"name\":\"Breaking Bad\",\"type\":\"Scripted\",\"language\":\"English\",\"genres\":[\"Drama\",\"Crime\",\"Thriller\"],\"status\":\"Ended\",\"runtime\":60,\"premiered\":\"2008-01-20\",\"schedule\":{\"time\":\"22:00\",\"days\":[\"Sunday\"]},\"rating\":{\"average\":9.3},\"weight\":2,\"network\":{\"id\":20,\"name\":\"AMC\",\"country\":{\"name\":\"United States\",\"code\":\"US\",\"timezone\":\"America/New_York\"}},\"webChannel\":null,\"externals\":{\"tvrage\":18164,\"thetvdb\":81189,\"imdb\":\"tt0903747\"},\"image\":{\"medium\":\"http://tvmazecdn.com/uploads/images/medium_portrait/0/2400.jpg\",\"original\":\"http://tvmazecdn.com/uploads/images/original_untouched/0/2400.jpg\"},\"summary\":\"<p><em><strong>\\\"Breaking Bad\\\"</strong></em> follows protagonist Walter White, a chemistry teacher who lives in New Mexico with his wife and teenage son who has cerebral palsy. White is diagnosed with Stage III cancer and given a prognosis of two years left to live. With a new sense of fearlessness based on his medical prognosis, and a desire to secure his family's financial security, White chooses to enter a dangerous world of drugs and crime and ascends to power in this world. The series explores how a fatal diagnosis such as White's releases a typical man from the daily concerns and constraints of normal society and follows his transformation from mild family man to a kingpin of the drug trade.</p>\",\"updated\":1451250971,\"_links\":{\"self\":{\"href\":\"http://api.tvmaze.com/shows/169\"},\"previousepisode\":{\"href\":\"http://api.tvmaze.com/episodes/12253\"}}}\n",
      "    }, {\n",
      "      \"_index\" : \"tvseries\",\n",
      "      \"_type\" : \"serie\",\n",
      "      \"_id\" : \"AVKpOP1ObPRGM5XqNXQJ\",\n",
      "      \"_score\" : 1.0,\n",
      "      \"_source\":{\"id\":169,\"url\":\"http://www.tvmaze.com/shows/169/breaking-bad\",\"name\":\"Breaking Bad\",\"type\":\"Scripted\",\"language\":\"English\",\"genres\":[\"Drama\",\"Crime\",\"Thriller\"],\"status\":\"Ended\",\"runtime\":60,\"premiered\":\"2008-01-20\",\"schedule\":{\"time\":\"22:00\",\"days\":[\"Sunday\"]},\"rating\":{\"average\":9.3},\"weight\":2,\"network\":{\"id\":20,\"name\":\"AMC\",\"country\":{\"name\":\"United States\",\"code\":\"US\",\"timezone\":\"America/New_York\"}},\"webChannel\":null,\"externals\":{\"tvrage\":18164,\"thetvdb\":81189,\"imdb\":\"tt0903747\"},\"image\":{\"medium\":\"http://tvmazecdn.com/uploads/images/medium_portrait/0/2400.jpg\",\"original\":\"http://tvmazecdn.com/uploads/images/original_untouched/0/2400.jpg\"},\"summary\":\"<p><em><strong>\\\"Breaking Bad\\\"</strong></em> follows protagonist Walter White, a chemistry teacher who lives in New Mexico with his wife and teenage son who has cerebral palsy. White is diagnosed with Stage III cancer and given a prognosis of two years left to live. With a new sense of fearlessness based on his medical prognosis, and a desire to secure his family's financial security, White chooses to enter a dangerous world of drugs and crime and ascends to power in this world. The series explores how a fatal diagnosis such as White's releases a typical man from the daily concerns and constraints of normal society and follows his transformation from mild family man to a kingpin of the drug trade.</p>\",\"updated\":1451250971,\"_links\":{\"self\":{\"href\":\"http://api.tvmaze.com/shows/169\"},\"previousepisode\":{\"href\":\"http://api.tvmaze.com/episodes/12253\"}}}\n",
      "    }, {\n",
      "      \"_index\" : \"tvseries\",\n",
      "      \"_type\" : \"serie\",\n",
      "      \"_id\" : \"AVKpORUrbPRGM5XqNXQK\",\n",
      "      \"_score\" : 1.0,\n",
      "      \"_source\":{\"id\":169,\"url\":\"http://www.tvmaze.com/shows/169/breaking-bad\",\"name\":\"Breaking Bad\",\"type\":\"Scripted\",\"language\":\"English\",\"genres\":[\"Drama\",\"Crime\",\"Thriller\"],\"status\":\"Ended\",\"runtime\":60,\"premiered\":\"2008-01-20\",\"schedule\":{\"time\":\"22:00\",\"days\":[\"Sunday\"]},\"rating\":{\"average\":9.3},\"weight\":2,\"network\":{\"id\":20,\"name\":\"AMC\",\"country\":{\"name\":\"United States\",\"code\":\"US\",\"timezone\":\"America/New_York\"}},\"webChannel\":null,\"externals\":{\"tvrage\":18164,\"thetvdb\":81189,\"imdb\":\"tt0903747\"},\"image\":{\"medium\":\"http://tvmazecdn.com/uploads/images/medium_portrait/0/2400.jpg\",\"original\":\"http://tvmazecdn.com/uploads/images/original_untouched/0/2400.jpg\"},\"summary\":\"<p><em><strong>\\\"Breaking Bad\\\"</strong></em> follows protagonist Walter White, a chemistry teacher who lives in New Mexico with his wife and teenage son who has cerebral palsy. White is diagnosed with Stage III cancer and given a prognosis of two years left to live. With a new sense of fearlessness based on his medical prognosis, and a desire to secure his family's financial security, White chooses to enter a dangerous world of drugs and crime and ascends to power in this world. The series explores how a fatal diagnosis such as White's releases a typical man from the daily concerns and constraints of normal society and follows his transformation from mild family man to a kingpin of the drug trade.</p>\",\"updated\":1451250971,\"_links\":{\"self\":{\"href\":\"http://api.tvmaze.com/shows/169\"},\"previousepisode\":{\"href\":\"http://api.tvmaze.com/episodes/12253\"}}}\n",
      "    }, {\n",
      "      \"_index\" : \"tvseries\",\n",
      "      \"_type\" : \"serie\",\n",
      "      \"_id\" : \"AVKpOUXcbPRGM5XqNXQL\",\n",
      "      \"_score\" : 1.0,\n",
      "      \"_source\":{\"id\":169,\"url\":\"http://www.tvmaze.com/shows/169/breaking-bad\",\"name\":\"Breaking Bad\",\"type\":\"Scripted\",\"language\":\"English\",\"genres\":[\"Drama\",\"Crime\",\"Thriller\"],\"status\":\"Ended\",\"runtime\":60,\"premiered\":\"2008-01-20\",\"schedule\":{\"time\":\"22:00\",\"days\":[\"Sunday\"]},\"rating\":{\"average\":9.3},\"weight\":2,\"network\":{\"id\":20,\"name\":\"AMC\",\"country\":{\"name\":\"United States\",\"code\":\"US\",\"timezone\":\"America/New_York\"}},\"webChannel\":null,\"externals\":{\"tvrage\":18164,\"thetvdb\":81189,\"imdb\":\"tt0903747\"},\"image\":{\"medium\":\"http://tvmazecdn.com/uploads/images/medium_portrait/0/2400.jpg\",\"original\":\"http://tvmazecdn.com/uploads/images/original_untouched/0/2400.jpg\"},\"summary\":\"<p><em><strong>\\\"Breaking Bad\\\"</strong></em> follows protagonist Walter White, a chemistry teacher who lives in New Mexico with his wife and teenage son who has cerebral palsy. White is diagnosed with Stage III cancer and given a prognosis of two years left to live. With a new sense of fearlessness based on his medical prognosis, and a desire to secure his family's financial security, White chooses to enter a dangerous world of drugs and crime and ascends to power in this world. The series explores how a fatal diagnosis such as White's releases a typical man from the daily concerns and constraints of normal society and follows his transformation from mild family man to a kingpin of the drug trade.</p>\",\"updated\":1451250971,\"_links\":{\"self\":{\"href\":\"http://api.tvmaze.com/shows/169\"},\"previousepisode\":{\"href\":\"http://api.tvmaze.com/episodes/12253\"}}}\n",
      "    }, {\n",
      "      \"_index\" : \"tvseries\",\n",
      "      \"_type\" : \"serie\",\n",
      "      \"_id\" : \"AVKpOX1zbPRGM5XqNXQM\",\n",
      "      \"_score\" : 1.0,\n",
      "      \"_source\":{\"id\":169,\"url\":\"http://www.tvmaze.com/shows/169/breaking-bad\",\"name\":\"Breaking Bad\",\"type\":\"Scripted\",\"language\":\"English\",\"genres\":[\"Drama\",\"Crime\",\"Thriller\"],\"status\":\"Ended\",\"runtime\":60,\"premiered\":\"2008-01-20\",\"schedule\":{\"time\":\"22:00\",\"days\":[\"Sunday\"]},\"rating\":{\"average\":9.3},\"weight\":2,\"network\":{\"id\":20,\"name\":\"AMC\",\"country\":{\"name\":\"United States\",\"code\":\"US\",\"timezone\":\"America/New_York\"}},\"webChannel\":null,\"externals\":{\"tvrage\":18164,\"thetvdb\":81189,\"imdb\":\"tt0903747\"},\"image\":{\"medium\":\"http://tvmazecdn.com/uploads/images/medium_portrait/0/2400.jpg\",\"original\":\"http://tvmazecdn.com/uploads/images/original_untouched/0/2400.jpg\"},\"summary\":\"<p><em><strong>\\\"Breaking Bad\\\"</strong></em> follows protagonist Walter White, a chemistry teacher who lives in New Mexico with his wife and teenage son who has cerebral palsy. White is diagnosed with Stage III cancer and given a prognosis of two years left to live. With a new sense of fearlessness based on his medical prognosis, and a desire to secure his family's financial security, White chooses to enter a dangerous world of drugs and crime and ascends to power in this world. The series explores how a fatal diagnosis such as White's releases a typical man from the daily concerns and constraints of normal society and follows his transformation from mild family man to a kingpin of the drug trade.</p>\",\"updated\":1451250971,\"_links\":{\"self\":{\"href\":\"http://api.tvmaze.com/shows/169\"},\"previousepisode\":{\"href\":\"http://api.tvmaze.com/episodes/12253\"}}}\n",
      "    }, {\n",
      "      \"_index\" : \"tvseries\",\n",
      "      \"_type\" : \"serie\",\n",
      "      \"_id\" : \"1\",\n",
      "      \"_score\" : 1.0,\n",
      "      \"_source\":{\"id\":169,\"url\":\"http://www.tvmaze.com/shows/169/breaking-bad\",\"name\":\"Breaking Bad\",\"type\":\"Scripted\",\"language\":\"English\",\"genres\":[\"Drama\",\"Crime\",\"Thriller\"],\"status\":\"Ended\",\"runtime\":60,\"premiered\":\"2008-01-20\",\"schedule\":{\"time\":\"22:00\",\"days\":[\"Sunday\"]},\"rating\":{\"average\":9.3},\"weight\":2,\"network\":{\"id\":20,\"name\":\"AMC\",\"country\":{\"name\":\"United States\",\"code\":\"US\",\"timezone\":\"America/New_York\"}},\"webChannel\":null,\"externals\":{\"tvrage\":18164,\"thetvdb\":81189,\"imdb\":\"tt0903747\"},\"image\":{\"medium\":\"http://tvmazecdn.com/uploads/images/medium_portrait/0/2400.jpg\",\"original\":\"http://tvmazecdn.com/uploads/images/original_untouched/0/2400.jpg\"},\"summary\":\"<p><em><strong>\\\"Breaking Bad\\\"</strong></em> follows protagonist Walter White, a chemistry teacher who lives in New Mexico with his wife and teenage son who has cerebral palsy. White is diagnosed with Stage III cancer and given a prognosis of two years left to live. With a new sense of fearlessness based on his medical prognosis, and a desire to secure his family's financial security, White chooses to enter a dangerous world of drugs and crime and ascends to power in this world. The series explores how a fatal diagnosis such as White's releases a typical man from the daily concerns and constraints of normal society and follows his transformation from mild family man to a kingpin of the drug trade.</p>\",\"updated\":1451250971,\"_links\":{\"self\":{\"href\":\"http://api.tvmaze.com/shows/169\"},\"previousepisode\":{\"href\":\"http://api.tvmaze.com/episodes/12253\"}}}\n",
      "    } ]\n",
      "  }\n",
      "}\n",
      "\n"
     ]
    }
   ],
   "source": [
    "r = requests.get('http://localhost:9200/tvseries/_search?q=status:ended&pretty')\n",
    "print r.text"
   ]
  },
  {
   "cell_type": "markdown",
   "metadata": {
    "slideshow": {
     "slide_type": "slide"
    }
   },
   "source": [
    "## Tipos de datos\n",
    "\n"
   ]
  },
  {
   "cell_type": "markdown",
   "metadata": {
    "slideshow": {
     "slide_type": "slide"
    }
   },
   "source": [
    "## Analizadores"
   ]
  },
  {
   "cell_type": "markdown",
   "metadata": {
    "slideshow": {
     "slide_type": "subslide"
    }
   },
   "source": [
    "## Estructura de un analizador\n",
    "\n",
    "  - Filtro de caracteres\n",
    "  - Tokenizador\n",
    "  - Lematizador\n",
    "  - Filtro de tokens "
   ]
  },
  {
   "cell_type": "markdown",
   "metadata": {
    "slideshow": {
     "slide_type": "subslide"
    }
   },
   "source": [
    "## Tipos de analizadores"
   ]
  },
  {
   "cell_type": "markdown",
   "metadata": {
    "slideshow": {
     "slide_type": "slide"
    }
   },
   "source": [
    "## Mappings"
   ]
  },
  {
   "cell_type": "markdown",
   "metadata": {
    "slideshow": {
     "slide_type": "subslide"
    }
   },
   "source": [
    "## Campo de búsqueda por defecto"
   ]
  },
  {
   "cell_type": "markdown",
   "metadata": {
    "slideshow": {
     "slide_type": "subslide"
    }
   },
   "source": [
    "## Múltiples mapeos para un campo"
   ]
  },
  {
   "cell_type": "markdown",
   "metadata": {
    "slideshow": {
     "slide_type": "subslide"
    }
   },
   "source": [
    "## Campos analizados vs no analizados"
   ]
  },
  {
   "cell_type": "markdown",
   "metadata": {
    "slideshow": {
     "slide_type": "slide"
    }
   },
   "source": [
    "## Operadores de búsqueda - QueryDSL"
   ]
  },
  {
   "cell_type": "markdown",
   "metadata": {
    "slideshow": {
     "slide_type": "subslide"
    }
   },
   "source": [
    "### QueryDSL - terms"
   ]
  },
  {
   "cell_type": "markdown",
   "metadata": {
    "slideshow": {
     "slide_type": "subslide"
    }
   },
   "source": [
    "### Query DSL - búsqueda de texto completo"
   ]
  },
  {
   "cell_type": "markdown",
   "metadata": {
    "slideshow": {
     "slide_type": "subslide"
    }
   },
   "source": [
    "### Query DSL - busquedas borrosas"
   ]
  },
  {
   "cell_type": "markdown",
   "metadata": {
    "slideshow": {
     "slide_type": "subslide"
    }
   },
   "source": [
    "### Query DSL - busquedas booleanas"
   ]
  },
  {
   "cell_type": "markdown",
   "metadata": {
    "slideshow": {
     "slide_type": "subslide"
    }
   },
   "source": [
    "### Query DSL - búsqueda  de frase "
   ]
  },
  {
   "cell_type": "markdown",
   "metadata": {
    "slideshow": {
     "slide_type": "subslide"
    }
   },
   "source": [
    "### Query DSL - Búsqueda por matching parcial"
   ]
  },
  {
   "cell_type": "markdown",
   "metadata": {
    "slideshow": {
     "slide_type": "subslide"
    }
   },
   "source": [
    "### Query DSL - Boosting"
   ]
  },
  {
   "cell_type": "markdown",
   "metadata": {
    "slideshow": {
     "slide_type": "slide"
    }
   },
   "source": [
    "### Relevancia en Elasticsearch"
   ]
  },
  {
   "cell_type": "markdown",
   "metadata": {
    "slideshow": {
     "slide_type": "subslide"
    }
   },
   "source": [
    "### Relevancia:  *Practical Scoring Function*\n",
    "  - recupera documentos usando un modelo booleano \n",
    "  - asigna la relevancia usando una formula basada en ideas \n",
    "    - TF-ID\n",
    "    - Modelo de espacio vectorial\n",
    "    "
   ]
  },
  {
   "cell_type": "markdown",
   "metadata": {
    "slideshow": {
     "slide_type": "subslide"
    }
   },
   "source": [
    "### Relevancia por defecto\n",
    "\n",
    "\n",
    "$$ rel(q,d) = qNorm_q \\cdot coord_{q,d} \\cdot \\sum_{t \\in q}{tf_{t,d} \\cdot idf_t^2 \\cdot boost_t \\cdot norm_{t,d}}$$"
   ]
  },
  {
   "cell_type": "markdown",
   "metadata": {
    "slideshow": {
     "slide_type": "fragment"
    }
   },
   "source": [
    " - $qNorm_q$ : factor de normalización de las consultas - ignorar\n",
    " - $coord_{q,d}$ : *coordination factor* - sube la importancia de los documentos que tienen más terminos de la consulta \n",
    " - $boost_t$: *query boost* - Sube la importancia de un determinado término\n",
    " - $norm_{t,d}$: Factor de normalizacion del indice - tiene en cuenta la longitud del documento y opcionalmente *index boost*"
   ]
  },
  {
   "cell_type": "markdown",
   "metadata": {
    "slideshow": {
     "slide_type": "subslide"
    }
   },
   "source": [
    "### Explicando la relevancia "
   ]
  },
  {
   "cell_type": "markdown",
   "metadata": {
    "slideshow": {
     "slide_type": "subslide"
    }
   },
   "source": [
    "## Modelos de relevancia alternativa\n",
    "\n",
    "  - Okapi BM 25 \n",
    "  -\n",
    "  \n",
    "Se puede elegir una funcion de similitud por campo. sin embargo requiere reindexar\n"
   ]
  },
  {
   "cell_type": "markdown",
   "metadata": {
    "slideshow": {
     "slide_type": "subslide"
    }
   },
   "source": [
    "## Definiendo la relevancia a medida\n",
    "\n",
    " - function score \n",
    " - script score\n"
   ]
  },
  {
   "cell_type": "markdown",
   "metadata": {
    "slideshow": {
     "slide_type": "subslide"
    }
   },
   "source": [
    "## Relevancia multicampo"
   ]
  },
  {
   "cell_type": "markdown",
   "metadata": {
    "slideshow": {
     "slide_type": "slide"
    }
   },
   "source": [
    "## Búsqueda multicampo ?? "
   ]
  },
  {
   "cell_type": "markdown",
   "metadata": {
    "slideshow": {
     "slide_type": "slide"
    }
   },
   "source": [
    "## Integracion con la interfaz de búsqueda"
   ]
  }
 ],
 "metadata": {
  "celltoolbar": "Slideshow",
  "kernelspec": {
   "display_name": "Python 2",
   "language": "python",
   "name": "python2"
  },
  "language_info": {
   "codemirror_mode": {
    "name": "ipython",
    "version": 2
   },
   "file_extension": ".py",
   "mimetype": "text/x-python",
   "name": "python",
   "nbconvert_exporter": "python",
   "pygments_lexer": "ipython2",
   "version": "2.7.10"
  }
 },
 "nbformat": 4,
 "nbformat_minor": 0
}
