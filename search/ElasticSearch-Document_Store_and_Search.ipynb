{
 "cells": [
  {
   "cell_type": "markdown",
   "metadata": {},
   "source": [
    "Elasticsearch \n",
    "## Document Store and Search engine"
   ]
  },
  {
   "cell_type": "markdown",
   "metadata": {
    "slideshow": {
     "slide_type": "slide"
    }
   },
   "source": [
    "## ElasticSearch REST API\n",
    "\n",
    "<pre>\n",
    "curl -X&lt;VERB&gt; '&lt;PROTOCOL&gt;://&lt;HOST&gt;:&lt;PORT&gt;/&lt;PATH&gt;?&lt;QUERY_STRING&gt;' -d '&lt;BODY&gt;'\n",
    "<pre>"
   ]
  },
  {
   "cell_type": "markdown",
   "metadata": {
    "slideshow": {
     "slide_type": "subslide"
    }
   },
   "source": [
    "VERB-The appropriate HTTP method or verb: GET, POST, PUT, HEAD, or DELETE.\n",
    "PROTOCOL-Either http or https (if you have an https proxy in front of Elasticsearch.)\n",
    "HOST-The hostname of any node in your Elasticsearch cluster, or localhost for a node on your local machine.\n",
    "PORT-The port running the Elasticsearch HTTP service, which defaults to 9200.\n",
    "PATH-API Endpoint (for example _count will return the number of documents in the cluster). Path may contain multiple components, such as _cluster/stats or _nodes/stats/jvm\n",
    "QUERY_STRING-Any optional query-string parameters (for example ?pretty will pretty-print the JSON response to make it easier to read.)\n",
    "BODY-A JSON-encoded request body (if the request needs one.)"
   ]
  },
  {
   "cell_type": "markdown",
   "metadata": {
    "slideshow": {
     "slide_type": "slide"
    }
   },
   "source": [
    "## ElasticSearch features\n",
    "\n",
    " * Document oriented - stores complex objects or documents. \n",
    " * Document: root object that is serialized into JSON and stored in Elasticsearch under a unique ID.\n",
    " * Index documents - ES indexes all fields by default \n",
    " * Documents may have types. \n",
    " * Each type has its mappings\n",
    " * Documents are inmutable. If we have to change or replace they have to be indexed again. Version changes.  \n"
   ]
  },
  {
   "cell_type": "markdown",
   "metadata": {
    "slideshow": {
     "slide_type": "slide"
    }
   },
   "source": [
    "## Creating documents"
   ]
  },
  {
   "cell_type": "code",
   "execution_count": null,
   "metadata": {
    "collapsed": true,
    "slideshow": {
     "slide_type": "skip"
    }
   },
   "outputs": [],
   "source": [
    "import requests"
   ]
  },
  {
   "cell_type": "code",
   "execution_count": 39,
   "metadata": {
    "collapsed": false
   },
   "outputs": [
    {
     "name": "stdout",
     "output_type": "stream",
     "text": [
      "{\n",
      "  \"_index\" : \"megacorp\",\n",
      "  \"_type\" : \"employee\",\n",
      "  \"_id\" : \"1\",\n",
      "  \"_version\" : 9,\n",
      "  \"created\" : false\n",
      "}\n",
      "\n"
     ]
    }
   ],
   "source": [
    "employee = \"\"\"\n",
    "{\n",
    "    \"first_name\" : \"John\",\n",
    "    \"last_name\" :  \"Smith\",\n",
    "    \"age\" :        25,\n",
    "    \"about\" :      \"I love to go rock climbing\",\n",
    "    \"interests\": [ \"sports\", \"music\" ]\n",
    "}\n",
    "\"\"\"\n",
    "\n",
    "r = requests.put('http://localhost:9200/megacorp/employee/1?pretty', \n",
    "                 data = employee)\n",
    "print r.text\n"
   ]
  },
  {
   "cell_type": "markdown",
   "metadata": {
    "slideshow": {
     "slide_type": "skip"
    }
   },
   "source": [
    "[TODO] Explicar el significado de cada parte de la url\n",
    "[TODO] Explicar los diferentes tipos de campos: texto, numéricos, listas, datetimes\n",
    "\n",
    "ES creates if not exist:\n",
    "\n",
    " * an **index** (*megacorp*)  \n",
    " * a **document type** (*employee*)"
   ]
  },
  {
   "cell_type": "markdown",
   "metadata": {
    "slideshow": {
     "slide_type": "subslide"
    }
   },
   "source": [
    "### Document metadata\n",
    "\n",
    "A document has metadata information:\n",
    "\n",
    " - **_index**: Where the document lives\n",
    " - **_type**:  The class of object that the document represents\n",
    " - **_id**:    The unique identifier for the document. \n",
    "   -  It is always a string. To be precise:  20 character long, URL-safe, Base64-encoded string universally unique identifiers, or UUIDs.\n",
    "   - We can provide our ids or let ES create them for us. \n",
    "\n",
    "_index, _type and _id identifies a document\n",
    "\n",
    "\n",
    "#### Other metadata\n",
    "\n",
    " - **_version**\n",
    "  "
   ]
  },
  {
   "cell_type": "code",
   "execution_count": null,
   "metadata": {
    "collapsed": true,
    "slideshow": {
     "slide_type": "subslide"
    }
   },
   "outputs": [],
   "source": [
    "employee2 = \"\"\"\n",
    "{\n",
    "    \"first_name\" :  \"Jane\",\n",
    "    \"last_name\" :   \"Smith\",\n",
    "    \"age\" :         32,\n",
    "    \"about\" :       \"I like to collect rock albums\",\n",
    "    \"interests\":  [ \"music\" ]\n",
    "}\n",
    "\"\"\"\n",
    "\n",
    "employee3 = \"\"\"\n",
    "{\n",
    "    \"first_name\" :  \"Douglas\",\n",
    "    \"last_name\" :   \"Fir\",\n",
    "    \"age\" :         35,\n",
    "    \"about\":        \"I like to build cabinets\",\n",
    "    \"interests\":  [ \"forestry\" ]\n",
    "}\n",
    "\"\"\"\n",
    "\n",
    "r = requests.put('http://localhost:9200/megacorp/employee/2', data = employee2)\n",
    "r = requests.put('http://localhost:9200/megacorp/employee/3', data = employee3)\n"
   ]
  },
  {
   "cell_type": "markdown",
   "metadata": {
    "slideshow": {
     "slide_type": "slide"
    }
   },
   "source": [
    "### Retrieving documents by id\n",
    "Get a complete document by id"
   ]
  },
  {
   "cell_type": "code",
   "execution_count": null,
   "metadata": {
    "collapsed": false
   },
   "outputs": [],
   "source": [
    "r = requests.get('http://localhost:9200/megacorp/employee/2?pretty')\n",
    "print r.text"
   ]
  },
  {
   "cell_type": "markdown",
   "metadata": {
    "slideshow": {
     "slide_type": "subslide"
    }
   },
   "source": [
    "### Retrieving a document that do not exists"
   ]
  },
  {
   "cell_type": "code",
   "execution_count": null,
   "metadata": {
    "collapsed": false
   },
   "outputs": [],
   "source": [
    "r = requests.get('http://localhost:9200/megacorp/employee/200?pretty')\n",
    "print 'Status: ', r.status_code, '\\n'\n",
    "print r.text"
   ]
  },
  {
   "cell_type": "markdown",
   "metadata": {
    "slideshow": {
     "slide_type": "subslide"
    }
   },
   "source": [
    "### Retrieving part of a document\n",
    "\n",
    "Select only certain fields..."
   ]
  },
  {
   "cell_type": "code",
   "execution_count": null,
   "metadata": {
    "collapsed": false
   },
   "outputs": [],
   "source": [
    "r = requests.get('http://localhost:9200/megacorp/employee/2?_source=first_name,last_name&pretty')\n",
    "print r.text"
   ]
  },
  {
   "cell_type": "markdown",
   "metadata": {
    "slideshow": {
     "slide_type": "subslide"
    }
   },
   "source": [
    "### Retrieving document content - no metadata"
   ]
  },
  {
   "cell_type": "code",
   "execution_count": null,
   "metadata": {
    "collapsed": false,
    "slideshow": {
     "slide_type": "-"
    }
   },
   "outputs": [],
   "source": [
    "r = requests.get('http://localhost:9200/megacorp/employee/2/_source')\n",
    "print r.text"
   ]
  },
  {
   "cell_type": "markdown",
   "metadata": {
    "slideshow": {
     "slide_type": "slide"
    }
   },
   "source": [
    "### Other operations on documents\n",
    "\n",
    "- Delete a document - DELETE \n",
    "- Check if a document exists - HEAD  \n",
    "- Update a whole document - just PUT another document\n",
    "- Update a partial document POST /_update \n",
    "   - allow to add fields \n",
    "   - merge documents\n",
    "- create and assign an unique id - POST\n",
    "- create if not exists - POST /_create\n",
    "- retrieving multiple documents - GET /mget or /<index>/<type>/_mget\n",
    "- execute actions in bulk  -bulk API"
   ]
  },
  {
   "cell_type": "markdown",
   "metadata": {
    "slideshow": {
     "slide_type": "subslide"
    }
   },
   "source": [
    "\n",
    "### Delete a document\n",
    "\n",
    "- doesn’t immediately remove the document from disk\n",
    "- marks the document as deleted. \n",
    "- clean up deleted documents in the background\n",
    "\n",
    "### Update a document \n",
    "\n",
    "- Marks the old version as deleted and index a new version\n",
    "\n",
    "### Partial updates\n",
    " - Add fields \n",
    " - Modify values \n",
    " - Add values to collection fields"
   ]
  },
  {
   "cell_type": "markdown",
   "metadata": {
    "slideshow": {
     "slide_type": "slide"
    }
   },
   "source": [
    "### Distributed document store\n",
    "- ES uses **optimistic concurrency control**\n",
    "- assumes that conflict is rare \n",
    "- Usually, ES is not your primary data store. If it is, application should take care of problems.   \n",
    "\n",
    "- Documents are also replicated to several nodes in a cluster.\n",
    "\n"
   ]
  },
  {
   "cell_type": "markdown",
   "metadata": {
    "slideshow": {
     "slide_type": "subslide"
    }
   },
   "source": [
    "### Problems with optimistic concurrency control\n",
    "\n",
    "<img src=\"https://www.elastic.co/guide/en/elasticsearch/guide/master/images/elas_0301.png\" height=\"300\" width=\"300\">\n",
    "\n"
   ]
  },
  {
   "cell_type": "markdown",
   "metadata": {
    "slideshow": {
     "slide_type": "slide"
    }
   },
   "source": [
    "## Search documents\n",
    "\n",
    "Search all documents in an index of the given type"
   ]
  },
  {
   "cell_type": "code",
   "execution_count": null,
   "metadata": {
    "collapsed": false
   },
   "outputs": [],
   "source": [
    "r = requests.get('http://localhost:9200/megacorp/employee/_search?pretty')\n",
    "print r.text"
   ]
  },
  {
   "cell_type": "markdown",
   "metadata": {},
   "source": [
    " - Hits - A list with the documents that match the query criteria \n",
    " - Score\n",
    " - Metadata about the search process"
   ]
  },
  {
   "cell_type": "markdown",
   "metadata": {
    "slideshow": {
     "slide_type": "slide"
    }
   },
   "source": [
    "Search all the documents that match a query: \"Last name is Smith\"\n",
    "\n",
    "- This is a simple example of structured search! - mix full-text search with a constraint in a field  \n",
    "\n",
    "[TODO] Explain the URL: \n",
    "  - *_search* \n",
    "  - parameter *q* \n",
    "  - field queries: *last_name:*   "
   ]
  },
  {
   "cell_type": "code",
   "execution_count": null,
   "metadata": {
    "collapsed": false
   },
   "outputs": [],
   "source": [
    "r = requests.get('http://localhost:9200/megacorp/employee/_search?q=last_name:Smith&pretty')\n",
    "print r.text    "
   ]
  },
  {
   "cell_type": "markdown",
   "metadata": {
    "slideshow": {
     "slide_type": "slide"
    }
   },
   "source": [
    "Search a text field using keywords\n",
    " - What happens with the score?   "
   ]
  },
  {
   "cell_type": "code",
   "execution_count": null,
   "metadata": {
    "collapsed": false
   },
   "outputs": [],
   "source": [
    "r = requests.get('http://localhost:9200/megacorp/employee/_search?q=about:rock&pretty')\n",
    "print r.text "
   ]
  },
  {
   "cell_type": "markdown",
   "metadata": {
    "slideshow": {
     "slide_type": "slide"
    }
   },
   "source": [
    "### Search with Query DSL\n",
    "\n",
    "- Query DSL - Domain Specific Language for querying document databases\n",
    "\n",
    "We can rewrite the simple query as a __match__ query "
   ]
  },
  {
   "cell_type": "code",
   "execution_count": 41,
   "metadata": {
    "collapsed": false,
    "slideshow": {
     "slide_type": "subslide"
    }
   },
   "outputs": [
    {
     "name": "stdout",
     "output_type": "stream",
     "text": [
      "{\n",
      "  \"took\" : 5,\n",
      "  \"timed_out\" : false,\n",
      "  \"_shards\" : {\n",
      "    \"total\" : 1,\n",
      "    \"successful\" : 1,\n",
      "    \"failed\" : 0\n",
      "  },\n",
      "  \"hits\" : {\n",
      "    \"total\" : 2,\n",
      "    \"max_score\" : 1.0,\n",
      "    \"hits\" : [ {\n",
      "      \"_index\" : \"megacorp\",\n",
      "      \"_type\" : \"employee\",\n",
      "      \"_id\" : \"2\",\n",
      "      \"_score\" : 1.0,\n",
      "      \"_source\":\n",
      "{\n",
      "    \"first_name\" :  \"Jane\",\n",
      "    \"last_name\" :   \"Smith\",\n",
      "    \"age\" :         32,\n",
      "    \"about\" :       \"I like to collect rock albums\",\n",
      "    \"interests\":  [ \"music\" ]\n",
      "}\n",
      "\n",
      "    }, {\n",
      "      \"_index\" : \"megacorp\",\n",
      "      \"_type\" : \"employee\",\n",
      "      \"_id\" : \"1\",\n",
      "      \"_score\" : 1.0,\n",
      "      \"_source\":\n",
      "{\n",
      "    \"first_name\" : \"John\",\n",
      "    \"last_name\" :  \"Smith\",\n",
      "    \"age\" :        25,\n",
      "    \"about\" :      \"I love to go rock climbing\",\n",
      "    \"interests\": [ \"sports\", \"music\" ]\n",
      "}\n",
      "\n",
      "    } ]\n",
      "  }\n",
      "}\n",
      "\n"
     ]
    }
   ],
   "source": [
    "payload = \"\"\"\n",
    "{\n",
    "    \"query\" : {\n",
    "        \"match\" : {\n",
    "            \"last_name\" : \"Smith\"\n",
    "        }\n",
    "    }\n",
    "}\n",
    "\"\"\"\n",
    "\n",
    "r = requests.get('http://localhost:9200/megacorp/employee/_search?pretty', data = payload)\n",
    "print r.text    "
   ]
  },
  {
   "cell_type": "markdown",
   "metadata": {
    "slideshow": {
     "slide_type": "slide"
    }
   },
   "source": [
    "### Search DSL - apply a filter\n",
    "\n",
    "Select only those employees with **age>30** with **last_name = \"Smith\"**\n",
    "\n",
    "Apply a filter to the documents and then match the query\n"
   ]
  },
  {
   "cell_type": "code",
   "execution_count": null,
   "metadata": {
    "collapsed": true
   },
   "outputs": [],
   "source": [
    "payload = \"\"\"\n",
    "{\n",
    "    \"query\" : {\n",
    "        \"filtered\" : {\n",
    "            \"filter\" : {\n",
    "                \"range\" : {\n",
    "                    \"age\" : { \"gt\" : 30 } \n",
    "                }\n",
    "            },\n",
    "            \"query\" : {\n",
    "                \"match\" : {\n",
    "                    \"last_name\" : \"smith\" \n",
    "                }\n",
    "            }\n",
    "        }\n",
    "    }\n",
    "}\n",
    "\"\"\"\n",
    "\n",
    "r = requests.get('http://localhost:9200/megacorp/employee/_search?pretty', data = payload)\n",
    "print r.text    "
   ]
  },
  {
   "cell_type": "markdown",
   "metadata": {
    "slideshow": {
     "slide_type": "slide"
    }
   },
   "source": [
    "### Full text search \n",
    "- Complex queries\n",
    "- Relevance: each document has a different score that represents the relevance to the query \n",
    "   "
   ]
  },
  {
   "cell_type": "code",
   "execution_count": null,
   "metadata": {
    "collapsed": false
   },
   "outputs": [],
   "source": [
    "payload = \"\"\"\n",
    "{\n",
    "    \"query\" : {\n",
    "        \"match\" : {\n",
    "            \"about\" : \"rock climbing\"\n",
    "        }\n",
    "    }\n",
    "}\n",
    "\"\"\"\n",
    "\n",
    "r = requests.get('http://localhost:9200/megacorp/employee/_search?pretty', data = payload)\n",
    "print r.text    "
   ]
  },
  {
   "cell_type": "markdown",
   "metadata": {
    "slideshow": {
     "slide_type": "slide"
    }
   },
   "source": [
    "### Phrase search\n",
    "\n",
    "-  **match: rock climbing** - matches *rock* or *climbing*, better score if the two terms appear\n",
    "-  **match_phrase: \"rock climbing\"** - matches the phrase *\"rock climbing\"*, both terms should appear in the document and in order\n"
   ]
  },
  {
   "cell_type": "code",
   "execution_count": null,
   "metadata": {
    "collapsed": false
   },
   "outputs": [],
   "source": [
    "payload = \"\"\"\n",
    "{\n",
    "    \"query\" : {\n",
    "        \"match_phrase\" : {\n",
    "            \"about\" : \"rock climbing\"\n",
    "        }\n",
    "    }\n",
    "}\n",
    "\"\"\"\n",
    "\n",
    "r = requests.get('http://localhost:9200/megacorp/employee/_search?pretty', data = payload)\n",
    "print r.text    "
   ]
  }
 ],
 "metadata": {
  "celltoolbar": "Slideshow",
  "kernelspec": {
   "display_name": "Python 2",
   "language": "python",
   "name": "python2"
  },
  "language_info": {
   "codemirror_mode": {
    "name": "ipython",
    "version": 2
   },
   "file_extension": ".py",
   "mimetype": "text/x-python",
   "name": "python",
   "nbconvert_exporter": "python",
   "pygments_lexer": "ipython2",
   "version": "2.7.10"
  }
 },
 "nbformat": 4,
 "nbformat_minor": 0
}
