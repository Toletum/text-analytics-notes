{
 "cells": [
  {
   "cell_type": "markdown",
   "metadata": {
    "slideshow": {
     "slide_type": "slide"
    }
   },
   "source": [
    "Elasticsearch\n",
    "# Indexación de documentos\n",
    "\n",
    "<p style=\"font-size: large; margin-top: 100px;\">César de Pablo Sánchez</p>\n",
    "<p style=\"font-size: large\">@zdepablo</p>"
   ]
  },
  {
   "cell_type": "code",
   "execution_count": 6,
   "metadata": {
    "collapsed": true,
    "slideshow": {
     "slide_type": "skip"
    }
   },
   "outputs": [],
   "source": [
    "## Code from: https://www.reddit.com/r/IPython/comments/34t4m7/lpt_print_json_in_collapsible_format_in_ipython/\n",
    "\n",
    "import uuid\n",
    "from IPython.display import display_javascript, display_html, display\n",
    "import json\n",
    "\n",
    "class RenderJSON(object):\n",
    "    def __init__(self, json_data):\n",
    "        if isinstance(json_data, dict):\n",
    "            self.json_str = json.dumps(json_data)\n",
    "        else:\n",
    "            self.json_str = json\n",
    "        self.uuid = str(uuid.uuid4())\n",
    "\n",
    "    def _ipython_display_(self):\n",
    "        display_html('<div id=\"{}\" style=\"height: 600px; width:100%;\"></div>'.format(self.uuid),\n",
    "            raw=True\n",
    "        )\n",
    "        display_javascript(\"\"\"\n",
    "        require([\"https://rawgit.com/caldwell/renderjson/master/renderjson.js\"], function() {\n",
    "          document.getElementById('%s').appendChild(renderjson(%s))\n",
    "        });\n",
    "        \"\"\" % (self.uuid, self.json_str), raw=True)"
   ]
  },
  {
   "cell_type": "markdown",
   "metadata": {
    "slideshow": {
     "slide_type": "slide"
    }
   },
   "source": [
    "## Indexación de documentos\n",
    " - Gestión de los índices \n",
    " - Gestión de los esquemas (mappings) \n",
    " - Tipos de datos\n",
    " - Análisis de texto"
   ]
  },
  {
   "cell_type": "markdown",
   "metadata": {
    "slideshow": {
     "slide_type": "slide"
    }
   },
   "source": [
    "## Gestión de los índices\n",
    " - ES gestiona automaticamente la creacion de indices y tipos de documentos al crear un índice\n",
    "     - Sin embargo, no siempre es el comportamiento deseado\n",
    " - Podemos gestionar índices con la API de indices\n",
    "    - operaciones CRUD sobre un índice: GET, POST, PUT, DELETE\n",
    "    "
   ]
  },
  {
   "cell_type": "markdown",
   "metadata": {
    "slideshow": {
     "slide_type": "slide"
    }
   },
   "source": [
    "## Proceso de indexación\n",
    " - Indexacion es un proceso generalmente batch\n",
    "     - no es posible cambiar muchas opciones despues de haber creado el índice\n",
    "     - cualquier cambio generalmente requiere reindexar\n",
    "     \n",
    " - ES tiene la opcion de indexar de forma incremental, incluso en (Near) Real Time \n",
    " "
   ]
  },
  {
   "cell_type": "markdown",
   "metadata": {
    "slideshow": {
     "slide_type": "subslide"
    }
   },
   "source": [
    "## Obteniendo información de un índice"
   ]
  },
  {
   "cell_type": "code",
   "execution_count": 1,
   "metadata": {
    "collapsed": false,
    "slideshow": {
     "slide_type": "-"
    }
   },
   "outputs": [
    {
     "name": "stdout",
     "output_type": "stream",
     "text": [
      "{\n",
      "  \"error\" : {\n",
      "    \"root_cause\" : [ {\n",
      "      \"type\" : \"index_not_found_exception\",\n",
      "      \"reason\" : \"no such index\",\n",
      "      \"resource.type\" : \"index_or_alias\",\n",
      "      \"resource.id\" : \"myindex\",\n",
      "      \"index\" : \"myindex\"\n",
      "    } ],\n",
      "    \"type\" : \"index_not_found_exception\",\n",
      "    \"reason\" : \"no such index\",\n",
      "    \"resource.type\" : \"index_or_alias\",\n",
      "    \"resource.id\" : \"myindex\",\n",
      "    \"index\" : \"myindex\"\n",
      "  },\n",
      "  \"status\" : 404\n",
      "}\n",
      "\n"
     ]
    }
   ],
   "source": [
    "import requests\n",
    "\n",
    "# El indice no existe\n",
    "r = requests.get('http://localhost:9200/myindex?pretty')\n",
    "print r.text"
   ]
  },
  {
   "cell_type": "markdown",
   "metadata": {
    "slideshow": {
     "slide_type": "slide"
    }
   },
   "source": [
    "## Creando un índice\n",
    " - al crear podemos definir parámetros de configuración: \n",
    "    - Replicacion y distribución del índice\n",
    "    - Analizadores por defecto\n",
    "    - Medida de relevancia \n",
    "    - etc."
   ]
  },
  {
   "cell_type": "markdown",
   "metadata": {
    "slideshow": {
     "slide_type": "subslide"
    }
   },
   "source": [
    "## Creando un índice"
   ]
  },
  {
   "cell_type": "code",
   "execution_count": 2,
   "metadata": {
    "collapsed": false,
    "slideshow": {
     "slide_type": "-"
    }
   },
   "outputs": [
    {
     "data": {
      "text/plain": [
       "{u'acknowledged': True}"
      ]
     },
     "execution_count": 2,
     "metadata": {},
     "output_type": "execute_result"
    }
   ],
   "source": [
    "index_options = \"\"\"\n",
    "{\n",
    "    \"settings\" : {\n",
    "        \"index\" : {\n",
    "            \"number_of_shards\" : 3,\n",
    "            \"number_of_replicas\" : 2\n",
    "        }\n",
    "    }\n",
    "}\n",
    "\"\"\"\n",
    "\n",
    "# Creamos un indice \n",
    "r = requests.put('http://localhost:9200/tvseries', data = index_options)\n",
    "r.json()"
   ]
  },
  {
   "cell_type": "code",
   "execution_count": 3,
   "metadata": {
    "collapsed": false,
    "slideshow": {
     "slide_type": "subslide"
    }
   },
   "outputs": [
    {
     "name": "stdout",
     "output_type": "stream",
     "text": [
      "{\n",
      "  \"tvseries\" : {\n",
      "    \"aliases\" : { },\n",
      "    \"mappings\" : { },\n",
      "    \"settings\" : {\n",
      "      \"index\" : {\n",
      "        \"creation_date\" : \"1456516494362\",\n",
      "        \"number_of_shards\" : \"3\",\n",
      "        \"number_of_replicas\" : \"2\",\n",
      "        \"uuid\" : \"f0hoEKnKRC-GAV80Hsn97A\",\n",
      "        \"version\" : {\n",
      "          \"created\" : \"2010099\"\n",
      "        }\n",
      "      }\n",
      "    },\n",
      "    \"warmers\" : { }\n",
      "  }\n",
      "}\n",
      "\n"
     ]
    }
   ],
   "source": [
    "r = requests.get('http://localhost:9200/tvseries?pretty')\n",
    "print r.text"
   ]
  },
  {
   "cell_type": "code",
   "execution_count": 13,
   "metadata": {
    "collapsed": false,
    "slideshow": {
     "slide_type": "skip"
    }
   },
   "outputs": [
    {
     "name": "stdout",
     "output_type": "stream",
     "text": [
      "{\n",
      "  \"tvseries\" : {\n",
      "    \"aliases\" : { }\n",
      "  }\n",
      "}\n",
      "\n"
     ]
    }
   ],
   "source": [
    "r = requests.get('http://localhost:9200/tvseries/_aliases?pretty')\n",
    "print r.text"
   ]
  },
  {
   "cell_type": "markdown",
   "metadata": {
    "slideshow": {
     "slide_type": "subslide"
    }
   },
   "source": [
    "## Borrando el índice"
   ]
  },
  {
   "cell_type": "code",
   "execution_count": 23,
   "metadata": {
    "collapsed": false,
    "slideshow": {
     "slide_type": "-"
    }
   },
   "outputs": [
    {
     "data": {
      "text/plain": [
       "{u'acknowledged': True}"
      ]
     },
     "execution_count": 23,
     "metadata": {},
     "output_type": "execute_result"
    }
   ],
   "source": [
    "# Borramos un indice \n",
    "r = requests.delete('http://localhost:9200/tvseries')\n",
    "r.json()"
   ]
  },
  {
   "cell_type": "markdown",
   "metadata": {
    "slideshow": {
     "slide_type": "subslide"
    }
   },
   "source": [
    "## Cerrando y abriendo índices \n",
    "  - Un indice cerrado\n",
    "    - no se puede consultar \n",
    "    - no requiere espacio en memoria\n",
    "    - permanece usando disco"
   ]
  },
  {
   "cell_type": "code",
   "execution_count": 20,
   "metadata": {
    "collapsed": false,
    "slideshow": {
     "slide_type": "fragment"
    }
   },
   "outputs": [
    {
     "name": "stdout",
     "output_type": "stream",
     "text": [
      "{\"acknowledged\":true}\n"
     ]
    }
   ],
   "source": [
    "r = requests.post('http://localhost:9200/tvseries/_close')\n",
    "print r.text"
   ]
  },
  {
   "cell_type": "code",
   "execution_count": 25,
   "metadata": {
    "collapsed": false,
    "slideshow": {
     "slide_type": "fragment"
    }
   },
   "outputs": [
    {
     "name": "stdout",
     "output_type": "stream",
     "text": [
      "{\"acknowledged\":true}\n"
     ]
    }
   ],
   "source": [
    "r = requests.post('http://localhost:9200/tvseries/_open')\n",
    "print r.text"
   ]
  },
  {
   "cell_type": "markdown",
   "metadata": {
    "slideshow": {
     "slide_type": "slide"
    }
   },
   "source": [
    "## Otras operaciones de administración sobre el índice\n",
    "\n",
    "Estas operaciones se realizan de forma automática, pero se pueden forzar de forma manual \n",
    "\n",
    "  - **Optimizar** - Reduce el número de segmentos de índice de Lucene. A medida que se indexan documentos aumenta el número de segmentos que Lucene usa. Podemos forzar a que cree segmentos los más grandes posibles. \n",
    "  - **Refrescar** - Actualiza las últimas operaciones del índice\n",
    "  - **Flush**  - Libera memoria y actualiza el log transaccional \n",
    "  - **Limpiar cache** - vacia la cache del índice. Por razones de rendimiento cada nodo mantiene ciertas partes del índice. "
   ]
  },
  {
   "cell_type": "markdown",
   "metadata": {
    "slideshow": {
     "slide_type": "subslide"
    }
   },
   "source": [
    "## Otras operaciones de administración sobre el índice\n",
    "\n",
    "Se invocan como las operaciones de cerrar y abrir:  \n",
    "  <pre> Ejemplo: POST &lt;index&gt;/_flush </pre>"
   ]
  },
  {
   "cell_type": "markdown",
   "metadata": {
    "slideshow": {
     "slide_type": "slide"
    }
   },
   "source": [
    "## Tipos de documentos\n",
    "\n",
    "En una BBDD relacional se definen las entidades y el tipo de datos en el esquema físico => CREATE TABLE\n",
    "\n",
    "En un sistema de búsqueda, los tipos de documentos se definen mediante un mapeo (*mappings*)\n",
    "  - ES no requiere definir un esquema, puede inferirlo => *dynamic mapping*\n",
    "  - *dynamic mapping* es intereante durante el desarrollo\n",
    "  - Sin embargo, generalmente se requiere más control\n",
    "  "
   ]
  },
  {
   "cell_type": "markdown",
   "metadata": {
    "slideshow": {
     "slide_type": "slide"
    }
   },
   "source": [
    "##  Mapeos (*Mappings*) \n",
    "  - Un mapeo permite definir los tipos de cada uno de los campos de un documentos y como se almacenan\n",
    "  - Cada mapeo generalmente está asociado a un índice. \n",
    "  - La API de mappings permite: \n",
    "     - Gestionar los mapeos - operaciones CRUD \n",
    "     - Añadir o borrar campos a cada uno de los mapeos"
   ]
  },
  {
   "cell_type": "markdown",
   "metadata": {
    "slideshow": {
     "slide_type": "subslide"
    }
   },
   "source": [
    "## Obteniendo el mapeo de un tipo\n",
    "  - El índice *megacorps* y el tipo *employee* se crearon por defecto al añadir un documento "
   ]
  },
  {
   "cell_type": "code",
   "execution_count": 5,
   "metadata": {
    "collapsed": false,
    "slideshow": {
     "slide_type": "skip"
    }
   },
   "outputs": [],
   "source": [
    "import requests\n",
    "\n",
    "employee = \"\"\"\n",
    "{\n",
    "    \"first_name\" : \"John\",\n",
    "    \"last_name\" :  \"Smith\",\n",
    "    \"age\" :        25,\n",
    "    \"about\" :      \"I love to go rock climbing\",\n",
    "    \"interests\": [ \"sports\", \"music\" ]\n",
    "}\n",
    "\"\"\"\n",
    "\n",
    "r = requests.put('http://localhost:9200/megacorp/employee/1?pretty', \n",
    "                 data = employee)"
   ]
  },
  {
   "cell_type": "code",
   "execution_count": 8,
   "metadata": {
    "collapsed": false
   },
   "outputs": [],
   "source": [
    "r = requests.get('http://localhost:9200/megacorp/_mappings')"
   ]
  },
  {
   "cell_type": "code",
   "execution_count": 10,
   "metadata": {
    "collapsed": false,
    "slideshow": {
     "slide_type": "subslide"
    }
   },
   "outputs": [
    {
     "data": {
      "text/html": [
       "<div id=\"1ee0ce8f-a475-4c4f-aa67-a296237aecfc\" style=\"height: 600px; width:100%;\"></div>"
      ]
     },
     "metadata": {},
     "output_type": "display_data"
    },
    {
     "data": {
      "application/javascript": [
       "\n",
       "        require([\"https://rawgit.com/caldwell/renderjson/master/renderjson.js\"], function() {\n",
       "          document.getElementById('1ee0ce8f-a475-4c4f-aa67-a296237aecfc').appendChild(renderjson({\"megacorp\": {\"mappings\": {\"employee\": {\"properties\": {\"interests\": {\"type\": \"string\"}, \"about\": {\"type\": \"string\"}, \"last_name\": {\"type\": \"string\"}, \"age\": {\"type\": \"long\"}, \"first_name\": {\"type\": \"string\"}}}}}}))\n",
       "        });\n",
       "        "
      ]
     },
     "metadata": {},
     "output_type": "display_data"
    }
   ],
   "source": [
    "RenderJSON(r.json())"
   ]
  },
  {
   "cell_type": "code",
   "execution_count": 29,
   "metadata": {
    "collapsed": false,
    "slideshow": {
     "slide_type": "skip"
    }
   },
   "outputs": [
    {
     "name": "stdout",
     "output_type": "stream",
     "text": [
      "{\n",
      "  \"tvseries\" : {\n",
      "    \"mappings\" : { }\n",
      "  }\n",
      "}\n",
      "\n"
     ]
    }
   ],
   "source": [
    "r = requests.get('http://localhost:9200/tvseries/_mappings?pretty')\n",
    "print r.text"
   ]
  },
  {
   "cell_type": "code",
   "execution_count": 7,
   "metadata": {
    "collapsed": false,
    "slideshow": {
     "slide_type": "slide"
    }
   },
   "outputs": [],
   "source": [
    "breaking_bad = requests.get('http://api.tvmaze.com/singlesearch/shows?q=breaking-bad')"
   ]
  },
  {
   "cell_type": "code",
   "execution_count": 8,
   "metadata": {
    "collapsed": false
   },
   "outputs": [
    {
     "data": {
      "text/html": [
       "<div id=\"52c34074-83a4-4120-9b3d-c74e090ced6d\" style=\"height: 600px; width:100%;\"></div>"
      ]
     },
     "metadata": {},
     "output_type": "display_data"
    },
    {
     "data": {
      "application/javascript": [
       "\n",
       "        require([\"https://rawgit.com/caldwell/renderjson/master/renderjson.js\"], function() {\n",
       "          document.getElementById('52c34074-83a4-4120-9b3d-c74e090ced6d').appendChild(renderjson({\"status\": \"Ended\", \"rating\": {\"average\": 9.4}, \"genres\": [\"Drama\", \"Crime\", \"Thriller\"], \"weight\": 4, \"updated\": 1456333620, \"name\": \"Breaking Bad\", \"language\": \"English\", \"schedule\": {\"days\": [\"Sunday\"], \"time\": \"22:00\"}, \"url\": \"http://www.tvmaze.com/shows/169/breaking-bad\", \"image\": {\"medium\": \"http://tvmazecdn.com/uploads/images/medium_portrait/0/2400.jpg\", \"original\": \"http://tvmazecdn.com/uploads/images/original_untouched/0/2400.jpg\"}, \"externals\": {\"thetvdb\": 81189, \"tvrage\": 18164, \"imdb\": \"tt0903747\"}, \"premiered\": \"2008-01-20\", \"summary\": \"<p><em><strong>\\\"Breaking Bad\\\"</strong></em> follows protagonist Walter White, a chemistry teacher who lives in New Mexico with his wife and teenage son who has cerebral palsy. White is diagnosed with Stage III cancer and given a prognosis of two years left to live. With a new sense of fearlessness based on his medical prognosis, and a desire to secure his family's financial security, White chooses to enter a dangerous world of drugs and crime and ascends to power in this world. The series explores how a fatal diagnosis such as White's releases a typical man from the daily concerns and constraints of normal society and follows his transformation from mild family man to a kingpin of the drug trade.</p>\", \"_links\": {\"previousepisode\": {\"href\": \"http://api.tvmaze.com/episodes/12253\"}, \"self\": {\"href\": \"http://api.tvmaze.com/shows/169\"}}, \"webChannel\": null, \"runtime\": 60, \"type\": \"Scripted\", \"id\": 169, \"network\": {\"country\": {\"timezone\": \"America/New_York\", \"code\": \"US\", \"name\": \"United States\"}, \"id\": 20, \"name\": \"AMC\"}}))\n",
       "        });\n",
       "        "
      ]
     },
     "metadata": {},
     "output_type": "display_data"
    }
   ],
   "source": [
    "RenderJSON(breaking_bad.json())"
   ]
  },
  {
   "cell_type": "markdown",
   "metadata": {
    "slideshow": {
     "slide_type": "skip"
    }
   },
   "source": [
    "JSON formatter: https://jsonformatter.curiousconcept.com/"
   ]
  },
  {
   "cell_type": "code",
   "execution_count": 53,
   "metadata": {
    "collapsed": false,
    "slideshow": {
     "slide_type": "skip"
    }
   },
   "outputs": [
    {
     "data": {
      "text/plain": [
       "u'{\"acknowledged\":true}'"
      ]
     },
     "execution_count": 53,
     "metadata": {},
     "output_type": "execute_result"
    }
   ],
   "source": [
    "r = requests.delete('http://localhost:9200/tvseries/')\n",
    "r.text"
   ]
  },
  {
   "cell_type": "code",
   "execution_count": 9,
   "metadata": {
    "collapsed": false,
    "slideshow": {
     "slide_type": "subslide"
    }
   },
   "outputs": [
    {
     "data": {
      "text/html": [
       "<div id=\"fbffe457-99ad-400c-ac17-f6d43a9e0178\" style=\"height: 600px; width:100%;\"></div>"
      ]
     },
     "metadata": {},
     "output_type": "display_data"
    },
    {
     "data": {
      "application/javascript": [
       "\n",
       "        require([\"https://rawgit.com/caldwell/renderjson/master/renderjson.js\"], function() {\n",
       "          document.getElementById('fbffe457-99ad-400c-ac17-f6d43a9e0178').appendChild(renderjson({\"status\": 503, \"error\": {\"root_cause\": [{\"reason\": \"[tvseries][0] Not enough active copies to meet write consistency of [QUORUM] (have 1, needed 2). Timeout: [1m], request: index {[tvseries][serie][169], source[{\\\"id\\\":169,\\\"url\\\":\\\"http://www.tvmaze.com/shows/169/breaking-bad\\\",\\\"name\\\":\\\"Breaking Bad\\\",\\\"type\\\":\\\"Scripted\\\",\\\"language\\\":\\\"English\\\",\\\"genres\\\":[\\\"Drama\\\",\\\"Crime\\\",\\\"Thriller\\\"],\\\"status\\\":\\\"Ended\\\",\\\"runtime\\\":60,\\\"premiered\\\":\\\"2008-01-20\\\",\\\"schedule\\\":{\\\"time\\\":\\\"22:00\\\",\\\"days\\\":[\\\"Sunday\\\"]},\\\"rating\\\":{\\\"average\\\":9.4},\\\"weight\\\":4,\\\"network\\\":{\\\"id\\\":20,\\\"name\\\":\\\"AMC\\\",\\\"country\\\":{\\\"name\\\":\\\"United States\\\",\\\"code\\\":\\\"US\\\",\\\"timezone\\\":\\\"America/New_York\\\"}},\\\"webChannel\\\":null,\\\"externals\\\":{\\\"tvrage\\\":18164,\\\"thetvdb\\\":81189,\\\"imdb\\\":\\\"tt0903747\\\"},\\\"image\\\":{\\\"medium\\\":\\\"http://tvmazecdn.com/uploads/images/medium_portrait/0/2400.jpg\\\",\\\"original\\\":\\\"http://tvmazecdn.com/uploads/images/original_untouched/0/2400.jpg\\\"},\\\"summary\\\":\\\"<p><em><strong>\\\\\\\"Breaking Bad\\\\\\\"</strong></em> follows protagonist Walter White, a chemistry teacher who lives in New Mexico with his wife and teenage son who has cerebral palsy. White is diagnosed with Stage III cancer and given a prognosis of two years left to live. With a new sense of fearlessness based on his medical prognosis, and a desire to secure his family's financial security, White chooses to enter a dangerous world of drugs and crime and ascends to power in this world. The series explores how a fatal diagnosis such as White's releases a typical man from the daily concerns and constraints of normal society and follows his transformation from mild family man to a kingpin of the drug trade.</p>\\\",\\\"updated\\\":1456333620,\\\"_links\\\":{\\\"self\\\":{\\\"href\\\":\\\"http://api.tvmaze.com/shows/169\\\"},\\\"previousepisode\\\":{\\\"href\\\":\\\"http://api.tvmaze.com/episodes/12253\\\"}}}]}\", \"type\": \"unavailable_shards_exception\"}], \"type\": \"unavailable_shards_exception\", \"reason\": \"[tvseries][0] Not enough active copies to meet write consistency of [QUORUM] (have 1, needed 2). Timeout: [1m], request: index {[tvseries][serie][169], source[{\\\"id\\\":169,\\\"url\\\":\\\"http://www.tvmaze.com/shows/169/breaking-bad\\\",\\\"name\\\":\\\"Breaking Bad\\\",\\\"type\\\":\\\"Scripted\\\",\\\"language\\\":\\\"English\\\",\\\"genres\\\":[\\\"Drama\\\",\\\"Crime\\\",\\\"Thriller\\\"],\\\"status\\\":\\\"Ended\\\",\\\"runtime\\\":60,\\\"premiered\\\":\\\"2008-01-20\\\",\\\"schedule\\\":{\\\"time\\\":\\\"22:00\\\",\\\"days\\\":[\\\"Sunday\\\"]},\\\"rating\\\":{\\\"average\\\":9.4},\\\"weight\\\":4,\\\"network\\\":{\\\"id\\\":20,\\\"name\\\":\\\"AMC\\\",\\\"country\\\":{\\\"name\\\":\\\"United States\\\",\\\"code\\\":\\\"US\\\",\\\"timezone\\\":\\\"America/New_York\\\"}},\\\"webChannel\\\":null,\\\"externals\\\":{\\\"tvrage\\\":18164,\\\"thetvdb\\\":81189,\\\"imdb\\\":\\\"tt0903747\\\"},\\\"image\\\":{\\\"medium\\\":\\\"http://tvmazecdn.com/uploads/images/medium_portrait/0/2400.jpg\\\",\\\"original\\\":\\\"http://tvmazecdn.com/uploads/images/original_untouched/0/2400.jpg\\\"},\\\"summary\\\":\\\"<p><em><strong>\\\\\\\"Breaking Bad\\\\\\\"</strong></em> follows protagonist Walter White, a chemistry teacher who lives in New Mexico with his wife and teenage son who has cerebral palsy. White is diagnosed with Stage III cancer and given a prognosis of two years left to live. With a new sense of fearlessness based on his medical prognosis, and a desire to secure his family's financial security, White chooses to enter a dangerous world of drugs and crime and ascends to power in this world. The series explores how a fatal diagnosis such as White's releases a typical man from the daily concerns and constraints of normal society and follows his transformation from mild family man to a kingpin of the drug trade.</p>\\\",\\\"updated\\\":1456333620,\\\"_links\\\":{\\\"self\\\":{\\\"href\\\":\\\"http://api.tvmaze.com/shows/169\\\"},\\\"previousepisode\\\":{\\\"href\\\":\\\"http://api.tvmaze.com/episodes/12253\\\"}}}]}\"}}))\n",
       "        });\n",
       "        "
      ]
     },
     "metadata": {},
     "output_type": "display_data"
    }
   ],
   "source": [
    "r = requests.post('http://localhost:9200/tvseries/serie/169', data = breaking_bad.text)\n",
    "RenderJSON(r.json())"
   ]
  },
  {
   "cell_type": "code",
   "execution_count": 10,
   "metadata": {
    "collapsed": false,
    "slideshow": {
     "slide_type": "subslide"
    }
   },
   "outputs": [
    {
     "data": {
      "text/html": [
       "<div id=\"a9d507f5-c137-4807-ad42-424eb2f8f397\" style=\"height: 600px; width:100%;\"></div>"
      ]
     },
     "metadata": {},
     "output_type": "display_data"
    },
    {
     "data": {
      "application/javascript": [
       "\n",
       "        require([\"https://rawgit.com/caldwell/renderjson/master/renderjson.js\"], function() {\n",
       "          document.getElementById('a9d507f5-c137-4807-ad42-424eb2f8f397').appendChild(renderjson({\"_type\": \"serie\", \"_source\": {\"status\": \"Ended\", \"rating\": {\"average\": 9.4}, \"genres\": [\"Drama\", \"Crime\", \"Thriller\"], \"weight\": 4, \"updated\": 1456333620, \"name\": \"Breaking Bad\", \"language\": \"English\", \"schedule\": {\"days\": [\"Sunday\"], \"time\": \"22:00\"}, \"url\": \"http://www.tvmaze.com/shows/169/breaking-bad\", \"image\": {\"medium\": \"http://tvmazecdn.com/uploads/images/medium_portrait/0/2400.jpg\", \"original\": \"http://tvmazecdn.com/uploads/images/original_untouched/0/2400.jpg\"}, \"externals\": {\"thetvdb\": 81189, \"tvrage\": 18164, \"imdb\": \"tt0903747\"}, \"premiered\": \"2008-01-20\", \"summary\": \"<p><em><strong>\\\"Breaking Bad\\\"</strong></em> follows protagonist Walter White, a chemistry teacher who lives in New Mexico with his wife and teenage son who has cerebral palsy. White is diagnosed with Stage III cancer and given a prognosis of two years left to live. With a new sense of fearlessness based on his medical prognosis, and a desire to secure his family's financial security, White chooses to enter a dangerous world of drugs and crime and ascends to power in this world. The series explores how a fatal diagnosis such as White's releases a typical man from the daily concerns and constraints of normal society and follows his transformation from mild family man to a kingpin of the drug trade.</p>\", \"_links\": {\"previousepisode\": {\"href\": \"http://api.tvmaze.com/episodes/12253\"}, \"self\": {\"href\": \"http://api.tvmaze.com/shows/169\"}}, \"webChannel\": null, \"runtime\": 60, \"type\": \"Scripted\", \"id\": 169, \"network\": {\"country\": {\"timezone\": \"America/New_York\", \"code\": \"US\", \"name\": \"United States\"}, \"id\": 20, \"name\": \"AMC\"}}, \"_index\": \"tvseries\", \"_version\": 1, \"found\": true, \"_id\": \"169\"}))\n",
       "        });\n",
       "        "
      ]
     },
     "metadata": {},
     "output_type": "display_data"
    }
   ],
   "source": [
    "r = requests.get('http://localhost:9200/tvseries/serie/169')\n",
    "RenderJSON(r.json())"
   ]
  },
  {
   "cell_type": "code",
   "execution_count": 18,
   "metadata": {
    "collapsed": false,
    "slideshow": {
     "slide_type": "skip"
    }
   },
   "outputs": [
    {
     "data": {
      "text/html": [
       "<div id=\"8b65215f-aad2-43e3-b291-5e859c12dce4\" style=\"height: 600px; width:100%;\"></div>"
      ]
     },
     "metadata": {},
     "output_type": "display_data"
    },
    {
     "data": {
      "application/javascript": [
       "\n",
       "        require([\"https://rawgit.com/caldwell/renderjson/master/renderjson.js\"], function() {\n",
       "          document.getElementById('8b65215f-aad2-43e3-b291-5e859c12dce4').appendChild(renderjson({\"hits\": {\"hits\": [{\"_score\": 0.15342641, \"_type\": \"serie\", \"_id\": \"169\", \"_source\": {\"status\": \"Ended\", \"rating\": {\"average\": 9.3}, \"genres\": [\"Drama\", \"Crime\", \"Thriller\"], \"weight\": 2, \"updated\": 1451250971, \"name\": \"Breaking Bad\", \"language\": \"English\", \"schedule\": {\"days\": [\"Sunday\"], \"time\": \"22:00\"}, \"url\": \"http://www.tvmaze.com/shows/169/breaking-bad\", \"image\": {\"medium\": \"http://tvmazecdn.com/uploads/images/medium_portrait/0/2400.jpg\", \"original\": \"http://tvmazecdn.com/uploads/images/original_untouched/0/2400.jpg\"}, \"externals\": {\"thetvdb\": 81189, \"tvrage\": 18164, \"imdb\": \"tt0903747\"}, \"premiered\": \"2008-01-20\", \"summary\": \"<p><em><strong>\\\"Breaking Bad\\\"</strong></em> follows protagonist Walter White, a chemistry teacher who lives in New Mexico with his wife and teenage son who has cerebral palsy. White is diagnosed with Stage III cancer and given a prognosis of two years left to live. With a new sense of fearlessness based on his medical prognosis, and a desire to secure his family's financial security, White chooses to enter a dangerous world of drugs and crime and ascends to power in this world. The series explores how a fatal diagnosis such as White's releases a typical man from the daily concerns and constraints of normal society and follows his transformation from mild family man to a kingpin of the drug trade.</p>\", \"_links\": {\"previousepisode\": {\"href\": \"http://api.tvmaze.com/episodes/12253\"}, \"self\": {\"href\": \"http://api.tvmaze.com/shows/169\"}}, \"webChannel\": null, \"runtime\": 60, \"type\": \"Scripted\", \"id\": 169, \"network\": {\"country\": {\"timezone\": \"America/New_York\", \"code\": \"US\", \"name\": \"United States\"}, \"id\": 20, \"name\": \"AMC\"}}, \"_index\": \"tvseries\"}], \"total\": 1, \"max_score\": 0.15342641}, \"_shards\": {\"successful\": 1, \"failed\": 0, \"total\": 1}, \"took\": 77, \"timed_out\": false}))\n",
       "        });\n",
       "        "
      ]
     },
     "metadata": {},
     "output_type": "display_data"
    }
   ],
   "source": [
    "r = requests.get('http://localhost:9200/tvseries/_search?q=genres:drama&pretty')\n",
    "RenderJSON(r.json())"
   ]
  },
  {
   "cell_type": "code",
   "execution_count": 11,
   "metadata": {
    "collapsed": false,
    "slideshow": {
     "slide_type": "subslide"
    }
   },
   "outputs": [
    {
     "name": "stdout",
     "output_type": "stream",
     "text": [
      "blindspot indexed: {\"_index\":\"tvseries\",\"_type\":\"serie\",\"_id\":\"1855\",\"_version\":1,\"_shards\":{\"total\":1,\"successful\":1,\"failed\":0},\"created\":true}\n",
      "the knick indexed: {\"_index\":\"tvseries\",\"_type\":\"serie\",\"_id\":\"51\",\"_version\":1,\"_shards\":{\"total\":1,\"successful\":1,\"failed\":0},\"created\":true}\n",
      "house of cards indexed: {\"_index\":\"tvseries\",\"_type\":\"serie\",\"_id\":\"175\",\"_version\":1,\"_shards\":{\"total\":1,\"successful\":1,\"failed\":0},\"created\":true}\n",
      "orange is the new black indexed: {\"_index\":\"tvseries\",\"_type\":\"serie\",\"_id\":\"170\",\"_version\":1,\"_shards\":{\"total\":1,\"successful\":1,\"failed\":0},\"created\":true}\n",
      "true detective indexed: {\"_index\":\"tvseries\",\"_type\":\"serie\",\"_id\":\"5\",\"_version\":1,\"_shards\":{\"total\":1,\"successful\":1,\"failed\":0},\"created\":true}\n",
      "game of thrones indexed: {\"_index\":\"tvseries\",\"_type\":\"serie\",\"_id\":\"82\",\"_version\":1,\"_shards\":{\"total\":1,\"successful\":1,\"failed\":0},\"created\":true}\n",
      "the tudors indexed: {\"_index\":\"tvseries\",\"_type\":\"serie\",\"_id\":\"712\",\"_version\":1,\"_shards\":{\"total\":1,\"successful\":1,\"failed\":0},\"created\":true}\n",
      "isabel indexed: {\"_index\":\"tvseries\",\"_type\":\"serie\",\"_id\":\"9274\",\"_version\":1,\"_shards\":{\"total\":1,\"successful\":1,\"failed\":0},\"created\":true}\n",
      "versailles indexed: {\"_index\":\"tvseries\",\"_type\":\"serie\",\"_id\":\"3386\",\"_version\":1,\"_shards\":{\"total\":1,\"successful\":1,\"failed\":0},\"created\":true}\n",
      "los serrano indexed: {\"_index\":\"tvseries\",\"_type\":\"serie\",\"_id\":\"6346\",\"_version\":1,\"_shards\":{\"total\":1,\"successful\":1,\"failed\":0},\"created\":true}\n"
     ]
    }
   ],
   "source": [
    "series = ['blindspot','the knick','house of cards', 'orange is the new black',\n",
    "          'true detective', 'game of thrones',\n",
    "          'the tudors','isabel', 'versailles', 'los serrano']\n",
    "\n",
    "for s in series:  \n",
    "  data = requests.get('http://api.tvmaze.com/singlesearch/shows?q=' + s ) \n",
    "  id = data.json()['id']\n",
    "  response = requests.post('http://localhost:9200/tvseries/serie/' + str(id), data = data)\n",
    "  print s + \" indexed: \" + response.text "
   ]
  },
  {
   "cell_type": "code",
   "execution_count": 20,
   "metadata": {
    "collapsed": false,
    "slideshow": {
     "slide_type": "skip"
    }
   },
   "outputs": [
    {
     "data": {
      "text/html": [
       "<div id=\"f32e23fc-44cc-434f-8667-e48423348539\" style=\"height: 600px; width:100%;\"></div>"
      ]
     },
     "metadata": {},
     "output_type": "display_data"
    },
    {
     "data": {
      "application/javascript": [
       "\n",
       "        require([\"https://rawgit.com/caldwell/renderjson/master/renderjson.js\"], function() {\n",
       "          document.getElementById('f32e23fc-44cc-434f-8667-e48423348539').appendChild(renderjson({\"hits\": {\"hits\": [{\"_score\": 1.7884574, \"_type\": \"serie\", \"_id\": \"169\", \"_source\": {\"status\": \"Ended\", \"rating\": {\"average\": 9.3}, \"genres\": [\"Drama\", \"Crime\", \"Thriller\"], \"weight\": 2, \"updated\": 1451250971, \"name\": \"Breaking Bad\", \"language\": \"English\", \"schedule\": {\"days\": [\"Sunday\"], \"time\": \"22:00\"}, \"url\": \"http://www.tvmaze.com/shows/169/breaking-bad\", \"image\": {\"medium\": \"http://tvmazecdn.com/uploads/images/medium_portrait/0/2400.jpg\", \"original\": \"http://tvmazecdn.com/uploads/images/original_untouched/0/2400.jpg\"}, \"externals\": {\"thetvdb\": 81189, \"tvrage\": 18164, \"imdb\": \"tt0903747\"}, \"premiered\": \"2008-01-20\", \"summary\": \"<p><em><strong>\\\"Breaking Bad\\\"</strong></em> follows protagonist Walter White, a chemistry teacher who lives in New Mexico with his wife and teenage son who has cerebral palsy. White is diagnosed with Stage III cancer and given a prognosis of two years left to live. With a new sense of fearlessness based on his medical prognosis, and a desire to secure his family's financial security, White chooses to enter a dangerous world of drugs and crime and ascends to power in this world. The series explores how a fatal diagnosis such as White's releases a typical man from the daily concerns and constraints of normal society and follows his transformation from mild family man to a kingpin of the drug trade.</p>\", \"_links\": {\"previousepisode\": {\"href\": \"http://api.tvmaze.com/episodes/12253\"}, \"self\": {\"href\": \"http://api.tvmaze.com/shows/169\"}}, \"webChannel\": null, \"runtime\": 60, \"type\": \"Scripted\", \"id\": 169, \"network\": {\"country\": {\"timezone\": \"America/New_York\", \"code\": \"US\", \"name\": \"United States\"}, \"id\": 20, \"name\": \"AMC\"}}, \"_index\": \"tvseries\"}, {\"_score\": 1.7884574, \"_type\": \"serie\", \"_id\": \"712\", \"_source\": {\"status\": \"Ended\", \"rating\": {\"average\": 8.8}, \"genres\": [\"Drama\", \"History\"], \"weight\": 0, \"updated\": 1449500544, \"name\": \"The Tudors\", \"language\": \"English\", \"schedule\": {\"days\": [], \"time\": \"21:00\"}, \"url\": \"http://www.tvmaze.com/shows/712/the-tudors\", \"image\": {\"medium\": \"http://tvmazecdn.com/uploads/images/medium_portrait/6/15022.jpg\", \"original\": \"http://tvmazecdn.com/uploads/images/original_untouched/6/15022.jpg\"}, \"externals\": {\"thetvdb\": 79925, \"tvrage\": 7927, \"imdb\": \"tt0758790\"}, \"premiered\": \"2007-04-01\", \"summary\": \"<p>The final season will consist of 10, one-hour episodes and center on his tumultuous relationships with his last two wives, Catherine Howard and Catherine Parr, and his final descent into madness.</p>\", \"_links\": {\"previousepisode\": {\"href\": \"http://api.tvmaze.com/episodes/62894\"}, \"self\": {\"href\": \"http://api.tvmaze.com/shows/712\"}}, \"webChannel\": null, \"runtime\": 60, \"type\": \"Scripted\", \"id\": 712, \"network\": {\"country\": {\"timezone\": \"America/New_York\", \"code\": \"US\", \"name\": \"United States\"}, \"id\": 9, \"name\": \"Showtime\"}}, \"_index\": \"tvseries\"}, {\"_score\": 1.7884574, \"_type\": \"serie\", \"_id\": \"9274\", \"_source\": {\"status\": \"Ended\", \"rating\": {\"average\": null}, \"genres\": [\"Drama\"], \"weight\": 0, \"updated\": 1455109198, \"name\": \"Isabel\", \"language\": \"Spanish\", \"schedule\": {\"days\": [], \"time\": \"\"}, \"url\": \"http://www.tvmaze.com/shows/9274/isabel\", \"image\": {\"medium\": \"http://tvmazecdn.com/uploads/images/medium_portrait/32/81594.jpg\", \"original\": \"http://tvmazecdn.com/uploads/images/original_untouched/32/81594.jpg\"}, \"externals\": {\"thetvdb\": 262381, \"tvrage\": 32792, \"imdb\": \"tt2011533\"}, \"premiered\": \"2012-09-10\", \"summary\": \"<p>Life of Isabella I of Castile, also known as Isabella the Catholic.</p>\", \"_links\": {\"previousepisode\": {\"href\": \"http://api.tvmaze.com/episodes/501878\"}, \"self\": {\"href\": \"http://api.tvmaze.com/shows/9274\"}}, \"webChannel\": null, \"runtime\": 60, \"type\": \"Scripted\", \"id\": 9274, \"network\": {\"country\": {\"timezone\": \"Europe/Madrid\", \"code\": \"ES\", \"name\": \"Spain\"}, \"id\": 147, \"name\": \"RTVE\"}}, \"_index\": \"tvseries\"}, {\"_score\": 1.7884574, \"_type\": \"serie\", \"_id\": \"6346\", \"_source\": {\"status\": \"Ended\", \"rating\": {\"average\": null}, \"genres\": [], \"weight\": 0, \"updated\": 1444993157, \"name\": \"Los Serrano\", \"language\": null, \"schedule\": {\"days\": [], \"time\": \"\"}, \"url\": \"http://www.tvmaze.com/shows/6346/los-serrano\", \"image\": {\"medium\": \"http://tvmazecdn.com/uploads/images/medium_portrait/24/60784.jpg\", \"original\": \"http://tvmazecdn.com/uploads/images/original_untouched/24/60784.jpg\"}, \"externals\": {\"thetvdb\": 83503, \"tvrage\": 7462, \"imdb\": \"tt0362372\"}, \"premiered\": \"2003-04-22\", \"summary\": \"\", \"_links\": {\"previousepisode\": {\"href\": \"http://api.tvmaze.com/episodes/377096\"}, \"self\": {\"href\": \"http://api.tvmaze.com/shows/6346\"}}, \"webChannel\": null, \"runtime\": null, \"type\": \"Scripted\", \"id\": 6346, \"network\": {\"country\": {\"timezone\": \"Europe/Madrid\", \"code\": \"ES\", \"name\": \"Spain\"}, \"id\": 96, \"name\": \"Telecinco\"}}, \"_index\": \"tvseries\"}], \"total\": 4, \"max_score\": 1.7884574}, \"_shards\": {\"successful\": 1, \"failed\": 0, \"total\": 1}, \"took\": 17, \"timed_out\": false}))\n",
       "        });\n",
       "        "
      ]
     },
     "metadata": {},
     "output_type": "display_data"
    }
   ],
   "source": [
    "r = requests.get('http://localhost:9200/tvseries/_search?q=status:ended&pretty')\n",
    "RenderJSON(r.json())"
   ]
  },
  {
   "cell_type": "markdown",
   "metadata": {
    "slideshow": {
     "slide_type": "slide"
    }
   },
   "source": [
    "## Tipos de datos (campos) :  Tipos básicos  \n",
    "\n",
    "  * Texto: string *\n",
    "  * Númericos:\n",
    "      - byte, short, integer, long\n",
    "      - float, double\n",
    "  * Booleanos: boolean\n",
    "  * Fechas: date / format\n",
    " "
   ]
  },
  {
   "cell_type": "markdown",
   "metadata": {
    "slideshow": {
     "slide_type": "slide"
    }
   },
   "source": [
    "## Tipos de datos: Texto \n",
    "En realidad el tipo string se puede tratar de multiples formas: \n",
    "\n",
    "* Keywords: \n",
    "   - para valores exactos: direcciones de correo, codigos, etiquetas\n",
    "   - se suele usar para filtrar, ordenar o agregar \n",
    "\n",
    "* Full Text:\n",
    "   - para campos de texto que nos interesa buscar: texto de la noticia. correo\n",
    "   - se suele usar para buscar "
   ]
  },
  {
   "cell_type": "markdown",
   "metadata": {
    "slideshow": {
     "slide_type": "slide"
    }
   },
   "source": [
    "## Tipos de datos textuales:  Decisiones importantes:\n",
    "\n",
    "  - ¿Cómo se indexa? \n",
    "      - index: analyzed => full text\n",
    "      - index: not_analyzed => keyword \n",
    "  - ¿cómo se analiza?  - analyzer \n",
    "  - ¿Cómo se almacena?\n",
    "      - term_vector: se almacena un vector de terminos por documento\n",
    "      - store: se almacena el contenido completo\n",
    "              \n",
    "              \n",
    "Reference: https://www.elastic.co/guide/en/elasticsearch/reference/current/string.html"
   ]
  },
  {
   "cell_type": "markdown",
   "metadata": {
    "slideshow": {
     "slide_type": "slide"
    }
   },
   "source": [
    "## Tipos de datos: Tipos complejos       \n",
    "   - Null values\n",
    "   - Arrays\n",
    "   - Objects \n",
    "   - Nested\n",
    "   - Tipos especificos ES \n",
    "        - Geocoordenadas - geo_point, geo_shape\n",
    "        - IPs\n",
    "        - Completion\n",
    "  "
   ]
  },
  {
   "cell_type": "markdown",
   "metadata": {
    "slideshow": {
     "slide_type": "slide"
    }
   },
   "source": [
    "## Analizadores\n",
    "\n",
    " - Secuencia de transformaciones que se realizan sobre un campo de texto antex de indexar. \n",
    " - Objetivo: \n",
    "    - Limpiar y normalizar el texto \n",
    "    - Mejorar la relevancia - quitando palabras comunes \n",
    "    - Añadir sinónimos\n",
    "    - etc"
   ]
  },
  {
   "cell_type": "markdown",
   "metadata": {
    "slideshow": {
     "slide_type": "subslide"
    }
   },
   "source": [
    "### Standard Analyzer"
   ]
  },
  {
   "cell_type": "code",
   "execution_count": 12,
   "metadata": {
    "collapsed": true
   },
   "outputs": [],
   "source": [
    "summary = '''Breaking Bad follows protagonist Walter White, a chemistry teacher who lives in New Mexico with his wife \n",
    "          and teenage son who has cerebral palsy. White is diagnosed with Stage III cancer and given a prognosis of \n",
    "          two years left to live. With a new sense of fearlessness based on his medical prognosis, and a desire to secure\n",
    "          his family's financial security, White chooses to enter a dangerous world of drugs and crime and ascends to power \n",
    "          in this world. The series explores how a fatal diagnosis such as White's releases a typical man from the daily \n",
    "          concerns and constraints of normal society and follows his transformation from mild family man to a kingpin \n",
    "          of the drug trade.'''\n"
   ]
  },
  {
   "cell_type": "code",
   "execution_count": 13,
   "metadata": {
    "collapsed": false,
    "slideshow": {
     "slide_type": "subslide"
    }
   },
   "outputs": [
    {
     "data": {
      "text/html": [
       "<div id=\"5d5445bb-1de3-46ec-a173-7081c92504b5\" style=\"height: 600px; width:100%;\"></div>"
      ]
     },
     "metadata": {},
     "output_type": "display_data"
    },
    {
     "data": {
      "application/javascript": [
       "\n",
       "        require([\"https://rawgit.com/caldwell/renderjson/master/renderjson.js\"], function() {\n",
       "          document.getElementById('5d5445bb-1de3-46ec-a173-7081c92504b5').appendChild(renderjson({\"tokens\": [{\"end_offset\": 8, \"token\": \"breaking\", \"type\": \"<ALPHANUM>\", \"start_offset\": 0, \"position\": 0}, {\"end_offset\": 12, \"token\": \"bad\", \"type\": \"<ALPHANUM>\", \"start_offset\": 9, \"position\": 1}, {\"end_offset\": 20, \"token\": \"follows\", \"type\": \"<ALPHANUM>\", \"start_offset\": 13, \"position\": 2}, {\"end_offset\": 32, \"token\": \"protagonist\", \"type\": \"<ALPHANUM>\", \"start_offset\": 21, \"position\": 3}, {\"end_offset\": 39, \"token\": \"walter\", \"type\": \"<ALPHANUM>\", \"start_offset\": 33, \"position\": 4}, {\"end_offset\": 45, \"token\": \"white\", \"type\": \"<ALPHANUM>\", \"start_offset\": 40, \"position\": 5}, {\"end_offset\": 48, \"token\": \"a\", \"type\": \"<ALPHANUM>\", \"start_offset\": 47, \"position\": 6}, {\"end_offset\": 58, \"token\": \"chemistry\", \"type\": \"<ALPHANUM>\", \"start_offset\": 49, \"position\": 7}, {\"end_offset\": 66, \"token\": \"teacher\", \"type\": \"<ALPHANUM>\", \"start_offset\": 59, \"position\": 8}, {\"end_offset\": 70, \"token\": \"who\", \"type\": \"<ALPHANUM>\", \"start_offset\": 67, \"position\": 9}, {\"end_offset\": 76, \"token\": \"lives\", \"type\": \"<ALPHANUM>\", \"start_offset\": 71, \"position\": 10}, {\"end_offset\": 79, \"token\": \"in\", \"type\": \"<ALPHANUM>\", \"start_offset\": 77, \"position\": 11}, {\"end_offset\": 83, \"token\": \"new\", \"type\": \"<ALPHANUM>\", \"start_offset\": 80, \"position\": 12}, {\"end_offset\": 90, \"token\": \"mexico\", \"type\": \"<ALPHANUM>\", \"start_offset\": 84, \"position\": 13}, {\"end_offset\": 95, \"token\": \"with\", \"type\": \"<ALPHANUM>\", \"start_offset\": 91, \"position\": 14}, {\"end_offset\": 99, \"token\": \"his\", \"type\": \"<ALPHANUM>\", \"start_offset\": 96, \"position\": 15}, {\"end_offset\": 104, \"token\": \"wife\", \"type\": \"<ALPHANUM>\", \"start_offset\": 100, \"position\": 16}, {\"end_offset\": 119, \"token\": \"and\", \"type\": \"<ALPHANUM>\", \"start_offset\": 116, \"position\": 17}, {\"end_offset\": 127, \"token\": \"teenage\", \"type\": \"<ALPHANUM>\", \"start_offset\": 120, \"position\": 18}, {\"end_offset\": 131, \"token\": \"son\", \"type\": \"<ALPHANUM>\", \"start_offset\": 128, \"position\": 19}, {\"end_offset\": 135, \"token\": \"who\", \"type\": \"<ALPHANUM>\", \"start_offset\": 132, \"position\": 20}, {\"end_offset\": 139, \"token\": \"has\", \"type\": \"<ALPHANUM>\", \"start_offset\": 136, \"position\": 21}, {\"end_offset\": 148, \"token\": \"cerebral\", \"type\": \"<ALPHANUM>\", \"start_offset\": 140, \"position\": 22}, {\"end_offset\": 154, \"token\": \"palsy\", \"type\": \"<ALPHANUM>\", \"start_offset\": 149, \"position\": 23}, {\"end_offset\": 161, \"token\": \"white\", \"type\": \"<ALPHANUM>\", \"start_offset\": 156, \"position\": 24}, {\"end_offset\": 164, \"token\": \"is\", \"type\": \"<ALPHANUM>\", \"start_offset\": 162, \"position\": 25}, {\"end_offset\": 174, \"token\": \"diagnosed\", \"type\": \"<ALPHANUM>\", \"start_offset\": 165, \"position\": 26}, {\"end_offset\": 179, \"token\": \"with\", \"type\": \"<ALPHANUM>\", \"start_offset\": 175, \"position\": 27}, {\"end_offset\": 185, \"token\": \"stage\", \"type\": \"<ALPHANUM>\", \"start_offset\": 180, \"position\": 28}, {\"end_offset\": 189, \"token\": \"iii\", \"type\": \"<ALPHANUM>\", \"start_offset\": 186, \"position\": 29}, {\"end_offset\": 196, \"token\": \"cancer\", \"type\": \"<ALPHANUM>\", \"start_offset\": 190, \"position\": 30}, {\"end_offset\": 200, \"token\": \"and\", \"type\": \"<ALPHANUM>\", \"start_offset\": 197, \"position\": 31}, {\"end_offset\": 206, \"token\": \"given\", \"type\": \"<ALPHANUM>\", \"start_offset\": 201, \"position\": 32}, {\"end_offset\": 208, \"token\": \"a\", \"type\": \"<ALPHANUM>\", \"start_offset\": 207, \"position\": 33}, {\"end_offset\": 218, \"token\": \"prognosis\", \"type\": \"<ALPHANUM>\", \"start_offset\": 209, \"position\": 34}, {\"end_offset\": 221, \"token\": \"of\", \"type\": \"<ALPHANUM>\", \"start_offset\": 219, \"position\": 35}, {\"end_offset\": 236, \"token\": \"two\", \"type\": \"<ALPHANUM>\", \"start_offset\": 233, \"position\": 36}, {\"end_offset\": 242, \"token\": \"years\", \"type\": \"<ALPHANUM>\", \"start_offset\": 237, \"position\": 37}, {\"end_offset\": 247, \"token\": \"left\", \"type\": \"<ALPHANUM>\", \"start_offset\": 243, \"position\": 38}, {\"end_offset\": 250, \"token\": \"to\", \"type\": \"<ALPHANUM>\", \"start_offset\": 248, \"position\": 39}, {\"end_offset\": 255, \"token\": \"live\", \"type\": \"<ALPHANUM>\", \"start_offset\": 251, \"position\": 40}, {\"end_offset\": 261, \"token\": \"with\", \"type\": \"<ALPHANUM>\", \"start_offset\": 257, \"position\": 41}, {\"end_offset\": 263, \"token\": \"a\", \"type\": \"<ALPHANUM>\", \"start_offset\": 262, \"position\": 42}, {\"end_offset\": 267, \"token\": \"new\", \"type\": \"<ALPHANUM>\", \"start_offset\": 264, \"position\": 43}, {\"end_offset\": 273, \"token\": \"sense\", \"type\": \"<ALPHANUM>\", \"start_offset\": 268, \"position\": 44}, {\"end_offset\": 276, \"token\": \"of\", \"type\": \"<ALPHANUM>\", \"start_offset\": 274, \"position\": 45}, {\"end_offset\": 289, \"token\": \"fearlessness\", \"type\": \"<ALPHANUM>\", \"start_offset\": 277, \"position\": 46}, {\"end_offset\": 295, \"token\": \"based\", \"type\": \"<ALPHANUM>\", \"start_offset\": 290, \"position\": 47}, {\"end_offset\": 298, \"token\": \"on\", \"type\": \"<ALPHANUM>\", \"start_offset\": 296, \"position\": 48}, {\"end_offset\": 302, \"token\": \"his\", \"type\": \"<ALPHANUM>\", \"start_offset\": 299, \"position\": 49}, {\"end_offset\": 310, \"token\": \"medical\", \"type\": \"<ALPHANUM>\", \"start_offset\": 303, \"position\": 50}, {\"end_offset\": 320, \"token\": \"prognosis\", \"type\": \"<ALPHANUM>\", \"start_offset\": 311, \"position\": 51}, {\"end_offset\": 325, \"token\": \"and\", \"type\": \"<ALPHANUM>\", \"start_offset\": 322, \"position\": 52}, {\"end_offset\": 327, \"token\": \"a\", \"type\": \"<ALPHANUM>\", \"start_offset\": 326, \"position\": 53}, {\"end_offset\": 334, \"token\": \"desire\", \"type\": \"<ALPHANUM>\", \"start_offset\": 328, \"position\": 54}, {\"end_offset\": 337, \"token\": \"to\", \"type\": \"<ALPHANUM>\", \"start_offset\": 335, \"position\": 55}, {\"end_offset\": 344, \"token\": \"secure\", \"type\": \"<ALPHANUM>\", \"start_offset\": 338, \"position\": 56}, {\"end_offset\": 358, \"token\": \"his\", \"type\": \"<ALPHANUM>\", \"start_offset\": 355, \"position\": 57}, {\"end_offset\": 367, \"token\": \"family's\", \"type\": \"<ALPHANUM>\", \"start_offset\": 359, \"position\": 58}, {\"end_offset\": 377, \"token\": \"financial\", \"type\": \"<ALPHANUM>\", \"start_offset\": 368, \"position\": 59}, {\"end_offset\": 386, \"token\": \"security\", \"type\": \"<ALPHANUM>\", \"start_offset\": 378, \"position\": 60}, {\"end_offset\": 393, \"token\": \"white\", \"type\": \"<ALPHANUM>\", \"start_offset\": 388, \"position\": 61}, {\"end_offset\": 401, \"token\": \"chooses\", \"type\": \"<ALPHANUM>\", \"start_offset\": 394, \"position\": 62}, {\"end_offset\": 404, \"token\": \"to\", \"type\": \"<ALPHANUM>\", \"start_offset\": 402, \"position\": 63}, {\"end_offset\": 410, \"token\": \"enter\", \"type\": \"<ALPHANUM>\", \"start_offset\": 405, \"position\": 64}, {\"end_offset\": 412, \"token\": \"a\", \"type\": \"<ALPHANUM>\", \"start_offset\": 411, \"position\": 65}, {\"end_offset\": 422, \"token\": \"dangerous\", \"type\": \"<ALPHANUM>\", \"start_offset\": 413, \"position\": 66}, {\"end_offset\": 428, \"token\": \"world\", \"type\": \"<ALPHANUM>\", \"start_offset\": 423, \"position\": 67}, {\"end_offset\": 431, \"token\": \"of\", \"type\": \"<ALPHANUM>\", \"start_offset\": 429, \"position\": 68}, {\"end_offset\": 437, \"token\": \"drugs\", \"type\": \"<ALPHANUM>\", \"start_offset\": 432, \"position\": 69}, {\"end_offset\": 441, \"token\": \"and\", \"type\": \"<ALPHANUM>\", \"start_offset\": 438, \"position\": 70}, {\"end_offset\": 447, \"token\": \"crime\", \"type\": \"<ALPHANUM>\", \"start_offset\": 442, \"position\": 71}, {\"end_offset\": 451, \"token\": \"and\", \"type\": \"<ALPHANUM>\", \"start_offset\": 448, \"position\": 72}, {\"end_offset\": 459, \"token\": \"ascends\", \"type\": \"<ALPHANUM>\", \"start_offset\": 452, \"position\": 73}, {\"end_offset\": 462, \"token\": \"to\", \"type\": \"<ALPHANUM>\", \"start_offset\": 460, \"position\": 74}, {\"end_offset\": 468, \"token\": \"power\", \"type\": \"<ALPHANUM>\", \"start_offset\": 463, \"position\": 75}, {\"end_offset\": 482, \"token\": \"in\", \"type\": \"<ALPHANUM>\", \"start_offset\": 480, \"position\": 76}, {\"end_offset\": 487, \"token\": \"this\", \"type\": \"<ALPHANUM>\", \"start_offset\": 483, \"position\": 77}, {\"end_offset\": 493, \"token\": \"world\", \"type\": \"<ALPHANUM>\", \"start_offset\": 488, \"position\": 78}, {\"end_offset\": 498, \"token\": \"the\", \"type\": \"<ALPHANUM>\", \"start_offset\": 495, \"position\": 79}, {\"end_offset\": 505, \"token\": \"series\", \"type\": \"<ALPHANUM>\", \"start_offset\": 499, \"position\": 80}, {\"end_offset\": 514, \"token\": \"explores\", \"type\": \"<ALPHANUM>\", \"start_offset\": 506, \"position\": 81}, {\"end_offset\": 518, \"token\": \"how\", \"type\": \"<ALPHANUM>\", \"start_offset\": 515, \"position\": 82}, {\"end_offset\": 520, \"token\": \"a\", \"type\": \"<ALPHANUM>\", \"start_offset\": 519, \"position\": 83}, {\"end_offset\": 526, \"token\": \"fatal\", \"type\": \"<ALPHANUM>\", \"start_offset\": 521, \"position\": 84}, {\"end_offset\": 536, \"token\": \"diagnosis\", \"type\": \"<ALPHANUM>\", \"start_offset\": 527, \"position\": 85}, {\"end_offset\": 541, \"token\": \"such\", \"type\": \"<ALPHANUM>\", \"start_offset\": 537, \"position\": 86}, {\"end_offset\": 544, \"token\": \"as\", \"type\": \"<ALPHANUM>\", \"start_offset\": 542, \"position\": 87}, {\"end_offset\": 552, \"token\": \"white's\", \"type\": \"<ALPHANUM>\", \"start_offset\": 545, \"position\": 88}, {\"end_offset\": 561, \"token\": \"releases\", \"type\": \"<ALPHANUM>\", \"start_offset\": 553, \"position\": 89}, {\"end_offset\": 563, \"token\": \"a\", \"type\": \"<ALPHANUM>\", \"start_offset\": 562, \"position\": 90}, {\"end_offset\": 571, \"token\": \"typical\", \"type\": \"<ALPHANUM>\", \"start_offset\": 564, \"position\": 91}, {\"end_offset\": 575, \"token\": \"man\", \"type\": \"<ALPHANUM>\", \"start_offset\": 572, \"position\": 92}, {\"end_offset\": 580, \"token\": \"from\", \"type\": \"<ALPHANUM>\", \"start_offset\": 576, \"position\": 93}, {\"end_offset\": 584, \"token\": \"the\", \"type\": \"<ALPHANUM>\", \"start_offset\": 581, \"position\": 94}, {\"end_offset\": 590, \"token\": \"daily\", \"type\": \"<ALPHANUM>\", \"start_offset\": 585, \"position\": 95}, {\"end_offset\": 610, \"token\": \"concerns\", \"type\": \"<ALPHANUM>\", \"start_offset\": 602, \"position\": 96}, {\"end_offset\": 614, \"token\": \"and\", \"type\": \"<ALPHANUM>\", \"start_offset\": 611, \"position\": 97}, {\"end_offset\": 626, \"token\": \"constraints\", \"type\": \"<ALPHANUM>\", \"start_offset\": 615, \"position\": 98}, {\"end_offset\": 629, \"token\": \"of\", \"type\": \"<ALPHANUM>\", \"start_offset\": 627, \"position\": 99}, {\"end_offset\": 636, \"token\": \"normal\", \"type\": \"<ALPHANUM>\", \"start_offset\": 630, \"position\": 100}, {\"end_offset\": 644, \"token\": \"society\", \"type\": \"<ALPHANUM>\", \"start_offset\": 637, \"position\": 101}, {\"end_offset\": 648, \"token\": \"and\", \"type\": \"<ALPHANUM>\", \"start_offset\": 645, \"position\": 102}, {\"end_offset\": 656, \"token\": \"follows\", \"type\": \"<ALPHANUM>\", \"start_offset\": 649, \"position\": 103}, {\"end_offset\": 660, \"token\": \"his\", \"type\": \"<ALPHANUM>\", \"start_offset\": 657, \"position\": 104}, {\"end_offset\": 675, \"token\": \"transformation\", \"type\": \"<ALPHANUM>\", \"start_offset\": 661, \"position\": 105}, {\"end_offset\": 680, \"token\": \"from\", \"type\": \"<ALPHANUM>\", \"start_offset\": 676, \"position\": 106}, {\"end_offset\": 685, \"token\": \"mild\", \"type\": \"<ALPHANUM>\", \"start_offset\": 681, \"position\": 107}, {\"end_offset\": 692, \"token\": \"family\", \"type\": \"<ALPHANUM>\", \"start_offset\": 686, \"position\": 108}, {\"end_offset\": 696, \"token\": \"man\", \"type\": \"<ALPHANUM>\", \"start_offset\": 693, \"position\": 109}, {\"end_offset\": 699, \"token\": \"to\", \"type\": \"<ALPHANUM>\", \"start_offset\": 697, \"position\": 110}, {\"end_offset\": 701, \"token\": \"a\", \"type\": \"<ALPHANUM>\", \"start_offset\": 700, \"position\": 111}, {\"end_offset\": 709, \"token\": \"kingpin\", \"type\": \"<ALPHANUM>\", \"start_offset\": 702, \"position\": 112}, {\"end_offset\": 723, \"token\": \"of\", \"type\": \"<ALPHANUM>\", \"start_offset\": 721, \"position\": 113}, {\"end_offset\": 727, \"token\": \"the\", \"type\": \"<ALPHANUM>\", \"start_offset\": 724, \"position\": 114}, {\"end_offset\": 732, \"token\": \"drug\", \"type\": \"<ALPHANUM>\", \"start_offset\": 728, \"position\": 115}, {\"end_offset\": 738, \"token\": \"trade\", \"type\": \"<ALPHANUM>\", \"start_offset\": 733, \"position\": 116}]}))\n",
       "        });\n",
       "        "
      ]
     },
     "metadata": {},
     "output_type": "display_data"
    }
   ],
   "source": [
    "r = requests.post('http://localhost:9200/_analyze?analyzer=standard' , \n",
    "                  data = summary)\n",
    "RenderJSON(r.json())"
   ]
  },
  {
   "cell_type": "markdown",
   "metadata": {
    "slideshow": {
     "slide_type": "subslide"
    }
   },
   "source": [
    "- elimina la mayor parte de signos de puntuacion \n",
    "- tokeniza por los espacios \n",
    "- pasa todos los terminos (tokens) a minúsculas \n",
    " \n",
    "- ¿qué hace con el genitivo sajon?"
   ]
  },
  {
   "cell_type": "markdown",
   "metadata": {
    "slideshow": {
     "slide_type": "subslide"
    }
   },
   "source": [
    "### Keyword Analyzer"
   ]
  },
  {
   "cell_type": "code",
   "execution_count": 14,
   "metadata": {
    "collapsed": false
   },
   "outputs": [
    {
     "data": {
      "text/html": [
       "<div id=\"d57d7542-a98a-46f1-9099-3d12c4fd78a8\" style=\"height: 600px; width:100%;\"></div>"
      ]
     },
     "metadata": {},
     "output_type": "display_data"
    },
    {
     "data": {
      "application/javascript": [
       "\n",
       "        require([\"https://rawgit.com/caldwell/renderjson/master/renderjson.js\"], function() {\n",
       "          document.getElementById('d57d7542-a98a-46f1-9099-3d12c4fd78a8').appendChild(renderjson({\"tokens\": [{\"end_offset\": 739, \"token\": \"Breaking Bad follows protagonist Walter White, a chemistry teacher who lives in New Mexico with his wife \\n          and teenage son who has cerebral palsy. White is diagnosed with Stage III cancer and given a prognosis of \\n          two years left to live. With a new sense of fearlessness based on his medical prognosis, and a desire to secure\\n          his family's financial security, White chooses to enter a dangerous world of drugs and crime and ascends to power \\n          in this world. The series explores how a fatal diagnosis such as White's releases a typical man from the daily \\n          concerns and constraints of normal society and follows his transformation from mild family man to a kingpin \\n          of the drug trade.\", \"type\": \"word\", \"start_offset\": 0, \"position\": 0}]}))\n",
       "        });\n",
       "        "
      ]
     },
     "metadata": {},
     "output_type": "display_data"
    }
   ],
   "source": [
    "r = requests.post('http://localhost:9200/_analyze?analyzer=keyword' , data = summary)\n",
    "RenderJSON(r.json())\n"
   ]
  },
  {
   "cell_type": "markdown",
   "metadata": {
    "slideshow": {
     "slide_type": "slide"
    }
   },
   "source": [
    "## Tipos de analizadores\n",
    "\n",
    " * Standard analyzer\n",
    " * Simple analyzer\n",
    " * Whitespace analyzer\n",
    " * Stop analyzer\n",
    " * Keyword analyzer\n",
    " * Pattern analyzer - definir expresiones regulares para separar palabras"
   ]
  },
  {
   "cell_type": "markdown",
   "metadata": {
    "slideshow": {
     "slide_type": "slide"
    }
   },
   "source": [
    "## Tipos de analizadores (II)\n",
    "\n",
    " * Language analyzer\n",
    "    - 33 lenguajes: english, spanish, catalan, basque, galician, portuguese, german, french, arabic ...  \n",
    " * [Snowball analyzer](http://snowballstem.org/) \n",
    "    - 14 lenguajes: importante por razones históricas, se usan frecuentemente \n",
    " * Custom analyzer "
   ]
  },
  {
   "cell_type": "markdown",
   "metadata": {
    "slideshow": {
     "slide_type": "subslide"
    }
   },
   "source": [
    "### English analyzer"
   ]
  },
  {
   "cell_type": "code",
   "execution_count": 15,
   "metadata": {
    "collapsed": false
   },
   "outputs": [
    {
     "data": {
      "text/html": [
       "<div id=\"c26d2686-2755-44f2-9e6f-ac31ad6d0a82\" style=\"height: 600px; width:100%;\"></div>"
      ]
     },
     "metadata": {},
     "output_type": "display_data"
    },
    {
     "data": {
      "application/javascript": [
       "\n",
       "        require([\"https://rawgit.com/caldwell/renderjson/master/renderjson.js\"], function() {\n",
       "          document.getElementById('c26d2686-2755-44f2-9e6f-ac31ad6d0a82').appendChild(renderjson({\"tokens\": [{\"end_offset\": 8, \"token\": \"break\", \"type\": \"<ALPHANUM>\", \"start_offset\": 0, \"position\": 0}, {\"end_offset\": 12, \"token\": \"bad\", \"type\": \"<ALPHANUM>\", \"start_offset\": 9, \"position\": 1}, {\"end_offset\": 20, \"token\": \"follow\", \"type\": \"<ALPHANUM>\", \"start_offset\": 13, \"position\": 2}, {\"end_offset\": 32, \"token\": \"protagonist\", \"type\": \"<ALPHANUM>\", \"start_offset\": 21, \"position\": 3}, {\"end_offset\": 39, \"token\": \"walter\", \"type\": \"<ALPHANUM>\", \"start_offset\": 33, \"position\": 4}, {\"end_offset\": 45, \"token\": \"white\", \"type\": \"<ALPHANUM>\", \"start_offset\": 40, \"position\": 5}, {\"end_offset\": 58, \"token\": \"chemistri\", \"type\": \"<ALPHANUM>\", \"start_offset\": 49, \"position\": 7}, {\"end_offset\": 66, \"token\": \"teacher\", \"type\": \"<ALPHANUM>\", \"start_offset\": 59, \"position\": 8}, {\"end_offset\": 70, \"token\": \"who\", \"type\": \"<ALPHANUM>\", \"start_offset\": 67, \"position\": 9}, {\"end_offset\": 76, \"token\": \"live\", \"type\": \"<ALPHANUM>\", \"start_offset\": 71, \"position\": 10}, {\"end_offset\": 83, \"token\": \"new\", \"type\": \"<ALPHANUM>\", \"start_offset\": 80, \"position\": 12}, {\"end_offset\": 90, \"token\": \"mexico\", \"type\": \"<ALPHANUM>\", \"start_offset\": 84, \"position\": 13}, {\"end_offset\": 99, \"token\": \"hi\", \"type\": \"<ALPHANUM>\", \"start_offset\": 96, \"position\": 15}, {\"end_offset\": 104, \"token\": \"wife\", \"type\": \"<ALPHANUM>\", \"start_offset\": 100, \"position\": 16}, {\"end_offset\": 127, \"token\": \"teenag\", \"type\": \"<ALPHANUM>\", \"start_offset\": 120, \"position\": 18}, {\"end_offset\": 131, \"token\": \"son\", \"type\": \"<ALPHANUM>\", \"start_offset\": 128, \"position\": 19}, {\"end_offset\": 135, \"token\": \"who\", \"type\": \"<ALPHANUM>\", \"start_offset\": 132, \"position\": 20}, {\"end_offset\": 139, \"token\": \"ha\", \"type\": \"<ALPHANUM>\", \"start_offset\": 136, \"position\": 21}, {\"end_offset\": 148, \"token\": \"cerebr\", \"type\": \"<ALPHANUM>\", \"start_offset\": 140, \"position\": 22}, {\"end_offset\": 154, \"token\": \"palsi\", \"type\": \"<ALPHANUM>\", \"start_offset\": 149, \"position\": 23}, {\"end_offset\": 161, \"token\": \"white\", \"type\": \"<ALPHANUM>\", \"start_offset\": 156, \"position\": 24}, {\"end_offset\": 174, \"token\": \"diagnos\", \"type\": \"<ALPHANUM>\", \"start_offset\": 165, \"position\": 26}, {\"end_offset\": 185, \"token\": \"stage\", \"type\": \"<ALPHANUM>\", \"start_offset\": 180, \"position\": 28}, {\"end_offset\": 189, \"token\": \"iii\", \"type\": \"<ALPHANUM>\", \"start_offset\": 186, \"position\": 29}, {\"end_offset\": 196, \"token\": \"cancer\", \"type\": \"<ALPHANUM>\", \"start_offset\": 190, \"position\": 30}, {\"end_offset\": 206, \"token\": \"given\", \"type\": \"<ALPHANUM>\", \"start_offset\": 201, \"position\": 32}, {\"end_offset\": 218, \"token\": \"prognosi\", \"type\": \"<ALPHANUM>\", \"start_offset\": 209, \"position\": 34}, {\"end_offset\": 236, \"token\": \"two\", \"type\": \"<ALPHANUM>\", \"start_offset\": 233, \"position\": 36}, {\"end_offset\": 242, \"token\": \"year\", \"type\": \"<ALPHANUM>\", \"start_offset\": 237, \"position\": 37}, {\"end_offset\": 247, \"token\": \"left\", \"type\": \"<ALPHANUM>\", \"start_offset\": 243, \"position\": 38}, {\"end_offset\": 255, \"token\": \"live\", \"type\": \"<ALPHANUM>\", \"start_offset\": 251, \"position\": 40}, {\"end_offset\": 267, \"token\": \"new\", \"type\": \"<ALPHANUM>\", \"start_offset\": 264, \"position\": 43}, {\"end_offset\": 273, \"token\": \"sens\", \"type\": \"<ALPHANUM>\", \"start_offset\": 268, \"position\": 44}, {\"end_offset\": 289, \"token\": \"fearless\", \"type\": \"<ALPHANUM>\", \"start_offset\": 277, \"position\": 46}, {\"end_offset\": 295, \"token\": \"base\", \"type\": \"<ALPHANUM>\", \"start_offset\": 290, \"position\": 47}, {\"end_offset\": 302, \"token\": \"hi\", \"type\": \"<ALPHANUM>\", \"start_offset\": 299, \"position\": 49}, {\"end_offset\": 310, \"token\": \"medic\", \"type\": \"<ALPHANUM>\", \"start_offset\": 303, \"position\": 50}, {\"end_offset\": 320, \"token\": \"prognosi\", \"type\": \"<ALPHANUM>\", \"start_offset\": 311, \"position\": 51}, {\"end_offset\": 334, \"token\": \"desir\", \"type\": \"<ALPHANUM>\", \"start_offset\": 328, \"position\": 54}, {\"end_offset\": 344, \"token\": \"secur\", \"type\": \"<ALPHANUM>\", \"start_offset\": 338, \"position\": 56}, {\"end_offset\": 358, \"token\": \"hi\", \"type\": \"<ALPHANUM>\", \"start_offset\": 355, \"position\": 57}, {\"end_offset\": 367, \"token\": \"famili\", \"type\": \"<ALPHANUM>\", \"start_offset\": 359, \"position\": 58}, {\"end_offset\": 377, \"token\": \"financi\", \"type\": \"<ALPHANUM>\", \"start_offset\": 368, \"position\": 59}, {\"end_offset\": 386, \"token\": \"secur\", \"type\": \"<ALPHANUM>\", \"start_offset\": 378, \"position\": 60}, {\"end_offset\": 393, \"token\": \"white\", \"type\": \"<ALPHANUM>\", \"start_offset\": 388, \"position\": 61}, {\"end_offset\": 401, \"token\": \"choos\", \"type\": \"<ALPHANUM>\", \"start_offset\": 394, \"position\": 62}, {\"end_offset\": 410, \"token\": \"enter\", \"type\": \"<ALPHANUM>\", \"start_offset\": 405, \"position\": 64}, {\"end_offset\": 422, \"token\": \"danger\", \"type\": \"<ALPHANUM>\", \"start_offset\": 413, \"position\": 66}, {\"end_offset\": 428, \"token\": \"world\", \"type\": \"<ALPHANUM>\", \"start_offset\": 423, \"position\": 67}, {\"end_offset\": 437, \"token\": \"drug\", \"type\": \"<ALPHANUM>\", \"start_offset\": 432, \"position\": 69}, {\"end_offset\": 447, \"token\": \"crime\", \"type\": \"<ALPHANUM>\", \"start_offset\": 442, \"position\": 71}, {\"end_offset\": 459, \"token\": \"ascend\", \"type\": \"<ALPHANUM>\", \"start_offset\": 452, \"position\": 73}, {\"end_offset\": 468, \"token\": \"power\", \"type\": \"<ALPHANUM>\", \"start_offset\": 463, \"position\": 75}, {\"end_offset\": 493, \"token\": \"world\", \"type\": \"<ALPHANUM>\", \"start_offset\": 488, \"position\": 78}, {\"end_offset\": 505, \"token\": \"seri\", \"type\": \"<ALPHANUM>\", \"start_offset\": 499, \"position\": 80}, {\"end_offset\": 514, \"token\": \"explor\", \"type\": \"<ALPHANUM>\", \"start_offset\": 506, \"position\": 81}, {\"end_offset\": 518, \"token\": \"how\", \"type\": \"<ALPHANUM>\", \"start_offset\": 515, \"position\": 82}, {\"end_offset\": 526, \"token\": \"fatal\", \"type\": \"<ALPHANUM>\", \"start_offset\": 521, \"position\": 84}, {\"end_offset\": 536, \"token\": \"diagnosi\", \"type\": \"<ALPHANUM>\", \"start_offset\": 527, \"position\": 85}, {\"end_offset\": 552, \"token\": \"white\", \"type\": \"<ALPHANUM>\", \"start_offset\": 545, \"position\": 88}, {\"end_offset\": 561, \"token\": \"releas\", \"type\": \"<ALPHANUM>\", \"start_offset\": 553, \"position\": 89}, {\"end_offset\": 571, \"token\": \"typic\", \"type\": \"<ALPHANUM>\", \"start_offset\": 564, \"position\": 91}, {\"end_offset\": 575, \"token\": \"man\", \"type\": \"<ALPHANUM>\", \"start_offset\": 572, \"position\": 92}, {\"end_offset\": 580, \"token\": \"from\", \"type\": \"<ALPHANUM>\", \"start_offset\": 576, \"position\": 93}, {\"end_offset\": 590, \"token\": \"daili\", \"type\": \"<ALPHANUM>\", \"start_offset\": 585, \"position\": 95}, {\"end_offset\": 610, \"token\": \"concern\", \"type\": \"<ALPHANUM>\", \"start_offset\": 602, \"position\": 96}, {\"end_offset\": 626, \"token\": \"constraint\", \"type\": \"<ALPHANUM>\", \"start_offset\": 615, \"position\": 98}, {\"end_offset\": 636, \"token\": \"normal\", \"type\": \"<ALPHANUM>\", \"start_offset\": 630, \"position\": 100}, {\"end_offset\": 644, \"token\": \"societi\", \"type\": \"<ALPHANUM>\", \"start_offset\": 637, \"position\": 101}, {\"end_offset\": 656, \"token\": \"follow\", \"type\": \"<ALPHANUM>\", \"start_offset\": 649, \"position\": 103}, {\"end_offset\": 660, \"token\": \"hi\", \"type\": \"<ALPHANUM>\", \"start_offset\": 657, \"position\": 104}, {\"end_offset\": 675, \"token\": \"transform\", \"type\": \"<ALPHANUM>\", \"start_offset\": 661, \"position\": 105}, {\"end_offset\": 680, \"token\": \"from\", \"type\": \"<ALPHANUM>\", \"start_offset\": 676, \"position\": 106}, {\"end_offset\": 685, \"token\": \"mild\", \"type\": \"<ALPHANUM>\", \"start_offset\": 681, \"position\": 107}, {\"end_offset\": 692, \"token\": \"famili\", \"type\": \"<ALPHANUM>\", \"start_offset\": 686, \"position\": 108}, {\"end_offset\": 696, \"token\": \"man\", \"type\": \"<ALPHANUM>\", \"start_offset\": 693, \"position\": 109}, {\"end_offset\": 709, \"token\": \"kingpin\", \"type\": \"<ALPHANUM>\", \"start_offset\": 702, \"position\": 112}, {\"end_offset\": 732, \"token\": \"drug\", \"type\": \"<ALPHANUM>\", \"start_offset\": 728, \"position\": 115}, {\"end_offset\": 738, \"token\": \"trade\", \"type\": \"<ALPHANUM>\", \"start_offset\": 733, \"position\": 116}]}))\n",
       "        });\n",
       "        "
      ]
     },
     "metadata": {},
     "output_type": "display_data"
    }
   ],
   "source": [
    "r = requests.post('http://localhost:9200/_analyze?analyzer=english&pretty' , data = summary)\n",
    "RenderJSON(r.json())\n"
   ]
  },
  {
   "cell_type": "markdown",
   "metadata": {
    "slideshow": {
     "slide_type": "subslide"
    }
   },
   "source": [
    "- elimina la mayor parte de signos de puntuacion \n",
    "- tokeniza principalmente por los espacios, pero tiene en cuenta el genitivo sajón \n",
    "- pasa todos los terminos (*tokens*) a minúsculas \n",
    "- elimina ciertos terminos ([*stopwords*](http://members.unine.ch/jacques.savoy/clef/index.html)) que son muy comunes: a, the, in ...  \n",
    "- hace *stemming* - transforma las palabras a una forma raiz heurística"
   ]
  },
  {
   "cell_type": "markdown",
   "metadata": {
    "slideshow": {
     "slide_type": "slide"
    }
   },
   "source": [
    "## Estructura de un analizador\n",
    "\n",
    "  - [Filtro de caracteres](https://www.elastic.co/guide/en/elasticsearch/reference/current/analysis-tokenfilters.html) (Character filters) -cero o más\n",
    "    - Pasar a minúsculas \n",
    "    - Eliminar acentos y diacríticos\n",
    "    - Eliminar signos de puntuación \n",
    "    - etc..\n",
    "  - [Tokenizador](https://www.elastic.co/guide/en/elasticsearch/reference/current/analysis-tokenfilters.html) (Tokenizer) - uno \n",
    "  - [Filtros de tokens](https://www.elastic.co/guide/en/elasticsearch/reference/current/analysis-tokenfilters.html) (Token filters) -  cero o más  \n",
    "    - Palabras de parada (Stopwords)\n",
    "    - Lematizador (Stemming) \n",
    "    - Sinónimos \n",
    "    - Mapeo\n",
    "    - etc.. "
   ]
  },
  {
   "cell_type": "markdown",
   "metadata": {
    "slideshow": {
     "slide_type": "subslide"
    }
   },
   "source": [
    "## Estructura de un analizador: Ejemplo"
   ]
  },
  {
   "cell_type": "code",
   "execution_count": null,
   "metadata": {
    "collapsed": true
   },
   "outputs": [],
   "source": [
    "<pre>\n",
    "{\n",
    "  \"settings\": {\n",
    "    \"analysis\": {\n",
    "      \"filter\": {\n",
    "        \"english_stop\": {\n",
    "          \"type\":       \"stop\",\n",
    "          \"stopwords\":  \"_english_\" \n",
    "        },\n",
    "        \"english_keywords\": {\n",
    "          \"type\":       \"keyword_marker\",\n",
    "          \"keywords\":   [] \n",
    "        },\n",
    "        \"english_stemmer\": {\n",
    "          \"type\":       \"stemmer\",\n",
    "          \"language\":   \"english\"\n",
    "        },\n",
    "        \"english_possessive_stemmer\": {\n",
    "          \"type\":       \"stemmer\",\n",
    "          \"language\":   \"possessive_english\"\n",
    "        }\n",
    "      },\n",
    "      \"analyzer\": {\n",
    "        \"english\": {\n",
    "          \"tokenizer\":  \"standard\",\n",
    "          \"filter\": [\n",
    "            \"english_possessive_stemmer\",\n",
    "            \"lowercase\",\n",
    "            \"english_stop\",\n",
    "            \"english_keywords\",\n",
    "            \"english_stemmer\"\n",
    "          ]\n",
    "        }\n",
    "      }\n",
    "    }\n",
    "  }\n",
    "}\n",
    "</pre>"
   ]
  },
  {
   "cell_type": "markdown",
   "metadata": {
    "slideshow": {
     "slide_type": "subslide"
    }
   },
   "source": [
    "## ¿Por qué hacer *stemming*?\n",
    "\n",
    "La mayoría de los lenguajes tienen una componente morfológica, que generalmente no varía el significado\n",
    "\n",
    "* Number: fox, foxes\n",
    "* Tense: pay, paid, paying\n",
    "* Gender: waiter, waitress\n",
    "* Person: hear, hears\n",
    "* Case: I, me, my\n",
    "* Aspect: ate, eaten"
   ]
  },
  {
   "cell_type": "markdown",
   "metadata": {
    "slideshow": {
     "slide_type": "subslide"
    }
   },
   "source": [
    "### Stemming\n",
    "\n",
    "Sin embargo, hacer *stemming* de forma 100% correcta es complicado, ya que para que sea práctico tiene que ser heurístico.\n",
    "\n",
    "La alternativa es la *lematización*, basada en un análisis morfológico y contexto de la palabra, es mucho más preciso pero computacionalmente más costoso. Sin embargo tampoco los resultados son significativamente mejores en la tarea de búsqueda. "
   ]
  },
  {
   "cell_type": "markdown",
   "metadata": {
    "slideshow": {
     "slide_type": "slide"
    }
   },
   "source": [
    "### ¿Qué análisis se usa en mi campo? "
   ]
  },
  {
   "cell_type": "code",
   "execution_count": 16,
   "metadata": {
    "collapsed": false,
    "slideshow": {
     "slide_type": "-"
    }
   },
   "outputs": [
    {
     "data": {
      "text/html": [
       "<div id=\"0f001188-0115-47b3-aa31-f94d53d18bc6\" style=\"height: 600px; width:100%;\"></div>"
      ]
     },
     "metadata": {},
     "output_type": "display_data"
    },
    {
     "data": {
      "application/javascript": [
       "\n",
       "        require([\"https://rawgit.com/caldwell/renderjson/master/renderjson.js\"], function() {\n",
       "          document.getElementById('0f001188-0115-47b3-aa31-f94d53d18bc6').appendChild(renderjson({\"tokens\": [{\"end_offset\": 8, \"token\": \"breaking\", \"type\": \"<ALPHANUM>\", \"start_offset\": 0, \"position\": 0}, {\"end_offset\": 12, \"token\": \"bad\", \"type\": \"<ALPHANUM>\", \"start_offset\": 9, \"position\": 1}, {\"end_offset\": 20, \"token\": \"follows\", \"type\": \"<ALPHANUM>\", \"start_offset\": 13, \"position\": 2}, {\"end_offset\": 32, \"token\": \"protagonist\", \"type\": \"<ALPHANUM>\", \"start_offset\": 21, \"position\": 3}, {\"end_offset\": 39, \"token\": \"walter\", \"type\": \"<ALPHANUM>\", \"start_offset\": 33, \"position\": 4}, {\"end_offset\": 45, \"token\": \"white\", \"type\": \"<ALPHANUM>\", \"start_offset\": 40, \"position\": 5}, {\"end_offset\": 48, \"token\": \"a\", \"type\": \"<ALPHANUM>\", \"start_offset\": 47, \"position\": 6}, {\"end_offset\": 58, \"token\": \"chemistry\", \"type\": \"<ALPHANUM>\", \"start_offset\": 49, \"position\": 7}, {\"end_offset\": 66, \"token\": \"teacher\", \"type\": \"<ALPHANUM>\", \"start_offset\": 59, \"position\": 8}, {\"end_offset\": 70, \"token\": \"who\", \"type\": \"<ALPHANUM>\", \"start_offset\": 67, \"position\": 9}, {\"end_offset\": 76, \"token\": \"lives\", \"type\": \"<ALPHANUM>\", \"start_offset\": 71, \"position\": 10}, {\"end_offset\": 79, \"token\": \"in\", \"type\": \"<ALPHANUM>\", \"start_offset\": 77, \"position\": 11}, {\"end_offset\": 83, \"token\": \"new\", \"type\": \"<ALPHANUM>\", \"start_offset\": 80, \"position\": 12}, {\"end_offset\": 90, \"token\": \"mexico\", \"type\": \"<ALPHANUM>\", \"start_offset\": 84, \"position\": 13}, {\"end_offset\": 95, \"token\": \"with\", \"type\": \"<ALPHANUM>\", \"start_offset\": 91, \"position\": 14}, {\"end_offset\": 99, \"token\": \"his\", \"type\": \"<ALPHANUM>\", \"start_offset\": 96, \"position\": 15}, {\"end_offset\": 104, \"token\": \"wife\", \"type\": \"<ALPHANUM>\", \"start_offset\": 100, \"position\": 16}, {\"end_offset\": 119, \"token\": \"and\", \"type\": \"<ALPHANUM>\", \"start_offset\": 116, \"position\": 17}, {\"end_offset\": 127, \"token\": \"teenage\", \"type\": \"<ALPHANUM>\", \"start_offset\": 120, \"position\": 18}, {\"end_offset\": 131, \"token\": \"son\", \"type\": \"<ALPHANUM>\", \"start_offset\": 128, \"position\": 19}, {\"end_offset\": 135, \"token\": \"who\", \"type\": \"<ALPHANUM>\", \"start_offset\": 132, \"position\": 20}, {\"end_offset\": 139, \"token\": \"has\", \"type\": \"<ALPHANUM>\", \"start_offset\": 136, \"position\": 21}, {\"end_offset\": 148, \"token\": \"cerebral\", \"type\": \"<ALPHANUM>\", \"start_offset\": 140, \"position\": 22}, {\"end_offset\": 154, \"token\": \"palsy\", \"type\": \"<ALPHANUM>\", \"start_offset\": 149, \"position\": 23}, {\"end_offset\": 161, \"token\": \"white\", \"type\": \"<ALPHANUM>\", \"start_offset\": 156, \"position\": 24}, {\"end_offset\": 164, \"token\": \"is\", \"type\": \"<ALPHANUM>\", \"start_offset\": 162, \"position\": 25}, {\"end_offset\": 174, \"token\": \"diagnosed\", \"type\": \"<ALPHANUM>\", \"start_offset\": 165, \"position\": 26}, {\"end_offset\": 179, \"token\": \"with\", \"type\": \"<ALPHANUM>\", \"start_offset\": 175, \"position\": 27}, {\"end_offset\": 185, \"token\": \"stage\", \"type\": \"<ALPHANUM>\", \"start_offset\": 180, \"position\": 28}, {\"end_offset\": 189, \"token\": \"iii\", \"type\": \"<ALPHANUM>\", \"start_offset\": 186, \"position\": 29}, {\"end_offset\": 196, \"token\": \"cancer\", \"type\": \"<ALPHANUM>\", \"start_offset\": 190, \"position\": 30}, {\"end_offset\": 200, \"token\": \"and\", \"type\": \"<ALPHANUM>\", \"start_offset\": 197, \"position\": 31}, {\"end_offset\": 206, \"token\": \"given\", \"type\": \"<ALPHANUM>\", \"start_offset\": 201, \"position\": 32}, {\"end_offset\": 208, \"token\": \"a\", \"type\": \"<ALPHANUM>\", \"start_offset\": 207, \"position\": 33}, {\"end_offset\": 218, \"token\": \"prognosis\", \"type\": \"<ALPHANUM>\", \"start_offset\": 209, \"position\": 34}, {\"end_offset\": 221, \"token\": \"of\", \"type\": \"<ALPHANUM>\", \"start_offset\": 219, \"position\": 35}, {\"end_offset\": 236, \"token\": \"two\", \"type\": \"<ALPHANUM>\", \"start_offset\": 233, \"position\": 36}, {\"end_offset\": 242, \"token\": \"years\", \"type\": \"<ALPHANUM>\", \"start_offset\": 237, \"position\": 37}, {\"end_offset\": 247, \"token\": \"left\", \"type\": \"<ALPHANUM>\", \"start_offset\": 243, \"position\": 38}, {\"end_offset\": 250, \"token\": \"to\", \"type\": \"<ALPHANUM>\", \"start_offset\": 248, \"position\": 39}, {\"end_offset\": 255, \"token\": \"live\", \"type\": \"<ALPHANUM>\", \"start_offset\": 251, \"position\": 40}, {\"end_offset\": 261, \"token\": \"with\", \"type\": \"<ALPHANUM>\", \"start_offset\": 257, \"position\": 41}, {\"end_offset\": 263, \"token\": \"a\", \"type\": \"<ALPHANUM>\", \"start_offset\": 262, \"position\": 42}, {\"end_offset\": 267, \"token\": \"new\", \"type\": \"<ALPHANUM>\", \"start_offset\": 264, \"position\": 43}, {\"end_offset\": 273, \"token\": \"sense\", \"type\": \"<ALPHANUM>\", \"start_offset\": 268, \"position\": 44}, {\"end_offset\": 276, \"token\": \"of\", \"type\": \"<ALPHANUM>\", \"start_offset\": 274, \"position\": 45}, {\"end_offset\": 289, \"token\": \"fearlessness\", \"type\": \"<ALPHANUM>\", \"start_offset\": 277, \"position\": 46}, {\"end_offset\": 295, \"token\": \"based\", \"type\": \"<ALPHANUM>\", \"start_offset\": 290, \"position\": 47}, {\"end_offset\": 298, \"token\": \"on\", \"type\": \"<ALPHANUM>\", \"start_offset\": 296, \"position\": 48}, {\"end_offset\": 302, \"token\": \"his\", \"type\": \"<ALPHANUM>\", \"start_offset\": 299, \"position\": 49}, {\"end_offset\": 310, \"token\": \"medical\", \"type\": \"<ALPHANUM>\", \"start_offset\": 303, \"position\": 50}, {\"end_offset\": 320, \"token\": \"prognosis\", \"type\": \"<ALPHANUM>\", \"start_offset\": 311, \"position\": 51}, {\"end_offset\": 325, \"token\": \"and\", \"type\": \"<ALPHANUM>\", \"start_offset\": 322, \"position\": 52}, {\"end_offset\": 327, \"token\": \"a\", \"type\": \"<ALPHANUM>\", \"start_offset\": 326, \"position\": 53}, {\"end_offset\": 334, \"token\": \"desire\", \"type\": \"<ALPHANUM>\", \"start_offset\": 328, \"position\": 54}, {\"end_offset\": 337, \"token\": \"to\", \"type\": \"<ALPHANUM>\", \"start_offset\": 335, \"position\": 55}, {\"end_offset\": 344, \"token\": \"secure\", \"type\": \"<ALPHANUM>\", \"start_offset\": 338, \"position\": 56}, {\"end_offset\": 358, \"token\": \"his\", \"type\": \"<ALPHANUM>\", \"start_offset\": 355, \"position\": 57}, {\"end_offset\": 367, \"token\": \"family's\", \"type\": \"<ALPHANUM>\", \"start_offset\": 359, \"position\": 58}, {\"end_offset\": 377, \"token\": \"financial\", \"type\": \"<ALPHANUM>\", \"start_offset\": 368, \"position\": 59}, {\"end_offset\": 386, \"token\": \"security\", \"type\": \"<ALPHANUM>\", \"start_offset\": 378, \"position\": 60}, {\"end_offset\": 393, \"token\": \"white\", \"type\": \"<ALPHANUM>\", \"start_offset\": 388, \"position\": 61}, {\"end_offset\": 401, \"token\": \"chooses\", \"type\": \"<ALPHANUM>\", \"start_offset\": 394, \"position\": 62}, {\"end_offset\": 404, \"token\": \"to\", \"type\": \"<ALPHANUM>\", \"start_offset\": 402, \"position\": 63}, {\"end_offset\": 410, \"token\": \"enter\", \"type\": \"<ALPHANUM>\", \"start_offset\": 405, \"position\": 64}, {\"end_offset\": 412, \"token\": \"a\", \"type\": \"<ALPHANUM>\", \"start_offset\": 411, \"position\": 65}, {\"end_offset\": 422, \"token\": \"dangerous\", \"type\": \"<ALPHANUM>\", \"start_offset\": 413, \"position\": 66}, {\"end_offset\": 428, \"token\": \"world\", \"type\": \"<ALPHANUM>\", \"start_offset\": 423, \"position\": 67}, {\"end_offset\": 431, \"token\": \"of\", \"type\": \"<ALPHANUM>\", \"start_offset\": 429, \"position\": 68}, {\"end_offset\": 437, \"token\": \"drugs\", \"type\": \"<ALPHANUM>\", \"start_offset\": 432, \"position\": 69}, {\"end_offset\": 441, \"token\": \"and\", \"type\": \"<ALPHANUM>\", \"start_offset\": 438, \"position\": 70}, {\"end_offset\": 447, \"token\": \"crime\", \"type\": \"<ALPHANUM>\", \"start_offset\": 442, \"position\": 71}, {\"end_offset\": 451, \"token\": \"and\", \"type\": \"<ALPHANUM>\", \"start_offset\": 448, \"position\": 72}, {\"end_offset\": 459, \"token\": \"ascends\", \"type\": \"<ALPHANUM>\", \"start_offset\": 452, \"position\": 73}, {\"end_offset\": 462, \"token\": \"to\", \"type\": \"<ALPHANUM>\", \"start_offset\": 460, \"position\": 74}, {\"end_offset\": 468, \"token\": \"power\", \"type\": \"<ALPHANUM>\", \"start_offset\": 463, \"position\": 75}, {\"end_offset\": 482, \"token\": \"in\", \"type\": \"<ALPHANUM>\", \"start_offset\": 480, \"position\": 76}, {\"end_offset\": 487, \"token\": \"this\", \"type\": \"<ALPHANUM>\", \"start_offset\": 483, \"position\": 77}, {\"end_offset\": 493, \"token\": \"world\", \"type\": \"<ALPHANUM>\", \"start_offset\": 488, \"position\": 78}, {\"end_offset\": 498, \"token\": \"the\", \"type\": \"<ALPHANUM>\", \"start_offset\": 495, \"position\": 79}, {\"end_offset\": 505, \"token\": \"series\", \"type\": \"<ALPHANUM>\", \"start_offset\": 499, \"position\": 80}, {\"end_offset\": 514, \"token\": \"explores\", \"type\": \"<ALPHANUM>\", \"start_offset\": 506, \"position\": 81}, {\"end_offset\": 518, \"token\": \"how\", \"type\": \"<ALPHANUM>\", \"start_offset\": 515, \"position\": 82}, {\"end_offset\": 520, \"token\": \"a\", \"type\": \"<ALPHANUM>\", \"start_offset\": 519, \"position\": 83}, {\"end_offset\": 526, \"token\": \"fatal\", \"type\": \"<ALPHANUM>\", \"start_offset\": 521, \"position\": 84}, {\"end_offset\": 536, \"token\": \"diagnosis\", \"type\": \"<ALPHANUM>\", \"start_offset\": 527, \"position\": 85}, {\"end_offset\": 541, \"token\": \"such\", \"type\": \"<ALPHANUM>\", \"start_offset\": 537, \"position\": 86}, {\"end_offset\": 544, \"token\": \"as\", \"type\": \"<ALPHANUM>\", \"start_offset\": 542, \"position\": 87}, {\"end_offset\": 552, \"token\": \"white's\", \"type\": \"<ALPHANUM>\", \"start_offset\": 545, \"position\": 88}, {\"end_offset\": 561, \"token\": \"releases\", \"type\": \"<ALPHANUM>\", \"start_offset\": 553, \"position\": 89}, {\"end_offset\": 563, \"token\": \"a\", \"type\": \"<ALPHANUM>\", \"start_offset\": 562, \"position\": 90}, {\"end_offset\": 571, \"token\": \"typical\", \"type\": \"<ALPHANUM>\", \"start_offset\": 564, \"position\": 91}, {\"end_offset\": 575, \"token\": \"man\", \"type\": \"<ALPHANUM>\", \"start_offset\": 572, \"position\": 92}, {\"end_offset\": 580, \"token\": \"from\", \"type\": \"<ALPHANUM>\", \"start_offset\": 576, \"position\": 93}, {\"end_offset\": 584, \"token\": \"the\", \"type\": \"<ALPHANUM>\", \"start_offset\": 581, \"position\": 94}, {\"end_offset\": 590, \"token\": \"daily\", \"type\": \"<ALPHANUM>\", \"start_offset\": 585, \"position\": 95}, {\"end_offset\": 610, \"token\": \"concerns\", \"type\": \"<ALPHANUM>\", \"start_offset\": 602, \"position\": 96}, {\"end_offset\": 614, \"token\": \"and\", \"type\": \"<ALPHANUM>\", \"start_offset\": 611, \"position\": 97}, {\"end_offset\": 626, \"token\": \"constraints\", \"type\": \"<ALPHANUM>\", \"start_offset\": 615, \"position\": 98}, {\"end_offset\": 629, \"token\": \"of\", \"type\": \"<ALPHANUM>\", \"start_offset\": 627, \"position\": 99}, {\"end_offset\": 636, \"token\": \"normal\", \"type\": \"<ALPHANUM>\", \"start_offset\": 630, \"position\": 100}, {\"end_offset\": 644, \"token\": \"society\", \"type\": \"<ALPHANUM>\", \"start_offset\": 637, \"position\": 101}, {\"end_offset\": 648, \"token\": \"and\", \"type\": \"<ALPHANUM>\", \"start_offset\": 645, \"position\": 102}, {\"end_offset\": 656, \"token\": \"follows\", \"type\": \"<ALPHANUM>\", \"start_offset\": 649, \"position\": 103}, {\"end_offset\": 660, \"token\": \"his\", \"type\": \"<ALPHANUM>\", \"start_offset\": 657, \"position\": 104}, {\"end_offset\": 675, \"token\": \"transformation\", \"type\": \"<ALPHANUM>\", \"start_offset\": 661, \"position\": 105}, {\"end_offset\": 680, \"token\": \"from\", \"type\": \"<ALPHANUM>\", \"start_offset\": 676, \"position\": 106}, {\"end_offset\": 685, \"token\": \"mild\", \"type\": \"<ALPHANUM>\", \"start_offset\": 681, \"position\": 107}, {\"end_offset\": 692, \"token\": \"family\", \"type\": \"<ALPHANUM>\", \"start_offset\": 686, \"position\": 108}, {\"end_offset\": 696, \"token\": \"man\", \"type\": \"<ALPHANUM>\", \"start_offset\": 693, \"position\": 109}, {\"end_offset\": 699, \"token\": \"to\", \"type\": \"<ALPHANUM>\", \"start_offset\": 697, \"position\": 110}, {\"end_offset\": 701, \"token\": \"a\", \"type\": \"<ALPHANUM>\", \"start_offset\": 700, \"position\": 111}, {\"end_offset\": 709, \"token\": \"kingpin\", \"type\": \"<ALPHANUM>\", \"start_offset\": 702, \"position\": 112}, {\"end_offset\": 723, \"token\": \"of\", \"type\": \"<ALPHANUM>\", \"start_offset\": 721, \"position\": 113}, {\"end_offset\": 727, \"token\": \"the\", \"type\": \"<ALPHANUM>\", \"start_offset\": 724, \"position\": 114}, {\"end_offset\": 732, \"token\": \"drug\", \"type\": \"<ALPHANUM>\", \"start_offset\": 728, \"position\": 115}, {\"end_offset\": 738, \"token\": \"trade\", \"type\": \"<ALPHANUM>\", \"start_offset\": 733, \"position\": 116}]}))\n",
       "        });\n",
       "        "
      ]
     },
     "metadata": {},
     "output_type": "display_data"
    }
   ],
   "source": [
    "\n",
    "summary = '''Breaking Bad follows protagonist Walter White, a chemistry teacher who lives in New Mexico with his wife \n",
    "          and teenage son who has cerebral palsy. White is diagnosed with Stage III cancer and given a prognosis of \n",
    "          two years left to live. With a new sense of fearlessness based on his medical prognosis, and a desire to secure\n",
    "          his family's financial security, White chooses to enter a dangerous world of drugs and crime and ascends to power \n",
    "          in this world. The series explores how a fatal diagnosis such as White's releases a typical man from the daily \n",
    "          concerns and constraints of normal society and follows his transformation from mild family man to a kingpin \n",
    "          of the drug trade.'''\n",
    "\n",
    "r = requests.post('http://localhost:9200/tvseries/_analyze?field=summary&pretty' , data = summary)\n",
    "RenderJSON(r.json())"
   ]
  },
  {
   "cell_type": "markdown",
   "metadata": {
    "slideshow": {
     "slide_type": "subslide"
    }
   },
   "source": [
    "### ¿Qué análisis se usa en mi campo?  (II)"
   ]
  },
  {
   "cell_type": "code",
   "execution_count": 17,
   "metadata": {
    "collapsed": false
   },
   "outputs": [
    {
     "data": {
      "text/html": [
       "<div id=\"aaec5024-0e0d-46bb-b1c9-1a0fd50bbe91\" style=\"height: 600px; width:100%;\"></div>"
      ]
     },
     "metadata": {},
     "output_type": "display_data"
    },
    {
     "data": {
      "application/javascript": [
       "\n",
       "        require([\"https://rawgit.com/caldwell/renderjson/master/renderjson.js\"], function() {\n",
       "          document.getElementById('aaec5024-0e0d-46bb-b1c9-1a0fd50bbe91').appendChild(renderjson({\"tokens\": [{\"end_offset\": 8, \"token\": \"breaking\", \"type\": \"<ALPHANUM>\", \"start_offset\": 0, \"position\": 0}, {\"end_offset\": 12, \"token\": \"bad\", \"type\": \"<ALPHANUM>\", \"start_offset\": 9, \"position\": 1}]}))\n",
       "        });\n",
       "        "
      ]
     },
     "metadata": {},
     "output_type": "display_data"
    }
   ],
   "source": [
    "name = '''Breaking Bad'''\n",
    "\n",
    "r = requests.get('http://localhost:9200/tvseries/_analyze?field=name&pretty' , data = name)\n",
    "RenderJSON(r.json())\n"
   ]
  },
  {
   "cell_type": "markdown",
   "metadata": {
    "slideshow": {
     "slide_type": "slide"
    }
   },
   "source": [
    "## Definiendo nuestro mapping a medida"
   ]
  },
  {
   "cell_type": "code",
   "execution_count": 18,
   "metadata": {
    "collapsed": false,
    "slideshow": {
     "slide_type": "-"
    }
   },
   "outputs": [
    {
     "data": {
      "text/html": [
       "<div id=\"6e9a9974-b5c2-4a1d-a915-7a01643ff09f\" style=\"height: 600px; width:100%;\"></div>"
      ]
     },
     "metadata": {},
     "output_type": "display_data"
    },
    {
     "data": {
      "application/javascript": [
       "\n",
       "        require([\"https://rawgit.com/caldwell/renderjson/master/renderjson.js\"], function() {\n",
       "          document.getElementById('6e9a9974-b5c2-4a1d-a915-7a01643ff09f').appendChild(renderjson({\"tvseries\": {\"mappings\": {\"serie\": {\"properties\": {\"status\": {\"type\": \"string\"}, \"rating\": {\"properties\": {\"average\": {\"type\": \"double\"}}}, \"genres\": {\"type\": \"string\"}, \"weight\": {\"type\": \"long\"}, \"updated\": {\"type\": \"long\"}, \"name\": {\"type\": \"string\"}, \"language\": {\"type\": \"string\"}, \"schedule\": {\"properties\": {\"days\": {\"type\": \"string\"}, \"time\": {\"type\": \"string\"}}}, \"url\": {\"type\": \"string\"}, \"image\": {\"properties\": {\"medium\": {\"type\": \"string\"}, \"original\": {\"type\": \"string\"}}}, \"externals\": {\"properties\": {\"thetvdb\": {\"type\": \"long\"}, \"tvrage\": {\"type\": \"long\"}, \"imdb\": {\"type\": \"string\"}}}, \"premiered\": {\"type\": \"date\", \"format\": \"strict_date_optional_time||epoch_millis\"}, \"summary\": {\"type\": \"string\"}, \"_links\": {\"properties\": {\"nextepisode\": {\"properties\": {\"href\": {\"type\": \"string\"}}}, \"self\": {\"properties\": {\"href\": {\"type\": \"string\"}}}, \"previousepisode\": {\"properties\": {\"href\": {\"type\": \"string\"}}}}}, \"webChannel\": {\"properties\": {\"country\": {\"properties\": {\"timezone\": {\"type\": \"string\"}, \"code\": {\"type\": \"string\"}, \"name\": {\"type\": \"string\"}}}, \"id\": {\"type\": \"long\"}, \"name\": {\"type\": \"string\"}}}, \"runtime\": {\"type\": \"long\"}, \"type\": {\"type\": \"string\"}, \"id\": {\"type\": \"long\"}, \"network\": {\"properties\": {\"country\": {\"properties\": {\"timezone\": {\"type\": \"string\"}, \"code\": {\"type\": \"string\"}, \"name\": {\"type\": \"string\"}}}, \"id\": {\"type\": \"long\"}, \"name\": {\"type\": \"string\"}}}}}}}}))\n",
       "        });\n",
       "        "
      ]
     },
     "metadata": {},
     "output_type": "display_data"
    }
   ],
   "source": [
    "r = requests.get('http://localhost:9200/tvseries/_mappings')\n",
    "RenderJSON(r.json())"
   ]
  },
  {
   "cell_type": "markdown",
   "metadata": {
    "slideshow": {
     "slide_type": "subslide"
    }
   },
   "source": [
    "### Actualizando un mapping...."
   ]
  },
  {
   "cell_type": "code",
   "execution_count": 19,
   "metadata": {
    "collapsed": false
   },
   "outputs": [
    {
     "name": "stdout",
     "output_type": "stream",
     "text": [
      "{\n",
      "  \"error\" : {\n",
      "    \"root_cause\" : [ {\n",
      "      \"type\" : \"merge_mapping_exception\",\n",
      "      \"reason\" : \"Merge failed with failures {[mapper [name] has different [store] values]}\"\n",
      "    } ],\n",
      "    \"type\" : \"merge_mapping_exception\",\n",
      "    \"reason\" : \"Merge failed with failures {[mapper [name] has different [store] values]}\"\n",
      "  },\n",
      "  \"status\" : 400\n",
      "}\n",
      "\n"
     ]
    }
   ],
   "source": [
    "mapping = '''{\n",
    "    \"serie\" : {\n",
    "        \"properties\" : {\n",
    "            \"name\" : {\"type\" : \"string\", \"store\" : true }\n",
    "        }\n",
    "    }\n",
    "}'''\n",
    "\n",
    "r = requests.put('http://localhost:9200/tvseries/_mappings/serie?pretty' , data = mapping)\n",
    "print r.text"
   ]
  },
  {
   "cell_type": "markdown",
   "metadata": {
    "slideshow": {
     "slide_type": "subslide"
    }
   },
   "source": [
    "### Definiendo el mapping al crear el índice"
   ]
  },
  {
   "cell_type": "code",
   "execution_count": 20,
   "metadata": {
    "collapsed": true
   },
   "outputs": [],
   "source": [
    "index_options = '''\n",
    "{ \n",
    "  \"mappings\" : { \n",
    "      \"my_serie\" : {\n",
    "        \"properties\" : {\n",
    "          \"_links\" : {\n",
    "            \"properties\" : {\n",
    "              \"nextepisode\" : {\n",
    "                \"properties\" : {\n",
    "                  \"href\" : {\n",
    "                    \"type\" : \"string\"\n",
    "                  }\n",
    "                }\n",
    "              },\n",
    "              \"previousepisode\" : {\n",
    "                \"properties\" : {\n",
    "                  \"href\" : {\n",
    "                    \"type\" : \"string\"\n",
    "                  }\n",
    "                }\n",
    "              },\n",
    "              \"self\" : {\n",
    "                \"properties\" : {\n",
    "                  \"href\" : {\n",
    "                    \"type\" : \"string\"\n",
    "                  }\n",
    "                }\n",
    "              }\n",
    "            }\n",
    "          },\n",
    "          \"externals\" : {\n",
    "            \"properties\" : {\n",
    "              \"imdb\" : {\n",
    "                \"type\" : \"string\"\n",
    "              },\n",
    "              \"thetvdb\" : {\n",
    "                \"type\" : \"long\"\n",
    "              },\n",
    "              \"tvrage\" : {\n",
    "                \"type\" : \"long\"\n",
    "              }\n",
    "            }\n",
    "          },\n",
    "          \"genres\" : {\n",
    "            \"type\" : \"string\"\n",
    "          },\n",
    "          \"id\" : {\n",
    "            \"type\" : \"long\"\n",
    "          },\n",
    "          \"image\" : {\n",
    "            \"properties\" : {\n",
    "              \"medium\" : {\n",
    "                \"type\" : \"string\"\n",
    "              },\n",
    "              \"original\" : {\n",
    "                \"type\" : \"string\"\n",
    "              }\n",
    "            }\n",
    "          },\n",
    "          \"language\" : {\n",
    "            \"type\" : \"string\"\n",
    "          },\n",
    "          \"name\" : {\n",
    "            \"type\" : \"string\",\n",
    "            \"index\": \"not_analyzed\"\n",
    "          },\n",
    "          \"network\" : {\n",
    "            \"properties\" : {\n",
    "              \"country\" : {\n",
    "                \"properties\" : {\n",
    "                  \"code\" : {\n",
    "                    \"type\" : \"string\"\n",
    "                  },\n",
    "                  \"name\" : {\n",
    "                    \"type\" : \"string\"\n",
    "                  },\n",
    "                  \"timezone\" : {\n",
    "                    \"type\" : \"string\"\n",
    "                  }\n",
    "                }\n",
    "              },\n",
    "              \"id\" : {\n",
    "                \"type\" : \"long\"\n",
    "              },\n",
    "              \"name\" : {\n",
    "                \"type\" : \"string\"\n",
    "              }\n",
    "            }\n",
    "          },\n",
    "          \"premiered\" : {\n",
    "            \"type\" : \"date\",\n",
    "            \"format\" : \"strict_date_optional_time||epoch_millis\"\n",
    "          },\n",
    "          \"rating\" : {\n",
    "            \"properties\" : {\n",
    "              \"average\" : {\n",
    "                \"type\" : \"double\"\n",
    "              }\n",
    "            }\n",
    "          },\n",
    "          \"runtime\" : {\n",
    "            \"type\" : \"long\"\n",
    "          },\n",
    "          \"schedule\" : {\n",
    "            \"properties\" : {\n",
    "              \"days\" : {\n",
    "                \"type\" : \"string\"\n",
    "              },\n",
    "              \"time\" : {\n",
    "                \"type\" : \"string\"\n",
    "              }\n",
    "            }\n",
    "          },\n",
    "          \"status\" : {\n",
    "            \"type\" : \"string\"\n",
    "          },\n",
    "          \"summary\" : {\n",
    "            \"type\" : \"string\"\n",
    "          },\n",
    "          \"type\" : {\n",
    "            \"type\" : \"string\"\n",
    "          },\n",
    "          \"updated\" : {\n",
    "            \"type\" : \"long\"\n",
    "          },\n",
    "          \"url\" : {\n",
    "            \"type\" : \"string\"\n",
    "          },\n",
    "          \"webChannel\" : {\n",
    "            \"properties\" : {\n",
    "              \"country\" : {\n",
    "                \"properties\" : {\n",
    "                  \"code\" : {\n",
    "                    \"type\" : \"string\"\n",
    "                  },\n",
    "                  \"name\" : {\n",
    "                    \"type\" : \"string\"\n",
    "                  },\n",
    "                  \"timezone\" : {\n",
    "                    \"type\" : \"string\"\n",
    "                  }\n",
    "                }\n",
    "              },\n",
    "              \"id\" : {\n",
    "                \"type\" : \"long\"\n",
    "              },\n",
    "              \"name\" : {\n",
    "                \"type\" : \"string\"\n",
    "              }\n",
    "            }\n",
    "          },\n",
    "          \"weight\" : {\n",
    "            \"type\" : \"long\"\n",
    "          }\n",
    "        }\n",
    "      }\n",
    "    }\n",
    "  } \n",
    "}\n",
    "'''"
   ]
  },
  {
   "cell_type": "code",
   "execution_count": 34,
   "metadata": {
    "collapsed": false
   },
   "outputs": [
    {
     "data": {
      "text/html": [
       "<div id=\"139c9c24-4f1f-4725-b864-ebb0615ded36\" style=\"height: 600px; width:100%;\"></div>"
      ]
     },
     "metadata": {},
     "output_type": "display_data"
    },
    {
     "data": {
      "application/javascript": [
       "\n",
       "        require([\"https://rawgit.com/caldwell/renderjson/master/renderjson.js\"], function() {\n",
       "          document.getElementById('139c9c24-4f1f-4725-b864-ebb0615ded36').appendChild(renderjson(<module 'json' from 'c:\\Users\\cdepablo\\Anaconda\\lib\\json\\__init__.pyc'>))\n",
       "        });\n",
       "        "
      ]
     },
     "metadata": {},
     "output_type": "display_data"
    }
   ],
   "source": [
    "RenderJSON(index_options)"
   ]
  },
  {
   "cell_type": "code",
   "execution_count": 21,
   "metadata": {
    "collapsed": false,
    "slideshow": {
     "slide_type": "subslide"
    }
   },
   "outputs": [
    {
     "name": "stdout",
     "output_type": "stream",
     "text": [
      "{\"acknowledged\":true}\n"
     ]
    }
   ],
   "source": [
    "\n",
    "requests.delete('http://localhost:9200/tvseries')\n",
    "requests.delete('http://localhost:9200/my_tvseries')\n",
    "\n",
    "r = requests.post('http://localhost:9200/my_tvseries', data = index_options)\n",
    "print r.text"
   ]
  },
  {
   "cell_type": "code",
   "execution_count": 22,
   "metadata": {
    "collapsed": false,
    "slideshow": {
     "slide_type": "subslide"
    }
   },
   "outputs": [
    {
     "name": "stdout",
     "output_type": "stream",
     "text": [
      "{\n",
      "  \"tokens\" : [ {\n",
      "    \"token\" : \"Breaking Bad\",\n",
      "    \"start_offset\" : 0,\n",
      "    \"end_offset\" : 12,\n",
      "    \"type\" : \"word\",\n",
      "    \"position\" : 0\n",
      "  } ]\n",
      "}\n",
      "\n"
     ]
    }
   ],
   "source": [
    "name = '''Breaking Bad'''\n",
    "\n",
    "r = requests.get('http://localhost:9200/my_tvseries/_analyze?field=name&pretty' , data = name)\n",
    "print r.text\n"
   ]
  },
  {
   "cell_type": "markdown",
   "metadata": {
    "slideshow": {
     "slide_type": "subslide"
    }
   },
   "source": [
    "## Definiendo el mapping (II)"
   ]
  },
  {
   "cell_type": "code",
   "execution_count": 25,
   "metadata": {
    "collapsed": true
   },
   "outputs": [],
   "source": [
    "index_options = '''\n",
    "{ \n",
    "  \"mappings\" : { \n",
    "      \"my_serie\" : {\n",
    "        \"properties\" : {\n",
    "          \"_links\" : {\n",
    "            \"properties\" : {\n",
    "              \"nextepisode\" : {\n",
    "                \"properties\" : {\n",
    "                  \"href\" : {\n",
    "                    \"type\" : \"string\"\n",
    "                  }\n",
    "                }\n",
    "              },\n",
    "              \"previousepisode\" : {\n",
    "                \"properties\" : {\n",
    "                  \"href\" : {\n",
    "                    \"type\" : \"string\"\n",
    "                  }\n",
    "                }\n",
    "              },\n",
    "              \"self\" : {\n",
    "                \"properties\" : {\n",
    "                  \"href\" : {\n",
    "                    \"type\" : \"string\"\n",
    "                  }\n",
    "                }\n",
    "              }\n",
    "            }\n",
    "          },\n",
    "          \"externals\" : {\n",
    "            \"properties\" : {\n",
    "              \"imdb\" : {\n",
    "                \"type\" : \"string\"\n",
    "              },\n",
    "              \"thetvdb\" : {\n",
    "                \"type\" : \"long\"\n",
    "              },\n",
    "              \"tvrage\" : {\n",
    "                \"type\" : \"long\"\n",
    "              }\n",
    "            }\n",
    "          },\n",
    "          \"genres\" : {\n",
    "            \"type\" : \"string\"\n",
    "          },\n",
    "          \"id\" : {\n",
    "            \"type\" : \"long\"\n",
    "          },\n",
    "          \"image\" : {\n",
    "            \"properties\" : {\n",
    "              \"medium\" : {\n",
    "                \"type\" : \"string\"\n",
    "              },\n",
    "              \"original\" : {\n",
    "                \"type\" : \"string\"\n",
    "              }\n",
    "            }\n",
    "          },\n",
    "          \"language\" : {\n",
    "            \"type\" : \"string\"\n",
    "          },\n",
    "          \"name\" : {\n",
    "            \"type\" : \"string\",\n",
    "            \"index\": \"not_analyzed\"\n",
    "          },\n",
    "          \"network\" : {\n",
    "            \"properties\" : {\n",
    "              \"country\" : {\n",
    "                \"properties\" : {\n",
    "                  \"code\" : {\n",
    "                    \"type\" : \"string\"\n",
    "                  },\n",
    "                  \"name\" : {\n",
    "                    \"type\" : \"string\"\n",
    "                  },\n",
    "                  \"timezone\" : {\n",
    "                    \"type\" : \"string\"\n",
    "                  }\n",
    "                }\n",
    "              },\n",
    "              \"id\" : {\n",
    "                \"type\" : \"long\"\n",
    "              },\n",
    "              \"name\" : {\n",
    "                \"type\" : \"string\"\n",
    "              }\n",
    "            }\n",
    "          },\n",
    "          \"premiered\" : {\n",
    "            \"type\" : \"date\",\n",
    "            \"format\" : \"strict_date_optional_time||epoch_millis\"\n",
    "          },\n",
    "          \"rating\" : {\n",
    "            \"properties\" : {\n",
    "              \"average\" : {\n",
    "                \"type\" : \"double\"\n",
    "              }\n",
    "            }\n",
    "          },\n",
    "          \"runtime\" : {\n",
    "            \"type\" : \"long\"\n",
    "          },\n",
    "          \"schedule\" : {\n",
    "            \"properties\" : {\n",
    "              \"days\" : {\n",
    "                \"type\" : \"string\"\n",
    "              },\n",
    "              \"time\" : {\n",
    "                \"type\" : \"string\"\n",
    "              }\n",
    "            }\n",
    "          },\n",
    "          \"status\" : {\n",
    "            \"type\" : \"string\"\n",
    "          },\n",
    "          \"summary\" : {\n",
    "            \"type\" : \"string\",\n",
    "            \"index\": \"analyzed\",\n",
    "            \"analyzer\": \"english\"\n",
    "          },\n",
    "          \"type\" : {\n",
    "            \"type\" : \"string\"\n",
    "          },\n",
    "          \"updated\" : {\n",
    "            \"type\" : \"long\"\n",
    "          },\n",
    "          \"url\" : {\n",
    "            \"type\" : \"string\"\n",
    "          },\n",
    "          \"webChannel\" : {\n",
    "            \"properties\" : {\n",
    "              \"country\" : {\n",
    "                \"properties\" : {\n",
    "                  \"code\" : {\n",
    "                    \"type\" : \"string\"\n",
    "                  },\n",
    "                  \"name\" : {\n",
    "                    \"type\" : \"string\"\n",
    "                  },\n",
    "                  \"timezone\" : {\n",
    "                    \"type\" : \"string\"\n",
    "                  }\n",
    "                }\n",
    "              },\n",
    "              \"id\" : {\n",
    "                \"type\" : \"long\"\n",
    "              },\n",
    "              \"name\" : {\n",
    "                \"type\" : \"string\"\n",
    "              }\n",
    "            }\n",
    "          },\n",
    "          \"weight\" : {\n",
    "            \"type\" : \"long\"\n",
    "          }\n",
    "        }\n",
    "      }\n",
    "    }\n",
    "  } \n",
    "}\n",
    "'''"
   ]
  },
  {
   "cell_type": "code",
   "execution_count": 26,
   "metadata": {
    "collapsed": false,
    "slideshow": {
     "slide_type": "subslide"
    }
   },
   "outputs": [
    {
     "name": "stdout",
     "output_type": "stream",
     "text": [
      "{\"acknowledged\":true}\n"
     ]
    }
   ],
   "source": [
    "requests.delete('http://localhost:9200/my_tvseries')\n",
    "\n",
    "r = requests.post('http://localhost:9200/my_tvseries', data = index_options)\n",
    "print r.text"
   ]
  },
  {
   "cell_type": "code",
   "execution_count": 27,
   "metadata": {
    "collapsed": false,
    "slideshow": {
     "slide_type": "subslide"
    }
   },
   "outputs": [
    {
     "data": {
      "text/plain": [
       "u'{\"_index\":\"my_tvseries\",\"_type\":\"my_serie\",\"_id\":\"169\",\"_version\":1,\"_shards\":{\"total\":1,\"successful\":1,\"failed\":0},\"created\":true}'"
      ]
     },
     "execution_count": 27,
     "metadata": {},
     "output_type": "execute_result"
    }
   ],
   "source": [
    "r = requests.post('http://localhost:9200/my_tvseries/my_serie/169', data = breaking_bad.text)\n",
    "r.text"
   ]
  },
  {
   "cell_type": "code",
   "execution_count": 43,
   "metadata": {
    "collapsed": false,
    "slideshow": {
     "slide_type": "subslide"
    }
   },
   "outputs": [
    {
     "data": {
      "text/html": [
       "<div id=\"26bc272d-f36d-493c-ba64-1e69a4f830ac\" style=\"height: 600px; width:100%;\"></div>"
      ]
     },
     "metadata": {},
     "output_type": "display_data"
    },
    {
     "data": {
      "application/javascript": [
       "\n",
       "        require([\"https://rawgit.com/caldwell/renderjson/master/renderjson.js\"], function() {\n",
       "          document.getElementById('26bc272d-f36d-493c-ba64-1e69a4f830ac').appendChild(renderjson({\"tokens\": [{\"end_offset\": 8, \"token\": \"breaking\", \"type\": \"<ALPHANUM>\", \"start_offset\": 0, \"position\": 0}, {\"end_offset\": 12, \"token\": \"bad\", \"type\": \"<ALPHANUM>\", \"start_offset\": 9, \"position\": 1}, {\"end_offset\": 20, \"token\": \"follows\", \"type\": \"<ALPHANUM>\", \"start_offset\": 13, \"position\": 2}, {\"end_offset\": 32, \"token\": \"protagonist\", \"type\": \"<ALPHANUM>\", \"start_offset\": 21, \"position\": 3}, {\"end_offset\": 39, \"token\": \"walter\", \"type\": \"<ALPHANUM>\", \"start_offset\": 33, \"position\": 4}, {\"end_offset\": 45, \"token\": \"white\", \"type\": \"<ALPHANUM>\", \"start_offset\": 40, \"position\": 5}, {\"end_offset\": 48, \"token\": \"a\", \"type\": \"<ALPHANUM>\", \"start_offset\": 47, \"position\": 6}, {\"end_offset\": 58, \"token\": \"chemistry\", \"type\": \"<ALPHANUM>\", \"start_offset\": 49, \"position\": 7}, {\"end_offset\": 66, \"token\": \"teacher\", \"type\": \"<ALPHANUM>\", \"start_offset\": 59, \"position\": 8}, {\"end_offset\": 70, \"token\": \"who\", \"type\": \"<ALPHANUM>\", \"start_offset\": 67, \"position\": 9}, {\"end_offset\": 76, \"token\": \"lives\", \"type\": \"<ALPHANUM>\", \"start_offset\": 71, \"position\": 10}, {\"end_offset\": 79, \"token\": \"in\", \"type\": \"<ALPHANUM>\", \"start_offset\": 77, \"position\": 11}, {\"end_offset\": 83, \"token\": \"new\", \"type\": \"<ALPHANUM>\", \"start_offset\": 80, \"position\": 12}, {\"end_offset\": 90, \"token\": \"mexico\", \"type\": \"<ALPHANUM>\", \"start_offset\": 84, \"position\": 13}, {\"end_offset\": 95, \"token\": \"with\", \"type\": \"<ALPHANUM>\", \"start_offset\": 91, \"position\": 14}, {\"end_offset\": 99, \"token\": \"his\", \"type\": \"<ALPHANUM>\", \"start_offset\": 96, \"position\": 15}, {\"end_offset\": 104, \"token\": \"wife\", \"type\": \"<ALPHANUM>\", \"start_offset\": 100, \"position\": 16}, {\"end_offset\": 119, \"token\": \"and\", \"type\": \"<ALPHANUM>\", \"start_offset\": 116, \"position\": 17}, {\"end_offset\": 127, \"token\": \"teenage\", \"type\": \"<ALPHANUM>\", \"start_offset\": 120, \"position\": 18}, {\"end_offset\": 131, \"token\": \"son\", \"type\": \"<ALPHANUM>\", \"start_offset\": 128, \"position\": 19}, {\"end_offset\": 135, \"token\": \"who\", \"type\": \"<ALPHANUM>\", \"start_offset\": 132, \"position\": 20}, {\"end_offset\": 139, \"token\": \"has\", \"type\": \"<ALPHANUM>\", \"start_offset\": 136, \"position\": 21}, {\"end_offset\": 148, \"token\": \"cerebral\", \"type\": \"<ALPHANUM>\", \"start_offset\": 140, \"position\": 22}, {\"end_offset\": 154, \"token\": \"palsy\", \"type\": \"<ALPHANUM>\", \"start_offset\": 149, \"position\": 23}, {\"end_offset\": 161, \"token\": \"white\", \"type\": \"<ALPHANUM>\", \"start_offset\": 156, \"position\": 24}, {\"end_offset\": 164, \"token\": \"is\", \"type\": \"<ALPHANUM>\", \"start_offset\": 162, \"position\": 25}, {\"end_offset\": 174, \"token\": \"diagnosed\", \"type\": \"<ALPHANUM>\", \"start_offset\": 165, \"position\": 26}, {\"end_offset\": 179, \"token\": \"with\", \"type\": \"<ALPHANUM>\", \"start_offset\": 175, \"position\": 27}, {\"end_offset\": 185, \"token\": \"stage\", \"type\": \"<ALPHANUM>\", \"start_offset\": 180, \"position\": 28}, {\"end_offset\": 189, \"token\": \"iii\", \"type\": \"<ALPHANUM>\", \"start_offset\": 186, \"position\": 29}, {\"end_offset\": 196, \"token\": \"cancer\", \"type\": \"<ALPHANUM>\", \"start_offset\": 190, \"position\": 30}, {\"end_offset\": 200, \"token\": \"and\", \"type\": \"<ALPHANUM>\", \"start_offset\": 197, \"position\": 31}, {\"end_offset\": 206, \"token\": \"given\", \"type\": \"<ALPHANUM>\", \"start_offset\": 201, \"position\": 32}, {\"end_offset\": 208, \"token\": \"a\", \"type\": \"<ALPHANUM>\", \"start_offset\": 207, \"position\": 33}, {\"end_offset\": 218, \"token\": \"prognosis\", \"type\": \"<ALPHANUM>\", \"start_offset\": 209, \"position\": 34}, {\"end_offset\": 221, \"token\": \"of\", \"type\": \"<ALPHANUM>\", \"start_offset\": 219, \"position\": 35}, {\"end_offset\": 236, \"token\": \"two\", \"type\": \"<ALPHANUM>\", \"start_offset\": 233, \"position\": 36}, {\"end_offset\": 242, \"token\": \"years\", \"type\": \"<ALPHANUM>\", \"start_offset\": 237, \"position\": 37}, {\"end_offset\": 247, \"token\": \"left\", \"type\": \"<ALPHANUM>\", \"start_offset\": 243, \"position\": 38}, {\"end_offset\": 250, \"token\": \"to\", \"type\": \"<ALPHANUM>\", \"start_offset\": 248, \"position\": 39}, {\"end_offset\": 255, \"token\": \"live\", \"type\": \"<ALPHANUM>\", \"start_offset\": 251, \"position\": 40}, {\"end_offset\": 261, \"token\": \"with\", \"type\": \"<ALPHANUM>\", \"start_offset\": 257, \"position\": 41}, {\"end_offset\": 263, \"token\": \"a\", \"type\": \"<ALPHANUM>\", \"start_offset\": 262, \"position\": 42}, {\"end_offset\": 267, \"token\": \"new\", \"type\": \"<ALPHANUM>\", \"start_offset\": 264, \"position\": 43}, {\"end_offset\": 273, \"token\": \"sense\", \"type\": \"<ALPHANUM>\", \"start_offset\": 268, \"position\": 44}, {\"end_offset\": 276, \"token\": \"of\", \"type\": \"<ALPHANUM>\", \"start_offset\": 274, \"position\": 45}, {\"end_offset\": 289, \"token\": \"fearlessness\", \"type\": \"<ALPHANUM>\", \"start_offset\": 277, \"position\": 46}, {\"end_offset\": 295, \"token\": \"based\", \"type\": \"<ALPHANUM>\", \"start_offset\": 290, \"position\": 47}, {\"end_offset\": 298, \"token\": \"on\", \"type\": \"<ALPHANUM>\", \"start_offset\": 296, \"position\": 48}, {\"end_offset\": 302, \"token\": \"his\", \"type\": \"<ALPHANUM>\", \"start_offset\": 299, \"position\": 49}, {\"end_offset\": 310, \"token\": \"medical\", \"type\": \"<ALPHANUM>\", \"start_offset\": 303, \"position\": 50}, {\"end_offset\": 320, \"token\": \"prognosis\", \"type\": \"<ALPHANUM>\", \"start_offset\": 311, \"position\": 51}, {\"end_offset\": 325, \"token\": \"and\", \"type\": \"<ALPHANUM>\", \"start_offset\": 322, \"position\": 52}, {\"end_offset\": 327, \"token\": \"a\", \"type\": \"<ALPHANUM>\", \"start_offset\": 326, \"position\": 53}, {\"end_offset\": 334, \"token\": \"desire\", \"type\": \"<ALPHANUM>\", \"start_offset\": 328, \"position\": 54}, {\"end_offset\": 337, \"token\": \"to\", \"type\": \"<ALPHANUM>\", \"start_offset\": 335, \"position\": 55}, {\"end_offset\": 344, \"token\": \"secure\", \"type\": \"<ALPHANUM>\", \"start_offset\": 338, \"position\": 56}, {\"end_offset\": 358, \"token\": \"his\", \"type\": \"<ALPHANUM>\", \"start_offset\": 355, \"position\": 57}, {\"end_offset\": 367, \"token\": \"family's\", \"type\": \"<ALPHANUM>\", \"start_offset\": 359, \"position\": 58}, {\"end_offset\": 377, \"token\": \"financial\", \"type\": \"<ALPHANUM>\", \"start_offset\": 368, \"position\": 59}, {\"end_offset\": 386, \"token\": \"security\", \"type\": \"<ALPHANUM>\", \"start_offset\": 378, \"position\": 60}, {\"end_offset\": 393, \"token\": \"white\", \"type\": \"<ALPHANUM>\", \"start_offset\": 388, \"position\": 61}, {\"end_offset\": 401, \"token\": \"chooses\", \"type\": \"<ALPHANUM>\", \"start_offset\": 394, \"position\": 62}, {\"end_offset\": 404, \"token\": \"to\", \"type\": \"<ALPHANUM>\", \"start_offset\": 402, \"position\": 63}, {\"end_offset\": 410, \"token\": \"enter\", \"type\": \"<ALPHANUM>\", \"start_offset\": 405, \"position\": 64}, {\"end_offset\": 412, \"token\": \"a\", \"type\": \"<ALPHANUM>\", \"start_offset\": 411, \"position\": 65}, {\"end_offset\": 422, \"token\": \"dangerous\", \"type\": \"<ALPHANUM>\", \"start_offset\": 413, \"position\": 66}, {\"end_offset\": 428, \"token\": \"world\", \"type\": \"<ALPHANUM>\", \"start_offset\": 423, \"position\": 67}, {\"end_offset\": 431, \"token\": \"of\", \"type\": \"<ALPHANUM>\", \"start_offset\": 429, \"position\": 68}, {\"end_offset\": 437, \"token\": \"drugs\", \"type\": \"<ALPHANUM>\", \"start_offset\": 432, \"position\": 69}, {\"end_offset\": 441, \"token\": \"and\", \"type\": \"<ALPHANUM>\", \"start_offset\": 438, \"position\": 70}, {\"end_offset\": 447, \"token\": \"crime\", \"type\": \"<ALPHANUM>\", \"start_offset\": 442, \"position\": 71}, {\"end_offset\": 451, \"token\": \"and\", \"type\": \"<ALPHANUM>\", \"start_offset\": 448, \"position\": 72}, {\"end_offset\": 459, \"token\": \"ascends\", \"type\": \"<ALPHANUM>\", \"start_offset\": 452, \"position\": 73}, {\"end_offset\": 462, \"token\": \"to\", \"type\": \"<ALPHANUM>\", \"start_offset\": 460, \"position\": 74}, {\"end_offset\": 468, \"token\": \"power\", \"type\": \"<ALPHANUM>\", \"start_offset\": 463, \"position\": 75}, {\"end_offset\": 482, \"token\": \"in\", \"type\": \"<ALPHANUM>\", \"start_offset\": 480, \"position\": 76}, {\"end_offset\": 487, \"token\": \"this\", \"type\": \"<ALPHANUM>\", \"start_offset\": 483, \"position\": 77}, {\"end_offset\": 493, \"token\": \"world\", \"type\": \"<ALPHANUM>\", \"start_offset\": 488, \"position\": 78}, {\"end_offset\": 498, \"token\": \"the\", \"type\": \"<ALPHANUM>\", \"start_offset\": 495, \"position\": 79}, {\"end_offset\": 505, \"token\": \"series\", \"type\": \"<ALPHANUM>\", \"start_offset\": 499, \"position\": 80}, {\"end_offset\": 514, \"token\": \"explores\", \"type\": \"<ALPHANUM>\", \"start_offset\": 506, \"position\": 81}, {\"end_offset\": 518, \"token\": \"how\", \"type\": \"<ALPHANUM>\", \"start_offset\": 515, \"position\": 82}, {\"end_offset\": 520, \"token\": \"a\", \"type\": \"<ALPHANUM>\", \"start_offset\": 519, \"position\": 83}, {\"end_offset\": 526, \"token\": \"fatal\", \"type\": \"<ALPHANUM>\", \"start_offset\": 521, \"position\": 84}, {\"end_offset\": 536, \"token\": \"diagnosis\", \"type\": \"<ALPHANUM>\", \"start_offset\": 527, \"position\": 85}, {\"end_offset\": 541, \"token\": \"such\", \"type\": \"<ALPHANUM>\", \"start_offset\": 537, \"position\": 86}, {\"end_offset\": 544, \"token\": \"as\", \"type\": \"<ALPHANUM>\", \"start_offset\": 542, \"position\": 87}, {\"end_offset\": 552, \"token\": \"white's\", \"type\": \"<ALPHANUM>\", \"start_offset\": 545, \"position\": 88}, {\"end_offset\": 561, \"token\": \"releases\", \"type\": \"<ALPHANUM>\", \"start_offset\": 553, \"position\": 89}, {\"end_offset\": 563, \"token\": \"a\", \"type\": \"<ALPHANUM>\", \"start_offset\": 562, \"position\": 90}, {\"end_offset\": 571, \"token\": \"typical\", \"type\": \"<ALPHANUM>\", \"start_offset\": 564, \"position\": 91}, {\"end_offset\": 575, \"token\": \"man\", \"type\": \"<ALPHANUM>\", \"start_offset\": 572, \"position\": 92}, {\"end_offset\": 580, \"token\": \"from\", \"type\": \"<ALPHANUM>\", \"start_offset\": 576, \"position\": 93}, {\"end_offset\": 584, \"token\": \"the\", \"type\": \"<ALPHANUM>\", \"start_offset\": 581, \"position\": 94}, {\"end_offset\": 590, \"token\": \"daily\", \"type\": \"<ALPHANUM>\", \"start_offset\": 585, \"position\": 95}, {\"end_offset\": 610, \"token\": \"concerns\", \"type\": \"<ALPHANUM>\", \"start_offset\": 602, \"position\": 96}, {\"end_offset\": 614, \"token\": \"and\", \"type\": \"<ALPHANUM>\", \"start_offset\": 611, \"position\": 97}, {\"end_offset\": 626, \"token\": \"constraints\", \"type\": \"<ALPHANUM>\", \"start_offset\": 615, \"position\": 98}, {\"end_offset\": 629, \"token\": \"of\", \"type\": \"<ALPHANUM>\", \"start_offset\": 627, \"position\": 99}, {\"end_offset\": 636, \"token\": \"normal\", \"type\": \"<ALPHANUM>\", \"start_offset\": 630, \"position\": 100}, {\"end_offset\": 644, \"token\": \"society\", \"type\": \"<ALPHANUM>\", \"start_offset\": 637, \"position\": 101}, {\"end_offset\": 648, \"token\": \"and\", \"type\": \"<ALPHANUM>\", \"start_offset\": 645, \"position\": 102}, {\"end_offset\": 656, \"token\": \"follows\", \"type\": \"<ALPHANUM>\", \"start_offset\": 649, \"position\": 103}, {\"end_offset\": 660, \"token\": \"his\", \"type\": \"<ALPHANUM>\", \"start_offset\": 657, \"position\": 104}, {\"end_offset\": 675, \"token\": \"transformation\", \"type\": \"<ALPHANUM>\", \"start_offset\": 661, \"position\": 105}, {\"end_offset\": 680, \"token\": \"from\", \"type\": \"<ALPHANUM>\", \"start_offset\": 676, \"position\": 106}, {\"end_offset\": 686, \"token\": \"mimld\", \"type\": \"<ALPHANUM>\", \"start_offset\": 681, \"position\": 107}, {\"end_offset\": 693, \"token\": \"family\", \"type\": \"<ALPHANUM>\", \"start_offset\": 687, \"position\": 108}, {\"end_offset\": 697, \"token\": \"man\", \"type\": \"<ALPHANUM>\", \"start_offset\": 694, \"position\": 109}, {\"end_offset\": 700, \"token\": \"to\", \"type\": \"<ALPHANUM>\", \"start_offset\": 698, \"position\": 110}, {\"end_offset\": 702, \"token\": \"a\", \"type\": \"<ALPHANUM>\", \"start_offset\": 701, \"position\": 111}, {\"end_offset\": 710, \"token\": \"kingpin\", \"type\": \"<ALPHANUM>\", \"start_offset\": 703, \"position\": 112}, {\"end_offset\": 724, \"token\": \"of\", \"type\": \"<ALPHANUM>\", \"start_offset\": 722, \"position\": 113}, {\"end_offset\": 728, \"token\": \"the\", \"type\": \"<ALPHANUM>\", \"start_offset\": 725, \"position\": 114}, {\"end_offset\": 733, \"token\": \"drug\", \"type\": \"<ALPHANUM>\", \"start_offset\": 729, \"position\": 115}, {\"end_offset\": 739, \"token\": \"trade\", \"type\": \"<ALPHANUM>\", \"start_offset\": 734, \"position\": 116}]}))\n",
       "        });\n",
       "        "
      ]
     },
     "metadata": {},
     "output_type": "display_data"
    }
   ],
   "source": [
    "summary = '''Breaking Bad follows protagonist Walter White, a chemistry teacher who lives in New Mexico with his wife \n",
    "          and teenage son who has cerebral palsy. White is diagnosed with Stage III cancer and given a prognosis of \n",
    "          two years left to live. With a new sense of fearlessness based on his medical prognosis, and a desire to secure\n",
    "          his family's financial security, White chooses to enter a dangerous world of drugs and crime and ascends to power \n",
    "          in this world. The series explores how a fatal diagnosis such as White's releases a typical man from the daily \n",
    "          concerns and constraints of normal society and follows his transformation from miMld family man to a kingpin \n",
    "          of the drug trade.'''\n",
    "\n",
    "r = requests.post('http://localhost:9200/my_tvseries/_analyze?field=summary' , data = summary)\n",
    "RenderJSON(r.json())"
   ]
  },
  {
   "cell_type": "markdown",
   "metadata": {
    "slideshow": {
     "slide_type": "subslide"
    }
   },
   "source": [
    "### Definiendo el mapping (III)"
   ]
  },
  {
   "cell_type": "code",
   "execution_count": 23,
   "metadata": {
    "collapsed": true,
    "slideshow": {
     "slide_type": "-"
    }
   },
   "outputs": [],
   "source": [
    "index_options = '''\n",
    "{ \n",
    "  \"mappings\" : { \n",
    "      \"my_serie\" : {\n",
    "        \"properties\" : {\n",
    "          \"_links\" : {\n",
    "            \"properties\" : {\n",
    "              \"nextepisode\" : {\n",
    "                \"properties\" : {\n",
    "                  \"href\" : {\n",
    "                    \"type\" : \"string\",\n",
    "                    \"index\" : \"no\"\n",
    "                  }\n",
    "                }\n",
    "              },\n",
    "              \"previousepisode\" : {\n",
    "                \"properties\" : {\n",
    "                  \"href\" : {\n",
    "                    \"type\" : \"string\",\n",
    "                    \"index\" : \"no\"\n",
    "                  }\n",
    "                }\n",
    "              },\n",
    "              \"self\" : {\n",
    "                \"properties\" : {\n",
    "                  \"href\" : {\n",
    "                    \"type\" : \"string\",\n",
    "                    \"index\" : \"no\"\n",
    "                   }\n",
    "                }\n",
    "              }\n",
    "            }\n",
    "          },\n",
    "          \"externals\" : {\n",
    "            \"properties\" : {\n",
    "              \"imdb\" : {\n",
    "                \"type\" : \"string\",\n",
    "                \"index\" : \"no\"\n",
    "              },\n",
    "              \"thetvdb\" : {\n",
    "                \"type\" : \"long\",\n",
    "                \"index\": \"no\"\n",
    "              },\n",
    "              \"tvrage\" : {\n",
    "                \"type\" : \"long\",\n",
    "                \"index\": \"no\"\n",
    "              }\n",
    "            }\n",
    "          },\n",
    "          \"genres\" : {\n",
    "            \"type\" : \"string\",\n",
    "            \"index\": \"not_analyzed\"\n",
    "          },\n",
    "          \"id\" : {\n",
    "            \"type\" : \"long\"\n",
    "          },\n",
    "          \"image\" : {\n",
    "            \"properties\" : {\n",
    "              \"medium\" : {\n",
    "                \"type\" : \"string\",\n",
    "                \"index\": \"no\"\n",
    "              },\n",
    "              \"original\" : {\n",
    "                \"type\" : \"string\",\n",
    "                \"index\": \"no\"\n",
    "              }\n",
    "            }\n",
    "          },\n",
    "          \"language\" : {\n",
    "            \"type\" : \"string\",\n",
    "            \"index\": \"not_analyzed\"\n",
    "          },\n",
    "          \"name\" : {\n",
    "            \"type\" : \"string\"\n",
    "          },\n",
    "          \"network\" : {\n",
    "            \"properties\" : {\n",
    "              \"country\" : {\n",
    "                \"properties\" : {\n",
    "                  \"code\" : {\n",
    "                    \"type\" : \"string\",\n",
    "                    \"index\": \"not_analyzed\"\n",
    "                  },\n",
    "                  \"name\" : {\n",
    "                    \"type\" : \"string\"\n",
    "                  },\n",
    "                  \"timezone\" : {\n",
    "                    \"type\" : \"string\",\n",
    "                    \"index\": \"not_analyzed\"\n",
    "                  }\n",
    "                }\n",
    "              },\n",
    "              \"id\" : {\n",
    "                \"type\" : \"long\"\n",
    "              },\n",
    "              \"name\" : {\n",
    "                \"type\" : \"string\"\n",
    "              }\n",
    "            }\n",
    "          },\n",
    "          \"premiered\" : {\n",
    "            \"type\" : \"date\",\n",
    "            \"format\" : \"strict_date_optional_time||epoch_millis\"\n",
    "          },\n",
    "          \"rating\" : {\n",
    "            \"properties\" : {\n",
    "              \"average\" : {\n",
    "                \"type\" : \"double\"\n",
    "              }\n",
    "            }\n",
    "          },\n",
    "          \"runtime\" : {\n",
    "            \"type\" : \"long\"\n",
    "          },\n",
    "          \"schedule\" : {\n",
    "            \"properties\" : {\n",
    "              \"days\" : {\n",
    "                \"type\" : \"string\",\n",
    "                \"index\": \"not_analyzed\"\n",
    "              },\n",
    "              \"time\" : {\n",
    "                \"type\" : \"date\",\n",
    "                \"format\" : \"hour_minute\",\n",
    "                \"ignore_malformed\": true\n",
    "              }\n",
    "            }\n",
    "          },\n",
    "          \"status\" : {\n",
    "            \"type\" : \"string\",\n",
    "            \"index\": \"not_analyzed\"            \n",
    "          },\n",
    "          \"summary\" : {\n",
    "            \"type\" : \"string\",\n",
    "            \"index\": \"analyzed\",\n",
    "            \"analyzer\": \"english\"\n",
    "          },\n",
    "          \"type\" : {\n",
    "            \"type\" : \"string\",\n",
    "            \"index\": \"not_analyzed\"            \n",
    "          },\n",
    "          \"updated\" : {\n",
    "            \"type\" : \"long\"\n",
    "          },\n",
    "          \"url\" : {\n",
    "            \"type\" : \"string\",\n",
    "            \"index\": \"not_analyzed\"            \n",
    "          },\n",
    "          \"webChannel\" : {\n",
    "            \"properties\" : {\n",
    "              \"country\" : {\n",
    "                \"properties\" : {\n",
    "                  \"code\" : {\n",
    "                    \"type\" : \"string\",\n",
    "                    \"index\": \"not_analyzed\"\n",
    "                  },\n",
    "                  \"name\" : {\n",
    "                    \"type\" : \"string\"\n",
    "                  },\n",
    "                  \"timezone\" : {\n",
    "                    \"type\" : \"string\",\n",
    "                    \"index\": \"not_analyzed\"\n",
    "                  }\n",
    "                }\n",
    "              },\n",
    "              \"id\" : {\n",
    "                \"type\" : \"long\"\n",
    "              },\n",
    "              \"name\" : {\n",
    "                \"type\" : \"string\"\n",
    "              }\n",
    "            }\n",
    "          },\n",
    "          \"weight\" : {\n",
    "            \"type\" : \"long\"\n",
    "          }\n",
    "        }\n",
    "      }\n",
    "    }\n",
    "  } \n",
    "'''"
   ]
  },
  {
   "cell_type": "code",
   "execution_count": 24,
   "metadata": {
    "collapsed": false,
    "slideshow": {
     "slide_type": "subslide"
    }
   },
   "outputs": [
    {
     "name": "stdout",
     "output_type": "stream",
     "text": [
      "{\"acknowledged\":true}\n"
     ]
    }
   ],
   "source": [
    "requests.delete('http://localhost:9200/my_tvseries')\n",
    "\n",
    "r = requests.post('http://localhost:9200/my_tvseries', data = index_options)\n",
    "print r.text"
   ]
  },
  {
   "cell_type": "code",
   "execution_count": 25,
   "metadata": {
    "collapsed": false
   },
   "outputs": [
    {
     "data": {
      "text/plain": [
       "u'{\"_index\":\"my_tvseries\",\"_type\":\"my_serie\",\"_id\":\"169\",\"_version\":1,\"_shards\":{\"total\":1,\"successful\":1,\"failed\":0},\"created\":true}'"
      ]
     },
     "execution_count": 25,
     "metadata": {},
     "output_type": "execute_result"
    }
   ],
   "source": [
    "r = requests.post('http://localhost:9200/my_tvseries/my_serie/169', data = breaking_bad.text)\n",
    "r.text"
   ]
  },
  {
   "cell_type": "code",
   "execution_count": 26,
   "metadata": {
    "collapsed": false,
    "slideshow": {
     "slide_type": "subslide"
    }
   },
   "outputs": [
    {
     "name": "stdout",
     "output_type": "stream",
     "text": [
      "blindspot indexed: {\"_index\":\"my_tvseries\",\"_type\":\"my_serie\",\"_id\":\"1855\",\"_version\":1,\"_shards\":{\"total\":1,\"successful\":1,\"failed\":0},\"created\":true}\n",
      "the knick indexed: {\"_index\":\"my_tvseries\",\"_type\":\"my_serie\",\"_id\":\"51\",\"_version\":1,\"_shards\":{\"total\":1,\"successful\":1,\"failed\":0},\"created\":true}\n",
      "house of cards indexed: {\"_index\":\"my_tvseries\",\"_type\":\"my_serie\",\"_id\":\"175\",\"_version\":1,\"_shards\":{\"total\":1,\"successful\":1,\"failed\":0},\"created\":true}\n",
      "orange is the new black indexed: {\"_index\":\"my_tvseries\",\"_type\":\"my_serie\",\"_id\":\"170\",\"_version\":1,\"_shards\":{\"total\":1,\"successful\":1,\"failed\":0},\"created\":true}\n",
      "true detective indexed: {\"_index\":\"my_tvseries\",\"_type\":\"my_serie\",\"_id\":\"5\",\"_version\":1,\"_shards\":{\"total\":1,\"successful\":1,\"failed\":0},\"created\":true}\n",
      "game of thrones indexed: {\"_index\":\"my_tvseries\",\"_type\":\"my_serie\",\"_id\":\"82\",\"_version\":1,\"_shards\":{\"total\":1,\"successful\":1,\"failed\":0},\"created\":true}\n",
      "the tudors indexed: {\"_index\":\"my_tvseries\",\"_type\":\"my_serie\",\"_id\":\"712\",\"_version\":1,\"_shards\":{\"total\":1,\"successful\":1,\"failed\":0},\"created\":true}\n",
      "isabel indexed: {\"_index\":\"my_tvseries\",\"_type\":\"my_serie\",\"_id\":\"9274\",\"_version\":1,\"_shards\":{\"total\":1,\"successful\":1,\"failed\":0},\"created\":true}\n",
      "versailles indexed: {\"_index\":\"my_tvseries\",\"_type\":\"my_serie\",\"_id\":\"3386\",\"_version\":1,\"_shards\":{\"total\":1,\"successful\":1,\"failed\":0},\"created\":true}\n",
      "los serrano indexed: {\"_index\":\"my_tvseries\",\"_type\":\"my_serie\",\"_id\":\"6346\",\"_version\":1,\"_shards\":{\"total\":1,\"successful\":1,\"failed\":0},\"created\":true}\n"
     ]
    }
   ],
   "source": [
    "series = ['blindspot','the knick','house of cards', 'orange is the new black',\n",
    "          'true detective', 'game of thrones',\n",
    "          'the tudors','isabel', 'versailles', 'los serrano']\n",
    "\n",
    "for s in series:  \n",
    "  data = requests.get('http://api.tvmaze.com/singlesearch/shows?q=' + s ) \n",
    "  id = data.json()['id']\n",
    "  response = requests.post('http://localhost:9200/my_tvseries/my_serie/' + str(id), data = data)\n",
    "  print s + \" indexed: \" + response.text "
   ]
  },
  {
   "cell_type": "markdown",
   "metadata": {
    "slideshow": {
     "slide_type": "subslide"
    }
   },
   "source": [
    "#### Algunas comprobaciones"
   ]
  },
  {
   "cell_type": "code",
   "execution_count": 28,
   "metadata": {
    "collapsed": false
   },
   "outputs": [
    {
     "name": "stdout",
     "output_type": "stream",
     "text": [
      "{\n",
      "  \"took\" : 14,\n",
      "  \"timed_out\" : false,\n",
      "  \"_shards\" : {\n",
      "    \"total\" : 1,\n",
      "    \"successful\" : 1,\n",
      "    \"failed\" : 0\n",
      "  },\n",
      "  \"hits\" : {\n",
      "    \"total\" : 9,\n",
      "    \"max_score\" : 1.0953102,\n",
      "    \"hits\" : [ {\n",
      "      \"_index\" : \"my_tvseries\",\n",
      "      \"_type\" : \"my_serie\",\n",
      "      \"_id\" : \"51\",\n",
      "      \"_score\" : 1.0953102,\n",
      "      \"_source\":{\"id\":51,\"url\":\"http://www.tvmaze.com/shows/51/the-knick\",\"name\":\"The Knick\",\"type\":\"Scripted\",\"language\":\"English\",\"genres\":[\"Drama\",\"Medical\"],\"status\":\"To Be Determined\",\"runtime\":60,\"premiered\":\"2014-08-08\",\"schedule\":{\"time\":\"22:00\",\"days\":[\"Friday\"]},\"rating\":{\"average\":8.7},\"weight\":2,\"network\":{\"id\":19,\"name\":\"Cinemax\",\"country\":{\"name\":\"United States\",\"code\":\"US\",\"timezone\":\"America/New_York\"}},\"webChannel\":null,\"externals\":{\"tvrage\":36033,\"thetvdb\":279977,\"imdb\":\"tt2937900\"},\"image\":{\"medium\":\"http://tvmazecdn.com/uploads/images/medium_portrait/0/417.jpg\",\"original\":\"http://tvmazecdn.com/uploads/images/original_untouched/0/417.jpg\"},\"summary\":\"<p>New York City, 1900: The Knickerbocker Hospital is home to groundbreaking surgeons, nurses and staff who push the boundaries of medicine in a time of astonishingly high mortality rates and zero antibiotics. The newly appointed leader of the surgery staff is the brilliant, arrogant renegade Dr. John Thackery, whose addiction to cocaine and opium is trumped only by his ambition for medical discovery and renown among his peers. Into the all-white staff and patient hospital comes the equally gifted Harvard graduate Dr. Algernon Edwards, who must fight for respect while trying to navigate the racially charged city. Trying to maintain its reputation for quality care while realizing a profit, the Knickerbocker makes an effort to attract wealthy clientele, while literally struggling to keep the lights on.</p>\",\"updated\":1455121010,\"_links\":{\"self\":{\"href\":\"http://api.tvmaze.com/shows/51\"},\"previousepisode\":{\"href\":\"http://api.tvmaze.com/episodes/213032\"}}}\n",
      "    }, {\n",
      "      \"_index\" : \"my_tvseries\",\n",
      "      \"_type\" : \"my_serie\",\n",
      "      \"_id\" : \"169\",\n",
      "      \"_score\" : 1.0953102,\n",
      "      \"_source\":{\"id\":169,\"url\":\"http://www.tvmaze.com/shows/169/breaking-bad\",\"name\":\"Breaking Bad\",\"type\":\"Scripted\",\"language\":\"English\",\"genres\":[\"Drama\",\"Crime\",\"Thriller\"],\"status\":\"Ended\",\"runtime\":60,\"premiered\":\"2008-01-20\",\"schedule\":{\"time\":\"22:00\",\"days\":[\"Sunday\"]},\"rating\":{\"average\":9.4},\"weight\":4,\"network\":{\"id\":20,\"name\":\"AMC\",\"country\":{\"name\":\"United States\",\"code\":\"US\",\"timezone\":\"America/New_York\"}},\"webChannel\":null,\"externals\":{\"tvrage\":18164,\"thetvdb\":81189,\"imdb\":\"tt0903747\"},\"image\":{\"medium\":\"http://tvmazecdn.com/uploads/images/medium_portrait/0/2400.jpg\",\"original\":\"http://tvmazecdn.com/uploads/images/original_untouched/0/2400.jpg\"},\"summary\":\"<p><em><strong>\\\"Breaking Bad\\\"</strong></em> follows protagonist Walter White, a chemistry teacher who lives in New Mexico with his wife and teenage son who has cerebral palsy. White is diagnosed with Stage III cancer and given a prognosis of two years left to live. With a new sense of fearlessness based on his medical prognosis, and a desire to secure his family's financial security, White chooses to enter a dangerous world of drugs and crime and ascends to power in this world. The series explores how a fatal diagnosis such as White's releases a typical man from the daily concerns and constraints of normal society and follows his transformation from mild family man to a kingpin of the drug trade.</p>\",\"updated\":1456333620,\"_links\":{\"self\":{\"href\":\"http://api.tvmaze.com/shows/169\"},\"previousepisode\":{\"href\":\"http://api.tvmaze.com/episodes/12253\"}}}\n",
      "    }, {\n",
      "      \"_index\" : \"my_tvseries\",\n",
      "      \"_type\" : \"my_serie\",\n",
      "      \"_id\" : \"82\",\n",
      "      \"_score\" : 1.0953102,\n",
      "      \"_source\":{\"id\":82,\"url\":\"http://www.tvmaze.com/shows/82/game-of-thrones\",\"name\":\"Game of Thrones\",\"type\":\"Scripted\",\"language\":\"English\",\"genres\":[\"Drama\",\"Adventure\",\"Fantasy\"],\"status\":\"Running\",\"runtime\":60,\"premiered\":\"2011-04-17\",\"schedule\":{\"time\":\"21:00\",\"days\":[\"Sunday\"]},\"rating\":{\"average\":9.4},\"weight\":15,\"network\":{\"id\":8,\"name\":\"HBO\",\"country\":{\"name\":\"United States\",\"code\":\"US\",\"timezone\":\"America/New_York\"}},\"webChannel\":null,\"externals\":{\"tvrage\":24493,\"thetvdb\":121361,\"imdb\":\"tt0944947\"},\"image\":{\"medium\":\"http://tvmazecdn.com/uploads/images/medium_portrait/0/581.jpg\",\"original\":\"http://tvmazecdn.com/uploads/images/original_untouched/0/581.jpg\"},\"summary\":\"<p>Based on the bestselling book series A Song of Ice and Fire by George R.R. Martin, this sprawling new HBO drama is set in a world where summers span decades and winters can last a lifetime. From the scheming south and the savage eastern lands, to the frozen north and ancient Wall that protects the realm from the mysterious darkness beyond, the powerful families of the Seven Kingdoms are locked in a battle for the Iron Throne. This is a story of duplicity and treachery, nobility and honor, conquest and triumph. In the <strong><em>\\\"Game of Thrones\\\"</em></strong>, you either win or you die.</p>\",\"updated\":1456163780,\"_links\":{\"self\":{\"href\":\"http://api.tvmaze.com/shows/82\"},\"previousepisode\":{\"href\":\"http://api.tvmaze.com/episodes/162186\"},\"nextepisode\":{\"href\":\"http://api.tvmaze.com/episodes/560813\"}}}\n",
      "    }, {\n",
      "      \"_index\" : \"my_tvseries\",\n",
      "      \"_type\" : \"my_serie\",\n",
      "      \"_id\" : \"5\",\n",
      "      \"_score\" : 1.0953102,\n",
      "      \"_source\":{\"id\":5,\"url\":\"http://www.tvmaze.com/shows/5/true-detective\",\"name\":\"True Detective\",\"type\":\"Scripted\",\"language\":\"English\",\"genres\":[\"Drama\",\"Crime\",\"Thriller\",\"Mystery\"],\"status\":\"To Be Determined\",\"runtime\":60,\"premiered\":\"2014-01-12\",\"schedule\":{\"time\":\"21:00\",\"days\":[\"Sunday\"]},\"rating\":{\"average\":8.5},\"weight\":4,\"network\":{\"id\":8,\"name\":\"HBO\",\"country\":{\"name\":\"United States\",\"code\":\"US\",\"timezone\":\"America/New_York\"}},\"webChannel\":null,\"externals\":{\"tvrage\":31369,\"thetvdb\":270633,\"imdb\":\"tt2356777\"},\"image\":{\"medium\":\"http://tvmazecdn.com/uploads/images/medium_portrait/0/61.jpg\",\"original\":\"http://tvmazecdn.com/uploads/images/original_untouched/0/61.jpg\"},\"summary\":\"<p>The series stars Matthew McConaughey and Woody Harrelson as Louisiana detectives Rust Cohle and Martin Hart, whose lives collide and entwine during a 17-year hunt for a killer, ranging from the original investigation of a bizarre murder in 1995 to the reopening of the case in 2012. Michelle Monaghan also stars as Hart's wife, Maggie, who struggles to keep her family together as the men in her life become locked in a cycle of violence and obsession.</p>\",\"updated\":1455233815,\"_links\":{\"self\":{\"href\":\"http://api.tvmaze.com/shows/5\"},\"previousepisode\":{\"href\":\"http://api.tvmaze.com/episodes/182325\"}}}\n",
      "    }, {\n",
      "      \"_index\" : \"my_tvseries\",\n",
      "      \"_type\" : \"my_serie\",\n",
      "      \"_id\" : \"3386\",\n",
      "      \"_score\" : 1.0953102,\n",
      "      \"_source\":{\"id\":3386,\"url\":\"http://www.tvmaze.com/shows/3386/versailles\",\"name\":\"Versailles\",\"type\":\"Scripted\",\"language\":\"English\",\"genres\":[\"Drama\",\"History\"],\"status\":\"Running\",\"runtime\":60,\"premiered\":\"2015-11-16\",\"schedule\":{\"time\":\"\",\"days\":[]},\"rating\":{\"average\":9.3},\"weight\":2,\"network\":{\"id\":105,\"name\":\"Canal+\",\"country\":{\"name\":\"France\",\"code\":\"FR\",\"timezone\":\"Europe/Paris\"}},\"webChannel\":null,\"externals\":{\"tvrage\":null,\"thetvdb\":300280,\"imdb\":\"tt3830558\"},\"image\":{\"medium\":\"http://tvmazecdn.com/uploads/images/medium_portrait/34/86312.jpg\",\"original\":\"http://tvmazecdn.com/uploads/images/original_untouched/34/86312.jpg\"},\"summary\":\"<p>Versailles, 1667. Louis XIV was 28 years old. To rise to the heights of the nobility and wield its absolute power, he launched the construction of Versailles... it proved to be a snare. Louis XIV is a young King haunted by childhood trauma, the Fronde civil, a rebellion of the nobility against his father, Louis XIII... It will prove be a strategic policy out of the ordinary, manipulative, Machiavellian, and he will \\\"invent\\\" Versailles for the nobles of Paris, to keep them under control, and gradually transform the castle into a golden prison. But how will Louis live as the greatest King in the world?</p><p> Historical fiction of the court figures and the more humble villagers, guiding us in a world of betrayals and secrets, politicking and declarations of love.</p>\",\"updated\":1450525730,\"_links\":{\"self\":{\"href\":\"http://api.tvmaze.com/shows/3386\"},\"previousepisode\":{\"href\":\"http://api.tvmaze.com/episodes/471693\"}}}\n",
      "    }, {\n",
      "      \"_index\" : \"my_tvseries\",\n",
      "      \"_type\" : \"my_serie\",\n",
      "      \"_id\" : \"170\",\n",
      "      \"_score\" : 1.0953102,\n",
      "      \"_source\":{\"id\":170,\"url\":\"http://www.tvmaze.com/shows/170/orange-is-the-new-black\",\"name\":\"Orange is the New Black\",\"type\":\"Scripted\",\"language\":\"English\",\"genres\":[\"Drama\",\"Comedy\",\"Crime\"],\"status\":\"Running\",\"runtime\":60,\"premiered\":\"2013-07-11\",\"schedule\":{\"time\":\"\",\"days\":[\"Friday\"]},\"rating\":{\"average\":8.4},\"weight\":3,\"network\":null,\"webChannel\":{\"id\":1,\"name\":\"Netflix\",\"country\":{\"name\":\"United States\",\"code\":\"US\",\"timezone\":\"America/New_York\"}},\"externals\":{\"tvrage\":32950,\"thetvdb\":264586,\"imdb\":\"tt2372162\"},\"image\":{\"medium\":\"http://tvmazecdn.com/uploads/images/medium_portrait/0/2414.jpg\",\"original\":\"http://tvmazecdn.com/uploads/images/original_untouched/0/2414.jpg\"},\"summary\":\"<p>The story of Piper Chapman, a woman in her thirties who is sentenced to fifteen months in prison after being convicted of a decade-old crime of transporting money for her drug-dealing girlfriend.</p>\",\"updated\":1456389243,\"_links\":{\"self\":{\"href\":\"http://api.tvmaze.com/shows/170\"},\"previousepisode\":{\"href\":\"http://api.tvmaze.com/episodes/143007\"},\"nextepisode\":{\"href\":\"http://api.tvmaze.com/episodes/574624\"}}}\n",
      "    }, {\n",
      "      \"_index\" : \"my_tvseries\",\n",
      "      \"_type\" : \"my_serie\",\n",
      "      \"_id\" : \"712\",\n",
      "      \"_score\" : 1.0953102,\n",
      "      \"_source\":{\"id\":712,\"url\":\"http://www.tvmaze.com/shows/712/the-tudors\",\"name\":\"The Tudors\",\"type\":\"Scripted\",\"language\":\"English\",\"genres\":[\"Drama\",\"History\"],\"status\":\"Ended\",\"runtime\":60,\"premiered\":\"2007-04-01\",\"schedule\":{\"time\":\"21:00\",\"days\":[]},\"rating\":{\"average\":8.7},\"weight\":0,\"network\":{\"id\":9,\"name\":\"Showtime\",\"country\":{\"name\":\"United States\",\"code\":\"US\",\"timezone\":\"America/New_York\"}},\"webChannel\":null,\"externals\":{\"tvrage\":7927,\"thetvdb\":79925,\"imdb\":\"tt0758790\"},\"image\":{\"medium\":\"http://tvmazecdn.com/uploads/images/medium_portrait/6/15022.jpg\",\"original\":\"http://tvmazecdn.com/uploads/images/original_untouched/6/15022.jpg\"},\"summary\":\"<p>The final season will consist of 10, one-hour episodes and center on his tumultuous relationships with his last two wives, Catherine Howard and Catherine Parr, and his final descent into madness.</p>\",\"updated\":1449500544,\"_links\":{\"self\":{\"href\":\"http://api.tvmaze.com/shows/712\"},\"previousepisode\":{\"href\":\"http://api.tvmaze.com/episodes/62894\"}}}\n",
      "    }, {\n",
      "      \"_index\" : \"my_tvseries\",\n",
      "      \"_type\" : \"my_serie\",\n",
      "      \"_id\" : \"175\",\n",
      "      \"_score\" : 1.0953102,\n",
      "      \"_source\":{\"id\":175,\"url\":\"http://www.tvmaze.com/shows/175/house-of-cards\",\"name\":\"House of Cards\",\"type\":\"Scripted\",\"language\":\"English\",\"genres\":[\"Drama\",\"Thriller\"],\"status\":\"Running\",\"runtime\":60,\"premiered\":\"2013-02-01\",\"schedule\":{\"time\":\"\",\"days\":[\"Friday\"]},\"rating\":{\"average\":8.9},\"weight\":9,\"network\":null,\"webChannel\":{\"id\":1,\"name\":\"Netflix\",\"country\":{\"name\":\"United States\",\"code\":\"US\",\"timezone\":\"America/New_York\"}},\"externals\":{\"tvrage\":27822,\"thetvdb\":262980,\"imdb\":\"tt1856010\"},\"image\":{\"medium\":\"http://tvmazecdn.com/uploads/images/medium_portrait/0/2460.jpg\",\"original\":\"http://tvmazecdn.com/uploads/images/original_untouched/0/2460.jpg\"},\"summary\":\"<p>A Congressman works with his equally conniving wife to exact revenge on the people who betrayed him.</p>\",\"updated\":1456389243,\"_links\":{\"self\":{\"href\":\"http://api.tvmaze.com/shows/175\"},\"previousepisode\":{\"href\":\"http://api.tvmaze.com/episodes/57773\"},\"nextepisode\":{\"href\":\"http://api.tvmaze.com/episodes/436756\"}}}\n",
      "    }, {\n",
      "      \"_index\" : \"my_tvseries\",\n",
      "      \"_type\" : \"my_serie\",\n",
      "      \"_id\" : \"9274\",\n",
      "      \"_score\" : 1.0953102,\n",
      "      \"_source\":{\"id\":9274,\"url\":\"http://www.tvmaze.com/shows/9274/isabel\",\"name\":\"Isabel\",\"type\":\"Scripted\",\"language\":\"Spanish\",\"genres\":[\"Drama\"],\"status\":\"Ended\",\"runtime\":60,\"premiered\":\"2012-09-10\",\"schedule\":{\"time\":\"\",\"days\":[]},\"rating\":{\"average\":null},\"weight\":0,\"network\":{\"id\":147,\"name\":\"RTVE\",\"country\":{\"name\":\"Spain\",\"code\":\"ES\",\"timezone\":\"Europe/Madrid\"}},\"webChannel\":null,\"externals\":{\"tvrage\":32792,\"thetvdb\":262381,\"imdb\":\"tt2011533\"},\"image\":{\"medium\":\"http://tvmazecdn.com/uploads/images/medium_portrait/32/81594.jpg\",\"original\":\"http://tvmazecdn.com/uploads/images/original_untouched/32/81594.jpg\"},\"summary\":\"<p>Life of Isabella I of Castile, also known as Isabella the Catholic.</p>\",\"updated\":1455109198,\"_links\":{\"self\":{\"href\":\"http://api.tvmaze.com/shows/9274\"},\"previousepisode\":{\"href\":\"http://api.tvmaze.com/episodes/501878\"}}}\n",
      "    } ]\n",
      "  }\n",
      "}\n",
      "\n"
     ]
    }
   ],
   "source": [
    "r = requests.get('http://localhost:9200/my_tvseries/_search?q=genres:Drama&pretty')\n",
    "print r.text"
   ]
  },
  {
   "cell_type": "code",
   "execution_count": 49,
   "metadata": {
    "collapsed": false,
    "slideshow": {
     "slide_type": "subslide"
    }
   },
   "outputs": [
    {
     "name": "stdout",
     "output_type": "stream",
     "text": [
      "{\n",
      "  \"took\" : 1,\n",
      "  \"timed_out\" : false,\n",
      "  \"_shards\" : {\n",
      "    \"total\" : 1,\n",
      "    \"successful\" : 1,\n",
      "    \"failed\" : 0\n",
      "  },\n",
      "  \"hits\" : {\n",
      "    \"total\" : 9,\n",
      "    \"max_score\" : 1.0953102,\n",
      "    \"hits\" : [ {\n",
      "      \"_index\" : \"my_tvseries\",\n",
      "      \"_type\" : \"my_serie\",\n",
      "      \"_id\" : \"169\",\n",
      "      \"_score\" : 1.0953102,\n",
      "      \"_source\":{\"id\":169,\"url\":\"http://www.tvmaze.com/shows/169/breaking-bad\",\"name\":\"Breaking Bad\",\"type\":\"Scripted\",\"language\":\"English\",\"genres\":[\"Drama\",\"Crime\",\"Thriller\"],\"status\":\"Ended\",\"runtime\":60,\"premiered\":\"2008-01-20\",\"schedule\":{\"time\":\"22:00\",\"days\":[\"Sunday\"]},\"rating\":{\"average\":9.3},\"weight\":2,\"network\":{\"id\":20,\"name\":\"AMC\",\"country\":{\"name\":\"United States\",\"code\":\"US\",\"timezone\":\"America/New_York\"}},\"webChannel\":null,\"externals\":{\"tvrage\":18164,\"thetvdb\":81189,\"imdb\":\"tt0903747\"},\"image\":{\"medium\":\"http://tvmazecdn.com/uploads/images/medium_portrait/0/2400.jpg\",\"original\":\"http://tvmazecdn.com/uploads/images/original_untouched/0/2400.jpg\"},\"summary\":\"<p><em><strong>\\\"Breaking Bad\\\"</strong></em> follows protagonist Walter White, a chemistry teacher who lives in New Mexico with his wife and teenage son who has cerebral palsy. White is diagnosed with Stage III cancer and given a prognosis of two years left to live. With a new sense of fearlessness based on his medical prognosis, and a desire to secure his family's financial security, White chooses to enter a dangerous world of drugs and crime and ascends to power in this world. The series explores how a fatal diagnosis such as White's releases a typical man from the daily concerns and constraints of normal society and follows his transformation from mild family man to a kingpin of the drug trade.</p>\",\"updated\":1451250971,\"_links\":{\"self\":{\"href\":\"http://api.tvmaze.com/shows/169\"},\"previousepisode\":{\"href\":\"http://api.tvmaze.com/episodes/12253\"}}}\n",
      "    }, {\n",
      "      \"_index\" : \"my_tvseries\",\n",
      "      \"_type\" : \"my_serie\",\n",
      "      \"_id\" : \"51\",\n",
      "      \"_score\" : 1.0953102,\n",
      "      \"_source\":{\"id\":51,\"url\":\"http://www.tvmaze.com/shows/51/the-knick\",\"name\":\"The Knick\",\"type\":\"Scripted\",\"language\":\"English\",\"genres\":[\"Drama\",\"Medical\"],\"status\":\"To Be Determined\",\"runtime\":60,\"premiered\":\"2014-08-08\",\"schedule\":{\"time\":\"22:00\",\"days\":[\"Friday\"]},\"rating\":{\"average\":8.7},\"weight\":3,\"network\":{\"id\":19,\"name\":\"Cinemax\",\"country\":{\"name\":\"United States\",\"code\":\"US\",\"timezone\":\"America/New_York\"}},\"webChannel\":null,\"externals\":{\"tvrage\":36033,\"thetvdb\":279977,\"imdb\":\"tt2937900\"},\"image\":{\"medium\":\"http://tvmazecdn.com/uploads/images/medium_portrait/0/417.jpg\",\"original\":\"http://tvmazecdn.com/uploads/images/original_untouched/0/417.jpg\"},\"summary\":\"<p>New York City, 1900: The Knickerbocker Hospital is home to groundbreaking surgeons, nurses and staff who push the boundaries of medicine in a time of astonishingly high mortality rates and zero antibiotics. The newly appointed leader of the surgery staff is the brilliant, arrogant renegade Dr. John Thackery, whose addiction to cocaine and opium is trumped only by his ambition for medical discovery and renown among his peers. Into the all-white staff and patient hospital comes the equally gifted Harvard graduate Dr. Algernon Edwards, who must fight for respect while trying to navigate the racially charged city. Trying to maintain its reputation for quality care while realizing a profit, the Knickerbocker makes an effort to attract wealthy clientele, while literally struggling to keep the lights on.</p>\",\"updated\":1455121010,\"_links\":{\"self\":{\"href\":\"http://api.tvmaze.com/shows/51\"},\"previousepisode\":{\"href\":\"http://api.tvmaze.com/episodes/213032\"}}}\n",
      "    }, {\n",
      "      \"_index\" : \"my_tvseries\",\n",
      "      \"_type\" : \"my_serie\",\n",
      "      \"_id\" : \"175\",\n",
      "      \"_score\" : 1.0953102,\n",
      "      \"_source\":{\"id\":175,\"url\":\"http://www.tvmaze.com/shows/175/house-of-cards\",\"name\":\"House of Cards\",\"type\":\"Scripted\",\"language\":\"English\",\"genres\":[\"Drama\",\"Thriller\"],\"status\":\"Running\",\"runtime\":60,\"premiered\":\"2013-02-01\",\"schedule\":{\"time\":\"00:01\",\"days\":[\"Friday\"]},\"rating\":{\"average\":8.9},\"weight\":7,\"network\":null,\"webChannel\":{\"id\":1,\"name\":\"Netflix\",\"country\":{\"name\":\"United States\",\"code\":\"US\",\"timezone\":\"America/New_York\"}},\"externals\":{\"tvrage\":27822,\"thetvdb\":262980,\"imdb\":\"tt1856010\"},\"image\":{\"medium\":\"http://tvmazecdn.com/uploads/images/medium_portrait/0/2460.jpg\",\"original\":\"http://tvmazecdn.com/uploads/images/original_untouched/0/2460.jpg\"},\"summary\":\"<p>A Congressman works with his equally conniving wife to exact revenge on the people who betrayed him.</p>\",\"updated\":1454549570,\"_links\":{\"self\":{\"href\":\"http://api.tvmaze.com/shows/175\"},\"previousepisode\":{\"href\":\"http://api.tvmaze.com/episodes/57773\"},\"nextepisode\":{\"href\":\"http://api.tvmaze.com/episodes/436756\"}}}\n",
      "    }, {\n",
      "      \"_index\" : \"my_tvseries\",\n",
      "      \"_type\" : \"my_serie\",\n",
      "      \"_id\" : \"170\",\n",
      "      \"_score\" : 1.0953102,\n",
      "      \"_source\":{\"id\":170,\"url\":\"http://www.tvmaze.com/shows/170/orange-is-the-new-black\",\"name\":\"Orange is the New Black\",\"type\":\"Scripted\",\"language\":\"English\",\"genres\":[\"Drama\",\"Comedy\",\"Crime\"],\"status\":\"Running\",\"runtime\":60,\"premiered\":\"2013-07-11\",\"schedule\":{\"time\":\"00:01\",\"days\":[\"Friday\"]},\"rating\":{\"average\":8.4},\"weight\":2,\"network\":null,\"webChannel\":{\"id\":1,\"name\":\"Netflix\",\"country\":{\"name\":\"United States\",\"code\":\"US\",\"timezone\":\"America/New_York\"}},\"externals\":{\"tvrage\":32950,\"thetvdb\":264586,\"imdb\":\"tt2372162\"},\"image\":{\"medium\":\"http://tvmazecdn.com/uploads/images/medium_portrait/0/2414.jpg\",\"original\":\"http://tvmazecdn.com/uploads/images/original_untouched/0/2414.jpg\"},\"summary\":\"<p>The story of Piper Chapman, a woman in her thirties who is sentenced to fifteen months in prison after being convicted of a decade-old crime of transporting money for her drug-dealing girlfriend.</p>\",\"updated\":1453253701,\"_links\":{\"self\":{\"href\":\"http://api.tvmaze.com/shows/170\"},\"previousepisode\":{\"href\":\"http://api.tvmaze.com/episodes/143007\"},\"nextepisode\":{\"href\":\"http://api.tvmaze.com/episodes/574624\"}}}\n",
      "    }, {\n",
      "      \"_index\" : \"my_tvseries\",\n",
      "      \"_type\" : \"my_serie\",\n",
      "      \"_id\" : \"5\",\n",
      "      \"_score\" : 1.0953102,\n",
      "      \"_source\":{\"id\":5,\"url\":\"http://www.tvmaze.com/shows/5/true-detective\",\"name\":\"True Detective\",\"type\":\"Scripted\",\"language\":\"English\",\"genres\":[\"Drama\",\"Crime\",\"Thriller\",\"Mystery\"],\"status\":\"To Be Determined\",\"runtime\":60,\"premiered\":\"2014-01-12\",\"schedule\":{\"time\":\"21:00\",\"days\":[\"Sunday\"]},\"rating\":{\"average\":8.5},\"weight\":5,\"network\":{\"id\":8,\"name\":\"HBO\",\"country\":{\"name\":\"United States\",\"code\":\"US\",\"timezone\":\"America/New_York\"}},\"webChannel\":null,\"externals\":{\"tvrage\":31369,\"thetvdb\":270633,\"imdb\":\"tt2356777\"},\"image\":{\"medium\":\"http://tvmazecdn.com/uploads/images/medium_portrait/0/61.jpg\",\"original\":\"http://tvmazecdn.com/uploads/images/original_untouched/0/61.jpg\"},\"summary\":\"<p>The series stars Matthew McConaughey and Woody Harrelson as Louisiana detectives Rust Cohle and Martin Hart, whose lives collide and entwine during a 17-year hunt for a killer, ranging from the original investigation of a bizarre murder in 1995 to the reopening of the case in 2012. Michelle Monaghan also stars as Hart's wife, Maggie, who struggles to keep her family together as the men in her life become locked in a cycle of violence and obsession.</p>\",\"updated\":1455233815,\"_links\":{\"self\":{\"href\":\"http://api.tvmaze.com/shows/5\"},\"previousepisode\":{\"href\":\"http://api.tvmaze.com/episodes/182325\"}}}\n",
      "    }, {\n",
      "      \"_index\" : \"my_tvseries\",\n",
      "      \"_type\" : \"my_serie\",\n",
      "      \"_id\" : \"82\",\n",
      "      \"_score\" : 1.0953102,\n",
      "      \"_source\":{\"id\":82,\"url\":\"http://www.tvmaze.com/shows/82/game-of-thrones\",\"name\":\"Game of Thrones\",\"type\":\"Scripted\",\"language\":\"English\",\"genres\":[\"Drama\",\"Adventure\",\"Fantasy\"],\"status\":\"Running\",\"runtime\":60,\"premiered\":\"2011-04-17\",\"schedule\":{\"time\":\"21:00\",\"days\":[\"Sunday\"]},\"rating\":{\"average\":9.4},\"weight\":7,\"network\":{\"id\":8,\"name\":\"HBO\",\"country\":{\"name\":\"United States\",\"code\":\"US\",\"timezone\":\"America/New_York\"}},\"webChannel\":null,\"externals\":{\"tvrage\":24493,\"thetvdb\":121361,\"imdb\":\"tt0944947\"},\"image\":{\"medium\":\"http://tvmazecdn.com/uploads/images/medium_portrait/0/581.jpg\",\"original\":\"http://tvmazecdn.com/uploads/images/original_untouched/0/581.jpg\"},\"summary\":\"<p>Based on the bestselling book series A Song of Ice and Fire by George R.R. Martin, this sprawling new HBO drama is set in a world where summers span decades and winters can last a lifetime. From the scheming south and the savage eastern lands, to the frozen north and ancient Wall that protects the realm from the mysterious darkness beyond, the powerful families of the Seven Kingdoms are locked in a battle for the Iron Throne. This is a story of duplicity and treachery, nobility and honor, conquest and triumph. In the <strong><em>\\\"Game of Thrones\\\"</em></strong>, you either win or you die.</p>\",\"updated\":1454051645,\"_links\":{\"self\":{\"href\":\"http://api.tvmaze.com/shows/82\"},\"previousepisode\":{\"href\":\"http://api.tvmaze.com/episodes/162186\"},\"nextepisode\":{\"href\":\"http://api.tvmaze.com/episodes/560813\"}}}\n",
      "    }, {\n",
      "      \"_index\" : \"my_tvseries\",\n",
      "      \"_type\" : \"my_serie\",\n",
      "      \"_id\" : \"712\",\n",
      "      \"_score\" : 1.0953102,\n",
      "      \"_source\":{\"id\":712,\"url\":\"http://www.tvmaze.com/shows/712/the-tudors\",\"name\":\"The Tudors\",\"type\":\"Scripted\",\"language\":\"English\",\"genres\":[\"Drama\",\"History\"],\"status\":\"Ended\",\"runtime\":60,\"premiered\":\"2007-04-01\",\"schedule\":{\"time\":\"21:00\",\"days\":[]},\"rating\":{\"average\":8.8},\"weight\":0,\"network\":{\"id\":9,\"name\":\"Showtime\",\"country\":{\"name\":\"United States\",\"code\":\"US\",\"timezone\":\"America/New_York\"}},\"webChannel\":null,\"externals\":{\"tvrage\":7927,\"thetvdb\":79925,\"imdb\":\"tt0758790\"},\"image\":{\"medium\":\"http://tvmazecdn.com/uploads/images/medium_portrait/6/15022.jpg\",\"original\":\"http://tvmazecdn.com/uploads/images/original_untouched/6/15022.jpg\"},\"summary\":\"<p>The final season will consist of 10, one-hour episodes and center on his tumultuous relationships with his last two wives, Catherine Howard and Catherine Parr, and his final descent into madness.</p>\",\"updated\":1449500544,\"_links\":{\"self\":{\"href\":\"http://api.tvmaze.com/shows/712\"},\"previousepisode\":{\"href\":\"http://api.tvmaze.com/episodes/62894\"}}}\n",
      "    }, {\n",
      "      \"_index\" : \"my_tvseries\",\n",
      "      \"_type\" : \"my_serie\",\n",
      "      \"_id\" : \"9274\",\n",
      "      \"_score\" : 1.0953102,\n",
      "      \"_source\":{\"id\":9274,\"url\":\"http://www.tvmaze.com/shows/9274/isabel\",\"name\":\"Isabel\",\"type\":\"Scripted\",\"language\":\"Spanish\",\"genres\":[\"Drama\"],\"status\":\"Ended\",\"runtime\":60,\"premiered\":\"2012-09-10\",\"schedule\":{\"time\":\"\",\"days\":[]},\"rating\":{\"average\":null},\"weight\":0,\"network\":{\"id\":147,\"name\":\"RTVE\",\"country\":{\"name\":\"Spain\",\"code\":\"ES\",\"timezone\":\"Europe/Madrid\"}},\"webChannel\":null,\"externals\":{\"tvrage\":32792,\"thetvdb\":262381,\"imdb\":\"tt2011533\"},\"image\":{\"medium\":\"http://tvmazecdn.com/uploads/images/medium_portrait/32/81594.jpg\",\"original\":\"http://tvmazecdn.com/uploads/images/original_untouched/32/81594.jpg\"},\"summary\":\"<p>Life of Isabella I of Castile, also known as Isabella the Catholic.</p>\",\"updated\":1455109198,\"_links\":{\"self\":{\"href\":\"http://api.tvmaze.com/shows/9274\"},\"previousepisode\":{\"href\":\"http://api.tvmaze.com/episodes/501878\"}}}\n",
      "    }, {\n",
      "      \"_index\" : \"my_tvseries\",\n",
      "      \"_type\" : \"my_serie\",\n",
      "      \"_id\" : \"3386\",\n",
      "      \"_score\" : 1.0953102,\n",
      "      \"_source\":{\"id\":3386,\"url\":\"http://www.tvmaze.com/shows/3386/versailles\",\"name\":\"Versailles\",\"type\":\"Scripted\",\"language\":\"English\",\"genres\":[\"Drama\",\"History\"],\"status\":\"Running\",\"runtime\":60,\"premiered\":\"2015-11-16\",\"schedule\":{\"time\":\"\",\"days\":[]},\"rating\":{\"average\":9.3},\"weight\":1,\"network\":{\"id\":105,\"name\":\"Canal+\",\"country\":{\"name\":\"France\",\"code\":\"FR\",\"timezone\":\"Europe/Paris\"}},\"webChannel\":null,\"externals\":{\"tvrage\":null,\"thetvdb\":300280,\"imdb\":\"tt3830558\"},\"image\":{\"medium\":\"http://tvmazecdn.com/uploads/images/medium_portrait/34/86312.jpg\",\"original\":\"http://tvmazecdn.com/uploads/images/original_untouched/34/86312.jpg\"},\"summary\":\"<p>Versailles, 1667. Louis XIV was 28 years old. To rise to the heights of the nobility and wield its absolute power, he launched the construction of Versailles... it proved to be a snare. Louis XIV is a young King haunted by childhood trauma, the Fronde civil, a rebellion of the nobility against his father, Louis XIII... It will prove be a strategic policy out of the ordinary, manipulative, Machiavellian, and he will \\\"invent\\\" Versailles for the nobles of Paris, to keep them under control, and gradually transform the castle into a golden prison. But how will Louis live as the greatest King in the world?</p><p> Historical fiction of the court figures and the more humble villagers, guiding us in a world of betrayals and secrets, politicking and declarations of love.</p>\",\"updated\":1450525730,\"_links\":{\"self\":{\"href\":\"http://api.tvmaze.com/shows/3386\"},\"previousepisode\":{\"href\":\"http://api.tvmaze.com/episodes/471693\"}}}\n",
      "    } ]\n",
      "  }\n",
      "}\n",
      "\n"
     ]
    }
   ],
   "source": [
    "r = requests.get('http://localhost:9200/my_tvseries/_search?q=genres:Drama&pretty')\n",
    "print r.text"
   ]
  },
  {
   "cell_type": "markdown",
   "metadata": {
    "slideshow": {
     "slide_type": "slide"
    }
   },
   "source": [
    "## Campo de búsqueda por defecto:  *_all*\n",
    "\n",
    "- Campo por defecto de tipo string \n",
    "- Almacena el contenido de todos los campos como una sola cadena \n",
    "- El contenido es **analizado** usando WhitespaceTokenizer, **indexado** pero no **almacenado**. \n",
    "- Se puede buscar pero no recuperar. \n",
    "- Permite buscar en cualquiera de los campos \n",
    "\n",
    "Se puede deshabilitar: \n",
    "  - por completo para un tipo \n",
    "  - para un campo\n"
   ]
  },
  {
   "cell_type": "code",
   "execution_count": 29,
   "metadata": {
    "collapsed": false,
    "slideshow": {
     "slide_type": "subslide"
    }
   },
   "outputs": [
    {
     "data": {
      "text/html": [
       "<div id=\"eae1b327-2d99-4b94-854b-b11aee378faf\" style=\"height: 600px; width:100%;\"></div>"
      ]
     },
     "metadata": {},
     "output_type": "display_data"
    },
    {
     "data": {
      "application/javascript": [
       "\n",
       "        require([\"https://rawgit.com/caldwell/renderjson/master/renderjson.js\"], function() {\n",
       "          document.getElementById('eae1b327-2d99-4b94-854b-b11aee378faf').appendChild(renderjson({\"hits\": {\"hits\": [{\"_score\": 0.4311155, \"_type\": \"my_serie\", \"_id\": \"6346\", \"_source\": {\"status\": \"Ended\", \"rating\": {\"average\": null}, \"genres\": [], \"weight\": 0, \"updated\": 1444993157, \"name\": \"Los Serrano\", \"language\": null, \"schedule\": {\"days\": [], \"time\": \"\"}, \"url\": \"http://www.tvmaze.com/shows/6346/los-serrano\", \"image\": {\"medium\": \"http://tvmazecdn.com/uploads/images/medium_portrait/24/60784.jpg\", \"original\": \"http://tvmazecdn.com/uploads/images/original_untouched/24/60784.jpg\"}, \"externals\": {\"thetvdb\": 83503, \"tvrage\": 7462, \"imdb\": \"tt0362372\"}, \"premiered\": \"2003-04-22\", \"summary\": \"\", \"_links\": {\"previousepisode\": {\"href\": \"http://api.tvmaze.com/episodes/377096\"}, \"self\": {\"href\": \"http://api.tvmaze.com/shows/6346\"}}, \"webChannel\": null, \"runtime\": null, \"type\": \"Scripted\", \"id\": 6346, \"network\": {\"country\": {\"timezone\": \"Europe/Madrid\", \"code\": \"ES\", \"name\": \"Spain\"}, \"id\": 96, \"name\": \"Telecinco\"}}, \"_index\": \"my_tvseries\"}, {\"_score\": 0.35926294, \"_type\": \"my_serie\", \"_id\": \"9274\", \"_source\": {\"status\": \"Ended\", \"rating\": {\"average\": null}, \"genres\": [\"Drama\"], \"weight\": 0, \"updated\": 1455109198, \"name\": \"Isabel\", \"language\": \"Spanish\", \"schedule\": {\"days\": [], \"time\": \"\"}, \"url\": \"http://www.tvmaze.com/shows/9274/isabel\", \"image\": {\"medium\": \"http://tvmazecdn.com/uploads/images/medium_portrait/32/81594.jpg\", \"original\": \"http://tvmazecdn.com/uploads/images/original_untouched/32/81594.jpg\"}, \"externals\": {\"thetvdb\": 262381, \"tvrage\": 32792, \"imdb\": \"tt2011533\"}, \"premiered\": \"2012-09-10\", \"summary\": \"<p>Life of Isabella I of Castile, also known as Isabella the Catholic.</p>\", \"_links\": {\"previousepisode\": {\"href\": \"http://api.tvmaze.com/episodes/501878\"}, \"self\": {\"href\": \"http://api.tvmaze.com/shows/9274\"}}, \"webChannel\": null, \"runtime\": 60, \"type\": \"Scripted\", \"id\": 9274, \"network\": {\"country\": {\"timezone\": \"Europe/Madrid\", \"code\": \"ES\", \"name\": \"Spain\"}, \"id\": 147, \"name\": \"RTVE\"}}, \"_index\": \"my_tvseries\"}], \"total\": 2, \"max_score\": 0.4311155}, \"_shards\": {\"successful\": 1, \"failed\": 0, \"total\": 1}, \"took\": 6, \"timed_out\": false}))\n",
       "        });\n",
       "        "
      ]
     },
     "metadata": {},
     "output_type": "display_data"
    }
   ],
   "source": [
    "r = requests.get('http://localhost:9200/my_tvseries/_search?q=madrid')\n",
    "RenderJSON(r.json())"
   ]
  },
  {
   "cell_type": "code",
   "execution_count": 73,
   "metadata": {
    "collapsed": false,
    "slideshow": {
     "slide_type": "subslide"
    }
   },
   "outputs": [
    {
     "name": "stdout",
     "output_type": "stream",
     "text": [
      "{\n",
      "  \"took\" : 1,\n",
      "  \"timed_out\" : false,\n",
      "  \"_shards\" : {\n",
      "    \"total\" : 1,\n",
      "    \"successful\" : 1,\n",
      "    \"failed\" : 0\n",
      "  },\n",
      "  \"hits\" : {\n",
      "    \"total\" : 0,\n",
      "    \"max_score\" : null,\n",
      "    \"hits\" : [ ]\n",
      "  }\n",
      "}\n",
      "\n"
     ]
    }
   ],
   "source": [
    "r = requests.get('http://localhost:9200/my_tvseries/_search?\n",
    "                 q=network.country.timezone:madrid&pretty')\n",
    "RenderJSON(r.json())"
   ]
  },
  {
   "cell_type": "code",
   "execution_count": 72,
   "metadata": {
    "collapsed": false,
    "slideshow": {
     "slide_type": "subslide"
    }
   },
   "outputs": [
    {
     "name": "stdout",
     "output_type": "stream",
     "text": [
      "{\n",
      "  \"took\" : 1,\n",
      "  \"timed_out\" : false,\n",
      "  \"_shards\" : {\n",
      "    \"total\" : 1,\n",
      "    \"successful\" : 1,\n",
      "    \"failed\" : 0\n",
      "  },\n",
      "  \"hits\" : {\n",
      "    \"total\" : 2,\n",
      "    \"max_score\" : 2.2992828,\n",
      "    \"hits\" : [ {\n",
      "      \"_index\" : \"my_tvseries\",\n",
      "      \"_type\" : \"my_serie\",\n",
      "      \"_id\" : \"9274\",\n",
      "      \"_score\" : 2.2992828,\n",
      "      \"_source\":{\"id\":9274,\"url\":\"http://www.tvmaze.com/shows/9274/isabel\",\"name\":\"Isabel\",\"type\":\"Scripted\",\"language\":\"Spanish\",\"genres\":[\"Drama\"],\"status\":\"Ended\",\"runtime\":60,\"premiered\":\"2012-09-10\",\"schedule\":{\"time\":\"\",\"days\":[]},\"rating\":{\"average\":null},\"weight\":0,\"network\":{\"id\":147,\"name\":\"RTVE\",\"country\":{\"name\":\"Spain\",\"code\":\"ES\",\"timezone\":\"Europe/Madrid\"}},\"webChannel\":null,\"externals\":{\"tvrage\":32792,\"thetvdb\":262381,\"imdb\":\"tt2011533\"},\"image\":{\"medium\":\"http://tvmazecdn.com/uploads/images/medium_portrait/32/81594.jpg\",\"original\":\"http://tvmazecdn.com/uploads/images/original_untouched/32/81594.jpg\"},\"summary\":\"<p>Life of Isabella I of Castile, also known as Isabella the Catholic.</p>\",\"updated\":1455109198,\"_links\":{\"self\":{\"href\":\"http://api.tvmaze.com/shows/9274\"},\"previousepisode\":{\"href\":\"http://api.tvmaze.com/episodes/501878\"}}}\n",
      "    }, {\n",
      "      \"_index\" : \"my_tvseries\",\n",
      "      \"_type\" : \"my_serie\",\n",
      "      \"_id\" : \"6346\",\n",
      "      \"_score\" : 2.2992828,\n",
      "      \"_source\":{\"id\":6346,\"url\":\"http://www.tvmaze.com/shows/6346/los-serrano\",\"name\":\"Los Serrano\",\"type\":\"Scripted\",\"language\":null,\"genres\":[],\"status\":\"Ended\",\"runtime\":null,\"premiered\":\"2003-04-22\",\"schedule\":{\"time\":\"\",\"days\":[]},\"rating\":{\"average\":null},\"weight\":0,\"network\":{\"id\":96,\"name\":\"Telecinco\",\"country\":{\"name\":\"Spain\",\"code\":\"ES\",\"timezone\":\"Europe/Madrid\"}},\"webChannel\":null,\"externals\":{\"tvrage\":7462,\"thetvdb\":83503,\"imdb\":\"tt0362372\"},\"image\":{\"medium\":\"http://tvmazecdn.com/uploads/images/medium_portrait/24/60784.jpg\",\"original\":\"http://tvmazecdn.com/uploads/images/original_untouched/24/60784.jpg\"},\"summary\":\"\",\"updated\":1444993157,\"_links\":{\"self\":{\"href\":\"http://api.tvmaze.com/shows/6346\"},\"previousepisode\":{\"href\":\"http://api.tvmaze.com/episodes/377096\"}}}\n",
      "    } ]\n",
      "  }\n",
      "}\n",
      "\n"
     ]
    }
   ],
   "source": [
    "r = requests.get('http://localhost:9200/my_tvseries/_search?q=\n",
    "                 network.country.timezone:Europe\\/Madrid&pretty')\n",
    "RenderJSON(r.json())"
   ]
  },
  {
   "cell_type": "markdown",
   "metadata": {
    "slideshow": {
     "slide_type": "slide"
    }
   },
   "source": [
    "## Múltiples mapeos para un campo: *copy_to*\n",
    "\n",
    "  - Permite copiar el contenido de un campo a otro nuevo\n",
    "  - En el nuevo campo se puede usar un análisis diferente. \n",
    "  "
   ]
  }
 ],
 "metadata": {
  "celltoolbar": "Slideshow",
  "kernelspec": {
   "display_name": "Python 2",
   "language": "python",
   "name": "python2"
  },
  "language_info": {
   "codemirror_mode": {
    "name": "ipython",
    "version": 2
   },
   "file_extension": ".py",
   "mimetype": "text/x-python",
   "name": "python",
   "nbconvert_exporter": "python",
   "pygments_lexer": "ipython2",
   "version": "2.7.10"
  }
 },
 "nbformat": 4,
 "nbformat_minor": 0
}
