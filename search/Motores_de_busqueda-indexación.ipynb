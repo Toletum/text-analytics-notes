{
 "cells": [
  {
   "cell_type": "markdown",
   "metadata": {
    "slideshow": {
     "slide_type": "slide"
    }
   },
   "source": [
    "#### Motores de búsqueda \n",
    "\n",
    "\n",
    "\n",
    "# Indexación"
   ]
  },
  {
   "cell_type": "markdown",
   "metadata": {
    "slideshow": {
     "slide_type": "slide"
    }
   },
   "source": [
    "## Búsqueda de texto \n",
    "\n",
    "- Dado un conjunto de palabras clave : \n",
    "  - Ejemplo: **Bruto** **César**\n",
    "- Encontrar *todos* los documentos de la colección que contienen *todas las palabras*\n",
    "- Cada palabra clave puede estar en muchos documentos: *¿millones?* \n",
    "- La respuesta debe ser rápida\n",
    "- Podemos tener un buen número de búsquedas concurrentes \n",
    "- Una búsqueda lineal (*linear scan*) no es una solucion eficiente\n"
   ]
  },
  {
   "cell_type": "markdown",
   "metadata": {
    "slideshow": {
     "slide_type": "slide"
    }
   },
   "source": [
    "## Matriz de documentos y términos\n",
    "\n",
    "|           | Antony and Cleopatra | Julius Caesar | The Tempest | Hamlet | Otello | Macbeth |\n",
    "|-----------|----------------------|---------------|-------------|--------|--------|---------|\n",
    "| Antony    | 1                    | 1             | 0           | 0      | 0      | 1       |\n",
    "| Brutus    | 1                    | 1             | 0           | 1      | 0      | 0       |\n",
    "| Caesar    | 1                    | 1             | 0           | 1      | 1      | 1       |\n",
    "| Calpurnia | 0                    | 1             | 0           | 0      | 0      | 0       |\n",
    "| Cleopatra | 1                    | 0             | 0           | 0      | 0      | 0       |\n",
    "| mercy     | 1                    | 0             | 1           | 1      | 1      | 1       |\n",
    "| worser    | 1                    | 0             | 1           | 1      | 1      | 0       |\n",
    "| ...       | 0                    | 0             | 0           | 0      | 1      | 1       |\n",
    "\n",
    "Ejemplo de [MSR09]"
   ]
  },
  {
   "cell_type": "markdown",
   "metadata": {
    "slideshow": {
     "slide_type": "subslide"
    }
   },
   "source": [
    "## Matriz de documentos y términos \n",
    "\n",
    "- **Término**: la unidad mínima que se usa como consulta: generalmente **palabras**\n",
    "- **Documento**: la unidad de texto que recuperará el buscador: ficheros, **libros**, capítulos, frases, parrafos, nombres, etc...\n",
    "- **Colección** ( o *corpus*): conjunto de todos los documentos\n",
    "- **Matriz de incidencia**: matriz donde se marca que términos aparecen en cada documento \n"
   ]
  },
  {
   "cell_type": "markdown",
   "metadata": {
    "slideshow": {
     "slide_type": "subslide"
    }
   },
   "source": [
    "## Indexación\n",
    "   \n",
    "   - Construccion previa de la matriz de incidencia - fuera de linea \n",
    "    "
   ]
  },
  {
   "cell_type": "markdown",
   "metadata": {
    "slideshow": {
     "slide_type": "fragment"
    }
   },
   "source": [
    "### Búsqueda booleana\n",
    "\n",
    " - La matriz de incidencia permite la búsqueda por terminos\n",
    " - pero también el uso de operadores lógicos: AND, OR, NOT\n",
    "    - Brutus OR Caesar\n"
   ]
  },
  {
   "cell_type": "markdown",
   "metadata": {
    "slideshow": {
     "slide_type": "subslide"
    }
   },
   "source": [
    "## Matriz de documentos y términos - Limitaciones\n",
    "\n",
    " 1. Tamaño necesario para almacenar la matriz $$\\mathcal{O}(N·V)$$\n",
    "    - $N$ : número de documentos \n",
    "    - $V$ : número de términos distintos - vocabulario\n",
    "    \n",
    " 2. No tenemos un orden en el resultado de búsqueda"
   ]
  }
 ],
 "metadata": {
  "celltoolbar": "Slideshow",
  "kernelspec": {
   "display_name": "Python 2",
   "language": "python",
   "name": "python2"
  },
  "language_info": {
   "codemirror_mode": {
    "name": "ipython",
    "version": 2
   },
   "file_extension": ".py",
   "mimetype": "text/x-python",
   "name": "python",
   "nbconvert_exporter": "python",
   "pygments_lexer": "ipython2",
   "version": "2.7.10"
  }
 },
 "nbformat": 4,
 "nbformat_minor": 0
}
