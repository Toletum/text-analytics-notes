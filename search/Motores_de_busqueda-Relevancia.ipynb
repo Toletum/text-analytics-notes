{
 "cells": [
  {
   "cell_type": "markdown",
   "metadata": {
    "slideshow": {
     "slide_type": "slide"
    }
   },
   "source": [
    "#### Motores de búsqueda \n",
    "\n",
    "\n",
    "\n",
    "# Relevancia\n",
    "\n",
    "\n",
    "<p style=\"font-size: large; margin-top: 100px;\">César de Pablo Sánchez</p>\n",
    "<p style=\"font-size: large\">@zdepablo</p>"
   ]
  },
  {
   "cell_type": "markdown",
   "metadata": {
    "slideshow": {
     "slide_type": "slide"
    }
   },
   "source": [
    "## Motivación de la Relevancia\n",
    "\n",
    " - Si tenemos un gran número de documentos, o \n",
    " - un gran número de resultados\n",
    " - Buscar un orden para los documentos más relevantes\n",
    " \n",
    "### ¿Cuáles son los documentos que mejor responden a una consulta? \n",
    " "
   ]
  },
  {
   "cell_type": "markdown",
   "metadata": {
    "slideshow": {
     "slide_type": "slide"
    }
   },
   "source": [
    "## ¿Qué es relevante?\n",
    "\n",
    "Pongamos el caso de una consulta: $q = \"elecciones\\:2016\"$\n",
    "  - **Contenido** - tradicionalmente la más estudiada - ¿Qué documentos hablan de ...?\n",
    "\n",
    "\n",
    "  "
   ]
  },
  {
   "cell_type": "markdown",
   "metadata": {
    "slideshow": {
     "slide_type": "fragment"
    }
   },
   "source": [
    "Otros tipos de relevancia (contextual):\n",
    "  - **Temporal** - ¿Cuáles son las noticias más recientes?\n",
    "  - **Geográfica**\n",
    "  - **Autoridad** - ¿Cuál es el autor del documento? ¿Dónde se publica?\n",
    "  - **Proximidad social** - ¿Qué opinan mis amigos?\n",
    "  - etc... \n"
   ]
  },
  {
   "cell_type": "markdown",
   "metadata": {
    "slideshow": {
     "slide_type": "slide"
    }
   },
   "source": [
    "## \"Bolsa de Palabras\" \n",
    "#### matriz de términos y documentos\n",
    "\n",
    "|           | Antony and Cleopatra | Julius Caesar | The Tempest | Hamlet | Otello | Macbeth |\n",
    "|-----------|----------------------|---------------|-------------|--------|--------|---------|\n",
    "| Antony    | 1                    | 1             | 0           | 0      | 0      | 1       |\n",
    "| Brutus    | 1                    | 1             | 0           | 1      | 0      | 0       |\n",
    "| Caesar    | 1                    | 1             | 0           | 1      | 1      | 1       |\n",
    "| Calpurnia | 0                    | 1             | 0           | 0      | 0      | 0       |\n",
    "| Cleopatra | 1                    | 0             | 0           | 0      | 0      | 0       |\n",
    "| mercy     | 1                    | 0             | 1           | 1      | 1      | 1       |\n",
    "| worser    | 1                    | 0             | 1           | 1      | 1      | 0       |\n",
    "| ...       | 0                    | 0             | 0           | 0      | 1      | 1       |\n",
    "\n",
    "Ejemplo de [MSR09]"
   ]
  },
  {
   "cell_type": "markdown",
   "metadata": {
    "slideshow": {
     "slide_type": "subslide"
    }
   },
   "source": [
    "## \"Bolsa de Palabras\" \n",
    "  \n",
    "  - d1: Pedro es más rápido que Juan\n",
    "  - d2: Juan es más rápido que Juan "
   ]
  },
  {
   "cell_type": "markdown",
   "metadata": {
    "slideshow": {
     "slide_type": "fragment"
    }
   },
   "source": [
    "### Limitaciones\n",
    "  -  El orden de las palabras no se tiene en cuenta  "
   ]
  },
  {
   "cell_type": "markdown",
   "metadata": {
    "slideshow": {
     "slide_type": "fragment"
    }
   },
   "source": [
    "- Sinónimos, terminos relacionados ej: elecciones vs comicios \n",
    "- **¿Cuánto se repite un término?**\n",
    "- **¿Como de frecuente es cada término?**"
   ]
  },
  {
   "cell_type": "markdown",
   "metadata": {
    "slideshow": {
     "slide_type": "slide"
    }
   },
   "source": [
    "## Frecuencia de términos\n",
    "\n",
    "$tf$ : Numero de veces que un término ocurre en un documento. \n",
    "\n",
    "¿Que documento es más relevante para la $q = Antony$?\n",
    "\n",
    "\n",
    "|           | Antony and Cleopatra | Julius Caesar | The Tempest | Hamlet | Otello | Macbeth |\n",
    "|-----------|----------------------|---------------|-------------|--------|--------|---------|\n",
    "| Antony    | **100**              | **10**        | 0           | 0      | 0      | 1       |\n",
    "| Brutus    | **5**                | **50**        | 0           | 1      | 0      | 0       |\n",
    "| Caesar    | **20**               | **100**       | 0           | 1      | 1      | 1       |\n",
    "| Calpurnia | 0                    | **20**        | 0           | 0      | 0      | 0       |\n",
    "| Cleopatra | **100**              | 0             | 0           | 0      | 0      | 0       |\n",
    "| mercy     | 1                    | 0             | 1           | 1      | 1      | 1       |\n",
    "| worser    | 1                    | 0             | 1           | 1      | 1      | 0       |\n",
    "| ...       | 0                    | 0             | 0           | 0      | 1      | 1       |\n"
   ]
  },
  {
   "cell_type": "markdown",
   "metadata": {
    "slideshow": {
     "slide_type": "slide"
    }
   },
   "source": [
    "## Inversa de la Frecuencia de Documento\n",
    "\n",
    "**Frecuencia de documento** $df$ : Número de documentos en los que aparece un término  \n",
    "\n",
    "|           | Antony and Cleopatra | Julius Caesar | The Tempest | Hamlet | Otello | Macbeth | ...  | $cf$ | $df$     |  \n",
    "|-----------|----------------------|---------------|-------------|--------|--------|---------|------|------|----------|\n",
    "| Antony    | 100                  | 10            | 0           | 0      | 0      | 1       |      | 111  | **3**    |\n",
    "| Brutus    | 5                    | 50            | 0           | 1      | 0      | 0       |      | 56   | **3**    |\n",
    "| Caesar    | 20                   | 100           | 0           | 1      | 1      | 1       |      | 123  | **5**    |\n",
    "| Calpurnia | 0                    | 20            | 0           | 0      | 0      | 0       |      | 20   | **1**    |\n",
    "| Cleopatra | 100                  | 0             | 0           | 0      | 0      | 0       |      | 100  | **1**    |\n",
    "| mercy     | 1                    | 0             | 1           | 1      | 1      | 1       |      | 600  | **500**  |\n",
    "| worser    | 1                    | 0             | 1           | 1      | 1      | 0       |      | 1000 | **800**  |\n",
    "| ...       | 0                    | 0             | 0           | 0      | 1      | 1       |      | 500  | **200**  |\n"
   ]
  },
  {
   "cell_type": "markdown",
   "metadata": {
    "slideshow": {
     "slide_type": "slide"
    }
   },
   "source": [
    "## Score TF-IDF\n",
    "\n",
    "$$Score_{TF \\cdot IDF}(q,d)  \\overset{\\Delta}{=} \\sum_{t_{i} \\in q}{TF_{i,d}  \\cdot \\frac{N}{DF_i}}$$\n",
    "\n",
    "- $t_i$ es cada uno de los términos de la consulta $q$\n",
    "- $N$ es el número de documentos en la coleccion"
   ]
  },
  {
   "cell_type": "markdown",
   "metadata": {
    "slideshow": {
     "slide_type": "subslide"
    }
   },
   "source": [
    "## Score TF-IDF -variaciones\n",
    "\n",
    "$$Score_{TF \\cdot IDF}(q,d)  \\overset{\\Delta}{=} \\sum_{t_{i} \\in q}{ 1 + log(TF_{i,d})  \\cdot  log(\\frac{N}{DF_i})}$$  \n",
    "\n",
    "\n",
    "si $TF_{i,d} > 0$"
   ]
  },
  {
   "cell_type": "markdown",
   "metadata": {
    "slideshow": {
     "slide_type": "skip"
    }
   },
   "source": [
    "## Overlap score measure"
   ]
  },
  {
   "cell_type": "markdown",
   "metadata": {
    "slideshow": {
     "slide_type": "skip"
    }
   },
   "source": [
    "## Modelo vectorial\n",
    "\n",
    " - Cada documento $d$ se representa mediante un vector $\\overrightarrow{V}(d)$ en el espacio euclideo - cada término es una dimensión \n",
    " - Cada documento toma en cuenta importancia relativa de cada término \n",
    " - Las consultas se expresan tambié como vectores\n",
    " \n",
    " ¿Qué documentos son más relevantes?\n",
    " Los documentos más similares a la consulta - Distancia del coseno \n",
    " \n"
   ]
  },
  {
   "cell_type": "markdown",
   "metadata": {
    "slideshow": {
     "slide_type": "skip"
    }
   },
   "source": [
    "## Distancia del coseno"
   ]
  },
  {
   "cell_type": "markdown",
   "metadata": {
    "slideshow": {
     "slide_type": "skip"
    }
   },
   "source": [
    "## Distancia del coseno\n",
    "\n"
   ]
  },
  {
   "cell_type": "markdown",
   "metadata": {
    "slideshow": {
     "slide_type": "slide"
    }
   },
   "source": [
    "## Otros modelos de relevancia basada en contenido\n",
    "\n",
    " - **Modelo vectorial**\n",
    " - **Okapi BM25** - Modelo probabilístico de que un documento sea relevante\n",
    " - **Modelos generativos de lenguaje** - Modelo probabilístico de que un documento \"genere\" una consulta\n",
    " - **DFR (Divergencia de la aleatoriedad)** - ¿Cómo de característico es este documento frente a uno aleatorio?"
   ]
  },
  {
   "cell_type": "markdown",
   "metadata": {
    "slideshow": {
     "slide_type": "slide"
    }
   },
   "source": [
    "## Relevancia de consultas complejas\n",
    "\n",
    "  - Hasta ahora hemos considerado que alguno de los terminos ocurran (OR) \n",
    "     - $q = Julius\\:Caesar \\mapsto Julius\\:OR\\:Caesar $\n",
    "     \n",
    "  - ¿Qué pasa con otros operadores?\n",
    "     - $Julius\\:AND\\:Caesar$\n",
    "     - $Julius\\:NEAR\\:Caesar$\n",
    "     - $Julius\\:Caesar$ - consulta de tipo frase, ambos terminos deben aparecer contiguos"
   ]
  },
  {
   "cell_type": "markdown",
   "metadata": {
    "slideshow": {
     "slide_type": "slide"
    }
   },
   "source": [
    "## Documentos semi-estructurados\n",
    "\n",
    "\n",
    "<pre>\n",
    "{\n",
    "  title: \".....\",\n",
    "  author: \".....\",\n",
    "  date: \".....\",\n",
    "  body: \"....\",\n",
    "  comments: [\n",
    "     {body: \"....\",  author: \"....\" },\n",
    "     {body: \"....\",  author: \"....\" },\n",
    "  ]\n",
    "}\n",
    "</pre>"
   ]
  },
  {
   "cell_type": "markdown",
   "metadata": {
    "collapsed": true,
    "slideshow": {
     "slide_type": "slide"
    }
   },
   "source": [
    "## Relevancia para documentos semi-estructurados\n",
    "\n",
    "\n",
    "$$ Score \\overset{\\Delta}{=} \\alpha_{title} \\cdot score_{title} + ... + \\alpha_{body} \\cdot score_{body} $$\n",
    "\n",
    "$$= \\sum_{i \\in fields} { \\alpha_{i} \\cdot score_{i}  }$$\n",
    "\n"
   ]
  },
  {
   "cell_type": "markdown",
   "metadata": {
    "slideshow": {
     "slide_type": "fragment"
    }
   },
   "source": [
    "- Opción 1: Ajustar pesos de forma manual\n",
    "- Opción 2: Ajustar mediante aprendizaje automático - si tienes un gran número de factores"
   ]
  }
 ],
 "metadata": {
  "celltoolbar": "Slideshow",
  "kernelspec": {
   "display_name": "Python 2",
   "language": "python",
   "name": "python2"
  },
  "language_info": {
   "codemirror_mode": {
    "name": "ipython",
    "version": 2
   },
   "file_extension": ".py",
   "mimetype": "text/x-python",
   "name": "python",
   "nbconvert_exporter": "python",
   "pygments_lexer": "ipython2",
   "version": "2.7.10"
  }
 },
 "nbformat": 4,
 "nbformat_minor": 0
}
