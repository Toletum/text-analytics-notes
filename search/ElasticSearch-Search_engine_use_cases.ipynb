{
 "cells": [
  {
   "cell_type": "markdown",
   "metadata": {},
   "source": [
    "# Search engine use cases"
   ]
  },
  {
   "cell_type": "markdown",
   "metadata": {},
   "source": [
    "- Structured search\n",
    "- Full text search\n",
    "- Record linkage \n",
    "- Analytics  => Log analytics\n",
    "- Faceted search"
   ]
  },
  {
   "cell_type": "markdown",
   "metadata": {},
   "source": [
    "## Structured search\n",
    "\n",
    "  * Find exact values that match a set of filters: aka Database Queries \n",
    "  * Filters do not evaluate the scoring \n",
    "  * Filters may be cached \n",
    "  \n",
    "###  Term filter - apply a filter to a field\n",
    "  * We need to include it in a query\n",
    "  * Care should be taken with text fields - if they should work as values => define mapping not analyzed\n",
    "  * Internally uses a bitset to cache filter results.\n",
    "  * The operation is that the field contain some of the values - not equals => examples with tags\n",
    "  * Check for equality is difficult in an inverted index \n",
    "  \n",
    "  \n",
    "### Boolean Filter \n",
    "  * allow to compound several filters\n",
    "  * boolean logic is implemented with this clauses\n",
    "    * must (AND) \n",
    "    * should (OR) \n",
    "    * must not (NOT)\n",
    "    \n",
    "   \n",
    "### Terms filter \n",
    "  * apply several conditions to the same field (OR)\n",
    "  \n",
    "### Range filter \n",
    "  * apply comparison operators to \n",
    "  * Works on the folloing types: \n",
    "     * Numbers \n",
    "     * Dates - perform date operations - explain cases \n",
    "     * Strings - however be careful because range on strings  it may be slow if the cardinality of the field is large\n",
    "\n",
    "### Exists/Missing filters \n",
    "  * \"NULL does not exists in ES\"\n",
    "  * exists checks if a document do have a field\n",
    "  * missing is the opposite\n",
    "  * There are ways to treat a null value when defining a mapping. A value with the rihgt type must be assigned. \n",
    "  \n",
    "  \n",
    "### Comments on caching and order affects performance  "
   ]
  },
  {
   "cell_type": "markdown",
   "metadata": {},
   "source": [
    "<pre>\n",
    "GET /my_store/products/_search\n",
    "{\n",
    "    \"query\" : {\n",
    "        \"filtered\" : { \n",
    "            \"query\" : {\n",
    "                \"match_all\" : {} \n",
    "            },\n",
    "            \"filter\" : {\n",
    "                \"term\" : { \n",
    "                    \"price\" : 20\n",
    "                }\n",
    "            }\n",
    "        }\n",
    "    }\n",
    "}\n",
    "</pre>"
   ]
  },
  {
   "cell_type": "markdown",
   "metadata": {},
   "source": [
    "## Full text search"
   ]
  },
  {
   "cell_type": "markdown",
   "metadata": {},
   "source": [
    "Search into full text fields in order to find relevant documents\n",
    "\n",
    "Two most important aspects are: \n",
    "    * Relevance: how to score documents \n",
    "    * Analysis : how to represent documents\n"
   ]
  },
  {
   "cell_type": "markdown",
   "metadata": {},
   "source": [
    "## Search process\n",
    "  1. Check the field type \n",
    "  2. Analyze the query string \n",
    "  3. Find matching docs \n",
    "  4. Score each doc"
   ]
  },
  {
   "cell_type": "markdown",
   "metadata": {},
   "source": [
    "## Queries\n",
    "\n",
    "  - Term queries - (term) are not analyzed before matching the field. Consider if they could be filters\n",
    "  - Full text queries (match) - analysys depends on the type of the field\n",
    "       - numbers and dates \n",
    "       - String (not analyzed) \n",
    "       - Full text queries - use the analysis in the mapping\n",
    "       \n",
    "  - Fuzzy queries - match the term and similar terms  "
   ]
  },
  {
   "cell_type": "markdown",
   "metadata": {},
   "source": [
    "## Queries II \n",
    "\n",
    "  - Boolean queries - we can combine queries with boolean values \n",
    "  - Boost queries - we can modify the importance of certain terms \n",
    "  "
   ]
  },
  {
   "cell_type": "markdown",
   "metadata": {},
   "source": [
    "## Phrase queries\n",
    "\n",
    "  aka . Proximity queries\n",
    "  \n",
    "  * match_phrase - requires indexing positions in documents \n",
    "  * slop - match\n",
    "  * Proximity is included in the relevance score\n",
    "  * Can be combined to other queries \n",
    "  * Phrase and proximity queries are more expensive\n",
    "  \n",
    "### Multivalued fields \n",
    "  * allow to add gaps to avoid false positives\n",
    "  * define in the mapping\n",
    "\n",
    "### Index bigrams (shingles) \n",
    "  * Consider as an option to phrase queries\n"
   ]
  },
  {
   "cell_type": "markdown",
   "metadata": {},
   "source": [
    "## Partial matching\n",
    "  \n",
    "  \n",
    "At query time: \n",
    "  - Prefix queries\n",
    "  - wildcards\n",
    "  - regexp\n",
    "  \n",
    "  - match phrase prefix\n",
    "  \n",
    "At index time:  \n",
    "  -ngrams indexing \n",
    "\n",
    "\n"
   ]
  },
  {
   "cell_type": "markdown",
   "metadata": {},
   "source": [
    "## Relevance\n",
    "  - How to sort the documents with respect their relevance to a query - a end user would look only to the top k documents \n",
    "  - Measuring full text relevance: \n",
    "     - Default: TFIDF \n",
    "     - other text similarity measures between strings and documents: Fuzzy similarity \n",
    "  \n",
    "  - We can take into account other relevance measures\n",
    "     - Time - recency\n",
    "     - Location - proximity\n",
    "     - Other numerical fields\n",
    "  - Difference with databases: algorithms are adapted to sort and get top k documents. \n",
    "  \n",
    "  "
   ]
  },
  {
   "cell_type": "markdown",
   "metadata": {},
   "source": [
    "## Relevance: TFIDF\n",
    "\n"
   ]
  },
  {
   "cell_type": "markdown",
   "metadata": {},
   "source": [
    "## Re-Scoring"
   ]
  },
  {
   "cell_type": "markdown",
   "metadata": {},
   "source": [
    "## Multifield search\n",
    "  \n",
    "Motivation: \n",
    "\n",
    "  * Different uses: \n",
    "    * Match different full text queries in different fields: title and author\n",
    "    * Order and bool queries impact, boosting may also be used\n",
    "    \n",
    "    * Tuning: \n",
    "       * dis_max - selecting the score of the best fields\n",
    "       * tie_breaker\n",
    "       * multi_match - helper to direct the same query to different fields\n",
    "       * we can select fields by using regular expressions \n",
    "       * cross fields entity search\n",
    "       \n",
    "   * best fields \n",
    "   * most fields \n",
    "   * cross fields \n",
    "   \n",
    "       "
   ]
  },
  {
   "cell_type": "code",
   "execution_count": null,
   "metadata": {
    "collapsed": true
   },
   "outputs": [],
   "source": []
  }
 ],
 "metadata": {
  "kernelspec": {
   "display_name": "Python 2",
   "language": "python",
   "name": "python2"
  },
  "language_info": {
   "codemirror_mode": {
    "name": "ipython",
    "version": 2
   },
   "file_extension": ".py",
   "mimetype": "text/x-python",
   "name": "python",
   "nbconvert_exporter": "python",
   "pygments_lexer": "ipython2",
   "version": "2.7.10"
  }
 },
 "nbformat": 4,
 "nbformat_minor": 0
}
