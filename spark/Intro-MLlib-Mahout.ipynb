{
 "cells": [
  {
   "cell_type": "markdown",
   "metadata": {
    "slideshow": {
     "slide_type": "slide"
    }
   },
   "source": [
    "#### Introducción a \n",
    "\n",
    "# Spark MLLib y Mahout\n",
    "\n",
    "\n",
    "\n",
    "\n",
    "César de Pablo\n",
    "\n",
    "@zdepablo"
   ]
  },
  {
   "cell_type": "markdown",
   "metadata": {
    "slideshow": {
     "slide_type": "slide"
    }
   },
   "source": [
    "## Data Science - Flujo de trabajo\n",
    "\n",
    " - Construccion de los modelos \n",
    "    - Exploracion \n",
    "    - Construcción de características \n",
    "    - Entrenamiento de modelos\n",
    "    - Evaluación y seleccion del modelo \n",
    " - Puesta en produccion de modelos \n",
    "    - Optimización de las características \n",
    "    - Desplegar modelo/predicciones \n",
    "    - Evaluacion en vivo \n",
    "    - Mantenimiento, versionado, etc..."
   ]
  },
  {
   "cell_type": "markdown",
   "metadata": {
    "slideshow": {
     "slide_type": "slide"
    }
   },
   "source": [
    "## Data Science - Flujo de trabajo\n",
    "\n",
    "<img src=\"./img/DataScience-Flujo.jpg\" width=\"800\">"
   ]
  },
  {
   "cell_type": "markdown",
   "metadata": {
    "slideshow": {
     "slide_type": "slide"
    }
   },
   "source": [
    "## Data Science con Big Data - arquitectura \"típica\"\n",
    "\n",
    "<img src=\"./img/Arquitectura-DS-Server.jpg\" width=\"800\">"
   ]
  },
  {
   "cell_type": "markdown",
   "metadata": {
    "slideshow": {
     "slide_type": "slide"
    }
   },
   "source": [
    "## Tareas básicas de aprendizaje automático\n",
    "\n",
    "- Regresión\n",
    "- Clasificación  \n",
    "- Descubrimiento de grupos (Clustering) \n",
    "- Reducción de dimensiones \n",
    "- Recomendación\n",
    "- Reglas de asociacion"
   ]
  },
  {
   "cell_type": "markdown",
   "metadata": {
    "slideshow": {
     "slide_type": "slide"
    }
   },
   "source": [
    "## Entrenamiento\n",
    "\n",
    "<img src=\"./img/ModelTraining.jpg\" width=\"800\">"
   ]
  },
  {
   "cell_type": "markdown",
   "metadata": {
    "slideshow": {
     "slide_type": "slide"
    }
   },
   "source": [
    "## Evaluación\n",
    "\n",
    "<img src=\"./img/ModelTraining-2.jpg\" width=\"800\">"
   ]
  },
  {
   "cell_type": "markdown",
   "metadata": {
    "slideshow": {
     "slide_type": "slide"
    }
   },
   "source": [
    "## Evaluación - Validacion cruzada\n",
    "\n",
    "<img src=\"./img/ModelTraining-3.jpg\" width=\"800\">"
   ]
  },
  {
   "cell_type": "markdown",
   "metadata": {
    "slideshow": {
     "slide_type": "slide"
    }
   },
   "source": [
    "## Ejemplos de *stacks* para Data Science\n",
    "\n",
    "<img src=\"./img/DS-stacks.jpg\" width=\"800\">"
   ]
  },
  {
   "cell_type": "markdown",
   "metadata": {
    "slideshow": {
     "slide_type": "slide"
    }
   },
   "source": [
    "### Escalando ML - Distribuir el entrenamiento de los modelos\n",
    "\n",
    "<img src=\"./img/ScalingML-1.jpg\" width=\"800\">"
   ]
  },
  {
   "cell_type": "markdown",
   "metadata": {
    "slideshow": {
     "slide_type": "slide"
    }
   },
   "source": [
    "### Escalando ML - Distribuir la selección del modelo\n",
    "\n",
    "<img src=\"./img/ScalingML-2.jpg\" width=\"800\">"
   ]
  },
  {
   "cell_type": "markdown",
   "metadata": {
    "slideshow": {
     "slide_type": "slide"
    }
   },
   "source": [
    "### Escalando ML -  Algoritmos apropiados para escalar - Batch vs Online\n",
    "\n",
    "<img src=\"./img/ScalingML-3.jpg\" width=\"800\">"
   ]
  },
  {
   "cell_type": "markdown",
   "metadata": {
    "slideshow": {
     "slide_type": "slide"
    }
   },
   "source": [
    "### Escalando ML - Adaptar algoritmos para distribución de datos\n",
    "\n",
    "<img src=\"./img/ScalingML-4.jpg\" width=\"800\">"
   ]
  },
  {
   "cell_type": "markdown",
   "metadata": {
    "slideshow": {
     "slide_type": "slide"
    }
   },
   "source": [
    "### Escalando ML* - Model averaging\n",
    "\n",
    "<img src=\"./img/ScalingML-5.jpg\" width=\"800\">\n",
    "\n",
    "* No propiamente distribución"
   ]
  },
  {
   "cell_type": "markdown",
   "metadata": {
    "slideshow": {
     "slide_type": "slide"
    }
   },
   "source": [
    "## Puesta en producción\n",
    "\n",
    " - Cada aplicación puede suponer un escenario diferente\n",
    " - Ejemplos: \n",
    "    - Clasificador de noticias: (online) - etiqueta una nueva noticia según se ingesta \n",
    "    - Recomendador de música (Spotify) (offline) - semanalmente genera una lista de canciones recomendadas. "
   ]
  },
  {
   "cell_type": "markdown",
   "metadata": {
    "slideshow": {
     "slide_type": "slide"
    }
   },
   "source": [
    "## Puesta en producción (II)\n",
    "- Es necesario optimizar: \n",
    "    - fase de prediccion del algoritmo de aprendizaje \n",
    "    - generación de características\n",
    "    - \"interfaz\" entre aplicacion y sistema"
   ]
  },
  {
   "cell_type": "markdown",
   "metadata": {
    "slideshow": {
     "slide_type": "slide"
    }
   },
   "source": [
    "## Spark MLlib\n",
    "\n",
    " - Biblioteca de aprendizaje automático sobre Spark\n",
    " - Desarrollada en Scala\n",
    " - API Disponible para Scala, Java, Python, (R)\n",
    " - Última version 1.6.0 (Marzo 2016) \n",
    " - Activamente desarrollada\n",
    " - Proporciona principalmente: \n",
    "      - algoritmos de ML\n",
    "      - estructuras de datos escalables\n",
    "      - algoritmos de optimización\n",
    " - Algunas utilidades de estadística descriptiva \n",
    " - Utilidades para la evaluación de modelos\n",
    " "
   ]
  },
  {
   "cell_type": "markdown",
   "metadata": {
    "slideshow": {
     "slide_type": "slide"
    }
   },
   "source": [
    "### MLLIB - Algoritmos - Aprendizaje supervisado\n",
    "\n",
    "| Regresión               | Clasificación          | Recomendación             |\n",
    "|-------------------------|------------------------|---------------------------|\n",
    "| Regresión lineal        | Regresion logística    | Alternating Least Squares |\n",
    "| Support Vector Machines | Support Vector Machines|                           |\n",
    "| Arboles de decision     | Arboles de decision    |                           |\n",
    "| Random Forests          | Random Forest          |                           |\n",
    "| Gradient Boosted Trees  | Gradient Boosted Trees |                           |  \n",
    "| Isotonic Regression     | Naive Bayes            |                           |"
   ]
  },
  {
   "cell_type": "markdown",
   "metadata": {
    "slideshow": {
     "slide_type": "slide"
    }
   },
   "source": [
    "### MLLIB - Algoritmos - Aprendizaje no supervisado\n",
    "\n",
    "| Clustering                  | Reduccion de dimensiones     | Reglas de asociación | \n",
    "|-----------------------------|------------------------------|----------------------|\n",
    "| K-means                     | Singular Value Decomposition | Association rules    |\n",
    "| Bisecting K-means           | Principal Component Analysis | FP-growth            |\n",
    "| Streaming K-means           |                              | PrefixSpan           |\n",
    "| Gaussian Mixture            |                              |                      |\n",
    "| Power Iteration Clustering  |                              |                      |\n",
    "| Latent Dirichlet Allocation |                              |                      |\n",
    "\n",
    "\n"
   ]
  },
  {
   "cell_type": "markdown",
   "metadata": {
    "slideshow": {
     "slide_type": "subslide"
    }
   },
   "source": [
    "### MLlib - Estructuras de datos\n",
    " - RDD (Resilient Distributed Datasets - Spark) \n",
    " - Vector \n",
    " - Matrix \n",
    " - Dataframes (Spark) - desde 1.5 aprox. estables\n",
    " - Dataset - desde 1.6 "
   ]
  },
  {
   "cell_type": "markdown",
   "metadata": {
    "slideshow": {
     "slide_type": "subslide"
    }
   },
   "source": [
    "### Vector (local) \n",
    " - vector de doubles almacenado en una máquina local\n",
    " - indizado por enteros empezando en 0 \n",
    " \n",
    "#### DenseVector - array de double \n",
    "   [1.0, 0.0, 3.0]\n",
    "   \n",
    "#### SparseVector -  para vectores donde muchos valores son cero \n",
    "   (3, [0,2] , [1.0, 3.0] )  \n",
    "\n",
    "#### LabeledPoint - Vector + Label "
   ]
  },
  {
   "cell_type": "markdown",
   "metadata": {
    "slideshow": {
     "slide_type": "subslide"
    }
   },
   "source": [
    "### Matrix (Local) \n",
    " - vector de doubles almacenado en una máquina local\n",
    " - indizado por filas y columnas, enteros empezando en 0 \n",
    "\n",
    "### DenseMatrix\n",
    "\n",
    "### SparseMatrix \n",
    "  - CSC (Compressed Sparse Column)\n",
    "  "
   ]
  },
  {
   "cell_type": "markdown",
   "metadata": {
    "slideshow": {
     "slide_type": "slide"
    }
   },
   "source": [
    "### Distributed Matrix\n",
    " - vector de doubles almacenado en uno o varios RDD\n",
    " - indizado por filas y columnas, longs empezando en 0 \n",
    " - convertir una matriz a otro formato puede ser costoso - global shuffle"
   ]
  },
  {
   "cell_type": "markdown",
   "metadata": {
    "slideshow": {
     "slide_type": "slide"
    }
   },
   "source": [
    "### RowMatrix  \n",
    " - una coleccion de vectores en un RDD \n",
    " - asume un numero de columnas razonablemente pequeño para operar/comunicar \n",
    "\n",
    "### Indexed RowMatrix\n",
    " - IndexedRowMatrix - indices de fila para hacer joins "
   ]
  },
  {
   "cell_type": "markdown",
   "metadata": {
    "slideshow": {
     "slide_type": "subslide"
    }
   },
   "source": [
    "### CoordinateMatrix\n",
    "  - Coordinate list (row, column, value) en un RDD \n",
    "  \n",
    "### BlockMatrix \n",
    "  -  MatrixBlocks en un RDD (int,int, MatrixBlock) \n",
    "  - multiply using map reduce"
   ]
  },
  {
   "cell_type": "markdown",
   "metadata": {
    "slideshow": {
     "slide_type": "slide"
    }
   },
   "source": [
    "## Ratings\n",
    " - Estructura especifica para recomendadores\n",
    " - Se suele almacenar en un RDD de Ratings \n",
    " - Similar a la info de CoordinateMatrix - es una tupla (usuario, item, rating)\n"
   ]
  },
  {
   "cell_type": "markdown",
   "metadata": {
    "slideshow": {
     "slide_type": "subslide"
    }
   },
   "source": [
    "## Dataframe (Spark + spark.ml)\n",
    " - estructura usada en Spark SQL (1.2+)  \n",
    " - coleccion distribuida de datos organizada en columnas con nonbres\n",
    " - tabla relacional o dataframe R/Python b\n",
    " - se puede construir desde CSV, tablas de Hive o DBs o RDDs\n",
    " - Disponible en Scala, Java, Python o R \n",
    " - no es tipado"
   ]
  },
  {
   "cell_type": "markdown",
   "metadata": {
    "slideshow": {
     "slide_type": "subslide"
    }
   },
   "source": [
    "## Datasets\n",
    " - nuevo en 1.6 \n",
    " - Coleccion distribuida\n",
    " - Permite las operaciones de un Dataframe \n",
    " - Es tipado como los RDD\n",
    " - Algunas operaciones como el filtrado, ordenacion o hashing se pueden realizar sin deserializar. "
   ]
  },
  {
   "cell_type": "markdown",
   "metadata": {
    "slideshow": {
     "slide_type": "slide"
    }
   },
   "source": [
    "## ML Pipelines\n",
    " - Disponibles en beta desde 1.2+\n",
    " - Combinar y estandarizar la aplicacion de transformaciones y múltiples algoritmos \n",
    " - Construido sobre los Dataframes"
   ]
  },
  {
   "cell_type": "markdown",
   "metadata": {
    "slideshow": {
     "slide_type": "slide"
    }
   },
   "source": [
    "### Transformer \n",
    "  - un algoritmo que transforma un DataFrame en otro DataFrame\n",
    "    - Modelos ML : DataFrame con carteristicas en DataFrame con predicciones \n",
    "    - Transformación de características: DataFrame con características en DataFrame con características\n",
    "       - TF, IDF, Normalización...   "
   ]
  },
  {
   "cell_type": "markdown",
   "metadata": {
    "slideshow": {
     "slide_type": "slide"
    }
   },
   "source": [
    "### Estimator \n",
    "  - un algoritmo que estima un modelo a partir de un DataFrame \n",
    "  - Algoritmos ML: entrenar un modelo  \n",
    "  - Transformación de características: la transformación requiere parámetros del conjunto de datos\n",
    "    - Ejemplo: normalización puede requerir máximo y mínimo\n",
    "  - Produce un modelo (**Transformer**) que se puede aplicar a DataFrames similares\n",
    "  - fit/transform"
   ]
  },
  {
   "cell_type": "markdown",
   "metadata": {
    "slideshow": {
     "slide_type": "subslide"
    }
   },
   "source": [
    "### Pipelines \n",
    "  - Secuencia de transformaciones (Transformer) y estimadores que aplicar a un DataFrame\n",
    "  - Cada secuencia es un *stage*\n",
    "  - Pipeline can contain other Pipeline\n",
    "  - Se pueden pasar parámetros a cada una de los estimadores de un pipeline y evaluar (Evaluator, CV )  "
   ]
  },
  {
   "cell_type": "markdown",
   "metadata": {
    "slideshow": {
     "slide_type": "slide"
    }
   },
   "source": [
    "## Apache Mahout\n",
    "\n",
    " - Conjunto de librerias de aprendizaje automático escalable\n",
    " - Proyecto creado en 2008 como parte de Apache Lucene \n",
    " - Desarrollado inicialmente en Java \n",
    " - Ultima version: 0.11.2 - Marzo de 2016  \n",
    " - Actualmente es un poco cajon de sastre:\n",
    "    - Algoritmos en memoria - Recomendadores por filtrado colaborativo\n",
    "    - Algoritmos Map/Reduce \n",
    "    - Algoritmos en memoria distribuida (Spark, H20, Flink)\n",
    "    - Entorno de algebra matricial en memoria distribuida (Samsara)  \n",
    "    \n",
    "https://mahout.apache.org/users/basics/algorithms.html"
   ]
  },
  {
   "cell_type": "markdown",
   "metadata": {
    "slideshow": {
     "slide_type": "subslide"
    }
   },
   "source": [
    "## Mahout MapReduce\n",
    " - Implementaciones escalables de algoritmos de clasificacion, clustering y recomendacion\n",
    " - Usan HDFS (SequenceFile) como origen, destino y almacenamiento intermedio de datos \n",
    " - Algoritmos escalables: \n",
    "    - Clasificacion: NaiveBayes, RandomForest \n",
    "    - Clustering : K-means, Spectral Clustering  \n",
    "    - Recomendación : Item-based, SVD \n",
    " - Utilidades para extraer características - principalmente de colecciones de texto\n",
    " - Exponen como utilidades en linea de comandos\n"
   ]
  },
  {
   "cell_type": "markdown",
   "metadata": {
    "slideshow": {
     "slide_type": "subslide"
    }
   },
   "source": [
    "### (Mahout) MapReduce\n",
    "\n",
    " - **Principal ventaja**: escalan a grandes grandes volumenes de datos, mucho mayor que la memoria disponible\n",
    " - **Principal problema**: muchos algoritmos son iterativos, requieren escribir a disco cada iteración \n",
    " "
   ]
  },
  {
   "cell_type": "markdown",
   "metadata": {
    "slideshow": {
     "slide_type": "subslide"
    }
   },
   "source": [
    "## Ejemplo K-means\n",
    "\n",
    "<img src=\"./img/Kmeans-MapReduce-1.jpg\" width=\"800\">"
   ]
  },
  {
   "cell_type": "markdown",
   "metadata": {
    "slideshow": {
     "slide_type": "subslide"
    }
   },
   "source": [
    "### K-means Map Reduce \n",
    "\n",
    "<img src=\"./img/Kmeans-MapReduce-2.jpg\" width=\"800\">"
   ]
  }
 ],
 "metadata": {
  "celltoolbar": "Slideshow",
  "kernelspec": {
   "display_name": "Python 2",
   "language": "python",
   "name": "python2"
  },
  "language_info": {
   "codemirror_mode": {
    "name": "ipython",
    "version": 2
   },
   "file_extension": ".py",
   "mimetype": "text/x-python",
   "name": "python",
   "nbconvert_exporter": "python",
   "pygments_lexer": "ipython2",
   "version": "2.7.10"
  }
 },
 "nbformat": 4,
 "nbformat_minor": 0
}
