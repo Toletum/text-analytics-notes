{
 "cells": [
  {
   "cell_type": "markdown",
   "metadata": {},
   "source": [
    "#### Introduccion a \n",
    "#Spark Mllib y Mahout"
   ]
  },
  {
   "cell_type": "markdown",
   "metadata": {},
   "source": [
    "## Data Science"
   ]
  },
  {
   "cell_type": "markdown",
   "metadata": {},
   "source": [
    "## Data Science - Proceso"
   ]
  },
  {
   "cell_type": "markdown",
   "metadata": {},
   "source": [
    "## Tareas básicas de aprendizaje automático\n",
    "\n",
    "- Clasificación \n",
    "- Regresión\n",
    "- Descubrimiento de grupos \n",
    "- Reducción de dimensiones \n",
    "- Recomendación\n",
    "- Reglas de asociacion"
   ]
  },
  {
   "cell_type": "markdown",
   "metadata": {},
   "source": [
    "## Data Science - Flujo de trabajo\n",
    "\n",
    " - Construccion de los modelos \n",
    "    - Exploracion \n",
    "    - Construcción de características \n",
    "    - Entrenamiento de modelos\n",
    "    - Evaluación y seleccion del modelo \n",
    " - Puesta en produccion de modelos \n",
    "    - Optimización de las características \n",
    "    - Desplegar modelo/predicciones \n",
    "    - Evaluacion en vivo \n",
    "    - Mantenimiento, versionado, etc..."
   ]
  },
  {
   "cell_type": "markdown",
   "metadata": {},
   "source": [
    "## Entrenamiento"
   ]
  },
  {
   "cell_type": "markdown",
   "metadata": {},
   "source": [
    "## Evaluación"
   ]
  },
  {
   "cell_type": "markdown",
   "metadata": {},
   "source": [
    "## Validacion cruzada"
   ]
  },
  {
   "cell_type": "markdown",
   "metadata": {},
   "source": [
    "### Escalando ML - Distribuir la selección del modelo"
   ]
  },
  {
   "cell_type": "markdown",
   "metadata": {},
   "source": [
    "### Escalando ML -  Distribuir algoritmos"
   ]
  },
  {
   "cell_type": "markdown",
   "metadata": {},
   "source": [
    "### Escalando ML - Distribuir datos"
   ]
  },
  {
   "cell_type": "markdown",
   "metadata": {},
   "source": [
    "## Puesta en produccion"
   ]
  },
  {
   "cell_type": "markdown",
   "metadata": {},
   "source": [
    "## Panorama de *stacks* para Data Science"
   ]
  },
  {
   "cell_type": "markdown",
   "metadata": {},
   "source": [
    "## Spark MLlib\n",
    "\n",
    " - Biblioteca de aprendizaje automático sobre Spark\n",
    " - Desarrollada en Scala\n",
    " - API Disponible para Scala, Java, Python (R)\n",
    " - Última version 1.6.0 (Marzo 2016) \n",
    " - Activamente desarrollada\n",
    " - Proporciona principalmente: \n",
    "      - algoritmos de ML\n",
    "      - estructuras de datos escalables\n",
    "      - algoritmos de optimización\n",
    " - Algunas utilidades estadísticas y para evaluacion\n",
    " - No es ideal para poner en produccion online"
   ]
  },
  {
   "cell_type": "markdown",
   "metadata": {},
   "source": [
    "### MLLIB - Algoritmos\n",
    "  - Esdatística descriptiva \n",
    "  - Support Vector Machines (C,R) \n",
    "  - Regresion lineal (R) \n",
    "  - Regresion Lógistica (C) \n",
    "  - Naive Bayes (C) \n",
    "  - Árboles de decision (C,R) y *emsembles*: Random Forests, Gradient Boostes Trees\n",
    "  - Isotonic regression \n",
    "  - Alternating least squares (Rec) \n",
    "  - k-means (Clus) - tradicional, bisecting, streaming \n",
    "  - Gaussian mixture (Clus)\n",
    "  - Power iteration clustering (Clus)\n",
    "  - Latent Dirichlet allocation (Clus)\n",
    "  - Singular value decomposition (DR)\n",
    "  - Principal component analysis (DR)\n",
    "  - FP-growth (A) \n",
    "  - Association rules (A)\n",
    "  - PrefixSpan (A)"
   ]
  },
  {
   "cell_type": "markdown",
   "metadata": {},
   "source": [
    "### MLlib - Estructuras de datos\n",
    " - RDD (Resilient Distributed Datasets - Spark) \n",
    " - Vector \n",
    " - Matrix \n",
    " - Dataframes (Spark)\n",
    " - Dataset"
   ]
  },
  {
   "cell_type": "markdown",
   "metadata": {},
   "source": [
    "### Vector (local) \n",
    " - vector de doubles almacenado en una máquina local\n",
    " - indizado por enteros empezando en 0 \n",
    " \n",
    "#### DenseVector - array de double \n",
    "   [1.0, 0.0, 3.0]\n",
    "   \n",
    "#### SparseVector -  para vectores donde muchos valores son cero \n",
    "   (3, [0,2] , [1.0, 3.0] )  \n",
    "\n",
    "#### LabeledPoint - Vector + Label "
   ]
  },
  {
   "cell_type": "markdown",
   "metadata": {},
   "source": [
    "### Matrix (Local) \n",
    " - vector de doubles almacenado en una máquina local\n",
    " - indizado por filas y columnas, enteros empezando en 0 \n",
    "\n",
    "### DenseMatrix\n",
    "\n",
    "### SparseMatrix \n",
    "  - CSC (Compressed Sparse Column)\n",
    "  "
   ]
  },
  {
   "cell_type": "markdown",
   "metadata": {},
   "source": [
    "### Distributed Matrix\n",
    " - vector de doubles almacenado en uno o varios RDD\n",
    " - indizado por filas y columnas, longs empezando en 0 \n",
    " - convertir una matriz a otro formato puede ser costoso - global shuffle\n",
    " \n",
    "### RowMatrix  \n",
    " - una coleccion de vectores en un RDD \n",
    " - asume un numero de columnas razonablemente pequeño para operar/comunicar \n",
    "\n",
    "### Indexed RowMatrix\n",
    " - IndexedRowMatrix - indices de fila para hacer joins \n",
    "\n",
    "### CoordinateMatrix\n",
    "  - Coordinate list (row, column, value) en un RDD \n",
    "  \n",
    "### BlockMatrix \n",
    "  -  MatrixBlocks en un RDD (int,int, MatrixBlock) \n",
    "  - multiply using map reduce"
   ]
  },
  {
   "cell_type": "markdown",
   "metadata": {},
   "source": [
    "## Dataframe (Spark + spark.ml)\n",
    " - estructura usada en Spark SQL \n",
    " - coleccion distribuida de datos organizada en columnas con nonbres\n",
    " - tabla relacional o dataframe R/Python \n",
    " - se puede construir desde CSV, tablas de Hive o DBs o RDDs\n",
    " - Disponible en Scala, Java, Python o R \n",
    " - no es tipado"
   ]
  },
  {
   "cell_type": "markdown",
   "metadata": {},
   "source": [
    "## Datasets\n",
    " - nuevo en 1.6 \n",
    " - Coleccion distribuida\n",
    " - Permite las operaciones de un Dataframe \n",
    " - Es tipado como los RDD\n",
    " - Algunas operaciones como el filtrado, ordenacion o hashing se pueden realizar sin desearilzar. "
   ]
  },
  {
   "cell_type": "markdown",
   "metadata": {},
   "source": [
    "## Pipelines\n",
    " - Combinar y estandarizar la aplicacion de transaformaciones y multiples algoritmos \n",
    " - Construido sobre los Dataframes\n",
    "\n",
    "### Transforner \n",
    "  - un algoritmo que transforma un DataFrame en otro DataFrame\n",
    "    - ML algorithm : DataFrame con caracteristicas en DataFrame con predicciones \n",
    "    - Fetature transformation \n",
    "\n",
    "### Estimator \n",
    "\n",
    "### Pipelines \n",
    " \n",
    "\n"
   ]
  },
  {
   "cell_type": "markdown",
   "metadata": {},
   "source": [
    "## Mahout"
   ]
  }
 ],
 "metadata": {
  "celltoolbar": "Slideshow",
  "kernelspec": {
   "display_name": "Python 2",
   "language": "python",
   "name": "python2"
  },
  "language_info": {
   "codemirror_mode": {
    "name": "ipython",
    "version": 2
   },
   "file_extension": ".py",
   "mimetype": "text/x-python",
   "name": "python",
   "nbconvert_exporter": "python",
   "pygments_lexer": "ipython2",
   "version": "2.7.6"
  }
 },
 "nbformat": 4,
 "nbformat_minor": 0
}
